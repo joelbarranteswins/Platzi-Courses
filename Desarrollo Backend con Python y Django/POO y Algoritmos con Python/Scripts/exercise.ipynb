{
  "cells": [
    {
      "cell_type": "markdown",
      "metadata": {
        "id": "JHARQoWl_SRu"
      },
      "source": [
        "# Programación Orientada a Objetos"
      ]
    },
    {
      "cell_type": "markdown",
      "metadata": {
        "id": "vaO6a5C1_gWe"
      },
      "source": [
        "## Tipos de datos abstractos y clases, Instancias"
      ]
    },
    {
      "cell_type": "markdown",
      "metadata": {
        "id": "CYwFSrH-DqqD"
      },
      "source": [
        "### Ejemplo 1"
      ]
    },
    {
      "cell_type": "code",
      "execution_count": null,
      "metadata": {
        "id": "IPtI3KQw_lfN"
      },
      "outputs": [],
      "source": [
        "class Persona:\n",
        "  def __init__(self, nombre, edad):\n",
        "    self.nombre = nombre\n",
        "    self.edad = edad\n",
        "\n",
        "  def saluda(self, otra_persona):\n",
        "    return f'Hola {otra_persona.nombre}, me llamo {self.nombre}.'"
      ]
    },
    {
      "cell_type": "code",
      "execution_count": null,
      "metadata": {
        "colab": {
          "base_uri": "https://localhost:8080/",
          "height": 34
        },
        "id": "FWS60AunA003",
        "outputId": "f1dd8e48-dab1-4afb-d58c-1a7d6a0b0d27"
      },
      "outputs": [
        {
          "data": {
            "text/plain": [
              "'Hola Erika, me llamo David.'"
            ]
          },
          "execution_count": 2,
          "metadata": {
            "tags": []
          },
          "output_type": "execute_result"
        }
      ],
      "source": [
        "david = Persona('David', 35)\n",
        "erika = Persona('Erika', 32)\n",
        "\n",
        "david.saluda(erika)"
      ]
    },
    {
      "cell_type": "markdown",
      "metadata": {
        "id": "PEyciKkWDuJK"
      },
      "source": [
        "### Ejemplo 2"
      ]
    },
    {
      "cell_type": "code",
      "execution_count": null,
      "metadata": {
        "colab": {
          "base_uri": "https://localhost:8080/",
          "height": 50
        },
        "id": "m3pYYPkGD0cC",
        "outputId": "9f3637cc-27d5-4313-df68-eb9adb3f53f9"
      },
      "outputs": [
        {
          "name": "stdout",
          "output_type": "stream",
          "text": [
            "22.02271554554524\n",
            "True\n"
          ]
        }
      ],
      "source": [
        "class Coordenada:\n",
        "  \n",
        "  def __init__(self, x, y):\n",
        "    self.x = x\n",
        "    self.y = y\n",
        "  \n",
        "  def distancia(self, otra_coordenada):\n",
        "    x_dif = (self.x - otra_coordenada.x)**2\n",
        "    y_dif = (self.y - otra_coordenada.y)**2\n",
        "\n",
        "    return (x_dif + y_dif)**0.5\n",
        "\n",
        "if __name__ == '__main__':\n",
        "  coord_1 = Coordenada(3, 30)\n",
        "  coord_2 = Coordenada(4, 8)\n",
        "\n",
        "  print(coord_1.distancia(coord_2))\n",
        "  print(isinstance(coord_2, Coordenada))"
      ]
    },
    {
      "cell_type": "markdown",
      "metadata": {
        "id": "CMxKi-Edn6si"
      },
      "source": [
        "## Decomposición"
      ]
    },
    {
      "cell_type": "markdown",
      "metadata": {
        "id": "SixtQa_ZoDjR"
      },
      "source": [
        "### Ejemplo 1"
      ]
    },
    {
      "cell_type": "code",
      "execution_count": null,
      "metadata": {
        "id": "QxIrNYtBn9yh"
      },
      "outputs": [],
      "source": [
        "class Automovil:\n",
        "\n",
        "  def __init__(self, modelo, marca, color):\n",
        "    self.modelo = modelo\n",
        "    self.marca = marca\n",
        "    self.color = color\n",
        "    #Variable privada\n",
        "    self._estado = 'en_reposo'\n",
        "    self._motor = Motor(cilindros=4)\n",
        "\n",
        "  def acelerar(self, tipo='despacio'):\n",
        "    if tipo == 'rapida':\n",
        "      self._motor.inyecta_gasolina(10)\n",
        "    else:\n",
        "      self._motor.inyecta_gasolina(3)\n",
        "\n",
        "    self.estado = 'en_movimiento'\n",
        "\n",
        "class Motor:\n",
        "  def __init__(self, cilindros, tipo='gasolina'):\n",
        "    self.cilindros = cilindros\n",
        "    self.tipo = tipo\n",
        "    self._temperatura = 0\n",
        "  \n",
        "  def inyecta_gasolina(self, cantidad):\n",
        "    pass"
      ]
    },
    {
      "cell_type": "markdown",
      "metadata": {
        "id": "bUDlA8kTq4Og"
      },
      "source": [
        "## Abstracción"
      ]
    },
    {
      "cell_type": "markdown",
      "metadata": {
        "id": "NTEEpaal86hC"
      },
      "source": [
        "No nos importa los detalles técnicos ni como funciona lo que no es importante.\n",
        "En programación lo podemos ver como una interfaz. \n",
        "\n",
        "- Enfocarnos en la información relevante.\n",
        "- Separar la información central de los detalles secundarios.\n",
        "- Podemos utilizar variables y métodos (privados o públicos)"
      ]
    },
    {
      "cell_type": "markdown",
      "metadata": {
        "id": "gdQ2GcwGq98_"
      },
      "source": [
        "### Ejemplo 1"
      ]
    },
    {
      "cell_type": "code",
      "execution_count": null,
      "metadata": {
        "colab": {
          "base_uri": "https://localhost:8080/",
          "height": 84
        },
        "id": "IU-9pZHkrA2O",
        "outputId": "8b3274fe-9ec0-4fe6-e10d-257cb8e9fc24"
      },
      "outputs": [
        {
          "name": "stdout",
          "output_type": "stream",
          "text": [
            "Llenado el tanque con agua caliente\n",
            "Anadiendo Jabon\n",
            "Lavando la ropa\n",
            "Centrifugando la ropa\n"
          ]
        }
      ],
      "source": [
        "class Lavadora:\n",
        "\n",
        "  def __init__(self):\n",
        "    pass\n",
        "  def lavar(self, temperatura='caliente'):\n",
        "    self._llenar_tanque_de_agua(temperatura)\n",
        "    self._anadir_jabon()\n",
        "    self._lavar()\n",
        "    self._centrifugar()\n",
        "\n",
        "  def _llenar_tanque_de_agua(self, temperatura):\n",
        "    print(f'Llenado el tanque con agua {temperatura}')\n",
        "\n",
        "  def _anadir_jabon(self):\n",
        "    print('Anadiendo Jabon')\n",
        "\n",
        "  def _lavar(self):\n",
        "    print('Lavando la ropa')\n",
        "\n",
        "  def _centrifugar(self):\n",
        "    print('Centrifugando la ropa')\n",
        "\n",
        "if __name__== '__main__':\n",
        "  lavadora = Lavadora()\n",
        "  lavadora.lavar()"
      ]
    },
    {
      "cell_type": "markdown",
      "metadata": {
        "id": "s7t6JcHXwbP8"
      },
      "source": [
        "## Encapsulación"
      ]
    },
    {
      "cell_type": "code",
      "execution_count": null,
      "metadata": {
        "colab": {
          "base_uri": "https://localhost:8080/",
          "height": 50
        },
        "id": "wWOsXeRQwkKz",
        "outputId": "244b61e7-4c10-43fa-bf1c-d6c6081623a3"
      },
      "outputs": [
        {
          "name": "stdout",
          "output_type": "stream",
          "text": [
            "None\n",
            "Ciudad de Mexico\n"
          ]
        }
      ],
      "source": [
        "class CasillaDeVotacion:\n",
        "\n",
        "  def __init__(self, identificador, pais):\n",
        "    self._identificador = identificador\n",
        "    self._pais = pais\n",
        "    self._region = None\n",
        "\n",
        "  @property\n",
        "  def region(self):\n",
        "    return self._region\n",
        "\n",
        "  @region.setter\n",
        "  def region(self, region):\n",
        "    if region in self._pais:\n",
        "      self._region = region\n",
        "\n",
        "    else:\n",
        "      raise ValueError(f'La region {region} no es valida en {self._pais}')\n",
        "\n",
        "casilla = CasillaDeVotacion(123, ['Ciudad de Mexico', 'Morelos'])\n",
        "print(casilla.region)\n",
        "\n",
        "casilla.region = 'Ciudad de Mexico'\n",
        "print(casilla.region)"
      ]
    },
    {
      "cell_type": "markdown",
      "metadata": {
        "id": "5R_KRXMcWZCp"
      },
      "source": [
        "## Herencia"
      ]
    },
    {
      "cell_type": "markdown",
      "metadata": {
        "id": "w2pfeeyP-HIT"
      },
      "source": [
        "Comparte el comportamiento, nos enfocamos en comportamiento que en realidad importa y tenemos una jerarquía. \n",
        "\n",
        "- Permite modelar una jerarquía de clases.\n",
        "- Permite compartir comportamiento común en la jerarquía.\n",
        "- Al padre se le conoce como superclase y al hijo como subclase. "
      ]
    },
    {
      "cell_type": "code",
      "execution_count": null,
      "metadata": {
        "colab": {
          "base_uri": "https://localhost:8080/",
          "height": 50
        },
        "id": "o4xDJfqlWcoA",
        "outputId": "1da5caa0-9986-4d9f-b5a0-4dabc736901a"
      },
      "outputs": [
        {
          "name": "stdout",
          "output_type": "stream",
          "text": [
            "12\n",
            "25\n"
          ]
        }
      ],
      "source": [
        "class Rectangulo:\n",
        "\n",
        "  def __init__(self, base, altura):\n",
        "    self.base = base\n",
        "    self.altura = altura\n",
        "\n",
        "  def area(self):\n",
        "    return self.base * self.altura \n",
        "\n",
        "class Cuadrado(Rectangulo):\n",
        "  def __init__(self, lado):\n",
        "    super().__init__(lado, lado)\n",
        "\n",
        "if __name__=='__main__':\n",
        "  rectangulo = Rectangulo(base=3, altura=4)\n",
        "  print(rectangulo.area())\n",
        "\n",
        "  cuadrado = Cuadrado(lado=5)\n",
        "  print(cuadrado.area())\n"
      ]
    },
    {
      "cell_type": "markdown",
      "metadata": {
        "id": "Nct6Oo33aqH-"
      },
      "source": [
        "## Polimorfismo"
      ]
    },
    {
      "cell_type": "code",
      "execution_count": null,
      "metadata": {
        "colab": {
          "base_uri": "https://localhost:8080/",
          "height": 50
        },
        "id": "W1VHFl9OappP",
        "outputId": "1770dcf5-78e8-4173-d3a7-30f5261e9b75"
      },
      "outputs": [
        {
          "name": "stdout",
          "output_type": "stream",
          "text": [
            "Ando caminando\n",
            "Ando moviendome en mi bicicleta\n"
          ]
        }
      ],
      "source": [
        "class Persona:\n",
        "  def __init__(self, nombre):\n",
        "    self.nombre = nombre\n",
        "\n",
        "  def avanza(self):\n",
        "    print('Ando caminando')\n",
        "\n",
        "class Ciclista(Persona):\n",
        "  def __init__(self, nombre):\n",
        "    super().__init__(nombre)\n",
        "\n",
        "  def avanza(self):\n",
        "    print('Ando moviendome en mi bicicleta')\n",
        "\n",
        "def main():\n",
        "  persona = Persona('David')\n",
        "  persona.avanza()\n",
        "\n",
        "  ciclista = Ciclista('Daniel')\n",
        "  ciclista.avanza()\n",
        "if __name__ == '__main__':\n",
        "  main()\n",
        "\n"
      ]
    },
    {
      "cell_type": "markdown",
      "metadata": {
        "id": "2NgC7VO0cYUx"
      },
      "source": [
        "# Complejidad algorítmica"
      ]
    },
    {
      "cell_type": "markdown",
      "metadata": {
        "id": "GBSfMxkicfix"
      },
      "source": [
        "## Introducción a la complejidad algorítmica"
      ]
    },
    {
      "cell_type": "markdown",
      "metadata": {
        "id": "uX-xiGvV_ci2"
      },
      "source": [
        "- Comparemos eficiencia entre dos algoritmos y predecir el tiempo de ejecución.\n",
        "- Existe complejidad temporal (tiempo) y espacial (hardware)"
      ]
    },
    {
      "cell_type": "code",
      "execution_count": null,
      "metadata": {
        "colab": {
          "base_uri": "https://localhost:8080/",
          "height": 50
        },
        "id": "oA2Cps2TdtQ2",
        "outputId": "29d84c03-78c7-471c-ff4a-7cf0806b72a1"
      },
      "outputs": [
        {
          "name": "stdout",
          "output_type": "stream",
          "text": [
            "1.430511474609375e-06\n",
            "1.1920928955078125e-06\n"
          ]
        }
      ],
      "source": [
        "import time\n",
        "\n",
        "def factorial(n):\n",
        "  respuesta = 1\n",
        "\n",
        "  while n > 1:\n",
        "    respuesta *= n\n",
        "    n -=1\n",
        "\n",
        "  return respuesta\n",
        "\n",
        "def factorial_r(n):\n",
        "  if n == 1:\n",
        "    return 1\n",
        "\n",
        "  return n * factorial(n-1)\n",
        "\n",
        "if __name__ == '__main__':\n",
        "  n = 1\n",
        "\n",
        "  comienzo = time.time()\n",
        "  factorial(n)\n",
        "  final = time.time()\n",
        "  print(final - comienzo)\n",
        "\n",
        "  comienzo = time.time()\n",
        "  factorial_r(n)\n",
        "  final = time.time()\n",
        "  print(final - comienzo)"
      ]
    },
    {
      "cell_type": "markdown",
      "metadata": {
        "id": "95VqgkviUZyf"
      },
      "source": [
        "## Notación asintótica"
      ]
    },
    {
      "cell_type": "markdown",
      "metadata": {
        "id": "6JX3VerfAfmY"
      },
      "source": [
        "Asintótica: Cuando la entrada tienda a **infinito**.\n",
        "- No importan variaciones pequeñas.\n",
        "- El enfoque se centra en lo que pasa conforme el tamaño del problema se acerca al infinito.\n",
        "- Medir que pasa en el mejor, peor, promedio de los casos.\n",
        "- Solo importa el peor de los casos (termino de mayor tamaño)"
      ]
    },
    {
      "cell_type": "markdown",
      "metadata": {
        "id": "KAoN34sQwQv5"
      },
      "source": [
        "# Algoritmos de búsqueda y ordenación"
      ]
    },
    {
      "cell_type": "markdown",
      "metadata": {
        "id": "_DatEVbnwUfi"
      },
      "source": [
        "## Búsqueda lineal"
      ]
    },
    {
      "cell_type": "code",
      "execution_count": null,
      "metadata": {
        "colab": {
          "base_uri": "https://localhost:8080/",
          "height": 84
        },
        "id": "TGnksBoWwyXq",
        "outputId": "d5df9ad7-9983-4773-ae96-154818f08bd4"
      },
      "outputs": [
        {
          "name": "stdout",
          "output_type": "stream",
          "text": [
            "De que tamano quieres la lista5\n",
            "Que numero quieres encontrar5\n",
            "[28, 4, 56, 89, 34]\n",
            "El elemento 5 no esta\n"
          ]
        }
      ],
      "source": [
        "import random\n",
        "def busqueda_lineal(lista, objetivo):\n",
        "  match = False\n",
        "\n",
        "  for elemento in lista:\n",
        "    if elemento == objetivo:\n",
        "      match = True\n",
        "      break\n",
        "  return match\n",
        "\n",
        "if __name__ == '__main__':\n",
        "  tamano_de_lista = int(input('De que tamano quieres la lista'))\n",
        "  objetivo = int (input('Que numero quieres encontrar'))\n",
        "\n",
        "  lista = [random.randint(0,100) for i in range(tamano_de_lista)]\n",
        "\n",
        "  encontrado = busqueda_lineal(lista, objetivo)\n",
        "  print(lista)\n",
        "  print(f'El elemento {objetivo} {\"esta\" if encontrado else \"no esta\"}')"
      ]
    },
    {
      "cell_type": "markdown",
      "metadata": {
        "id": "vD71DTZTzwrf"
      },
      "source": [
        "## Busqueda Binaria"
      ]
    },
    {
      "cell_type": "code",
      "execution_count": 3,
      "metadata": {
        "id": "nGRKqAvKz1Km"
      },
      "outputs": [
        {
          "name": "stdout",
          "output_type": "stream",
          "text": [
            "buscando 41 entre 0 y 100\n",
            "buscando 41 entre 0 y 52\n",
            "buscando 41 entre 26 y 52\n",
            "buscando 41 entre 41 y 52\n",
            "buscando 41 entre 41 y 46\n",
            "buscando 41 entre 41 y 41\n",
            "Se utilizaron 6 pasos para encontrar 41\n",
            "[0, 2, 2, 4, 6, 6, 7, 8, 10, 10, 10, 11, 11, 13, 15, 15, 18, 19, 20, 20, 20, 21, 21, 23, 24, 26, 27, 28, 28, 29, 29, 31, 33, 34, 36, 37, 40, 40, 41, 43, 45, 46, 49, 49, 49, 50, 51, 51, 52, 53, 54, 55, 56, 56, 58, 59, 61, 63, 63, 65, 66, 67, 67, 69, 72, 72, 72, 73, 73, 74, 74, 75, 76, 76, 77, 77, 77, 78, 79, 80, 80, 81, 82, 83, 84, 85, 85, 87, 90, 91, 91, 92, 96, 97, 98, 98, 99, 99, 99, 100]\n",
            "El elemento 41 esta en la lista\n"
          ]
        }
      ],
      "source": [
        "import random\n",
        "def busqueda_binaria(lista, comienzo, final, objetivo, contador):\n",
        "    print(f'buscando {objetivo} entre {lista[comienzo]} y {lista[final-1]}')\n",
        "    contador += 1\n",
        "    if comienzo > final:\n",
        "      return False\n",
        "    medio = (comienzo + final) //2\n",
        "    if lista[medio] == objetivo:\n",
        "      print(f'Se utilizaron {contador} pasos para encontrar {objetivo}')\n",
        "      return True\n",
        "    elif lista[medio] < objetivo:\n",
        "      return busqueda_binaria(lista, medio +1, final, objetivo, contador)\n",
        "    else:\n",
        "      return busqueda_binaria(lista, comienzo, medio -1, objetivo, contador)\n",
        "\n",
        "if __name__ == '__main__':\n",
        "    tamano_de_lista = int(input('De que tamano quieres la lista'))\n",
        "    objetivo = int (input('Que numero quieres encontrar'))\n",
        "\n",
        "    lista = sorted([random.randint(0,100) for i in range(tamano_de_lista)])\n",
        "\n",
        "    contador = 0\n",
        "    encontrado = busqueda_binaria(lista, 0, len(lista), objetivo, contador)\n",
        "    print(lista)\n",
        "    print(f'El elemento {objetivo} {\"esta\" if encontrado else \"no esta\"} en la lista')"
      ]
    },
    {
      "cell_type": "markdown",
      "metadata": {
        "id": "qRdkZBbo7atz"
      },
      "source": [
        "## Ordenamiento de burbuja"
      ]
    },
    {
      "cell_type": "markdown",
      "metadata": {
        "id": "P5LzmLzsWFbc"
      },
      "source": [
        "- Es un algoritmo que recorre repetidamente una lista que necesita ordenarse. \n",
        "- Compara elementos adyacentes y los intercambia si están en orden incorrecto.\n",
        "- Se realiza esta operación hasta que la lista se encuentre ordenada. "
      ]
    },
    {
      "cell_type": "code",
      "execution_count": 4,
      "metadata": {
        "colab": {
          "base_uri": "https://localhost:8080/",
          "height": 67
        },
        "id": "iLm1liVG7iIB",
        "outputId": "13c2e66e-2c2d-4eb2-81eb-5eba7f6dea00"
      },
      "outputs": [
        {
          "name": "stdout",
          "output_type": "stream",
          "text": [
            "[15, 70, 26, 65, 67, 77, 37, 83, 56, 100, 56, 81, 88, 97, 34, 19, 28, 29, 44, 60, 91, 12, 86, 37, 53, 74, 57, 56, 21, 48, 52, 33, 45, 100, 89, 43, 32, 55, 93, 56, 81, 53, 43, 62, 15, 87, 7, 49, 4, 12, 29, 90, 37, 3, 62, 14, 83, 48, 35, 24, 83, 93, 50, 72, 29, 57, 24, 22, 92, 55, 25, 48, 98, 36, 20, 70, 87, 78, 26, 46, 20, 86, 6, 84, 51, 90, 48, 2, 89, 54, 86, 6, 13, 20, 67, 76, 29, 75, 87, 61]\n",
            "[2, 3, 4, 6, 6, 7, 12, 12, 13, 14, 15, 15, 19, 20, 20, 20, 21, 22, 24, 24, 25, 26, 26, 28, 29, 29, 29, 29, 32, 33, 34, 35, 36, 37, 37, 37, 43, 43, 44, 45, 46, 48, 48, 48, 48, 49, 50, 51, 52, 53, 53, 54, 55, 55, 56, 56, 56, 56, 57, 57, 60, 61, 62, 62, 65, 67, 67, 70, 70, 72, 74, 75, 76, 77, 78, 81, 81, 83, 83, 83, 84, 86, 86, 86, 87, 87, 87, 88, 89, 89, 90, 90, 91, 92, 93, 93, 97, 98, 100, 100]\n"
          ]
        }
      ],
      "source": [
        "import random\n",
        "\n",
        "def ordenamiento_de_burbuja(lista):\n",
        "  n = len(lista)\n",
        "\n",
        "  for i in range(n):\n",
        "    for j in range(0, n-i-1):\n",
        "      if lista[j] > lista[j+1]:\n",
        "        lista[j], lista[j+1] = lista[j+1], lista[j]\n",
        "  return lista\n",
        "\n",
        "if __name__ == '__main__':\n",
        "  tamano_de_lista = int(input('De que tamano sera la lista?'))\n",
        "\n",
        "  lista = [random.randint(0,100) for i in range(tamano_de_lista)]\n",
        "  print(lista)\n",
        "\n",
        "  lista_ordenada = ordenamiento_de_burbuja(lista)\n",
        "  print(lista_ordenada)"
      ]
    },
    {
      "cell_type": "markdown",
      "metadata": {},
      "source": [
        "## Ordenamiento por inserción"
      ]
    },
    {
      "cell_type": "code",
      "execution_count": 7,
      "metadata": {},
      "outputs": [
        {
          "name": "stdout",
          "output_type": "stream",
          "text": [
            "[2, 2, 3, 3, 4, 5, 6, 6, 7, 8, 9, 45]\n"
          ]
        }
      ],
      "source": [
        "def ordenamiento_por_insercion(lista):\n",
        "\n",
        "    for indice in range(1, len(lista)):\n",
        "        valor_actual = lista[indice]\n",
        "        posicion_actual = indice\n",
        "\n",
        "        while posicion_actual > 0 and lista[posicion_actual - 1] > valor_actual:\n",
        "            lista[posicion_actual] = lista[posicion_actual - 1]\n",
        "            posicion_actual -= 1\n",
        "\n",
        "        lista[posicion_actual] = valor_actual\n",
        "    \n",
        "    return lista\n",
        "\n",
        "lista = ordenamiento_por_insercion([2,8,9,7,6,5,4,3,2,3,45,6])\n",
        "print(lista)"
      ]
    },
    {
      "cell_type": "markdown",
      "metadata": {
        "id": "0CkcNvEdauU1"
      },
      "source": [
        "## Ordenamiento por mezcla"
      ]
    },
    {
      "cell_type": "markdown",
      "metadata": {
        "id": "kJgpK1bQayQL"
      },
      "source": [
        "Es un algoritmo de divide y venceras.\n",
        "- Primera divide una lista en partes iguales hasta que quedan sublistas de 1 o 0 elementos\n",
        "- Luego se recombina de forma ordenada. "
      ]
    },
    {
      "cell_type": "code",
      "execution_count": null,
      "metadata": {
        "colab": {
          "base_uri": "https://localhost:8080/",
          "height": 689
        },
        "id": "eouKLWsobU4M",
        "outputId": "cff0830a-c5aa-47a7-edac-ac6d7c4c7950"
      },
      "outputs": [
        {
          "name": "stdout",
          "output_type": "stream",
          "text": [
            "De que tamano sera la lista?10\n",
            "[74, 91, 91, 52, 45, 49, 58, 98, 12, 27]\n",
            "--------------------\n",
            "[74, 91, 91, 52, 45] ***** [49, 58, 98, 12, 27]\n",
            "[74, 91] ***** [91, 52, 45]\n",
            "[74] ***** [91]\n",
            "izquierda [74], derecha[91]\n",
            "[74, 91]\n",
            "--------------------------------------------------\n",
            "[91] ***** [52, 45]\n",
            "[52] ***** [45]\n",
            "izquierda [52], derecha[45]\n",
            "[45, 52]\n",
            "--------------------------------------------------\n",
            "izquierda [91], derecha[45, 52]\n",
            "[45, 52, 91]\n",
            "--------------------------------------------------\n",
            "izquierda [74, 91], derecha[45, 52, 91]\n",
            "[45, 52, 74, 91, 91]\n",
            "--------------------------------------------------\n",
            "[49, 58] ***** [98, 12, 27]\n",
            "[49] ***** [58]\n",
            "izquierda [49], derecha[58]\n",
            "[49, 58]\n",
            "--------------------------------------------------\n",
            "[98] ***** [12, 27]\n",
            "[12] ***** [27]\n",
            "izquierda [12], derecha[27]\n",
            "[12, 27]\n",
            "--------------------------------------------------\n",
            "izquierda [98], derecha[12, 27]\n",
            "[12, 27, 98]\n",
            "--------------------------------------------------\n",
            "izquierda [49, 58], derecha[12, 27, 98]\n",
            "[12, 27, 49, 58, 98]\n",
            "--------------------------------------------------\n",
            "izquierda [45, 52, 74, 91, 91], derecha[12, 27, 49, 58, 98]\n",
            "[12, 27, 45, 49, 52, 58, 74, 91, 91, 98]\n",
            "--------------------------------------------------\n",
            "[12, 27, 45, 49, 52, 58, 74, 91, 91, 98]\n"
          ]
        }
      ],
      "source": [
        "import random\n",
        "\n",
        "def ordenamiento_por_mezcla(lista):\n",
        "  if len(lista)>1:\n",
        "    medio = len(lista) // 2\n",
        "    izquierda = lista[:medio]\n",
        "    derecha = lista[medio:]\n",
        "    print(izquierda, '*'*5, derecha)\n",
        "    # Llamada recursiva en cada mitad\n",
        "    ordenamiento_por_mezcla(izquierda)\n",
        "    ordenamiento_por_mezcla(derecha)\n",
        "\n",
        "    # Iteradores para recorrer las dos sublistas\n",
        "    i = 0\n",
        "    j = 0\n",
        "    # Iterador para la lista principal\n",
        "    k = 0\n",
        "\n",
        "    while i<len(izquierda) and j<len(derecha):\n",
        "      if izquierda[i]<derecha[j]:\n",
        "        lista[k] = izquierda[i]\n",
        "        i += 1\n",
        "      else:\n",
        "        lista[k] = derecha[j]\n",
        "        j +=1\n",
        "\n",
        "      k +=1\n",
        "    while i < len(izquierda):\n",
        "      lista[k] = izquierda[i]\n",
        "      i += 1\n",
        "      k += 1\n",
        "    while j < len(derecha):\n",
        "      lista[k] = derecha[j]\n",
        "      j += 1\n",
        "      k += 1\n",
        "    print(f'izquierda {izquierda}, derecha{derecha}')\n",
        "    print(lista)\n",
        "    print('-'*50)\n",
        "    return lista\n",
        "\n",
        "if __name__ == '__main__':\n",
        "  tamano_de_lista = int(input('De que tamano sera la lista?'))\n",
        "\n",
        "  lista = [random.randint(0,100) for i in range(tamano_de_lista)]\n",
        "  print(lista)\n",
        "  print('-'*20)\n",
        "\n",
        "  lista_ordenada = ordenamiento_por_mezcla(lista)\n",
        "  print(lista_ordenada)"
      ]
    },
    {
      "cell_type": "markdown",
      "metadata": {
        "id": "8IvMgXjPfvu1"
      },
      "source": [
        "# Ambientes virtuales"
      ]
    },
    {
      "cell_type": "markdown",
      "metadata": {
        "id": "ZEg9jhJwfys7"
      },
      "source": [
        "## Ambientes virtuales"
      ]
    },
    {
      "cell_type": "markdown",
      "metadata": {
        "id": "A8e56R5Ufz5s"
      },
      "source": [
        "- Permiten aislar el ambiente para poder instalar diversas versiones de paquetes.\n",
        "- A partir de 3 se incluye en la librería en el modulo venv.\n",
        "- Ningún ingeniero profesional de python trabaja sin ellos. "
      ]
    },
    {
      "cell_type": "markdown",
      "metadata": {
        "id": "VdshMd5Igrtk"
      },
      "source": [
        "Pip\n",
        "- Permite descargar paquetes de terceros y utilizarlos en nuestro programa.\n",
        "- Permite compartir nuestros paquetes con terceros.\n",
        "- Permite especificar la versión del paquete que necesitamos."
      ]
    },
    {
      "cell_type": "markdown",
      "metadata": {
        "id": "mz0sN17ujNXI"
      },
      "source": [
        "# Graficado"
      ]
    },
    {
      "cell_type": "markdown",
      "metadata": {
        "id": "SWTX1QHwjO-9"
      },
      "source": [
        "## ¿Por qué graficar?"
      ]
    },
    {
      "cell_type": "markdown",
      "metadata": {
        "id": "vL3smFhojSjN"
      },
      "source": [
        "- Reconocimiento de patrones\n",
        "- Predicción de una serie\n",
        "- Simplifica la interpretación y las conclusiones acerca de los datos"
      ]
    },
    {
      "cell_type": "markdown",
      "metadata": {
        "id": "mgjqSndckRAL"
      },
      "source": [
        "## Graficado simple"
      ]
    },
    {
      "cell_type": "markdown",
      "metadata": {
        "id": "XSeh2Xz4kTjG"
      },
      "source": [
        "- Bokeh permite construir graficas complejas de manera rapida y comandos simples.\n",
        "- Permite exportar a varios formatos html, notebooks, imagenes, etc."
      ]
    },
    {
      "cell_type": "code",
      "execution_count": null,
      "metadata": {
        "colab": {
          "base_uri": "https://localhost:8080/"
        },
        "id": "zvD2wWw7OmGs",
        "outputId": "0c6e9497-22a4-49b8-ed2c-e99c8af253ce"
      },
      "outputs": [
        {
          "name": "stdout",
          "output_type": "stream",
          "text": [
            "Cuantos valores quieres graficar?5\n",
            "Valor y para 0: 1\n",
            "Valor y para 1: 2\n",
            "Valor y para 2: 3\n",
            "Valor y para 3: 4\n",
            "Valor y para 4: 5\n"
          ]
        },
        {
          "data": {
            "application/javascript": "\n(function(root) {\n  function now() {\n    return new Date();\n  }\n\n  var force = true;\n\n  if (typeof root._bokeh_onload_callbacks === \"undefined\" || force === true) {\n    root._bokeh_onload_callbacks = [];\n    root._bokeh_is_loading = undefined;\n  }\n\n  var JS_MIME_TYPE = 'application/javascript';\n  var HTML_MIME_TYPE = 'text/html';\n  var EXEC_MIME_TYPE = 'application/vnd.bokehjs_exec.v0+json';\n  var CLASS_NAME = 'output_bokeh rendered_html';\n\n  /**\n   * Render data to the DOM node\n   */\n  function render(props, node) {\n    var script = document.createElement(\"script\");\n    node.appendChild(script);\n  }\n\n  /**\n   * Handle when an output is cleared or removed\n   */\n  function handleClearOutput(event, handle) {\n    var cell = handle.cell;\n\n    var id = cell.output_area._bokeh_element_id;\n    var server_id = cell.output_area._bokeh_server_id;\n    // Clean up Bokeh references\n    if (id != null && id in Bokeh.index) {\n      Bokeh.index[id].model.document.clear();\n      delete Bokeh.index[id];\n    }\n\n    if (server_id !== undefined) {\n      // Clean up Bokeh references\n      var cmd = \"from bokeh.io.state import curstate; print(curstate().uuid_to_server['\" + server_id + \"'].get_sessions()[0].document.roots[0]._id)\";\n      cell.notebook.kernel.execute(cmd, {\n        iopub: {\n          output: function(msg) {\n            var id = msg.content.text.trim();\n            if (id in Bokeh.index) {\n              Bokeh.index[id].model.document.clear();\n              delete Bokeh.index[id];\n            }\n          }\n        }\n      });\n      // Destroy server and session\n      var cmd = \"import bokeh.io.notebook as ion; ion.destroy_server('\" + server_id + \"')\";\n      cell.notebook.kernel.execute(cmd);\n    }\n  }\n\n  /**\n   * Handle when a new output is added\n   */\n  function handleAddOutput(event, handle) {\n    var output_area = handle.output_area;\n    var output = handle.output;\n\n    // limit handleAddOutput to display_data with EXEC_MIME_TYPE content only\n    if ((output.output_type != \"display_data\") || (!output.data.hasOwnProperty(EXEC_MIME_TYPE))) {\n      return\n    }\n\n    var toinsert = output_area.element.find(\".\" + CLASS_NAME.split(' ')[0]);\n\n    if (output.metadata[EXEC_MIME_TYPE][\"id\"] !== undefined) {\n      toinsert[toinsert.length - 1].firstChild.textContent = output.data[JS_MIME_TYPE];\n      // store reference to embed id on output_area\n      output_area._bokeh_element_id = output.metadata[EXEC_MIME_TYPE][\"id\"];\n    }\n    if (output.metadata[EXEC_MIME_TYPE][\"server_id\"] !== undefined) {\n      var bk_div = document.createElement(\"div\");\n      bk_div.innerHTML = output.data[HTML_MIME_TYPE];\n      var script_attrs = bk_div.children[0].attributes;\n      for (var i = 0; i < script_attrs.length; i++) {\n        toinsert[toinsert.length - 1].firstChild.setAttribute(script_attrs[i].name, script_attrs[i].value);\n      }\n      // store reference to server id on output_area\n      output_area._bokeh_server_id = output.metadata[EXEC_MIME_TYPE][\"server_id\"];\n    }\n  }\n\n  function register_renderer(events, OutputArea) {\n\n    function append_mime(data, metadata, element) {\n      // create a DOM node to render to\n      var toinsert = this.create_output_subarea(\n        metadata,\n        CLASS_NAME,\n        EXEC_MIME_TYPE\n      );\n      this.keyboard_manager.register_events(toinsert);\n      // Render to node\n      var props = {data: data, metadata: metadata[EXEC_MIME_TYPE]};\n      render(props, toinsert[toinsert.length - 1]);\n      element.append(toinsert);\n      return toinsert\n    }\n\n    /* Handle when an output is cleared or removed */\n    events.on('clear_output.CodeCell', handleClearOutput);\n    events.on('delete.Cell', handleClearOutput);\n\n    /* Handle when a new output is added */\n    events.on('output_added.OutputArea', handleAddOutput);\n\n    /**\n     * Register the mime type and append_mime function with output_area\n     */\n    OutputArea.prototype.register_mime_type(EXEC_MIME_TYPE, append_mime, {\n      /* Is output safe? */\n      safe: true,\n      /* Index of renderer in `output_area.display_order` */\n      index: 0\n    });\n  }\n\n  // register the mime type if in Jupyter Notebook environment and previously unregistered\n  if (root.Jupyter !== undefined) {\n    var events = require('base/js/events');\n    var OutputArea = require('notebook/js/outputarea').OutputArea;\n\n    if (OutputArea.prototype.mime_types().indexOf(EXEC_MIME_TYPE) == -1) {\n      register_renderer(events, OutputArea);\n    }\n  }\n\n  \n  if (typeof (root._bokeh_timeout) === \"undefined\" || force === true) {\n    root._bokeh_timeout = Date.now() + 5000;\n    root._bokeh_failed_load = false;\n  }\n\n  var NB_LOAD_WARNING = {'data': {'text/html':\n     \"<div style='background-color: #fdd'>\\n\"+\n     \"<p>\\n\"+\n     \"BokehJS does not appear to have successfully loaded. If loading BokehJS from CDN, this \\n\"+\n     \"may be due to a slow or bad network connection. Possible fixes:\\n\"+\n     \"</p>\\n\"+\n     \"<ul>\\n\"+\n     \"<li>re-rerun `output_notebook()` to attempt to load from CDN again, or</li>\\n\"+\n     \"<li>use INLINE resources instead, as so:</li>\\n\"+\n     \"</ul>\\n\"+\n     \"<code>\\n\"+\n     \"from bokeh.resources import INLINE\\n\"+\n     \"output_notebook(resources=INLINE)\\n\"+\n     \"</code>\\n\"+\n     \"</div>\"}};\n\n  function display_loaded() {\n    var el = document.getElementById(null);\n    if (el != null) {\n      el.textContent = \"BokehJS is loading...\";\n    }\n    if (root.Bokeh !== undefined) {\n      if (el != null) {\n        el.textContent = \"BokehJS \" + root.Bokeh.version + \" successfully loaded.\";\n      }\n    } else if (Date.now() < root._bokeh_timeout) {\n      setTimeout(display_loaded, 100)\n    }\n  }\n\n\n  function run_callbacks() {\n    try {\n      root._bokeh_onload_callbacks.forEach(function(callback) {\n        if (callback != null)\n          callback();\n      });\n    } finally {\n      delete root._bokeh_onload_callbacks\n    }\n    console.debug(\"Bokeh: all callbacks have finished\");\n  }\n\n  function load_libs(css_urls, js_urls, callback) {\n    if (css_urls == null) css_urls = [];\n    if (js_urls == null) js_urls = [];\n\n    root._bokeh_onload_callbacks.push(callback);\n    if (root._bokeh_is_loading > 0) {\n      console.debug(\"Bokeh: BokehJS is being loaded, scheduling callback at\", now());\n      return null;\n    }\n    if (js_urls == null || js_urls.length === 0) {\n      run_callbacks();\n      return null;\n    }\n    console.debug(\"Bokeh: BokehJS not loaded, scheduling load and callback at\", now());\n    root._bokeh_is_loading = css_urls.length + js_urls.length;\n\n    function on_load() {\n      root._bokeh_is_loading--;\n      if (root._bokeh_is_loading === 0) {\n        console.debug(\"Bokeh: all BokehJS libraries/stylesheets loaded\");\n        run_callbacks()\n      }\n    }\n\n    function on_error() {\n      console.error(\"failed to load \" + url);\n    }\n\n    for (var i = 0; i < css_urls.length; i++) {\n      var url = css_urls[i];\n      const element = document.createElement(\"link\");\n      element.onload = on_load;\n      element.onerror = on_error;\n      element.rel = \"stylesheet\";\n      element.type = \"text/css\";\n      element.href = url;\n      console.debug(\"Bokeh: injecting link tag for BokehJS stylesheet: \", url);\n      document.body.appendChild(element);\n    }\n\n    for (var i = 0; i < js_urls.length; i++) {\n      var url = js_urls[i];\n      var element = document.createElement('script');\n      element.onload = on_load;\n      element.onerror = on_error;\n      element.async = false;\n      element.src = url;\n      console.debug(\"Bokeh: injecting script tag for BokehJS library: \", url);\n      document.head.appendChild(element);\n    }\n  };\n\n  function inject_raw_css(css) {\n    const element = document.createElement(\"style\");\n    element.appendChild(document.createTextNode(css));\n    document.body.appendChild(element);\n  }\n\n  \n  var js_urls = [\"https://cdn.pydata.org/bokeh/release/bokeh-1.4.0.min.js\", \"https://cdn.pydata.org/bokeh/release/bokeh-widgets-1.4.0.min.js\", \"https://cdn.pydata.org/bokeh/release/bokeh-tables-1.4.0.min.js\", \"https://cdn.pydata.org/bokeh/release/bokeh-gl-1.4.0.min.js\"];\n  var css_urls = [];\n  \n\n  var inline_js = [\n    function(Bokeh) {\n      Bokeh.set_log_level(\"info\");\n    },\n    function(Bokeh) {\n    \n    \n    }\n  ];\n\n  function run_inline_js() {\n    \n    if (root.Bokeh !== undefined || force === true) {\n      \n    for (var i = 0; i < inline_js.length; i++) {\n      inline_js[i].call(root, root.Bokeh);\n    }\n    } else if (Date.now() < root._bokeh_timeout) {\n      setTimeout(run_inline_js, 100);\n    } else if (!root._bokeh_failed_load) {\n      console.log(\"Bokeh: BokehJS failed to load within specified timeout.\");\n      root._bokeh_failed_load = true;\n    } else if (force !== true) {\n      var cell = $(document.getElementById(null)).parents('.cell').data().cell;\n      cell.output_area.append_execute_result(NB_LOAD_WARNING)\n    }\n\n  }\n\n  if (root._bokeh_is_loading === 0) {\n    console.debug(\"Bokeh: BokehJS loaded, going straight to plotting\");\n    run_inline_js();\n  } else {\n    load_libs(css_urls, js_urls, function() {\n      console.debug(\"Bokeh: BokehJS plotting callback run at\", now());\n      run_inline_js();\n    });\n  }\n}(window));",
            "application/vnd.bokehjs_load.v0+json": ""
          },
          "metadata": {
            "tags": []
          },
          "output_type": "display_data"
        },
        {
          "data": {
            "text/html": [
              "\n",
              "\n",
              "\n",
              "\n",
              "\n",
              "\n",
              "  <div class=\"bk-root\" id=\"296be32e-56b8-42f9-a6e0-1e0a84befe55\" data-root-id=\"2757\"></div>\n"
            ]
          },
          "metadata": {
            "tags": []
          },
          "output_type": "display_data"
        },
        {
          "data": {
            "application/javascript": "(function(root) {\n  function embed_document(root) {\n    \n  var docs_json = {\"7a152940-ede8-4a23-990c-715112d8f543\":{\"roots\":{\"references\":[{\"attributes\":{\"below\":[{\"id\":\"2766\",\"type\":\"LinearAxis\"}],\"center\":[{\"id\":\"2770\",\"type\":\"Grid\"},{\"id\":\"2775\",\"type\":\"Grid\"}],\"left\":[{\"id\":\"2771\",\"type\":\"LinearAxis\"}],\"renderers\":[{\"id\":\"2792\",\"type\":\"GlyphRenderer\"}],\"title\":{\"id\":\"2839\",\"type\":\"Title\"},\"toolbar\":{\"id\":\"2782\",\"type\":\"Toolbar\"},\"x_range\":{\"id\":\"2758\",\"type\":\"DataRange1d\"},\"x_scale\":{\"id\":\"2762\",\"type\":\"LinearScale\"},\"y_range\":{\"id\":\"2760\",\"type\":\"DataRange1d\"},\"y_scale\":{\"id\":\"2764\",\"type\":\"LinearScale\"}},\"id\":\"2757\",\"subtype\":\"Figure\",\"type\":\"Plot\"},{\"attributes\":{\"line_color\":\"#1f77b4\",\"line_width\":2,\"x\":{\"field\":\"x\"},\"y\":{\"field\":\"y\"}},\"id\":\"2790\",\"type\":\"Line\"},{\"attributes\":{},\"id\":\"2764\",\"type\":\"LinearScale\"},{\"attributes\":{\"overlay\":{\"id\":\"2847\",\"type\":\"BoxAnnotation\"}},\"id\":\"2778\",\"type\":\"BoxZoomTool\"},{\"attributes\":{},\"id\":\"2841\",\"type\":\"BasicTickFormatter\"},{\"attributes\":{\"active_drag\":\"auto\",\"active_inspect\":\"auto\",\"active_multi\":null,\"active_scroll\":\"auto\",\"active_tap\":\"auto\",\"tools\":[{\"id\":\"2776\",\"type\":\"PanTool\"},{\"id\":\"2777\",\"type\":\"WheelZoomTool\"},{\"id\":\"2778\",\"type\":\"BoxZoomTool\"},{\"id\":\"2779\",\"type\":\"SaveTool\"},{\"id\":\"2780\",\"type\":\"ResetTool\"},{\"id\":\"2781\",\"type\":\"HelpTool\"}]},\"id\":\"2782\",\"type\":\"Toolbar\"},{\"attributes\":{},\"id\":\"2767\",\"type\":\"BasicTicker\"},{\"attributes\":{\"bottom_units\":\"screen\",\"fill_alpha\":{\"value\":0.5},\"fill_color\":{\"value\":\"lightgrey\"},\"left_units\":\"screen\",\"level\":\"overlay\",\"line_alpha\":{\"value\":1.0},\"line_color\":{\"value\":\"black\"},\"line_dash\":[4,4],\"line_width\":{\"value\":2},\"render_mode\":\"css\",\"right_units\":\"screen\",\"top_units\":\"screen\"},\"id\":\"2847\",\"type\":\"BoxAnnotation\"},{\"attributes\":{\"line_alpha\":0.1,\"line_color\":\"#1f77b4\",\"line_width\":2,\"x\":{\"field\":\"x\"},\"y\":{\"field\":\"y\"}},\"id\":\"2791\",\"type\":\"Line\"},{\"attributes\":{},\"id\":\"2846\",\"type\":\"Selection\"},{\"attributes\":{\"ticker\":{\"id\":\"2767\",\"type\":\"BasicTicker\"}},\"id\":\"2770\",\"type\":\"Grid\"},{\"attributes\":{},\"id\":\"2843\",\"type\":\"BasicTickFormatter\"},{\"attributes\":{\"formatter\":{\"id\":\"2843\",\"type\":\"BasicTickFormatter\"},\"ticker\":{\"id\":\"2772\",\"type\":\"BasicTicker\"}},\"id\":\"2771\",\"type\":\"LinearAxis\"},{\"attributes\":{},\"id\":\"2780\",\"type\":\"ResetTool\"},{\"attributes\":{},\"id\":\"2776\",\"type\":\"PanTool\"},{\"attributes\":{\"dimension\":1,\"ticker\":{\"id\":\"2772\",\"type\":\"BasicTicker\"}},\"id\":\"2775\",\"type\":\"Grid\"},{\"attributes\":{},\"id\":\"2777\",\"type\":\"WheelZoomTool\"},{\"attributes\":{},\"id\":\"2845\",\"type\":\"UnionRenderers\"},{\"attributes\":{\"formatter\":{\"id\":\"2841\",\"type\":\"BasicTickFormatter\"},\"ticker\":{\"id\":\"2767\",\"type\":\"BasicTicker\"}},\"id\":\"2766\",\"type\":\"LinearAxis\"},{\"attributes\":{},\"id\":\"2781\",\"type\":\"HelpTool\"},{\"attributes\":{},\"id\":\"2772\",\"type\":\"BasicTicker\"},{\"attributes\":{\"callback\":null,\"data\":{\"x\":[0,1,2,3,4],\"y\":[1,2,3,4,5]},\"selected\":{\"id\":\"2846\",\"type\":\"Selection\"},\"selection_policy\":{\"id\":\"2845\",\"type\":\"UnionRenderers\"}},\"id\":\"2789\",\"type\":\"ColumnDataSource\"},{\"attributes\":{},\"id\":\"2762\",\"type\":\"LinearScale\"},{\"attributes\":{\"text\":\"\"},\"id\":\"2839\",\"type\":\"Title\"},{\"attributes\":{\"callback\":null},\"id\":\"2758\",\"type\":\"DataRange1d\"},{\"attributes\":{\"data_source\":{\"id\":\"2789\",\"type\":\"ColumnDataSource\"},\"glyph\":{\"id\":\"2790\",\"type\":\"Line\"},\"hover_glyph\":null,\"muted_glyph\":null,\"nonselection_glyph\":{\"id\":\"2791\",\"type\":\"Line\"},\"selection_glyph\":null,\"view\":{\"id\":\"2793\",\"type\":\"CDSView\"}},\"id\":\"2792\",\"type\":\"GlyphRenderer\"},{\"attributes\":{},\"id\":\"2779\",\"type\":\"SaveTool\"},{\"attributes\":{\"source\":{\"id\":\"2789\",\"type\":\"ColumnDataSource\"}},\"id\":\"2793\",\"type\":\"CDSView\"},{\"attributes\":{\"callback\":null},\"id\":\"2760\",\"type\":\"DataRange1d\"}],\"root_ids\":[\"2757\"]},\"title\":\"Bokeh Application\",\"version\":\"1.4.0\"}};\n  var render_items = [{\"docid\":\"7a152940-ede8-4a23-990c-715112d8f543\",\"roots\":{\"2757\":\"296be32e-56b8-42f9-a6e0-1e0a84befe55\"}}];\n  root.Bokeh.embed.embed_items_notebook(docs_json, render_items);\n\n  }\n  if (root.Bokeh !== undefined) {\n    embed_document(root);\n  } else {\n    var attempts = 0;\n    var timer = setInterval(function(root) {\n      if (root.Bokeh !== undefined) {\n        clearInterval(timer);\n        embed_document(root);\n      } else {\n        attempts++;\n        if (attempts > 100) {\n          clearInterval(timer);\n          console.log(\"Bokeh: ERROR: Unable to run BokehJS code because BokehJS library is missing\");\n        }\n      }\n    }, 10, root)\n  }\n})(window);",
            "application/vnd.bokehjs_exec.v0+json": ""
          },
          "metadata": {
            "application/vnd.bokehjs_exec.v0+json": {
              "id": "2757"
            },
            "tags": []
          },
          "output_type": "display_data"
        }
      ],
      "source": [
        "from bokeh.plotting import figure, output_file, show\n",
        "#Para mostrar plots en notebook\n",
        "from bokeh.io import output_notebook\n",
        "\n",
        "if __name__ == '__main__':\n",
        "  #Para mostrar plots en notebook\n",
        "  output_notebook()\n",
        "  fig = figure()\n",
        "\n",
        "  total_vals = int(input('Cuantos valores quieres graficar?'))\n",
        "  x_vals = list(range(total_vals))\n",
        "  y_vals = []\n",
        "\n",
        "  for x in x_vals:\n",
        "    val = int(input(f'Valor y para {x}: '))\n",
        "    y_vals.append(val)\n",
        "\n",
        "  fig.line(x_vals, y_vals, line_width=2)\n",
        "  show(fig)\n"
      ]
    },
    {
      "cell_type": "markdown",
      "metadata": {
        "id": "FPrkt-jwuiXu"
      },
      "source": [
        "# Algoritmos de optimización"
      ]
    },
    {
      "cell_type": "markdown",
      "metadata": {
        "id": "yTtXRn05vARd"
      },
      "source": [
        "## Introducción a la optimización"
      ]
    },
    {
      "cell_type": "markdown",
      "metadata": {
        "id": "upIbVZlWulRU"
      },
      "source": [
        "- El concepto de optimización permite resolver muchos problemas de manera computacional.\n",
        "- Una función objetivo que debemos maximizar o minimizar.\n",
        "- Una serie de limitantes que debemos respetar. "
      ]
    },
    {
      "cell_type": "markdown",
      "metadata": {
        "id": "M36cRhKGvzyQ"
      },
      "source": [
        "## El problema del morral"
      ]
    },
    {
      "cell_type": "code",
      "execution_count": 8,
      "metadata": {
        "colab": {
          "base_uri": "https://localhost:8080/",
          "height": 34
        },
        "id": "HvBZI6exwUV3",
        "outputId": "6d711b0b-5161-405f-f6af-a8866aa7c9d7"
      },
      "outputs": [
        {
          "name": "stdout",
          "output_type": "stream",
          "text": [
            "280\n"
          ]
        }
      ],
      "source": [
        "def morral(tamano_morral, pesos, valor,n):\n",
        "  if n == 0 or tamano_morral == 0:\n",
        "    return 0\n",
        "  if pesos[n - 1] > tamano_morral:\n",
        "    return morral((tamano_morral, pesos, valor,n - 1))\n",
        "  return max(valores[n - 1]+morral(tamano_morral - pesos[n -1], pesos, valores, n - 1),\n",
        "             morral(tamano_morral, pesos, valores, n - 1))\n",
        "\n",
        "if __name__=='__main__':\n",
        "  valores = [60, 100, 120]\n",
        "  pesos = [10, 20, 30]\n",
        "  tamano_morral = 60\n",
        "  n = len(valores)\n",
        "  \n",
        "  resultado = morral(tamano_morral, pesos, valores, n)\n",
        "  print(resultado)"
      ]
    },
    {
      "cell_type": "markdown",
      "metadata": {
        "id": "mknIRdDazs1m"
      },
      "source": [
        "## Conclusiones"
      ]
    },
    {
      "cell_type": "markdown",
      "metadata": {
        "id": "Jwybea_Ozt4u"
      },
      "source": [
        "- Los tipos abstractos (clases) permiten crear programas poderosos que modelan al mundo.\n",
        "- Podemos medir la eficiencia de diversos algoritmos.\n",
        "- Las gráficas nos permiten encontrar patrones rápidamente.\n",
        "- Optimización. \n",
        "\n"
      ]
    },
    {
      "cell_type": "markdown",
      "metadata": {
        "id": "BeRK_1PN0W_w"
      },
      "source": [
        "- Pensamiento computacional desarrollando:\n",
        "  - Decomposición\n",
        "  - Abstracción\n",
        "  - Reconocimiento de patrones\n",
        "  - Diseño de algoritmos\n"
      ]
    },
    {
      "cell_type": "code",
      "execution_count": null,
      "metadata": {
        "colab": {
          "base_uri": "https://localhost:8080/",
          "height": 34
        },
        "id": "noZnC0tn7Hls",
        "outputId": "841d4d13-7230-41bf-ad7d-fd22bcfc0fe2"
      },
      "outputs": [
        {
          "name": "stdout",
          "output_type": "stream",
          "text": [
            "2001\n"
          ]
        }
      ],
      "source": [
        "def my_func(x):\n",
        "    respuesta = 1\n",
        "    for i in range(2000):\n",
        "        respuesta += 1\n",
        "    return respuesta\n",
        "print(my_func(10))"
      ]
    }
  ],
  "metadata": {
    "colab": {
      "collapsed_sections": [
        "JHARQoWl_SRu",
        "2NgC7VO0cYUx"
      ],
      "provenance": []
    },
    "kernelspec": {
      "display_name": "Python 3.10.5 64-bit",
      "language": "python",
      "name": "python3"
    },
    "language_info": {
      "codemirror_mode": {
        "name": "ipython",
        "version": 3
      },
      "file_extension": ".py",
      "mimetype": "text/x-python",
      "name": "python",
      "nbconvert_exporter": "python",
      "pygments_lexer": "ipython3",
      "version": "3.10.5"
    },
    "vscode": {
      "interpreter": {
        "hash": "2de7b4a052e65261ea8541eacad9ab5841dbc9fbfe443eb5e82600569ad0c738"
      }
    }
  },
  "nbformat": 4,
  "nbformat_minor": 0
}
