{
  "cells": [
    {
      "cell_type": "code",
      "execution_count": 2,
      "metadata": {
        "colab": {
          "base_uri": "https://localhost:8080/"
        },
        "id": "ICRuGBWs_A9O",
        "outputId": "1fdbdf39-d4c3-45fc-8b1a-7d8efff82020"
      },
      "outputs": [
        {
          "name": "stdout",
          "output_type": "stream",
          "text": [
            "Requirement already satisfied: psycopg2 in /usr/local/lib/python3.7/dist-packages (2.7.6.1)\n"
          ]
        }
      ],
      "source": [
        "!pip install psycopg2"
      ]
    },
    {
      "cell_type": "code",
      "execution_count": 3,
      "metadata": {
        "colab": {
          "base_uri": "https://localhost:8080/"
        },
        "id": "ro5kJ0Ka-Vzs",
        "outputId": "958d2f1f-70ef-4527-bca4-ef8629440908"
      },
      "outputs": [
        {
          "name": "stderr",
          "output_type": "stream",
          "text": [
            "/usr/local/lib/python3.7/dist-packages/psycopg2/__init__.py:144: UserWarning: The psycopg2 wheel package will be renamed from release 2.8; in order to keep installing from binary please use \"pip install psycopg2-binary\" instead. For details see: <http://initd.org/psycopg/docs/install.html#binary-install-from-pypi>.\n",
            "  \"\"\")\n"
          ]
        }
      ],
      "source": [
        "\n",
        "import pandas as pd\n",
        "import psycopg2"
      ]
    },
    {
      "cell_type": "code",
      "execution_count": 4,
      "metadata": {
        "colab": {
          "base_uri": "https://localhost:8080/"
        },
        "id": "Okw1UGCp_uK7",
        "outputId": "46f09395-912c-47a9-894a-7f5378214cbb"
      },
      "outputs": [
        {
          "name": "stdout",
          "output_type": "stream",
          "text": [
            " * Starting PostgreSQL 10 database server\n",
            "   ...done.\n",
            "ALTER ROLE\n"
          ]
        }
      ],
      "source": [
        "!sudo apt-get -y -qq update\n",
        "!sudo apt-get -y -qq install postgresql\n",
        "!sudo service postgresql start\n",
        "!sudo -u postgres psql -U postgres -c \"ALTER USER postgres PASSWORD 'postgres'\"\n",
        "\n"
      ]
    },
    {
      "cell_type": "code",
      "execution_count": 5,
      "metadata": {
        "id": "YYsO7Fri-2yI"
      },
      "outputs": [],
      "source": [
        "conn_sql = psycopg2.connect(user = \"postgres\",\n",
        "                            password = \"postgres\",\n",
        "                            host = \"127.0.0.1\",\n",
        "                            port = \"5432\",\n",
        "                            dbname = \"postgres\")"
      ]
    },
    {
      "cell_type": "code",
      "execution_count": 8,
      "metadata": {
        "id": "RgRzxW3NAClN"
      },
      "outputs": [],
      "source": [
        "query_sql = '''\n",
        "select *\n",
        "from table_name\n",
        "limit 10\n",
        "'''\n"
      ]
    },
    {
      "cell_type": "code",
      "execution_count": 9,
      "metadata": {
        "colab": {
          "base_uri": "https://localhost:8080/",
          "height": 183
        },
        "id": "Ug1flcAiAfBA",
        "outputId": "6becf617-453b-4566-d226-5d6c4a737abd"
      },
      "outputs": [
        {
          "ename": "NameError",
          "evalue": "ignored",
          "output_type": "error",
          "traceback": [
            "\u001b[0;31m---------------------------------------------------------------------------\u001b[0m",
            "\u001b[0;31mNameError\u001b[0m                                 Traceback (most recent call last)",
            "\u001b[0;32m<ipython-input-9-ccdbb7c00747>\u001b[0m in \u001b[0;36m<module>\u001b[0;34m()\u001b[0m\n\u001b[0;32m----> 1\u001b[0;31m \u001b[0mdf\u001b[0m \u001b[0;34m=\u001b[0m \u001b[0mpd\u001b[0m\u001b[0;34m.\u001b[0m\u001b[0mread_sql\u001b[0m\u001b[0;34m(\u001b[0m\u001b[0mquery_sql\u001b[0m\u001b[0;34m,\u001b[0m \u001b[0msql_conn\u001b[0m\u001b[0;34m)\u001b[0m\u001b[0;34m\u001b[0m\u001b[0;34m\u001b[0m\u001b[0m\n\u001b[0m\u001b[1;32m      2\u001b[0m \u001b[0mdf\u001b[0m\u001b[0;34m.\u001b[0m\u001b[0mhead\u001b[0m\u001b[0;34m(\u001b[0m\u001b[0;36m5\u001b[0m\u001b[0;34m)\u001b[0m\u001b[0;34m\u001b[0m\u001b[0;34m\u001b[0m\u001b[0m\n",
            "\u001b[0;31mNameError\u001b[0m: name 'sql_conn' is not defined"
          ]
        }
      ],
      "source": [
        "df = pd.read_sql(query_sql, sql_conn)\n",
        "df.head(5)"
      ]
    },
    {
      "cell_type": "markdown",
      "metadata": {
        "id": "2VFN_3CRA35h"
      },
      "source": [
        "# SQL Server"
      ]
    },
    {
      "cell_type": "code",
      "execution_count": null,
      "metadata": {
        "id": "_JaAgM36A9JR"
      },
      "outputs": [],
      "source": [
        "import pandas as pd\n",
        "import pyodbc"
      ]
    },
    {
      "cell_type": "code",
      "execution_count": null,
      "metadata": {
        "id": "-cfJ63N6BkN0"
      },
      "outputs": [],
      "source": [
        "!pip install pyodbc"
      ]
    },
    {
      "cell_type": "code",
      "execution_count": null,
      "metadata": {
        "id": "dkTUMPobA-r3"
      },
      "outputs": [],
      "source": [
        "driver = '{SQL Server}'\n",
        "server_name = 'server_name'\n",
        "db_name = 'database_name'\n",
        "user = 'user'\n",
        "password = 'password'\n",
        "sql_conn = pyodbc.connect('''\n",
        "DRIVER={};SERVER={};DATABASE={};UID={};PWD={};\n",
        "Trusted_Connection=yes\n",
        "'''.format(driver, server_name, db_name, user, password))"
      ]
    },
    {
      "cell_type": "code",
      "execution_count": null,
      "metadata": {
        "id": "gqPwMF5JBCpx"
      },
      "outputs": [],
      "source": [
        "#con DSN\n",
        "\n",
        "dsn = 'odbc_datasource_name'\n",
        "sql_conn = pyodbc.connect('''\n",
        "DSN={};UID={};PWD={};Trusted_Connection=yes;\n",
        "'''.format(dsn, user, password))\n",
        "Seguido simplemente definimos nuestra query en SQL:\t\n",
        "query_sql = 'select * from table_name limit 10'"
      ]
    },
    {
      "cell_type": "code",
      "execution_count": null,
      "metadata": {
        "id": "SFjfST0xBIGX"
      },
      "outputs": [],
      "source": [
        "df = pd.read_sql(query_sql, sql_conn)\n",
        "df.head(5)"
      ]
    },
    {
      "cell_type": "markdown",
      "metadata": {
        "id": "o7QItdOjBKEb"
      },
      "source": [
        "# MySQL / Oracle / Otras:"
      ]
    },
    {
      "cell_type": "markdown",
      "metadata": {
        "id": "aDj-JEBLBY9r"
      },
      "source": [
        "La libreria sqlalchemy también soporta PostgreSQL y otras fuentes de datos."
      ]
    },
    {
      "cell_type": "code",
      "execution_count": null,
      "metadata": {
        "id": "MrNlSqCjBeIy"
      },
      "outputs": [],
      "source": [
        "!pip install sqlalchemy"
      ]
    },
    {
      "cell_type": "code",
      "execution_count": 10,
      "metadata": {
        "colab": {
          "base_uri": "https://localhost:8080/",
          "height": 130
        },
        "id": "xBGuC-2QBL7h",
        "outputId": "dd9f904e-ae5f-4749-fccc-8c329f97b896"
      },
      "outputs": [
        {
          "ename": "SyntaxError",
          "evalue": "ignored",
          "output_type": "error",
          "traceback": [
            "\u001b[0;36m  File \u001b[0;32m\"<ipython-input-10-1b111f2aa221>\"\u001b[0;36m, line \u001b[0;32m3\u001b[0m\n\u001b[0;31m    Escogemos nuestra base de datos, Oracle, MySql o la de tu preferencia:\u001b[0m\n\u001b[0m                    ^\u001b[0m\n\u001b[0;31mSyntaxError\u001b[0m\u001b[0;31m:\u001b[0m invalid syntax\n"
          ]
        }
      ],
      "source": [
        "import pandas as pd\n",
        "import sqlalchemy as sql\n",
        "Escogemos nuestra base de datos, Oracle, MySql o la de tu preferencia:\n",
        "database_type = 'mysql'\n",
        "database_type = 'oracle'\n"
      ]
    },
    {
      "cell_type": "code",
      "execution_count": null,
      "metadata": {
        "id": "0QISykgtBQuc"
      },
      "outputs": [],
      "source": [
        "user = 'user_name'\n",
        "password = 'password'\n",
        "host = 'xxx.xxx.xxx.xxx:port'\n",
        "database = 'database_name'\n",
        "\n",
        "conn_string = '{}://{}:{}@{}/{}'.format(\n",
        "database_type, user, password, host, database)\n",
        "\n",
        "sql_conn = sql.create_engine(conn_string)"
      ]
    },
    {
      "cell_type": "code",
      "execution_count": null,
      "metadata": {
        "id": "ogm8y3Q6BThe"
      },
      "outputs": [],
      "source": [
        "query_sql = '''\n",
        "select *\n",
        "from table_name\n",
        "limit 10\n",
        "'''"
      ]
    },
    {
      "cell_type": "code",
      "execution_count": 11,
      "metadata": {
        "colab": {
          "base_uri": "https://localhost:8080/",
          "height": 183
        },
        "id": "yEQBtR8tBVkT",
        "outputId": "f08eb00e-483e-44ca-ba60-32134192aac4"
      },
      "outputs": [
        {
          "ename": "NameError",
          "evalue": "ignored",
          "output_type": "error",
          "traceback": [
            "\u001b[0;31m---------------------------------------------------------------------------\u001b[0m",
            "\u001b[0;31mNameError\u001b[0m                                 Traceback (most recent call last)",
            "\u001b[0;32m<ipython-input-11-ccdbb7c00747>\u001b[0m in \u001b[0;36m<module>\u001b[0;34m()\u001b[0m\n\u001b[0;32m----> 1\u001b[0;31m \u001b[0mdf\u001b[0m \u001b[0;34m=\u001b[0m \u001b[0mpd\u001b[0m\u001b[0;34m.\u001b[0m\u001b[0mread_sql\u001b[0m\u001b[0;34m(\u001b[0m\u001b[0mquery_sql\u001b[0m\u001b[0;34m,\u001b[0m \u001b[0msql_conn\u001b[0m\u001b[0;34m)\u001b[0m\u001b[0;34m\u001b[0m\u001b[0;34m\u001b[0m\u001b[0m\n\u001b[0m\u001b[1;32m      2\u001b[0m \u001b[0mdf\u001b[0m\u001b[0;34m.\u001b[0m\u001b[0mhead\u001b[0m\u001b[0;34m(\u001b[0m\u001b[0;36m5\u001b[0m\u001b[0;34m)\u001b[0m\u001b[0;34m\u001b[0m\u001b[0;34m\u001b[0m\u001b[0m\n",
            "\u001b[0;31mNameError\u001b[0m: name 'sql_conn' is not defined"
          ]
        }
      ],
      "source": [
        "df = pd.read_sql(query_sql, sql_conn)\n",
        "df.head(5)"
      ]
    }
  ],
  "metadata": {
    "colab": {
      "collapsed_sections": [],
      "name": "4_conexion_con_bases_de-datos_tipo_SQL",
      "provenance": []
    },
    "kernelspec": {
      "display_name": "Python 3",
      "name": "python3"
    },
    "language_info": {
      "name": "python",
      "version": "3.9.6"
    }
  },
  "nbformat": 4,
  "nbformat_minor": 0
}
