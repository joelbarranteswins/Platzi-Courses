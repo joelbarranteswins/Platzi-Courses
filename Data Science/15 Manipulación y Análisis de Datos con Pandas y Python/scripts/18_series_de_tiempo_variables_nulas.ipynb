{
 "cells": [
  {
   "cell_type": "markdown",
   "metadata": {},
   "source": [
    "# Series de Tiempo: variables nulas"
   ]
  },
  {
   "cell_type": "code",
   "execution_count": 1,
   "metadata": {},
   "outputs": [
    {
     "data": {
      "text/plain": [
       "'1.4.0'"
      ]
     },
     "execution_count": 1,
     "metadata": {},
     "output_type": "execute_result"
    }
   ],
   "source": [
    "import pandas as pd\n",
    "pd.__version__"
   ]
  },
  {
   "cell_type": "code",
   "execution_count": 2,
   "metadata": {},
   "outputs": [
    {
     "data": {
      "text/html": [
       "<div>\n",
       "<style scoped>\n",
       "    .dataframe tbody tr th:only-of-type {\n",
       "        vertical-align: middle;\n",
       "    }\n",
       "\n",
       "    .dataframe tbody tr th {\n",
       "        vertical-align: top;\n",
       "    }\n",
       "\n",
       "    .dataframe thead th {\n",
       "        text-align: right;\n",
       "    }\n",
       "</style>\n",
       "<table border=\"1\" class=\"dataframe\">\n",
       "  <thead>\n",
       "    <tr style=\"text-align: right;\">\n",
       "      <th></th>\n",
       "      <th>SNo</th>\n",
       "      <th>ObservationDate</th>\n",
       "      <th>Province/State</th>\n",
       "      <th>Country/Region</th>\n",
       "      <th>Last Update</th>\n",
       "      <th>Confirmed</th>\n",
       "      <th>Deaths</th>\n",
       "      <th>Recovered</th>\n",
       "    </tr>\n",
       "  </thead>\n",
       "  <tbody>\n",
       "    <tr>\n",
       "      <th>658</th>\n",
       "      <td>659</td>\n",
       "      <td>02/03/2020</td>\n",
       "      <td>NaN</td>\n",
       "      <td>Singapore</td>\n",
       "      <td>2020-02-02T01:03:32</td>\n",
       "      <td>18.0</td>\n",
       "      <td>0.0</td>\n",
       "      <td>0.0</td>\n",
       "    </tr>\n",
       "    <tr>\n",
       "      <th>1827</th>\n",
       "      <td>1828</td>\n",
       "      <td>02/19/2020</td>\n",
       "      <td>Qinghai</td>\n",
       "      <td>Mainland China</td>\n",
       "      <td>2020-02-19T04:53:02</td>\n",
       "      <td>18.0</td>\n",
       "      <td>0.0</td>\n",
       "      <td>16.0</td>\n",
       "    </tr>\n",
       "    <tr>\n",
       "      <th>1871</th>\n",
       "      <td>1872</td>\n",
       "      <td>02/20/2020</td>\n",
       "      <td>Anhui</td>\n",
       "      <td>Mainland China</td>\n",
       "      <td>2020-02-20T09:53:02</td>\n",
       "      <td>987.0</td>\n",
       "      <td>6.0</td>\n",
       "      <td>474.0</td>\n",
       "    </tr>\n",
       "    <tr>\n",
       "      <th>2991</th>\n",
       "      <td>2992</td>\n",
       "      <td>03/02/2020</td>\n",
       "      <td>NaN</td>\n",
       "      <td>Norway</td>\n",
       "      <td>2020-03-02T20:53:02</td>\n",
       "      <td>25.0</td>\n",
       "      <td>0.0</td>\n",
       "      <td>0.0</td>\n",
       "    </tr>\n",
       "    <tr>\n",
       "      <th>1533</th>\n",
       "      <td>1534</td>\n",
       "      <td>02/15/2020</td>\n",
       "      <td>NaN</td>\n",
       "      <td>United Arab Emirates</td>\n",
       "      <td>2020-02-15T06:03:03</td>\n",
       "      <td>8.0</td>\n",
       "      <td>0.0</td>\n",
       "      <td>3.0</td>\n",
       "    </tr>\n",
       "    <tr>\n",
       "      <th>2938</th>\n",
       "      <td>2939</td>\n",
       "      <td>03/01/2020</td>\n",
       "      <td>Tempe, AZ</td>\n",
       "      <td>US</td>\n",
       "      <td>2020-02-25T21:23:03</td>\n",
       "      <td>1.0</td>\n",
       "      <td>0.0</td>\n",
       "      <td>1.0</td>\n",
       "    </tr>\n",
       "    <tr>\n",
       "      <th>636</th>\n",
       "      <td>637</td>\n",
       "      <td>02/03/2020</td>\n",
       "      <td>Shandong</td>\n",
       "      <td>Mainland China</td>\n",
       "      <td>2020-02-03T17:11:34</td>\n",
       "      <td>259.0</td>\n",
       "      <td>0.0</td>\n",
       "      <td>7.0</td>\n",
       "    </tr>\n",
       "    <tr>\n",
       "      <th>2879</th>\n",
       "      <td>2880</td>\n",
       "      <td>03/01/2020</td>\n",
       "      <td>British Columbia</td>\n",
       "      <td>Canada</td>\n",
       "      <td>2020-02-29T23:23:13</td>\n",
       "      <td>8.0</td>\n",
       "      <td>0.0</td>\n",
       "      <td>3.0</td>\n",
       "    </tr>\n",
       "    <tr>\n",
       "      <th>1932</th>\n",
       "      <td>1933</td>\n",
       "      <td>02/20/2020</td>\n",
       "      <td>NaN</td>\n",
       "      <td>Nepal</td>\n",
       "      <td>2020-02-12T14:43:03</td>\n",
       "      <td>1.0</td>\n",
       "      <td>0.0</td>\n",
       "      <td>1.0</td>\n",
       "    </tr>\n",
       "    <tr>\n",
       "      <th>3298</th>\n",
       "      <td>3299</td>\n",
       "      <td>03/04/2020</td>\n",
       "      <td>NaN</td>\n",
       "      <td>Oman</td>\n",
       "      <td>2020-03-04T19:33:03</td>\n",
       "      <td>15.0</td>\n",
       "      <td>0.0</td>\n",
       "      <td>2.0</td>\n",
       "    </tr>\n",
       "  </tbody>\n",
       "</table>\n",
       "</div>"
      ],
      "text/plain": [
       "       SNo ObservationDate    Province/State        Country/Region  \\\n",
       "658    659      02/03/2020               NaN             Singapore   \n",
       "1827  1828      02/19/2020           Qinghai        Mainland China   \n",
       "1871  1872      02/20/2020             Anhui        Mainland China   \n",
       "2991  2992      03/02/2020               NaN                Norway   \n",
       "1533  1534      02/15/2020               NaN  United Arab Emirates   \n",
       "2938  2939      03/01/2020         Tempe, AZ                    US   \n",
       "636    637      02/03/2020          Shandong        Mainland China   \n",
       "2879  2880      03/01/2020  British Columbia                Canada   \n",
       "1932  1933      02/20/2020               NaN                 Nepal   \n",
       "3298  3299      03/04/2020               NaN                  Oman   \n",
       "\n",
       "              Last Update  Confirmed  Deaths  Recovered  \n",
       "658   2020-02-02T01:03:32       18.0     0.0        0.0  \n",
       "1827  2020-02-19T04:53:02       18.0     0.0       16.0  \n",
       "1871  2020-02-20T09:53:02      987.0     6.0      474.0  \n",
       "2991  2020-03-02T20:53:02       25.0     0.0        0.0  \n",
       "1533  2020-02-15T06:03:03        8.0     0.0        3.0  \n",
       "2938  2020-02-25T21:23:03        1.0     0.0        1.0  \n",
       "636   2020-02-03T17:11:34      259.0     0.0        7.0  \n",
       "2879  2020-02-29T23:23:13        8.0     0.0        3.0  \n",
       "1932  2020-02-12T14:43:03        1.0     0.0        1.0  \n",
       "3298  2020-03-04T19:33:03       15.0     0.0        2.0  "
      ]
     },
     "execution_count": 2,
     "metadata": {},
     "output_type": "execute_result"
    }
   ],
   "source": [
    "df = pd.read_csv('../data/covid_19_data.csv')\n",
    "df.sample(10)"
   ]
  },
  {
   "cell_type": "code",
   "execution_count": 6,
   "metadata": {},
   "outputs": [],
   "source": [
    "df['ObservationDate'] = pd.to_datetime(df['ObservationDate'])\n",
    "df = df[[\n",
    "    'ObservationDate',\n",
    "    'Country/Region',\n",
    "    'Confirmed',\n",
    "    'Deaths',\n",
    "    'Recovered'\n",
    "    ]]\n",
    "df_time = df.groupby('ObservationDate').sum()"
   ]
  },
  {
   "cell_type": "code",
   "execution_count": 5,
   "metadata": {},
   "outputs": [
    {
     "data": {
      "text/html": [
       "<div>\n",
       "<style scoped>\n",
       "    .dataframe tbody tr th:only-of-type {\n",
       "        vertical-align: middle;\n",
       "    }\n",
       "\n",
       "    .dataframe tbody tr th {\n",
       "        vertical-align: top;\n",
       "    }\n",
       "\n",
       "    .dataframe thead th {\n",
       "        text-align: right;\n",
       "    }\n",
       "</style>\n",
       "<table border=\"1\" class=\"dataframe\">\n",
       "  <thead>\n",
       "    <tr style=\"text-align: right;\">\n",
       "      <th></th>\n",
       "      <th>Confirmed</th>\n",
       "      <th>Deaths</th>\n",
       "      <th>Recovered</th>\n",
       "    </tr>\n",
       "    <tr>\n",
       "      <th>ObservationDate</th>\n",
       "      <th></th>\n",
       "      <th></th>\n",
       "      <th></th>\n",
       "    </tr>\n",
       "  </thead>\n",
       "  <tbody>\n",
       "    <tr>\n",
       "      <th>2020-01-22 00:00:00</th>\n",
       "      <td>555.0</td>\n",
       "      <td>17.0</td>\n",
       "      <td>28.0</td>\n",
       "    </tr>\n",
       "    <tr>\n",
       "      <th>2020-01-22 12:00:00</th>\n",
       "      <td>NaN</td>\n",
       "      <td>NaN</td>\n",
       "      <td>NaN</td>\n",
       "    </tr>\n",
       "    <tr>\n",
       "      <th>2020-01-23 00:00:00</th>\n",
       "      <td>653.0</td>\n",
       "      <td>18.0</td>\n",
       "      <td>30.0</td>\n",
       "    </tr>\n",
       "    <tr>\n",
       "      <th>2020-01-23 12:00:00</th>\n",
       "      <td>NaN</td>\n",
       "      <td>NaN</td>\n",
       "      <td>NaN</td>\n",
       "    </tr>\n",
       "    <tr>\n",
       "      <th>2020-01-24 00:00:00</th>\n",
       "      <td>941.0</td>\n",
       "      <td>26.0</td>\n",
       "      <td>36.0</td>\n",
       "    </tr>\n",
       "    <tr>\n",
       "      <th>...</th>\n",
       "      <td>...</td>\n",
       "      <td>...</td>\n",
       "      <td>...</td>\n",
       "    </tr>\n",
       "    <tr>\n",
       "      <th>2020-03-02 00:00:00</th>\n",
       "      <td>90309.0</td>\n",
       "      <td>3085.0</td>\n",
       "      <td>45602.0</td>\n",
       "    </tr>\n",
       "    <tr>\n",
       "      <th>2020-03-02 12:00:00</th>\n",
       "      <td>NaN</td>\n",
       "      <td>NaN</td>\n",
       "      <td>NaN</td>\n",
       "    </tr>\n",
       "    <tr>\n",
       "      <th>2020-03-03 00:00:00</th>\n",
       "      <td>92844.0</td>\n",
       "      <td>3160.0</td>\n",
       "      <td>48229.0</td>\n",
       "    </tr>\n",
       "    <tr>\n",
       "      <th>2020-03-03 12:00:00</th>\n",
       "      <td>NaN</td>\n",
       "      <td>NaN</td>\n",
       "      <td>NaN</td>\n",
       "    </tr>\n",
       "    <tr>\n",
       "      <th>2020-03-04 00:00:00</th>\n",
       "      <td>95124.0</td>\n",
       "      <td>3254.0</td>\n",
       "      <td>51171.0</td>\n",
       "    </tr>\n",
       "  </tbody>\n",
       "</table>\n",
       "<p>85 rows × 3 columns</p>\n",
       "</div>"
      ],
      "text/plain": [
       "                     Confirmed  Deaths  Recovered\n",
       "ObservationDate                                  \n",
       "2020-01-22 00:00:00      555.0    17.0       28.0\n",
       "2020-01-22 12:00:00        NaN     NaN        NaN\n",
       "2020-01-23 00:00:00      653.0    18.0       30.0\n",
       "2020-01-23 12:00:00        NaN     NaN        NaN\n",
       "2020-01-24 00:00:00      941.0    26.0       36.0\n",
       "...                        ...     ...        ...\n",
       "2020-03-02 00:00:00    90309.0  3085.0    45602.0\n",
       "2020-03-02 12:00:00        NaN     NaN        NaN\n",
       "2020-03-03 00:00:00    92844.0  3160.0    48229.0\n",
       "2020-03-03 12:00:00        NaN     NaN        NaN\n",
       "2020-03-04 00:00:00    95124.0  3254.0    51171.0\n",
       "\n",
       "[85 rows x 3 columns]"
      ]
     },
     "execution_count": 5,
     "metadata": {},
     "output_type": "execute_result"
    }
   ],
   "source": [
    "# ver los valores diaria cada 12 horas\n",
    "df_time.resample('12h').mean()"
   ]
  },
  {
   "cell_type": "code",
   "execution_count": 7,
   "metadata": {},
   "outputs": [
    {
     "data": {
      "text/html": [
       "<div>\n",
       "<style scoped>\n",
       "    .dataframe tbody tr th:only-of-type {\n",
       "        vertical-align: middle;\n",
       "    }\n",
       "\n",
       "    .dataframe tbody tr th {\n",
       "        vertical-align: top;\n",
       "    }\n",
       "\n",
       "    .dataframe thead th {\n",
       "        text-align: right;\n",
       "    }\n",
       "</style>\n",
       "<table border=\"1\" class=\"dataframe\">\n",
       "  <thead>\n",
       "    <tr style=\"text-align: right;\">\n",
       "      <th></th>\n",
       "      <th>Confirmed</th>\n",
       "      <th>Deaths</th>\n",
       "      <th>Recovered</th>\n",
       "    </tr>\n",
       "    <tr>\n",
       "      <th>ObservationDate</th>\n",
       "      <th></th>\n",
       "      <th></th>\n",
       "      <th></th>\n",
       "    </tr>\n",
       "  </thead>\n",
       "  <tbody>\n",
       "    <tr>\n",
       "      <th>2020-01-22 00:00:00</th>\n",
       "      <td>555.0</td>\n",
       "      <td>17.0</td>\n",
       "      <td>28.0</td>\n",
       "    </tr>\n",
       "    <tr>\n",
       "      <th>2020-01-22 12:00:00</th>\n",
       "      <td>NaN</td>\n",
       "      <td>NaN</td>\n",
       "      <td>NaN</td>\n",
       "    </tr>\n",
       "    <tr>\n",
       "      <th>2020-01-23 00:00:00</th>\n",
       "      <td>653.0</td>\n",
       "      <td>18.0</td>\n",
       "      <td>30.0</td>\n",
       "    </tr>\n",
       "    <tr>\n",
       "      <th>2020-01-23 12:00:00</th>\n",
       "      <td>NaN</td>\n",
       "      <td>NaN</td>\n",
       "      <td>NaN</td>\n",
       "    </tr>\n",
       "    <tr>\n",
       "      <th>2020-01-24 00:00:00</th>\n",
       "      <td>941.0</td>\n",
       "      <td>26.0</td>\n",
       "      <td>36.0</td>\n",
       "    </tr>\n",
       "    <tr>\n",
       "      <th>...</th>\n",
       "      <td>...</td>\n",
       "      <td>...</td>\n",
       "      <td>...</td>\n",
       "    </tr>\n",
       "    <tr>\n",
       "      <th>2020-03-02 00:00:00</th>\n",
       "      <td>90309.0</td>\n",
       "      <td>3085.0</td>\n",
       "      <td>45602.0</td>\n",
       "    </tr>\n",
       "    <tr>\n",
       "      <th>2020-03-02 12:00:00</th>\n",
       "      <td>NaN</td>\n",
       "      <td>NaN</td>\n",
       "      <td>NaN</td>\n",
       "    </tr>\n",
       "    <tr>\n",
       "      <th>2020-03-03 00:00:00</th>\n",
       "      <td>92844.0</td>\n",
       "      <td>3160.0</td>\n",
       "      <td>48229.0</td>\n",
       "    </tr>\n",
       "    <tr>\n",
       "      <th>2020-03-03 12:00:00</th>\n",
       "      <td>NaN</td>\n",
       "      <td>NaN</td>\n",
       "      <td>NaN</td>\n",
       "    </tr>\n",
       "    <tr>\n",
       "      <th>2020-03-04 00:00:00</th>\n",
       "      <td>95124.0</td>\n",
       "      <td>3254.0</td>\n",
       "      <td>51171.0</td>\n",
       "    </tr>\n",
       "  </tbody>\n",
       "</table>\n",
       "<p>85 rows × 3 columns</p>\n",
       "</div>"
      ],
      "text/plain": [
       "                     Confirmed  Deaths  Recovered\n",
       "ObservationDate                                  \n",
       "2020-01-22 00:00:00      555.0    17.0       28.0\n",
       "2020-01-22 12:00:00        NaN     NaN        NaN\n",
       "2020-01-23 00:00:00      653.0    18.0       30.0\n",
       "2020-01-23 12:00:00        NaN     NaN        NaN\n",
       "2020-01-24 00:00:00      941.0    26.0       36.0\n",
       "...                        ...     ...        ...\n",
       "2020-03-02 00:00:00    90309.0  3085.0    45602.0\n",
       "2020-03-02 12:00:00        NaN     NaN        NaN\n",
       "2020-03-03 00:00:00    92844.0  3160.0    48229.0\n",
       "2020-03-03 12:00:00        NaN     NaN        NaN\n",
       "2020-03-04 00:00:00    95124.0  3254.0    51171.0\n",
       "\n",
       "[85 rows x 3 columns]"
      ]
     },
     "execution_count": 7,
     "metadata": {},
     "output_type": "execute_result"
    }
   ],
   "source": [
    "df_cum = df_time.resample('12h').sum(min_count=1)\n",
    "df_cum"
   ]
  },
  {
   "cell_type": "markdown",
   "metadata": {},
   "source": [
    "## para replazar los na\n",
    "* remplaza con el valor anterior\n",
    "  \n",
    "df_cum.bfill() \n",
    "\n",
    "* remplaza con el valor siguiente\n",
    "  \n",
    "df_cum.ffill() \n",
    "\n",
    "* remplaza el na con un valor\n",
    "  \n",
    "df_cum.fillna(-100) "
   ]
  },
  {
   "cell_type": "code",
   "execution_count": 8,
   "metadata": {},
   "outputs": [
    {
     "data": {
      "text/html": [
       "<div>\n",
       "<style scoped>\n",
       "    .dataframe tbody tr th:only-of-type {\n",
       "        vertical-align: middle;\n",
       "    }\n",
       "\n",
       "    .dataframe tbody tr th {\n",
       "        vertical-align: top;\n",
       "    }\n",
       "\n",
       "    .dataframe thead th {\n",
       "        text-align: right;\n",
       "    }\n",
       "</style>\n",
       "<table border=\"1\" class=\"dataframe\">\n",
       "  <thead>\n",
       "    <tr style=\"text-align: right;\">\n",
       "      <th></th>\n",
       "      <th>Confirmed</th>\n",
       "      <th>Deaths</th>\n",
       "      <th>Recovered</th>\n",
       "    </tr>\n",
       "    <tr>\n",
       "      <th>ObservationDate</th>\n",
       "      <th></th>\n",
       "      <th></th>\n",
       "      <th></th>\n",
       "    </tr>\n",
       "  </thead>\n",
       "  <tbody>\n",
       "    <tr>\n",
       "      <th>2020-01-22 00:00:00</th>\n",
       "      <td>555.0</td>\n",
       "      <td>17.0</td>\n",
       "      <td>28.0</td>\n",
       "    </tr>\n",
       "    <tr>\n",
       "      <th>2020-01-22 12:00:00</th>\n",
       "      <td>604.0</td>\n",
       "      <td>17.5</td>\n",
       "      <td>29.0</td>\n",
       "    </tr>\n",
       "    <tr>\n",
       "      <th>2020-01-23 00:00:00</th>\n",
       "      <td>653.0</td>\n",
       "      <td>18.0</td>\n",
       "      <td>30.0</td>\n",
       "    </tr>\n",
       "    <tr>\n",
       "      <th>2020-01-23 12:00:00</th>\n",
       "      <td>797.0</td>\n",
       "      <td>22.0</td>\n",
       "      <td>33.0</td>\n",
       "    </tr>\n",
       "    <tr>\n",
       "      <th>2020-01-24 00:00:00</th>\n",
       "      <td>941.0</td>\n",
       "      <td>26.0</td>\n",
       "      <td>36.0</td>\n",
       "    </tr>\n",
       "    <tr>\n",
       "      <th>...</th>\n",
       "      <td>...</td>\n",
       "      <td>...</td>\n",
       "      <td>...</td>\n",
       "    </tr>\n",
       "    <tr>\n",
       "      <th>2020-03-02 00:00:00</th>\n",
       "      <td>90309.0</td>\n",
       "      <td>3085.0</td>\n",
       "      <td>45602.0</td>\n",
       "    </tr>\n",
       "    <tr>\n",
       "      <th>2020-03-02 12:00:00</th>\n",
       "      <td>91576.5</td>\n",
       "      <td>3122.5</td>\n",
       "      <td>46915.5</td>\n",
       "    </tr>\n",
       "    <tr>\n",
       "      <th>2020-03-03 00:00:00</th>\n",
       "      <td>92844.0</td>\n",
       "      <td>3160.0</td>\n",
       "      <td>48229.0</td>\n",
       "    </tr>\n",
       "    <tr>\n",
       "      <th>2020-03-03 12:00:00</th>\n",
       "      <td>93984.0</td>\n",
       "      <td>3207.0</td>\n",
       "      <td>49700.0</td>\n",
       "    </tr>\n",
       "    <tr>\n",
       "      <th>2020-03-04 00:00:00</th>\n",
       "      <td>95124.0</td>\n",
       "      <td>3254.0</td>\n",
       "      <td>51171.0</td>\n",
       "    </tr>\n",
       "  </tbody>\n",
       "</table>\n",
       "<p>85 rows × 3 columns</p>\n",
       "</div>"
      ],
      "text/plain": [
       "                     Confirmed  Deaths  Recovered\n",
       "ObservationDate                                  \n",
       "2020-01-22 00:00:00      555.0    17.0       28.0\n",
       "2020-01-22 12:00:00      604.0    17.5       29.0\n",
       "2020-01-23 00:00:00      653.0    18.0       30.0\n",
       "2020-01-23 12:00:00      797.0    22.0       33.0\n",
       "2020-01-24 00:00:00      941.0    26.0       36.0\n",
       "...                        ...     ...        ...\n",
       "2020-03-02 00:00:00    90309.0  3085.0    45602.0\n",
       "2020-03-02 12:00:00    91576.5  3122.5    46915.5\n",
       "2020-03-03 00:00:00    92844.0  3160.0    48229.0\n",
       "2020-03-03 12:00:00    93984.0  3207.0    49700.0\n",
       "2020-03-04 00:00:00    95124.0  3254.0    51171.0\n",
       "\n",
       "[85 rows x 3 columns]"
      ]
     },
     "execution_count": 8,
     "metadata": {},
     "output_type": "execute_result"
    }
   ],
   "source": [
    "df_cum = df_cum.interpolate()\n",
    "df_cum"
   ]
  },
  {
   "cell_type": "code",
   "execution_count": 9,
   "metadata": {},
   "outputs": [],
   "source": [
    "df_cum['rate'] = 1 - df_cum['Deaths']/df_cum['Confirmed']"
   ]
  },
  {
   "cell_type": "code",
   "execution_count": 10,
   "metadata": {},
   "outputs": [
    {
     "data": {
      "text/html": [
       "<div>\n",
       "<style scoped>\n",
       "    .dataframe tbody tr th:only-of-type {\n",
       "        vertical-align: middle;\n",
       "    }\n",
       "\n",
       "    .dataframe tbody tr th {\n",
       "        vertical-align: top;\n",
       "    }\n",
       "\n",
       "    .dataframe thead th {\n",
       "        text-align: right;\n",
       "    }\n",
       "</style>\n",
       "<table border=\"1\" class=\"dataframe\">\n",
       "  <thead>\n",
       "    <tr style=\"text-align: right;\">\n",
       "      <th></th>\n",
       "      <th>ObservationDate</th>\n",
       "      <th>Confirmed</th>\n",
       "      <th>Deaths</th>\n",
       "      <th>Recovered</th>\n",
       "      <th>rate</th>\n",
       "    </tr>\n",
       "  </thead>\n",
       "  <tbody>\n",
       "    <tr>\n",
       "      <th>0</th>\n",
       "      <td>2020-01-22 00:00:00</td>\n",
       "      <td>555.0</td>\n",
       "      <td>17.0</td>\n",
       "      <td>28.0</td>\n",
       "      <td>0.969369</td>\n",
       "    </tr>\n",
       "    <tr>\n",
       "      <th>1</th>\n",
       "      <td>2020-01-22 12:00:00</td>\n",
       "      <td>604.0</td>\n",
       "      <td>17.5</td>\n",
       "      <td>29.0</td>\n",
       "      <td>0.971026</td>\n",
       "    </tr>\n",
       "    <tr>\n",
       "      <th>2</th>\n",
       "      <td>2020-01-23 00:00:00</td>\n",
       "      <td>653.0</td>\n",
       "      <td>18.0</td>\n",
       "      <td>30.0</td>\n",
       "      <td>0.972435</td>\n",
       "    </tr>\n",
       "    <tr>\n",
       "      <th>3</th>\n",
       "      <td>2020-01-23 12:00:00</td>\n",
       "      <td>797.0</td>\n",
       "      <td>22.0</td>\n",
       "      <td>33.0</td>\n",
       "      <td>0.972396</td>\n",
       "    </tr>\n",
       "    <tr>\n",
       "      <th>4</th>\n",
       "      <td>2020-01-24 00:00:00</td>\n",
       "      <td>941.0</td>\n",
       "      <td>26.0</td>\n",
       "      <td>36.0</td>\n",
       "      <td>0.972370</td>\n",
       "    </tr>\n",
       "    <tr>\n",
       "      <th>...</th>\n",
       "      <td>...</td>\n",
       "      <td>...</td>\n",
       "      <td>...</td>\n",
       "      <td>...</td>\n",
       "      <td>...</td>\n",
       "    </tr>\n",
       "    <tr>\n",
       "      <th>80</th>\n",
       "      <td>2020-03-02 00:00:00</td>\n",
       "      <td>90309.0</td>\n",
       "      <td>3085.0</td>\n",
       "      <td>45602.0</td>\n",
       "      <td>0.965840</td>\n",
       "    </tr>\n",
       "    <tr>\n",
       "      <th>81</th>\n",
       "      <td>2020-03-02 12:00:00</td>\n",
       "      <td>91576.5</td>\n",
       "      <td>3122.5</td>\n",
       "      <td>46915.5</td>\n",
       "      <td>0.965903</td>\n",
       "    </tr>\n",
       "    <tr>\n",
       "      <th>82</th>\n",
       "      <td>2020-03-03 00:00:00</td>\n",
       "      <td>92844.0</td>\n",
       "      <td>3160.0</td>\n",
       "      <td>48229.0</td>\n",
       "      <td>0.965964</td>\n",
       "    </tr>\n",
       "    <tr>\n",
       "      <th>83</th>\n",
       "      <td>2020-03-03 12:00:00</td>\n",
       "      <td>93984.0</td>\n",
       "      <td>3207.0</td>\n",
       "      <td>49700.0</td>\n",
       "      <td>0.965877</td>\n",
       "    </tr>\n",
       "    <tr>\n",
       "      <th>84</th>\n",
       "      <td>2020-03-04 00:00:00</td>\n",
       "      <td>95124.0</td>\n",
       "      <td>3254.0</td>\n",
       "      <td>51171.0</td>\n",
       "      <td>0.965792</td>\n",
       "    </tr>\n",
       "  </tbody>\n",
       "</table>\n",
       "<p>85 rows × 5 columns</p>\n",
       "</div>"
      ],
      "text/plain": [
       "       ObservationDate  Confirmed  Deaths  Recovered      rate\n",
       "0  2020-01-22 00:00:00      555.0    17.0       28.0  0.969369\n",
       "1  2020-01-22 12:00:00      604.0    17.5       29.0  0.971026\n",
       "2  2020-01-23 00:00:00      653.0    18.0       30.0  0.972435\n",
       "3  2020-01-23 12:00:00      797.0    22.0       33.0  0.972396\n",
       "4  2020-01-24 00:00:00      941.0    26.0       36.0  0.972370\n",
       "..                 ...        ...     ...        ...       ...\n",
       "80 2020-03-02 00:00:00    90309.0  3085.0    45602.0  0.965840\n",
       "81 2020-03-02 12:00:00    91576.5  3122.5    46915.5  0.965903\n",
       "82 2020-03-03 00:00:00    92844.0  3160.0    48229.0  0.965964\n",
       "83 2020-03-03 12:00:00    93984.0  3207.0    49700.0  0.965877\n",
       "84 2020-03-04 00:00:00    95124.0  3254.0    51171.0  0.965792\n",
       "\n",
       "[85 rows x 5 columns]"
      ]
     },
     "execution_count": 10,
     "metadata": {},
     "output_type": "execute_result"
    }
   ],
   "source": [
    "df_cum = df_cum.reset_index()\n",
    "df_cum"
   ]
  },
  {
   "cell_type": "markdown",
   "metadata": {},
   "source": [
    "## Grouper para crear intervalos de tiempo"
   ]
  },
  {
   "cell_type": "code",
   "execution_count": 14,
   "metadata": {},
   "outputs": [
    {
     "data": {
      "text/html": [
       "<div>\n",
       "<style scoped>\n",
       "    .dataframe tbody tr th:only-of-type {\n",
       "        vertical-align: middle;\n",
       "    }\n",
       "\n",
       "    .dataframe tbody tr th {\n",
       "        vertical-align: top;\n",
       "    }\n",
       "\n",
       "    .dataframe thead th {\n",
       "        text-align: right;\n",
       "    }\n",
       "</style>\n",
       "<table border=\"1\" class=\"dataframe\">\n",
       "  <thead>\n",
       "    <tr style=\"text-align: right;\">\n",
       "      <th></th>\n",
       "      <th>rate</th>\n",
       "    </tr>\n",
       "    <tr>\n",
       "      <th>ObservationDate</th>\n",
       "      <th></th>\n",
       "    </tr>\n",
       "  </thead>\n",
       "  <tbody>\n",
       "    <tr>\n",
       "      <th>2020-01-31</th>\n",
       "      <td>0.974594</td>\n",
       "    </tr>\n",
       "    <tr>\n",
       "      <th>2020-02-29</th>\n",
       "      <td>0.973562</td>\n",
       "    </tr>\n",
       "    <tr>\n",
       "      <th>2020-03-31</th>\n",
       "      <td>0.965920</td>\n",
       "    </tr>\n",
       "  </tbody>\n",
       "</table>\n",
       "</div>"
      ],
      "text/plain": [
       "                     rate\n",
       "ObservationDate          \n",
       "2020-01-31       0.974594\n",
       "2020-02-29       0.973562\n",
       "2020-03-31       0.965920"
      ]
     },
     "execution_count": 14,
     "metadata": {},
     "output_type": "execute_result"
    }
   ],
   "source": [
    "df_cum.groupby(pd.Grouper(key='ObservationDate', freq = '1M'))[['rate']].mean()"
   ]
  },
  {
   "cell_type": "code",
   "execution_count": 11,
   "metadata": {},
   "outputs": [
    {
     "data": {
      "text/plain": [
       "<AxesSubplot:xlabel='ObservationDate'>"
      ]
     },
     "execution_count": 11,
     "metadata": {},
     "output_type": "execute_result"
    },
    {
     "data": {
      "image/png": "[encoded data removed]",
      "text/plain": [
       "<Figure size 432x288 with 1 Axes>"
      ]
     },
     "metadata": {
      "needs_background": "light"
     },
     "output_type": "display_data"
    }
   ],
   "source": [
    "# key debe ser el tipo de dato datatime\n",
    "sr = df_cum.groupby(pd.Grouper(key='ObservationDate', freq = '1D'))['rate'].mean()\n",
    "sr.plot()"
   ]
  },
  {
   "cell_type": "code",
   "execution_count": 23,
   "metadata": {},
   "outputs": [],
   "source": [
    "rate_by_day = df_cum.groupby(pd.Grouper(key='ObservationDate', freq = '1D'))[['rate']].mean()"
   ]
  },
  {
   "cell_type": "code",
   "execution_count": 26,
   "metadata": {},
   "outputs": [],
   "source": [
    "rate_by_day= rate_by_day.reset_index()"
   ]
  },
  {
   "cell_type": "code",
   "execution_count": 27,
   "metadata": {},
   "outputs": [
    {
     "data": {
      "text/plain": [
       "Index(['ObservationDate', 'rate'], dtype='object')"
      ]
     },
     "execution_count": 27,
     "metadata": {},
     "output_type": "execute_result"
    }
   ],
   "source": [
    "rate_by_day.columns"
   ]
  },
  {
   "cell_type": "code",
   "execution_count": 30,
   "metadata": {},
   "outputs": [
    {
     "data": {
      "image/png": "[encoded data removed]",
      "text/plain": [
       "<Figure size 1080x504 with 1 Axes>"
      ]
     },
     "metadata": {
      "needs_background": "light"
     },
     "output_type": "display_data"
    }
   ],
   "source": [
    "import seaborn as sns\n",
    "import matplotlib.pyplot as plt\n",
    "plt.subplots(figsize=(15,7))\n",
    "sns.scatterplot(x='ObservationDate', y='rate', data=rate_by_day)\n",
    "plt.xticks(rotation=45)\n",
    "plt.show()"
   ]
  },
  {
   "cell_type": "markdown",
   "metadata": {},
   "source": [
    "# Rolling para definir intervalos de tiempos"
   ]
  },
  {
   "cell_type": "code",
   "execution_count": 31,
   "metadata": {},
   "outputs": [
    {
     "data": {
      "text/plain": [
       "<AxesSubplot:xlabel='ObservationDate'>"
      ]
     },
     "execution_count": 31,
     "metadata": {},
     "output_type": "execute_result"
    },
    {
     "data": {
      "image/png": "[encoded data removed]",
      "text/plain": [
       "<Figure size 432x288 with 1 Axes>"
      ]
     },
     "metadata": {
      "needs_background": "light"
     },
     "output_type": "display_data"
    }
   ],
   "source": [
    "sr.rolling(window=7).mean().plot()"
   ]
  },
  {
   "cell_type": "code",
   "execution_count": 32,
   "metadata": {},
   "outputs": [
    {
     "data": {
      "text/plain": [
       "<AxesSubplot:xlabel='ObservationDate'>"
      ]
     },
     "execution_count": 32,
     "metadata": {},
     "output_type": "execute_result"
    },
    {
     "data": {
      "image/png": "[encoded data removed]",
      "text/plain": [
       "<Figure size 432x288 with 1 Axes>"
      ]
     },
     "metadata": {
      "needs_background": "light"
     },
     "output_type": "display_data"
    }
   ],
   "source": [
    "sr.rolling(window=14).mean().plot()"
   ]
  },
  {
   "cell_type": "markdown",
   "metadata": {},
   "source": [
    "### mientras se tenga un window con un mayor valor se ira suaviando las curvas"
   ]
  },
  {
   "cell_type": "code",
   "execution_count": 33,
   "metadata": {},
   "outputs": [
    {
     "data": {
      "text/plain": [
       "<AxesSubplot:xlabel='ObservationDate'>"
      ]
     },
     "execution_count": 33,
     "metadata": {},
     "output_type": "execute_result"
    },
    {
     "data": {
      "image/png": "[encoded data removed]",
      "text/plain": [
       "<Figure size 432x288 with 1 Axes>"
      ]
     },
     "metadata": {
      "needs_background": "light"
     },
     "output_type": "display_data"
    }
   ],
   "source": [
    "sr.plot()\n",
    "# roling permite hacer promedio con unas ventanas de frecuencias de tiempo\n",
    "sr.rolling(window=7).mean().plot()\n",
    "sr.rolling(window=14).mean().plot()"
   ]
  },
  {
   "cell_type": "code",
   "execution_count": 35,
   "metadata": {},
   "outputs": [
    {
     "data": {
      "image/png": "[encoded data removed]",
      "text/plain": [
       "<Figure size 432x288 with 1 Axes>"
      ]
     },
     "metadata": {
      "needs_background": "light"
     },
     "output_type": "display_data"
    }
   ],
   "source": [
    "import matplotlib.pyplot as plt\n",
    "\n",
    "plt.plot(sr)\n",
    "plt.plot(sr.rolling(window = 7).mean())\n",
    "plt.plot(sr.rolling(window = 14).mean())\n",
    "\n",
    "plt.xticks(rotation = '45')\n",
    "plt.show()"
   ]
  },
  {
   "cell_type": "code",
   "execution_count": 36,
   "metadata": {},
   "outputs": [],
   "source": [
    "import numpy as np"
   ]
  },
  {
   "cell_type": "code",
   "execution_count": 38,
   "metadata": {},
   "outputs": [
    {
     "data": {
      "text/plain": [
       "<AxesSubplot:xlabel='ObservationDate'>"
      ]
     },
     "execution_count": 38,
     "metadata": {},
     "output_type": "execute_result"
    },
    {
     "data": {
      "image/png": "[encoded data removed]",
      "text/plain": [
       "<Figure size 432x288 with 1 Axes>"
      ]
     },
     "metadata": {
      "needs_background": "light"
     },
     "output_type": "display_data"
    }
   ],
   "source": [
    "sr.rolling(window=14).std().plot()"
   ]
  },
  {
   "cell_type": "code",
   "execution_count": 37,
   "metadata": {},
   "outputs": [
    {
     "data": {
      "text/plain": [
       "<AxesSubplot:xlabel='ObservationDate'>"
      ]
     },
     "execution_count": 37,
     "metadata": {},
     "output_type": "execute_result"
    },
    {
     "data": {
      "image/png": "[encoded data removed]",
      "text/plain": [
       "<Figure size 432x288 with 1 Axes>"
      ]
     },
     "metadata": {
      "needs_background": "light"
     },
     "output_type": "display_data"
    }
   ],
   "source": [
    "sr.rolling(window=14).apply(lambda x: np.std(x)).plot()"
   ]
  }
 ],
 "metadata": {
  "interpreter": {
   "hash": "7ca37cc3750f4731a3342e9ffab9c77d7e018353ba9530e4cceefd29d0e02bb7"
  },
  "kernelspec": {
   "display_name": "Python 3.9.6 ('myenv')",
   "language": "python",
   "name": "python3"
  },
  "language_info": {
   "codemirror_mode": {
    "name": "ipython",
    "version": 3
   },
   "file_extension": ".py",
   "mimetype": "text/x-python",
   "name": "python",
   "nbconvert_exporter": "python",
   "pygments_lexer": "ipython3",
   "version": "3.9.6"
  },
  "orig_nbformat": 4
 },
 "nbformat": 4,
 "nbformat_minor": 2
}
