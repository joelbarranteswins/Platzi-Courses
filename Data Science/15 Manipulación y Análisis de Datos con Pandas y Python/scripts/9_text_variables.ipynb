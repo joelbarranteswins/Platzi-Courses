{
 "cells": [
  {
   "cell_type": "code",
   "execution_count": 1,
   "metadata": {},
   "outputs": [],
   "source": [
    "import pandas as pd\n",
    "data = {'names':['Sara Moreno 34',\n",
    "                 'jUAn GOMez 23',\n",
    "                 'CArlos mArtinez 89',\n",
    "                 'Alfredo VelaZques 3',\n",
    "                 'luis Mora 56',\n",
    "                 '@freddier #platzi 10',pd.NA]}"
   ]
  },
  {
   "cell_type": "code",
   "execution_count": 2,
   "metadata": {},
   "outputs": [
    {
     "data": {
      "text/html": [
       "<div>\n",
       "<style scoped>\n",
       "    .dataframe tbody tr th:only-of-type {\n",
       "        vertical-align: middle;\n",
       "    }\n",
       "\n",
       "    .dataframe tbody tr th {\n",
       "        vertical-align: top;\n",
       "    }\n",
       "\n",
       "    .dataframe thead th {\n",
       "        text-align: right;\n",
       "    }\n",
       "</style>\n",
       "<table border=\"1\" class=\"dataframe\">\n",
       "  <thead>\n",
       "    <tr style=\"text-align: right;\">\n",
       "      <th></th>\n",
       "      <th>names</th>\n",
       "    </tr>\n",
       "  </thead>\n",
       "  <tbody>\n",
       "    <tr>\n",
       "      <th>0</th>\n",
       "      <td>Sara Moreno 34</td>\n",
       "    </tr>\n",
       "    <tr>\n",
       "      <th>1</th>\n",
       "      <td>jUAn GOMez 23</td>\n",
       "    </tr>\n",
       "    <tr>\n",
       "      <th>2</th>\n",
       "      <td>CArlos mArtinez 89</td>\n",
       "    </tr>\n",
       "    <tr>\n",
       "      <th>3</th>\n",
       "      <td>Alfredo VelaZques 3</td>\n",
       "    </tr>\n",
       "    <tr>\n",
       "      <th>4</th>\n",
       "      <td>luis Mora 56</td>\n",
       "    </tr>\n",
       "    <tr>\n",
       "      <th>5</th>\n",
       "      <td>@freddier #platzi 10</td>\n",
       "    </tr>\n",
       "    <tr>\n",
       "      <th>6</th>\n",
       "      <td>&lt;NA&gt;</td>\n",
       "    </tr>\n",
       "  </tbody>\n",
       "</table>\n",
       "</div>"
      ],
      "text/plain": [
       "                  names\n",
       "0        Sara Moreno 34\n",
       "1         jUAn GOMez 23\n",
       "2    CArlos mArtinez 89\n",
       "3   Alfredo VelaZques 3\n",
       "4          luis Mora 56\n",
       "5  @freddier #platzi 10\n",
       "6                  <NA>"
      ]
     },
     "execution_count": 2,
     "metadata": {},
     "output_type": "execute_result"
    }
   ],
   "source": [
    "df = pd.DataFrame(data)\n",
    "df"
   ]
  },
  {
   "cell_type": "code",
   "execution_count": 3,
   "metadata": {},
   "outputs": [
    {
     "data": {
      "text/plain": [
       "0          sara moreno 34\n",
       "1           juan gomez 23\n",
       "2      carlos martinez 89\n",
       "3     alfredo velazques 3\n",
       "4            luis mora 56\n",
       "5    @freddier #platzi 10\n",
       "6                    <NA>\n",
       "Name: names, dtype: object"
      ]
     },
     "execution_count": 3,
     "metadata": {},
     "output_type": "execute_result"
    }
   ],
   "source": [
    "df['names'].str.lower()"
   ]
  },
  {
   "cell_type": "code",
   "execution_count": 4,
   "metadata": {},
   "outputs": [
    {
     "data": {
      "text/plain": [
       "0          SARA MORENO 34\n",
       "1           JUAN GOMEZ 23\n",
       "2      CARLOS MARTINEZ 89\n",
       "3     ALFREDO VELAZQUES 3\n",
       "4            LUIS MORA 56\n",
       "5    @FREDDIER #PLATZI 10\n",
       "6                    <NA>\n",
       "Name: names, dtype: object"
      ]
     },
     "execution_count": 4,
     "metadata": {},
     "output_type": "execute_result"
    }
   ],
   "source": [
    "df['names'].str.upper()"
   ]
  },
  {
   "cell_type": "code",
   "execution_count": 5,
   "metadata": {},
   "outputs": [
    {
     "data": {
      "text/plain": [
       "0          Sara moreno 34\n",
       "1           Juan gomez 23\n",
       "2      Carlos martinez 89\n",
       "3     Alfredo velazques 3\n",
       "4            Luis mora 56\n",
       "5    @freddier #platzi 10\n",
       "6                    <NA>\n",
       "Name: names, dtype: object"
      ]
     },
     "execution_count": 5,
     "metadata": {},
     "output_type": "execute_result"
    }
   ],
   "source": [
    "df['names'].str.capitalize()"
   ]
  },
  {
   "cell_type": "code",
   "execution_count": 6,
   "metadata": {},
   "outputs": [
    {
     "data": {
      "text/plain": [
       "0      14\n",
       "1      13\n",
       "2      18\n",
       "3      19\n",
       "4      12\n",
       "5      20\n",
       "6    <NA>\n",
       "Name: names, dtype: object"
      ]
     },
     "execution_count": 6,
     "metadata": {},
     "output_type": "execute_result"
    }
   ],
   "source": [
    "df['names'].str.len()"
   ]
  },
  {
   "cell_type": "code",
   "execution_count": 7,
   "metadata": {},
   "outputs": [
    {
     "data": {
      "text/plain": [
       "0          [Sara, Moreno, 34]\n",
       "1           [jUAn, GOMez, 23]\n",
       "2      [CArlos, mArtinez, 89]\n",
       "3     [Alfredo, VelaZques, 3]\n",
       "4            [luis, Mora, 56]\n",
       "5    [@freddier, #platzi, 10]\n",
       "6                        <NA>\n",
       "Name: names, dtype: object"
      ]
     },
     "execution_count": 7,
     "metadata": {},
     "output_type": "execute_result"
    }
   ],
   "source": [
    "df['names'].str.split(' ')"
   ]
  },
  {
   "cell_type": "code",
   "execution_count": 8,
   "metadata": {},
   "outputs": [
    {
     "data": {
      "text/plain": [
       "0           [Sara Moreno 34]\n",
       "1            [jUAn GOMez 23]\n",
       "2       [CArlos mArtinez 89]\n",
       "3      [Alfredo VelaZques 3]\n",
       "4             [luis Mora 56]\n",
       "5    [@freddier , platzi 10]\n",
       "6                       <NA>\n",
       "Name: names, dtype: object"
      ]
     },
     "execution_count": 8,
     "metadata": {},
     "output_type": "execute_result"
    }
   ],
   "source": [
    "#Para dividir el texto por espacios usamos split y definimos el carácter por\n",
    "# el que queremos dividir, en este caso, un espacio vacío ' ' o '#':\n",
    "df['names'].str.split('#') # Separar por # es un espacio vacio"
   ]
  },
  {
   "cell_type": "code",
   "execution_count": 9,
   "metadata": {},
   "outputs": [
    {
     "data": {
      "text/plain": [
       "0    Sara \n",
       "1    jUAn \n",
       "2    CArlo\n",
       "3    Alfre\n",
       "4    luis \n",
       "5    @fred\n",
       "6     <NA>\n",
       "Name: names, dtype: object"
      ]
     },
     "execution_count": 9,
     "metadata": {},
     "output_type": "execute_result"
    }
   ],
   "source": [
    "# Para seleccionar los primeros o últimos 5 caracteres usamos:\n",
    "df['names'].str[:5]"
   ]
  },
  {
   "cell_type": "code",
   "execution_count": 10,
   "metadata": {},
   "outputs": [
    {
     "data": {
      "text/plain": [
       "0    no 34\n",
       "1    ez 23\n",
       "2    ez 89\n",
       "3    ues 3\n",
       "4    ra 56\n",
       "5    zi 10\n",
       "6     <NA>\n",
       "Name: names, dtype: object"
      ]
     },
     "execution_count": 10,
     "metadata": {},
     "output_type": "execute_result"
    }
   ],
   "source": [
    "df['names'].str[-5:]"
   ]
  },
  {
   "cell_type": "code",
   "execution_count": 12,
   "metadata": {},
   "outputs": [
    {
     "data": {
      "text/plain": [
       "0          Sara Moreno 34\n",
       "1           jUAn GOMez 23\n",
       "2      CArlos mArtinez 89\n",
       "3     Antonio VelaZques 3\n",
       "4            luis Mora 56\n",
       "5    @freddier #platzi 10\n",
       "6                    <NA>\n",
       "Name: names, dtype: object"
      ]
     },
     "execution_count": 12,
     "metadata": {},
     "output_type": "execute_result"
    }
   ],
   "source": [
    "#Podemos reemplazar una secuencia de caracteres por otra mediante:\n",
    "df['names'].str.replace('Alfredo','Antonio')"
   ]
  },
  {
   "cell_type": "code",
   "execution_count": 13,
   "metadata": {},
   "outputs": [
    {
     "data": {
      "text/plain": [
       "0    [ara]\n",
       "1       []\n",
       "2       []\n",
       "3       []\n",
       "4       []\n",
       "5       []\n",
       "6     <NA>\n",
       "Name: names, dtype: object"
      ]
     },
     "execution_count": 13,
     "metadata": {},
     "output_type": "execute_result"
    }
   ],
   "source": [
    "#También podemos buscar una secuencia de texto en específico, en este caso, 'ara':\n",
    "df['names'].str.findall('ara')"
   ]
  },
  {
   "cell_type": "code",
   "execution_count": 15,
   "metadata": {},
   "outputs": [
    {
     "data": {
      "text/plain": [
       "0     True\n",
       "1    False\n",
       "2    False\n",
       "3    False\n",
       "4     True\n",
       "5    False\n",
       "6     <NA>\n",
       "Name: names, dtype: object"
      ]
     },
     "execution_count": 15,
     "metadata": {},
     "output_type": "execute_result"
    }
   ],
   "source": [
    "# También podemos crear un filtro basándonos en una secuencia de texto en específico, \n",
    "# en este caso, las filas que tengan 'or':\n",
    "df['names'].str.contains('or')"
   ]
  },
  {
   "cell_type": "code",
   "execution_count": 16,
   "metadata": {},
   "outputs": [
    {
     "data": {
      "text/plain": [
       "0       2\n",
       "1       1\n",
       "2       2\n",
       "3       2\n",
       "4       1\n",
       "5       1\n",
       "6    <NA>\n",
       "Name: names, dtype: object"
      ]
     },
     "execution_count": 16,
     "metadata": {},
     "output_type": "execute_result"
    }
   ],
   "source": [
    "# Así mismo, podemos contar el número de ocurrencias de un caracter en específico,\n",
    "# por ejemplo, cuántas veces aparece la letra 'a':\n",
    "df['names'].str.lower().str.count('a')"
   ]
  },
  {
   "cell_type": "code",
   "execution_count": 17,
   "metadata": {},
   "outputs": [
    {
     "data": {
      "text/plain": [
       "0      34\n",
       "1      23\n",
       "2      89\n",
       "3       3\n",
       "4      56\n",
       "5      10\n",
       "6    <NA>\n",
       "Name: names, dtype: object"
      ]
     },
     "execution_count": 17,
     "metadata": {},
     "output_type": "execute_result"
    }
   ],
   "source": [
    "# Existen comandos más avanzados usando Regex, por ejemplo, \n",
    "# si quiero extraer los caracteres numéricos:\n",
    "df['names'].str.extract('([0-9]+)', expand=False)"
   ]
  },
  {
   "cell_type": "code",
   "execution_count": 18,
   "metadata": {},
   "outputs": [
    {
     "name": "stderr",
     "output_type": "stream",
     "text": [
      "C:\\Users\\joel_\\AppData\\Local\\Temp\\ipykernel_11820\\2971937205.py:2: FutureWarning: The default value of regex will change from True to False in a future version.\n",
      "  df['names'].str.replace('@[^\\s]+','')\n"
     ]
    },
    {
     "data": {
      "text/plain": [
       "0         Sara Moreno 34\n",
       "1          jUAn GOMez 23\n",
       "2     CArlos mArtinez 89\n",
       "3    Alfredo VelaZques 3\n",
       "4           luis Mora 56\n",
       "5             #platzi 10\n",
       "6                   <NA>\n",
       "Name: names, dtype: object"
      ]
     },
     "execution_count": 18,
     "metadata": {},
     "output_type": "execute_result"
    }
   ],
   "source": [
    "# si quiero extraer las menciones '@xxxx' del texto:\n",
    "df['names'].str.replace('@[^\\s]+','')"
   ]
  }
 ],
 "metadata": {
  "interpreter": {
   "hash": "b052299d6dda51ec83cec59a1e0689debd6887eb42608f234b637d46ddaa5928"
  },
  "kernelspec": {
   "display_name": "Python 3.8.8 64-bit",
   "language": "python",
   "name": "python3"
  },
  "language_info": {
   "codemirror_mode": {
    "name": "ipython",
    "version": 3
   },
   "file_extension": ".py",
   "mimetype": "text/x-python",
   "name": "python",
   "nbconvert_exporter": "python",
   "pygments_lexer": "ipython3",
   "version": "3.8.8"
  },
  "orig_nbformat": 4
 },
 "nbformat": 4,
 "nbformat_minor": 2
}
