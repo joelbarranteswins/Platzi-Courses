{
  "cells": [
    {
      "cell_type": "code",
      "execution_count": null,
      "metadata": {
        "id": "106RHLnkKg50"
      },
      "outputs": [],
      "source": [
        "# !pip install --upgrade pandas"
      ]
    },
    {
      "cell_type": "code",
      "execution_count": null,
      "metadata": {
        "colab": {
          "base_uri": "https://localhost:8080/",
          "height": 124
        },
        "id": "Bmlhv-YdKn15",
        "outputId": "05536d3c-c0d9-4581-b7ff-b1ab451db831"
      },
      "outputs": [
        {
          "name": "stdout",
          "output_type": "stream",
          "text": [
            "Go to this URL in a browser: https://accounts.google.com/o/oauth2/auth?client_id=947318989803-6bn6qk8qdgf4n4g3pfee6491hc0brc4i.apps.googleusercontent.com&redirect_uri=urn%3aietf%3awg%3aoauth%3a2.0%3aoob&response_type=code&scope=email%20https%3a%2f%2fwww.googleapis.com%2fauth%2fdocs.test%20https%3a%2f%2fwww.googleapis.com%2fauth%2fdrive%20https%3a%2f%2fwww.googleapis.com%2fauth%2fdrive.photos.readonly%20https%3a%2f%2fwww.googleapis.com%2fauth%2fpeopleapi.readonly\n",
            "\n",
            "Enter your authorization code:\n",
            "··········\n",
            "Mounted at /content/drive/\n"
          ]
        }
      ],
      "source": [
        "# from google.colab import drive\n",
        "# drive.mount('/content/drive/')"
      ]
    },
    {
      "cell_type": "code",
      "execution_count": null,
      "metadata": {
        "colab": {
          "base_uri": "https://localhost:8080/",
          "height": 86
        },
        "id": "fz1pX8RjKpWp",
        "outputId": "32fc3a42-cddb-451b-97d8-1244e9470c1a"
      },
      "outputs": [
        {
          "name": "stdout",
          "output_type": "stream",
          "text": [
            "/content/drive/My Drive/Colab Notebooks/db\n",
            "flights.db\t   Meteorite_Landings.csv  test.hdf\t test.pkl\n",
            "GDP_melted.csv\t   poblacion.csv\t   test.json\t test.xlsx\n",
            "london_merged.csv  test.csv\t\t   test.parquet\n"
          ]
        }
      ],
      "source": [
        "# %cd '/content/drive/My Drive/Colab Notebooks/db'\n",
        "# !ls"
      ]
    },
    {
      "cell_type": "code",
      "execution_count": 1,
      "metadata": {
        "colab": {
          "base_uri": "https://localhost:8080/",
          "height": 34
        },
        "id": "wv-7au-JKrJb",
        "outputId": "c738856a-97b6-4f6f-d8d5-faa77d051310"
      },
      "outputs": [
        {
          "data": {
            "text/plain": [
              "'1.2.4'"
            ]
          },
          "execution_count": 1,
          "metadata": {},
          "output_type": "execute_result"
        }
      ],
      "source": [
        "import pandas as pd\n",
        "import numpy as np\n",
        "pd.__version__"
      ]
    },
    {
      "cell_type": "code",
      "execution_count": 2,
      "metadata": {
        "colab": {
          "base_uri": "https://localhost:8080/",
          "height": 424
        },
        "id": "HpGpEMJXLYEr",
        "outputId": "9fe2af5b-b7d3-4a2e-9235-67a4ce1feade"
      },
      "outputs": [
        {
          "data": {
            "text/html": [
              "<div>\n",
              "<style scoped>\n",
              "    .dataframe tbody tr th:only-of-type {\n",
              "        vertical-align: middle;\n",
              "    }\n",
              "\n",
              "    .dataframe tbody tr th {\n",
              "        vertical-align: top;\n",
              "    }\n",
              "\n",
              "    .dataframe thead th {\n",
              "        text-align: right;\n",
              "    }\n",
              "</style>\n",
              "<table border=\"1\" class=\"dataframe\">\n",
              "  <thead>\n",
              "    <tr style=\"text-align: right;\">\n",
              "      <th></th>\n",
              "      <th>timestamp</th>\n",
              "      <th>cnt</th>\n",
              "      <th>t1</th>\n",
              "      <th>t2</th>\n",
              "      <th>hum</th>\n",
              "      <th>wind_speed</th>\n",
              "      <th>weather_code</th>\n",
              "      <th>is_holiday</th>\n",
              "      <th>is_weekend</th>\n",
              "      <th>season</th>\n",
              "    </tr>\n",
              "  </thead>\n",
              "  <tbody>\n",
              "    <tr>\n",
              "      <th>0</th>\n",
              "      <td>2015-01-04 00:00:00</td>\n",
              "      <td>182</td>\n",
              "      <td>3.0</td>\n",
              "      <td>2.0</td>\n",
              "      <td>93.0</td>\n",
              "      <td>6.0</td>\n",
              "      <td>3.0</td>\n",
              "      <td>0.0</td>\n",
              "      <td>1.0</td>\n",
              "      <td>3.0</td>\n",
              "    </tr>\n",
              "    <tr>\n",
              "      <th>1</th>\n",
              "      <td>2015-01-04 01:00:00</td>\n",
              "      <td>138</td>\n",
              "      <td>3.0</td>\n",
              "      <td>2.5</td>\n",
              "      <td>93.0</td>\n",
              "      <td>5.0</td>\n",
              "      <td>1.0</td>\n",
              "      <td>0.0</td>\n",
              "      <td>1.0</td>\n",
              "      <td>3.0</td>\n",
              "    </tr>\n",
              "    <tr>\n",
              "      <th>2</th>\n",
              "      <td>2015-01-04 02:00:00</td>\n",
              "      <td>134</td>\n",
              "      <td>2.5</td>\n",
              "      <td>2.5</td>\n",
              "      <td>96.5</td>\n",
              "      <td>0.0</td>\n",
              "      <td>1.0</td>\n",
              "      <td>0.0</td>\n",
              "      <td>1.0</td>\n",
              "      <td>3.0</td>\n",
              "    </tr>\n",
              "    <tr>\n",
              "      <th>3</th>\n",
              "      <td>2015-01-04 03:00:00</td>\n",
              "      <td>72</td>\n",
              "      <td>2.0</td>\n",
              "      <td>2.0</td>\n",
              "      <td>100.0</td>\n",
              "      <td>0.0</td>\n",
              "      <td>1.0</td>\n",
              "      <td>0.0</td>\n",
              "      <td>1.0</td>\n",
              "      <td>3.0</td>\n",
              "    </tr>\n",
              "    <tr>\n",
              "      <th>4</th>\n",
              "      <td>2015-01-04 04:00:00</td>\n",
              "      <td>47</td>\n",
              "      <td>2.0</td>\n",
              "      <td>0.0</td>\n",
              "      <td>93.0</td>\n",
              "      <td>6.5</td>\n",
              "      <td>1.0</td>\n",
              "      <td>0.0</td>\n",
              "      <td>1.0</td>\n",
              "      <td>3.0</td>\n",
              "    </tr>\n",
              "    <tr>\n",
              "      <th>...</th>\n",
              "      <td>...</td>\n",
              "      <td>...</td>\n",
              "      <td>...</td>\n",
              "      <td>...</td>\n",
              "      <td>...</td>\n",
              "      <td>...</td>\n",
              "      <td>...</td>\n",
              "      <td>...</td>\n",
              "      <td>...</td>\n",
              "      <td>...</td>\n",
              "    </tr>\n",
              "    <tr>\n",
              "      <th>17409</th>\n",
              "      <td>2017-01-03 19:00:00</td>\n",
              "      <td>1042</td>\n",
              "      <td>5.0</td>\n",
              "      <td>1.0</td>\n",
              "      <td>81.0</td>\n",
              "      <td>19.0</td>\n",
              "      <td>3.0</td>\n",
              "      <td>0.0</td>\n",
              "      <td>0.0</td>\n",
              "      <td>3.0</td>\n",
              "    </tr>\n",
              "    <tr>\n",
              "      <th>17410</th>\n",
              "      <td>2017-01-03 20:00:00</td>\n",
              "      <td>541</td>\n",
              "      <td>5.0</td>\n",
              "      <td>1.0</td>\n",
              "      <td>81.0</td>\n",
              "      <td>21.0</td>\n",
              "      <td>4.0</td>\n",
              "      <td>0.0</td>\n",
              "      <td>0.0</td>\n",
              "      <td>3.0</td>\n",
              "    </tr>\n",
              "    <tr>\n",
              "      <th>17411</th>\n",
              "      <td>2017-01-03 21:00:00</td>\n",
              "      <td>337</td>\n",
              "      <td>5.5</td>\n",
              "      <td>1.5</td>\n",
              "      <td>78.5</td>\n",
              "      <td>24.0</td>\n",
              "      <td>4.0</td>\n",
              "      <td>0.0</td>\n",
              "      <td>0.0</td>\n",
              "      <td>3.0</td>\n",
              "    </tr>\n",
              "    <tr>\n",
              "      <th>17412</th>\n",
              "      <td>2017-01-03 22:00:00</td>\n",
              "      <td>224</td>\n",
              "      <td>5.5</td>\n",
              "      <td>1.5</td>\n",
              "      <td>76.0</td>\n",
              "      <td>23.0</td>\n",
              "      <td>4.0</td>\n",
              "      <td>0.0</td>\n",
              "      <td>0.0</td>\n",
              "      <td>3.0</td>\n",
              "    </tr>\n",
              "    <tr>\n",
              "      <th>17413</th>\n",
              "      <td>2017-01-03 23:00:00</td>\n",
              "      <td>139</td>\n",
              "      <td>5.0</td>\n",
              "      <td>1.0</td>\n",
              "      <td>76.0</td>\n",
              "      <td>22.0</td>\n",
              "      <td>2.0</td>\n",
              "      <td>0.0</td>\n",
              "      <td>0.0</td>\n",
              "      <td>3.0</td>\n",
              "    </tr>\n",
              "  </tbody>\n",
              "</table>\n",
              "<p>17414 rows × 10 columns</p>\n",
              "</div>"
            ],
            "text/plain": [
              "                 timestamp   cnt   t1   t2    hum  wind_speed  weather_code  \\\n",
              "0      2015-01-04 00:00:00   182  3.0  2.0   93.0         6.0           3.0   \n",
              "1      2015-01-04 01:00:00   138  3.0  2.5   93.0         5.0           1.0   \n",
              "2      2015-01-04 02:00:00   134  2.5  2.5   96.5         0.0           1.0   \n",
              "3      2015-01-04 03:00:00    72  2.0  2.0  100.0         0.0           1.0   \n",
              "4      2015-01-04 04:00:00    47  2.0  0.0   93.0         6.5           1.0   \n",
              "...                    ...   ...  ...  ...    ...         ...           ...   \n",
              "17409  2017-01-03 19:00:00  1042  5.0  1.0   81.0        19.0           3.0   \n",
              "17410  2017-01-03 20:00:00   541  5.0  1.0   81.0        21.0           4.0   \n",
              "17411  2017-01-03 21:00:00   337  5.5  1.5   78.5        24.0           4.0   \n",
              "17412  2017-01-03 22:00:00   224  5.5  1.5   76.0        23.0           4.0   \n",
              "17413  2017-01-03 23:00:00   139  5.0  1.0   76.0        22.0           2.0   \n",
              "\n",
              "       is_holiday  is_weekend  season  \n",
              "0             0.0         1.0     3.0  \n",
              "1             0.0         1.0     3.0  \n",
              "2             0.0         1.0     3.0  \n",
              "3             0.0         1.0     3.0  \n",
              "4             0.0         1.0     3.0  \n",
              "...           ...         ...     ...  \n",
              "17409         0.0         0.0     3.0  \n",
              "17410         0.0         0.0     3.0  \n",
              "17411         0.0         0.0     3.0  \n",
              "17412         0.0         0.0     3.0  \n",
              "17413         0.0         0.0     3.0  \n",
              "\n",
              "[17414 rows x 10 columns]"
            ]
          },
          "execution_count": 2,
          "metadata": {},
          "output_type": "execute_result"
        }
      ],
      "source": [
        "df_lmerged = pd.read_csv('../data/london_merged.csv')\n",
        "df_lmerged"
      ]
    },
    {
      "cell_type": "code",
      "execution_count": 3,
      "metadata": {
        "colab": {
          "base_uri": "https://localhost:8080/",
          "height": 208
        },
        "id": "7Y-CTAuiL4KP",
        "outputId": "e9a8afdf-8eb1-42e1-f0c7-d3306f15632f"
      },
      "outputs": [
        {
          "data": {
            "text/plain": [
              "timestamp        object\n",
              "cnt               int64\n",
              "t1              float64\n",
              "t2              float64\n",
              "hum             float64\n",
              "wind_speed      float64\n",
              "weather_code    float64\n",
              "is_holiday      float64\n",
              "is_weekend      float64\n",
              "season          float64\n",
              "dtype: object"
            ]
          },
          "execution_count": 3,
          "metadata": {},
          "output_type": "execute_result"
        }
      ],
      "source": [
        "df_lmerged.dtypes"
      ]
    },
    {
      "cell_type": "code",
      "execution_count": 4,
      "metadata": {
        "colab": {
          "base_uri": "https://localhost:8080/",
          "height": 225
        },
        "id": "EV6QmSb0L4ND",
        "outputId": "70186bd2-3c7b-4776-e2e1-0b5fd6cf9437"
      },
      "outputs": [
        {
          "data": {
            "text/plain": [
              "0       2015-01-04 00:00:00\n",
              "1       2015-01-04 01:00:00\n",
              "2       2015-01-04 02:00:00\n",
              "3       2015-01-04 03:00:00\n",
              "4       2015-01-04 04:00:00\n",
              "                ...        \n",
              "17409   2017-01-03 19:00:00\n",
              "17410   2017-01-03 20:00:00\n",
              "17411   2017-01-03 21:00:00\n",
              "17412   2017-01-03 22:00:00\n",
              "17413   2017-01-03 23:00:00\n",
              "Name: timestamp, Length: 17414, dtype: datetime64[ns]"
            ]
          },
          "execution_count": 4,
          "metadata": {},
          "output_type": "execute_result"
        }
      ],
      "source": [
        "# cambiar el formato de object to date\n",
        "df_lmerged['timestamp'] = pd.to_datetime(df_lmerged['timestamp'])\n",
        "df_lmerged['timestamp']"
      ]
    },
    {
      "cell_type": "code",
      "execution_count": 5,
      "metadata": {
        "colab": {
          "base_uri": "https://localhost:8080/",
          "height": 225
        },
        "id": "YlXsdmjPL4Q0",
        "outputId": "57fd3b10-af5d-46b0-8904-8ab593c6c3ed"
      },
      "outputs": [
        {
          "data": {
            "text/plain": [
              "0         0\n",
              "1         1\n",
              "2         2\n",
              "3         3\n",
              "4         4\n",
              "         ..\n",
              "17409    19\n",
              "17410    20\n",
              "17411    21\n",
              "17412    22\n",
              "17413    23\n",
              "Name: hour, Length: 17414, dtype: int64"
            ]
          },
          "execution_count": 5,
          "metadata": {},
          "output_type": "execute_result"
        }
      ],
      "source": [
        "df_lmerged['hour'] = df_lmerged['timestamp'].dt.hour\n",
        "df_lmerged['hour']\n",
        "\n",
        "#otra forma\n",
        "#df_lmerged['hour'] = df_lmerged['timestamp'].apply( lambda x: x.hour)"
      ]
    },
    {
      "cell_type": "code",
      "execution_count": 6,
      "metadata": {
        "colab": {
          "base_uri": "https://localhost:8080/",
          "height": 424
        },
        "id": "sJdInYVfL4Tm",
        "outputId": "12ccc20a-da3c-4c04-ae9a-4055d5741868"
      },
      "outputs": [
        {
          "data": {
            "text/html": [
              "<div>\n",
              "<style scoped>\n",
              "    .dataframe tbody tr th:only-of-type {\n",
              "        vertical-align: middle;\n",
              "    }\n",
              "\n",
              "    .dataframe tbody tr th {\n",
              "        vertical-align: top;\n",
              "    }\n",
              "\n",
              "    .dataframe thead th {\n",
              "        text-align: right;\n",
              "    }\n",
              "</style>\n",
              "<table border=\"1\" class=\"dataframe\">\n",
              "  <thead>\n",
              "    <tr style=\"text-align: right;\">\n",
              "      <th></th>\n",
              "      <th>cnt</th>\n",
              "      <th>t1</th>\n",
              "      <th>t2</th>\n",
              "      <th>hum</th>\n",
              "      <th>wind_speed</th>\n",
              "      <th>weather_code</th>\n",
              "      <th>is_holiday</th>\n",
              "      <th>is_weekend</th>\n",
              "      <th>season</th>\n",
              "      <th>hour</th>\n",
              "    </tr>\n",
              "  </thead>\n",
              "  <tbody>\n",
              "    <tr>\n",
              "      <th>0</th>\n",
              "      <td>182</td>\n",
              "      <td>3.0</td>\n",
              "      <td>2.0</td>\n",
              "      <td>93.0</td>\n",
              "      <td>6.0</td>\n",
              "      <td>3.0</td>\n",
              "      <td>0.0</td>\n",
              "      <td>1.0</td>\n",
              "      <td>3.0</td>\n",
              "      <td>0</td>\n",
              "    </tr>\n",
              "    <tr>\n",
              "      <th>1</th>\n",
              "      <td>138</td>\n",
              "      <td>3.0</td>\n",
              "      <td>2.5</td>\n",
              "      <td>93.0</td>\n",
              "      <td>5.0</td>\n",
              "      <td>1.0</td>\n",
              "      <td>0.0</td>\n",
              "      <td>1.0</td>\n",
              "      <td>3.0</td>\n",
              "      <td>1</td>\n",
              "    </tr>\n",
              "    <tr>\n",
              "      <th>2</th>\n",
              "      <td>134</td>\n",
              "      <td>2.5</td>\n",
              "      <td>2.5</td>\n",
              "      <td>96.5</td>\n",
              "      <td>0.0</td>\n",
              "      <td>1.0</td>\n",
              "      <td>0.0</td>\n",
              "      <td>1.0</td>\n",
              "      <td>3.0</td>\n",
              "      <td>2</td>\n",
              "    </tr>\n",
              "    <tr>\n",
              "      <th>3</th>\n",
              "      <td>72</td>\n",
              "      <td>2.0</td>\n",
              "      <td>2.0</td>\n",
              "      <td>100.0</td>\n",
              "      <td>0.0</td>\n",
              "      <td>1.0</td>\n",
              "      <td>0.0</td>\n",
              "      <td>1.0</td>\n",
              "      <td>3.0</td>\n",
              "      <td>3</td>\n",
              "    </tr>\n",
              "    <tr>\n",
              "      <th>4</th>\n",
              "      <td>47</td>\n",
              "      <td>2.0</td>\n",
              "      <td>0.0</td>\n",
              "      <td>93.0</td>\n",
              "      <td>6.5</td>\n",
              "      <td>1.0</td>\n",
              "      <td>0.0</td>\n",
              "      <td>1.0</td>\n",
              "      <td>3.0</td>\n",
              "      <td>4</td>\n",
              "    </tr>\n",
              "    <tr>\n",
              "      <th>...</th>\n",
              "      <td>...</td>\n",
              "      <td>...</td>\n",
              "      <td>...</td>\n",
              "      <td>...</td>\n",
              "      <td>...</td>\n",
              "      <td>...</td>\n",
              "      <td>...</td>\n",
              "      <td>...</td>\n",
              "      <td>...</td>\n",
              "      <td>...</td>\n",
              "    </tr>\n",
              "    <tr>\n",
              "      <th>17409</th>\n",
              "      <td>1042</td>\n",
              "      <td>5.0</td>\n",
              "      <td>1.0</td>\n",
              "      <td>81.0</td>\n",
              "      <td>19.0</td>\n",
              "      <td>3.0</td>\n",
              "      <td>0.0</td>\n",
              "      <td>0.0</td>\n",
              "      <td>3.0</td>\n",
              "      <td>19</td>\n",
              "    </tr>\n",
              "    <tr>\n",
              "      <th>17410</th>\n",
              "      <td>541</td>\n",
              "      <td>5.0</td>\n",
              "      <td>1.0</td>\n",
              "      <td>81.0</td>\n",
              "      <td>21.0</td>\n",
              "      <td>4.0</td>\n",
              "      <td>0.0</td>\n",
              "      <td>0.0</td>\n",
              "      <td>3.0</td>\n",
              "      <td>20</td>\n",
              "    </tr>\n",
              "    <tr>\n",
              "      <th>17411</th>\n",
              "      <td>337</td>\n",
              "      <td>5.5</td>\n",
              "      <td>1.5</td>\n",
              "      <td>78.5</td>\n",
              "      <td>24.0</td>\n",
              "      <td>4.0</td>\n",
              "      <td>0.0</td>\n",
              "      <td>0.0</td>\n",
              "      <td>3.0</td>\n",
              "      <td>21</td>\n",
              "    </tr>\n",
              "    <tr>\n",
              "      <th>17412</th>\n",
              "      <td>224</td>\n",
              "      <td>5.5</td>\n",
              "      <td>1.5</td>\n",
              "      <td>76.0</td>\n",
              "      <td>23.0</td>\n",
              "      <td>4.0</td>\n",
              "      <td>0.0</td>\n",
              "      <td>0.0</td>\n",
              "      <td>3.0</td>\n",
              "      <td>22</td>\n",
              "    </tr>\n",
              "    <tr>\n",
              "      <th>17413</th>\n",
              "      <td>139</td>\n",
              "      <td>5.0</td>\n",
              "      <td>1.0</td>\n",
              "      <td>76.0</td>\n",
              "      <td>22.0</td>\n",
              "      <td>2.0</td>\n",
              "      <td>0.0</td>\n",
              "      <td>0.0</td>\n",
              "      <td>3.0</td>\n",
              "      <td>23</td>\n",
              "    </tr>\n",
              "  </tbody>\n",
              "</table>\n",
              "<p>17414 rows × 10 columns</p>\n",
              "</div>"
            ],
            "text/plain": [
              "        cnt   t1   t2    hum  wind_speed  weather_code  is_holiday  \\\n",
              "0       182  3.0  2.0   93.0         6.0           3.0         0.0   \n",
              "1       138  3.0  2.5   93.0         5.0           1.0         0.0   \n",
              "2       134  2.5  2.5   96.5         0.0           1.0         0.0   \n",
              "3        72  2.0  2.0  100.0         0.0           1.0         0.0   \n",
              "4        47  2.0  0.0   93.0         6.5           1.0         0.0   \n",
              "...     ...  ...  ...    ...         ...           ...         ...   \n",
              "17409  1042  5.0  1.0   81.0        19.0           3.0         0.0   \n",
              "17410   541  5.0  1.0   81.0        21.0           4.0         0.0   \n",
              "17411   337  5.5  1.5   78.5        24.0           4.0         0.0   \n",
              "17412   224  5.5  1.5   76.0        23.0           4.0         0.0   \n",
              "17413   139  5.0  1.0   76.0        22.0           2.0         0.0   \n",
              "\n",
              "       is_weekend  season  hour  \n",
              "0             1.0     3.0     0  \n",
              "1             1.0     3.0     1  \n",
              "2             1.0     3.0     2  \n",
              "3             1.0     3.0     3  \n",
              "4             1.0     3.0     4  \n",
              "...           ...     ...   ...  \n",
              "17409         0.0     3.0    19  \n",
              "17410         0.0     3.0    20  \n",
              "17411         0.0     3.0    21  \n",
              "17412         0.0     3.0    22  \n",
              "17413         0.0     3.0    23  \n",
              "\n",
              "[17414 rows x 10 columns]"
            ]
          },
          "execution_count": 6,
          "metadata": {},
          "output_type": "execute_result"
        }
      ],
      "source": [
        "df = df_lmerged.iloc[:, 1:]\n",
        "df"
      ]
    },
    {
      "cell_type": "code",
      "execution_count": 7,
      "metadata": {
        "colab": {
          "base_uri": "https://localhost:8080/",
          "height": 225
        },
        "id": "dUVGw4MUL4WG",
        "outputId": "5259faa5-e81c-4fcd-b07e-0ba7f362eea4"
      },
      "outputs": [
        {
          "data": {
            "text/plain": [
              "0         9.008221\n",
              "1         9.867648\n",
              "2        10.000000\n",
              "3        10.000000\n",
              "4         9.013013\n",
              "           ...    \n",
              "17409    10.279387\n",
              "17410    10.923470\n",
              "17411     9.114047\n",
              "17412    10.936473\n",
              "17413    10.193503\n",
              "Name: wind_speed, Length: 17414, dtype: float64"
            ]
          },
          "execution_count": 7,
          "metadata": {},
          "output_type": "execute_result"
        }
      ],
      "source": [
        "np.sin(df['wind_speed']**2) + 10"
      ]
    },
    {
      "cell_type": "code",
      "execution_count": 8,
      "metadata": {
        "colab": {
          "base_uri": "https://localhost:8080/",
          "height": 225
        },
        "id": "sXNZltY8QngE",
        "outputId": "b30a668e-857b-4069-dbcb-11f981e2e022"
      },
      "outputs": [
        {
          "data": {
            "text/plain": [
              "0        1.0\n",
              "1        NaN\n",
              "2        NaN\n",
              "3        0.0\n",
              "4        NaN\n",
              "        ... \n",
              "17409    4.0\n",
              "17410    NaN\n",
              "17411    NaN\n",
              "17412    4.0\n",
              "17413    NaN\n",
              "Length: 17414, dtype: float64"
            ]
          },
          "execution_count": 8,
          "metadata": {},
          "output_type": "execute_result"
        }
      ],
      "source": [
        "df['t1'].iloc[::3]-df['t2']"
      ]
    },
    {
      "cell_type": "code",
      "execution_count": 9,
      "metadata": {
        "colab": {
          "base_uri": "https://localhost:8080/",
          "height": 225
        },
        "id": "1p5rv3NxRHrN",
        "outputId": "c8635a87-ce06-4e73-86b8-b63d782f17c1"
      },
      "outputs": [
        {
          "data": {
            "text/plain": [
              "0           1.0\n",
              "1         997.5\n",
              "2         997.5\n",
              "3           0.0\n",
              "4        1000.0\n",
              "          ...  \n",
              "17409       4.0\n",
              "17410     999.0\n",
              "17411     998.5\n",
              "17412       4.0\n",
              "17413     999.0\n",
              "Length: 17414, dtype: float64"
            ]
          },
          "execution_count": 9,
          "metadata": {},
          "output_type": "execute_result"
        }
      ],
      "source": [
        "#llenar NaN con un valor predeterminado\n",
        "df['t1'].iloc[::3].sub(df['t2'], fill_value = 1000)"
      ]
    },
    {
      "cell_type": "markdown",
      "metadata": {
        "id": "tgMznxm5L4so"
      },
      "source": [
        "\n",
        "\n",
        "```\n",
        "+    add()\n",
        "-    sub(), subtract()\n",
        "*    mul(), multiply()\n",
        "/    truediv(), div(), divide()\n",
        "//   floordiv()\n",
        "%    mod()\n",
        "**   pow()\n",
        "```\n",
        "\n"
      ]
    },
    {
      "cell_type": "code",
      "execution_count": 10,
      "metadata": {
        "colab": {
          "base_uri": "https://localhost:8080/",
          "height": 225
        },
        "id": "XPQ6QzZpRLCW",
        "outputId": "3be822ce-b85b-4727-be1e-f17601540fee"
      },
      "outputs": [
        {
          "data": {
            "text/plain": [
              "0        1.500000\n",
              "1        1.200000\n",
              "2        1.000000\n",
              "3        1.000000\n",
              "4             inf\n",
              "           ...   \n",
              "17409    5.000000\n",
              "17410    5.000000\n",
              "17411    3.666667\n",
              "17412    3.666667\n",
              "17413    5.000000\n",
              "Length: 17414, dtype: float64"
            ]
          },
          "execution_count": 10,
          "metadata": {},
          "output_type": "execute_result"
        }
      ],
      "source": [
        "df['t1']/df['t2']"
      ]
    },
    {
      "cell_type": "markdown",
      "metadata": {},
      "source": [
        "### producto punto"
      ]
    },
    {
      "cell_type": "code",
      "execution_count": 11,
      "metadata": {
        "colab": {
          "base_uri": "https://localhost:8080/",
          "height": 34
        },
        "id": "n-dRaHXcR1cn",
        "outputId": "64d1716e-94a2-4d67-f9d4-1fe1ad756f1e"
      },
      "outputs": [
        {
          "data": {
            "text/plain": [
              "3247652.777777778"
            ]
          },
          "execution_count": 11,
          "metadata": {},
          "output_type": "execute_result"
        }
      ],
      "source": [
        "#el producto entre cada valor y luego la suma total\n",
        "df['t1'].dot(df['t1'])"
      ]
    },
    {
      "cell_type": "code",
      "execution_count": 12,
      "metadata": {},
      "outputs": [
        {
          "data": {
            "text/html": [
              "<div>\n",
              "<style scoped>\n",
              "    .dataframe tbody tr th:only-of-type {\n",
              "        vertical-align: middle;\n",
              "    }\n",
              "\n",
              "    .dataframe tbody tr th {\n",
              "        vertical-align: top;\n",
              "    }\n",
              "\n",
              "    .dataframe thead th {\n",
              "        text-align: right;\n",
              "    }\n",
              "</style>\n",
              "<table border=\"1\" class=\"dataframe\">\n",
              "  <thead>\n",
              "    <tr style=\"text-align: right;\">\n",
              "      <th></th>\n",
              "      <th>a</th>\n",
              "      <th>b</th>\n",
              "      <th>c</th>\n",
              "    </tr>\n",
              "  </thead>\n",
              "  <tbody>\n",
              "    <tr>\n",
              "      <th>0</th>\n",
              "      <td>1</td>\n",
              "      <td>2</td>\n",
              "      <td>3</td>\n",
              "    </tr>\n",
              "    <tr>\n",
              "      <th>1</th>\n",
              "      <td>1</td>\n",
              "      <td>2</td>\n",
              "      <td>3</td>\n",
              "    </tr>\n",
              "    <tr>\n",
              "      <th>2</th>\n",
              "      <td>1</td>\n",
              "      <td>2</td>\n",
              "      <td>3</td>\n",
              "    </tr>\n",
              "    <tr>\n",
              "      <th>3</th>\n",
              "      <td>1</td>\n",
              "      <td>2</td>\n",
              "      <td>3</td>\n",
              "    </tr>\n",
              "  </tbody>\n",
              "</table>\n",
              "</div>"
            ],
            "text/plain": [
              "   a  b  c\n",
              "0  1  2  3\n",
              "1  1  2  3\n",
              "2  1  2  3\n",
              "3  1  2  3"
            ]
          },
          "execution_count": 12,
          "metadata": {},
          "output_type": "execute_result"
        }
      ],
      "source": [
        "dict = {\n",
        "    'a': [1,1,1,1], \n",
        "    'b': [2,2,2,2], \n",
        "    'c': [3,3,3,3]\n",
        "    }\n",
        "\n",
        "a = pd.DataFrame(dict)\n",
        "a"
      ]
    },
    {
      "cell_type": "code",
      "execution_count": 13,
      "metadata": {},
      "outputs": [
        {
          "data": {
            "text/plain": [
              "8"
            ]
          },
          "execution_count": 13,
          "metadata": {},
          "output_type": "execute_result"
        }
      ],
      "source": [
        "a['a'].dot(a['b'])"
      ]
    },
    {
      "cell_type": "code",
      "execution_count": 14,
      "metadata": {
        "id": "8Iua5--TR7bg"
      },
      "outputs": [],
      "source": [
        "def fun_1(x):\n",
        "  y = x**2 + 1\n",
        "  return y"
      ]
    },
    {
      "cell_type": "code",
      "execution_count": 15,
      "metadata": {
        "colab": {
          "base_uri": "https://localhost:8080/",
          "height": 34
        },
        "id": "Ivg0LiplU9o8",
        "outputId": "b4aae929-0873-4fba-ff99-67342b545d71"
      },
      "outputs": [
        {
          "data": {
            "text/plain": [
              "101"
            ]
          },
          "execution_count": 15,
          "metadata": {},
          "output_type": "execute_result"
        }
      ],
      "source": [
        "fun_1(10)"
      ]
    },
    {
      "cell_type": "code",
      "execution_count": 16,
      "metadata": {
        "colab": {
          "base_uri": "https://localhost:8080/",
          "height": 34
        },
        "id": "BSWueVznVAGc",
        "outputId": "037e617d-edd2-4f0e-fb48-b37402a0fa48"
      },
      "outputs": [
        {
          "data": {
            "text/plain": [
              "array([-5, -4, -3, -2, -1,  0,  1,  2,  3,  4,  5])"
            ]
          },
          "execution_count": 16,
          "metadata": {},
          "output_type": "execute_result"
        }
      ],
      "source": [
        "np.arange(-5,6)"
      ]
    },
    {
      "cell_type": "code",
      "execution_count": 17,
      "metadata": {
        "colab": {
          "base_uri": "https://localhost:8080/",
          "height": 34
        },
        "id": "pyBmsPsMVEfx",
        "outputId": "1fbc9ef9-3c17-46dd-cebc-85da7f8697ba"
      },
      "outputs": [
        {
          "data": {
            "text/plain": [
              "(11,)"
            ]
          },
          "execution_count": 17,
          "metadata": {},
          "output_type": "execute_result"
        }
      ],
      "source": [
        "np.arange(-5,6).shape"
      ]
    },
    {
      "cell_type": "code",
      "execution_count": 18,
      "metadata": {
        "colab": {
          "base_uri": "https://localhost:8080/",
          "height": 34
        },
        "id": "hQMLa7AQVGWi",
        "outputId": "ac33884d-6e6e-47a0-8225-7fb46ee3a94b"
      },
      "outputs": [
        {
          "data": {
            "text/plain": [
              "array([26, 17, 10,  5,  2,  1,  2,  5, 10, 17, 26], dtype=int32)"
            ]
          },
          "execution_count": 18,
          "metadata": {},
          "output_type": "execute_result"
        }
      ],
      "source": [
        "fun_1(np.arange(-5,6))"
      ]
    },
    {
      "cell_type": "markdown",
      "metadata": {},
      "source": [
        "### Aplicar una funcion a una columna de dataframe"
      ]
    },
    {
      "cell_type": "code",
      "execution_count": null,
      "metadata": {
        "colab": {
          "base_uri": "https://localhost:8080/",
          "height": 225
        },
        "id": "BFXhzDvdVI4C",
        "outputId": "fd3b9968-1e9b-438f-f951-bcd1ee43419e"
      },
      "outputs": [
        {
          "data": {
            "text/plain": [
              "0          1\n",
              "1          2\n",
              "2          5\n",
              "3         10\n",
              "4         17\n",
              "        ... \n",
              "17409    362\n",
              "17410    401\n",
              "17411    442\n",
              "17412    485\n",
              "17413    530\n",
              "Name: hour, Length: 17414, dtype: int64"
            ]
          },
          "execution_count": 49,
          "metadata": {
            "tags": []
          },
          "output_type": "execute_result"
        }
      ],
      "source": [
        "\n",
        "df['hour'].apply(fun_1)"
      ]
    },
    {
      "cell_type": "code",
      "execution_count": 20,
      "metadata": {
        "id": "2u6mrFt1VM-6"
      },
      "outputs": [],
      "source": [
        "def fun_2(x, a=1, b=0):\n",
        "  y = x**2 + a*x + b\n",
        "  return y"
      ]
    },
    {
      "cell_type": "code",
      "execution_count": 21,
      "metadata": {
        "colab": {
          "base_uri": "https://localhost:8080/",
          "height": 34
        },
        "id": "NaYmgfWHVYe1",
        "outputId": "265df5b0-2997-4dff-f5cf-f053e6b5039b"
      },
      "outputs": [
        {
          "data": {
            "text/plain": [
              "200"
            ]
          },
          "execution_count": 21,
          "metadata": {},
          "output_type": "execute_result"
        }
      ],
      "source": [
        "fun_2(10, a = 20, b= -100)"
      ]
    },
    {
      "cell_type": "code",
      "execution_count": null,
      "metadata": {
        "colab": {
          "base_uri": "https://localhost:8080/",
          "height": 225
        },
        "id": "OgR0GS04Vc2j",
        "outputId": "eed87509-fbf6-49e2-85e4-0c3618e05e6f"
      },
      "outputs": [
        {
          "data": {
            "text/plain": [
              "0       -100\n",
              "1        -79\n",
              "2        -56\n",
              "3        -31\n",
              "4         -4\n",
              "        ... \n",
              "17409    641\n",
              "17410    700\n",
              "17411    761\n",
              "17412    824\n",
              "17413    889\n",
              "Name: hour, Length: 17414, dtype: int64"
            ]
          },
          "execution_count": 56,
          "metadata": {
            "tags": []
          },
          "output_type": "execute_result"
        }
      ],
      "source": [
        "df['hour'].apply(fun_2, args = (20, -100))"
      ]
    },
    {
      "cell_type": "code",
      "execution_count": null,
      "metadata": {
        "colab": {
          "base_uri": "https://localhost:8080/",
          "height": 225
        },
        "id": "Sup-rFvKVnzo",
        "outputId": "c92058bd-9f0d-49be-bf41-399270f5f5df"
      },
      "outputs": [
        {
          "data": {
            "text/plain": [
              "0       -100\n",
              "1        -79\n",
              "2        -56\n",
              "3        -31\n",
              "4         -4\n",
              "        ... \n",
              "17409    641\n",
              "17410    700\n",
              "17411    761\n",
              "17412    824\n",
              "17413    889\n",
              "Name: hour, Length: 17414, dtype: int64"
            ]
          },
          "execution_count": 57,
          "metadata": {
            "tags": []
          },
          "output_type": "execute_result"
        }
      ],
      "source": [
        "df['hour'].apply(fun_2, a =20, b= -100)"
      ]
    },
    {
      "cell_type": "code",
      "execution_count": 22,
      "metadata": {
        "colab": {
          "base_uri": "https://localhost:8080/",
          "height": 225
        },
        "id": "6PMhdOMeVvZL",
        "outputId": "92b1d701-1a16-4e4b-e974-639018721478"
      },
      "outputs": [
        {
          "data": {
            "text/plain": [
              "0        276.0\n",
              "1        276.0\n",
              "2        275.5\n",
              "3        275.0\n",
              "4        275.0\n",
              "         ...  \n",
              "17409    278.0\n",
              "17410    278.0\n",
              "17411    278.5\n",
              "17412    278.5\n",
              "17413    278.0\n",
              "Name: t1, Length: 17414, dtype: float64"
            ]
          },
          "execution_count": 22,
          "metadata": {},
          "output_type": "execute_result"
        }
      ],
      "source": [
        "df['t1'].apply(lambda x: x+273)"
      ]
    },
    {
      "cell_type": "code",
      "execution_count": 24,
      "metadata": {
        "colab": {
          "base_uri": "https://localhost:8080/",
          "height": 208
        },
        "id": "qite3-8mV6Id",
        "outputId": "50b9695b-aab0-4e78-81d0-92511a28ea58"
      },
      "outputs": [
        {
          "data": {
            "text/plain": [
              "cnt             1143.101642\n",
              "t1                12.468091\n",
              "t2                11.520836\n",
              "hum               72.324954\n",
              "wind_speed        15.913063\n",
              "weather_code       2.722752\n",
              "is_holiday         0.022051\n",
              "is_weekend         0.285403\n",
              "season             1.492075\n",
              "hour              11.513265\n",
              "dtype: float64"
            ]
          },
          "execution_count": 24,
          "metadata": {},
          "output_type": "execute_result"
        }
      ],
      "source": [
        "#aplicando promedio en el eje de las columnas\n",
        "df.apply(lambda x: x.mean())"
      ]
    },
    {
      "cell_type": "code",
      "execution_count": 25,
      "metadata": {
        "colab": {
          "base_uri": "https://localhost:8080/",
          "height": 225
        },
        "id": "_3GWtXjnV_8u",
        "outputId": "ef006ba9-3209-431b-a832-fd00db243384"
      },
      "outputs": [
        {
          "data": {
            "text/plain": [
              "0         29.30\n",
              "1         24.75\n",
              "2         24.25\n",
              "3         18.40\n",
              "4         15.75\n",
              "          ...  \n",
              "17409    117.30\n",
              "17410     67.60\n",
              "17411     47.45\n",
              "17412     35.90\n",
              "17413     27.10\n",
              "Length: 17414, dtype: float64"
            ]
          },
          "execution_count": 25,
          "metadata": {},
          "output_type": "execute_result"
        }
      ],
      "source": [
        "#aplicando promedio en el eje de las filas axis=1\n",
        "df.apply(lambda x: x.mean(), axis=1)"
      ]
    },
    {
      "cell_type": "code",
      "execution_count": 26,
      "metadata": {
        "colab": {
          "base_uri": "https://localhost:8080/",
          "height": 225
        },
        "id": "GXIjeFLvWGAT",
        "outputId": "4f0a70ef-d6f6-433d-84f1-923f54b4ebdb"
      },
      "outputs": [
        {
          "data": {
            "text/plain": [
              "0         60.787517\n",
              "1         49.012045\n",
              "2         48.779692\n",
              "3         36.249751\n",
              "4         30.642427\n",
              "            ...    \n",
              "17409    325.831944\n",
              "17410    168.138964\n",
              "17411    104.504505\n",
              "17412     70.027296\n",
              "17413     45.710320\n",
              "Length: 17414, dtype: float64"
            ]
          },
          "execution_count": 26,
          "metadata": {},
          "output_type": "execute_result"
        }
      ],
      "source": [
        "df.apply(lambda x: x.std(), axis=1)"
      ]
    },
    {
      "cell_type": "code",
      "execution_count": 30,
      "metadata": {
        "colab": {
          "base_uri": "https://localhost:8080/",
          "height": 225
        },
        "id": "hEhlrR59WJT3",
        "outputId": "a5698445-b6c9-4952-85a3-d282c8e0c3b6"
      },
      "outputs": [
        {
          "data": {
            "text/plain": [
              "0        1.0\n",
              "1        0.5\n",
              "2        0.0\n",
              "3        0.0\n",
              "4        2.0\n",
              "        ... \n",
              "17409    4.0\n",
              "17410    4.0\n",
              "17411    4.0\n",
              "17412    4.0\n",
              "17413    4.0\n",
              "Length: 17414, dtype: float64"
            ]
          },
          "execution_count": 30,
          "metadata": {},
          "output_type": "execute_result"
        }
      ],
      "source": [
        "df.apply(lambda x: x['t1']-x['t2'], axis=1)"
      ]
    },
    {
      "cell_type": "markdown",
      "metadata": {},
      "source": [
        "### Aplicar una funcion a todos los valores del dataset"
      ]
    },
    {
      "cell_type": "code",
      "execution_count": 31,
      "metadata": {
        "colab": {
          "base_uri": "https://localhost:8080/",
          "height": 424
        },
        "id": "WAYffFnPWPO-",
        "outputId": "a9233a54-e1a0-44a0-9f02-f8b25a17ee32"
      },
      "outputs": [
        {
          "data": {
            "text/html": [
              "<div>\n",
              "<style scoped>\n",
              "    .dataframe tbody tr th:only-of-type {\n",
              "        vertical-align: middle;\n",
              "    }\n",
              "\n",
              "    .dataframe tbody tr th {\n",
              "        vertical-align: top;\n",
              "    }\n",
              "\n",
              "    .dataframe thead th {\n",
              "        text-align: right;\n",
              "    }\n",
              "</style>\n",
              "<table border=\"1\" class=\"dataframe\">\n",
              "  <thead>\n",
              "    <tr style=\"text-align: right;\">\n",
              "      <th></th>\n",
              "      <th>cnt</th>\n",
              "      <th>t1</th>\n",
              "      <th>t2</th>\n",
              "      <th>hum</th>\n",
              "      <th>wind_speed</th>\n",
              "      <th>weather_code</th>\n",
              "      <th>is_holiday</th>\n",
              "      <th>is_weekend</th>\n",
              "      <th>season</th>\n",
              "      <th>hour</th>\n",
              "    </tr>\n",
              "  </thead>\n",
              "  <tbody>\n",
              "    <tr>\n",
              "      <th>0</th>\n",
              "      <td>0.182</td>\n",
              "      <td>0.0030</td>\n",
              "      <td>0.0020</td>\n",
              "      <td>0.0930</td>\n",
              "      <td>0.0060</td>\n",
              "      <td>0.003</td>\n",
              "      <td>0.0</td>\n",
              "      <td>0.001</td>\n",
              "      <td>0.003</td>\n",
              "      <td>0.000</td>\n",
              "    </tr>\n",
              "    <tr>\n",
              "      <th>1</th>\n",
              "      <td>0.138</td>\n",
              "      <td>0.0030</td>\n",
              "      <td>0.0025</td>\n",
              "      <td>0.0930</td>\n",
              "      <td>0.0050</td>\n",
              "      <td>0.001</td>\n",
              "      <td>0.0</td>\n",
              "      <td>0.001</td>\n",
              "      <td>0.003</td>\n",
              "      <td>0.001</td>\n",
              "    </tr>\n",
              "    <tr>\n",
              "      <th>2</th>\n",
              "      <td>0.134</td>\n",
              "      <td>0.0025</td>\n",
              "      <td>0.0025</td>\n",
              "      <td>0.0965</td>\n",
              "      <td>0.0000</td>\n",
              "      <td>0.001</td>\n",
              "      <td>0.0</td>\n",
              "      <td>0.001</td>\n",
              "      <td>0.003</td>\n",
              "      <td>0.002</td>\n",
              "    </tr>\n",
              "    <tr>\n",
              "      <th>3</th>\n",
              "      <td>0.072</td>\n",
              "      <td>0.0020</td>\n",
              "      <td>0.0020</td>\n",
              "      <td>0.1000</td>\n",
              "      <td>0.0000</td>\n",
              "      <td>0.001</td>\n",
              "      <td>0.0</td>\n",
              "      <td>0.001</td>\n",
              "      <td>0.003</td>\n",
              "      <td>0.003</td>\n",
              "    </tr>\n",
              "    <tr>\n",
              "      <th>4</th>\n",
              "      <td>0.047</td>\n",
              "      <td>0.0020</td>\n",
              "      <td>0.0000</td>\n",
              "      <td>0.0930</td>\n",
              "      <td>0.0065</td>\n",
              "      <td>0.001</td>\n",
              "      <td>0.0</td>\n",
              "      <td>0.001</td>\n",
              "      <td>0.003</td>\n",
              "      <td>0.004</td>\n",
              "    </tr>\n",
              "    <tr>\n",
              "      <th>...</th>\n",
              "      <td>...</td>\n",
              "      <td>...</td>\n",
              "      <td>...</td>\n",
              "      <td>...</td>\n",
              "      <td>...</td>\n",
              "      <td>...</td>\n",
              "      <td>...</td>\n",
              "      <td>...</td>\n",
              "      <td>...</td>\n",
              "      <td>...</td>\n",
              "    </tr>\n",
              "    <tr>\n",
              "      <th>17409</th>\n",
              "      <td>1.042</td>\n",
              "      <td>0.0050</td>\n",
              "      <td>0.0010</td>\n",
              "      <td>0.0810</td>\n",
              "      <td>0.0190</td>\n",
              "      <td>0.003</td>\n",
              "      <td>0.0</td>\n",
              "      <td>0.000</td>\n",
              "      <td>0.003</td>\n",
              "      <td>0.019</td>\n",
              "    </tr>\n",
              "    <tr>\n",
              "      <th>17410</th>\n",
              "      <td>0.541</td>\n",
              "      <td>0.0050</td>\n",
              "      <td>0.0010</td>\n",
              "      <td>0.0810</td>\n",
              "      <td>0.0210</td>\n",
              "      <td>0.004</td>\n",
              "      <td>0.0</td>\n",
              "      <td>0.000</td>\n",
              "      <td>0.003</td>\n",
              "      <td>0.020</td>\n",
              "    </tr>\n",
              "    <tr>\n",
              "      <th>17411</th>\n",
              "      <td>0.337</td>\n",
              "      <td>0.0055</td>\n",
              "      <td>0.0015</td>\n",
              "      <td>0.0785</td>\n",
              "      <td>0.0240</td>\n",
              "      <td>0.004</td>\n",
              "      <td>0.0</td>\n",
              "      <td>0.000</td>\n",
              "      <td>0.003</td>\n",
              "      <td>0.021</td>\n",
              "    </tr>\n",
              "    <tr>\n",
              "      <th>17412</th>\n",
              "      <td>0.224</td>\n",
              "      <td>0.0055</td>\n",
              "      <td>0.0015</td>\n",
              "      <td>0.0760</td>\n",
              "      <td>0.0230</td>\n",
              "      <td>0.004</td>\n",
              "      <td>0.0</td>\n",
              "      <td>0.000</td>\n",
              "      <td>0.003</td>\n",
              "      <td>0.022</td>\n",
              "    </tr>\n",
              "    <tr>\n",
              "      <th>17413</th>\n",
              "      <td>0.139</td>\n",
              "      <td>0.0050</td>\n",
              "      <td>0.0010</td>\n",
              "      <td>0.0760</td>\n",
              "      <td>0.0220</td>\n",
              "      <td>0.002</td>\n",
              "      <td>0.0</td>\n",
              "      <td>0.000</td>\n",
              "      <td>0.003</td>\n",
              "      <td>0.023</td>\n",
              "    </tr>\n",
              "  </tbody>\n",
              "</table>\n",
              "<p>17414 rows × 10 columns</p>\n",
              "</div>"
            ],
            "text/plain": [
              "         cnt      t1      t2     hum  wind_speed  weather_code  is_holiday  \\\n",
              "0      0.182  0.0030  0.0020  0.0930      0.0060         0.003         0.0   \n",
              "1      0.138  0.0030  0.0025  0.0930      0.0050         0.001         0.0   \n",
              "2      0.134  0.0025  0.0025  0.0965      0.0000         0.001         0.0   \n",
              "3      0.072  0.0020  0.0020  0.1000      0.0000         0.001         0.0   \n",
              "4      0.047  0.0020  0.0000  0.0930      0.0065         0.001         0.0   \n",
              "...      ...     ...     ...     ...         ...           ...         ...   \n",
              "17409  1.042  0.0050  0.0010  0.0810      0.0190         0.003         0.0   \n",
              "17410  0.541  0.0050  0.0010  0.0810      0.0210         0.004         0.0   \n",
              "17411  0.337  0.0055  0.0015  0.0785      0.0240         0.004         0.0   \n",
              "17412  0.224  0.0055  0.0015  0.0760      0.0230         0.004         0.0   \n",
              "17413  0.139  0.0050  0.0010  0.0760      0.0220         0.002         0.0   \n",
              "\n",
              "       is_weekend  season   hour  \n",
              "0           0.001   0.003  0.000  \n",
              "1           0.001   0.003  0.001  \n",
              "2           0.001   0.003  0.002  \n",
              "3           0.001   0.003  0.003  \n",
              "4           0.001   0.003  0.004  \n",
              "...           ...     ...    ...  \n",
              "17409       0.000   0.003  0.019  \n",
              "17410       0.000   0.003  0.020  \n",
              "17411       0.000   0.003  0.021  \n",
              "17412       0.000   0.003  0.022  \n",
              "17413       0.000   0.003  0.023  \n",
              "\n",
              "[17414 rows x 10 columns]"
            ]
          },
          "execution_count": 31,
          "metadata": {},
          "output_type": "execute_result"
        }
      ],
      "source": [
        "df.applymap(lambda x: x/1000)"
      ]
    },
    {
      "cell_type": "code",
      "execution_count": null,
      "metadata": {
        "id": "pNiOvTt1WVyU"
      },
      "outputs": [],
      "source": []
    }
  ],
  "metadata": {
    "colab": {
      "collapsed_sections": [],
      "name": "5 maths.ipynb",
      "provenance": []
    },
    "kernelspec": {
      "display_name": "Python 3",
      "name": "python3"
    },
    "language_info": {
      "codemirror_mode": {
        "name": "ipython",
        "version": 3
      },
      "file_extension": ".py",
      "mimetype": "text/x-python",
      "name": "python",
      "nbconvert_exporter": "python",
      "pygments_lexer": "ipython3",
      "version": "3.8.8"
    }
  },
  "nbformat": 4,
  "nbformat_minor": 0
}
