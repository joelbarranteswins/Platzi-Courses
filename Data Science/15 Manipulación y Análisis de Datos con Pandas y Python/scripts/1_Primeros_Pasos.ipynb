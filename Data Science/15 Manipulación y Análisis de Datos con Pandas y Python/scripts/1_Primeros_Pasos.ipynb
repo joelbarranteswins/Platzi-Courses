{
 "cells": [
  {
   "cell_type": "markdown",
   "metadata": {
    "cell_id": "e85f62a3-f1af-4b24-b5ef-b82adb7c478a",
    "deepnote_cell_type": "markdown",
    "tags": []
   },
   "source": [
    "# Primeros pasos con Google Colab: configuración del entorno de trabajo\n"
   ]
  },
  {
   "cell_type": "code",
   "execution_count": null,
   "metadata": {
    "cell_id": "5ab8aed2-ee9a-4906-8800-642ed6cc285e",
    "deepnote_cell_type": "code",
    "deepnote_output_heights": [
     31
    ],
    "deepnote_to_be_reexecuted": false,
    "execution_millis": 7,
    "execution_start": 1642656617834,
    "source_hash": "9eb82493",
    "tags": []
   },
   "outputs": [
    {
     "data": {
      "text/plain": [
       "12"
      ]
     },
     "execution_count": 8,
     "metadata": {},
     "output_type": "execute_result"
    }
   ],
   "source": [
    "x = 12\n",
    "x"
   ]
  },
  {
   "cell_type": "code",
   "execution_count": null,
   "metadata": {
    "cell_id": "777fa00c-b270-481c-8d72-275cfe5ca117",
    "deepnote_cell_type": "code",
    "deepnote_to_be_reexecuted": false,
    "execution_millis": 6,
    "execution_start": 1642656665604,
    "source_hash": "84789be0",
    "tags": []
   },
   "outputs": [],
   "source": [
    "y = 4"
   ]
  },
  {
   "cell_type": "code",
   "execution_count": null,
   "metadata": {
    "cell_id": "af91c3d0-61de-4745-b199-8de82c3083fd",
    "deepnote_cell_type": "code",
    "deepnote_output_heights": [
     31
    ],
    "deepnote_to_be_reexecuted": false,
    "execution_millis": 8,
    "execution_start": 1642656768535,
    "source_hash": "e0754b0f",
    "tags": []
   },
   "outputs": [
    {
     "data": {
      "text/plain": [
       "16"
      ]
     },
     "execution_count": 11,
     "metadata": {},
     "output_type": "execute_result"
    }
   ],
   "source": [
    "x + y "
   ]
  },
  {
   "cell_type": "code",
   "execution_count": null,
   "metadata": {
    "cell_id": "641f740e-57a3-4ccc-81ef-41d2fab6b12a",
    "deepnote_cell_type": "code",
    "deepnote_output_heights": [
     31
    ],
    "deepnote_to_be_reexecuted": false,
    "execution_millis": 113,
    "execution_start": 1642656811796,
    "source_hash": "50258ae3",
    "tags": []
   },
   "outputs": [
    {
     "data": {
      "text/plain": [
       "'joelbarrantes'"
      ]
     },
     "execution_count": 13,
     "metadata": {},
     "output_type": "execute_result"
    }
   ],
   "source": [
    "x = \"joel\"\n",
    "y = \"barrantes\"\n",
    "x + y"
   ]
  },
  {
   "cell_type": "code",
   "execution_count": null,
   "metadata": {
    "cell_id": "e437e88a-34a9-40c6-b203-484b5c7fec46",
    "deepnote_cell_type": "code",
    "deepnote_output_heights": [
     31
    ],
    "deepnote_to_be_reexecuted": false,
    "execution_millis": 6,
    "execution_start": 1642656826402,
    "source_hash": "30dda01b",
    "tags": []
   },
   "outputs": [
    {
     "data": {
      "text/plain": [
       "'joel barrantes'"
      ]
     },
     "execution_count": 14,
     "metadata": {},
     "output_type": "execute_result"
    }
   ],
   "source": [
    "x + \" \" + y"
   ]
  },
  {
   "cell_type": "code",
   "execution_count": null,
   "metadata": {
    "cell_id": "b41a7c8b-2bdc-4cd6-ab6c-08147aa23f62",
    "deepnote_cell_type": "code",
    "deepnote_output_heights": [
     31
    ],
    "deepnote_to_be_reexecuted": false,
    "execution_millis": 223,
    "execution_start": 1642656855064,
    "source_hash": "ce1eca61",
    "tags": []
   },
   "outputs": [
    {
     "data": {
      "text/plain": [
       "[1, 2, 3, 4, 5, 2, 3, 4]"
      ]
     },
     "execution_count": 16,
     "metadata": {},
     "output_type": "execute_result"
    }
   ],
   "source": [
    "[1,2,3,4,5] + [2,3,4]"
   ]
  },
  {
   "cell_type": "code",
   "execution_count": null,
   "metadata": {
    "cell_id": "c4fe1704-7723-4571-a5dc-8eb68ad536c3",
    "deepnote_cell_type": "code",
    "deepnote_to_be_reexecuted": false,
    "execution_millis": 11,
    "execution_start": 1642656867225,
    "source_hash": "b57f9176",
    "tags": []
   },
   "outputs": [],
   "source": [
    "lista = [1,2,3,4,5]"
   ]
  },
  {
   "cell_type": "code",
   "execution_count": null,
   "metadata": {
    "cell_id": "a3bfc98f-0ed1-45f6-9a2b-51c1aa2a1cfe",
    "deepnote_cell_type": "code",
    "deepnote_output_heights": [
     81
    ],
    "deepnote_to_be_reexecuted": false,
    "execution_millis": 8,
    "execution_start": 1642656886323,
    "source_hash": "43d7429a",
    "tags": []
   },
   "outputs": [
    {
     "data": {
      "text/plain": [
       "1"
      ]
     },
     "execution_count": 19,
     "metadata": {},
     "output_type": "execute_result"
    }
   ],
   "source": [
    "lista[0]"
   ]
  },
  {
   "cell_type": "code",
   "execution_count": null,
   "metadata": {
    "cell_id": "6e1b91f4-edc6-49fc-b802-cbd0e206ef2f",
    "deepnote_cell_type": "code",
    "deepnote_output_heights": [
     31
    ],
    "deepnote_to_be_reexecuted": false,
    "execution_millis": 1,
    "execution_start": 1642656891723,
    "source_hash": "f96f4ef1",
    "tags": []
   },
   "outputs": [
    {
     "data": {
      "text/plain": [
       "5"
      ]
     },
     "execution_count": 20,
     "metadata": {},
     "output_type": "execute_result"
    }
   ],
   "source": [
    "lista[4]"
   ]
  },
  {
   "cell_type": "code",
   "execution_count": null,
   "metadata": {
    "cell_id": "d4fb311b-97be-4c5c-acfe-26fff3a13449",
    "deepnote_cell_type": "code",
    "deepnote_output_heights": [
     31
    ],
    "deepnote_to_be_reexecuted": false,
    "execution_millis": 5,
    "execution_start": 1642656901790,
    "source_hash": "68d1f0d7",
    "tags": []
   },
   "outputs": [
    {
     "data": {
      "text/plain": [
       "5"
      ]
     },
     "execution_count": 22,
     "metadata": {},
     "output_type": "execute_result"
    }
   ],
   "source": [
    "lista[-1]"
   ]
  },
  {
   "cell_type": "code",
   "execution_count": null,
   "metadata": {
    "cell_id": "017bbbe4-6a53-4d01-9009-e0ce45aa3171",
    "deepnote_cell_type": "code",
    "deepnote_to_be_reexecuted": false,
    "execution_millis": 3,
    "execution_start": 1642656925951,
    "source_hash": "c2602aa8",
    "tags": []
   },
   "outputs": [],
   "source": [
    "import numpy as np"
   ]
  },
  {
   "cell_type": "code",
   "execution_count": null,
   "metadata": {
    "cell_id": "eed8ab92-4531-4409-86f5-852283c62f1a",
    "deepnote_cell_type": "code",
    "deepnote_output_heights": [
     21.171875
    ],
    "deepnote_to_be_reexecuted": false,
    "execution_millis": 5,
    "execution_start": 1642656955220,
    "source_hash": "52abbe78",
    "tags": []
   },
   "outputs": [],
   "source": [
    "vector = np.array([1,2,3,4,5])"
   ]
  },
  {
   "cell_type": "code",
   "execution_count": null,
   "metadata": {
    "cell_id": "2761c957-2321-4c11-a384-06320955e90e",
    "deepnote_cell_type": "code",
    "deepnote_output_heights": [
     51.171875
    ],
    "deepnote_to_be_reexecuted": false,
    "execution_millis": 8,
    "execution_start": 1642656961511,
    "source_hash": "a9e01841",
    "tags": []
   },
   "outputs": [
    {
     "data": {
      "text/plain": [
       "array([11, 12, 13, 14, 15])"
      ]
     },
     "execution_count": 28,
     "metadata": {},
     "output_type": "execute_result"
    }
   ],
   "source": [
    "vector + 10"
   ]
  },
  {
   "cell_type": "code",
   "execution_count": null,
   "metadata": {
    "cell_id": "de5ea219-5679-42a7-87b5-ebeda2ce2ae6",
    "deepnote_cell_type": "code",
    "deepnote_output_heights": [
     51.171875
    ],
    "deepnote_to_be_reexecuted": false,
    "execution_millis": 8,
    "execution_start": 1642656971999,
    "source_hash": "1aee28f3",
    "tags": []
   },
   "outputs": [
    {
     "data": {
      "text/plain": [
       "(5,)"
      ]
     },
     "execution_count": 30,
     "metadata": {},
     "output_type": "execute_result"
    }
   ],
   "source": [
    "vector.shape"
   ]
  },
  {
   "cell_type": "code",
   "execution_count": null,
   "metadata": {
    "cell_id": "90bbb22d-25a6-4045-8b7a-14037e2e8b98",
    "deepnote_cell_type": "code",
    "deepnote_output_heights": [
     40.34375
    ],
    "deepnote_to_be_reexecuted": false,
    "execution_millis": 1,
    "execution_start": 1642657129886,
    "source_hash": "c2418839",
    "tags": []
   },
   "outputs": [],
   "source": [
    "vector_2 = np.array([[1,2,3,4],[2,3,4,5]])"
   ]
  },
  {
   "cell_type": "code",
   "execution_count": null,
   "metadata": {
    "cell_id": "71d00b54-da2c-48ff-a748-3bb8597d3d4c",
    "deepnote_cell_type": "code",
    "deepnote_output_heights": [
     51.171875
    ],
    "deepnote_to_be_reexecuted": false,
    "execution_millis": 4,
    "execution_start": 1642657151843,
    "source_hash": "73f9d42e",
    "tags": []
   },
   "outputs": [
    {
     "data": {
      "text/plain": [
       "array([1, 2, 3, 4])"
      ]
     },
     "execution_count": 41,
     "metadata": {},
     "output_type": "execute_result"
    }
   ],
   "source": [
    "vector_2[0]"
   ]
  },
  {
   "cell_type": "code",
   "execution_count": null,
   "metadata": {
    "cell_id": "7a42cae0-816a-410d-abd2-779b9466e3a8",
    "deepnote_cell_type": "code",
    "deepnote_output_heights": [
     51.171875
    ],
    "deepnote_to_be_reexecuted": false,
    "execution_millis": 3,
    "execution_start": 1642657167881,
    "source_hash": "10172f4e",
    "tags": []
   },
   "outputs": [
    {
     "data": {
      "text/plain": [
       "4"
      ]
     },
     "execution_count": 42,
     "metadata": {},
     "output_type": "execute_result"
    }
   ],
   "source": [
    "vector_2[0][-1]"
   ]
  },
  {
   "cell_type": "markdown",
   "metadata": {
    "cell_id": "b8b5a547-4c63-47a4-8f6a-e51d7c3a6513",
    "deepnote_cell_type": "text-cell-h1",
    "is_collapsed": false,
    "tags": []
   },
   "source": [
    "# Series e Indexación y selección de datos"
   ]
  },
  {
   "cell_type": "code",
   "execution_count": null,
   "metadata": {
    "cell_id": "40cc7a0c-71ef-4d74-9d5f-be49db4c5039",
    "deepnote_cell_type": "code",
    "deepnote_to_be_reexecuted": false,
    "execution_millis": 2,
    "execution_start": 1642657593856,
    "source_hash": "9b82ee11",
    "tags": []
   },
   "outputs": [],
   "source": [
    "import pandas as pd"
   ]
  },
  {
   "cell_type": "code",
   "execution_count": null,
   "metadata": {
    "cell_id": "84867f33-f782-4f3e-a00b-118689e7b9d0",
    "deepnote_cell_type": "code",
    "deepnote_output_heights": [
     127.90625
    ],
    "deepnote_to_be_reexecuted": false,
    "execution_millis": 5,
    "execution_start": 1642657627254,
    "source_hash": "9e4a1c04",
    "tags": []
   },
   "outputs": [
    {
     "data": {
      "text/plain": [
       "0    10\n",
       "1     9\n",
       "2     8\n",
       "3     7\n",
       "dtype: int64"
      ]
     },
     "execution_count": 46,
     "metadata": {},
     "output_type": "execute_result"
    }
   ],
   "source": [
    "pd.Series([10,9,8,7])"
   ]
  },
  {
   "cell_type": "code",
   "execution_count": null,
   "metadata": {
    "cell_id": "d780358c-42af-4509-b547-447031d4ce2d",
    "deepnote_cell_type": "code",
    "deepnote_to_be_reexecuted": false,
    "execution_millis": 2,
    "execution_start": 1642657715346,
    "source_hash": "33c57651",
    "tags": []
   },
   "outputs": [],
   "source": [
    "serie = pd.Series([10,9,8,7,6,4,3,5,4,3,2])"
   ]
  },
  {
   "cell_type": "code",
   "execution_count": null,
   "metadata": {
    "cell_id": "091f6a63-a537-4c7c-bb0f-cba2dd468673",
    "deepnote_cell_type": "code",
    "deepnote_output_heights": [
     51.171875
    ],
    "deepnote_to_be_reexecuted": false,
    "execution_millis": 6,
    "execution_start": 1642657731655,
    "source_hash": "59496cf5",
    "tags": []
   },
   "outputs": [
    {
     "data": {
      "text/plain": [
       "array([10,  9,  8,  7,  6,  4,  3,  5,  4,  3,  2])"
      ]
     },
     "execution_count": 58,
     "metadata": {},
     "output_type": "execute_result"
    }
   ],
   "source": [
    "serie.values"
   ]
  },
  {
   "cell_type": "code",
   "execution_count": null,
   "metadata": {
    "cell_id": "2a499dfe-f992-4015-b562-a54686a28d5c",
    "deepnote_cell_type": "code",
    "deepnote_output_heights": [
     51.171875
    ],
    "deepnote_to_be_reexecuted": false,
    "execution_millis": 7,
    "execution_start": 1642657732482,
    "source_hash": "f2ea6623",
    "tags": []
   },
   "outputs": [
    {
     "data": {
      "text/plain": [
       "RangeIndex(start=0, stop=11, step=1)"
      ]
     },
     "execution_count": 59,
     "metadata": {},
     "output_type": "execute_result"
    }
   ],
   "source": [
    "serie.index"
   ]
  },
  {
   "cell_type": "code",
   "execution_count": null,
   "metadata": {
    "cell_id": "63f3d774-9aaf-4b68-bbe1-baeb393961b0",
    "deepnote_cell_type": "code",
    "deepnote_output_heights": [
     51.171875
    ],
    "deepnote_to_be_reexecuted": false,
    "execution_millis": 1,
    "execution_start": 1642657732824,
    "source_hash": "b1f5853c",
    "tags": []
   },
   "outputs": [
    {
     "data": {
      "text/plain": [
       "(11,)"
      ]
     },
     "execution_count": 60,
     "metadata": {},
     "output_type": "execute_result"
    }
   ],
   "source": [
    "serie.shape"
   ]
  },
  {
   "cell_type": "code",
   "execution_count": null,
   "metadata": {
    "cell_id": "649974b3-0e50-4840-8c81-10c982f9a4f6",
    "deepnote_cell_type": "code",
    "deepnote_output_heights": [
     51.171875
    ],
    "deepnote_to_be_reexecuted": false,
    "execution_millis": 4,
    "execution_start": 1642657733162,
    "source_hash": "b63c96c3",
    "tags": []
   },
   "outputs": [
    {
     "data": {
      "text/plain": [
       "8"
      ]
     },
     "execution_count": 61,
     "metadata": {},
     "output_type": "execute_result"
    }
   ],
   "source": [
    "serie[2]"
   ]
  },
  {
   "cell_type": "code",
   "execution_count": null,
   "metadata": {
    "cell_id": "09a8d677-d9ca-405d-8be2-1f25e734de1c",
    "deepnote_cell_type": "code",
    "deepnote_output_heights": [
     108.71875
    ],
    "deepnote_to_be_reexecuted": false,
    "execution_millis": 3,
    "execution_start": 1642657763570,
    "source_hash": "8cc31473",
    "tags": []
   },
   "outputs": [
    {
     "data": {
      "text/plain": [
       "0    10\n",
       "4     6\n",
       "2     8\n",
       "dtype: int64"
      ]
     },
     "execution_count": 64,
     "metadata": {},
     "output_type": "execute_result"
    }
   ],
   "source": [
    "serie[[0,4,2]]"
   ]
  },
  {
   "cell_type": "code",
   "execution_count": null,
   "metadata": {
    "cell_id": "670d0790-e835-4ab1-9b6e-a71eff4452f0",
    "deepnote_cell_type": "code",
    "deepnote_to_be_reexecuted": false,
    "execution_millis": 22,
    "execution_start": 1642657829476,
    "source_hash": "b90fa0b3",
    "tags": []
   },
   "outputs": [],
   "source": [
    "serie = pd.Series([10,9,8,7,6], index=['a','b','c','d','e'])"
   ]
  },
  {
   "cell_type": "code",
   "execution_count": null,
   "metadata": {
    "cell_id": "57af433a-0cab-4ed9-b871-100d63ee954b",
    "deepnote_cell_type": "code",
    "deepnote_output_heights": [
     147.09375
    ],
    "deepnote_to_be_reexecuted": false,
    "execution_millis": 37,
    "execution_start": 1642657841359,
    "source_hash": "6b59ebe3",
    "tags": []
   },
   "outputs": [
    {
     "data": {
      "text/plain": [
       "a    10\n",
       "b     9\n",
       "c     8\n",
       "d     7\n",
       "e     6\n",
       "dtype: int64"
      ]
     },
     "execution_count": 70,
     "metadata": {},
     "output_type": "execute_result"
    }
   ],
   "source": [
    "serie"
   ]
  },
  {
   "cell_type": "code",
   "execution_count": null,
   "metadata": {
    "cell_id": "0542057a-0788-4075-a248-5cab7b8dd92d",
    "deepnote_cell_type": "code",
    "deepnote_output_heights": [
     108.71875
    ],
    "deepnote_to_be_reexecuted": false,
    "execution_millis": 10,
    "execution_start": 1642657917790,
    "source_hash": "3b01e743",
    "tags": []
   },
   "outputs": [
    {
     "data": {
      "text/plain": [
       "b    9\n",
       "c    8\n",
       "e    6\n",
       "dtype: int64"
      ]
     },
     "execution_count": 75,
     "metadata": {},
     "output_type": "execute_result"
    }
   ],
   "source": [
    "serie[['b','c','e']]"
   ]
  },
  {
   "cell_type": "code",
   "execution_count": null,
   "metadata": {
    "cell_id": "0f0dfffe-aac2-45c5-a212-0b123d41639c",
    "deepnote_cell_type": "code",
    "deepnote_output_heights": [
     127.90625
    ],
    "deepnote_to_be_reexecuted": false,
    "execution_millis": 12,
    "execution_start": 1642657945142,
    "source_hash": "2465a5c8",
    "tags": []
   },
   "outputs": [
    {
     "data": {
      "text/plain": [
       "b    9\n",
       "c    8\n",
       "d    7\n",
       "e    6\n",
       "dtype: int64"
      ]
     },
     "execution_count": 77,
     "metadata": {},
     "output_type": "execute_result"
    }
   ],
   "source": [
    "serie['b':'e']"
   ]
  },
  {
   "cell_type": "markdown",
   "metadata": {
    "cell_id": "9eaedf01-c9cc-46eb-88b2-1bc67267be63",
    "deepnote_cell_type": "text-cell-h3",
    "is_collapsed": false,
    "tags": []
   },
   "source": [
    "### Diccionarios"
   ]
  },
  {
   "cell_type": "code",
   "execution_count": null,
   "metadata": {
    "cell_id": "6e5bc026-f420-40ea-9f2a-fe175cc216ca",
    "deepnote_cell_type": "code",
    "deepnote_to_be_reexecuted": false,
    "execution_millis": 7,
    "execution_start": 1642658116874,
    "source_hash": "44bafb2f",
    "tags": []
   },
   "outputs": [],
   "source": [
    "dict_data = {'CO': 100, 'MX': 200, 'AR': 300}"
   ]
  },
  {
   "cell_type": "code",
   "execution_count": null,
   "metadata": {
    "cell_id": "b26595c1-8bd5-4263-81b1-798da65da194",
    "deepnote_cell_type": "code",
    "deepnote_output_heights": [
     51.171875
    ],
    "deepnote_to_be_reexecuted": false,
    "execution_millis": 10,
    "execution_start": 1642658128271,
    "source_hash": "b5bd5e46",
    "tags": []
   },
   "outputs": [
    {
     "data": {
      "text/plain": [
       "dict_keys(['CO', 'MX', 'AR'])"
      ]
     },
     "execution_count": 81,
     "metadata": {},
     "output_type": "execute_result"
    }
   ],
   "source": [
    "dict_data.keys()"
   ]
  },
  {
   "cell_type": "code",
   "execution_count": null,
   "metadata": {
    "cell_id": "ef4c62e5-c1c8-4020-9255-3c2a98b82fc6",
    "deepnote_cell_type": "code",
    "deepnote_output_heights": [
     21.171875
    ],
    "deepnote_to_be_reexecuted": false,
    "execution_millis": 10,
    "execution_start": 1642658237423,
    "source_hash": "20fb2ba2",
    "tags": []
   },
   "outputs": [
    {
     "name": "stdout",
     "output_type": "stream",
     "text": [
      "100\n",
      "200\n",
      "300\n"
     ]
    }
   ],
   "source": [
    "for i in dict_data.keys():\n",
    "    print(dict_data[i])\n"
   ]
  },
  {
   "cell_type": "code",
   "execution_count": null,
   "metadata": {
    "cell_id": "149ba026-a425-4f67-8e8a-70aec9c1641e",
    "deepnote_cell_type": "code",
    "deepnote_output_heights": [
     51.171875
    ],
    "deepnote_to_be_reexecuted": false,
    "execution_millis": 11,
    "execution_start": 1642658255954,
    "source_hash": "4822d1db",
    "tags": []
   },
   "outputs": [
    {
     "data": {
      "text/plain": [
       "100"
      ]
     },
     "execution_count": 88,
     "metadata": {},
     "output_type": "execute_result"
    }
   ],
   "source": [
    "dict_data['CO']"
   ]
  },
  {
   "cell_type": "code",
   "execution_count": null,
   "metadata": {
    "cell_id": "4e761418-8d1e-45b2-a553-d0e0310ec36a",
    "deepnote_cell_type": "code",
    "deepnote_output_heights": [
     108.71875
    ],
    "deepnote_to_be_reexecuted": false,
    "execution_millis": 12,
    "execution_start": 1642658305161,
    "source_hash": "389e49dd",
    "tags": []
   },
   "outputs": [
    {
     "data": {
      "text/plain": [
       "CO    100\n",
       "MX    200\n",
       "AR    300\n",
       "dtype: int64"
      ]
     },
     "execution_count": 91,
     "metadata": {},
     "output_type": "execute_result"
    }
   ],
   "source": [
    "pd.Series(dict_data)"
   ]
  },
  {
   "cell_type": "code",
   "execution_count": null,
   "metadata": {
    "cell_id": "0f58a073-b764-4339-b211-fe116301bcb7",
    "deepnote_cell_type": "code",
    "deepnote_output_heights": [
     108.71875
    ],
    "deepnote_to_be_reexecuted": false,
    "execution_millis": 15,
    "execution_start": 1642658339295,
    "source_hash": "996c67d9",
    "tags": []
   },
   "outputs": [
    {
     "data": {
      "text/plain": [
       "CO    100.0\n",
       "MX    200.0\n",
       "PE      NaN\n",
       "dtype: float64"
      ]
     },
     "execution_count": 92,
     "metadata": {},
     "output_type": "execute_result"
    }
   ],
   "source": [
    "pd.Series(dict_data, index=['CO', 'MX', 'PE'])"
   ]
  },
  {
   "cell_type": "code",
   "execution_count": null,
   "metadata": {
    "cell_id": "c54ec7cc-da98-42a6-9408-197bdcf9f407",
    "deepnote_cell_type": "code",
    "deepnote_to_be_reexecuted": false,
    "execution_millis": 7,
    "execution_start": 1642658380180,
    "source_hash": "c2602aa8",
    "tags": []
   },
   "outputs": [],
   "source": [
    "import numpy as np"
   ]
  },
  {
   "cell_type": "code",
   "execution_count": null,
   "metadata": {
    "cell_id": "659419dc-f760-42f1-a190-45b1ed335b4d",
    "deepnote_cell_type": "code",
    "deepnote_output_heights": [
     51.171875
    ],
    "deepnote_to_be_reexecuted": false,
    "execution_millis": 15,
    "execution_start": 1642658415755,
    "source_hash": "e200addd",
    "tags": []
   },
   "outputs": [
    {
     "data": {
      "text/plain": [
       "nan"
      ]
     },
     "execution_count": 98,
     "metadata": {},
     "output_type": "execute_result"
    }
   ],
   "source": [
    "np.nan"
   ]
  },
  {
   "cell_type": "code",
   "execution_count": null,
   "metadata": {
    "cell_id": "2112fc0c-d4d8-49d5-8458-91adc07bf674",
    "deepnote_cell_type": "code",
    "deepnote_output_heights": [
     51.171875
    ],
    "deepnote_to_be_reexecuted": false,
    "execution_millis": 276,
    "execution_start": 1642658412877,
    "source_hash": "47111d6f",
    "tags": []
   },
   "outputs": [
    {
     "data": {
      "text/plain": [
       "nan"
      ]
     },
     "execution_count": 97,
     "metadata": {},
     "output_type": "execute_result"
    }
   ],
   "source": [
    "np.nan + 10"
   ]
  },
  {
   "cell_type": "code",
   "execution_count": null,
   "metadata": {
    "cell_id": "8ec5c9b5-7dc8-4929-a690-d722632512eb",
    "deepnote_cell_type": "code",
    "deepnote_output_heights": [
     51.171875
    ],
    "deepnote_to_be_reexecuted": false,
    "execution_millis": 1,
    "execution_start": 1642658424337,
    "source_hash": "3114cfcd",
    "tags": []
   },
   "outputs": [
    {
     "data": {
      "text/plain": [
       "nan"
      ]
     },
     "execution_count": 99,
     "metadata": {},
     "output_type": "execute_result"
    }
   ],
   "source": [
    "np.nan * 10"
   ]
  },
  {
   "cell_type": "markdown",
   "metadata": {
    "cell_id": "a012cf5f-a98f-46f8-86ad-e07196629dda",
    "deepnote_cell_type": "text-cell-h3",
    "is_collapsed": false,
    "tags": []
   },
   "source": [
    "### Crear Series"
   ]
  },
  {
   "cell_type": "code",
   "execution_count": null,
   "metadata": {
    "cell_id": "75f60212-ccc2-4d0c-8c75-17065a123bec",
    "deepnote_cell_type": "code",
    "deepnote_to_be_reexecuted": false,
    "execution_millis": 8,
    "execution_start": 1642658455963,
    "source_hash": "6d3fbd03",
    "tags": []
   },
   "outputs": [],
   "source": [
    "serie = pd.Series(dict_data, index=['CO', 'MX', 'PE'])"
   ]
  },
  {
   "cell_type": "code",
   "execution_count": null,
   "metadata": {
    "cell_id": "53287dd3-14d0-4b8c-a38b-bf44d0e6b30b",
    "deepnote_cell_type": "code",
    "deepnote_output_heights": [
     108.71875
    ],
    "deepnote_to_be_reexecuted": false,
    "execution_millis": 2,
    "execution_start": 1642658473662,
    "source_hash": "ed340b90",
    "tags": []
   },
   "outputs": [
    {
     "data": {
      "text/plain": [
       "CO    False\n",
       "MX    False\n",
       "PE     True\n",
       "dtype: bool"
      ]
     },
     "execution_count": 102,
     "metadata": {},
     "output_type": "execute_result"
    }
   ],
   "source": [
    "serie.isnull()"
   ]
  },
  {
   "cell_type": "code",
   "execution_count": null,
   "metadata": {
    "cell_id": "26f3020e-ba45-4dbb-a44f-ede7eb46282b",
    "deepnote_cell_type": "code",
    "deepnote_output_heights": [
     108.71875
    ],
    "deepnote_to_be_reexecuted": false,
    "execution_millis": 2,
    "execution_start": 1642658516354,
    "source_hash": "bbaee0aa",
    "tags": []
   },
   "outputs": [
    {
     "data": {
      "text/plain": [
       "CO     True\n",
       "MX     True\n",
       "PE    False\n",
       "dtype: bool"
      ]
     },
     "execution_count": 104,
     "metadata": {},
     "output_type": "execute_result"
    }
   ],
   "source": [
    "serie.notnull()"
   ]
  },
  {
   "cell_type": "markdown",
   "metadata": {
    "cell_id": "c4289483-e6ac-435a-b990-b0e149040fef",
    "deepnote_cell_type": "markdown",
    "tags": []
   },
   "source": [
    "#### Valores nulos\n",
    "Existen diverso métodos para trabajar con datos nulos:\n",
    "\n",
    "* serie.isnull().sum() -> número total de valores nulos\n",
    "* serie.fillna(<valor>) -> rellena los valores nulos con el valor dado (string/float)\n",
    "* serie.dropna() -> borra todos los registros con al menos un valor nulo\n",
    "* serie.ffill() -> rellena el valor nulo con el mismo valor de la fila anterior\n",
    "* serie.backfill() -> rellena el valor nulo con el mismo valor de la fila siguiente\n",
    "."
   ]
  }
 ],
 "metadata": {
  "deepnote": {
   "is_reactive": false
  },
  "deepnote_execution_queue": [],
  "deepnote_notebook_id": "5a8b43b5-54d8-4496-a6a5-365dfe65fac6",
  "language_info": {
   "name": "python"
  },
  "orig_nbformat": 2
 },
 "nbformat": 4,
 "nbformat_minor": 2
}
