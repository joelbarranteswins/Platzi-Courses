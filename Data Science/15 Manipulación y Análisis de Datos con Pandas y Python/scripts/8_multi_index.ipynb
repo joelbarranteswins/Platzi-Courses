{
  "cells": [
    {
      "cell_type": "code",
      "execution_count": null,
      "metadata": {
        "colab": {
          "base_uri": "https://localhost:8080/",
          "height": 34
        },
        "id": "FcTtteXMWxl7",
        "outputId": "7097f97b-a6d1-40aa-f2ff-10c58720d68f"
      },
      "outputs": [
        {
          "name": "stdout",
          "output_type": "stream",
          "text": [
            "Drive already mounted at /content/drive/; to attempt to forcibly remount, call drive.mount(\"/content/drive/\", force_remount=True).\n"
          ]
        }
      ],
      "source": [
        "# from google.colab import drive\n",
        "# drive.mount('/content/drive/')"
      ]
    },
    {
      "cell_type": "code",
      "execution_count": null,
      "metadata": {
        "colab": {
          "base_uri": "https://localhost:8080/",
          "height": 86
        },
        "id": "Sn9LTXV5W4dQ",
        "outputId": "f2c27e0d-2ffe-4738-c1dd-c49fec7eaf22"
      },
      "outputs": [
        {
          "name": "stdout",
          "output_type": "stream",
          "text": [
            "/content/drive/My Drive/Colab Notebooks/db\n",
            "flights.db\t   Meteorite_Landings.csv  test.hdf\t test.pkl\n",
            "GDP_melted.csv\t   poblacion.csv\t   test.json\t test.xlsx\n",
            "london_merged.csv  test.csv\t\t   test.parquet\n"
          ]
        }
      ],
      "source": [
        "# %cd '/content/drive/My Drive/Colab Notebooks/db'\n",
        "# !ls"
      ]
    },
    {
      "cell_type": "code",
      "execution_count": 1,
      "metadata": {
        "colab": {
          "base_uri": "https://localhost:8080/",
          "height": 34
        },
        "id": "wEKdey5uW5mQ",
        "outputId": "d068b3f1-3571-42bc-d90c-4c2e6fafc800"
      },
      "outputs": [
        {
          "data": {
            "text/plain": [
              "'1.2.4'"
            ]
          },
          "execution_count": 1,
          "metadata": {},
          "output_type": "execute_result"
        }
      ],
      "source": [
        "import pandas as pd\n",
        "import numpy as np\n",
        "pd.__version__"
      ]
    },
    {
      "cell_type": "code",
      "execution_count": 2,
      "metadata": {
        "colab": {
          "base_uri": "https://localhost:8080/",
          "height": 424
        },
        "id": "7VyNXS50W-qS",
        "outputId": "46c283ab-4578-401c-cbb0-3c0c34dabd43"
      },
      "outputs": [
        {
          "data": {
            "text/html": [
              "<div>\n",
              "<style scoped>\n",
              "    .dataframe tbody tr th:only-of-type {\n",
              "        vertical-align: middle;\n",
              "    }\n",
              "\n",
              "    .dataframe tbody tr th {\n",
              "        vertical-align: top;\n",
              "    }\n",
              "\n",
              "    .dataframe thead th {\n",
              "        text-align: right;\n",
              "    }\n",
              "</style>\n",
              "<table border=\"1\" class=\"dataframe\">\n",
              "  <thead>\n",
              "    <tr style=\"text-align: right;\">\n",
              "      <th></th>\n",
              "      <th>Country</th>\n",
              "      <th>year</th>\n",
              "      <th>pop</th>\n",
              "    </tr>\n",
              "  </thead>\n",
              "  <tbody>\n",
              "    <tr>\n",
              "      <th>0</th>\n",
              "      <td>Afghanistan</td>\n",
              "      <td>2015</td>\n",
              "      <td>3.441360e+07</td>\n",
              "    </tr>\n",
              "    <tr>\n",
              "      <th>1</th>\n",
              "      <td>Albania</td>\n",
              "      <td>2015</td>\n",
              "      <td>2.880703e+06</td>\n",
              "    </tr>\n",
              "    <tr>\n",
              "      <th>2</th>\n",
              "      <td>Algeria</td>\n",
              "      <td>2015</td>\n",
              "      <td>3.972802e+07</td>\n",
              "    </tr>\n",
              "    <tr>\n",
              "      <th>3</th>\n",
              "      <td>American Samoa</td>\n",
              "      <td>2015</td>\n",
              "      <td>5.581200e+04</td>\n",
              "    </tr>\n",
              "    <tr>\n",
              "      <th>4</th>\n",
              "      <td>Andorra</td>\n",
              "      <td>2015</td>\n",
              "      <td>7.801100e+04</td>\n",
              "    </tr>\n",
              "    <tr>\n",
              "      <th>...</th>\n",
              "      <td>...</td>\n",
              "      <td>...</td>\n",
              "      <td>...</td>\n",
              "    </tr>\n",
              "    <tr>\n",
              "      <th>1035</th>\n",
              "      <td>Pre-demographic dividend</td>\n",
              "      <td>2018</td>\n",
              "      <td>9.194854e+08</td>\n",
              "    </tr>\n",
              "    <tr>\n",
              "      <th>1036</th>\n",
              "      <td>Small states</td>\n",
              "      <td>2018</td>\n",
              "      <td>4.057532e+07</td>\n",
              "    </tr>\n",
              "    <tr>\n",
              "      <th>1037</th>\n",
              "      <td>South Asia</td>\n",
              "      <td>2018</td>\n",
              "      <td>1.814389e+09</td>\n",
              "    </tr>\n",
              "    <tr>\n",
              "      <th>1038</th>\n",
              "      <td>South Asia (IDA &amp; IBRD)</td>\n",
              "      <td>2018</td>\n",
              "      <td>1.814389e+09</td>\n",
              "    </tr>\n",
              "    <tr>\n",
              "      <th>1039</th>\n",
              "      <td>Sub-Saharan Africa</td>\n",
              "      <td>2018</td>\n",
              "      <td>1.078307e+09</td>\n",
              "    </tr>\n",
              "  </tbody>\n",
              "</table>\n",
              "<p>1040 rows × 3 columns</p>\n",
              "</div>"
            ],
            "text/plain": [
              "                       Country  year           pop\n",
              "0                  Afghanistan  2015  3.441360e+07\n",
              "1                      Albania  2015  2.880703e+06\n",
              "2                      Algeria  2015  3.972802e+07\n",
              "3               American Samoa  2015  5.581200e+04\n",
              "4                      Andorra  2015  7.801100e+04\n",
              "...                        ...   ...           ...\n",
              "1035  Pre-demographic dividend  2018  9.194854e+08\n",
              "1036              Small states  2018  4.057532e+07\n",
              "1037                South Asia  2018  1.814389e+09\n",
              "1038   South Asia (IDA & IBRD)  2018  1.814389e+09\n",
              "1039        Sub-Saharan Africa  2018  1.078307e+09\n",
              "\n",
              "[1040 rows x 3 columns]"
            ]
          },
          "execution_count": 2,
          "metadata": {},
          "output_type": "execute_result"
        }
      ],
      "source": [
        "df_pob = pd.read_csv('../data/poblacion.csv')\n",
        "df_pob"
      ]
    },
    {
      "cell_type": "code",
      "execution_count": 4,
      "metadata": {
        "id": "ztlJBNOZalbC"
      },
      "outputs": [],
      "source": [
        "pd.options.display.float_format = '{:,.1f}'.format"
      ]
    },
    {
      "cell_type": "code",
      "execution_count": 5,
      "metadata": {},
      "outputs": [
        {
          "data": {
            "text/html": [
              "<div>\n",
              "<style scoped>\n",
              "    .dataframe tbody tr th:only-of-type {\n",
              "        vertical-align: middle;\n",
              "    }\n",
              "\n",
              "    .dataframe tbody tr th {\n",
              "        vertical-align: top;\n",
              "    }\n",
              "\n",
              "    .dataframe thead th {\n",
              "        text-align: right;\n",
              "    }\n",
              "</style>\n",
              "<table border=\"1\" class=\"dataframe\">\n",
              "  <thead>\n",
              "    <tr style=\"text-align: right;\">\n",
              "      <th></th>\n",
              "      <th>Country</th>\n",
              "      <th>year</th>\n",
              "      <th>pop</th>\n",
              "    </tr>\n",
              "  </thead>\n",
              "  <tbody>\n",
              "    <tr>\n",
              "      <th>0</th>\n",
              "      <td>Afghanistan</td>\n",
              "      <td>2015</td>\n",
              "      <td>34,413,603.0</td>\n",
              "    </tr>\n",
              "    <tr>\n",
              "      <th>1</th>\n",
              "      <td>Albania</td>\n",
              "      <td>2015</td>\n",
              "      <td>2,880,703.0</td>\n",
              "    </tr>\n",
              "    <tr>\n",
              "      <th>2</th>\n",
              "      <td>Algeria</td>\n",
              "      <td>2015</td>\n",
              "      <td>39,728,025.0</td>\n",
              "    </tr>\n",
              "    <tr>\n",
              "      <th>3</th>\n",
              "      <td>American Samoa</td>\n",
              "      <td>2015</td>\n",
              "      <td>55,812.0</td>\n",
              "    </tr>\n",
              "    <tr>\n",
              "      <th>4</th>\n",
              "      <td>Andorra</td>\n",
              "      <td>2015</td>\n",
              "      <td>78,011.0</td>\n",
              "    </tr>\n",
              "    <tr>\n",
              "      <th>...</th>\n",
              "      <td>...</td>\n",
              "      <td>...</td>\n",
              "      <td>...</td>\n",
              "    </tr>\n",
              "    <tr>\n",
              "      <th>1035</th>\n",
              "      <td>Pre-demographic dividend</td>\n",
              "      <td>2018</td>\n",
              "      <td>919,485,393.0</td>\n",
              "    </tr>\n",
              "    <tr>\n",
              "      <th>1036</th>\n",
              "      <td>Small states</td>\n",
              "      <td>2018</td>\n",
              "      <td>40,575,321.0</td>\n",
              "    </tr>\n",
              "    <tr>\n",
              "      <th>1037</th>\n",
              "      <td>South Asia</td>\n",
              "      <td>2018</td>\n",
              "      <td>1,814,388,744.0</td>\n",
              "    </tr>\n",
              "    <tr>\n",
              "      <th>1038</th>\n",
              "      <td>South Asia (IDA &amp; IBRD)</td>\n",
              "      <td>2018</td>\n",
              "      <td>1,814,388,744.0</td>\n",
              "    </tr>\n",
              "    <tr>\n",
              "      <th>1039</th>\n",
              "      <td>Sub-Saharan Africa</td>\n",
              "      <td>2018</td>\n",
              "      <td>1,078,306,520.0</td>\n",
              "    </tr>\n",
              "  </tbody>\n",
              "</table>\n",
              "<p>1040 rows × 3 columns</p>\n",
              "</div>"
            ],
            "text/plain": [
              "                       Country  year             pop\n",
              "0                  Afghanistan  2015    34,413,603.0\n",
              "1                      Albania  2015     2,880,703.0\n",
              "2                      Algeria  2015    39,728,025.0\n",
              "3               American Samoa  2015        55,812.0\n",
              "4                      Andorra  2015        78,011.0\n",
              "...                        ...   ...             ...\n",
              "1035  Pre-demographic dividend  2018   919,485,393.0\n",
              "1036              Small states  2018    40,575,321.0\n",
              "1037                South Asia  2018 1,814,388,744.0\n",
              "1038   South Asia (IDA & IBRD)  2018 1,814,388,744.0\n",
              "1039        Sub-Saharan Africa  2018 1,078,306,520.0\n",
              "\n",
              "[1040 rows x 3 columns]"
            ]
          },
          "execution_count": 5,
          "metadata": {},
          "output_type": "execute_result"
        }
      ],
      "source": [
        "df_pob"
      ]
    },
    {
      "cell_type": "code",
      "execution_count": 8,
      "metadata": {
        "id": "Bx_RSlUVag3f"
      },
      "outputs": [],
      "source": [
        "#convertir la columna year a variable categorica\n",
        "df_pob['year'] = pd.Categorical(df_pob['year'].apply(str))"
      ]
    },
    {
      "cell_type": "code",
      "execution_count": 9,
      "metadata": {
        "colab": {
          "base_uri": "https://localhost:8080/",
          "height": 86
        },
        "id": "SvQ4zetrayqc",
        "outputId": "4abef279-3781-4488-a140-63ef27d5860d"
      },
      "outputs": [
        {
          "data": {
            "text/plain": [
              "Country      object\n",
              "year       category\n",
              "pop         float64\n",
              "dtype: object"
            ]
          },
          "execution_count": 9,
          "metadata": {},
          "output_type": "execute_result"
        }
      ],
      "source": [
        "df_pob.dtypes"
      ]
    },
    {
      "cell_type": "code",
      "execution_count": 10,
      "metadata": {
        "colab": {
          "base_uri": "https://localhost:8080/",
          "height": 225
        },
        "id": "kpwk3JuQa0ez",
        "outputId": "9c18a025-15e1-473a-a0f4-3b9a58668710"
      },
      "outputs": [
        {
          "data": {
            "text/plain": [
              "0       False\n",
              "1       False\n",
              "2       False\n",
              "3       False\n",
              "4       False\n",
              "        ...  \n",
              "1035    False\n",
              "1036    False\n",
              "1037    False\n",
              "1038    False\n",
              "1039    False\n",
              "Name: Country, Length: 1040, dtype: bool"
            ]
          },
          "execution_count": 10,
          "metadata": {},
          "output_type": "execute_result"
        }
      ],
      "source": [
        "#verdadero solo para los paises especificados\n",
        "idx_filtro = df_pob['Country'].isin(['Aruba','Colombia'])\n",
        "idx_filtro"
      ]
    },
    {
      "cell_type": "code",
      "execution_count": 11,
      "metadata": {
        "colab": {
          "base_uri": "https://localhost:8080/",
          "height": 300
        },
        "id": "GUPfRq8ubAOA",
        "outputId": "55a8bce7-6c20-4681-d091-e44d9290c9e4"
      },
      "outputs": [
        {
          "data": {
            "text/html": [
              "<div>\n",
              "<style scoped>\n",
              "    .dataframe tbody tr th:only-of-type {\n",
              "        vertical-align: middle;\n",
              "    }\n",
              "\n",
              "    .dataframe tbody tr th {\n",
              "        vertical-align: top;\n",
              "    }\n",
              "\n",
              "    .dataframe thead th {\n",
              "        text-align: right;\n",
              "    }\n",
              "</style>\n",
              "<table border=\"1\" class=\"dataframe\">\n",
              "  <thead>\n",
              "    <tr style=\"text-align: right;\">\n",
              "      <th></th>\n",
              "      <th>Country</th>\n",
              "      <th>year</th>\n",
              "      <th>pop</th>\n",
              "    </tr>\n",
              "  </thead>\n",
              "  <tbody>\n",
              "    <tr>\n",
              "      <th>9</th>\n",
              "      <td>Aruba</td>\n",
              "      <td>2015</td>\n",
              "      <td>104,341.0</td>\n",
              "    </tr>\n",
              "    <tr>\n",
              "      <th>42</th>\n",
              "      <td>Colombia</td>\n",
              "      <td>2015</td>\n",
              "      <td>47,520,667.0</td>\n",
              "    </tr>\n",
              "    <tr>\n",
              "      <th>269</th>\n",
              "      <td>Aruba</td>\n",
              "      <td>2016</td>\n",
              "      <td>104,872.0</td>\n",
              "    </tr>\n",
              "    <tr>\n",
              "      <th>302</th>\n",
              "      <td>Colombia</td>\n",
              "      <td>2016</td>\n",
              "      <td>48,171,392.0</td>\n",
              "    </tr>\n",
              "    <tr>\n",
              "      <th>529</th>\n",
              "      <td>Aruba</td>\n",
              "      <td>2017</td>\n",
              "      <td>105,366.0</td>\n",
              "    </tr>\n",
              "    <tr>\n",
              "      <th>562</th>\n",
              "      <td>Colombia</td>\n",
              "      <td>2017</td>\n",
              "      <td>48,901,066.0</td>\n",
              "    </tr>\n",
              "    <tr>\n",
              "      <th>789</th>\n",
              "      <td>Aruba</td>\n",
              "      <td>2018</td>\n",
              "      <td>105,845.0</td>\n",
              "    </tr>\n",
              "    <tr>\n",
              "      <th>822</th>\n",
              "      <td>Colombia</td>\n",
              "      <td>2018</td>\n",
              "      <td>49,648,685.0</td>\n",
              "    </tr>\n",
              "  </tbody>\n",
              "</table>\n",
              "</div>"
            ],
            "text/plain": [
              "      Country  year          pop\n",
              "9       Aruba  2015    104,341.0\n",
              "42   Colombia  2015 47,520,667.0\n",
              "269     Aruba  2016    104,872.0\n",
              "302  Colombia  2016 48,171,392.0\n",
              "529     Aruba  2017    105,366.0\n",
              "562  Colombia  2017 48,901,066.0\n",
              "789     Aruba  2018    105,845.0\n",
              "822  Colombia  2018 49,648,685.0"
            ]
          },
          "execution_count": 11,
          "metadata": {},
          "output_type": "execute_result"
        }
      ],
      "source": [
        "df_sample = df_pob[idx_filtro]\n",
        "df_sample"
      ]
    },
    {
      "cell_type": "code",
      "execution_count": 13,
      "metadata": {
        "colab": {
          "base_uri": "https://localhost:8080/",
          "height": 332
        },
        "id": "i5CE66itbF4H",
        "outputId": "c8988f73-28a7-4075-e76f-525e735c4fe2"
      },
      "outputs": [
        {
          "data": {
            "text/html": [
              "<div>\n",
              "<style scoped>\n",
              "    .dataframe tbody tr th:only-of-type {\n",
              "        vertical-align: middle;\n",
              "    }\n",
              "\n",
              "    .dataframe tbody tr th {\n",
              "        vertical-align: top;\n",
              "    }\n",
              "\n",
              "    .dataframe thead th {\n",
              "        text-align: right;\n",
              "    }\n",
              "</style>\n",
              "<table border=\"1\" class=\"dataframe\">\n",
              "  <thead>\n",
              "    <tr style=\"text-align: right;\">\n",
              "      <th></th>\n",
              "      <th></th>\n",
              "      <th>pop</th>\n",
              "    </tr>\n",
              "    <tr>\n",
              "      <th>Country</th>\n",
              "      <th>year</th>\n",
              "      <th></th>\n",
              "    </tr>\n",
              "  </thead>\n",
              "  <tbody>\n",
              "    <tr>\n",
              "      <th rowspan=\"4\" valign=\"top\">Aruba</th>\n",
              "      <th>2015</th>\n",
              "      <td>104,341.0</td>\n",
              "    </tr>\n",
              "    <tr>\n",
              "      <th>2016</th>\n",
              "      <td>104,872.0</td>\n",
              "    </tr>\n",
              "    <tr>\n",
              "      <th>2017</th>\n",
              "      <td>105,366.0</td>\n",
              "    </tr>\n",
              "    <tr>\n",
              "      <th>2018</th>\n",
              "      <td>105,845.0</td>\n",
              "    </tr>\n",
              "    <tr>\n",
              "      <th rowspan=\"4\" valign=\"top\">Colombia</th>\n",
              "      <th>2015</th>\n",
              "      <td>47,520,667.0</td>\n",
              "    </tr>\n",
              "    <tr>\n",
              "      <th>2016</th>\n",
              "      <td>48,171,392.0</td>\n",
              "    </tr>\n",
              "    <tr>\n",
              "      <th>2017</th>\n",
              "      <td>48,901,066.0</td>\n",
              "    </tr>\n",
              "    <tr>\n",
              "      <th>2018</th>\n",
              "      <td>49,648,685.0</td>\n",
              "    </tr>\n",
              "  </tbody>\n",
              "</table>\n",
              "</div>"
            ],
            "text/plain": [
              "                       pop\n",
              "Country  year             \n",
              "Aruba    2015    104,341.0\n",
              "         2016    104,872.0\n",
              "         2017    105,366.0\n",
              "         2018    105,845.0\n",
              "Colombia 2015 47,520,667.0\n",
              "         2016 48,171,392.0\n",
              "         2017 48,901,066.0\n",
              "         2018 49,648,685.0"
            ]
          },
          "execution_count": 13,
          "metadata": {},
          "output_type": "execute_result"
        }
      ],
      "source": [
        "#multiples indices para un mejor analisis\n",
        "df_sample = df_sample.set_index(['Country','year']).sort_index()\n",
        "df_sample"
      ]
    },
    {
      "cell_type": "code",
      "execution_count": 14,
      "metadata": {
        "colab": {
          "base_uri": "https://localhost:8080/",
          "height": 206
        },
        "id": "YQRnYHNTbOIJ",
        "outputId": "9ee6bf7e-df24-4560-fe85-689c616e41eb"
      },
      "outputs": [
        {
          "data": {
            "text/html": [
              "<div>\n",
              "<style scoped>\n",
              "    .dataframe tbody tr th:only-of-type {\n",
              "        vertical-align: middle;\n",
              "    }\n",
              "\n",
              "    .dataframe tbody tr th {\n",
              "        vertical-align: top;\n",
              "    }\n",
              "\n",
              "    .dataframe thead th {\n",
              "        text-align: right;\n",
              "    }\n",
              "</style>\n",
              "<table border=\"1\" class=\"dataframe\">\n",
              "  <thead>\n",
              "    <tr style=\"text-align: right;\">\n",
              "      <th></th>\n",
              "      <th>pop</th>\n",
              "    </tr>\n",
              "    <tr>\n",
              "      <th>year</th>\n",
              "      <th></th>\n",
              "    </tr>\n",
              "  </thead>\n",
              "  <tbody>\n",
              "    <tr>\n",
              "      <th>2015</th>\n",
              "      <td>47,520,667.0</td>\n",
              "    </tr>\n",
              "    <tr>\n",
              "      <th>2016</th>\n",
              "      <td>48,171,392.0</td>\n",
              "    </tr>\n",
              "    <tr>\n",
              "      <th>2017</th>\n",
              "      <td>48,901,066.0</td>\n",
              "    </tr>\n",
              "    <tr>\n",
              "      <th>2018</th>\n",
              "      <td>49,648,685.0</td>\n",
              "    </tr>\n",
              "  </tbody>\n",
              "</table>\n",
              "</div>"
            ],
            "text/plain": [
              "              pop\n",
              "year             \n",
              "2015 47,520,667.0\n",
              "2016 48,171,392.0\n",
              "2017 48,901,066.0\n",
              "2018 49,648,685.0"
            ]
          },
          "execution_count": 14,
          "metadata": {},
          "output_type": "execute_result"
        }
      ],
      "source": [
        "df_sample.loc['Colombia',:]"
      ]
    },
    {
      "cell_type": "code",
      "execution_count": 15,
      "metadata": {
        "colab": {
          "base_uri": "https://localhost:8080/",
          "height": 52
        },
        "id": "C618Q5dlbb7k",
        "outputId": "74a0fef0-53a9-400b-d9e9-6b9778a6eeb3"
      },
      "outputs": [
        {
          "data": {
            "text/plain": [
              "pop   48,171,392.0\n",
              "Name: 2016, dtype: float64"
            ]
          },
          "execution_count": 15,
          "metadata": {},
          "output_type": "execute_result"
        }
      ],
      "source": [
        "df_sample.loc['Colombia',:].loc['2016',:]"
      ]
    },
    {
      "cell_type": "code",
      "execution_count": 16,
      "metadata": {
        "colab": {
          "base_uri": "https://localhost:8080/",
          "height": 206
        },
        "id": "mXbspM8ybgrO",
        "outputId": "22607c29-1ab4-4972-8e21-0d5bd4840f4e"
      },
      "outputs": [
        {
          "data": {
            "text/html": [
              "<div>\n",
              "<style scoped>\n",
              "    .dataframe tbody tr th:only-of-type {\n",
              "        vertical-align: middle;\n",
              "    }\n",
              "\n",
              "    .dataframe tbody tr th {\n",
              "        vertical-align: top;\n",
              "    }\n",
              "\n",
              "    .dataframe thead th {\n",
              "        text-align: right;\n",
              "    }\n",
              "</style>\n",
              "<table border=\"1\" class=\"dataframe\">\n",
              "  <thead>\n",
              "    <tr style=\"text-align: right;\">\n",
              "      <th></th>\n",
              "      <th>pop</th>\n",
              "    </tr>\n",
              "    <tr>\n",
              "      <th>year</th>\n",
              "      <th></th>\n",
              "    </tr>\n",
              "  </thead>\n",
              "  <tbody>\n",
              "    <tr>\n",
              "      <th>2015</th>\n",
              "      <td>104,341.0</td>\n",
              "    </tr>\n",
              "    <tr>\n",
              "      <th>2016</th>\n",
              "      <td>104,872.0</td>\n",
              "    </tr>\n",
              "    <tr>\n",
              "      <th>2017</th>\n",
              "      <td>105,366.0</td>\n",
              "    </tr>\n",
              "    <tr>\n",
              "      <th>2018</th>\n",
              "      <td>105,845.0</td>\n",
              "    </tr>\n",
              "  </tbody>\n",
              "</table>\n",
              "</div>"
            ],
            "text/plain": [
              "           pop\n",
              "year          \n",
              "2015 104,341.0\n",
              "2016 104,872.0\n",
              "2017 105,366.0\n",
              "2018 105,845.0"
            ]
          },
          "execution_count": 16,
          "metadata": {},
          "output_type": "execute_result"
        }
      ],
      "source": [
        "#seleccion con xs con el indice\n",
        "df_sample.xs(['Aruba'])"
      ]
    },
    {
      "cell_type": "code",
      "execution_count": 17,
      "metadata": {
        "colab": {
          "base_uri": "https://localhost:8080/",
          "height": 52
        },
        "id": "p0kbvV_wbmre",
        "outputId": "83482a86-d9a2-4aee-c017-f5890be1d5ef"
      },
      "outputs": [
        {
          "data": {
            "text/plain": [
              "pop   105,845.0\n",
              "Name: (Aruba, 2018), dtype: float64"
            ]
          },
          "execution_count": 17,
          "metadata": {},
          "output_type": "execute_result"
        }
      ],
      "source": [
        "#seleccion con multiples indices\n",
        "df_sample.xs(['Aruba','2018'])"
      ]
    },
    {
      "cell_type": "code",
      "execution_count": 18,
      "metadata": {
        "colab": {
          "base_uri": "https://localhost:8080/",
          "height": 143
        },
        "id": "37RGf_idbp1N",
        "outputId": "1c4d7033-f70b-4ed9-b1e4-15baa15321d2"
      },
      "outputs": [
        {
          "data": {
            "text/html": [
              "<div>\n",
              "<style scoped>\n",
              "    .dataframe tbody tr th:only-of-type {\n",
              "        vertical-align: middle;\n",
              "    }\n",
              "\n",
              "    .dataframe tbody tr th {\n",
              "        vertical-align: top;\n",
              "    }\n",
              "\n",
              "    .dataframe thead th {\n",
              "        text-align: right;\n",
              "    }\n",
              "</style>\n",
              "<table border=\"1\" class=\"dataframe\">\n",
              "  <thead>\n",
              "    <tr style=\"text-align: right;\">\n",
              "      <th></th>\n",
              "      <th>pop</th>\n",
              "    </tr>\n",
              "    <tr>\n",
              "      <th>Country</th>\n",
              "      <th></th>\n",
              "    </tr>\n",
              "  </thead>\n",
              "  <tbody>\n",
              "    <tr>\n",
              "      <th>Aruba</th>\n",
              "      <td>105,845.0</td>\n",
              "    </tr>\n",
              "    <tr>\n",
              "      <th>Colombia</th>\n",
              "      <td>49,648,685.0</td>\n",
              "    </tr>\n",
              "  </tbody>\n",
              "</table>\n",
              "</div>"
            ],
            "text/plain": [
              "                  pop\n",
              "Country              \n",
              "Aruba       105,845.0\n",
              "Colombia 49,648,685.0"
            ]
          },
          "execution_count": 18,
          "metadata": {},
          "output_type": "execute_result"
        }
      ],
      "source": [
        "#seleccion por indice en segundo nivel\n",
        "df_sample.xs('2018', level='year')"
      ]
    },
    {
      "cell_type": "code",
      "execution_count": 19,
      "metadata": {
        "colab": {
          "base_uri": "https://localhost:8080/",
          "height": 455
        },
        "id": "Dueq4ZfQduVO",
        "outputId": "1bcff79b-5304-46b4-cd70-e01ea8ddcb4d"
      },
      "outputs": [
        {
          "data": {
            "text/html": [
              "<div>\n",
              "<style scoped>\n",
              "    .dataframe tbody tr th:only-of-type {\n",
              "        vertical-align: middle;\n",
              "    }\n",
              "\n",
              "    .dataframe tbody tr th {\n",
              "        vertical-align: top;\n",
              "    }\n",
              "\n",
              "    .dataframe thead th {\n",
              "        text-align: right;\n",
              "    }\n",
              "</style>\n",
              "<table border=\"1\" class=\"dataframe\">\n",
              "  <thead>\n",
              "    <tr style=\"text-align: right;\">\n",
              "      <th></th>\n",
              "      <th></th>\n",
              "      <th>pop</th>\n",
              "    </tr>\n",
              "    <tr>\n",
              "      <th>Country</th>\n",
              "      <th>year</th>\n",
              "      <th></th>\n",
              "    </tr>\n",
              "  </thead>\n",
              "  <tbody>\n",
              "    <tr>\n",
              "      <th rowspan=\"4\" valign=\"top\">Afghanistan</th>\n",
              "      <th>2015</th>\n",
              "      <td>34,413,603.0</td>\n",
              "    </tr>\n",
              "    <tr>\n",
              "      <th>2016</th>\n",
              "      <td>35,383,128.0</td>\n",
              "    </tr>\n",
              "    <tr>\n",
              "      <th>2017</th>\n",
              "      <td>36,296,400.0</td>\n",
              "    </tr>\n",
              "    <tr>\n",
              "      <th>2018</th>\n",
              "      <td>37,172,386.0</td>\n",
              "    </tr>\n",
              "    <tr>\n",
              "      <th>Albania</th>\n",
              "      <th>2015</th>\n",
              "      <td>2,880,703.0</td>\n",
              "    </tr>\n",
              "    <tr>\n",
              "      <th>...</th>\n",
              "      <th>...</th>\n",
              "      <td>...</td>\n",
              "    </tr>\n",
              "    <tr>\n",
              "      <th>Zambia</th>\n",
              "      <th>2018</th>\n",
              "      <td>17,351,822.0</td>\n",
              "    </tr>\n",
              "    <tr>\n",
              "      <th rowspan=\"4\" valign=\"top\">Zimbabwe</th>\n",
              "      <th>2015</th>\n",
              "      <td>13,814,629.0</td>\n",
              "    </tr>\n",
              "    <tr>\n",
              "      <th>2016</th>\n",
              "      <td>14,030,390.0</td>\n",
              "    </tr>\n",
              "    <tr>\n",
              "      <th>2017</th>\n",
              "      <td>14,236,745.0</td>\n",
              "    </tr>\n",
              "    <tr>\n",
              "      <th>2018</th>\n",
              "      <td>14,439,018.0</td>\n",
              "    </tr>\n",
              "  </tbody>\n",
              "</table>\n",
              "<p>1040 rows × 1 columns</p>\n",
              "</div>"
            ],
            "text/plain": [
              "                          pop\n",
              "Country     year             \n",
              "Afghanistan 2015 34,413,603.0\n",
              "            2016 35,383,128.0\n",
              "            2017 36,296,400.0\n",
              "            2018 37,172,386.0\n",
              "Albania     2015  2,880,703.0\n",
              "...                       ...\n",
              "Zambia      2018 17,351,822.0\n",
              "Zimbabwe    2015 13,814,629.0\n",
              "            2016 14,030,390.0\n",
              "            2017 14,236,745.0\n",
              "            2018 14,439,018.0\n",
              "\n",
              "[1040 rows x 1 columns]"
            ]
          },
          "execution_count": 19,
          "metadata": {},
          "output_type": "execute_result"
        }
      ],
      "source": [
        "#establecer multiples indices y ordenarlos\n",
        "df_countries = df_pob.set_index(['Country','year']).sort_index(ascending = [True,True])\n",
        "df_countries"
      ]
    },
    {
      "cell_type": "code",
      "execution_count": 21,
      "metadata": {
        "colab": {
          "base_uri": "https://localhost:8080/",
          "height": 363
        },
        "id": "eW4VUXJxedSb",
        "outputId": "57f11eca-0833-420c-e09c-7e55f3e144cb"
      },
      "outputs": [
        {
          "data": {
            "text/html": [
              "<div>\n",
              "<style scoped>\n",
              "    .dataframe tbody tr th:only-of-type {\n",
              "        vertical-align: middle;\n",
              "    }\n",
              "\n",
              "    .dataframe tbody tr th {\n",
              "        vertical-align: top;\n",
              "    }\n",
              "\n",
              "    .dataframe thead th {\n",
              "        text-align: right;\n",
              "    }\n",
              "</style>\n",
              "<table border=\"1\" class=\"dataframe\">\n",
              "  <thead>\n",
              "    <tr style=\"text-align: right;\">\n",
              "      <th></th>\n",
              "      <th></th>\n",
              "      <th>pop</th>\n",
              "    </tr>\n",
              "    <tr>\n",
              "      <th>Country</th>\n",
              "      <th>year</th>\n",
              "      <th></th>\n",
              "    </tr>\n",
              "  </thead>\n",
              "  <tbody>\n",
              "    <tr>\n",
              "      <th rowspan=\"3\" valign=\"top\">Aruba</th>\n",
              "      <th>2015</th>\n",
              "      <td>104,341.0</td>\n",
              "    </tr>\n",
              "    <tr>\n",
              "      <th>2016</th>\n",
              "      <td>104,872.0</td>\n",
              "    </tr>\n",
              "    <tr>\n",
              "      <th>2017</th>\n",
              "      <td>105,366.0</td>\n",
              "    </tr>\n",
              "    <tr>\n",
              "      <th rowspan=\"3\" valign=\"top\">Australia</th>\n",
              "      <th>2015</th>\n",
              "      <td>23,815,995.0</td>\n",
              "    </tr>\n",
              "    <tr>\n",
              "      <th>2016</th>\n",
              "      <td>24,190,907.0</td>\n",
              "    </tr>\n",
              "    <tr>\n",
              "      <th>2017</th>\n",
              "      <td>24,601,860.0</td>\n",
              "    </tr>\n",
              "    <tr>\n",
              "      <th rowspan=\"3\" valign=\"top\">Austria</th>\n",
              "      <th>2015</th>\n",
              "      <td>8,642,699.0</td>\n",
              "    </tr>\n",
              "    <tr>\n",
              "      <th>2016</th>\n",
              "      <td>8,736,668.0</td>\n",
              "    </tr>\n",
              "    <tr>\n",
              "      <th>2017</th>\n",
              "      <td>8,797,566.0</td>\n",
              "    </tr>\n",
              "  </tbody>\n",
              "</table>\n",
              "</div>"
            ],
            "text/plain": [
              "                        pop\n",
              "Country   year             \n",
              "Aruba     2015    104,341.0\n",
              "          2016    104,872.0\n",
              "          2017    105,366.0\n",
              "Australia 2015 23,815,995.0\n",
              "          2016 24,190,907.0\n",
              "          2017 24,601,860.0\n",
              "Austria   2015  8,642,699.0\n",
              "          2016  8,736,668.0\n",
              "          2017  8,797,566.0"
            ]
          },
          "execution_count": 21,
          "metadata": {},
          "output_type": "execute_result"
        }
      ],
      "source": [
        "ids = pd.IndexSlice #funcion para slicing\n",
        "df_countries.loc[ids['Aruba':'Austria','2015':'2017'],:].sort_index()"
      ]
    },
    {
      "cell_type": "code",
      "execution_count": 22,
      "metadata": {
        "colab": {
          "base_uri": "https://localhost:8080/",
          "height": 121
        },
        "id": "tyZy02aPezj6",
        "outputId": "40acfe8f-dbc4-433f-fd38-8af5c09f791c"
      },
      "outputs": [
        {
          "data": {
            "text/plain": [
              "Index(['Afghanistan', 'Afghanistan', 'Afghanistan', 'Afghanistan', 'Albania',\n",
              "       'Albania', 'Albania', 'Albania', 'Algeria', 'Algeria',\n",
              "       ...\n",
              "       'Yemen, Rep.', 'Yemen, Rep.', 'Zambia', 'Zambia', 'Zambia', 'Zambia',\n",
              "       'Zimbabwe', 'Zimbabwe', 'Zimbabwe', 'Zimbabwe'],\n",
              "      dtype='object', name='Country', length=1040)"
            ]
          },
          "execution_count": 22,
          "metadata": {},
          "output_type": "execute_result"
        }
      ],
      "source": [
        "df_countries.index.get_level_values(0) # 0 para indices de primer nivel"
      ]
    },
    {
      "cell_type": "code",
      "execution_count": 23,
      "metadata": {
        "colab": {
          "base_uri": "https://localhost:8080/",
          "height": 121
        },
        "id": "bmX8gpdQe22H",
        "outputId": "8e5d14f6-890a-4d90-e8a7-c984a1cc6d6a"
      },
      "outputs": [
        {
          "data": {
            "text/plain": [
              "CategoricalIndex(['2015', '2016', '2017', '2018', '2015', '2016', '2017',\n",
              "                  '2018', '2015', '2016',\n",
              "                  ...\n",
              "                  '2017', '2018', '2015', '2016', '2017', '2018', '2015',\n",
              "                  '2016', '2017', '2018'],\n",
              "                 categories=['2015', '2016', '2017', '2018'], ordered=False, name='year', dtype='category', length=1040)"
            ]
          },
          "execution_count": 23,
          "metadata": {},
          "output_type": "execute_result"
        }
      ],
      "source": [
        "df_countries.index.get_level_values(1) #1 para indices de segundo nivel"
      ]
    },
    {
      "cell_type": "code",
      "execution_count": 24,
      "metadata": {
        "colab": {
          "base_uri": "https://localhost:8080/",
          "height": 34
        },
        "id": "CWgFCkx1e9XE",
        "outputId": "e2f3a912-5831-4697-dadc-ae4b58eaa5e9"
      },
      "outputs": [
        {
          "data": {
            "text/plain": [
              "49648685.0"
            ]
          },
          "execution_count": 24,
          "metadata": {},
          "output_type": "execute_result"
        }
      ],
      "source": [
        "#dataframe con multiples indices o columnas\n",
        "df_countries['pop']['Colombia']['2018']"
      ]
    },
    {
      "cell_type": "code",
      "execution_count": 25,
      "metadata": {
        "colab": {
          "base_uri": "https://localhost:8080/",
          "height": 206
        },
        "id": "Dq8If62dfBsj",
        "outputId": "cbf40a90-0531-49e2-c215-c8208f52afd7"
      },
      "outputs": [
        {
          "data": {
            "text/html": [
              "<div>\n",
              "<style scoped>\n",
              "    .dataframe tbody tr th:only-of-type {\n",
              "        vertical-align: middle;\n",
              "    }\n",
              "\n",
              "    .dataframe tbody tr th {\n",
              "        vertical-align: top;\n",
              "    }\n",
              "\n",
              "    .dataframe thead th {\n",
              "        text-align: right;\n",
              "    }\n",
              "</style>\n",
              "<table border=\"1\" class=\"dataframe\">\n",
              "  <thead>\n",
              "    <tr style=\"text-align: right;\">\n",
              "      <th></th>\n",
              "      <th>pop</th>\n",
              "    </tr>\n",
              "    <tr>\n",
              "      <th>year</th>\n",
              "      <th></th>\n",
              "    </tr>\n",
              "  </thead>\n",
              "  <tbody>\n",
              "    <tr>\n",
              "      <th>2015</th>\n",
              "      <td>65,679,147,019.0</td>\n",
              "    </tr>\n",
              "    <tr>\n",
              "      <th>2016</th>\n",
              "      <td>66,487,930,677.0</td>\n",
              "    </tr>\n",
              "    <tr>\n",
              "      <th>2017</th>\n",
              "      <td>67,294,176,701.0</td>\n",
              "    </tr>\n",
              "    <tr>\n",
              "      <th>2018</th>\n",
              "      <td>68,087,886,692.0</td>\n",
              "    </tr>\n",
              "  </tbody>\n",
              "</table>\n",
              "</div>"
            ],
            "text/plain": [
              "                  pop\n",
              "year                 \n",
              "2015 65,679,147,019.0\n",
              "2016 66,487,930,677.0\n",
              "2017 67,294,176,701.0\n",
              "2018 68,087,886,692.0"
            ]
          },
          "execution_count": 25,
          "metadata": {},
          "output_type": "execute_result"
        }
      ],
      "source": [
        "df_countries.sum(level='year')"
      ]
    },
    {
      "cell_type": "code",
      "execution_count": 26,
      "metadata": {
        "colab": {
          "base_uri": "https://localhost:8080/",
          "height": 332
        },
        "id": "Pc8LRne8fWlF",
        "outputId": "4c0ce3f7-23eb-446b-c4ca-49a7c1da459e"
      },
      "outputs": [
        {
          "data": {
            "text/html": [
              "<div>\n",
              "<style scoped>\n",
              "    .dataframe tbody tr th:only-of-type {\n",
              "        vertical-align: middle;\n",
              "    }\n",
              "\n",
              "    .dataframe tbody tr th {\n",
              "        vertical-align: top;\n",
              "    }\n",
              "\n",
              "    .dataframe thead th {\n",
              "        text-align: right;\n",
              "    }\n",
              "</style>\n",
              "<table border=\"1\" class=\"dataframe\">\n",
              "  <thead>\n",
              "    <tr style=\"text-align: right;\">\n",
              "      <th></th>\n",
              "      <th></th>\n",
              "      <th>pop</th>\n",
              "    </tr>\n",
              "    <tr>\n",
              "      <th>Country</th>\n",
              "      <th>year</th>\n",
              "      <th></th>\n",
              "    </tr>\n",
              "  </thead>\n",
              "  <tbody>\n",
              "    <tr>\n",
              "      <th rowspan=\"4\" valign=\"top\">Aruba</th>\n",
              "      <th>2015</th>\n",
              "      <td>104,341.0</td>\n",
              "    </tr>\n",
              "    <tr>\n",
              "      <th>2016</th>\n",
              "      <td>104,872.0</td>\n",
              "    </tr>\n",
              "    <tr>\n",
              "      <th>2017</th>\n",
              "      <td>105,366.0</td>\n",
              "    </tr>\n",
              "    <tr>\n",
              "      <th>2018</th>\n",
              "      <td>105,845.0</td>\n",
              "    </tr>\n",
              "    <tr>\n",
              "      <th rowspan=\"4\" valign=\"top\">Colombia</th>\n",
              "      <th>2015</th>\n",
              "      <td>47,520,667.0</td>\n",
              "    </tr>\n",
              "    <tr>\n",
              "      <th>2016</th>\n",
              "      <td>48,171,392.0</td>\n",
              "    </tr>\n",
              "    <tr>\n",
              "      <th>2017</th>\n",
              "      <td>48,901,066.0</td>\n",
              "    </tr>\n",
              "    <tr>\n",
              "      <th>2018</th>\n",
              "      <td>49,648,685.0</td>\n",
              "    </tr>\n",
              "  </tbody>\n",
              "</table>\n",
              "</div>"
            ],
            "text/plain": [
              "                       pop\n",
              "Country  year             \n",
              "Aruba    2015    104,341.0\n",
              "         2016    104,872.0\n",
              "         2017    105,366.0\n",
              "         2018    105,845.0\n",
              "Colombia 2015 47,520,667.0\n",
              "         2016 48,171,392.0\n",
              "         2017 48,901,066.0\n",
              "         2018 49,648,685.0"
            ]
          },
          "execution_count": 26,
          "metadata": {},
          "output_type": "execute_result"
        }
      ],
      "source": [
        "df_sample"
      ]
    },
    {
      "cell_type": "code",
      "execution_count": 27,
      "metadata": {
        "colab": {
          "base_uri": "https://localhost:8080/",
          "height": 175
        },
        "id": "Xx9dXwPhfbs1",
        "outputId": "cde4e5ba-ddf6-4b0c-fe06-2da5f7d5325c"
      },
      "outputs": [
        {
          "data": {
            "text/html": [
              "<div>\n",
              "<style scoped>\n",
              "    .dataframe tbody tr th:only-of-type {\n",
              "        vertical-align: middle;\n",
              "    }\n",
              "\n",
              "    .dataframe tbody tr th {\n",
              "        vertical-align: top;\n",
              "    }\n",
              "\n",
              "    .dataframe thead tr th {\n",
              "        text-align: left;\n",
              "    }\n",
              "\n",
              "    .dataframe thead tr:last-of-type th {\n",
              "        text-align: right;\n",
              "    }\n",
              "</style>\n",
              "<table border=\"1\" class=\"dataframe\">\n",
              "  <thead>\n",
              "    <tr>\n",
              "      <th></th>\n",
              "      <th colspan=\"4\" halign=\"left\">pop</th>\n",
              "    </tr>\n",
              "    <tr>\n",
              "      <th>year</th>\n",
              "      <th>2015</th>\n",
              "      <th>2016</th>\n",
              "      <th>2017</th>\n",
              "      <th>2018</th>\n",
              "    </tr>\n",
              "    <tr>\n",
              "      <th>Country</th>\n",
              "      <th></th>\n",
              "      <th></th>\n",
              "      <th></th>\n",
              "      <th></th>\n",
              "    </tr>\n",
              "  </thead>\n",
              "  <tbody>\n",
              "    <tr>\n",
              "      <th>Aruba</th>\n",
              "      <td>104,341.0</td>\n",
              "      <td>104,872.0</td>\n",
              "      <td>105,366.0</td>\n",
              "      <td>105,845.0</td>\n",
              "    </tr>\n",
              "    <tr>\n",
              "      <th>Colombia</th>\n",
              "      <td>47,520,667.0</td>\n",
              "      <td>48,171,392.0</td>\n",
              "      <td>48,901,066.0</td>\n",
              "      <td>49,648,685.0</td>\n",
              "    </tr>\n",
              "  </tbody>\n",
              "</table>\n",
              "</div>"
            ],
            "text/plain": [
              "                  pop                                       \n",
              "year             2015         2016         2017         2018\n",
              "Country                                                     \n",
              "Aruba       104,341.0    104,872.0    105,366.0    105,845.0\n",
              "Colombia 47,520,667.0 48,171,392.0 48,901,066.0 49,648,685.0"
            ]
          },
          "execution_count": 27,
          "metadata": {},
          "output_type": "execute_result"
        }
      ],
      "source": [
        "#convertir datos de una columnas en columnas\n",
        "df_sample.unstack('year')"
      ]
    },
    {
      "cell_type": "code",
      "execution_count": 28,
      "metadata": {
        "colab": {
          "base_uri": "https://localhost:8080/",
          "height": 238
        },
        "id": "KGu9VBICffmE",
        "outputId": "3bf01305-4e39-4d70-a151-c7503fa6b758"
      },
      "outputs": [
        {
          "data": {
            "text/html": [
              "<div>\n",
              "<style scoped>\n",
              "    .dataframe tbody tr th:only-of-type {\n",
              "        vertical-align: middle;\n",
              "    }\n",
              "\n",
              "    .dataframe tbody tr th {\n",
              "        vertical-align: top;\n",
              "    }\n",
              "\n",
              "    .dataframe thead tr th {\n",
              "        text-align: left;\n",
              "    }\n",
              "\n",
              "    .dataframe thead tr:last-of-type th {\n",
              "        text-align: right;\n",
              "    }\n",
              "</style>\n",
              "<table border=\"1\" class=\"dataframe\">\n",
              "  <thead>\n",
              "    <tr>\n",
              "      <th></th>\n",
              "      <th colspan=\"2\" halign=\"left\">pop</th>\n",
              "    </tr>\n",
              "    <tr>\n",
              "      <th>Country</th>\n",
              "      <th>Aruba</th>\n",
              "      <th>Colombia</th>\n",
              "    </tr>\n",
              "    <tr>\n",
              "      <th>year</th>\n",
              "      <th></th>\n",
              "      <th></th>\n",
              "    </tr>\n",
              "  </thead>\n",
              "  <tbody>\n",
              "    <tr>\n",
              "      <th>2015</th>\n",
              "      <td>104,341.0</td>\n",
              "      <td>47,520,667.0</td>\n",
              "    </tr>\n",
              "    <tr>\n",
              "      <th>2016</th>\n",
              "      <td>104,872.0</td>\n",
              "      <td>48,171,392.0</td>\n",
              "    </tr>\n",
              "    <tr>\n",
              "      <th>2017</th>\n",
              "      <td>105,366.0</td>\n",
              "      <td>48,901,066.0</td>\n",
              "    </tr>\n",
              "    <tr>\n",
              "      <th>2018</th>\n",
              "      <td>105,845.0</td>\n",
              "      <td>49,648,685.0</td>\n",
              "    </tr>\n",
              "  </tbody>\n",
              "</table>\n",
              "</div>"
            ],
            "text/plain": [
              "              pop             \n",
              "Country     Aruba     Colombia\n",
              "year                          \n",
              "2015    104,341.0 47,520,667.0\n",
              "2016    104,872.0 48,171,392.0\n",
              "2017    105,366.0 48,901,066.0\n",
              "2018    105,845.0 49,648,685.0"
            ]
          },
          "execution_count": 28,
          "metadata": {},
          "output_type": "execute_result"
        }
      ],
      "source": [
        "df_sample.unstack('Country')"
      ]
    },
    {
      "cell_type": "code",
      "execution_count": null,
      "metadata": {
        "id": "f6orCr8ffjT3"
      },
      "outputs": [],
      "source": []
    }
  ],
  "metadata": {
    "colab": {
      "name": "7 multi-index.ipynb",
      "provenance": []
    },
    "kernelspec": {
      "display_name": "Python 3",
      "name": "python3"
    },
    "language_info": {
      "codemirror_mode": {
        "name": "ipython",
        "version": 3
      },
      "file_extension": ".py",
      "mimetype": "text/x-python",
      "name": "python",
      "nbconvert_exporter": "python",
      "pygments_lexer": "ipython3",
      "version": "3.8.8"
    }
  },
  "nbformat": 4,
  "nbformat_minor": 0
}
