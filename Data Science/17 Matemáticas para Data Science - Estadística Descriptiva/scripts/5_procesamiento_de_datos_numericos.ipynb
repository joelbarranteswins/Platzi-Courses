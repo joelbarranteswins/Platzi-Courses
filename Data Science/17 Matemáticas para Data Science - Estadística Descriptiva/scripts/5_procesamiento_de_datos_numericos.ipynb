{
 "cells": [
  {
   "cell_type": "markdown",
   "metadata": {
    "cell_id": "00000-3ae783b8-e68c-4e50-8584-76d9afd6d731",
    "deepnote_cell_type": "markdown",
    "tags": []
   },
   "source": [
    "# Escalamiento de datos numéricos"
   ]
  },
  {
   "cell_type": "markdown",
   "metadata": {
    "cell_id": "00001-1fa33800-9e78-4de9-9f32-8a55be925f26",
    "deepnote_cell_type": "markdown",
    "tags": []
   },
   "source": [
    "### Transformaciones lineales"
   ]
  },
  {
   "cell_type": "code",
   "execution_count": 7,
   "metadata": {
    "cell_id": "00000-dd8388cc-7c25-45a6-8492-0cb9cad04e24",
    "deepnote_cell_type": "code",
    "deepnote_to_be_reexecuted": false,
    "execution_millis": 2532,
    "execution_start": 1622484982440,
    "source_hash": "f9ac71d",
    "tags": []
   },
   "outputs": [],
   "source": [
    "import timeit\n",
    "import numpy as np\n",
    "import pandas as pd \n",
    "import matplotlib.pyplot as plt\n",
    "from sklearn import datasets, linear_model\n",
    "\n",
    "X, y = datasets.load_diabetes(return_X_y=True)\n",
    "raw = X[:, None, 2]"
   ]
  },
  {
   "cell_type": "markdown",
   "metadata": {
    "cell_id": "00001-de96f906-18e2-433d-98c3-2a6675f1ddf9",
    "deepnote_cell_type": "markdown",
    "tags": []
   },
   "source": [
    "Detalles del dataset: https://scikit-learn.org/stable/modules/generated/sklearn.datasets.load_diabetes.html"
   ]
  },
  {
   "cell_type": "code",
   "execution_count": 4,
   "metadata": {},
   "outputs": [],
   "source": [
    "# escalamiento max-min\n",
    "max_raw = max(raw)\n",
    "min_raw = min(raw)\n",
    "scaled = (2*raw - max_raw -min_raw)/(max_raw - min_raw)"
   ]
  },
  {
   "cell_type": "code",
   "execution_count": 16,
   "metadata": {
    "cell_id": "00001-7b52d2b4-5e9d-4d35-a045-d3697bd31a44",
    "deepnote_cell_type": "code",
    "deepnote_to_be_reexecuted": false,
    "execution_millis": 595,
    "execution_start": 1622484985003,
    "output_cleared": false,
    "source_hash": "4c236db0",
    "tags": []
   },
   "outputs": [
    {
     "data": {
      "text/plain": [
       "(array([32., 66., 98., 90., 64., 50., 23., 12.,  5.,  2.]),\n",
       " array([-1.89792941, -1.34956464, -0.80119987, -0.2528351 ,  0.29552967,\n",
       "         0.84389444,  1.39225921,  1.94062398,  2.48898875,  3.03735352,\n",
       "         3.58571828]),\n",
       " <BarContainer object of 10 artists>)"
      ]
     },
     "execution_count": 16,
     "metadata": {},
     "output_type": "execute_result"
    },
    {
     "data": {
      "image/png": "[encoded data removed]",
      "text/plain": [
       "<Figure size 432x288 with 3 Axes>"
      ]
     },
     "metadata": {
      "needs_background": "light"
     },
     "output_type": "display_data"
    }
   ],
   "source": [
    "\n",
    "\n",
    "# normalización Z-score\n",
    "avg = np.average(raw)\n",
    "std = np.std(raw)\n",
    "z_scaled = (raw - avg)/std\n",
    "\n",
    "fig, axs = plt.subplots(3, 1, sharex=True)\n",
    "\n",
    "axs[0].hist(raw)\n",
    "axs[1].hist(scaled)\n",
    "axs[2].hist(z_scaled)"
   ]
  },
  {
   "cell_type": "code",
   "execution_count": 17,
   "metadata": {
    "cell_id": "00002-a231b2cb-c0fa-43ef-a3e5-283ee2343e48",
    "deepnote_cell_type": "code",
    "deepnote_to_be_reexecuted": false,
    "execution_millis": 1,
    "execution_start": 1622485022773,
    "source_hash": "8d13a080",
    "tags": []
   },
   "outputs": [],
   "source": [
    "# modelos para entrenamiento\n",
    "def train_raw():\n",
    "    linear_model.LinearRegression().fit(raw, y)\n",
    "\n",
    "def train_scaled():\n",
    "    linear_model.LinearRegression().fit(scaled, y)\n",
    "\n",
    "def train_z_scaled():\n",
    "    linear_model.LinearRegression().fit(z_scaled, y)"
   ]
  },
  {
   "cell_type": "code",
   "execution_count": 18,
   "metadata": {
    "cell_id": "00004-95df3b96-b7bf-4957-9030-aee0179e31dd",
    "deepnote_cell_type": "code",
    "deepnote_to_be_reexecuted": false,
    "execution_millis": 1,
    "execution_start": 1622485024560,
    "output_cleared": false,
    "source_hash": "6dc73673",
    "tags": []
   },
   "outputs": [
    {
     "name": "stdout",
     "output_type": "stream",
     "text": [
      "trainning time for raw data : 0.07295639999995274 \n",
      "trainning time for scaled data : 0.05375950000006924\n",
      "trainning time for z_scaled data : 0.042158599999993385\n"
     ]
    }
   ],
   "source": [
    "raw_time = timeit.timeit(train_raw, number = 100)\n",
    "scaled_time = timeit.timeit(train_scaled, number = 100)\n",
    "z_scaled_time = timeit.timeit(train_raw, number = 100)\n",
    "print('trainning time for raw data : {} '.format(raw_time))\n",
    "print('trainning time for scaled data : {}'.format(scaled_time))\n",
    "print('trainning time for z_scaled data : {}'.format(z_scaled_time))"
   ]
  },
  {
   "cell_type": "markdown",
   "metadata": {
    "cell_id": "00006-39c52400-be54-4471-a6c6-e0bebbd7a48f",
    "deepnote_cell_type": "markdown",
    "tags": []
   },
   "source": [
    "* max-min scaling: mejor para datos uniformemente distribuidos\n",
    "* z-score scaling: mejor para datos distribuidos \"normalmente\" (forma de campana de gauss)"
   ]
  },
  {
   "cell_type": "markdown",
   "metadata": {
    "cell_id": "00006-3645f92d-c7c3-4f2c-8ff6-19b158f1e589",
    "deepnote_cell_type": "markdown",
    "tags": []
   },
   "source": [
    "Utilidades de Scikit Learn : https://scikit-learn.org/stable/modules/preprocessing.html"
   ]
  },
  {
   "cell_type": "markdown",
   "metadata": {
    "cell_id": "00009-8f892a43-fc2d-4765-9df6-220b21698953",
    "deepnote_cell_type": "markdown",
    "tags": []
   },
   "source": [
    "### Transformaciones no lineales"
   ]
  },
  {
   "cell_type": "code",
   "execution_count": 20,
   "metadata": {
    "cell_id": "00010-c3f4aea0-11c5-41b0-9d6d-db691ef3fe1c",
    "deepnote_cell_type": "code",
    "deepnote_to_be_reexecuted": false,
    "execution_millis": 139,
    "execution_start": 1622485028352,
    "source_hash": "f2d578bb",
    "tags": []
   },
   "outputs": [],
   "source": [
    "df = pd.read_csv('../database/cars.csv')"
   ]
  },
  {
   "cell_type": "code",
   "execution_count": 22,
   "metadata": {
    "cell_id": "00011-2eb046f6-9ec1-4791-a79a-c7b651c4d276",
    "deepnote_cell_type": "code",
    "deepnote_to_be_reexecuted": false,
    "execution_millis": 263,
    "execution_start": 1622485028869,
    "output_cleared": false,
    "source_hash": "1d9343bd",
    "tags": []
   },
   "outputs": [
    {
     "data": {
      "text/plain": [
       "<AxesSubplot:>"
      ]
     },
     "execution_count": 22,
     "metadata": {},
     "output_type": "execute_result"
    },
    {
     "data": {
      "image/png": "[encoded data removed]",
      "text/plain": [
       "<Figure size 432x288 with 1 Axes>"
      ]
     },
     "metadata": {
      "needs_background": "light"
     },
     "output_type": "display_data"
    }
   ],
   "source": [
    "df.price_usd.hist()"
   ]
  },
  {
   "cell_type": "markdown",
   "metadata": {
    "cell_id": "00012-e7d44a5d-9df4-41fb-a0d9-d1467e02f7c5",
    "deepnote_cell_type": "markdown",
    "tags": []
   },
   "source": [
    "Transformación con $$tanh(x)$$"
   ]
  },
  {
   "cell_type": "code",
   "execution_count": 27,
   "metadata": {
    "cell_id": "00012-4d7c01b7-67e1-4528-83b8-53f72c22bd71",
    "deepnote_cell_type": "code",
    "deepnote_to_be_reexecuted": false,
    "execution_millis": 277,
    "execution_start": 1622485031705,
    "output_cleared": false,
    "source_hash": "45297aa3",
    "tags": []
   },
   "outputs": [
    {
     "data": {
      "text/plain": [
       "<AxesSubplot:>"
      ]
     },
     "execution_count": 27,
     "metadata": {},
     "output_type": "execute_result"
    },
    {
     "data": {
      "image/png": "[encoded data removed]",
      "text/plain": [
       "<Figure size 432x288 with 1 Axes>"
      ]
     },
     "metadata": {
      "needs_background": "light"
     },
     "output_type": "display_data"
    }
   ],
   "source": [
    "p = 10000\n",
    "df.price_usd.apply(lambda x: np.tanh(x/p)).hist()"
   ]
  },
  {
   "cell_type": "markdown",
   "metadata": {
    "cell_id": "00014-043435bf-21c9-4ffc-9036-2a1dd7b298ee",
    "deepnote_cell_type": "markdown",
    "tags": []
   },
   "source": [
    "* mapear datos a una distribucion gaussiana: https://scikit-learn.org/stable/auto_examples/preprocessing/plot_map_data_to_normal.html#sphx-glr-auto-examples-preprocessing-plot-map-data-to-normal-py"
   ]
  }
 ],
 "metadata": {
  "deepnote": {
   "is_reactive": false
  },
  "deepnote_execution_queue": [],
  "deepnote_notebook_id": "dc0e8e2f-767c-4d0a-bdda-fe85e29fb72b",
  "interpreter": {
   "hash": "daedd3d68bd0ebd4f040ebca8160a9124c1b6019ccc99e7e50b7ec90aa1d521f"
  },
  "kernelspec": {
   "display_name": "Python 3.9.6 64-bit",
   "language": "python",
   "name": "python3"
  },
  "language_info": {
   "codemirror_mode": {
    "name": "ipython",
    "version": 3
   },
   "file_extension": ".py",
   "mimetype": "text/x-python",
   "name": "python",
   "nbconvert_exporter": "python",
   "pygments_lexer": "ipython3",
   "version": "3.9.6"
  },
  "orig_nbformat": 2
 },
 "nbformat": 4,
 "nbformat_minor": 2
}
