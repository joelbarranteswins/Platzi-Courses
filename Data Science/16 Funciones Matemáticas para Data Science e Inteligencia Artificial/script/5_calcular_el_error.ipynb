{
  "cells": [
    {
      "cell_type": "code",
      "execution_count": 3,
      "metadata": {
        "id": "pYeAuMllH0Yh"
      },
      "outputs": [],
      "source": [
        "import matplotlib.pyplot as plt"
      ]
    },
    {
      "cell_type": "code",
      "execution_count": 4,
      "metadata": {
        "id": "gLmYPSBhH1mK"
      },
      "outputs": [],
      "source": [
        "x=[1.2, 2,3.2,2.5,5,6,4,8]\n",
        "y=[2,3,3.4,3.1,4,4.7,3.8,7]\n",
        "y_prima=[]"
      ]
    },
    {
      "cell_type": "markdown",
      "metadata": {
        "id": "Tq7kcBD3IOkG"
      },
      "source": [
        "## Calculo de la regresion Lineal\n",
        "\n",
        "Sabiendo que:\n",
        "$f(x)=mx + b$ donde $m$ y $b$  $\\in R$. \n",
        "\n",
        "entonces:\n",
        "\n",
        "<center>\n",
        "<img src=\"./../img/pendiente_interseccion.jpg\">\n",
        "</center>"
      ]
    },
    {
      "cell_type": "code",
      "execution_count": 5,
      "metadata": {
        "id": "YLag63jYP-JW"
      },
      "outputs": [
        {
          "data": {
            "text/plain": [
              "146.43"
            ]
          },
          "execution_count": 5,
          "metadata": {},
          "output_type": "execute_result"
        }
      ],
      "source": [
        "def sum_of_products_xy(x: list[float],y: list[float]) -> float:\n",
        "  assert len(x) == len(y)\n",
        "  xy=0\n",
        "  for i in range(len(x)):\n",
        "      xy+= x[i]*y[i]\n",
        "  return xy\n",
        "\n",
        "sum_of_products_xy(x,y)"
      ]
    },
    {
      "cell_type": "code",
      "execution_count": 6,
      "metadata": {
        "id": "iucMTHv3Qj0P"
      },
      "outputs": [
        {
          "data": {
            "text/plain": [
              "162.93"
            ]
          },
          "execution_count": 6,
          "metadata": {},
          "output_type": "execute_result"
        }
      ],
      "source": [
        "def sum_x_square_of_2(x: list[float])-> float:\n",
        "  assert type(x) == list\n",
        "  x2=0\n",
        "  for i in range(len(x)):\n",
        "      x2+= x[i]**2\n",
        "  return x2\n",
        "\n",
        "sum_x_square_of_2(x)"
      ]
    },
    {
      "cell_type": "markdown",
      "metadata": {
        "id": "oUqya3alkdUy"
      },
      "source": [
        "## prendiente *m*\n"
      ]
    },
    {
      "cell_type": "code",
      "execution_count": 7,
      "metadata": {
        "id": "mVrHjs2dS2E3"
      },
      "outputs": [
        {
          "data": {
            "text/plain": [
              "0.6386313543015079"
            ]
          },
          "execution_count": 7,
          "metadata": {},
          "output_type": "execute_result"
        }
      ],
      "source": [
        "def get_pending(x: list[float], y: list[float]) -> float:\n",
        "  numarator = len(x)*sum_of_products_xy(x,y)-(sum(x)*sum(y))\n",
        "  denominator = len(x)*sum_x_square_of_2(x)-(sum(x))**2\n",
        "  return numarator/denominator\n",
        "\n",
        "get_pending(x, y)\n"
      ]
    },
    {
      "cell_type": "markdown",
      "metadata": {
        "id": "n37GYl-ykiCR"
      },
      "source": [
        "## interseccion *b*"
      ]
    },
    {
      "cell_type": "code",
      "execution_count": 8,
      "metadata": {
        "id": "IEl_hz59VftP"
      },
      "outputs": [
        {
          "data": {
            "text/plain": [
              "1.3284574747227373"
            ]
          },
          "execution_count": 8,
          "metadata": {},
          "output_type": "execute_result"
        }
      ],
      "source": [
        "def get_point_of_intersection(x: list[float],y: list[float]) -> float:\n",
        "  m=get_pending(x,y)\n",
        "  y_prom=sum(y)/len(y)\n",
        "  x_prom=sum(x)/len(x)\n",
        "  return y_prom-(m*x_prom)\n",
        "\n",
        "get_point_of_intersection(x,y)"
      ]
    },
    {
      "cell_type": "markdown",
      "metadata": {
        "id": "AgiRrZ4Dkshx"
      },
      "source": [
        "## Funcion lineal"
      ]
    },
    {
      "cell_type": "code",
      "execution_count": 9,
      "metadata": {
        "id": "QvoDunkTWScR"
      },
      "outputs": [],
      "source": [
        "def f(x: list[float],m: float,b: float) -> float:\n",
        "  return m*x+b"
      ]
    },
    {
      "cell_type": "markdown",
      "metadata": {
        "id": "bfPrxu1fkzcZ"
      },
      "source": [
        "## Resultado de los valores de y'"
      ]
    },
    {
      "cell_type": "code",
      "execution_count": 10,
      "metadata": {
        "colab": {
          "base_uri": "https://localhost:8080/"
        },
        "id": "PYrk2QgHWnZP",
        "outputId": "25c26727-158d-421f-86b1-94649624ed47"
      },
      "outputs": [
        {
          "name": "stdout",
          "output_type": "stream",
          "text": [
            "[2.09, 2.61, 3.37, 2.93, 4.52, 5.16, 3.88, 6.44]\n"
          ]
        }
      ],
      "source": [
        "m=get_pending(x,y)\n",
        "b=get_point_of_intersection(x,y)\n",
        "\n",
        "for x_val in x:\n",
        "  y_prima.append(round(f(x_val,m,b),2))\n",
        "\n",
        "print(y_prima)"
      ]
    },
    {
      "cell_type": "markdown",
      "metadata": {
        "id": "eVHezqR9kGhW"
      },
      "source": [
        "# Grafico "
      ]
    },
    {
      "cell_type": "code",
      "execution_count": 11,
      "metadata": {
        "id": "sS5qbjfWQJjU"
      },
      "outputs": [],
      "source": [
        "def get_list_values_for_plotting_a_line(x_values: list[float]):\n",
        "#recta para graficar\n",
        "  y_values=[]\n",
        "  for val in x_values:\n",
        "    y_values.append(round(f(val,m,b),2))\n",
        "  return x_values, y_values\n",
        "\n",
        "x_values, y_values = get_list_values_for_plotting_a_line(x_values=range(len(x)+10))"
      ]
    },
    {
      "cell_type": "code",
      "execution_count": 12,
      "metadata": {
        "colab": {
          "base_uri": "https://localhost:8080/",
          "height": 268
        },
        "id": "PFrgnt5fcjBQ",
        "outputId": "1bf91ba4-868d-4aa8-be15-78997c155024"
      },
      "outputs": [
        {
          "name": "stderr",
          "output_type": "stream",
          "text": [
            "C:\\Users\\joel_\\AppData\\Local\\Temp/ipykernel_680/947732804.py:9: UserWarning: Matplotlib is currently using module://matplotlib_inline.backend_inline, which is a non-GUI backend, so cannot show the figure.\n",
            "  fig.show()\n"
          ]
        },
        {
          "data": {
            "image/png": "[encoded data removed]",
            "text/plain": [
              "<Figure size 432x288 with 1 Axes>"
            ]
          },
          "metadata": {
            "needs_background": "light"
          },
          "output_type": "display_data"
        }
      ],
      "source": [
        "\n",
        "fig,ax=plt.subplots()\n",
        "ax.plot(x_values,y_values, label='$f(x)\\'=mx+b$')\n",
        "# ax.scatter(x,y_prima,color='g',label='y\\'')\n",
        "ax.scatter(x,y,color='r', label=\"$y$\")\n",
        "ax.set_ylim(0,8)\n",
        "ax.set_xlim(0,9)\n",
        "ax.grid()\n",
        "ax.legend(loc =\"lower right\")\n",
        "fig.show()"
      ]
    },
    {
      "cell_type": "markdown",
      "metadata": {
        "id": "lzOTMuzUk-Zy"
      },
      "source": [
        "# Error cuadratico medio ECM"
      ]
    },
    {
      "cell_type": "markdown",
      "metadata": {},
      "source": [
        "<center><img src=\"../img/mean_square_errorpng.png\" width=\"500\"></center>\n",
        "\n",
        "* tener encuenta que tambien existe el root mean square error"
      ]
    },
    {
      "cell_type": "code",
      "execution_count": 13,
      "metadata": {
        "colab": {
          "base_uri": "https://localhost:8080/"
        },
        "id": "gJuzfbEBT2xE",
        "outputId": "aea52355-5ec2-4370-a048-8d51353cf3ff"
      },
      "outputs": [
        {
          "name": "stdout",
          "output_type": "stream",
          "text": [
            "[2, 3, 3.4, 3.1, 4, 4.7, 3.8, 7]\n",
            "[2.09, 2.61, 3.37, 2.93, 4.52, 5.16, 3.88, 6.44]\n"
          ]
        }
      ],
      "source": [
        "print(y)\n",
        "print(y_prima)"
      ]
    },
    {
      "cell_type": "code",
      "execution_count": 14,
      "metadata": {
        "id": "DhJoztdafYAa"
      },
      "outputs": [],
      "source": [
        "import math\n",
        "def get_mean_square_error( y, y_prima):\n",
        "  sum=0\n",
        "  for i in range(len(y)):\n",
        "    sum+=(y_prima[i]-y[i])**2\n",
        "  return sum/len(y)"
      ]
    },
    {
      "cell_type": "code",
      "execution_count": 15,
      "metadata": {
        "colab": {
          "base_uri": "https://localhost:8080/"
        },
        "id": "2kGDH6PqgtqJ",
        "outputId": "cd968ee2-e0da-4968-d640-81f11ff85083"
      },
      "outputs": [
        {
          "name": "stdout",
          "output_type": "stream",
          "text": [
            "el error cuadratico medio es 0.35213633723318\n"
          ]
        }
      ],
      "source": [
        "mean_square_error=get_mean_square_error( y, y_prima)\n",
        "print(f'el error cuadratico medio es {mean_square_error}' )"
      ]
    }
  ],
  "metadata": {
    "colab": {
      "name": "¿Como se calcula un Error?-Curso Funciones Para DS -Platzi.ipynb",
      "provenance": []
    },
    "kernelspec": {
      "display_name": "Python 3",
      "name": "python3"
    },
    "language_info": {
      "codemirror_mode": {
        "name": "ipython",
        "version": 3
      },
      "file_extension": ".py",
      "mimetype": "text/x-python",
      "name": "python",
      "nbconvert_exporter": "python",
      "pygments_lexer": "ipython3",
      "version": "3.9.6"
    }
  },
  "nbformat": 4,
  "nbformat_minor": 0
}
