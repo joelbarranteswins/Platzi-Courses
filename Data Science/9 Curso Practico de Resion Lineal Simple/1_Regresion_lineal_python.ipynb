{
 "cells": [
  {
   "cell_type": "markdown",
   "metadata": {},
   "source": [
    "# Regresion Lineal Simple"
   ]
  },
  {
   "cell_type": "code",
   "execution_count": 1,
   "metadata": {},
   "outputs": [],
   "source": [
    "import numpy as np\n",
    "import matplotlib.pyplot as plt"
   ]
  },
  {
   "cell_type": "code",
   "execution_count": 2,
   "metadata": {},
   "outputs": [],
   "source": [
    "def estimate_b0_b1(x: list, y: list) -> int:\n",
    "    n = np.size(x)\n",
    "    #media de las listas x, y\n",
    "    x, y = np.array(x), np.array(y)\n",
    "    m_x, m_y = np.mean(x), np.mean(y)\n",
    "\n",
    "    suma_cuadratica = np.sum((x - m_x) * (x - m_x))\n",
    "    suma_producto = np.sum((x-m_x) * (y - m_y))\n",
    "\n",
    "    b1 = suma_producto/suma_cuadratica\n",
    "\n",
    "    #y = b0 + b1 * x\n",
    "    #b0 = y - b1 * x\n",
    "    b0 = m_y - b1 * m_x\n",
    "\n",
    "    b = np.array([b0,b1,m_x,m_y])\n",
    "    \n",
    "    return b\n",
    "\n"
   ]
  },
  {
   "cell_type": "code",
   "execution_count": 3,
   "metadata": {},
   "outputs": [],
   "source": [
    "def plot_regresion(x, y, b):\n",
    "    x, y = np.array(x), np.array(y)\n",
    "\n",
    "    y_pred = b[0] + b[1] * x       \n",
    "\n",
    "    plt.scatter(x,y)\n",
    "    plt.plot(x, y_pred)\n",
    "    plt.show()"
   ]
  },
  {
   "cell_type": "code",
   "execution_count": 4,
   "metadata": {},
   "outputs": [
    {
     "name": "stdout",
     "output_type": "stream",
     "text": [
      "los valores de de la recta son x = [1, 2, 3, 4, 5], y = [2, 3, 5, 6, 5]\n"
     ]
    },
    {
     "data": {
      "image/png": "[encoded data removed]",
      "text/plain": [
       "<Figure size 432x288 with 1 Axes>"
      ]
     },
     "metadata": {
      "needs_background": "light"
     },
     "output_type": "display_data"
    }
   ],
   "source": [
    "def main():\n",
    "    x = [1,2,3,4,5]\n",
    "    y = [2,3,5,6,5]\n",
    "    b = estimate_b0_b1(x,y)\n",
    "    print(f\"los valores de de la recta son x = {x}, y = {y}\") \n",
    "    plot_regresion(x,y,b)\n",
    "\n",
    "if __name__== '__main__':\n",
    "    main()"
   ]
  },
  {
   "cell_type": "code",
   "execution_count": null,
   "metadata": {},
   "outputs": [],
   "source": []
  }
 ],
 "metadata": {
  "interpreter": {
   "hash": "1e915f0a29dc84041eaeb02b7b1a21c440e37a87b61d44d5e84a515737dc82bc"
  },
  "kernelspec": {
   "display_name": "Python 3.8.8 64-bit ('base': conda)",
   "name": "python3"
  },
  "language_info": {
   "codemirror_mode": {
    "name": "ipython",
    "version": 3
   },
   "file_extension": ".py",
   "mimetype": "text/x-python",
   "name": "python",
   "nbconvert_exporter": "python",
   "pygments_lexer": "ipython3",
   "version": "3.8.8"
  },
  "orig_nbformat": 4
 },
 "nbformat": 4,
 "nbformat_minor": 2
}
