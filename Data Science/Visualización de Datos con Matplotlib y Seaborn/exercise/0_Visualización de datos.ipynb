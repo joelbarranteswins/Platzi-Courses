{
 "cells": [
  {
   "cell_type": "markdown",
   "metadata": {},
   "source": [
    "# La importancia de la visualización de datos\n",
    "\n",
    "¿Por que es importante?\n",
    "\n",
    "Visualizar los datos nos permite dar respuestas a preguntas que ni siquiera sabiamos que teniamos. Nos permite encontrar hallazgos en nuestros datos, ya sean tendencias, comportamientos en los datos o outliers o datos atipicos. También se utiliza mucho en la ciencia de datos orientada hacia el machine learning e inteligencia artificial como las lineas de entrenamiento. "
   ]
  },
  {
   "cell_type": "markdown",
   "metadata": {},
   "source": [
    "# Matplotlib\n",
    "\n",
    "- Escrita por John D. Hunter\n",
    "- Creada en 2003\n",
    "- Basada en Numpy\n",
    "- Emula comandos de MATLAB\n",
    "- Escrita en Python\n",
    "\n",
    "### Ventajas\n",
    "- Simple\n",
    "- Rápida\n",
    "- Personalizable y customizable\n",
    "\n",
    "### Conociemientos previos recomendados\n",
    "- Tipos de visualizaciones de datos\n",
    "- Python \n",
    "- Manejo de librerias como Pandas y Numpy"
   ]
  },
  {
   "cell_type": "markdown",
   "metadata": {},
   "source": []
  }
 ],
 "metadata": {
  "language_info": {
   "name": "python"
  },
  "orig_nbformat": 4
 },
 "nbformat": 4,
 "nbformat_minor": 2
}
