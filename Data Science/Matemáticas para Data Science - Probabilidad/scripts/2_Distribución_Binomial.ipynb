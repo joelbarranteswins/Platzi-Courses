{
  "cells": [
    {
      "cell_type": "code",
      "execution_count": 3,
      "metadata": {
        "id": "mk5PbdQ60KHF"
      },
      "outputs": [],
      "source": [
        "import numpy as np\n",
        "from numpy.random import binomial\n",
        "from scipy.stats import binom\n",
        "from math import factorial\n",
        "import matplotlib.pyplot as plt"
      ]
    },
    {
      "cell_type": "markdown",
      "metadata": {
        "id": "j0ZPLw1C275z"
      },
      "source": [
        "## Secuencias de eventos tipo Bernoulli\n",
        "\n",
        "$$\n",
        "P(k, n; p) = {n \\choose k} p^k (1-p)^{n-k} = \\frac{n!}{k!(n-k)!}p^k (1-p)^{n-k}\n",
        "$$"
      ]
    },
    {
      "cell_type": "markdown",
      "metadata": {},
      "source": [
        "* K: es el numero de exitos\n",
        "* n: numero del espacio muestral\n",
        "* p: probabilidad de exito"
      ]
    },
    {
      "cell_type": "code",
      "execution_count": 4,
      "metadata": {
        "id": "zV3MBWjh3q1I"
      },
      "outputs": [],
      "source": [
        "# definición de la distribución binomial \n",
        "#n : numero de lanzamientos\n",
        "def my_binomial(k, n, p):\n",
        "  return factorial(n)/(factorial(k)*(factorial(n-k)))*pow(p,k)*pow(1-p, n-k)"
      ]
    },
    {
      "cell_type": "code",
      "execution_count": 5,
      "metadata": {},
      "outputs": [
        {
          "data": {
            "text/plain": [
              "0.375"
            ]
          },
          "execution_count": 5,
          "metadata": {},
          "output_type": "execute_result"
        }
      ],
      "source": [
        "# realizando a mano tuvimos como resultado:\n",
        "3/8"
      ]
    },
    {
      "cell_type": "code",
      "execution_count": 6,
      "metadata": {},
      "outputs": [
        {
          "data": {
            "text/plain": [
              "0.375"
            ]
          },
          "execution_count": 6,
          "metadata": {},
          "output_type": "execute_result"
        }
      ],
      "source": [
        "\n",
        "my_binomial(k=2,n=3,p=0.5)"
      ]
    },
    {
      "cell_type": "code",
      "execution_count": 7,
      "metadata": {
        "colab": {
          "base_uri": "https://localhost:8080/",
          "height": 51
        },
        "id": "1zz8o3qp4SaV",
        "outputId": "01b19cab-e964-4c87-d326-6c78f15561d6"
      },
      "outputs": [
        {
          "name": "stdout",
          "output_type": "stream",
          "text": [
            "my binomial: 0.375\n"
          ]
        },
        {
          "data": {
            "text/plain": [
              "0.3750000000000001"
            ]
          },
          "execution_count": 7,
          "metadata": {},
          "output_type": "execute_result"
        }
      ],
      "source": [
        "# usando una funcion para la probabilidad binomial\n",
        "print('my binomial: {}'.format(my_binomial(2, 3, 0.5)))\n",
        "dist = binom(n=3, p=0.5)\n",
        "\n",
        "# pmf: probability mass function\n",
        "# k: numero de casos exitosos\n",
        "dist.pmf(k=2)"
      ]
    },
    {
      "cell_type": "markdown",
      "metadata": {
        "id": "U6RH83Vfp5Jh"
      },
      "source": [
        "## Validación del ejercicio hecho a mano\n",
        "\n",
        "$$\n",
        "P(k\\leq 2, n=3, p=1/2) = \\sum_{k=0}^2 \\left[ \\frac{n!}{k!(n-k)!}p^k (1-p)^{n-k} \\right] = \\frac{7}{8}\n",
        "$$\n"
      ]
    },
    {
      "cell_type": "code",
      "execution_count": 8,
      "metadata": {},
      "outputs": [
        {
          "data": {
            "text/plain": [
              "0.875"
            ]
          },
          "execution_count": 8,
          "metadata": {},
          "output_type": "execute_result"
        }
      ],
      "source": [
        "# realizando a mano tuvimos como resultado:\n",
        "7/8"
      ]
    },
    {
      "cell_type": "code",
      "execution_count": 9,
      "metadata": {
        "colab": {
          "base_uri": "https://localhost:8080/",
          "height": 51
        },
        "id": "X6pS-e1k3E6D",
        "outputId": "cd416851-5324-41ff-bd6f-f8b3f4ffdd25"
      },
      "outputs": [
        {
          "data": {
            "text/plain": [
              "0.875"
            ]
          },
          "execution_count": 9,
          "metadata": {},
          "output_type": "execute_result"
        }
      ],
      "source": [
        "# cdf: Cumulative distribution function.\n",
        "# x: son los casos de exito\n",
        "dist.cdf(x=2)"
      ]
    },
    {
      "cell_type": "markdown",
      "metadata": {
        "id": "HFfJnG06rO6I"
      },
      "source": [
        "## Simulaciones de secuencias con generadores aleatorios\n",
        "\n",
        "* Los generadores aleatorios tienen como propósito simular muestras de datos que resultarían de muestreos en la vida real de procesos aleatorios como lanzar una moneda o un dado."
      ]
    },
    {
      "cell_type": "code",
      "execution_count": 34,
      "metadata": {
        "colab": {
          "base_uri": "https://localhost:8080/",
          "height": 34
        },
        "id": "DgvwIIkD2hbo",
        "outputId": "aedf8147-4565-41f9-94cb-257f37ffe4d4"
      },
      "outputs": [
        {
          "data": {
            "text/plain": [
              "2"
            ]
          },
          "execution_count": 34,
          "metadata": {},
          "output_type": "execute_result"
        }
      ],
      "source": [
        "# simulación con 100 lanzamientos de moneda equilibrada\n",
        "# (ejecuta esta celda varias veces para observar la variación en los resultados)\n",
        "p=0.5\n",
        "n=3\n",
        "binomial(n, p)"
      ]
    },
    {
      "cell_type": "code",
      "execution_count": 35,
      "metadata": {
        "id": "TjFgKhWFsjom"
      },
      "outputs": [],
      "source": [
        "# Vamos a hacer un experimento generando una muestra de conjuntos de lanzamientos de a 3 monedas\n",
        "essays = []\n",
        "for _ in range(100):\n",
        "  essays.append(binomial(n, p))"
      ]
    },
    {
      "cell_type": "code",
      "execution_count": 37,
      "metadata": {},
      "outputs": [
        {
          "name": "stdout",
          "output_type": "stream",
          "text": [
            "[0, 3, 3, 2, 2, 1, 0, 1, 2, 0, 2, 2, 2, 0, 0, 2, 0, 0, 3, 1, 3, 2, 2, 1, 2, 3, 1, 1, 1, 2, 2, 2, 2, 2, 2, 2, 1, 1, 2, 2, 2, 1, 2, 0, 1, 0, 1, 1, 0, 1, 1, 2, 2, 2, 1, 1, 2, 0, 2, 1, 2, 2, 2, 0, 2, 3, 2, 3, 1, 1, 2, 2, 3, 2, 2, 2, 2, 3, 2, 1, 2, 3, 2, 2, 2, 1, 0, 2, 0, 1, 2, 2, 2, 1, 1, 1, 3, 2, 1, 0]\n"
          ]
        }
      ],
      "source": [
        "print(essays)"
      ]
    },
    {
      "cell_type": "code",
      "execution_count": 38,
      "metadata": {},
      "outputs": [
        {
          "data": {
            "text/plain": [
              "(array([0, 1, 2, 3]), array([15, 27, 47, 11], dtype=int64))"
            ]
          },
          "execution_count": 38,
          "metadata": {},
          "output_type": "execute_result"
        }
      ],
      "source": [
        "np.unique(essays, return_counts=True)"
      ]
    },
    {
      "cell_type": "code",
      "execution_count": 39,
      "metadata": {},
      "outputs": [
        {
          "data": {
            "text/plain": [
              "array([0.15, 0.27, 0.47, 0.11])"
            ]
          },
          "execution_count": 39,
          "metadata": {},
          "output_type": "execute_result"
        }
      ],
      "source": [
        "distribucion_simulada = np.unique(essays, return_counts=True)[1]/len(essays)\n",
        "distribucion_simulada"
      ]
    },
    {
      "cell_type": "code",
      "execution_count": 41,
      "metadata": {},
      "outputs": [
        {
          "data": {
            "text/plain": [
              "[0.125, 0.3750000000000001, 0.3750000000000001, 0.125]"
            ]
          },
          "execution_count": 41,
          "metadata": {},
          "output_type": "execute_result"
        }
      ],
      "source": [
        "# obtiendo las probabilidades de cada valor\n",
        "values = [0,1,2,3]\n",
        "distribucion_teorica = [binom(3, 0.5).pmf(k) for k in values]\n",
        "distribucion_teorica"
      ]
    },
    {
      "cell_type": "code",
      "execution_count": 43,
      "metadata": {
        "colab": {
          "base_uri": "https://localhost:8080/",
          "height": 809
        },
        "id": "v7hIwGTDs3Um",
        "outputId": "cc358045-f1be-4518-90da-1d5f82de0c11"
      },
      "outputs": [
        {
          "data": {
            "image/png": "[encoded data removed]",
            "text/plain": [
              "<Figure size 432x288 with 1 Axes>"
            ]
          },
          "metadata": {
            "needs_background": "light"
          },
          "output_type": "display_data"
        },
        {
          "data": {
            "image/png": "[encoded data removed]",
            "text/plain": [
              "<Figure size 432x288 with 1 Axes>"
            ]
          },
          "metadata": {
            "needs_background": "light"
          },
          "output_type": "display_data"
        },
        {
          "data": {
            "image/png": "[encoded data removed]",
            "text/plain": [
              "<Figure size 432x288 with 1 Axes>"
            ]
          },
          "metadata": {
            "needs_background": "light"
          },
          "output_type": "display_data"
        }
      ],
      "source": [
        "def plot_hist(num_trials):\n",
        "  values = [0,1,2,3]\n",
        "  arr = []\n",
        "  for _ in range(num_trials):\n",
        "    arr.append(binomial(3, 0.5))\n",
        "  distribucion_simulada = np.unique(arr, return_counts=True)[1]/len(arr)\n",
        "  distribucion_teorica = [binom(3, 0.5).pmf(k) for k in values]\n",
        "  plt.bar(values, distribucion_teorica, label = 'teoría', color = 'red')\n",
        "  plt.bar(values, distribucion_simulada, label = 'simulación', alpha = 0.5, color = 'blue')\n",
        "  plt.title('simulación con {} experimentos'.format(num_trials))\n",
        "  plt.show()\n",
        "\n",
        "plot_hist(20)\n",
        "plot_hist(200)\n",
        "plot_hist(20000)"
      ]
    },
    {
      "cell_type": "code",
      "execution_count": null,
      "metadata": {
        "id": "qFlIUh5s0Jv_"
      },
      "outputs": [],
      "source": []
    }
  ],
  "metadata": {
    "colab": {
      "collapsed_sections": [],
      "name": "[Clase8]Distribución_Binomial.ipynb",
      "provenance": []
    },
    "kernelspec": {
      "display_name": "Python 3.10.2 64-bit",
      "language": "python",
      "name": "python3"
    },
    "language_info": {
      "codemirror_mode": {
        "name": "ipython",
        "version": 3
      },
      "file_extension": ".py",
      "mimetype": "text/x-python",
      "name": "python",
      "nbconvert_exporter": "python",
      "pygments_lexer": "ipython3",
      "version": "3.10.2"
    },
    "vscode": {
      "interpreter": {
        "hash": "2de7b4a052e65261ea8541eacad9ab5841dbc9fbfe443eb5e82600569ad0c738"
      }
    }
  },
  "nbformat": 4,
  "nbformat_minor": 0
}
