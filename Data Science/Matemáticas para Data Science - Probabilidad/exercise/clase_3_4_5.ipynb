{
  "cells": [
    {
      "cell_type": "markdown",
      "metadata": {
        "id": "OuVGSARZqcKF"
      },
      "source": [
        "# Tipos de probabilidad (revisión de conceptos)\n",
        "\n",
        "Según lo visto en clase, tenemos tres tipos de probabilidad a definir. Sean A y B dos eventos aleatorios diferentes, entonces:\n",
        "\n",
        "---\n",
        "\n",
        "`Probabilidad conjunta`: sean $A$ y $B$ dos eventos aleatorios diferentes, definimos la probabilidad conjunta de que ambos eventos ocurran por medio de la regla del producto: \n",
        "\n",
        "$$P(A, B) = P(A|B)P(B)$$\n",
        "\n",
        "donde $P(A|B)$ se define como la `probabilidad condicional` de que ocurra A dado B, y $P(B)$ es la probabilidad de que ocurra B (sin conocimiento extra de otras variables).\n",
        "\n",
        "---\n",
        "\n",
        "`Probabilidad marginal`: la probabilidad marginal de A sobre una distribución conjunta de probabilidades en A y B, se define como la suma de todas las probabilidades conjuntas $P(A, B)$ considerando todos los posibles valores de B: \n",
        "\n",
        "$$P(A) = \\sum_{B=b} P(A,B) = \\sum_{B=b} P(A|B) P(B)$$\n",
        "\n"
      ]
    },
    {
      "cell_type": "markdown",
      "metadata": {
        "id": "YTVHbmebucgL"
      },
      "source": [
        "# Ejercicios (bloque 1)\n",
        "\n",
        "Considerando un lanzamiento de un dado y considerando los siguientes eventos aleatorios: \n",
        "\n",
        "A = {el resultado del lanzamiento de un dado es 6}\n",
        "\n",
        "B = {el resultado del lanzamiento de un dado es par}\n",
        "\n",
        "C = {el resultado del lanzamiento de un dado es impar}\n",
        "\n",
        "calcula las siguientes probabilidades: \n",
        "\n",
        "1. $P(A|B) = ?$\n",
        "2. $P(A|C) = ?$\n",
        "3. $P(B|C) = ?$\n"
      ]
    },
    {
      "cell_type": "code",
      "execution_count": null,
      "metadata": {
        "vscode": {
          "languageId": "python"
        }
      },
      "outputs": [],
      "source": [
        "p_a = 1/6\n",
        "p_b = 3/6\n",
        "p_c = 3/6\n",
        "\n",
        "p_a_dado_que_b = 1/3\n",
        "p_b_dado_que_c = 0\n",
        "p_c_dado_que_c = 0"
      ]
    },
    {
      "cell_type": "markdown",
      "metadata": {
        "id": "8U9IOHWXv89f"
      },
      "source": [
        "# Ejercicios (bloque 2)\n",
        "\n",
        "Considerando una ruleta de doce números \n",
        "\n",
        "{$1,2,3,4,5,6,7,8,9,10,11,12$} \n",
        "\n",
        "dos jugadores eligen 6 números, cada uno de ellos. Supón que el jugador 1 elige A = {$1,2,3,4,5,6$} y calcula las siguientes probabilidades: \n",
        "\n",
        "1. $P(A|B)$ sabiendo que el jugador 2 elige B = {$2,4,6,8,10,12$}\n",
        "2. $P(A|B)$ sabiendo que el jugador 2 elige B = {$1,3,5,7,9,11$}\n",
        "3. $P(A|B)$ sabiendo que el jugador 2 elige B = {$5,6,7,8,9,10$}\n",
        "\n"
      ]
    },
    {
      "cell_type": "code",
      "execution_count": null,
      "metadata": {
        "vscode": {
          "languageId": "python"
        }
      },
      "outputs": [],
      "source": [
        "p_a_dado_que_b = 3/6\n",
        "p_a_dado_que_b = 3/6\n",
        "p_a_dado_que_b = 2/6\n"
      ]
    },
    {
      "cell_type": "markdown",
      "metadata": {
        "id": "NibRqkn-0IlF"
      },
      "source": [
        "# Ejercicios (bloque 3)\n",
        "\n",
        "Considera un problema donde se lanzan dos monedas, sean $m_1$ y $m_2$. Verifica la regla del producto para las siguientes probabilidades (dibuja el espacio muestral y calcula cada probabilidad por separado): \n",
        "1. $P(m_1 = \\text{cara}, m_2 = \\text{sello})$\n",
        "2. $P(m_1 = \\text{cara} | m_2 = \\text{sello})$\n",
        "3. $P(m_2 = \\text{sello})$"
      ]
    },
    {
      "cell_type": "markdown",
      "metadata": {},
      "source": [
        "* Regla del producto\n",
        "\n",
        "$$ P(m_1 = \\text{cara}, m_2 = \\text{sello}) = P(m_1 = \\text{cara} | m_2 = \\text{sello}) * P(m_2 = \\text{sello})$$"
      ]
    },
    {
      "cell_type": "code",
      "execution_count": null,
      "metadata": {
        "vscode": {
          "languageId": "python"
        }
      },
      "outputs": [],
      "source": [
        "p_conjunta_cara_y_sello = 1/4\n",
        "p_cara_dado_que_sello = 1/2\n",
        "p_sello = 1/2\n",
        "\n"
      ]
    }
  ],
  "metadata": {
    "colab": {
      "collapsed_sections": [],
      "name": "[Lecturas-3-4-5]EjerciciosDeProbabilidad.ipynb",
      "provenance": []
    },
    "kernelspec": {
      "display_name": "Python 3",
      "name": "python3"
    }
  },
  "nbformat": 4,
  "nbformat_minor": 0
}
