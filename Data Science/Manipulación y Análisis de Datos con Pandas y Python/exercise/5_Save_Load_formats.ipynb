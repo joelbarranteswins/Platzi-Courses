{
  "nbformat": 4,
  "nbformat_minor": 0,
  "metadata": {
    "colab": {
      "name": "3_1 Save Load formats.ipynb",
      "provenance": [],
      "collapsed_sections": []
    },
    "kernelspec": {
      "name": "python3",
      "display_name": "Python 3"
    }
  },
  "cells": [
    {
      "cell_type": "code",
      "metadata": {
        "id": "qMCNKRVw_g4U",
        "outputId": "b8035a78-979f-4244-eb6c-cacc3f938318",
        "colab": {
          "base_uri": "https://localhost:8080/",
          "height": 124
        }
      },
      "source": [
        "from google.colab import drive\n",
        "drive.mount('/content/drive')"
      ],
      "execution_count": null,
      "outputs": [
        {
          "output_type": "stream",
          "text": [
            "Go to this URL in a browser: https://accounts.google.com/o/oauth2/auth?client_id=947318989803-6bn6qk8qdgf4n4g3pfee6491hc0brc4i.apps.googleusercontent.com&redirect_uri=urn%3aietf%3awg%3aoauth%3a2.0%3aoob&response_type=code&scope=email%20https%3a%2f%2fwww.googleapis.com%2fauth%2fdocs.test%20https%3a%2f%2fwww.googleapis.com%2fauth%2fdrive%20https%3a%2f%2fwww.googleapis.com%2fauth%2fdrive.photos.readonly%20https%3a%2f%2fwww.googleapis.com%2fauth%2fpeopleapi.readonly\n",
            "\n",
            "Enter your authorization code:\n",
            "··········\n",
            "Mounted at /content/drive\n"
          ],
          "name": "stdout"
        }
      ]
    },
    {
      "cell_type": "code",
      "metadata": {
        "id": "HKsNnjnR_kh7",
        "outputId": "35a8f243-e7fb-4796-bb67-cb340e718052",
        "colab": {
          "base_uri": "https://localhost:8080/",
          "height": 52
        }
      },
      "source": [
        "%cd '/content/drive/My Drive/Colab Notebooks'\n",
        "!ls"
      ],
      "execution_count": null,
      "outputs": [
        {
          "output_type": "stream",
          "text": [
            "/content/drive/My Drive/Colab Notebooks\n",
            "backup\tcurso_pandas  db  pd_1_0\n"
          ],
          "name": "stdout"
        }
      ]
    },
    {
      "cell_type": "code",
      "metadata": {
        "id": "ZRZUwdPi_maN",
        "outputId": "73c63489-e9a6-4a2a-faa6-e1158178cf5b",
        "colab": {
          "base_uri": "https://localhost:8080/",
          "height": 34
        }
      },
      "source": [
        "dir_pandas = '/content/drive/My Drive/Colab Notebooks/db'\n",
        "dir_pandas"
      ],
      "execution_count": null,
      "outputs": [
        {
          "output_type": "execute_result",
          "data": {
            "text/plain": [
              "'/content/drive/My Drive/Colab Notebooks/db'"
            ]
          },
          "metadata": {
            "tags": []
          },
          "execution_count": 3
        }
      ]
    },
    {
      "cell_type": "code",
      "metadata": {
        "id": "7Qq79oLT7gjT"
      },
      "source": [
        "import pandas as pd"
      ],
      "execution_count": null,
      "outputs": []
    },
    {
      "cell_type": "code",
      "metadata": {
        "id": "F8x6PJFH7oPZ",
        "outputId": "bc5b7e55-9027-48d9-f17a-ab8e9e6b1f7f",
        "colab": {
          "base_uri": "https://localhost:8080/",
          "height": 34
        }
      },
      "source": [
        "pd.__version__"
      ],
      "execution_count": null,
      "outputs": [
        {
          "output_type": "execute_result",
          "data": {
            "text/plain": [
              "'0.25.3'"
            ]
          },
          "metadata": {
            "tags": []
          },
          "execution_count": 8
        }
      ]
    },
    {
      "cell_type": "code",
      "metadata": {
        "id": "Uo1Qsk5S7qha"
      },
      "source": [
        "import numpy as np\n",
        "import seaborn as sns"
      ],
      "execution_count": null,
      "outputs": []
    },
    {
      "cell_type": "code",
      "metadata": {
        "id": "Cusgp0MpXUdD"
      },
      "source": [
        "from uuid import uuid4\n",
        "import os\n",
        "import time\n",
        "import tracemalloc"
      ],
      "execution_count": null,
      "outputs": []
    },
    {
      "cell_type": "code",
      "metadata": {
        "id": "Q-b5aCX4UshZ"
      },
      "source": [
        "def generate_dataset(n_rows, num_count, cat_count, max_nan=0.1, max_cat_size=100):\n",
        "    \"\"\"Randomly generate datasets with numerical and categorical features.\n",
        "    \n",
        "    The numerical features are taken from the normal distribution X ~ N(0, 1).\n",
        "    The categorical features are generated as random uuid4 strings with \n",
        "    cardinality C where 2 <= C <= max_cat_size.\n",
        "    \n",
        "    Also, a max_nan proportion of both numerical and categorical features is replaces\n",
        "    with NaN values.\n",
        "    \"\"\"\n",
        "    dataset, types = {}, {}\n",
        "    \n",
        "    def generate_categories():\n",
        "        \n",
        "        category_size = np.random.randint(2, max_cat_size)\n",
        "        return [str(uuid4()) for _ in range(category_size)]\n",
        "    \n",
        "    for col in range(num_count):\n",
        "        name = f'n{col}'\n",
        "        values = np.random.normal(0, 1, n_rows)\n",
        "        nan_cnt = np.random.randint(1, int(max_nan*n_rows))\n",
        "        index = np.random.choice(n_rows, nan_cnt, replace=False)\n",
        "        values[index] = np.nan\n",
        "        dataset[name] = values\n",
        "        types[name] = 'float32'\n",
        "        \n",
        "    for col in range(cat_count):\n",
        "        name = f'c{col}'\n",
        "        cats = generate_categories()\n",
        "        values = np.array(np.random.choice(cats, n_rows, replace=True), dtype=object)\n",
        "        nan_cnt = np.random.randint(1, int(max_nan*n_rows))\n",
        "        index = np.random.choice(n_rows, nan_cnt, replace=False)\n",
        "        values[index] = np.nan\n",
        "        dataset[name] = values\n",
        "        types[name] = 'object'\n",
        "    \n",
        "    return pd.DataFrame(dataset), types"
      ],
      "execution_count": null,
      "outputs": []
    },
    {
      "cell_type": "code",
      "metadata": {
        "id": "f8lwGbE_VO_I"
      },
      "source": [
        "def size_of(filename, unit=1024**2):\n",
        "    return round(os.stat(filename).st_size / unit, 2)"
      ],
      "execution_count": null,
      "outputs": []
    },
    {
      "cell_type": "code",
      "metadata": {
        "id": "duHIcZ2LXdVT"
      },
      "source": [
        "def get_save_load(df, fmt):\n",
        "    save = getattr(df, f'to_{fmt}')\n",
        "    load = getattr(pd, f'read_{fmt}')\n",
        "    return save, load"
      ],
      "execution_count": null,
      "outputs": []
    },
    {
      "cell_type": "code",
      "metadata": {
        "id": "5vIqJa0YXdXt"
      },
      "source": [
        "def benchmark(list_of_formats,\n",
        "              data_size=1000000,\n",
        "              n_num=15,\n",
        "              n_cat=15,\n",
        "              n_rounds=20,\n",
        "              as_category=False):\n",
        "    \"\"\"Runs dataset saving/loading benchamrk using formts from the list_of_formats.\n",
        "    \n",
        "    Each round a new random dataset is generated with data_size observations. \n",
        "    The measurements for each of the rounds are concatenated together and returned\n",
        "    as a single data frame.\n",
        "    \n",
        "    Parameters:\n",
        "        list_of_formats: A list of tuples in the format (<format_name>, [<params_dict>]). \n",
        "            The <format_name> should be one of the pandas supported formats.\n",
        "        data_size: A number of samples in the generated dataset.\n",
        "        n_num: A number of numerical columns in the generated dataset.\n",
        "        n_cat: A number of categorical columns in the generated dataset.\n",
        "        n_rounds: A number of randomly generated datasets to test the formats.\n",
        "        as_category: If True, then categorical columns will be converted into \n",
        "            pandas.Category type before saving.\n",
        "            \n",
        "    \"\"\"\n",
        "    runs = []\n",
        "    n = 1\n",
        "    cnt = 0\n",
        "\n",
        "    for j in range(n_rounds):\n",
        "        print('Benchmarking round # {}'.format(j))\n",
        "        #print('generating dataset...')\n",
        "        dataset, _ = generate_dataset(data_size, n_num, n_cat)\n",
        "        \n",
        "        if as_category:\n",
        "            #print('converting categorical columns into pandas.Category')\n",
        "            cat_cols = dataset.select_dtypes(include=object).columns\n",
        "            dataset[cat_cols] = dataset[cat_cols].fillna('none').astype('category')\n",
        "        \n",
        "        for case in list_of_formats:\n",
        "              fmt, params = case if len(case) == 2 else (case[0], {})\n",
        "            \n",
        "              print('testing format: {}'.format(fmt))\n",
        "              filename = 'random.{}'.format(fmt)\n",
        "              save, load = get_save_load(dataset, fmt)\n",
        "              results = {}\n",
        "              \n",
        "              results['format'] = fmt\n",
        "              results['filename'] = filename\n",
        "\n",
        "              tracemalloc.start()\n",
        "              start = time.time()\n",
        "              for i in range(n):\n",
        "                  save(dir_pandas + filename, **params)\n",
        "              end = (time.time()- start) / n\n",
        "              current, peak = tracemalloc.get_traced_memory()\n",
        "              tracemalloc.stop()\n",
        "\n",
        "              results['size_mb'] = size_of(dir_pandas + filename)\n",
        "              results['save_ram_mb'] = current / 10**6\n",
        "              results['save_ram_peak_mb'] = peak / 10**6\n",
        "              results['save_time'] = end\n",
        "              \n",
        "              tracemalloc.start()\n",
        "              start = time.time()\n",
        "              for i in range(n):\n",
        "                  _ = load(filename)\n",
        "              end = (time.time()- start) / n\n",
        "              current, peak = tracemalloc.get_traced_memory()\n",
        "              tracemalloc.stop()\n",
        "\n",
        "              results['load_ram_mb'] = current / 10**6\n",
        "              results['load_ram_peak_mb'] = peak / 10**6\n",
        "              results['load_time'] = end\n",
        "\n",
        "              results['run_no'] = j\n",
        "\n",
        "              cnt += 1\n",
        "              run = pd.DataFrame(results,[cnt])\n",
        "              runs.append(run)\n",
        "            \n",
        "    benchmark = pd.concat(runs, axis=0)\n",
        "    benchmark.reset_index(inplace=True, drop=True)\n",
        "    return benchmark\n"
      ],
      "execution_count": null,
      "outputs": []
    },
    {
      "cell_type": "code",
      "metadata": {
        "id": "mcKNtj8Q0EAk"
      },
      "source": [
        "formats = [\n",
        "    ('json',),\n",
        "    ('csv', {'index': None}),\n",
        "    ('hdf', {'key': 'data', 'format': 'table'}),\n",
        "    ('pickle',),\n",
        "    #('msgpack',),\n",
        "    ('feather',),\n",
        "    ('parquet', {'engine': 'pyarrow'})\n",
        "]"
      ],
      "execution_count": null,
      "outputs": []
    },
    {
      "cell_type": "code",
      "metadata": {
        "id": "f7NJGrfkKufk"
      },
      "source": [
        "sns.set(rc={'figure.figsize':(11.7,8.27)})"
      ],
      "execution_count": null,
      "outputs": []
    },
    {
      "cell_type": "markdown",
      "metadata": {
        "id": "CEo7zdFEO28R"
      },
      "source": [
        "# Strings"
      ]
    },
    {
      "cell_type": "code",
      "metadata": {
        "id": "jc-23ktz0bK4",
        "outputId": "02b6a17f-34de-4cf4-d2fe-30e5a5d16c5e",
        "colab": {
          "base_uri": "https://localhost:8080/",
          "height": 139
        }
      },
      "source": [
        "results_io = benchmark(formats,\n",
        "              data_size=100000,\n",
        "              n_num=15,\n",
        "              n_cat=15,\n",
        "              n_rounds=1,\n",
        "              as_category=False)"
      ],
      "execution_count": null,
      "outputs": [
        {
          "output_type": "stream",
          "text": [
            "Benchmarking round # 0\n",
            "testing format: json\n",
            "testing format: csv\n",
            "testing format: hdf\n",
            "testing format: pickle\n",
            "testing format: feather\n",
            "testing format: parquet\n"
          ],
          "name": "stdout"
        }
      ]
    },
    {
      "cell_type": "code",
      "metadata": {
        "id": "SYiwEhEkEchM",
        "outputId": "79592d22-9653-4d62-f315-9982d9e821fc",
        "colab": {
          "base_uri": "https://localhost:8080/",
          "height": 238
        }
      },
      "source": [
        "avg = results_io.groupby('format').mean().reset_index().drop(columns=['run_no'])\n",
        "avg"
      ],
      "execution_count": null,
      "outputs": [
        {
          "output_type": "execute_result",
          "data": {
            "text/html": [
              "<div>\n",
              "<style scoped>\n",
              "    .dataframe tbody tr th:only-of-type {\n",
              "        vertical-align: middle;\n",
              "    }\n",
              "\n",
              "    .dataframe tbody tr th {\n",
              "        vertical-align: top;\n",
              "    }\n",
              "\n",
              "    .dataframe thead th {\n",
              "        text-align: right;\n",
              "    }\n",
              "</style>\n",
              "<table border=\"1\" class=\"dataframe\">\n",
              "  <thead>\n",
              "    <tr style=\"text-align: right;\">\n",
              "      <th></th>\n",
              "      <th>format</th>\n",
              "      <th>size_mb</th>\n",
              "      <th>save_ram_mb</th>\n",
              "      <th>save_ram_peak_mb</th>\n",
              "      <th>save_time</th>\n",
              "      <th>load_ram_mb</th>\n",
              "      <th>load_ram_peak_mb</th>\n",
              "      <th>load_time</th>\n",
              "    </tr>\n",
              "  </thead>\n",
              "  <tbody>\n",
              "    <tr>\n",
              "      <th>0</th>\n",
              "      <td>csv</td>\n",
              "      <td>76.58</td>\n",
              "      <td>0.020431</td>\n",
              "      <td>13.496845</td>\n",
              "      <td>6.708381</td>\n",
              "      <td>24.283428</td>\n",
              "      <td>48.300520</td>\n",
              "      <td>1.245796</td>\n",
              "    </tr>\n",
              "    <tr>\n",
              "      <th>1</th>\n",
              "      <td>feather</td>\n",
              "      <td>65.95</td>\n",
              "      <td>0.061709</td>\n",
              "      <td>0.103927</td>\n",
              "      <td>0.408491</td>\n",
              "      <td>24.073244</td>\n",
              "      <td>24.081095</td>\n",
              "      <td>0.243123</td>\n",
              "    </tr>\n",
              "    <tr>\n",
              "      <th>2</th>\n",
              "      <td>hdf</td>\n",
              "      <td>66.90</td>\n",
              "      <td>12.029854</td>\n",
              "      <td>199.646839</td>\n",
              "      <td>2.340985</td>\n",
              "      <td>335.242716</td>\n",
              "      <td>378.933460</td>\n",
              "      <td>1.941241</td>\n",
              "    </tr>\n",
              "    <tr>\n",
              "      <th>3</th>\n",
              "      <td>json</td>\n",
              "      <td>94.00</td>\n",
              "      <td>0.814209</td>\n",
              "      <td>233.581957</td>\n",
              "      <td>1.431729</td>\n",
              "      <td>144.733795</td>\n",
              "      <td>1065.407778</td>\n",
              "      <td>4.480983</td>\n",
              "    </tr>\n",
              "    <tr>\n",
              "      <th>4</th>\n",
              "      <td>parquet</td>\n",
              "      <td>15.04</td>\n",
              "      <td>0.021925</td>\n",
              "      <td>0.885827</td>\n",
              "      <td>0.346414</td>\n",
              "      <td>24.094453</td>\n",
              "      <td>24.110855</td>\n",
              "      <td>0.195544</td>\n",
              "    </tr>\n",
              "    <tr>\n",
              "      <th>5</th>\n",
              "      <td>pickle</td>\n",
              "      <td>64.68</td>\n",
              "      <td>0.013195</td>\n",
              "      <td>215.861380</td>\n",
              "      <td>0.749980</td>\n",
              "      <td>146.032663</td>\n",
              "      <td>176.244113</td>\n",
              "      <td>0.970435</td>\n",
              "    </tr>\n",
              "  </tbody>\n",
              "</table>\n",
              "</div>"
            ],
            "text/plain": [
              "    format  size_mb  save_ram_mb  ...  load_ram_mb  load_ram_peak_mb  load_time\n",
              "0      csv    76.58     0.020431  ...    24.283428         48.300520   1.245796\n",
              "1  feather    65.95     0.061709  ...    24.073244         24.081095   0.243123\n",
              "2      hdf    66.90    12.029854  ...   335.242716        378.933460   1.941241\n",
              "3     json    94.00     0.814209  ...   144.733795       1065.407778   4.480983\n",
              "4  parquet    15.04     0.021925  ...    24.094453         24.110855   0.195544\n",
              "5   pickle    64.68     0.013195  ...   146.032663        176.244113   0.970435\n",
              "\n",
              "[6 rows x 8 columns]"
            ]
          },
          "metadata": {
            "tags": []
          },
          "execution_count": 42
        }
      ]
    },
    {
      "cell_type": "code",
      "metadata": {
        "id": "-OkZEM27FCUH",
        "outputId": "c750ea37-1922-4fd6-9390-753773a7820c",
        "colab": {
          "base_uri": "https://localhost:8080/",
          "height": 533
        }
      },
      "source": [
        "io_speed = avg[~avg['format'].isin([])][['format', 'save_time', 'load_time']].melt(id_vars='format')\n",
        "ax = sns.barplot(x='format', y='value', hue='variable', data=io_speed, palette=\"magma\")\n",
        "_ = ax.set_xlabel('File Format')\n",
        "_ = ax.set_ylabel('Seconds')\n",
        "_ = ax.set_title('Time to Save/Load a Data Frame')\n",
        "ax.grid(True)"
      ],
      "execution_count": null,
      "outputs": [
        {
          "output_type": "display_data",
          "data": {
            "image/png": "[encoded data removed]",
            "text/plain": [
              "<Figure size 842.4x595.44 with 1 Axes>"
            ]
          },
          "metadata": {
            "tags": []
          }
        }
      ]
    },
    {
      "cell_type": "code",
      "metadata": {
        "id": "SHy28H1HFTdm",
        "outputId": "a72cabab-c508-4b86-9c3d-643ae9e4b47a",
        "colab": {
          "base_uri": "https://localhost:8080/",
          "height": 533
        }
      },
      "source": [
        "mem_size = avg[~avg['format'].isin([])][['format', 'save_ram_peak_mb', 'load_ram_peak_mb']].melt(id_vars='format')\n",
        "ax = sns.barplot(x='format', y='value', hue='variable', data=mem_size, palette=\"magma\")\n",
        "_ = ax.set_xlabel('File Format')\n",
        "_ = ax.set_ylabel('Memory, Mb')\n",
        "ax.set_title('Memory Peaks Consumption Growth When Saving/Loading')\n",
        "ax.grid(True)"
      ],
      "execution_count": null,
      "outputs": [
        {
          "output_type": "display_data",
          "data": {
            "image/png": "[encoded data removed]",
            "text/plain": [
              "<Figure size 842.4x595.44 with 1 Axes>"
            ]
          },
          "metadata": {
            "tags": []
          }
        }
      ]
    },
    {
      "cell_type": "code",
      "metadata": {
        "id": "udJtzeEFFVWY",
        "outputId": "81089e6f-1237-42bf-8252-6f44e171885a",
        "colab": {
          "base_uri": "https://localhost:8080/",
          "height": 533
        }
      },
      "source": [
        "ax = sns.barplot(x='format', y='size_mb', data=avg, palette=\"magma\")\n",
        "_ = ax.set_ylabel('Memory, Mb')\n",
        "_ = ax.set_xlabel('File Format')\n",
        "_ = ax.set_title('Serialized File Size')"
      ],
      "execution_count": null,
      "outputs": [
        {
          "output_type": "display_data",
          "data": {
            "image/png": "[encoded data removed]",
            "text/plain": [
              "<Figure size 842.4x595.44 with 1 Axes>"
            ]
          },
          "metadata": {
            "tags": []
          }
        }
      ]
    },
    {
      "cell_type": "markdown",
      "metadata": {
        "id": "2UVOxdGQO0BD"
      },
      "source": [
        "# Categorias"
      ]
    },
    {
      "cell_type": "code",
      "metadata": {
        "id": "9HnDk9el9y7W",
        "outputId": "f99758bd-d84e-4889-9af7-3bef1032991b",
        "colab": {
          "base_uri": "https://localhost:8080/",
          "height": 139
        }
      },
      "source": [
        "results_io_cat = benchmark(formats,\n",
        "              data_size=100000,\n",
        "              n_num=15,\n",
        "              n_cat=15,\n",
        "              n_rounds=1,\n",
        "              as_category=True)"
      ],
      "execution_count": null,
      "outputs": [
        {
          "output_type": "stream",
          "text": [
            "Benchmarking round # 0\n",
            "testing format: json\n",
            "testing format: csv\n",
            "testing format: hdf\n",
            "testing format: pickle\n",
            "testing format: feather\n",
            "testing format: parquet\n"
          ],
          "name": "stdout"
        }
      ]
    },
    {
      "cell_type": "code",
      "metadata": {
        "id": "41o6H1ZxOTzU",
        "outputId": "9d2153d2-70c3-4ee4-ab88-ed2c4c2cdf83",
        "colab": {
          "base_uri": "https://localhost:8080/",
          "height": 238
        }
      },
      "source": [
        "avg = results_io_cat.groupby('format').mean().reset_index().drop(columns=['run_no'])\n",
        "avg"
      ],
      "execution_count": null,
      "outputs": [
        {
          "output_type": "execute_result",
          "data": {
            "text/html": [
              "<div>\n",
              "<style scoped>\n",
              "    .dataframe tbody tr th:only-of-type {\n",
              "        vertical-align: middle;\n",
              "    }\n",
              "\n",
              "    .dataframe tbody tr th {\n",
              "        vertical-align: top;\n",
              "    }\n",
              "\n",
              "    .dataframe thead th {\n",
              "        text-align: right;\n",
              "    }\n",
              "</style>\n",
              "<table border=\"1\" class=\"dataframe\">\n",
              "  <thead>\n",
              "    <tr style=\"text-align: right;\">\n",
              "      <th></th>\n",
              "      <th>format</th>\n",
              "      <th>size_mb</th>\n",
              "      <th>save_ram_mb</th>\n",
              "      <th>save_ram_peak_mb</th>\n",
              "      <th>save_time</th>\n",
              "      <th>load_ram_mb</th>\n",
              "      <th>load_ram_peak_mb</th>\n",
              "      <th>load_time</th>\n",
              "    </tr>\n",
              "  </thead>\n",
              "  <tbody>\n",
              "    <tr>\n",
              "      <th>0</th>\n",
              "      <td>csv</td>\n",
              "      <td>77.38</td>\n",
              "      <td>0.028869</td>\n",
              "      <td>13.507343</td>\n",
              "      <td>6.529927</td>\n",
              "      <td>24.310116</td>\n",
              "      <td>48.327208</td>\n",
              "      <td>1.260878</td>\n",
              "    </tr>\n",
              "    <tr>\n",
              "      <th>1</th>\n",
              "      <td>feather</td>\n",
              "      <td>13.09</td>\n",
              "      <td>0.068804</td>\n",
              "      <td>0.303033</td>\n",
              "      <td>0.083436</td>\n",
              "      <td>12.113894</td>\n",
              "      <td>12.121842</td>\n",
              "      <td>0.041463</td>\n",
              "    </tr>\n",
              "    <tr>\n",
              "      <th>2</th>\n",
              "      <td>hdf</td>\n",
              "      <td>18.25</td>\n",
              "      <td>0.495662</td>\n",
              "      <td>32.310204</td>\n",
              "      <td>1.071665</td>\n",
              "      <td>29.672178</td>\n",
              "      <td>43.564825</td>\n",
              "      <td>0.465293</td>\n",
              "    </tr>\n",
              "    <tr>\n",
              "      <th>3</th>\n",
              "      <td>json</td>\n",
              "      <td>94.57</td>\n",
              "      <td>0.824381</td>\n",
              "      <td>234.204345</td>\n",
              "      <td>1.355046</td>\n",
              "      <td>149.845604</td>\n",
              "      <td>1074.165543</td>\n",
              "      <td>4.107476</td>\n",
              "    </tr>\n",
              "    <tr>\n",
              "      <th>4</th>\n",
              "      <td>parquet</td>\n",
              "      <td>15.09</td>\n",
              "      <td>0.024861</td>\n",
              "      <td>0.893393</td>\n",
              "      <td>0.313584</td>\n",
              "      <td>24.098545</td>\n",
              "      <td>24.115486</td>\n",
              "      <td>0.141382</td>\n",
              "    </tr>\n",
              "    <tr>\n",
              "      <th>5</th>\n",
              "      <td>pickle</td>\n",
              "      <td>12.91</td>\n",
              "      <td>0.020097</td>\n",
              "      <td>34.067053</td>\n",
              "      <td>0.054402</td>\n",
              "      <td>13.608012</td>\n",
              "      <td>25.693748</td>\n",
              "      <td>0.050316</td>\n",
              "    </tr>\n",
              "  </tbody>\n",
              "</table>\n",
              "</div>"
            ],
            "text/plain": [
              "    format  size_mb  save_ram_mb  ...  load_ram_mb  load_ram_peak_mb  load_time\n",
              "0      csv    77.38     0.028869  ...    24.310116         48.327208   1.260878\n",
              "1  feather    13.09     0.068804  ...    12.113894         12.121842   0.041463\n",
              "2      hdf    18.25     0.495662  ...    29.672178         43.564825   0.465293\n",
              "3     json    94.57     0.824381  ...   149.845604       1074.165543   4.107476\n",
              "4  parquet    15.09     0.024861  ...    24.098545         24.115486   0.141382\n",
              "5   pickle    12.91     0.020097  ...    13.608012         25.693748   0.050316\n",
              "\n",
              "[6 rows x 8 columns]"
            ]
          },
          "metadata": {
            "tags": []
          },
          "execution_count": 34
        }
      ]
    },
    {
      "cell_type": "code",
      "metadata": {
        "id": "BTzjl9NrOV_J",
        "outputId": "d48892cc-1155-46e8-ead9-627289e5c9f1",
        "colab": {
          "base_uri": "https://localhost:8080/",
          "height": 548
        }
      },
      "source": [
        "io_speed = avg[~avg['format'].isin(['json','csv'])][['format', 'save_time', 'load_time']].melt(id_vars='format')\n",
        "ax = sns.barplot(x='format', y='value', hue='variable', data=io_speed, palette=\"magma\")\n",
        "_ = ax.set_xlabel('File Format')\n",
        "_ = ax.set_ylabel('Seconds')\n",
        "_ = ax.set_title('Time to Save/Load a Data Frame\\n(categories)')\n",
        "ax.grid(True)"
      ],
      "execution_count": null,
      "outputs": [
        {
          "output_type": "display_data",
          "data": {
            "image/png": "[encoded data removed]",
            "text/plain": [
              "<Figure size 842.4x595.44 with 1 Axes>"
            ]
          },
          "metadata": {
            "tags": []
          }
        }
      ]
    },
    {
      "cell_type": "code",
      "metadata": {
        "id": "DvesOpYfOWH_",
        "outputId": "cb41a41b-4ef7-45a7-8714-f92dc4d84b61",
        "colab": {
          "base_uri": "https://localhost:8080/",
          "height": 548
        }
      },
      "source": [
        "mem_size = avg[~avg['format'].isin(['json','csv'])][['format', 'save_ram_peak_mb', 'load_ram_peak_mb']].melt(id_vars='format')\n",
        "ax = sns.barplot(x='format', y='value', hue='variable', data=mem_size, palette=\"magma\")\n",
        "_ = ax.set_xlabel('File Format')\n",
        "_ = ax.set_ylabel('Memory, Mb')\n",
        "ax.set_title('Memory Consumption Growth When Saving/Loading\\n(categories)')\n",
        "ax.grid(True)"
      ],
      "execution_count": null,
      "outputs": [
        {
          "output_type": "display_data",
          "data": {
            "image/png": "[encoded data removed]",
            "text/plain": [
              "<Figure size 842.4x595.44 with 1 Axes>"
            ]
          },
          "metadata": {
            "tags": []
          }
        }
      ]
    },
    {
      "cell_type": "code",
      "metadata": {
        "id": "bFgcgDF1IprQ",
        "outputId": "03218245-a126-4111-8ceb-93fb89e7c974",
        "colab": {
          "base_uri": "https://localhost:8080/",
          "height": 548
        }
      },
      "source": [
        "ax = sns.barplot(x='format', y='size_mb', data=avg, palette=\"magma\")\n",
        "_ = ax.set_ylabel('Memory, Mb')\n",
        "_ = ax.set_xlabel('File Format')\n",
        "_ = ax.set_title('Serialized File Size\\n(categories)')"
      ],
      "execution_count": null,
      "outputs": [
        {
          "output_type": "display_data",
          "data": {
            "image/png": "[encoded data removed]",
            "text/plain": [
              "<Figure size 842.4x595.44 with 1 Axes>"
            ]
          },
          "metadata": {
            "tags": []
          }
        }
      ]
    },
    {
      "cell_type": "code",
      "metadata": {
        "id": "VcUufqkmOnL2"
      },
      "source": [
        ""
      ],
      "execution_count": null,
      "outputs": []
    },
    {
      "cell_type": "markdown",
      "metadata": {
        "id": "vbZFR4yqQvf6"
      },
      "source": [
        "Curso: Análisis de datos con Pandas\t\t\t\t\n",
        "Clase: I/O Tools\t\t\t\t\n",
        "Nivel: Intermedio\t\t\t\t\n",
        "Keywords: Load - Save - Time - Size - DataFrame - Input - Output - Tools\t\t\t\t\n",
        "\t\t\t\t\n",
        "Abstract:\t\t\t\t\n",
        "En esta clase te enseñaremos sobre diversos formatos de almacenamiento de datos y cómo elegir el formato eficiente que se adapte a tus necesidades.\t\t\t\t\n",
        "\t\t\t\t\n",
        "\t\t\t\t\n",
        "\t\t\t\t\n",
        "\t\t\t\t"
      ]
    },
    {
      "cell_type": "markdown",
      "metadata": {
        "id": "iQtn6gDoQwym"
      },
      "source": [
        "Conclusiones:\n",
        "\n",
        "CSV y formatos String : Son simples, requieren alto costo computacional y algo lentos.\n",
        "\n",
        "HDF : Gran soporte, adecuado para grandes cantidades de datos, rápido a costo de alto costo computacional.\n",
        "\n",
        "Parquet : Puede igualar a hdf e inclusive trabajar por chunks y en paralelo.\n",
        "\n",
        "Pickle : Es práctico pero lento con grandes cantidades de datos."
      ]
    }
  ]
}