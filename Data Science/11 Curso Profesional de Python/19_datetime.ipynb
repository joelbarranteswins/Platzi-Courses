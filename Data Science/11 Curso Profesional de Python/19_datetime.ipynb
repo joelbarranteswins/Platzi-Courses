{
 "cells": [
  {
   "cell_type": "code",
   "execution_count": 1,
   "metadata": {},
   "outputs": [
    {
     "name": "stdout",
     "output_type": "stream",
     "text": [
      "2021-10-31 21:52:40.767305\n"
     ]
    }
   ],
   "source": [
    "import datetime\n",
    "\n",
    "my_time = datetime.datetime.now()\n",
    "\n",
    "print(my_time)"
   ]
  },
  {
   "cell_type": "code",
   "execution_count": 2,
   "metadata": {},
   "outputs": [
    {
     "name": "stdout",
     "output_type": "stream",
     "text": [
      "2021-10-31 21:52:40.849094\n",
      "2021-10-31\n",
      "Year: 2021\n",
      "Month: 10\n",
      "Day: 31\n"
     ]
    }
   ],
   "source": [
    "import datetime\n",
    "\n",
    "my_time = datetime.datetime.now() # hora local de mi PC u hora universal\n",
    "\n",
    "my_date = datetime.date.today() # fecha actual\n",
    "\n",
    "my_day = datetime.date.today()\n",
    "\n",
    "print(my_time)\n",
    "print(my_date)\n",
    "\n",
    "print(f'Year: {my_day.year}')\n",
    "print(f'Month: {my_day.month}')\n",
    "print(f'Day: {my_day.day}')"
   ]
  },
  {
   "cell_type": "code",
   "execution_count": 3,
   "metadata": {},
   "outputs": [
    {
     "name": "stdout",
     "output_type": "stream",
     "text": [
      "2021-10-31 21:58:45.500881\n",
      "Formato LATAM: 31/10/2021\n",
      "Formato USA: 10/31/2021\n",
      "Formato random: año 2021 mes 10 día 31\n",
      "Formato UTC: 2021-11-01 02:58:45.505867\n"
     ]
    }
   ],
   "source": [
    "from datetime import datetime\n",
    "\n",
    "my_datetime = datetime.now()\n",
    "print(my_datetime)\n",
    "\n",
    "latam = my_datetime.strftime('%d/%m/%Y')\n",
    "print(f'Formato LATAM: {latam}')\n",
    "\n",
    "usa = my_datetime.strftime('%m/%d/%Y')\n",
    "print(f'Formato USA: {usa}')\n",
    "\n",
    "random_format = my_datetime.strftime('año %Y mes %m día %d')\n",
    "print(f'Formato random: {random_format}')\n",
    "\n",
    "formato_utc = datetime.utcnow()\n",
    "print(f'Formato UTC: {formato_utc}')"
   ]
  }
 ],
 "metadata": {
  "interpreter": {
   "hash": "1e915f0a29dc84041eaeb02b7b1a21c440e37a87b61d44d5e84a515737dc82bc"
  },
  "kernelspec": {
   "display_name": "Python 3.8.8 64-bit ('base': conda)",
   "name": "python3"
  },
  "language_info": {
   "codemirror_mode": {
    "name": "ipython",
    "version": 3
   },
   "file_extension": ".py",
   "mimetype": "text/x-python",
   "name": "python",
   "nbconvert_exporter": "python",
   "pygments_lexer": "ipython3",
   "version": "3.8.8"
  },
  "orig_nbformat": 4
 },
 "nbformat": 4,
 "nbformat_minor": 2
}
