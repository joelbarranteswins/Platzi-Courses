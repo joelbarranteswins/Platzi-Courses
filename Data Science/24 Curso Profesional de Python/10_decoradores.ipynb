{
 "cells": [
  {
   "cell_type": "code",
   "execution_count": 2,
   "metadata": {},
   "outputs": [
    {
     "name": "stdout",
     "output_type": "stream",
     "text": [
      "Esto se añade a mi función original.\n",
      "¡Hola!\n"
     ]
    }
   ],
   "source": [
    "def decorador(func):\n",
    "    def envoltura():\n",
    "        print(\"Esto se añade a mi función original.\")\n",
    "        func()\n",
    "    return envoltura\n",
    "\n",
    "def saludo():\n",
    "    print(\"¡Hola!\")\n",
    "saludo = decorador(saludo) # Se guarda la función decorada en la variable saludo (se decora)\n",
    "\n",
    "saludo()                   # La función saludo está ahora decorada "
   ]
  },
  {
   "cell_type": "code",
   "execution_count": 3,
   "metadata": {},
   "outputs": [
    {
     "name": "stdout",
     "output_type": "stream",
     "text": [
      "Esto se añade a mi función original.\n",
      "¡Hola!\n"
     ]
    }
   ],
   "source": [
    "def decorador(func):\n",
    "    def envoltura():\n",
    "        print(\"Esto se añade a mi función original.\")\n",
    "        func()\n",
    "    return envoltura\n",
    "\n",
    "# De esta manera se decora la función saludo (equivale a saludo = decorador(saludo) de la última línea, quedando ahora en la línea inmediata superior ):\n",
    "@decorador                \n",
    "def saludo():\n",
    "    print(\"¡Hola!\")\n",
    "\n",
    "saludo()                   # La función saludo está ahora decorada "
   ]
  },
  {
   "cell_type": "code",
   "execution_count": 4,
   "metadata": {},
   "outputs": [
    {
     "name": "stdout",
     "output_type": "stream",
     "text": [
      "Esto se añade a mi funcion original\n",
      "Hola\n",
      "DUVAN, RECIBISTES UN MENSAJE\n"
     ]
    }
   ],
   "source": [
    "'''\n",
    "   Decorador: Es una funcion que recibe como parametro otra funcion, le añade cosas y retorna una funcion diferente.\n",
    "   -> Una funcion que le añade super poderes a otra funcion.\n",
    "'''\n",
    "\n",
    "def decorador(func):\n",
    "    def envoltura():\n",
    "        print('Esto se añade a mi funcion original')\n",
    "        func()\n",
    "    return envoltura\n",
    "\n",
    "def mayusculas(func):\n",
    "    def envoltura(texto):\n",
    "        return func(texto).upper()\n",
    "    return envoltura\n",
    "\n",
    "\n",
    "@decorador\n",
    "def saludo():\n",
    "    print('Hola')\n",
    "\n",
    "@mayusculas\n",
    "def mensaje(nombre):\n",
    "    return f'{nombre}, recibistes un mensaje'\n",
    "\n",
    "saludo()\n",
    "print(mensaje('duvan'))"
   ]
  }
 ],
 "metadata": {
  "interpreter": {
   "hash": "1e915f0a29dc84041eaeb02b7b1a21c440e37a87b61d44d5e84a515737dc82bc"
  },
  "kernelspec": {
   "display_name": "Python 3.8.8 64-bit ('base': conda)",
   "name": "python3"
  },
  "language_info": {
   "codemirror_mode": {
    "name": "ipython",
    "version": 3
   },
   "file_extension": ".py",
   "mimetype": "text/x-python",
   "name": "python",
   "nbconvert_exporter": "python",
   "pygments_lexer": "ipython3",
   "version": "3.8.8"
  },
  "orig_nbformat": 4
 },
 "nbformat": 4,
 "nbformat_minor": 2
}
