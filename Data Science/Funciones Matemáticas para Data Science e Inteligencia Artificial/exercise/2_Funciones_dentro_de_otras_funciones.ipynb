{
  "cells": [
    {
      "cell_type": "code",
      "execution_count": 7,
      "metadata": {
        "colab": {
          "base_uri": "https://localhost:8080/",
          "height": 282
        },
        "id": "FawR0pRl7qGf",
        "outputId": "c212babc-7733-4e45-a8f4-dbbca8de6e38"
      },
      "outputs": [
        {
          "name": "stderr",
          "output_type": "stream",
          "text": [
            "C:\\Users\\joel_\\AppData\\Local\\Temp/ipykernel_18148/472503471.py:19: RuntimeWarning: invalid value encountered in log2\n",
            "  return np.log2(x)\n"
          ]
        },
        {
          "data": {
            "text/plain": [
              "[<matplotlib.lines.Line2D at 0x1c5553a61c0>]"
            ]
          },
          "execution_count": 7,
          "metadata": {},
          "output_type": "execute_result"
        },
        {
          "data": {
            "image/png": "[encoded data removed]",
            "text/plain": [
              "<Figure size 432x288 with 1 Axes>"
            ]
          },
          "metadata": {
            "needs_background": "light"
          },
          "output_type": "display_data"
        }
      ],
      "source": [
        "import numpy as np\n",
        "import matplotlib.pyplot as plt\n",
        "\n",
        "N = 1000\n",
        "\n",
        "x = np.linspace(-10,10, num=N)\n",
        "\n",
        "def g(x):\n",
        "  return np.sin(x)\n",
        "\n",
        "def f(x):\n",
        "  return np.tan(x)\n",
        "\n",
        "def absolute(x):\n",
        "    y = np.absolute(x)\n",
        "    return y\n",
        "\n",
        "def logarithmic(x):\n",
        "  return np.log2(x)\n",
        "\n",
        "#Realizando una composicion de funciones\n",
        "y = logarithmic(x)\n",
        "f_o_g = absolute(y)\n",
        "\n",
        "plt.plot(x, f_o_g)"
      ]
    }
  ],
  "metadata": {
    "colab": {
      "collapsed_sections": [],
      "name": "2_Funciones_dentro_de_otras_funciones.ipynb",
      "provenance": []
    },
    "kernelspec": {
      "display_name": "Python 3",
      "name": "python3"
    },
    "language_info": {
      "codemirror_mode": {
        "name": "ipython",
        "version": 3
      },
      "file_extension": ".py",
      "mimetype": "text/x-python",
      "name": "python",
      "nbconvert_exporter": "python",
      "pygments_lexer": "ipython3",
      "version": "3.9.6"
    }
  },
  "nbformat": 4,
  "nbformat_minor": 0
}
