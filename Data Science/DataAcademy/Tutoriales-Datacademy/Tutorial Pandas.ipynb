{
 "cells": [
  {
   "cell_type": "markdown",
   "source": "![Picture title](image-20220204-173805.png)",
   "metadata": {
    "cell_id": "dc0014d6-abed-470f-9805-281551820b74",
    "tags": [],
    "deepnote_cell_type": "markdown"
   }
  },
  {
   "cell_type": "markdown",
   "source": "![Picture title](image-20220204-160939.png)",
   "metadata": {
    "cell_id": "95564caf-a4ce-45a5-a332-96216b1baff2",
    "tags": [],
    "deepnote_cell_type": "markdown"
   }
  },
  {
   "cell_type": "markdown",
   "source": "## ¿Qué es Pandas?\n\nPandas es una librería de Python que se usa para manipular datos de alto nivel. Está construida sobre NumPy.\n\nPrincipalmente funciona con una estructura de datos que guarda la información de manera tabular llamada **DataFrame**. Esencialmente esto es una tabla como las que veríamos en bases de datos SQL o archivos de Excel.",
   "metadata": {
    "cell_id": "231408d7-f218-4427-a347-0ebf7da1270d",
    "tags": [],
    "deepnote_cell_type": "markdown"
   }
  },
  {
   "cell_type": "markdown",
   "source": "## ¿Por qué usar Pandas?\n\nPara analizar datos es muy común tener que trabajar con ellos en forma tabular y con Pandas podemos hacerlo.\n\nUna diferencia que tiene Pandas a trabajar con hojas de cálculo en Excel es que es mucho más rápida y potente, podemos trabajar con cantidades de datos más grandes.",
   "metadata": {
    "cell_id": "198cf2e3-bafd-4178-b338-9509f576bf8b",
    "tags": [],
    "deepnote_cell_type": "markdown"
   }
  },
  {
   "cell_type": "markdown",
   "source": "## Comenzar a usar Pandas\n\nPara empezar a utilizar Pandas dentro de Jupyter Notebooks en la nube como Google Colab o Deepnote no necesitas hacer ninguna instalación. Simplemente escribe la siguiente línea en una celda de código y ejecútala.",
   "metadata": {
    "cell_id": "33a4ee0f-6997-4120-9585-7d8fefa3d3d8",
    "tags": [],
    "deepnote_cell_type": "markdown"
   }
  },
  {
   "cell_type": "code",
   "metadata": {
    "tags": [],
    "cell_id": "3bc0932a-ece7-4254-bd4e-b14d76824871",
    "deepnote_to_be_reexecuted": false,
    "source_hash": "9b82ee11",
    "execution_start": 1644026454675,
    "execution_millis": 0,
    "deepnote_cell_type": "code"
   },
   "source": "import pandas as pd",
   "outputs": [],
   "execution_count": null
  },
  {
   "cell_type": "markdown",
   "source": "## DataFrames y Series\n\nPandas trabaja con **DataFrames** que son la estructura de datos principal con la que almacena y manipula datos tabulados.\n\nCada fila dentro de un DataFrame lleva un índice que indica su posición.\n\n\n\n",
   "metadata": {
    "cell_id": "c7d7750c-38a1-4487-9564-a33d399db0e7",
    "tags": [],
    "deepnote_cell_type": "markdown"
   }
  },
  {
   "cell_type": "markdown",
   "source": "![Picture title](image-20220204-161955.png)",
   "metadata": {
    "cell_id": "850d3f22-2c28-4972-878d-8eb81d9b7819",
    "tags": [],
    "deepnote_cell_type": "markdown"
   }
  },
  {
   "cell_type": "markdown",
   "source": "Otras estructuras de datos comunes en Pandas son las **Series**. Son de una sola dimensión como una lista de Python o un NumPy array. Esencialmente son una columna de datos y un índice que indica su posición.",
   "metadata": {
    "cell_id": "1ba2598b-373c-443f-a710-78a96bbddfb5",
    "tags": [],
    "deepnote_cell_type": "markdown"
   }
  },
  {
   "cell_type": "markdown",
   "source": "![Picture title](image-20220204-162354.png)",
   "metadata": {
    "cell_id": "5d325ab2-a138-4396-85ff-3950d860245f",
    "tags": [],
    "deepnote_cell_type": "markdown"
   }
  },
  {
   "cell_type": "markdown",
   "source": "## Crear un DataFrame\n\nExisten diferentes maneras de crear DataFrames. Veamos algunas.\n\n### Diccionario de listas",
   "metadata": {
    "cell_id": "a66e72d5-6cf1-467d-ab6b-85d8c5693704",
    "tags": [],
    "deepnote_cell_type": "markdown"
   }
  },
  {
   "cell_type": "code",
   "metadata": {
    "cell_id": "ed50c170-2803-4a17-8fd0-1ee36d94ec27",
    "tags": [],
    "deepnote_to_be_reexecuted": false,
    "source_hash": "56913467",
    "execution_start": 1644026454676,
    "execution_millis": 111,
    "deepnote_cell_type": "code"
   },
   "source": "students_dict = {\n    \"name\": [\"Miguel\", \"Juan David\", \"Carmen\", \"Facundo\", \"Romina\"],\n    \"age\": [29, 19, 24, 22, 25],\n    \"career path\":  [\"Data Analyst\", \"Data Scientist\", \"Data Analyst\", \"Data Engineer\", \"ML Engineer\" ],\n}\n\nstudents_df = pd.DataFrame(students_dict)\nstudents_df",
   "outputs": [
    {
     "output_type": "execute_result",
     "execution_count": 2,
     "data": {
      "application/vnd.deepnote.dataframe.v3+json": {
       "column_count": 3,
       "row_count": 5,
       "columns": [
        {
         "name": "name",
         "dtype": "object",
         "stats": {
          "unique_count": 5,
          "nan_count": 0,
          "categories": [
           {
            "name": "Miguel",
            "count": 1
           },
           {
            "name": "Juan David",
            "count": 1
           },
           {
            "name": "3 others",
            "count": 3
           }
          ]
         }
        },
        {
         "name": "age",
         "dtype": "int64",
         "stats": {
          "unique_count": 5,
          "nan_count": 0,
          "min": "19",
          "max": "29",
          "histogram": [
           {
            "bin_start": 19,
            "bin_end": 20,
            "count": 1
           },
           {
            "bin_start": 20,
            "bin_end": 21,
            "count": 0
           },
           {
            "bin_start": 21,
            "bin_end": 22,
            "count": 0
           },
           {
            "bin_start": 22,
            "bin_end": 23,
            "count": 1
           },
           {
            "bin_start": 23,
            "bin_end": 24,
            "count": 0
           },
           {
            "bin_start": 24,
            "bin_end": 25,
            "count": 1
           },
           {
            "bin_start": 25,
            "bin_end": 26,
            "count": 1
           },
           {
            "bin_start": 26,
            "bin_end": 27,
            "count": 0
           },
           {
            "bin_start": 27,
            "bin_end": 28,
            "count": 0
           },
           {
            "bin_start": 28,
            "bin_end": 29,
            "count": 1
           }
          ]
         }
        },
        {
         "name": "career path",
         "dtype": "object",
         "stats": {
          "unique_count": 4,
          "nan_count": 0,
          "categories": [
           {
            "name": "Data Analyst",
            "count": 2
           },
           {
            "name": "Data Scientist",
            "count": 1
           },
           {
            "name": "2 others",
            "count": 2
           }
          ]
         }
        },
        {
         "name": "_deepnote_index_column",
         "dtype": "int64"
        }
       ],
       "rows": [
        {
         "name": "Miguel",
         "age": 29,
         "career path": "Data Analyst",
         "_deepnote_index_column": 0
        },
        {
         "name": "Juan David",
         "age": 19,
         "career path": "Data Scientist",
         "_deepnote_index_column": 1
        },
        {
         "name": "Carmen",
         "age": 24,
         "career path": "Data Analyst",
         "_deepnote_index_column": 2
        },
        {
         "name": "Facundo",
         "age": 22,
         "career path": "Data Engineer",
         "_deepnote_index_column": 3
        },
        {
         "name": "Romina",
         "age": 25,
         "career path": "ML Engineer",
         "_deepnote_index_column": 4
        }
       ]
      },
      "text/plain": "         name  age     career path\n0      Miguel   29    Data Analyst\n1  Juan David   19  Data Scientist\n2      Carmen   24    Data Analyst\n3     Facundo   22   Data Engineer\n4      Romina   25     ML Engineer",
      "text/html": "<div>\n<style scoped>\n    .dataframe tbody tr th:only-of-type {\n        vertical-align: middle;\n    }\n\n    .dataframe tbody tr th {\n        vertical-align: top;\n    }\n\n    .dataframe thead th {\n        text-align: right;\n    }\n</style>\n<table border=\"1\" class=\"dataframe\">\n  <thead>\n    <tr style=\"text-align: right;\">\n      <th></th>\n      <th>name</th>\n      <th>age</th>\n      <th>career path</th>\n    </tr>\n  </thead>\n  <tbody>\n    <tr>\n      <th>0</th>\n      <td>Miguel</td>\n      <td>29</td>\n      <td>Data Analyst</td>\n    </tr>\n    <tr>\n      <th>1</th>\n      <td>Juan David</td>\n      <td>19</td>\n      <td>Data Scientist</td>\n    </tr>\n    <tr>\n      <th>2</th>\n      <td>Carmen</td>\n      <td>24</td>\n      <td>Data Analyst</td>\n    </tr>\n    <tr>\n      <th>3</th>\n      <td>Facundo</td>\n      <td>22</td>\n      <td>Data Engineer</td>\n    </tr>\n    <tr>\n      <th>4</th>\n      <td>Romina</td>\n      <td>25</td>\n      <td>ML Engineer</td>\n    </tr>\n  </tbody>\n</table>\n</div>"
     },
     "metadata": {}
    }
   ],
   "execution_count": null
  },
  {
   "cell_type": "markdown",
   "source": "### Lista de diccionarios (fila por fila)",
   "metadata": {
    "cell_id": "f3cb372f-305f-46cd-81a0-4cf8a8f521f1",
    "tags": [],
    "deepnote_cell_type": "markdown"
   }
  },
  {
   "cell_type": "code",
   "metadata": {
    "cell_id": "f46372d1-31b6-4155-8e79-21d1d46d2ddf",
    "tags": [],
    "deepnote_to_be_reexecuted": false,
    "source_hash": "8306e30f",
    "execution_start": 1644026454787,
    "execution_millis": 19,
    "deepnote_cell_type": "code"
   },
   "source": "students_list = [\n    {\"name\": \"Miguel\", \"age\": 29, \"career path\": \"Data Analyst\"},\n    {\"name\": \"Juan David\", \"age\": 19, \"career path\": \"Data Scientist\"},\n    {\"name\": \"Carmen\", \"age\": 24, \"career path\": \"Data Analyst\"},\n]\n\nstudents_df_2 = pd.DataFrame(students_list)\nstudents_df_2",
   "outputs": [
    {
     "output_type": "execute_result",
     "execution_count": 3,
     "data": {
      "application/vnd.deepnote.dataframe.v3+json": {
       "column_count": 3,
       "row_count": 3,
       "columns": [
        {
         "name": "name",
         "dtype": "object",
         "stats": {
          "unique_count": 3,
          "nan_count": 0,
          "categories": [
           {
            "name": "Miguel",
            "count": 1
           },
           {
            "name": "Juan David",
            "count": 1
           },
           {
            "name": "Carmen",
            "count": 1
           }
          ]
         }
        },
        {
         "name": "age",
         "dtype": "int64",
         "stats": {
          "unique_count": 3,
          "nan_count": 0,
          "min": "19",
          "max": "29",
          "histogram": [
           {
            "bin_start": 19,
            "bin_end": 20,
            "count": 1
           },
           {
            "bin_start": 20,
            "bin_end": 21,
            "count": 0
           },
           {
            "bin_start": 21,
            "bin_end": 22,
            "count": 0
           },
           {
            "bin_start": 22,
            "bin_end": 23,
            "count": 0
           },
           {
            "bin_start": 23,
            "bin_end": 24,
            "count": 0
           },
           {
            "bin_start": 24,
            "bin_end": 25,
            "count": 1
           },
           {
            "bin_start": 25,
            "bin_end": 26,
            "count": 0
           },
           {
            "bin_start": 26,
            "bin_end": 27,
            "count": 0
           },
           {
            "bin_start": 27,
            "bin_end": 28,
            "count": 0
           },
           {
            "bin_start": 28,
            "bin_end": 29,
            "count": 1
           }
          ]
         }
        },
        {
         "name": "career path",
         "dtype": "object",
         "stats": {
          "unique_count": 2,
          "nan_count": 0,
          "categories": [
           {
            "name": "Data Analyst",
            "count": 2
           },
           {
            "name": "Data Scientist",
            "count": 1
           }
          ]
         }
        },
        {
         "name": "_deepnote_index_column",
         "dtype": "int64"
        }
       ],
       "rows": [
        {
         "name": "Miguel",
         "age": 29,
         "career path": "Data Analyst",
         "_deepnote_index_column": 0
        },
        {
         "name": "Juan David",
         "age": 19,
         "career path": "Data Scientist",
         "_deepnote_index_column": 1
        },
        {
         "name": "Carmen",
         "age": 24,
         "career path": "Data Analyst",
         "_deepnote_index_column": 2
        }
       ]
      },
      "text/plain": "         name  age     career path\n0      Miguel   29    Data Analyst\n1  Juan David   19  Data Scientist\n2      Carmen   24    Data Analyst",
      "text/html": "<div>\n<style scoped>\n    .dataframe tbody tr th:only-of-type {\n        vertical-align: middle;\n    }\n\n    .dataframe tbody tr th {\n        vertical-align: top;\n    }\n\n    .dataframe thead th {\n        text-align: right;\n    }\n</style>\n<table border=\"1\" class=\"dataframe\">\n  <thead>\n    <tr style=\"text-align: right;\">\n      <th></th>\n      <th>name</th>\n      <th>age</th>\n      <th>career path</th>\n    </tr>\n  </thead>\n  <tbody>\n    <tr>\n      <th>0</th>\n      <td>Miguel</td>\n      <td>29</td>\n      <td>Data Analyst</td>\n    </tr>\n    <tr>\n      <th>1</th>\n      <td>Juan David</td>\n      <td>19</td>\n      <td>Data Scientist</td>\n    </tr>\n    <tr>\n      <th>2</th>\n      <td>Carmen</td>\n      <td>24</td>\n      <td>Data Analyst</td>\n    </tr>\n  </tbody>\n</table>\n</div>"
     },
     "metadata": {}
    }
   ],
   "execution_count": null
  },
  {
   "cell_type": "markdown",
   "source": "Utilizando el método `.dtype` podemos conocer cuál es el tipo de dato que hay dentro de cada columna del DataFrame.\n\nUtiliza ese método en cada uno de los DataFrames que creamos.",
   "metadata": {
    "cell_id": "162956b7-4502-4025-850a-8ed5429a6610",
    "tags": [],
    "deepnote_cell_type": "markdown"
   }
  },
  {
   "cell_type": "code",
   "metadata": {
    "cell_id": "b1efbd9b-68ce-4f1e-bd36-f49b68011406",
    "tags": [],
    "deepnote_to_be_reexecuted": false,
    "source_hash": "d13b3bc7",
    "execution_start": 1644026454858,
    "execution_millis": 48,
    "deepnote_output_heights": [
     78.796875
    ],
    "deepnote_cell_type": "code"
   },
   "source": "students_df.dtypes",
   "outputs": [
    {
     "output_type": "execute_result",
     "execution_count": 4,
     "data": {
      "text/plain": "name           object\nage             int64\ncareer path    object\ndtype: object"
     },
     "metadata": {}
    }
   ],
   "execution_count": null
  },
  {
   "cell_type": "code",
   "metadata": {
    "cell_id": "6e6f55d2-9070-476d-a889-4a5c4ef76aef",
    "tags": [],
    "deepnote_to_be_reexecuted": false,
    "source_hash": "1192aec7",
    "execution_start": 1644026454904,
    "execution_millis": 2,
    "deepnote_output_heights": [
     78.796875
    ],
    "deepnote_cell_type": "code"
   },
   "source": "students_df_2.dtypes",
   "outputs": [
    {
     "output_type": "execute_result",
     "execution_count": 5,
     "data": {
      "text/plain": "name           object\nage             int64\ncareer path    object\ndtype: object"
     },
     "metadata": {}
    }
   ],
   "execution_count": null
  },
  {
   "cell_type": "markdown",
   "source": "### Reto: crea nuevos DataFrames\n\n1. Crea otro diccionario con listas y con él crea un nuevo DataFrame. Utiliza los datos que quieras.\n\n2. También crea otra lista con diccionarios y crea otro nuevo DataFrame con los mismos datos que tenías en tu diccionario.\n\nComparte tus resultados en los comentarios.",
   "metadata": {
    "cell_id": "31cad0b0-771c-4f9d-ad4e-42d3650b8dec",
    "tags": [],
    "deepnote_cell_type": "markdown"
   }
  },
  {
   "cell_type": "markdown",
   "source": "---\nMuy bien, ya conoces qué es Pandas y hemos comenzado a crear nuestros primeros DataFrames, pero esta es solo una base.\n\nCrear DataFrames llenando los datos de forma manual no es como comúnmente se hace. Para ello necesitamos importar datos desde diferentes tipos de archivos.",
   "metadata": {
    "cell_id": "2f49beb1-b495-463a-bcc7-35a2890f02da",
    "tags": [],
    "deepnote_cell_type": "markdown"
   }
  },
  {
   "cell_type": "markdown",
   "source": "## Importar datos de archivos con Pandas\n\nEn Pandas es común importar datos de archivos CSV, JSON, Excel y SQL para crear DataFrames con ellos.\n\nPara esto utilizamos el método `pd.read_{file_type}('path')`. Donde `file_type` es el tipo de archivo que puede ser CSV. `'path'` se refiere a la dirección que tiene el archivo desde la computadora local o dentro del entorno en la nube que utilicemos.\n\n### Importar datos desde CSV con Pandas\n\nConozcamos la forma más común de crear DataFrames con archivos CSV.\n\nPrimero descarga [aquí](https://static.platzi.com/media/public/uploads/studentsperformance_f29e92e5-811f-4cf9-9504-91644b0ecc35.csv) un dataset de desempeño de estudiantes en exámenes. Este dataset es un archivo CSV que viene de este [proyecto en Kaggle](https://www.kaggle.com/spscientist/students-performance-in-exams).\n\nUna vez que tengas descargado el archivo CSV, súbelo dentro de tu proyecto en Deepnote para que puedas utilizarlo. Como recordaras, esto se hace en la zona izquierda dentro de Deepnote y deberá verse similar a esto:",
   "metadata": {
    "cell_id": "588d48cc-ec6b-4b83-972c-3a2d822d9d40",
    "tags": [],
    "deepnote_cell_type": "markdown"
   }
  },
  {
   "cell_type": "markdown",
   "source": "![Picture title](image-20220204-173614.png)",
   "metadata": {
    "cell_id": "0e836354-c579-4771-a772-c2dac712ec4c",
    "tags": [],
    "deepnote_cell_type": "markdown"
   }
  },
  {
   "cell_type": "markdown",
   "source": "Ya que tengas el archivo cargado en tu proyecto de Deepnote, copia su dirección como se muestra a continuación dando clic en los tres puntos del archivo y seleccionando la opción **Copy path to clipboard**:",
   "metadata": {
    "cell_id": "3ddf9950-8ca2-49cc-a17f-d6d95cc595a7",
    "tags": [],
    "deepnote_cell_type": "markdown"
   }
  },
  {
   "cell_type": "markdown",
   "source": "![Picture title](image-20220204-174137.png)",
   "metadata": {
    "cell_id": "d57d1a21-f9bc-470c-9f10-967c83809c8b",
    "tags": [],
    "deepnote_cell_type": "markdown"
   }
  },
  {
   "cell_type": "markdown",
   "source": "Este path pégalo dentro del método `pd.read_csv('path')` como se muestra a continuación:",
   "metadata": {
    "cell_id": "640609a9-2ab0-4827-b634-2abeb48d81a6",
    "tags": [],
    "deepnote_cell_type": "markdown"
   }
  },
  {
   "cell_type": "code",
   "metadata": {
    "cell_id": "e7fd8f45-5b78-48f0-b072-376bf63af42e",
    "tags": [],
    "deepnote_to_be_reexecuted": false,
    "source_hash": "eea83e1f",
    "execution_start": 1644026454946,
    "execution_millis": 159,
    "deepnote_cell_type": "code"
   },
   "source": "df = pd.read_csv('/work/StudentsPerformance.csv')\ndf",
   "outputs": [
    {
     "output_type": "execute_result",
     "execution_count": 6,
     "data": {
      "application/vnd.deepnote.dataframe.v3+json": {
       "column_count": 8,
       "row_count": 1000,
       "columns": [
        {
         "name": "gender",
         "dtype": "object",
         "stats": {
          "unique_count": 2,
          "nan_count": 0,
          "categories": [
           {
            "name": "female",
            "count": 518
           },
           {
            "name": "male",
            "count": 482
           }
          ]
         }
        },
        {
         "name": "race/ethnicity",
         "dtype": "object",
         "stats": {
          "unique_count": 5,
          "nan_count": 0,
          "categories": [
           {
            "name": "group C",
            "count": 319
           },
           {
            "name": "group D",
            "count": 262
           },
           {
            "name": "3 others",
            "count": 419
           }
          ]
         }
        },
        {
         "name": "parental level of education",
         "dtype": "object",
         "stats": {
          "unique_count": 6,
          "nan_count": 0,
          "categories": [
           {
            "name": "some college",
            "count": 226
           },
           {
            "name": "associate's degree",
            "count": 222
           },
           {
            "name": "4 others",
            "count": 552
           }
          ]
         }
        },
        {
         "name": "lunch",
         "dtype": "object",
         "stats": {
          "unique_count": 2,
          "nan_count": 0,
          "categories": [
           {
            "name": "standard",
            "count": 645
           },
           {
            "name": "free/reduced",
            "count": 355
           }
          ]
         }
        },
        {
         "name": "test preparation course",
         "dtype": "object",
         "stats": {
          "unique_count": 2,
          "nan_count": 0,
          "categories": [
           {
            "name": "none",
            "count": 642
           },
           {
            "name": "completed",
            "count": 358
           }
          ]
         }
        },
        {
         "name": "math score",
         "dtype": "int64",
         "stats": {
          "unique_count": 81,
          "nan_count": 0,
          "min": "0",
          "max": "100",
          "histogram": [
           {
            "bin_start": 0,
            "bin_end": 10,
            "count": 2
           },
           {
            "bin_start": 10,
            "bin_end": 20,
            "count": 2
           },
           {
            "bin_start": 20,
            "bin_end": 30,
            "count": 10
           },
           {
            "bin_start": 30,
            "bin_end": 40,
            "count": 26
           },
           {
            "bin_start": 40,
            "bin_end": 50,
            "count": 95
           },
           {
            "bin_start": 50,
            "bin_end": 60,
            "count": 188
           },
           {
            "bin_start": 60,
            "bin_end": 70,
            "count": 268
           },
           {
            "bin_start": 70,
            "bin_end": 80,
            "count": 216
           },
           {
            "bin_start": 80,
            "bin_end": 90,
            "count": 135
           },
           {
            "bin_start": 90,
            "bin_end": 100,
            "count": 58
           }
          ]
         }
        },
        {
         "name": "reading score",
         "dtype": "int64",
         "stats": {
          "unique_count": 72,
          "nan_count": 0,
          "min": "17",
          "max": "100",
          "histogram": [
           {
            "bin_start": 17,
            "bin_end": 25.3,
            "count": 4
           },
           {
            "bin_start": 25.3,
            "bin_end": 33.6,
            "count": 7
           },
           {
            "bin_start": 33.6,
            "bin_end": 41.900000000000006,
            "count": 22
           },
           {
            "bin_start": 41.900000000000006,
            "bin_end": 50.2,
            "count": 64
           },
           {
            "bin_start": 50.2,
            "bin_end": 58.5,
            "count": 140
           },
           {
            "bin_start": 58.5,
            "bin_end": 66.80000000000001,
            "count": 182
           },
           {
            "bin_start": 66.80000000000001,
            "bin_end": 75.10000000000001,
            "count": 237
           },
           {
            "bin_start": 75.10000000000001,
            "bin_end": 83.4,
            "count": 168
           },
           {
            "bin_start": 83.4,
            "bin_end": 91.7,
            "count": 120
           },
           {
            "bin_start": 91.7,
            "bin_end": 100,
            "count": 56
           }
          ]
         }
        },
        {
         "name": "writing score",
         "dtype": "int64",
         "stats": {
          "unique_count": 77,
          "nan_count": 0,
          "min": "10",
          "max": "100",
          "histogram": [
           {
            "bin_start": 10,
            "bin_end": 19,
            "count": 2
           },
           {
            "bin_start": 19,
            "bin_end": 28,
            "count": 6
           },
           {
            "bin_start": 28,
            "bin_end": 37,
            "count": 14
           },
           {
            "bin_start": 37,
            "bin_end": 46,
            "count": 55
           },
           {
            "bin_start": 46,
            "bin_end": 55,
            "count": 126
           },
           {
            "bin_start": 55,
            "bin_end": 64,
            "count": 161
           },
           {
            "bin_start": 64,
            "bin_end": 73,
            "count": 223
           },
           {
            "bin_start": 73,
            "bin_end": 82,
            "count": 225
           },
           {
            "bin_start": 82,
            "bin_end": 91,
            "count": 120
           },
           {
            "bin_start": 91,
            "bin_end": 100,
            "count": 68
           }
          ]
         }
        },
        {
         "name": "_deepnote_index_column",
         "dtype": "int64"
        }
       ],
       "rows": [
        {
         "gender": "female",
         "race/ethnicity": "group B",
         "parental level of education": "bachelor's degree",
         "lunch": "standard",
         "test preparation course": "none",
         "math score": 72,
         "reading score": 72,
         "writing score": 74,
         "_deepnote_index_column": 0
        },
        {
         "gender": "female",
         "race/ethnicity": "group C",
         "parental level of education": "some college",
         "lunch": "standard",
         "test preparation course": "completed",
         "math score": 69,
         "reading score": 90,
         "writing score": 88,
         "_deepnote_index_column": 1
        },
        {
         "gender": "female",
         "race/ethnicity": "group B",
         "parental level of education": "master's degree",
         "lunch": "standard",
         "test preparation course": "none",
         "math score": 90,
         "reading score": 95,
         "writing score": 93,
         "_deepnote_index_column": 2
        },
        {
         "gender": "male",
         "race/ethnicity": "group A",
         "parental level of education": "associate's degree",
         "lunch": "free/reduced",
         "test preparation course": "none",
         "math score": 47,
         "reading score": 57,
         "writing score": 44,
         "_deepnote_index_column": 3
        },
        {
         "gender": "male",
         "race/ethnicity": "group C",
         "parental level of education": "some college",
         "lunch": "standard",
         "test preparation course": "none",
         "math score": 76,
         "reading score": 78,
         "writing score": 75,
         "_deepnote_index_column": 4
        },
        {
         "gender": "female",
         "race/ethnicity": "group B",
         "parental level of education": "associate's degree",
         "lunch": "standard",
         "test preparation course": "none",
         "math score": 71,
         "reading score": 83,
         "writing score": 78,
         "_deepnote_index_column": 5
        },
        {
         "gender": "female",
         "race/ethnicity": "group B",
         "parental level of education": "some college",
         "lunch": "standard",
         "test preparation course": "completed",
         "math score": 88,
         "reading score": 95,
         "writing score": 92,
         "_deepnote_index_column": 6
        },
        {
         "gender": "male",
         "race/ethnicity": "group B",
         "parental level of education": "some college",
         "lunch": "free/reduced",
         "test preparation course": "none",
         "math score": 40,
         "reading score": 43,
         "writing score": 39,
         "_deepnote_index_column": 7
        },
        {
         "gender": "male",
         "race/ethnicity": "group D",
         "parental level of education": "high school",
         "lunch": "free/reduced",
         "test preparation course": "completed",
         "math score": 64,
         "reading score": 64,
         "writing score": 67,
         "_deepnote_index_column": 8
        },
        {
         "gender": "female",
         "race/ethnicity": "group B",
         "parental level of education": "high school",
         "lunch": "free/reduced",
         "test preparation course": "none",
         "math score": 38,
         "reading score": 60,
         "writing score": 50,
         "_deepnote_index_column": 9
        }
       ]
      },
      "text/plain": "     gender race/ethnicity parental level of education         lunch  \\\n0    female        group B           bachelor's degree      standard   \n1    female        group C                some college      standard   \n2    female        group B             master's degree      standard   \n3      male        group A          associate's degree  free/reduced   \n4      male        group C                some college      standard   \n..      ...            ...                         ...           ...   \n995  female        group E             master's degree      standard   \n996    male        group C                 high school  free/reduced   \n997  female        group C                 high school  free/reduced   \n998  female        group D                some college      standard   \n999  female        group D                some college  free/reduced   \n\n    test preparation course  math score  reading score  writing score  \n0                      none          72             72             74  \n1                 completed          69             90             88  \n2                      none          90             95             93  \n3                      none          47             57             44  \n4                      none          76             78             75  \n..                      ...         ...            ...            ...  \n995               completed          88             99             95  \n996                    none          62             55             55  \n997               completed          59             71             65  \n998               completed          68             78             77  \n999                    none          77             86             86  \n\n[1000 rows x 8 columns]",
      "text/html": "<div>\n<style scoped>\n    .dataframe tbody tr th:only-of-type {\n        vertical-align: middle;\n    }\n\n    .dataframe tbody tr th {\n        vertical-align: top;\n    }\n\n    .dataframe thead th {\n        text-align: right;\n    }\n</style>\n<table border=\"1\" class=\"dataframe\">\n  <thead>\n    <tr style=\"text-align: right;\">\n      <th></th>\n      <th>gender</th>\n      <th>race/ethnicity</th>\n      <th>parental level of education</th>\n      <th>lunch</th>\n      <th>test preparation course</th>\n      <th>math score</th>\n      <th>reading score</th>\n      <th>writing score</th>\n    </tr>\n  </thead>\n  <tbody>\n    <tr>\n      <th>0</th>\n      <td>female</td>\n      <td>group B</td>\n      <td>bachelor's degree</td>\n      <td>standard</td>\n      <td>none</td>\n      <td>72</td>\n      <td>72</td>\n      <td>74</td>\n    </tr>\n    <tr>\n      <th>1</th>\n      <td>female</td>\n      <td>group C</td>\n      <td>some college</td>\n      <td>standard</td>\n      <td>completed</td>\n      <td>69</td>\n      <td>90</td>\n      <td>88</td>\n    </tr>\n    <tr>\n      <th>2</th>\n      <td>female</td>\n      <td>group B</td>\n      <td>master's degree</td>\n      <td>standard</td>\n      <td>none</td>\n      <td>90</td>\n      <td>95</td>\n      <td>93</td>\n    </tr>\n    <tr>\n      <th>3</th>\n      <td>male</td>\n      <td>group A</td>\n      <td>associate's degree</td>\n      <td>free/reduced</td>\n      <td>none</td>\n      <td>47</td>\n      <td>57</td>\n      <td>44</td>\n    </tr>\n    <tr>\n      <th>4</th>\n      <td>male</td>\n      <td>group C</td>\n      <td>some college</td>\n      <td>standard</td>\n      <td>none</td>\n      <td>76</td>\n      <td>78</td>\n      <td>75</td>\n    </tr>\n    <tr>\n      <th>...</th>\n      <td>...</td>\n      <td>...</td>\n      <td>...</td>\n      <td>...</td>\n      <td>...</td>\n      <td>...</td>\n      <td>...</td>\n      <td>...</td>\n    </tr>\n    <tr>\n      <th>995</th>\n      <td>female</td>\n      <td>group E</td>\n      <td>master's degree</td>\n      <td>standard</td>\n      <td>completed</td>\n      <td>88</td>\n      <td>99</td>\n      <td>95</td>\n    </tr>\n    <tr>\n      <th>996</th>\n      <td>male</td>\n      <td>group C</td>\n      <td>high school</td>\n      <td>free/reduced</td>\n      <td>none</td>\n      <td>62</td>\n      <td>55</td>\n      <td>55</td>\n    </tr>\n    <tr>\n      <th>997</th>\n      <td>female</td>\n      <td>group C</td>\n      <td>high school</td>\n      <td>free/reduced</td>\n      <td>completed</td>\n      <td>59</td>\n      <td>71</td>\n      <td>65</td>\n    </tr>\n    <tr>\n      <th>998</th>\n      <td>female</td>\n      <td>group D</td>\n      <td>some college</td>\n      <td>standard</td>\n      <td>completed</td>\n      <td>68</td>\n      <td>78</td>\n      <td>77</td>\n    </tr>\n    <tr>\n      <th>999</th>\n      <td>female</td>\n      <td>group D</td>\n      <td>some college</td>\n      <td>free/reduced</td>\n      <td>none</td>\n      <td>77</td>\n      <td>86</td>\n      <td>86</td>\n    </tr>\n  </tbody>\n</table>\n<p>1000 rows × 8 columns</p>\n</div>"
     },
     "metadata": {}
    }
   ],
   "execution_count": null
  },
  {
   "cell_type": "markdown",
   "source": "Excelente, has creado tu primer DataFrame desde un archivo CSV. 💪\n\nPara conocer qué hay dentro del DataFrame solemos utilizar el método `.head()`.",
   "metadata": {
    "cell_id": "f8d957b7-febb-45cb-bda6-2a9b82487b73",
    "tags": [],
    "deepnote_cell_type": "markdown"
   }
  },
  {
   "cell_type": "code",
   "metadata": {
    "cell_id": "0fde17fb-2c26-4008-94a9-ce172eadd7aa",
    "tags": [],
    "deepnote_to_be_reexecuted": false,
    "source_hash": "c085b6ba",
    "execution_start": 1644026455154,
    "execution_millis": 40,
    "deepnote_cell_type": "code"
   },
   "source": "df.head()",
   "outputs": [
    {
     "output_type": "execute_result",
     "execution_count": 7,
     "data": {
      "application/vnd.deepnote.dataframe.v3+json": {
       "column_count": 8,
       "row_count": 5,
       "columns": [
        {
         "name": "gender",
         "dtype": "object",
         "stats": {
          "unique_count": 2,
          "nan_count": 0,
          "categories": [
           {
            "name": "female",
            "count": 3
           },
           {
            "name": "male",
            "count": 2
           }
          ]
         }
        },
        {
         "name": "race/ethnicity",
         "dtype": "object",
         "stats": {
          "unique_count": 3,
          "nan_count": 0,
          "categories": [
           {
            "name": "group B",
            "count": 2
           },
           {
            "name": "group C",
            "count": 2
           },
           {
            "name": "group A",
            "count": 1
           }
          ]
         }
        },
        {
         "name": "parental level of education",
         "dtype": "object",
         "stats": {
          "unique_count": 4,
          "nan_count": 0,
          "categories": [
           {
            "name": "some college",
            "count": 2
           },
           {
            "name": "bachelor's degree",
            "count": 1
           },
           {
            "name": "2 others",
            "count": 2
           }
          ]
         }
        },
        {
         "name": "lunch",
         "dtype": "object",
         "stats": {
          "unique_count": 2,
          "nan_count": 0,
          "categories": [
           {
            "name": "standard",
            "count": 4
           },
           {
            "name": "free/reduced",
            "count": 1
           }
          ]
         }
        },
        {
         "name": "test preparation course",
         "dtype": "object",
         "stats": {
          "unique_count": 2,
          "nan_count": 0,
          "categories": [
           {
            "name": "none",
            "count": 4
           },
           {
            "name": "completed",
            "count": 1
           }
          ]
         }
        },
        {
         "name": "math score",
         "dtype": "int64",
         "stats": {
          "unique_count": 5,
          "nan_count": 0,
          "min": "47",
          "max": "90",
          "histogram": [
           {
            "bin_start": 47,
            "bin_end": 51.3,
            "count": 1
           },
           {
            "bin_start": 51.3,
            "bin_end": 55.6,
            "count": 0
           },
           {
            "bin_start": 55.6,
            "bin_end": 59.9,
            "count": 0
           },
           {
            "bin_start": 59.9,
            "bin_end": 64.2,
            "count": 0
           },
           {
            "bin_start": 64.2,
            "bin_end": 68.5,
            "count": 0
           },
           {
            "bin_start": 68.5,
            "bin_end": 72.8,
            "count": 2
           },
           {
            "bin_start": 72.8,
            "bin_end": 77.1,
            "count": 1
           },
           {
            "bin_start": 77.1,
            "bin_end": 81.4,
            "count": 0
           },
           {
            "bin_start": 81.4,
            "bin_end": 85.69999999999999,
            "count": 0
           },
           {
            "bin_start": 85.69999999999999,
            "bin_end": 90,
            "count": 1
           }
          ]
         }
        },
        {
         "name": "reading score",
         "dtype": "int64",
         "stats": {
          "unique_count": 5,
          "nan_count": 0,
          "min": "57",
          "max": "95",
          "histogram": [
           {
            "bin_start": 57,
            "bin_end": 60.8,
            "count": 1
           },
           {
            "bin_start": 60.8,
            "bin_end": 64.6,
            "count": 0
           },
           {
            "bin_start": 64.6,
            "bin_end": 68.4,
            "count": 0
           },
           {
            "bin_start": 68.4,
            "bin_end": 72.2,
            "count": 1
           },
           {
            "bin_start": 72.2,
            "bin_end": 76,
            "count": 0
           },
           {
            "bin_start": 76,
            "bin_end": 79.8,
            "count": 1
           },
           {
            "bin_start": 79.8,
            "bin_end": 83.6,
            "count": 0
           },
           {
            "bin_start": 83.6,
            "bin_end": 87.4,
            "count": 0
           },
           {
            "bin_start": 87.4,
            "bin_end": 91.19999999999999,
            "count": 1
           },
           {
            "bin_start": 91.19999999999999,
            "bin_end": 95,
            "count": 1
           }
          ]
         }
        },
        {
         "name": "writing score",
         "dtype": "int64",
         "stats": {
          "unique_count": 5,
          "nan_count": 0,
          "min": "44",
          "max": "93",
          "histogram": [
           {
            "bin_start": 44,
            "bin_end": 48.9,
            "count": 1
           },
           {
            "bin_start": 48.9,
            "bin_end": 53.8,
            "count": 0
           },
           {
            "bin_start": 53.8,
            "bin_end": 58.7,
            "count": 0
           },
           {
            "bin_start": 58.7,
            "bin_end": 63.6,
            "count": 0
           },
           {
            "bin_start": 63.6,
            "bin_end": 68.5,
            "count": 0
           },
           {
            "bin_start": 68.5,
            "bin_end": 73.4,
            "count": 0
           },
           {
            "bin_start": 73.4,
            "bin_end": 78.30000000000001,
            "count": 2
           },
           {
            "bin_start": 78.30000000000001,
            "bin_end": 83.2,
            "count": 0
           },
           {
            "bin_start": 83.2,
            "bin_end": 88.1,
            "count": 1
           },
           {
            "bin_start": 88.1,
            "bin_end": 93,
            "count": 1
           }
          ]
         }
        },
        {
         "name": "_deepnote_index_column",
         "dtype": "int64"
        }
       ],
       "rows": [
        {
         "gender": "female",
         "race/ethnicity": "group B",
         "parental level of education": "bachelor's degree",
         "lunch": "standard",
         "test preparation course": "none",
         "math score": 72,
         "reading score": 72,
         "writing score": 74,
         "_deepnote_index_column": 0
        },
        {
         "gender": "female",
         "race/ethnicity": "group C",
         "parental level of education": "some college",
         "lunch": "standard",
         "test preparation course": "completed",
         "math score": 69,
         "reading score": 90,
         "writing score": 88,
         "_deepnote_index_column": 1
        },
        {
         "gender": "female",
         "race/ethnicity": "group B",
         "parental level of education": "master's degree",
         "lunch": "standard",
         "test preparation course": "none",
         "math score": 90,
         "reading score": 95,
         "writing score": 93,
         "_deepnote_index_column": 2
        },
        {
         "gender": "male",
         "race/ethnicity": "group A",
         "parental level of education": "associate's degree",
         "lunch": "free/reduced",
         "test preparation course": "none",
         "math score": 47,
         "reading score": 57,
         "writing score": 44,
         "_deepnote_index_column": 3
        },
        {
         "gender": "male",
         "race/ethnicity": "group C",
         "parental level of education": "some college",
         "lunch": "standard",
         "test preparation course": "none",
         "math score": 76,
         "reading score": 78,
         "writing score": 75,
         "_deepnote_index_column": 4
        }
       ]
      },
      "text/plain": "   gender race/ethnicity parental level of education         lunch  \\\n0  female        group B           bachelor's degree      standard   \n1  female        group C                some college      standard   \n2  female        group B             master's degree      standard   \n3    male        group A          associate's degree  free/reduced   \n4    male        group C                some college      standard   \n\n  test preparation course  math score  reading score  writing score  \n0                    none          72             72             74  \n1               completed          69             90             88  \n2                    none          90             95             93  \n3                    none          47             57             44  \n4                    none          76             78             75  ",
      "text/html": "<div>\n<style scoped>\n    .dataframe tbody tr th:only-of-type {\n        vertical-align: middle;\n    }\n\n    .dataframe tbody tr th {\n        vertical-align: top;\n    }\n\n    .dataframe thead th {\n        text-align: right;\n    }\n</style>\n<table border=\"1\" class=\"dataframe\">\n  <thead>\n    <tr style=\"text-align: right;\">\n      <th></th>\n      <th>gender</th>\n      <th>race/ethnicity</th>\n      <th>parental level of education</th>\n      <th>lunch</th>\n      <th>test preparation course</th>\n      <th>math score</th>\n      <th>reading score</th>\n      <th>writing score</th>\n    </tr>\n  </thead>\n  <tbody>\n    <tr>\n      <th>0</th>\n      <td>female</td>\n      <td>group B</td>\n      <td>bachelor's degree</td>\n      <td>standard</td>\n      <td>none</td>\n      <td>72</td>\n      <td>72</td>\n      <td>74</td>\n    </tr>\n    <tr>\n      <th>1</th>\n      <td>female</td>\n      <td>group C</td>\n      <td>some college</td>\n      <td>standard</td>\n      <td>completed</td>\n      <td>69</td>\n      <td>90</td>\n      <td>88</td>\n    </tr>\n    <tr>\n      <th>2</th>\n      <td>female</td>\n      <td>group B</td>\n      <td>master's degree</td>\n      <td>standard</td>\n      <td>none</td>\n      <td>90</td>\n      <td>95</td>\n      <td>93</td>\n    </tr>\n    <tr>\n      <th>3</th>\n      <td>male</td>\n      <td>group A</td>\n      <td>associate's degree</td>\n      <td>free/reduced</td>\n      <td>none</td>\n      <td>47</td>\n      <td>57</td>\n      <td>44</td>\n    </tr>\n    <tr>\n      <th>4</th>\n      <td>male</td>\n      <td>group C</td>\n      <td>some college</td>\n      <td>standard</td>\n      <td>none</td>\n      <td>76</td>\n      <td>78</td>\n      <td>75</td>\n    </tr>\n  </tbody>\n</table>\n</div>"
     },
     "metadata": {}
    }
   ],
   "execution_count": null
  },
  {
   "cell_type": "markdown",
   "source": "Este método nos permite conocer las 5 primeras filas del DataFrame y nos da una mirada inicial a lo que hay dentro de él.\n\n### Reto: crea otro DataFrame desde un CSV\n\n1. Explora Kaggle.com y busca algún otro dataset en archivo CSV.\n\n2. Carga ese archivo a un DataFrame.\n\n3. Comparte en los comentarios una captura de pantalla de lo que observas al ejecutar el método `.head()`.\n\n---\n\nIncreíble, ya cargaste tus primeros datasets desde archivos y comenzaste a explorarlos. \n\nEste es solo el primer paso de la exploración. Necesitamos conocer diferentes métodos para inspeccionar con más detalle nuestro DataFrame.",
   "metadata": {
    "cell_id": "aef486c9-e889-4416-94d9-985f4a7d77cf",
    "tags": [],
    "deepnote_cell_type": "markdown"
   }
  },
  {
   "cell_type": "markdown",
   "source": "## Explorar un DataFrame\n\nPara analizar datos dentro de un DataFrame primero debemos hacer una inspección. Esto nos sirve para conocer su forma, tener algunas estadísticas descriptivas, ver sus últimos o primeros registros, etc.\n\nPara ello existen métodos de Pandas que conoceremos a continuación.\n\n### .head()\n\n`df.head()` lo conociste en la clase anterior y retorna las 5 primeras filas. También podemos darle un entero como parámetro y devolverá esa cantidad de primeras filas dentro del notebook.\n\n",
   "metadata": {
    "cell_id": "1f96933a-996e-4cf9-bf2a-4acb86fa3fdd",
    "tags": [],
    "deepnote_cell_type": "markdown"
   }
  },
  {
   "cell_type": "code",
   "source": "df.head(10)",
   "metadata": {
    "cell_id": "5a48ec29-d464-4b65-b8a3-87762d693670",
    "tags": [],
    "deepnote_to_be_reexecuted": false,
    "source_hash": "f30f989a",
    "execution_start": 1644026730806,
    "execution_millis": 10,
    "deepnote_cell_type": "code"
   },
   "outputs": [
    {
     "output_type": "execute_result",
     "execution_count": 8,
     "data": {
      "application/vnd.deepnote.dataframe.v3+json": {
       "column_count": 8,
       "row_count": 10,
       "columns": [
        {
         "name": "gender",
         "dtype": "object",
         "stats": {
          "unique_count": 2,
          "nan_count": 0,
          "categories": [
           {
            "name": "female",
            "count": 6
           },
           {
            "name": "male",
            "count": 4
           }
          ]
         }
        },
        {
         "name": "race/ethnicity",
         "dtype": "object",
         "stats": {
          "unique_count": 4,
          "nan_count": 0,
          "categories": [
           {
            "name": "group B",
            "count": 6
           },
           {
            "name": "group C",
            "count": 2
           },
           {
            "name": "2 others",
            "count": 2
           }
          ]
         }
        },
        {
         "name": "parental level of education",
         "dtype": "object",
         "stats": {
          "unique_count": 5,
          "nan_count": 0,
          "categories": [
           {
            "name": "some college",
            "count": 4
           },
           {
            "name": "associate's degree",
            "count": 2
           },
           {
            "name": "3 others",
            "count": 4
           }
          ]
         }
        },
        {
         "name": "lunch",
         "dtype": "object",
         "stats": {
          "unique_count": 2,
          "nan_count": 0,
          "categories": [
           {
            "name": "standard",
            "count": 6
           },
           {
            "name": "free/reduced",
            "count": 4
           }
          ]
         }
        },
        {
         "name": "test preparation course",
         "dtype": "object",
         "stats": {
          "unique_count": 2,
          "nan_count": 0,
          "categories": [
           {
            "name": "none",
            "count": 7
           },
           {
            "name": "completed",
            "count": 3
           }
          ]
         }
        },
        {
         "name": "math score",
         "dtype": "int64",
         "stats": {
          "unique_count": 10,
          "nan_count": 0,
          "min": "38",
          "max": "90",
          "histogram": [
           {
            "bin_start": 38,
            "bin_end": 43.2,
            "count": 2
           },
           {
            "bin_start": 43.2,
            "bin_end": 48.4,
            "count": 1
           },
           {
            "bin_start": 48.4,
            "bin_end": 53.6,
            "count": 0
           },
           {
            "bin_start": 53.6,
            "bin_end": 58.8,
            "count": 0
           },
           {
            "bin_start": 58.8,
            "bin_end": 64,
            "count": 0
           },
           {
            "bin_start": 64,
            "bin_end": 69.2,
            "count": 2
           },
           {
            "bin_start": 69.2,
            "bin_end": 74.4,
            "count": 2
           },
           {
            "bin_start": 74.4,
            "bin_end": 79.6,
            "count": 1
           },
           {
            "bin_start": 79.6,
            "bin_end": 84.80000000000001,
            "count": 0
           },
           {
            "bin_start": 84.80000000000001,
            "bin_end": 90,
            "count": 2
           }
          ]
         }
        },
        {
         "name": "reading score",
         "dtype": "int64",
         "stats": {
          "unique_count": 9,
          "nan_count": 0,
          "min": "43",
          "max": "95",
          "histogram": [
           {
            "bin_start": 43,
            "bin_end": 48.2,
            "count": 1
           },
           {
            "bin_start": 48.2,
            "bin_end": 53.4,
            "count": 0
           },
           {
            "bin_start": 53.4,
            "bin_end": 58.6,
            "count": 1
           },
           {
            "bin_start": 58.6,
            "bin_end": 63.8,
            "count": 1
           },
           {
            "bin_start": 63.8,
            "bin_end": 69,
            "count": 1
           },
           {
            "bin_start": 69,
            "bin_end": 74.2,
            "count": 1
           },
           {
            "bin_start": 74.2,
            "bin_end": 79.4,
            "count": 1
           },
           {
            "bin_start": 79.4,
            "bin_end": 84.6,
            "count": 1
           },
           {
            "bin_start": 84.6,
            "bin_end": 89.80000000000001,
            "count": 0
           },
           {
            "bin_start": 89.80000000000001,
            "bin_end": 95,
            "count": 3
           }
          ]
         }
        },
        {
         "name": "writing score",
         "dtype": "int64",
         "stats": {
          "unique_count": 10,
          "nan_count": 0,
          "min": "39",
          "max": "93",
          "histogram": [
           {
            "bin_start": 39,
            "bin_end": 44.4,
            "count": 2
           },
           {
            "bin_start": 44.4,
            "bin_end": 49.8,
            "count": 0
           },
           {
            "bin_start": 49.8,
            "bin_end": 55.2,
            "count": 1
           },
           {
            "bin_start": 55.2,
            "bin_end": 60.6,
            "count": 0
           },
           {
            "bin_start": 60.6,
            "bin_end": 66,
            "count": 0
           },
           {
            "bin_start": 66,
            "bin_end": 71.4,
            "count": 1
           },
           {
            "bin_start": 71.4,
            "bin_end": 76.80000000000001,
            "count": 2
           },
           {
            "bin_start": 76.80000000000001,
            "bin_end": 82.2,
            "count": 1
           },
           {
            "bin_start": 82.2,
            "bin_end": 87.6,
            "count": 0
           },
           {
            "bin_start": 87.6,
            "bin_end": 93,
            "count": 3
           }
          ]
         }
        },
        {
         "name": "_deepnote_index_column",
         "dtype": "int64"
        }
       ],
       "rows": [
        {
         "gender": "female",
         "race/ethnicity": "group B",
         "parental level of education": "bachelor's degree",
         "lunch": "standard",
         "test preparation course": "none",
         "math score": 72,
         "reading score": 72,
         "writing score": 74,
         "_deepnote_index_column": 0
        },
        {
         "gender": "female",
         "race/ethnicity": "group C",
         "parental level of education": "some college",
         "lunch": "standard",
         "test preparation course": "completed",
         "math score": 69,
         "reading score": 90,
         "writing score": 88,
         "_deepnote_index_column": 1
        },
        {
         "gender": "female",
         "race/ethnicity": "group B",
         "parental level of education": "master's degree",
         "lunch": "standard",
         "test preparation course": "none",
         "math score": 90,
         "reading score": 95,
         "writing score": 93,
         "_deepnote_index_column": 2
        },
        {
         "gender": "male",
         "race/ethnicity": "group A",
         "parental level of education": "associate's degree",
         "lunch": "free/reduced",
         "test preparation course": "none",
         "math score": 47,
         "reading score": 57,
         "writing score": 44,
         "_deepnote_index_column": 3
        },
        {
         "gender": "male",
         "race/ethnicity": "group C",
         "parental level of education": "some college",
         "lunch": "standard",
         "test preparation course": "none",
         "math score": 76,
         "reading score": 78,
         "writing score": 75,
         "_deepnote_index_column": 4
        },
        {
         "gender": "female",
         "race/ethnicity": "group B",
         "parental level of education": "associate's degree",
         "lunch": "standard",
         "test preparation course": "none",
         "math score": 71,
         "reading score": 83,
         "writing score": 78,
         "_deepnote_index_column": 5
        },
        {
         "gender": "female",
         "race/ethnicity": "group B",
         "parental level of education": "some college",
         "lunch": "standard",
         "test preparation course": "completed",
         "math score": 88,
         "reading score": 95,
         "writing score": 92,
         "_deepnote_index_column": 6
        },
        {
         "gender": "male",
         "race/ethnicity": "group B",
         "parental level of education": "some college",
         "lunch": "free/reduced",
         "test preparation course": "none",
         "math score": 40,
         "reading score": 43,
         "writing score": 39,
         "_deepnote_index_column": 7
        },
        {
         "gender": "male",
         "race/ethnicity": "group D",
         "parental level of education": "high school",
         "lunch": "free/reduced",
         "test preparation course": "completed",
         "math score": 64,
         "reading score": 64,
         "writing score": 67,
         "_deepnote_index_column": 8
        },
        {
         "gender": "female",
         "race/ethnicity": "group B",
         "parental level of education": "high school",
         "lunch": "free/reduced",
         "test preparation course": "none",
         "math score": 38,
         "reading score": 60,
         "writing score": 50,
         "_deepnote_index_column": 9
        }
       ]
      },
      "text/plain": "   gender race/ethnicity parental level of education         lunch  \\\n0  female        group B           bachelor's degree      standard   \n1  female        group C                some college      standard   \n2  female        group B             master's degree      standard   \n3    male        group A          associate's degree  free/reduced   \n4    male        group C                some college      standard   \n5  female        group B          associate's degree      standard   \n6  female        group B                some college      standard   \n7    male        group B                some college  free/reduced   \n8    male        group D                 high school  free/reduced   \n9  female        group B                 high school  free/reduced   \n\n  test preparation course  math score  reading score  writing score  \n0                    none          72             72             74  \n1               completed          69             90             88  \n2                    none          90             95             93  \n3                    none          47             57             44  \n4                    none          76             78             75  \n5                    none          71             83             78  \n6               completed          88             95             92  \n7                    none          40             43             39  \n8               completed          64             64             67  \n9                    none          38             60             50  ",
      "text/html": "<div>\n<style scoped>\n    .dataframe tbody tr th:only-of-type {\n        vertical-align: middle;\n    }\n\n    .dataframe tbody tr th {\n        vertical-align: top;\n    }\n\n    .dataframe thead th {\n        text-align: right;\n    }\n</style>\n<table border=\"1\" class=\"dataframe\">\n  <thead>\n    <tr style=\"text-align: right;\">\n      <th></th>\n      <th>gender</th>\n      <th>race/ethnicity</th>\n      <th>parental level of education</th>\n      <th>lunch</th>\n      <th>test preparation course</th>\n      <th>math score</th>\n      <th>reading score</th>\n      <th>writing score</th>\n    </tr>\n  </thead>\n  <tbody>\n    <tr>\n      <th>0</th>\n      <td>female</td>\n      <td>group B</td>\n      <td>bachelor's degree</td>\n      <td>standard</td>\n      <td>none</td>\n      <td>72</td>\n      <td>72</td>\n      <td>74</td>\n    </tr>\n    <tr>\n      <th>1</th>\n      <td>female</td>\n      <td>group C</td>\n      <td>some college</td>\n      <td>standard</td>\n      <td>completed</td>\n      <td>69</td>\n      <td>90</td>\n      <td>88</td>\n    </tr>\n    <tr>\n      <th>2</th>\n      <td>female</td>\n      <td>group B</td>\n      <td>master's degree</td>\n      <td>standard</td>\n      <td>none</td>\n      <td>90</td>\n      <td>95</td>\n      <td>93</td>\n    </tr>\n    <tr>\n      <th>3</th>\n      <td>male</td>\n      <td>group A</td>\n      <td>associate's degree</td>\n      <td>free/reduced</td>\n      <td>none</td>\n      <td>47</td>\n      <td>57</td>\n      <td>44</td>\n    </tr>\n    <tr>\n      <th>4</th>\n      <td>male</td>\n      <td>group C</td>\n      <td>some college</td>\n      <td>standard</td>\n      <td>none</td>\n      <td>76</td>\n      <td>78</td>\n      <td>75</td>\n    </tr>\n    <tr>\n      <th>5</th>\n      <td>female</td>\n      <td>group B</td>\n      <td>associate's degree</td>\n      <td>standard</td>\n      <td>none</td>\n      <td>71</td>\n      <td>83</td>\n      <td>78</td>\n    </tr>\n    <tr>\n      <th>6</th>\n      <td>female</td>\n      <td>group B</td>\n      <td>some college</td>\n      <td>standard</td>\n      <td>completed</td>\n      <td>88</td>\n      <td>95</td>\n      <td>92</td>\n    </tr>\n    <tr>\n      <th>7</th>\n      <td>male</td>\n      <td>group B</td>\n      <td>some college</td>\n      <td>free/reduced</td>\n      <td>none</td>\n      <td>40</td>\n      <td>43</td>\n      <td>39</td>\n    </tr>\n    <tr>\n      <th>8</th>\n      <td>male</td>\n      <td>group D</td>\n      <td>high school</td>\n      <td>free/reduced</td>\n      <td>completed</td>\n      <td>64</td>\n      <td>64</td>\n      <td>67</td>\n    </tr>\n    <tr>\n      <th>9</th>\n      <td>female</td>\n      <td>group B</td>\n      <td>high school</td>\n      <td>free/reduced</td>\n      <td>none</td>\n      <td>38</td>\n      <td>60</td>\n      <td>50</td>\n    </tr>\n  </tbody>\n</table>\n</div>"
     },
     "metadata": {}
    }
   ],
   "execution_count": null
  },
  {
   "cell_type": "markdown",
   "source": "### .tail()\n\n`df.tail()` retorna las 5 últimas  filas. También podemos darle un entero como parámetro y devolverá esa cantidad de últimas filas.\n",
   "metadata": {
    "cell_id": "6d6cb7ba-e25c-4d9f-8a8c-513c09c73196",
    "tags": [],
    "deepnote_cell_type": "markdown"
   }
  },
  {
   "cell_type": "code",
   "source": "df.tail()",
   "metadata": {
    "cell_id": "c602c99d-1934-4227-8892-e2980758b4e5",
    "tags": [],
    "deepnote_to_be_reexecuted": false,
    "source_hash": "838c0c28",
    "execution_start": 1644026850971,
    "deepnote_cell_type": "code"
   },
   "outputs": [
    {
     "output_type": "execute_result",
     "execution_count": 9,
     "data": {
      "application/vnd.deepnote.dataframe.v3+json": {
       "column_count": 8,
       "row_count": 5,
       "columns": [
        {
         "name": "gender",
         "dtype": "object",
         "stats": {
          "unique_count": 2,
          "nan_count": 0,
          "categories": [
           {
            "name": "female",
            "count": 4
           },
           {
            "name": "male",
            "count": 1
           }
          ]
         }
        },
        {
         "name": "race/ethnicity",
         "dtype": "object",
         "stats": {
          "unique_count": 3,
          "nan_count": 0,
          "categories": [
           {
            "name": "group C",
            "count": 2
           },
           {
            "name": "group D",
            "count": 2
           },
           {
            "name": "group E",
            "count": 1
           }
          ]
         }
        },
        {
         "name": "parental level of education",
         "dtype": "object",
         "stats": {
          "unique_count": 3,
          "nan_count": 0,
          "categories": [
           {
            "name": "high school",
            "count": 2
           },
           {
            "name": "some college",
            "count": 2
           },
           {
            "name": "master's degree",
            "count": 1
           }
          ]
         }
        },
        {
         "name": "lunch",
         "dtype": "object",
         "stats": {
          "unique_count": 2,
          "nan_count": 0,
          "categories": [
           {
            "name": "free/reduced",
            "count": 3
           },
           {
            "name": "standard",
            "count": 2
           }
          ]
         }
        },
        {
         "name": "test preparation course",
         "dtype": "object",
         "stats": {
          "unique_count": 2,
          "nan_count": 0,
          "categories": [
           {
            "name": "completed",
            "count": 3
           },
           {
            "name": "none",
            "count": 2
           }
          ]
         }
        },
        {
         "name": "math score",
         "dtype": "int64",
         "stats": {
          "unique_count": 5,
          "nan_count": 0,
          "min": "59",
          "max": "88",
          "histogram": [
           {
            "bin_start": 59,
            "bin_end": 61.9,
            "count": 1
           },
           {
            "bin_start": 61.9,
            "bin_end": 64.8,
            "count": 1
           },
           {
            "bin_start": 64.8,
            "bin_end": 67.7,
            "count": 0
           },
           {
            "bin_start": 67.7,
            "bin_end": 70.6,
            "count": 1
           },
           {
            "bin_start": 70.6,
            "bin_end": 73.5,
            "count": 0
           },
           {
            "bin_start": 73.5,
            "bin_end": 76.4,
            "count": 0
           },
           {
            "bin_start": 76.4,
            "bin_end": 79.3,
            "count": 1
           },
           {
            "bin_start": 79.3,
            "bin_end": 82.2,
            "count": 0
           },
           {
            "bin_start": 82.2,
            "bin_end": 85.1,
            "count": 0
           },
           {
            "bin_start": 85.1,
            "bin_end": 88,
            "count": 1
           }
          ]
         }
        },
        {
         "name": "reading score",
         "dtype": "int64",
         "stats": {
          "unique_count": 5,
          "nan_count": 0,
          "min": "55",
          "max": "99",
          "histogram": [
           {
            "bin_start": 55,
            "bin_end": 59.4,
            "count": 1
           },
           {
            "bin_start": 59.4,
            "bin_end": 63.8,
            "count": 0
           },
           {
            "bin_start": 63.8,
            "bin_end": 68.2,
            "count": 0
           },
           {
            "bin_start": 68.2,
            "bin_end": 72.6,
            "count": 1
           },
           {
            "bin_start": 72.6,
            "bin_end": 77,
            "count": 0
           },
           {
            "bin_start": 77,
            "bin_end": 81.4,
            "count": 1
           },
           {
            "bin_start": 81.4,
            "bin_end": 85.80000000000001,
            "count": 0
           },
           {
            "bin_start": 85.80000000000001,
            "bin_end": 90.2,
            "count": 1
           },
           {
            "bin_start": 90.2,
            "bin_end": 94.6,
            "count": 0
           },
           {
            "bin_start": 94.6,
            "bin_end": 99,
            "count": 1
           }
          ]
         }
        },
        {
         "name": "writing score",
         "dtype": "int64",
         "stats": {
          "unique_count": 5,
          "nan_count": 0,
          "min": "55",
          "max": "95",
          "histogram": [
           {
            "bin_start": 55,
            "bin_end": 59,
            "count": 1
           },
           {
            "bin_start": 59,
            "bin_end": 63,
            "count": 0
           },
           {
            "bin_start": 63,
            "bin_end": 67,
            "count": 1
           },
           {
            "bin_start": 67,
            "bin_end": 71,
            "count": 0
           },
           {
            "bin_start": 71,
            "bin_end": 75,
            "count": 0
           },
           {
            "bin_start": 75,
            "bin_end": 79,
            "count": 1
           },
           {
            "bin_start": 79,
            "bin_end": 83,
            "count": 0
           },
           {
            "bin_start": 83,
            "bin_end": 87,
            "count": 1
           },
           {
            "bin_start": 87,
            "bin_end": 91,
            "count": 0
           },
           {
            "bin_start": 91,
            "bin_end": 95,
            "count": 1
           }
          ]
         }
        },
        {
         "name": "_deepnote_index_column",
         "dtype": "int64"
        }
       ],
       "rows": [
        {
         "gender": "female",
         "race/ethnicity": "group E",
         "parental level of education": "master's degree",
         "lunch": "standard",
         "test preparation course": "completed",
         "math score": 88,
         "reading score": 99,
         "writing score": 95,
         "_deepnote_index_column": 995
        },
        {
         "gender": "male",
         "race/ethnicity": "group C",
         "parental level of education": "high school",
         "lunch": "free/reduced",
         "test preparation course": "none",
         "math score": 62,
         "reading score": 55,
         "writing score": 55,
         "_deepnote_index_column": 996
        },
        {
         "gender": "female",
         "race/ethnicity": "group C",
         "parental level of education": "high school",
         "lunch": "free/reduced",
         "test preparation course": "completed",
         "math score": 59,
         "reading score": 71,
         "writing score": 65,
         "_deepnote_index_column": 997
        },
        {
         "gender": "female",
         "race/ethnicity": "group D",
         "parental level of education": "some college",
         "lunch": "standard",
         "test preparation course": "completed",
         "math score": 68,
         "reading score": 78,
         "writing score": 77,
         "_deepnote_index_column": 998
        },
        {
         "gender": "female",
         "race/ethnicity": "group D",
         "parental level of education": "some college",
         "lunch": "free/reduced",
         "test preparation course": "none",
         "math score": 77,
         "reading score": 86,
         "writing score": 86,
         "_deepnote_index_column": 999
        }
       ]
      },
      "text/plain": "     gender race/ethnicity parental level of education         lunch  \\\n995  female        group E             master's degree      standard   \n996    male        group C                 high school  free/reduced   \n997  female        group C                 high school  free/reduced   \n998  female        group D                some college      standard   \n999  female        group D                some college  free/reduced   \n\n    test preparation course  math score  reading score  writing score  \n995               completed          88             99             95  \n996                    none          62             55             55  \n997               completed          59             71             65  \n998               completed          68             78             77  \n999                    none          77             86             86  ",
      "text/html": "<div>\n<style scoped>\n    .dataframe tbody tr th:only-of-type {\n        vertical-align: middle;\n    }\n\n    .dataframe tbody tr th {\n        vertical-align: top;\n    }\n\n    .dataframe thead th {\n        text-align: right;\n    }\n</style>\n<table border=\"1\" class=\"dataframe\">\n  <thead>\n    <tr style=\"text-align: right;\">\n      <th></th>\n      <th>gender</th>\n      <th>race/ethnicity</th>\n      <th>parental level of education</th>\n      <th>lunch</th>\n      <th>test preparation course</th>\n      <th>math score</th>\n      <th>reading score</th>\n      <th>writing score</th>\n    </tr>\n  </thead>\n  <tbody>\n    <tr>\n      <th>995</th>\n      <td>female</td>\n      <td>group E</td>\n      <td>master's degree</td>\n      <td>standard</td>\n      <td>completed</td>\n      <td>88</td>\n      <td>99</td>\n      <td>95</td>\n    </tr>\n    <tr>\n      <th>996</th>\n      <td>male</td>\n      <td>group C</td>\n      <td>high school</td>\n      <td>free/reduced</td>\n      <td>none</td>\n      <td>62</td>\n      <td>55</td>\n      <td>55</td>\n    </tr>\n    <tr>\n      <th>997</th>\n      <td>female</td>\n      <td>group C</td>\n      <td>high school</td>\n      <td>free/reduced</td>\n      <td>completed</td>\n      <td>59</td>\n      <td>71</td>\n      <td>65</td>\n    </tr>\n    <tr>\n      <th>998</th>\n      <td>female</td>\n      <td>group D</td>\n      <td>some college</td>\n      <td>standard</td>\n      <td>completed</td>\n      <td>68</td>\n      <td>78</td>\n      <td>77</td>\n    </tr>\n    <tr>\n      <th>999</th>\n      <td>female</td>\n      <td>group D</td>\n      <td>some college</td>\n      <td>free/reduced</td>\n      <td>none</td>\n      <td>77</td>\n      <td>86</td>\n      <td>86</td>\n    </tr>\n  </tbody>\n</table>\n</div>"
     },
     "metadata": {}
    }
   ],
   "execution_count": null
  },
  {
   "cell_type": "markdown",
   "source": "### .sample()\n\n`df.sample()` retorna filas como los dos métodos anteriores, pero toma muestras al azar del DataFrame y es necesario espeficiar en el parámetro la cantidad de filas.",
   "metadata": {
    "cell_id": "e546466d-d390-4f2e-b48a-cd62c08b236c",
    "tags": [],
    "deepnote_cell_type": "markdown"
   }
  },
  {
   "cell_type": "code",
   "source": "df.sample(7)",
   "metadata": {
    "cell_id": "d05cae5c-a3fa-4ea2-961e-04c91539d6cf",
    "tags": [],
    "deepnote_to_be_reexecuted": false,
    "source_hash": "c4900faa",
    "execution_start": 1644026953345,
    "execution_millis": 388,
    "deepnote_cell_type": "code"
   },
   "outputs": [
    {
     "output_type": "execute_result",
     "execution_count": 10,
     "data": {
      "application/vnd.deepnote.dataframe.v3+json": {
       "column_count": 8,
       "row_count": 7,
       "columns": [
        {
         "name": "gender",
         "dtype": "object",
         "stats": {
          "unique_count": 2,
          "nan_count": 0,
          "categories": [
           {
            "name": "female",
            "count": 4
           },
           {
            "name": "male",
            "count": 3
           }
          ]
         }
        },
        {
         "name": "race/ethnicity",
         "dtype": "object",
         "stats": {
          "unique_count": 4,
          "nan_count": 0,
          "categories": [
           {
            "name": "group C",
            "count": 3
           },
           {
            "name": "group D",
            "count": 2
           },
           {
            "name": "2 others",
            "count": 2
           }
          ]
         }
        },
        {
         "name": "parental level of education",
         "dtype": "object",
         "stats": {
          "unique_count": 4,
          "nan_count": 0,
          "categories": [
           {
            "name": "some college",
            "count": 3
           },
           {
            "name": "associate's degree",
            "count": 2
           },
           {
            "name": "2 others",
            "count": 2
           }
          ]
         }
        },
        {
         "name": "lunch",
         "dtype": "object",
         "stats": {
          "unique_count": 2,
          "nan_count": 0,
          "categories": [
           {
            "name": "standard",
            "count": 6
           },
           {
            "name": "free/reduced",
            "count": 1
           }
          ]
         }
        },
        {
         "name": "test preparation course",
         "dtype": "object",
         "stats": {
          "unique_count": 2,
          "nan_count": 0,
          "categories": [
           {
            "name": "none",
            "count": 6
           },
           {
            "name": "completed",
            "count": 1
           }
          ]
         }
        },
        {
         "name": "math score",
         "dtype": "int64",
         "stats": {
          "unique_count": 7,
          "nan_count": 0,
          "min": "59",
          "max": "91",
          "histogram": [
           {
            "bin_start": 59,
            "bin_end": 62.2,
            "count": 2
           },
           {
            "bin_start": 62.2,
            "bin_end": 65.4,
            "count": 0
           },
           {
            "bin_start": 65.4,
            "bin_end": 68.6,
            "count": 0
           },
           {
            "bin_start": 68.6,
            "bin_end": 71.8,
            "count": 1
           },
           {
            "bin_start": 71.8,
            "bin_end": 75,
            "count": 1
           },
           {
            "bin_start": 75,
            "bin_end": 78.2,
            "count": 0
           },
           {
            "bin_start": 78.2,
            "bin_end": 81.4,
            "count": 0
           },
           {
            "bin_start": 81.4,
            "bin_end": 84.6,
            "count": 1
           },
           {
            "bin_start": 84.6,
            "bin_end": 87.8,
            "count": 0
           },
           {
            "bin_start": 87.8,
            "bin_end": 91,
            "count": 2
           }
          ]
         }
        },
        {
         "name": "reading score",
         "dtype": "int64",
         "stats": {
          "unique_count": 7,
          "nan_count": 0,
          "min": "66",
          "max": "90",
          "histogram": [
           {
            "bin_start": 66,
            "bin_end": 68.4,
            "count": 2
           },
           {
            "bin_start": 68.4,
            "bin_end": 70.8,
            "count": 1
           },
           {
            "bin_start": 70.8,
            "bin_end": 73.2,
            "count": 0
           },
           {
            "bin_start": 73.2,
            "bin_end": 75.6,
            "count": 1
           },
           {
            "bin_start": 75.6,
            "bin_end": 78,
            "count": 1
           },
           {
            "bin_start": 78,
            "bin_end": 80.4,
            "count": 1
           },
           {
            "bin_start": 80.4,
            "bin_end": 82.8,
            "count": 0
           },
           {
            "bin_start": 82.8,
            "bin_end": 85.2,
            "count": 0
           },
           {
            "bin_start": 85.2,
            "bin_end": 87.6,
            "count": 0
           },
           {
            "bin_start": 87.6,
            "bin_end": 90,
            "count": 1
           }
          ]
         }
        },
        {
         "name": "writing score",
         "dtype": "int64",
         "stats": {
          "unique_count": 7,
          "nan_count": 0,
          "min": "60",
          "max": "91",
          "histogram": [
           {
            "bin_start": 60,
            "bin_end": 63.1,
            "count": 1
           },
           {
            "bin_start": 63.1,
            "bin_end": 66.2,
            "count": 1
           },
           {
            "bin_start": 66.2,
            "bin_end": 69.3,
            "count": 1
           },
           {
            "bin_start": 69.3,
            "bin_end": 72.4,
            "count": 0
           },
           {
            "bin_start": 72.4,
            "bin_end": 75.5,
            "count": 1
           },
           {
            "bin_start": 75.5,
            "bin_end": 78.6,
            "count": 1
           },
           {
            "bin_start": 78.6,
            "bin_end": 81.7,
            "count": 0
           },
           {
            "bin_start": 81.7,
            "bin_end": 84.8,
            "count": 1
           },
           {
            "bin_start": 84.8,
            "bin_end": 87.9,
            "count": 0
           },
           {
            "bin_start": 87.9,
            "bin_end": 91,
            "count": 1
           }
          ]
         }
        },
        {
         "name": "_deepnote_index_column",
         "dtype": "int64"
        }
       ],
       "rows": [
        {
         "gender": "female",
         "race/ethnicity": "group C",
         "parental level of education": "some college",
         "lunch": "standard",
         "test preparation course": "none",
         "math score": 73,
         "reading score": 80,
         "writing score": 82,
         "_deepnote_index_column": 85
        },
        {
         "gender": "female",
         "race/ethnicity": "group D",
         "parental level of education": "associate's degree",
         "lunch": "standard",
         "test preparation course": "none",
         "math score": 59,
         "reading score": 70,
         "writing score": 65,
         "_deepnote_index_column": 646
        },
        {
         "gender": "male",
         "race/ethnicity": "group C",
         "parental level of education": "high school",
         "lunch": "standard",
         "test preparation course": "none",
         "math score": 84,
         "reading score": 77,
         "writing score": 74,
         "_deepnote_index_column": 115
        },
        {
         "gender": "female",
         "race/ethnicity": "group B",
         "parental level of education": "associate's degree",
         "lunch": "standard",
         "test preparation course": "completed",
         "math score": 90,
         "reading score": 90,
         "writing score": 91,
         "_deepnote_index_column": 474
        },
        {
         "gender": "male",
         "race/ethnicity": "group D",
         "parental level of education": "some college",
         "lunch": "free/reduced",
         "test preparation course": "none",
         "math score": 69,
         "reading score": 66,
         "writing score": 60,
         "_deepnote_index_column": 446
        },
        {
         "gender": "male",
         "race/ethnicity": "group C",
         "parental level of education": "some college",
         "lunch": "standard",
         "test preparation course": "none",
         "math score": 91,
         "reading score": 74,
         "writing score": 76,
         "_deepnote_index_column": 469
        },
        {
         "gender": "female",
         "race/ethnicity": "group E",
         "parental level of education": "master's degree",
         "lunch": "standard",
         "test preparation course": "none",
         "math score": 62,
         "reading score": 68,
         "writing score": 68,
         "_deepnote_index_column": 79
        }
       ]
      },
      "text/plain": "     gender race/ethnicity parental level of education         lunch  \\\n85   female        group C                some college      standard   \n646  female        group D          associate's degree      standard   \n115    male        group C                 high school      standard   \n474  female        group B          associate's degree      standard   \n446    male        group D                some college  free/reduced   \n469    male        group C                some college      standard   \n79   female        group E             master's degree      standard   \n\n    test preparation course  math score  reading score  writing score  \n85                     none          73             80             82  \n646                    none          59             70             65  \n115                    none          84             77             74  \n474               completed          90             90             91  \n446                    none          69             66             60  \n469                    none          91             74             76  \n79                     none          62             68             68  ",
      "text/html": "<div>\n<style scoped>\n    .dataframe tbody tr th:only-of-type {\n        vertical-align: middle;\n    }\n\n    .dataframe tbody tr th {\n        vertical-align: top;\n    }\n\n    .dataframe thead th {\n        text-align: right;\n    }\n</style>\n<table border=\"1\" class=\"dataframe\">\n  <thead>\n    <tr style=\"text-align: right;\">\n      <th></th>\n      <th>gender</th>\n      <th>race/ethnicity</th>\n      <th>parental level of education</th>\n      <th>lunch</th>\n      <th>test preparation course</th>\n      <th>math score</th>\n      <th>reading score</th>\n      <th>writing score</th>\n    </tr>\n  </thead>\n  <tbody>\n    <tr>\n      <th>85</th>\n      <td>female</td>\n      <td>group C</td>\n      <td>some college</td>\n      <td>standard</td>\n      <td>none</td>\n      <td>73</td>\n      <td>80</td>\n      <td>82</td>\n    </tr>\n    <tr>\n      <th>646</th>\n      <td>female</td>\n      <td>group D</td>\n      <td>associate's degree</td>\n      <td>standard</td>\n      <td>none</td>\n      <td>59</td>\n      <td>70</td>\n      <td>65</td>\n    </tr>\n    <tr>\n      <th>115</th>\n      <td>male</td>\n      <td>group C</td>\n      <td>high school</td>\n      <td>standard</td>\n      <td>none</td>\n      <td>84</td>\n      <td>77</td>\n      <td>74</td>\n    </tr>\n    <tr>\n      <th>474</th>\n      <td>female</td>\n      <td>group B</td>\n      <td>associate's degree</td>\n      <td>standard</td>\n      <td>completed</td>\n      <td>90</td>\n      <td>90</td>\n      <td>91</td>\n    </tr>\n    <tr>\n      <th>446</th>\n      <td>male</td>\n      <td>group D</td>\n      <td>some college</td>\n      <td>free/reduced</td>\n      <td>none</td>\n      <td>69</td>\n      <td>66</td>\n      <td>60</td>\n    </tr>\n    <tr>\n      <th>469</th>\n      <td>male</td>\n      <td>group C</td>\n      <td>some college</td>\n      <td>standard</td>\n      <td>none</td>\n      <td>91</td>\n      <td>74</td>\n      <td>76</td>\n    </tr>\n    <tr>\n      <th>79</th>\n      <td>female</td>\n      <td>group E</td>\n      <td>master's degree</td>\n      <td>standard</td>\n      <td>none</td>\n      <td>62</td>\n      <td>68</td>\n      <td>68</td>\n    </tr>\n  </tbody>\n</table>\n</div>"
     },
     "metadata": {}
    }
   ],
   "execution_count": null
  },
  {
   "cell_type": "markdown",
   "source": "### .shape\n\n`df.shape` retorna la cantidad de filas y columnas que tiene el DataFrame en ese orden.",
   "metadata": {
    "cell_id": "5752e201-65a4-4605-a8b5-d40e06943c5d",
    "tags": [],
    "deepnote_cell_type": "markdown"
   }
  },
  {
   "cell_type": "code",
   "source": "df.shape",
   "metadata": {
    "cell_id": "cc34153e-589b-44e7-849a-28443eed7e72",
    "tags": [],
    "deepnote_to_be_reexecuted": false,
    "source_hash": "14f60b8f",
    "execution_start": 1644026996256,
    "execution_millis": 10,
    "deepnote_output_heights": [
     21.1875
    ],
    "deepnote_cell_type": "code"
   },
   "outputs": [
    {
     "output_type": "execute_result",
     "execution_count": 11,
     "data": {
      "text/plain": "(1000, 8)"
     },
     "metadata": {}
    }
   ],
   "execution_count": null
  },
  {
   "cell_type": "markdown",
   "source": "### .size\n\n`df.size` multiplica las filas y columnas y te da el total de datos del DataFrame.",
   "metadata": {
    "cell_id": "73fe3e23-7e75-4558-b43e-30092d268096",
    "tags": [],
    "deepnote_cell_type": "markdown"
   }
  },
  {
   "cell_type": "code",
   "source": "df.size",
   "metadata": {
    "cell_id": "afc68a49-002f-4b37-9426-b06f44386629",
    "tags": [],
    "deepnote_to_be_reexecuted": false,
    "source_hash": "33bf4493",
    "execution_start": 1644027058552,
    "execution_millis": 6,
    "deepnote_output_heights": [
     21.1875
    ],
    "deepnote_cell_type": "code"
   },
   "outputs": [
    {
     "output_type": "execute_result",
     "execution_count": 12,
     "data": {
      "text/plain": "8000"
     },
     "metadata": {}
    }
   ],
   "execution_count": null
  },
  {
   "cell_type": "markdown",
   "source": "### .info()\n\n`df.info()` da la cuenta de valores no nulos, el tipo de dato de cada columna (recuerda que solo puede haber un único tipo de dato por columna) y el uso de memoria.",
   "metadata": {
    "cell_id": "beefb3e4-4d08-41d5-bad5-45fc0b4687d1",
    "tags": [],
    "deepnote_cell_type": "markdown"
   }
  },
  {
   "cell_type": "code",
   "source": "df.info()",
   "metadata": {
    "cell_id": "68bc186e-4621-4823-b80a-f57e52f98b59",
    "tags": [],
    "deepnote_to_be_reexecuted": false,
    "source_hash": "de1e323c",
    "execution_start": 1644027137693,
    "execution_millis": 9,
    "deepnote_cell_type": "code"
   },
   "outputs": [
    {
     "name": "stdout",
     "text": "<class 'pandas.core.frame.DataFrame'>\nRangeIndex: 1000 entries, 0 to 999\nData columns (total 8 columns):\n #   Column                       Non-Null Count  Dtype \n---  ------                       --------------  ----- \n 0   gender                       1000 non-null   object\n 1   race/ethnicity               1000 non-null   object\n 2   parental level of education  1000 non-null   object\n 3   lunch                        1000 non-null   object\n 4   test preparation course      1000 non-null   object\n 5   math score                   1000 non-null   int64 \n 6   reading score                1000 non-null   int64 \n 7   writing score                1000 non-null   int64 \ndtypes: int64(3), object(5)\nmemory usage: 62.6+ KB\n",
     "output_type": "stream"
    }
   ],
   "execution_count": null
  },
  {
   "cell_type": "markdown",
   "source": "### .describe()\n\n`df.describe()` calcula algunas estadísticas descriptivas para cada columna.",
   "metadata": {
    "cell_id": "6b609cf3-7200-4045-9a12-9c1ec546dd15",
    "tags": [],
    "deepnote_cell_type": "markdown"
   }
  },
  {
   "cell_type": "code",
   "source": "df.describe()",
   "metadata": {
    "cell_id": "09499a09-a8e2-4eba-8d57-37fe0d7271f3",
    "tags": [],
    "deepnote_to_be_reexecuted": false,
    "source_hash": "f88152d9",
    "execution_start": 1644027200818,
    "execution_millis": 59,
    "deepnote_cell_type": "code"
   },
   "outputs": [
    {
     "output_type": "execute_result",
     "execution_count": 14,
     "data": {
      "application/vnd.deepnote.dataframe.v3+json": {
       "column_count": 3,
       "row_count": 8,
       "columns": [
        {
         "name": "math score",
         "dtype": "float64",
         "stats": {
          "unique_count": 8,
          "nan_count": 0,
          "min": "0.0",
          "max": "1000.0",
          "histogram": [
           {
            "bin_start": 0,
            "bin_end": 100,
            "count": 6
           },
           {
            "bin_start": 100,
            "bin_end": 200,
            "count": 1
           },
           {
            "bin_start": 200,
            "bin_end": 300,
            "count": 0
           },
           {
            "bin_start": 300,
            "bin_end": 400,
            "count": 0
           },
           {
            "bin_start": 400,
            "bin_end": 500,
            "count": 0
           },
           {
            "bin_start": 500,
            "bin_end": 600,
            "count": 0
           },
           {
            "bin_start": 600,
            "bin_end": 700,
            "count": 0
           },
           {
            "bin_start": 700,
            "bin_end": 800,
            "count": 0
           },
           {
            "bin_start": 800,
            "bin_end": 900,
            "count": 0
           },
           {
            "bin_start": 900,
            "bin_end": 1000,
            "count": 1
           }
          ]
         }
        },
        {
         "name": "reading score",
         "dtype": "float64",
         "stats": {
          "unique_count": 8,
          "nan_count": 0,
          "min": "14.600191937252216",
          "max": "1000.0",
          "histogram": [
           {
            "bin_start": 14.600191937252216,
            "bin_end": 113.14017274352699,
            "count": 7
           },
           {
            "bin_start": 113.14017274352699,
            "bin_end": 211.68015354980176,
            "count": 0
           },
           {
            "bin_start": 211.68015354980176,
            "bin_end": 310.22013435607647,
            "count": 0
           },
           {
            "bin_start": 310.22013435607647,
            "bin_end": 408.76011516235127,
            "count": 0
           },
           {
            "bin_start": 408.76011516235127,
            "bin_end": 507.30009596862607,
            "count": 0
           },
           {
            "bin_start": 507.30009596862607,
            "bin_end": 605.8400767749008,
            "count": 0
           },
           {
            "bin_start": 605.8400767749008,
            "bin_end": 704.3800575811756,
            "count": 0
           },
           {
            "bin_start": 704.3800575811756,
            "bin_end": 802.9200383874504,
            "count": 0
           },
           {
            "bin_start": 802.9200383874504,
            "bin_end": 901.4600191937252,
            "count": 0
           },
           {
            "bin_start": 901.4600191937252,
            "bin_end": 1000,
            "count": 1
           }
          ]
         }
        },
        {
         "name": "writing score",
         "dtype": "float64",
         "stats": {
          "unique_count": 8,
          "nan_count": 0,
          "min": "10.0",
          "max": "1000.0",
          "histogram": [
           {
            "bin_start": 10,
            "bin_end": 109,
            "count": 7
           },
           {
            "bin_start": 109,
            "bin_end": 208,
            "count": 0
           },
           {
            "bin_start": 208,
            "bin_end": 307,
            "count": 0
           },
           {
            "bin_start": 307,
            "bin_end": 406,
            "count": 0
           },
           {
            "bin_start": 406,
            "bin_end": 505,
            "count": 0
           },
           {
            "bin_start": 505,
            "bin_end": 604,
            "count": 0
           },
           {
            "bin_start": 604,
            "bin_end": 703,
            "count": 0
           },
           {
            "bin_start": 703,
            "bin_end": 802,
            "count": 0
           },
           {
            "bin_start": 802,
            "bin_end": 901,
            "count": 0
           },
           {
            "bin_start": 901,
            "bin_end": 1000,
            "count": 1
           }
          ]
         }
        },
        {
         "name": "_deepnote_index_column",
         "dtype": "object"
        }
       ],
       "rows": [
        {
         "math score": 1000,
         "reading score": 1000,
         "writing score": 1000,
         "_deepnote_index_column": "count"
        },
        {
         "math score": 66.089,
         "reading score": 69.169,
         "writing score": 68.054,
         "_deepnote_index_column": "mean"
        },
        {
         "math score": 15.16308009600945,
         "reading score": 14.600191937252216,
         "writing score": 15.19565701086965,
         "_deepnote_index_column": "std"
        },
        {
         "math score": 0,
         "reading score": 17,
         "writing score": 10,
         "_deepnote_index_column": "min"
        },
        {
         "math score": 57,
         "reading score": 59,
         "writing score": 57.75,
         "_deepnote_index_column": "25%"
        },
        {
         "math score": 66,
         "reading score": 70,
         "writing score": 69,
         "_deepnote_index_column": "50%"
        },
        {
         "math score": 77,
         "reading score": 79,
         "writing score": 79,
         "_deepnote_index_column": "75%"
        },
        {
         "math score": 100,
         "reading score": 100,
         "writing score": 100,
         "_deepnote_index_column": "max"
        }
       ]
      },
      "text/plain": "       math score  reading score  writing score\ncount  1000.00000    1000.000000    1000.000000\nmean     66.08900      69.169000      68.054000\nstd      15.16308      14.600192      15.195657\nmin       0.00000      17.000000      10.000000\n25%      57.00000      59.000000      57.750000\n50%      66.00000      70.000000      69.000000\n75%      77.00000      79.000000      79.000000\nmax     100.00000     100.000000     100.000000",
      "text/html": "<div>\n<style scoped>\n    .dataframe tbody tr th:only-of-type {\n        vertical-align: middle;\n    }\n\n    .dataframe tbody tr th {\n        vertical-align: top;\n    }\n\n    .dataframe thead th {\n        text-align: right;\n    }\n</style>\n<table border=\"1\" class=\"dataframe\">\n  <thead>\n    <tr style=\"text-align: right;\">\n      <th></th>\n      <th>math score</th>\n      <th>reading score</th>\n      <th>writing score</th>\n    </tr>\n  </thead>\n  <tbody>\n    <tr>\n      <th>count</th>\n      <td>1000.00000</td>\n      <td>1000.000000</td>\n      <td>1000.000000</td>\n    </tr>\n    <tr>\n      <th>mean</th>\n      <td>66.08900</td>\n      <td>69.169000</td>\n      <td>68.054000</td>\n    </tr>\n    <tr>\n      <th>std</th>\n      <td>15.16308</td>\n      <td>14.600192</td>\n      <td>15.195657</td>\n    </tr>\n    <tr>\n      <th>min</th>\n      <td>0.00000</td>\n      <td>17.000000</td>\n      <td>10.000000</td>\n    </tr>\n    <tr>\n      <th>25%</th>\n      <td>57.00000</td>\n      <td>59.000000</td>\n      <td>57.750000</td>\n    </tr>\n    <tr>\n      <th>50%</th>\n      <td>66.00000</td>\n      <td>70.000000</td>\n      <td>69.000000</td>\n    </tr>\n    <tr>\n      <th>75%</th>\n      <td>77.00000</td>\n      <td>79.000000</td>\n      <td>79.000000</td>\n    </tr>\n    <tr>\n      <th>max</th>\n      <td>100.00000</td>\n      <td>100.000000</td>\n      <td>100.000000</td>\n    </tr>\n  </tbody>\n</table>\n</div>"
     },
     "metadata": {}
    }
   ],
   "execution_count": null
  },
  {
   "cell_type": "markdown",
   "source": "## Seleccionar datos de una sola columna\n\nPara trabajar con datos de una sola columna utilizaremos código como `df['nombre_columna']`.\n\nPara ver las columnas de un DafaFrame usamos el método `df.columns`.",
   "metadata": {
    "cell_id": "4ab95c05-ce8a-4dfc-8ff4-730287456723",
    "tags": [],
    "deepnote_cell_type": "markdown"
   }
  },
  {
   "cell_type": "code",
   "source": "df.columns",
   "metadata": {
    "cell_id": "f9415e90-d1e0-4a49-9217-f5790eecfd80",
    "tags": [],
    "deepnote_to_be_reexecuted": false,
    "source_hash": "25d43fa0",
    "execution_start": 1644027454580,
    "execution_millis": 17,
    "deepnote_output_heights": [
     78.796875
    ],
    "deepnote_cell_type": "code"
   },
   "outputs": [
    {
     "output_type": "execute_result",
     "execution_count": 15,
     "data": {
      "text/plain": "Index(['gender', 'race/ethnicity', 'parental level of education', 'lunch',\n       'test preparation course', 'math score', 'reading score',\n       'writing score'],\n      dtype='object')"
     },
     "metadata": {}
    }
   ],
   "execution_count": null
  },
  {
   "cell_type": "markdown",
   "source": "Usemos la columna `'math score'` y veamos sus datos.",
   "metadata": {
    "cell_id": "182dd27b-5831-41c9-baf0-dc6950d1d95e",
    "tags": [],
    "deepnote_cell_type": "markdown"
   }
  },
  {
   "cell_type": "code",
   "source": "df['math score']",
   "metadata": {
    "cell_id": "e5dafe40-32ad-4992-af4b-359f3e5e36eb",
    "tags": [],
    "deepnote_to_be_reexecuted": false,
    "source_hash": "21cda0f1",
    "execution_start": 1644027504575,
    "execution_millis": 2,
    "deepnote_output_heights": [
     232.390625
    ],
    "deepnote_cell_type": "code"
   },
   "outputs": [
    {
     "output_type": "execute_result",
     "execution_count": 16,
     "data": {
      "text/plain": "0      72\n1      69\n2      90\n3      47\n4      76\n       ..\n995    88\n996    62\n997    59\n998    68\n999    77\nName: math score, Length: 1000, dtype: int64"
     },
     "metadata": {}
    }
   ],
   "execution_count": null
  },
  {
   "cell_type": "markdown",
   "source": "Sobre esta columna podemos usar métodos donde uno a uno podemos ver estadísticas descriptivas solamente de esa columna.",
   "metadata": {
    "cell_id": "aa8ff526-9de7-4313-8bd0-f6a2a19b0d7d",
    "tags": [],
    "deepnote_cell_type": "markdown"
   }
  },
  {
   "cell_type": "code",
   "source": "df['math score'].mean()",
   "metadata": {
    "cell_id": "8d8a1aaa-9331-4baa-ad7b-f7964508bffe",
    "tags": [],
    "deepnote_to_be_reexecuted": false,
    "source_hash": "acee6bb9",
    "execution_start": 1644027633116,
    "execution_millis": 13,
    "deepnote_output_heights": [
     21.1875
    ],
    "deepnote_cell_type": "code"
   },
   "outputs": [
    {
     "output_type": "execute_result",
     "execution_count": 17,
     "data": {
      "text/plain": "66.089"
     },
     "metadata": {}
    }
   ],
   "execution_count": null
  },
  {
   "cell_type": "code",
   "source": "df['math score'].median()",
   "metadata": {
    "cell_id": "631fdc4b-dd82-49ec-8b68-fd552cfd6c7f",
    "tags": [],
    "deepnote_to_be_reexecuted": false,
    "source_hash": "9f072d76",
    "execution_start": 1644027633128,
    "execution_millis": 15,
    "deepnote_output_heights": [
     21.1875
    ],
    "deepnote_cell_type": "code"
   },
   "outputs": [
    {
     "output_type": "execute_result",
     "execution_count": 18,
     "data": {
      "text/plain": "66.0"
     },
     "metadata": {}
    }
   ],
   "execution_count": null
  },
  {
   "cell_type": "code",
   "source": "df['math score'].std()",
   "metadata": {
    "cell_id": "30cc3c55-ff89-4588-bc95-dbb3013a7e9c",
    "tags": [],
    "deepnote_to_be_reexecuted": false,
    "source_hash": "56e2d588",
    "execution_start": 1644027664420,
    "execution_millis": 5,
    "deepnote_output_heights": [
     21.1875
    ],
    "deepnote_cell_type": "code"
   },
   "outputs": [
    {
     "output_type": "execute_result",
     "execution_count": 19,
     "data": {
      "text/plain": "15.16308009600945"
     },
     "metadata": {}
    }
   ],
   "execution_count": null
  },
  {
   "cell_type": "markdown",
   "source": "Más adelante en las clases de estadística descriptiva profundizaremos en estos métodos y su aplicación. ",
   "metadata": {
    "cell_id": "b870d6e8-3840-45ee-8f1b-abd342cdabfd",
    "tags": [],
    "deepnote_cell_type": "markdown"
   }
  },
  {
   "cell_type": "markdown",
   "source": "---\nHemos llegado al final de esta introducción a Pandas. Todavía queda mucho por conocer de esta librería.\n\nPara seguir tu aprendizaje en data science te comparto esta [Guía definitiva para dominar Pandas](https://platzi.com/blog/pandas/) y el [Curso de Manipulación y Análisis de Datos con Pandas y Python](https://platzi.com/cursos/pandas/). 🐼🤓",
   "metadata": {
    "cell_id": "db030cc6-747a-41eb-b158-24b79872bcd2",
    "tags": [],
    "deepnote_cell_type": "markdown"
   }
  },
  {
   "cell_type": "markdown",
   "source": "<a style='text-decoration:none;line-height:16px;display:flex;color:#5B5B62;padding:10px;justify-content:end;' href='https://deepnote.com?utm_source=created-in-deepnote-cell&projectId=edc68bfa-8df4-47a4-8622-860ebb931fe9' target=\"_blank\">\n<img alt='Created in deepnote.com' style='display:inline;max-height:16px;margin:0px;margin-right:7.5px;' src='data:image/svg+xml;base64,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' > </img>\nCreated in <span style='font-weight:600;margin-left:4px;'>Deepnote</span></a>",
   "metadata": {
    "tags": [],
    "created_in_deepnote_cell": true,
    "deepnote_cell_type": "markdown"
   }
  }
 ],
 "nbformat": 4,
 "nbformat_minor": 2,
 "metadata": {
  "orig_nbformat": 2,
  "deepnote": {
   "is_reactive": false
  },
  "deepnote_notebook_id": "f37b9792-e3ea-4629-9361-678b407ceaeb",
  "deepnote_execution_queue": []
 }
}