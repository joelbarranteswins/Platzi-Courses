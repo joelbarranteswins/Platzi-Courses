{
 "cells": [
  {
   "cell_type": "markdown",
   "source": "# Tutorial: primeros pasos con NumPy\n",
   "metadata": {
    "cell_id": "0d83a04e-3fa4-41ad-b7b0-2ff2e745f79d",
    "tags": [],
    "deepnote_cell_type": "markdown"
   }
  },
  {
   "cell_type": "markdown",
   "source": "![Picture title](image-20220203-151148.png)",
   "metadata": {
    "cell_id": "5562b096-2d75-43f2-b3b5-70bbb3963e54",
    "tags": [],
    "deepnote_cell_type": "markdown"
   }
  },
  {
   "cell_type": "markdown",
   "source": "## ¿Qué es NumPy?\n\nNumPy o **Num**erical **Py**thon es una librería para manejo de números de Python.\n\nSu principal uso es al manejar estructuras de datos matriciales y funciones matemáticas de alto nivel.\n\nEs muy utilizada en data science y en el mundo científico y matemático. ",
   "metadata": {
    "cell_id": "9085d63e-6a26-4446-ae1c-832eaa06e3ee",
    "tags": [],
    "deepnote_cell_type": "markdown"
   }
  },
  {
   "cell_type": "markdown",
   "source": "## ¿Por qué usar NumPy?\n\nUna de sus ventajas es que tiene una estructura de datos que permite representar información compleja como archivos de imágenes, videos, sonidos, etc. NumPy permite trabajar con estos datos de forma númerica para que puedan ser analizados y usados en algoritmos de machine learning.\n\nNumPy también utiliza estructuras de datos como sus arrays que ocupan menor espacio que una lista común en Python. Esto ayuda a que sean más rápidas de procesar y que podamos utilizar cantidades de datos más grandes.",
   "metadata": {
    "cell_id": "56826e89-5ceb-49ad-85fc-958d5f30d9b4",
    "tags": [],
    "deepnote_cell_type": "markdown"
   }
  },
  {
   "cell_type": "markdown",
   "source": "## Comenzar a usar NumPy\n\nPara empezar a utilizar NumPy dentro de Jupyter Notebooks en la nube como Google Colab o Deepnote no necesitas hace ninguna instalación. Simplemente escribe la siguiente línea en una celda de código y ejecútala.",
   "metadata": {
    "cell_id": "03fa92bd-c7c6-4efa-8b78-2d7429a48f3a",
    "tags": [],
    "deepnote_cell_type": "markdown"
   }
  },
  {
   "cell_type": "code",
   "metadata": {
    "cell_id": "fd60e1c9-c705-4f00-aeac-5ce97b1b4999",
    "tags": [],
    "deepnote_to_be_reexecuted": false,
    "source_hash": "c2602aa8",
    "execution_start": 1644009026713,
    "execution_millis": 1,
    "deepnote_cell_type": "code"
   },
   "source": "import numpy as np",
   "execution_count": null,
   "outputs": []
  },
  {
   "cell_type": "markdown",
   "source": "## Arrays de NumPy\n\nComo vimos arriba, en NumPy usamos una estructura de datos llamada **array**. Estos son arreglos numéricos parecidos a listas en Python. De hecho tienen propiedas muy parecidas como ser mutables y poder hacer slicing.\n\nLos arrays son **n-dimensionales**. Esto quiere decir que pueden ser de muchas dimensiones dependiendo si tienen varias filas y columnas.\n\n- Un array **unidimensional** es una sola columna o fila de alguna tablar, justo como una lista de Python\n- Un array **bidimensional** es lo que conocemos como matriz y es la forma en la que podemos representar tablas de datos en NumPy.\n- Un array de **tres dimensiones o más** es una matriz de matrices, mejor conocida como tensor.\n",
   "metadata": {
    "cell_id": "0e07f0f1-7dbf-43cc-a973-9738a6ae483e",
    "tags": [],
    "deepnote_cell_type": "markdown"
   }
  },
  {
   "cell_type": "markdown",
   "source": "![Picture title](image-20220203-154724.png)",
   "metadata": {
    "cell_id": "f5eccc8c-7489-4beb-9577-471059b56cca",
    "tags": [],
    "deepnote_cell_type": "markdown"
   }
  },
  {
   "cell_type": "markdown",
   "source": "Una característica muy importante de cualquier array es que solo puede tener **datos de un mismo tipo**. \n\nEs decir que si tiene números enteros, todos sus elementos deben ser enteros. Si son números flotantes todos deberán ser flotantes.",
   "metadata": {
    "cell_id": "0b613706-8c00-4290-a544-596baa563ebc",
    "tags": [],
    "deepnote_cell_type": "markdown"
   }
  },
  {
   "cell_type": "markdown",
   "source": "Para crear un array con NumPy utilizamos el método `np.array(tu_lista)`.\n\n**Nota:** dentro de los paréntesis puede ir más de una lista para así crear arrays de dos o más dimensiones.",
   "metadata": {
    "cell_id": "afead615-f825-49cd-b7f0-5d335eb07853",
    "tags": [],
    "deepnote_cell_type": "markdown"
   }
  },
  {
   "cell_type": "code",
   "metadata": {
    "cell_id": "a27f6c44-a708-4966-9821-029fc42b7107",
    "tags": [],
    "deepnote_to_be_reexecuted": false,
    "source_hash": "d4809d9b",
    "execution_start": 1644009026758,
    "execution_millis": 0,
    "deepnote_cell_type": "code"
   },
   "source": "vector = np.array([1, 2, 4, 8, 16])\nprint(vector)",
   "execution_count": null,
   "outputs": [
    {
     "name": "stdout",
     "text": "[ 1  2  4  8 16]\n",
     "output_type": "stream"
    }
   ]
  },
  {
   "cell_type": "code",
   "metadata": {
    "cell_id": "c0c1910d-1dd6-4073-a3a1-64663a9e51e8",
    "tags": [],
    "deepnote_to_be_reexecuted": false,
    "source_hash": "725121b8",
    "execution_start": 1644009026759,
    "execution_millis": 3,
    "deepnote_cell_type": "code"
   },
   "source": "matrix = np.array([[5, 10], [15, 30]])\nprint(matrix)",
   "execution_count": null,
   "outputs": [
    {
     "name": "stdout",
     "text": "[[ 5 10]\n [15 30]]\n",
     "output_type": "stream"
    }
   ]
  },
  {
   "cell_type": "markdown",
   "source": "Dentro del método `np.array()` también pueden ir variables que contengan las listas con las que crearemos los arrays.",
   "metadata": {
    "cell_id": "61988b83-a872-4680-9889-3b26eebe9ec8",
    "tags": [],
    "deepnote_cell_type": "markdown"
   }
  },
  {
   "cell_type": "code",
   "metadata": {
    "cell_id": "cafbc755-4227-4b81-802d-babbef186f89",
    "tags": [],
    "deepnote_to_be_reexecuted": false,
    "source_hash": "9e046e8",
    "execution_start": 1644009026802,
    "execution_millis": 2,
    "deepnote_cell_type": "code"
   },
   "source": "lista_1 = [100, 200, 300, 400]\nlista_2 = [3, 4, 5, 6]\n\nvector_2 = np.array(lista_1)\nprint(vector_2)\n\nmatrix_2 = np.array([lista_1, lista_2])\nprint(matrix_2)",
   "execution_count": null,
   "outputs": [
    {
     "name": "stdout",
     "text": "[100 200 300 400]\n[[100 200 300 400]\n [  3   4   5   6]]\n",
     "output_type": "stream"
    }
   ]
  },
  {
   "cell_type": "markdown",
   "source": "Por último, utilicemos el método `type()` de Python sobre nuestros arrays para ver que efectivamente son `ndarray` de NumPy.",
   "metadata": {
    "cell_id": "9061af19-9d9d-4674-84ec-0361a5de6fce",
    "tags": [],
    "deepnote_cell_type": "markdown"
   }
  },
  {
   "cell_type": "code",
   "metadata": {
    "cell_id": "06f19552-a558-4135-8ccf-39741674a931",
    "tags": [],
    "deepnote_to_be_reexecuted": false,
    "source_hash": "b500d781",
    "execution_start": 1644009026865,
    "execution_millis": 3,
    "deepnote_output_heights": [
     21.1875
    ],
    "deepnote_cell_type": "code"
   },
   "source": "type(vector)",
   "execution_count": null,
   "outputs": [
    {
     "output_type": "execute_result",
     "execution_count": 5,
     "data": {
      "text/plain": "numpy.ndarray"
     },
     "metadata": {}
    }
   ]
  },
  {
   "cell_type": "markdown",
   "source": "### Reto: practica crear nuevos arrays\n\nDentro de la notebook en la que estás trabajando crea dos nuevos vectores y dos nuevas matrices. \n\nPuedes utilizar variables o listas directamente en ellas. ",
   "metadata": {
    "cell_id": "654314e8-8227-472f-b382-3a4a3427f4df",
    "tags": [],
    "deepnote_cell_type": "markdown"
   }
  },
  {
   "cell_type": "markdown",
   "source": "## Tamaño de los arrays\n\nDentro de NumPy también existen funciones que nos sirven para conocer las dimensiones de un array y su tipo de datos.",
   "metadata": {
    "cell_id": "3a60339d-42bb-494a-9874-6323cccda1e2",
    "tags": [],
    "deepnote_cell_type": "markdown"
   }
  },
  {
   "cell_type": "markdown",
   "source": "### .shape\n\n`.shape` nos da las dimensiones del array.",
   "metadata": {
    "cell_id": "1c64f58f-a48d-4f74-8eda-27bcd5a465ad",
    "tags": [],
    "deepnote_cell_type": "markdown"
   }
  },
  {
   "cell_type": "code",
   "metadata": {
    "cell_id": "73bcf2d6-8591-43b3-a1f3-dfa35205e2a8",
    "tags": [],
    "deepnote_to_be_reexecuted": false,
    "source_hash": "1aee28f3",
    "execution_start": 1644009026867,
    "execution_millis": 45,
    "deepnote_output_heights": [
     21
    ],
    "deepnote_cell_type": "code"
   },
   "source": "vector.shape",
   "execution_count": null,
   "outputs": [
    {
     "output_type": "execute_result",
     "execution_count": 6,
     "data": {
      "text/plain": "(5,)"
     },
     "metadata": {}
    }
   ]
  },
  {
   "cell_type": "code",
   "metadata": {
    "cell_id": "4f75ca02-cc00-4bc8-9dce-079afd453dfc",
    "tags": [],
    "deepnote_to_be_reexecuted": false,
    "source_hash": "ec21249",
    "execution_start": 1644009026911,
    "execution_millis": 2,
    "deepnote_output_heights": [
     1
    ],
    "deepnote_cell_type": "code"
   },
   "source": "matrix.shape",
   "execution_count": null,
   "outputs": [
    {
     "output_type": "execute_result",
     "execution_count": 7,
     "data": {
      "text/plain": "(2, 2)"
     },
     "metadata": {}
    }
   ]
  },
  {
   "cell_type": "code",
   "metadata": {
    "cell_id": "66c43182-9b62-4a38-9edf-2fd0a459f9df",
    "tags": [],
    "deepnote_to_be_reexecuted": false,
    "source_hash": "cf07dfab",
    "execution_start": 1644009026954,
    "execution_millis": 1,
    "deepnote_output_heights": [
     1
    ],
    "deepnote_cell_type": "code"
   },
   "source": "matrix_2.shape",
   "execution_count": null,
   "outputs": [
    {
     "output_type": "execute_result",
     "execution_count": 8,
     "data": {
      "text/plain": "(2, 4)"
     },
     "metadata": {}
    }
   ]
  },
  {
   "cell_type": "markdown",
   "source": "- Para vectores el único valor es la cantidad de elementos en él.\n- Para matrices el primer valor son las filas y el segundo las columnas. \n- Para un tensor el primer valor es la “profundidad”, el segundo las filas y el tercero las columnas.",
   "metadata": {
    "cell_id": "d3a2483d-f997-4777-b341-e5c3dba24bfa",
    "tags": [],
    "deepnote_cell_type": "markdown"
   }
  },
  {
   "cell_type": "markdown",
   "source": "### .dtype\n\n`.dtype` devuelve el tipo de datos que hay en un array.\n",
   "metadata": {
    "cell_id": "e4edfc0d-40d7-4349-9b49-b6c244e2a1f8",
    "tags": [],
    "deepnote_cell_type": "markdown"
   }
  },
  {
   "cell_type": "code",
   "metadata": {
    "cell_id": "654a8db7-f92e-42b8-8550-0984815921ce",
    "tags": [],
    "deepnote_to_be_reexecuted": false,
    "source_hash": "31a9158d",
    "execution_start": 1644009052760,
    "execution_millis": 5,
    "deepnote_output_heights": [
     1
    ],
    "deepnote_cell_type": "code"
   },
   "source": "vector.dtype",
   "execution_count": null,
   "outputs": [
    {
     "output_type": "execute_result",
     "execution_count": 12,
     "data": {
      "text/plain": "dtype('int64')"
     },
     "metadata": {}
    }
   ]
  },
  {
   "cell_type": "code",
   "metadata": {
    "cell_id": "5c7ec947-d3f7-4688-a1c7-4bf564de9616",
    "tags": [],
    "deepnote_to_be_reexecuted": false,
    "source_hash": "b82e33b7",
    "execution_start": 1644009064803,
    "execution_millis": 5,
    "deepnote_output_heights": [
     1
    ],
    "deepnote_cell_type": "code"
   },
   "source": "matrix.dtype",
   "execution_count": null,
   "outputs": [
    {
     "output_type": "execute_result",
     "execution_count": 14,
     "data": {
      "text/plain": "dtype('int64')"
     },
     "metadata": {}
    }
   ]
  },
  {
   "cell_type": "code",
   "metadata": {
    "cell_id": "62812a32-6f26-469f-9b21-0d816b948fc8",
    "tags": [],
    "deepnote_to_be_reexecuted": false,
    "source_hash": "9b968e2",
    "execution_start": 1644009227401,
    "execution_millis": 2,
    "deepnote_output_heights": [
     1
    ],
    "deepnote_cell_type": "code"
   },
   "source": "vector_4 = np.array([1.4, 5.6, 6.8])\nvector_4.dtype",
   "execution_count": null,
   "outputs": [
    {
     "output_type": "execute_result",
     "execution_count": 16,
     "data": {
      "text/plain": "dtype('float64')"
     },
     "metadata": {}
    }
   ]
  },
  {
   "cell_type": "markdown",
   "source": "### Reto: conoce la forma de tus arrays\nNuevamente crea nuevos vectores y matrices dentro de tu notebook.\n\nUtiliza los métodos `.shape` para conocer su forma y `.dtype` conocer su tipo de dato.\n\nComparte tus resultados en los comentarios de la clase.\n",
   "metadata": {
    "cell_id": "712124da-dcc3-445b-9b5c-711febf296e2",
    "tags": [],
    "deepnote_cell_type": "markdown"
   }
  },
  {
   "cell_type": "markdown",
   "source": "---\n\nCon esto hemos llegado al final de esta primera interacción con la librería de NumPy.\n\nPara conocer más de esta librería te comparto esta [Guía definitiva para dominar NumPy](https://platzi.com/blog/numpy/) dentro del blog de Platzi. 💚",
   "metadata": {
    "cell_id": "72384136-229b-436d-a512-a5bb43e51c4a",
    "tags": [],
    "deepnote_cell_type": "markdown"
   }
  },
  {
   "cell_type": "markdown",
   "source": "",
   "metadata": {
    "cell_id": "b2d587c1-e6f4-4334-a105-1b21682e0a40",
    "tags": [],
    "deepnote_cell_type": "markdown"
   }
  },
  {
   "cell_type": "markdown",
   "source": "<a style='text-decoration:none;line-height:16px;display:flex;color:#5B5B62;padding:10px;justify-content:end;' href='https://deepnote.com?utm_source=created-in-deepnote-cell&projectId=edc68bfa-8df4-47a4-8622-860ebb931fe9' target=\"_blank\">\n<img alt='Created in deepnote.com' style='display:inline;max-height:16px;margin:0px;margin-right:7.5px;' src='data:image/svg+xml;base64,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' > </img>\nCreated in <span style='font-weight:600;margin-left:4px;'>Deepnote</span></a>",
   "metadata": {
    "tags": [],
    "created_in_deepnote_cell": true,
    "deepnote_cell_type": "markdown"
   }
  }
 ],
 "nbformat": 4,
 "nbformat_minor": 2,
 "metadata": {
  "orig_nbformat": 2,
  "deepnote": {
   "is_reactive": false
  },
  "deepnote_notebook_id": "8e0770b2-66e2-48be-9956-0850167a9a91",
  "deepnote_execution_queue": []
 }
}