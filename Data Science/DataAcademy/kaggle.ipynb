{
 "cells": [
  {
   "cell_type": "code",
   "execution_count": 3,
   "metadata": {},
   "outputs": [],
   "source": [
    "from google.cloud import bigquery"
   ]
  },
  {
   "cell_type": "code",
   "execution_count": 5,
   "metadata": {},
   "outputs": [
    {
     "ename": "DefaultCredentialsError",
     "evalue": "Could not automatically determine credentials. Please set GOOGLE_APPLICATION_CREDENTIALS or explicitly create credentials and re-run the application. For more information, please see https://cloud.google.com/docs/authentication/getting-started",
     "output_type": "error",
     "traceback": [
      "\u001b[1;31m---------------------------------------------------------------------------\u001b[0m",
      "\u001b[1;31mDefaultCredentialsError\u001b[0m                   Traceback (most recent call last)",
      "\u001b[1;32mc:\\Users\\joel_\\OneDrive\\Documentos\\GitHub\\2__Cursos__P\\Data Science\\DataAcademy\\kaggle.ipynb Cell 2'\u001b[0m in \u001b[0;36m<module>\u001b[1;34m\u001b[0m\n\u001b[0;32m      <a href='vscode-notebook-cell:/c%3A/Users/joel_/OneDrive/Documentos/GitHub/2__Cursos__P/Data%20Science/DataAcademy/kaggle.ipynb#ch0000001?line=0'>1</a>\u001b[0m \u001b[39m# Create a \"Client\" object\u001b[39;00m\n\u001b[1;32m----> <a href='vscode-notebook-cell:/c%3A/Users/joel_/OneDrive/Documentos/GitHub/2__Cursos__P/Data%20Science/DataAcademy/kaggle.ipynb#ch0000001?line=1'>2</a>\u001b[0m client \u001b[39m=\u001b[39m bigquery\u001b[39m.\u001b[39;49mClient()\n",
      "File \u001b[1;32m~\\Anaconda3\\envs\\myenv\\lib\\site-packages\\google\\cloud\\bigquery\\client.py:231\u001b[0m, in \u001b[0;36mClient.__init__\u001b[1;34m(self, project, credentials, _http, location, default_query_job_config, client_info, client_options)\u001b[0m\n\u001b[0;32m    <a href='file:///~/Anaconda3/envs/myenv/lib/site-packages/google/cloud/bigquery/client.py?line=220'>221</a>\u001b[0m \u001b[39mdef\u001b[39;00m \u001b[39m__init__\u001b[39m(\n\u001b[0;32m    <a href='file:///~/Anaconda3/envs/myenv/lib/site-packages/google/cloud/bigquery/client.py?line=221'>222</a>\u001b[0m     \u001b[39mself\u001b[39m,\n\u001b[0;32m    <a href='file:///~/Anaconda3/envs/myenv/lib/site-packages/google/cloud/bigquery/client.py?line=222'>223</a>\u001b[0m     project\u001b[39m=\u001b[39m\u001b[39mNone\u001b[39;00m,\n\u001b[1;32m   (...)\u001b[0m\n\u001b[0;32m    <a href='file:///~/Anaconda3/envs/myenv/lib/site-packages/google/cloud/bigquery/client.py?line=228'>229</a>\u001b[0m     client_options\u001b[39m=\u001b[39m\u001b[39mNone\u001b[39;00m,\n\u001b[0;32m    <a href='file:///~/Anaconda3/envs/myenv/lib/site-packages/google/cloud/bigquery/client.py?line=229'>230</a>\u001b[0m ):\n\u001b[1;32m--> <a href='file:///~/Anaconda3/envs/myenv/lib/site-packages/google/cloud/bigquery/client.py?line=230'>231</a>\u001b[0m     \u001b[39msuper\u001b[39;49m(Client, \u001b[39mself\u001b[39;49m)\u001b[39m.\u001b[39;49m\u001b[39m__init__\u001b[39;49m(\n\u001b[0;32m    <a href='file:///~/Anaconda3/envs/myenv/lib/site-packages/google/cloud/bigquery/client.py?line=231'>232</a>\u001b[0m         project\u001b[39m=\u001b[39;49mproject,\n\u001b[0;32m    <a href='file:///~/Anaconda3/envs/myenv/lib/site-packages/google/cloud/bigquery/client.py?line=232'>233</a>\u001b[0m         credentials\u001b[39m=\u001b[39;49mcredentials,\n\u001b[0;32m    <a href='file:///~/Anaconda3/envs/myenv/lib/site-packages/google/cloud/bigquery/client.py?line=233'>234</a>\u001b[0m         client_options\u001b[39m=\u001b[39;49mclient_options,\n\u001b[0;32m    <a href='file:///~/Anaconda3/envs/myenv/lib/site-packages/google/cloud/bigquery/client.py?line=234'>235</a>\u001b[0m         _http\u001b[39m=\u001b[39;49m_http,\n\u001b[0;32m    <a href='file:///~/Anaconda3/envs/myenv/lib/site-packages/google/cloud/bigquery/client.py?line=235'>236</a>\u001b[0m     )\n\u001b[0;32m    <a href='file:///~/Anaconda3/envs/myenv/lib/site-packages/google/cloud/bigquery/client.py?line=237'>238</a>\u001b[0m     kw_args \u001b[39m=\u001b[39m {\u001b[39m\"\u001b[39m\u001b[39mclient_info\u001b[39m\u001b[39m\"\u001b[39m: client_info}\n\u001b[0;32m    <a href='file:///~/Anaconda3/envs/myenv/lib/site-packages/google/cloud/bigquery/client.py?line=238'>239</a>\u001b[0m     \u001b[39mif\u001b[39;00m client_options:\n",
      "File \u001b[1;32m~\\Anaconda3\\envs\\myenv\\lib\\site-packages\\google\\cloud\\client\\__init__.py:318\u001b[0m, in \u001b[0;36mClientWithProject.__init__\u001b[1;34m(self, project, credentials, client_options, _http)\u001b[0m\n\u001b[0;32m    <a href='file:///~/Anaconda3/envs/myenv/lib/site-packages/google/cloud/client/__init__.py?line=316'>317</a>\u001b[0m \u001b[39mdef\u001b[39;00m \u001b[39m__init__\u001b[39m(\u001b[39mself\u001b[39m, project\u001b[39m=\u001b[39m\u001b[39mNone\u001b[39;00m, credentials\u001b[39m=\u001b[39m\u001b[39mNone\u001b[39;00m, client_options\u001b[39m=\u001b[39m\u001b[39mNone\u001b[39;00m, _http\u001b[39m=\u001b[39m\u001b[39mNone\u001b[39;00m):\n\u001b[1;32m--> <a href='file:///~/Anaconda3/envs/myenv/lib/site-packages/google/cloud/client/__init__.py?line=317'>318</a>\u001b[0m     _ClientProjectMixin\u001b[39m.\u001b[39;49m\u001b[39m__init__\u001b[39;49m(\u001b[39mself\u001b[39;49m, project\u001b[39m=\u001b[39;49mproject, credentials\u001b[39m=\u001b[39;49mcredentials)\n\u001b[0;32m    <a href='file:///~/Anaconda3/envs/myenv/lib/site-packages/google/cloud/client/__init__.py?line=318'>319</a>\u001b[0m     Client\u001b[39m.\u001b[39m\u001b[39m__init__\u001b[39m(\n\u001b[0;32m    <a href='file:///~/Anaconda3/envs/myenv/lib/site-packages/google/cloud/client/__init__.py?line=319'>320</a>\u001b[0m         \u001b[39mself\u001b[39m, credentials\u001b[39m=\u001b[39mcredentials, client_options\u001b[39m=\u001b[39mclient_options, _http\u001b[39m=\u001b[39m_http\n\u001b[0;32m    <a href='file:///~/Anaconda3/envs/myenv/lib/site-packages/google/cloud/client/__init__.py?line=320'>321</a>\u001b[0m     )\n",
      "File \u001b[1;32m~\\Anaconda3\\envs\\myenv\\lib\\site-packages\\google\\cloud\\client\\__init__.py:266\u001b[0m, in \u001b[0;36m_ClientProjectMixin.__init__\u001b[1;34m(self, project, credentials)\u001b[0m\n\u001b[0;32m    <a href='file:///~/Anaconda3/envs/myenv/lib/site-packages/google/cloud/client/__init__.py?line=262'>263</a>\u001b[0m     project \u001b[39m=\u001b[39m \u001b[39mgetattr\u001b[39m(credentials, \u001b[39m\"\u001b[39m\u001b[39mproject_id\u001b[39m\u001b[39m\"\u001b[39m, \u001b[39mNone\u001b[39;00m)\n\u001b[0;32m    <a href='file:///~/Anaconda3/envs/myenv/lib/site-packages/google/cloud/client/__init__.py?line=264'>265</a>\u001b[0m \u001b[39mif\u001b[39;00m project \u001b[39mis\u001b[39;00m \u001b[39mNone\u001b[39;00m:\n\u001b[1;32m--> <a href='file:///~/Anaconda3/envs/myenv/lib/site-packages/google/cloud/client/__init__.py?line=265'>266</a>\u001b[0m     project \u001b[39m=\u001b[39m \u001b[39mself\u001b[39;49m\u001b[39m.\u001b[39;49m_determine_default(project)\n\u001b[0;32m    <a href='file:///~/Anaconda3/envs/myenv/lib/site-packages/google/cloud/client/__init__.py?line=267'>268</a>\u001b[0m \u001b[39mif\u001b[39;00m project \u001b[39mis\u001b[39;00m \u001b[39mNone\u001b[39;00m:\n\u001b[0;32m    <a href='file:///~/Anaconda3/envs/myenv/lib/site-packages/google/cloud/client/__init__.py?line=268'>269</a>\u001b[0m     \u001b[39mraise\u001b[39;00m \u001b[39mEnvironmentError\u001b[39;00m(\n\u001b[0;32m    <a href='file:///~/Anaconda3/envs/myenv/lib/site-packages/google/cloud/client/__init__.py?line=269'>270</a>\u001b[0m         \u001b[39m\"\u001b[39m\u001b[39mProject was not passed and could not be \u001b[39m\u001b[39m\"\u001b[39m\n\u001b[0;32m    <a href='file:///~/Anaconda3/envs/myenv/lib/site-packages/google/cloud/client/__init__.py?line=270'>271</a>\u001b[0m         \u001b[39m\"\u001b[39m\u001b[39mdetermined from the environment.\u001b[39m\u001b[39m\"\u001b[39m\n\u001b[0;32m    <a href='file:///~/Anaconda3/envs/myenv/lib/site-packages/google/cloud/client/__init__.py?line=271'>272</a>\u001b[0m     )\n",
      "File \u001b[1;32m~\\Anaconda3\\envs\\myenv\\lib\\site-packages\\google\\cloud\\client\\__init__.py:285\u001b[0m, in \u001b[0;36m_ClientProjectMixin._determine_default\u001b[1;34m(project)\u001b[0m\n\u001b[0;32m    <a href='file:///~/Anaconda3/envs/myenv/lib/site-packages/google/cloud/client/__init__.py?line=281'>282</a>\u001b[0m \u001b[39m@staticmethod\u001b[39m\n\u001b[0;32m    <a href='file:///~/Anaconda3/envs/myenv/lib/site-packages/google/cloud/client/__init__.py?line=282'>283</a>\u001b[0m \u001b[39mdef\u001b[39;00m \u001b[39m_determine_default\u001b[39m(project):\n\u001b[0;32m    <a href='file:///~/Anaconda3/envs/myenv/lib/site-packages/google/cloud/client/__init__.py?line=283'>284</a>\u001b[0m     \u001b[39m\"\"\"Helper:  use default project detection.\"\"\"\u001b[39;00m\n\u001b[1;32m--> <a href='file:///~/Anaconda3/envs/myenv/lib/site-packages/google/cloud/client/__init__.py?line=284'>285</a>\u001b[0m     \u001b[39mreturn\u001b[39;00m _determine_default_project(project)\n",
      "File \u001b[1;32m~\\Anaconda3\\envs\\myenv\\lib\\site-packages\\google\\cloud\\_helpers\\__init__.py:154\u001b[0m, in \u001b[0;36m_determine_default_project\u001b[1;34m(project)\u001b[0m\n\u001b[0;32m    <a href='file:///~/Anaconda3/envs/myenv/lib/site-packages/google/cloud/_helpers/__init__.py?line=141'>142</a>\u001b[0m \u001b[39m\"\"\"Determine default project ID explicitly or implicitly as fall-back.\u001b[39;00m\n\u001b[0;32m    <a href='file:///~/Anaconda3/envs/myenv/lib/site-packages/google/cloud/_helpers/__init__.py?line=142'>143</a>\u001b[0m \n\u001b[0;32m    <a href='file:///~/Anaconda3/envs/myenv/lib/site-packages/google/cloud/_helpers/__init__.py?line=143'>144</a>\u001b[0m \u001b[39mSee :func:`google.auth.default` for details on how the default project\u001b[39;00m\n\u001b[1;32m   (...)\u001b[0m\n\u001b[0;32m    <a href='file:///~/Anaconda3/envs/myenv/lib/site-packages/google/cloud/_helpers/__init__.py?line=150'>151</a>\u001b[0m \u001b[39m:returns: Default project if it can be determined.\u001b[39;00m\n\u001b[0;32m    <a href='file:///~/Anaconda3/envs/myenv/lib/site-packages/google/cloud/_helpers/__init__.py?line=151'>152</a>\u001b[0m \u001b[39m\"\"\"\u001b[39;00m\n\u001b[0;32m    <a href='file:///~/Anaconda3/envs/myenv/lib/site-packages/google/cloud/_helpers/__init__.py?line=152'>153</a>\u001b[0m \u001b[39mif\u001b[39;00m project \u001b[39mis\u001b[39;00m \u001b[39mNone\u001b[39;00m:\n\u001b[1;32m--> <a href='file:///~/Anaconda3/envs/myenv/lib/site-packages/google/cloud/_helpers/__init__.py?line=153'>154</a>\u001b[0m     _, project \u001b[39m=\u001b[39m google\u001b[39m.\u001b[39;49mauth\u001b[39m.\u001b[39;49mdefault()\n\u001b[0;32m    <a href='file:///~/Anaconda3/envs/myenv/lib/site-packages/google/cloud/_helpers/__init__.py?line=154'>155</a>\u001b[0m \u001b[39mreturn\u001b[39;00m project\n",
      "File \u001b[1;32m~\\Anaconda3\\envs\\myenv\\lib\\site-packages\\google\\auth\\_default.py:575\u001b[0m, in \u001b[0;36mdefault\u001b[1;34m(scopes, request, quota_project_id, default_scopes)\u001b[0m\n\u001b[0;32m    <a href='file:///~/Anaconda3/envs/myenv/lib/site-packages/google/auth/_default.py?line=566'>567</a>\u001b[0m             _LOGGER\u001b[39m.\u001b[39mwarning(\n\u001b[0;32m    <a href='file:///~/Anaconda3/envs/myenv/lib/site-packages/google/auth/_default.py?line=567'>568</a>\u001b[0m                 \u001b[39m\"\u001b[39m\u001b[39mNo project ID could be determined. Consider running \u001b[39m\u001b[39m\"\u001b[39m\n\u001b[0;32m    <a href='file:///~/Anaconda3/envs/myenv/lib/site-packages/google/auth/_default.py?line=568'>569</a>\u001b[0m                 \u001b[39m\"\u001b[39m\u001b[39m`gcloud config set project` or setting the \u001b[39m\u001b[39m%s\u001b[39;00m\u001b[39m \u001b[39m\u001b[39m\"\u001b[39m\n\u001b[0;32m    <a href='file:///~/Anaconda3/envs/myenv/lib/site-packages/google/auth/_default.py?line=569'>570</a>\u001b[0m                 \u001b[39m\"\u001b[39m\u001b[39menvironment variable\u001b[39m\u001b[39m\"\u001b[39m,\n\u001b[0;32m    <a href='file:///~/Anaconda3/envs/myenv/lib/site-packages/google/auth/_default.py?line=570'>571</a>\u001b[0m                 environment_vars\u001b[39m.\u001b[39mPROJECT,\n\u001b[0;32m    <a href='file:///~/Anaconda3/envs/myenv/lib/site-packages/google/auth/_default.py?line=571'>572</a>\u001b[0m             )\n\u001b[0;32m    <a href='file:///~/Anaconda3/envs/myenv/lib/site-packages/google/auth/_default.py?line=572'>573</a>\u001b[0m         \u001b[39mreturn\u001b[39;00m credentials, effective_project_id\n\u001b[1;32m--> <a href='file:///~/Anaconda3/envs/myenv/lib/site-packages/google/auth/_default.py?line=574'>575</a>\u001b[0m \u001b[39mraise\u001b[39;00m exceptions\u001b[39m.\u001b[39mDefaultCredentialsError(_HELP_MESSAGE)\n",
      "\u001b[1;31mDefaultCredentialsError\u001b[0m: Could not automatically determine credentials. Please set GOOGLE_APPLICATION_CREDENTIALS or explicitly create credentials and re-run the application. For more information, please see https://cloud.google.com/docs/authentication/getting-started"
     ]
    }
   ],
   "source": [
    "# Create a \"Client\" object\n",
    "client = bigquery.Client()"
   ]
  },
  {
   "cell_type": "code",
   "execution_count": 6,
   "metadata": {},
   "outputs": [
    {
     "ename": "NameError",
     "evalue": "name 'client' is not defined",
     "output_type": "error",
     "traceback": [
      "\u001b[1;31m---------------------------------------------------------------------------\u001b[0m",
      "\u001b[1;31mNameError\u001b[0m                                 Traceback (most recent call last)",
      "\u001b[1;32mc:\\Users\\joel_\\OneDrive\\Documentos\\GitHub\\2__Cursos__P\\Data Science\\DataAcademy\\kaggle.ipynb Cell 3'\u001b[0m in \u001b[0;36m<module>\u001b[1;34m\u001b[0m\n\u001b[0;32m      <a href='vscode-notebook-cell:/c%3A/Users/joel_/OneDrive/Documentos/GitHub/2__Cursos__P/Data%20Science/DataAcademy/kaggle.ipynb#ch0000002?line=0'>1</a>\u001b[0m \u001b[39m# Construct a reference to the \"hacker_news\" dataset\u001b[39;00m\n\u001b[1;32m----> <a href='vscode-notebook-cell:/c%3A/Users/joel_/OneDrive/Documentos/GitHub/2__Cursos__P/Data%20Science/DataAcademy/kaggle.ipynb#ch0000002?line=1'>2</a>\u001b[0m dataset_ref \u001b[39m=\u001b[39m client\u001b[39m.\u001b[39mdataset(\u001b[39m\"\u001b[39m\u001b[39mhacker_news\u001b[39m\u001b[39m\"\u001b[39m, project\u001b[39m=\u001b[39m\u001b[39m\"\u001b[39m\u001b[39mbigquery-public-data\u001b[39m\u001b[39m\"\u001b[39m)\n\u001b[0;32m      <a href='vscode-notebook-cell:/c%3A/Users/joel_/OneDrive/Documentos/GitHub/2__Cursos__P/Data%20Science/DataAcademy/kaggle.ipynb#ch0000002?line=3'>4</a>\u001b[0m \u001b[39m# API request - fetch the dataset\u001b[39;00m\n\u001b[0;32m      <a href='vscode-notebook-cell:/c%3A/Users/joel_/OneDrive/Documentos/GitHub/2__Cursos__P/Data%20Science/DataAcademy/kaggle.ipynb#ch0000002?line=4'>5</a>\u001b[0m dataset \u001b[39m=\u001b[39m client\u001b[39m.\u001b[39mget_dataset(dataset_ref)\n",
      "\u001b[1;31mNameError\u001b[0m: name 'client' is not defined"
     ]
    }
   ],
   "source": [
    "# Construct a reference to the \"hacker_news\" dataset\n",
    "dataset_ref = client.dataset(\"hacker_news\", project=\"bigquery-public-data\")\n",
    "\n",
    "# API request - fetch the dataset\n",
    "dataset = client.get_dataset(dataset_ref)"
   ]
  }
 ],
 "metadata": {
  "interpreter": {
   "hash": "7ca37cc3750f4731a3342e9ffab9c77d7e018353ba9530e4cceefd29d0e02bb7"
  },
  "kernelspec": {
   "display_name": "Python 3.9.6 ('myenv')",
   "language": "python",
   "name": "python3"
  },
  "language_info": {
   "codemirror_mode": {
    "name": "ipython",
    "version": 3
   },
   "file_extension": ".py",
   "mimetype": "text/x-python",
   "name": "python",
   "nbconvert_exporter": "python",
   "pygments_lexer": "ipython3",
   "version": "3.9.6"
  },
  "orig_nbformat": 4
 },
 "nbformat": 4,
 "nbformat_minor": 2
}
