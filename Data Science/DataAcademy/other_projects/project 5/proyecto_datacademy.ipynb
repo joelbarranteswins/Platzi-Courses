{
 "cells": [
  {
   "cell_type": "markdown",
   "source": "# Análisis de los 25 retailers más grandes de Estados Unidos",
   "metadata": {
    "cell_id": "1df879a0-53cd-4031-a50b-2c2fe17304a4",
    "tags": [],
    "is_collapsed": false,
    "deepnote_cell_height": 134,
    "deepnote_cell_type": "text-cell-h1"
   }
  },
  {
   "cell_type": "code",
   "metadata": {
    "tags": [],
    "cell_id": "3347a937-91c3-4305-b06c-213bb2f3bcaf",
    "deepnote_to_be_reexecuted": false,
    "source_hash": "24b26b86",
    "execution_start": 1645122388207,
    "execution_millis": 4191,
    "deepnote_cell_height": 135,
    "deepnote_cell_type": "code"
   },
   "source": "import pandas as pd\nimport numpy as np\nimport matplotlib.pyplot as plt\nimport seaborn as sns",
   "execution_count": null,
   "outputs": []
  },
  {
   "cell_type": "code",
   "metadata": {
    "cell_id": "081fdaf2-888a-4a54-9495-467464cfc400",
    "tags": [],
    "deepnote_to_be_reexecuted": false,
    "source_hash": "11d5be76",
    "execution_start": 1645122392406,
    "execution_millis": 20,
    "deepnote_cell_height": 99,
    "deepnote_cell_type": "code"
   },
   "source": "df_path = '/work/dataset_datacademy.csv'\ndf = pd.read_csv(df_path)",
   "execution_count": null,
   "outputs": []
  },
  {
   "cell_type": "code",
   "metadata": {
    "cell_id": "3490876d-1366-418a-b941-6e1aa2c83e17",
    "tags": [],
    "deepnote_to_be_reexecuted": false,
    "source_hash": "c085b6ba",
    "execution_start": 1645122392438,
    "execution_millis": 60,
    "deepnote_cell_height": 342,
    "deepnote_cell_type": "code"
   },
   "source": "df.head()",
   "execution_count": null,
   "outputs": [
    {
     "output_type": "execute_result",
     "execution_count": 3,
     "data": {
      "application/vnd.deepnote.dataframe.v3+json": {
       "column_count": 6,
       "row_count": 5,
       "columns": [
        {
         "name": "Company",
         "dtype": "object",
         "stats": {
          "unique_count": 5,
          "nan_count": 0,
          "categories": [
           {
            "name": "Walmart US",
            "count": 1
           },
           {
            "name": "Kroger",
            "count": 1
           },
           {
            "name": "3 others",
            "count": 3
           }
          ]
         }
        },
        {
         "name": "Sales",
         "dtype": "int64",
         "stats": {
          "unique_count": 5,
          "nan_count": 0,
          "min": "78924",
          "max": "658119",
          "histogram": [
           {
            "bin_start": 78924,
            "bin_end": 136843.5,
            "count": 4
           },
           {
            "bin_start": 136843.5,
            "bin_end": 194763,
            "count": 0
           },
           {
            "bin_start": 194763,
            "bin_end": 252682.5,
            "count": 0
           },
           {
            "bin_start": 252682.5,
            "bin_end": 310602,
            "count": 0
           },
           {
            "bin_start": 310602,
            "bin_end": 368521.5,
            "count": 0
           },
           {
            "bin_start": 368521.5,
            "bin_end": 426441,
            "count": 0
           },
           {
            "bin_start": 426441,
            "bin_end": 484360.5,
            "count": 0
           },
           {
            "bin_start": 484360.5,
            "bin_end": 542280,
            "count": 0
           },
           {
            "bin_start": 542280,
            "bin_end": 600199.5,
            "count": 0
           },
           {
            "bin_start": 600199.5,
            "bin_end": 658119,
            "count": 1
           }
          ]
         }
        },
        {
         "name": "Stores",
         "dtype": "float64",
         "stats": {
          "unique_count": 5,
          "nan_count": 0,
          "min": "495.0",
          "max": "8002.0",
          "histogram": [
           {
            "bin_start": 495,
            "bin_end": 1245.7,
            "count": 1
           },
           {
            "bin_start": 1245.7,
            "bin_end": 1996.4,
            "count": 1
           },
           {
            "bin_start": 1996.4,
            "bin_end": 2747.1000000000004,
            "count": 0
           },
           {
            "bin_start": 2747.1000000000004,
            "bin_end": 3497.8,
            "count": 0
           },
           {
            "bin_start": 3497.8,
            "bin_end": 4248.5,
            "count": 1
           },
           {
            "bin_start": 4248.5,
            "bin_end": 4999.200000000001,
            "count": 1
           },
           {
            "bin_start": 4999.200000000001,
            "bin_end": 5749.900000000001,
            "count": 0
           },
           {
            "bin_start": 5749.900000000001,
            "bin_end": 6500.6,
            "count": 0
           },
           {
            "bin_start": 6500.6,
            "bin_end": 7251.3,
            "count": 0
           },
           {
            "bin_start": 7251.3,
            "bin_end": 8002,
            "count": 1
           }
          ]
         }
        },
        {
         "name": "Sales/Avg. Store",
         "dtype": "float64",
         "stats": {
          "unique_count": 5,
          "nan_count": 0,
          "min": "9.81092672",
          "max": "187.7956204",
          "histogram": [
           {
            "bin_start": 9.81092672,
            "bin_end": 27.609396087999997,
            "count": 1
           },
           {
            "bin_start": 27.609396087999997,
            "bin_end": 45.407865455999996,
            "count": 2
           },
           {
            "bin_start": 45.407865455999996,
            "bin_end": 63.206334823999995,
            "count": 0
           },
           {
            "bin_start": 63.206334823999995,
            "bin_end": 81.004804192,
            "count": 1
           },
           {
            "bin_start": 81.004804192,
            "bin_end": 98.80327356,
            "count": 0
           },
           {
            "bin_start": 98.80327356,
            "bin_end": 116.601742928,
            "count": 0
           },
           {
            "bin_start": 116.601742928,
            "bin_end": 134.400212296,
            "count": 0
           },
           {
            "bin_start": 134.400212296,
            "bin_end": 152.198681664,
            "count": 0
           },
           {
            "bin_start": 152.198681664,
            "bin_end": 169.99715103199998,
            "count": 0
           },
           {
            "bin_start": 169.99715103199998,
            "bin_end": 187.7956204,
            "count": 1
           }
          ]
         }
        },
        {
         "name": "Store Count Growth",
         "dtype": "float64",
         "stats": {
          "unique_count": 5,
          "nan_count": 0,
          "min": "-0.01051069618",
          "max": "0.06681034483",
          "histogram": [
           {
            "bin_start": -0.01051069618,
            "bin_end": -0.0027785920789999983,
            "count": 1
           },
           {
            "bin_start": -0.0027785920789999983,
            "bin_end": 0.004953512022000003,
            "count": 1
           },
           {
            "bin_start": 0.004953512022000003,
            "bin_end": 0.012685616123000005,
            "count": 0
           },
           {
            "bin_start": 0.012685616123000005,
            "bin_end": 0.020417720224000006,
            "count": 1
           },
           {
            "bin_start": 0.020417720224000006,
            "bin_end": 0.028149824325000003,
            "count": 0
           },
           {
            "bin_start": 0.028149824325000003,
            "bin_end": 0.03588192842600001,
            "count": 0
           },
           {
            "bin_start": 0.03588192842600001,
            "bin_end": 0.043614032527,
            "count": 0
           },
           {
            "bin_start": 0.043614032527,
            "bin_end": 0.05134613662800001,
            "count": 0
           },
           {
            "bin_start": 0.05134613662800001,
            "bin_end": 0.059078240729,
            "count": 1
           },
           {
            "bin_start": 0.059078240729,
            "bin_end": 0.06681034483,
            "count": 1
           }
          ]
         }
        },
        {
         "name": "Category",
         "dtype": "object",
         "stats": {
          "unique_count": 5,
          "nan_count": 0,
          "categories": [
           {
            "name": "Supercenters",
            "count": 1
           },
           {
            "name": "Grocery",
            "count": 1
           },
           {
            "name": "3 others",
            "count": 3
           }
          ]
         }
        },
        {
         "name": "_deepnote_index_column",
         "dtype": "int64"
        }
       ],
       "rows": [
        {
         "Company": "Walmart US",
         "Sales": 658119,
         "Stores": 4574,
         "Sales/Avg. Store": 65.64972497,
         "Store Count Growth": 0.01284322409,
         "Category": "Supercenters",
         "_deepnote_index_column": 0
        },
        {
         "Company": "Kroger",
         "Sales": 115037,
         "Stores": 3931,
         "Sales/Avg. Store": 30.03184963,
         "Store Count Growth": 0.05388739946,
         "Category": "Grocery",
         "_deepnote_index_column": 1
        },
        {
         "Company": "Costco",
         "Sales": 90048,
         "Stores": 495,
         "Sales/Avg. Store": 187.7956204,
         "Store Count Growth": 0.06681034483,
         "Category": "Warehouse Club",
         "_deepnote_index_column": 2
        },
        {
         "Company": "Home Depot",
         "Sales": 83976,
         "Stores": 1965,
         "Sales/Avg. Store": 42.73587786,
         "Store Count Growth": 0,
         "Category": "Home Improvement",
         "_deepnote_index_column": 3
        },
        {
         "Company": "Walgreen Boots",
         "Sales": 78924,
         "Stores": 8002,
         "Sales/Avg. Store": 9.81092672,
         "Store Count Growth": -0.01051069618,
         "Category": "Drug Stores",
         "_deepnote_index_column": 4
        }
       ]
      },
      "text/plain": "          Company   Sales  Stores  Sales/Avg. Store  Store Count Growth  \\\n0      Walmart US  658119  4574.0         65.649725            0.012843   \n1          Kroger  115037  3931.0         30.031850            0.053887   \n2          Costco   90048   495.0        187.795620            0.066810   \n3      Home Depot   83976  1965.0         42.735878            0.000000   \n4  Walgreen Boots   78924  8002.0          9.810927           -0.010511   \n\n           Category  \n0      Supercenters  \n1           Grocery  \n2    Warehouse Club  \n3  Home Improvement  \n4       Drug Stores  ",
      "text/html": "<div>\n<style scoped>\n    .dataframe tbody tr th:only-of-type {\n        vertical-align: middle;\n    }\n\n    .dataframe tbody tr th {\n        vertical-align: top;\n    }\n\n    .dataframe thead th {\n        text-align: right;\n    }\n</style>\n<table border=\"1\" class=\"dataframe\">\n  <thead>\n    <tr style=\"text-align: right;\">\n      <th></th>\n      <th>Company</th>\n      <th>Sales</th>\n      <th>Stores</th>\n      <th>Sales/Avg. Store</th>\n      <th>Store Count Growth</th>\n      <th>Category</th>\n    </tr>\n  </thead>\n  <tbody>\n    <tr>\n      <th>0</th>\n      <td>Walmart US</td>\n      <td>658119</td>\n      <td>4574.0</td>\n      <td>65.649725</td>\n      <td>0.012843</td>\n      <td>Supercenters</td>\n    </tr>\n    <tr>\n      <th>1</th>\n      <td>Kroger</td>\n      <td>115037</td>\n      <td>3931.0</td>\n      <td>30.031850</td>\n      <td>0.053887</td>\n      <td>Grocery</td>\n    </tr>\n    <tr>\n      <th>2</th>\n      <td>Costco</td>\n      <td>90048</td>\n      <td>495.0</td>\n      <td>187.795620</td>\n      <td>0.066810</td>\n      <td>Warehouse Club</td>\n    </tr>\n    <tr>\n      <th>3</th>\n      <td>Home Depot</td>\n      <td>83976</td>\n      <td>1965.0</td>\n      <td>42.735878</td>\n      <td>0.000000</td>\n      <td>Home Improvement</td>\n    </tr>\n    <tr>\n      <th>4</th>\n      <td>Walgreen Boots</td>\n      <td>78924</td>\n      <td>8002.0</td>\n      <td>9.810927</td>\n      <td>-0.010511</td>\n      <td>Drug Stores</td>\n    </tr>\n  </tbody>\n</table>\n</div>"
     },
     "metadata": {}
    }
   ]
  },
  {
   "cell_type": "code",
   "metadata": {
    "cell_id": "676bf895-adf4-44db-95bc-052ad9acf66e",
    "tags": [],
    "deepnote_to_be_reexecuted": false,
    "source_hash": "f88152d9",
    "execution_start": 1645122396396,
    "execution_millis": 153,
    "deepnote_output_heights": [
     611
    ],
    "deepnote_cell_height": 465,
    "deepnote_cell_type": "code"
   },
   "source": "df.describe()",
   "execution_count": null,
   "outputs": [
    {
     "output_type": "execute_result",
     "execution_count": 4,
     "data": {
      "application/vnd.deepnote.dataframe.v3+json": {
       "column_count": 4,
       "row_count": 8,
       "columns": [
        {
         "name": "Sales",
         "dtype": "float64",
         "stats": {
          "unique_count": 8,
          "nan_count": 0,
          "min": "25.0",
          "max": "658119.0",
          "histogram": [
           {
            "bin_start": 25,
            "bin_end": 65834.4,
            "count": 4
           },
           {
            "bin_start": 65834.4,
            "bin_end": 131643.8,
            "count": 3
           },
           {
            "bin_start": 131643.8,
            "bin_end": 197453.19999999998,
            "count": 0
           },
           {
            "bin_start": 197453.19999999998,
            "bin_end": 263262.6,
            "count": 0
           },
           {
            "bin_start": 263262.6,
            "bin_end": 329072,
            "count": 0
           },
           {
            "bin_start": 329072,
            "bin_end": 394881.39999999997,
            "count": 0
           },
           {
            "bin_start": 394881.39999999997,
            "bin_end": 460690.79999999993,
            "count": 0
           },
           {
            "bin_start": 460690.79999999993,
            "bin_end": 526500.2,
            "count": 0
           },
           {
            "bin_start": 526500.2,
            "bin_end": 592309.6,
            "count": 0
           },
           {
            "bin_start": 592309.6,
            "bin_end": 658119,
            "count": 1
           }
          ]
         }
        },
        {
         "name": "Stores",
         "dtype": "float64",
         "stats": {
          "unique_count": 8,
          "nan_count": 0,
          "min": "23.0",
          "max": "14250.0",
          "histogram": [
           {
            "bin_start": 23,
            "bin_end": 1445.7,
            "count": 3
           },
           {
            "bin_start": 1445.7,
            "bin_end": 2868.4,
            "count": 1
           },
           {
            "bin_start": 2868.4,
            "bin_end": 4291.1,
            "count": 3
           },
           {
            "bin_start": 4291.1,
            "bin_end": 5713.8,
            "count": 0
           },
           {
            "bin_start": 5713.8,
            "bin_end": 7136.5,
            "count": 0
           },
           {
            "bin_start": 7136.5,
            "bin_end": 8559.2,
            "count": 0
           },
           {
            "bin_start": 8559.2,
            "bin_end": 9981.9,
            "count": 0
           },
           {
            "bin_start": 9981.9,
            "bin_end": 11404.6,
            "count": 0
           },
           {
            "bin_start": 11404.6,
            "bin_end": 12827.300000000001,
            "count": 0
           },
           {
            "bin_start": 12827.300000000001,
            "bin_end": 14250,
            "count": 1
           }
          ]
         }
        },
        {
         "name": "Sales/Avg. Store",
         "dtype": "float64",
         "stats": {
          "unique_count": 8,
          "nan_count": 0,
          "min": "1.56391854",
          "max": "187.7956204",
          "histogram": [
           {
            "bin_start": 1.56391854,
            "bin_end": 20.187088726,
            "count": 2
           },
           {
            "bin_start": 20.187088726,
            "bin_end": 38.810258912,
            "count": 3
           },
           {
            "bin_start": 38.810258912,
            "bin_end": 57.433429098000005,
            "count": 2
           },
           {
            "bin_start": 57.433429098000005,
            "bin_end": 76.056599284,
            "count": 0
           },
           {
            "bin_start": 76.056599284,
            "bin_end": 94.67976947,
            "count": 0
           },
           {
            "bin_start": 94.67976947,
            "bin_end": 113.302939656,
            "count": 0
           },
           {
            "bin_start": 113.302939656,
            "bin_end": 131.926109842,
            "count": 0
           },
           {
            "bin_start": 131.926109842,
            "bin_end": 150.549280028,
            "count": 0
           },
           {
            "bin_start": 150.549280028,
            "bin_end": 169.172450214,
            "count": 0
           },
           {
            "bin_start": 169.172450214,
            "bin_end": 187.7956204,
            "count": 1
           }
          ]
         }
        },
        {
         "name": "Store Count Growth",
         "dtype": "float64",
         "stats": {
          "unique_count": 8,
          "nan_count": 0,
          "min": "-0.05951506245",
          "max": "23.0",
          "histogram": [
           {
            "bin_start": -0.05951506245,
            "bin_end": 2.246436443795,
            "count": 7
           },
           {
            "bin_start": 2.246436443795,
            "bin_end": 4.55238795004,
            "count": 0
           },
           {
            "bin_start": 4.55238795004,
            "bin_end": 6.858339456285,
            "count": 0
           },
           {
            "bin_start": 6.858339456285,
            "bin_end": 9.16429096253,
            "count": 0
           },
           {
            "bin_start": 9.16429096253,
            "bin_end": 11.470242468775,
            "count": 0
           },
           {
            "bin_start": 11.470242468775,
            "bin_end": 13.77619397502,
            "count": 0
           },
           {
            "bin_start": 13.77619397502,
            "bin_end": 16.082145481264998,
            "count": 0
           },
           {
            "bin_start": 16.082145481264998,
            "bin_end": 18.38809698751,
            "count": 0
           },
           {
            "bin_start": 18.38809698751,
            "bin_end": 20.694048493755,
            "count": 0
           },
           {
            "bin_start": 20.694048493755,
            "bin_end": 23,
            "count": 1
           }
          ]
         }
        },
        {
         "name": "_deepnote_index_column",
         "dtype": "object"
        }
       ],
       "rows": [
        {
         "Sales": 25,
         "Stores": 23,
         "Sales/Avg. Store": 23,
         "Store Count Growth": 23,
         "_deepnote_index_column": "count"
        },
        {
         "Sales": 71063.08,
         "Stores": 3466.5652173913045,
         "Sales/Avg. Store": 36.87096578552174,
         "Store Count Growth": 0.04023000882013044,
         "_deepnote_index_column": "mean"
        },
        {
         "Sales": 125405.72764395573,
         "Stores": 4038.708713821636,
         "Sales/Avg. Store": 40.62527709398271,
         "Store Count Growth": 0.06855210542240484,
         "_deepnote_index_column": "std"
        },
        {
         "Sales": 16592,
         "Stores": 231,
         "Sales/Avg. Store": 1.56391854,
         "Store Count Growth": -0.05951506245,
         "_deepnote_index_column": "min"
        },
        {
         "Sales": 24402,
         "Stores": 1029,
         "Sales/Avg. Store": 11.263462319999999,
         "Store Count Growth": -0.0018599562365,
         "_deepnote_index_column": "25%"
        },
        {
         "Sales": 34980,
         "Stores": 1828,
         "Sales/Avg. Store": 25.99773328,
         "Store Count Growth": 0.01952035694,
         "_deepnote_index_column": "50%"
        },
        {
         "Sales": 71687,
         "Stores": 4242,
         "Sales/Avg. Store": 41.358955215,
         "Store Count Growth": 0.07893390251,
         "_deepnote_index_column": "75%"
        },
        {
         "Sales": 658119,
         "Stores": 14250,
         "Sales/Avg. Store": 187.7956204,
         "Store Count Growth": 0.2556621881,
         "_deepnote_index_column": "max"
        }
       ]
      },
      "text/plain": "               Sales        Stores  Sales/Avg. Store  Store Count Growth\ncount      25.000000     23.000000         23.000000           23.000000\nmean    71063.080000   3466.565217         36.870966            0.040230\nstd    125405.727644   4038.708714         40.625277            0.068552\nmin     16592.000000    231.000000          1.563919           -0.059515\n25%     24402.000000   1029.000000         11.263462           -0.001860\n50%     34980.000000   1828.000000         25.997733            0.019520\n75%     71687.000000   4242.000000         41.358955            0.078934\nmax    658119.000000  14250.000000        187.795620            0.255662",
      "text/html": "<div>\n<style scoped>\n    .dataframe tbody tr th:only-of-type {\n        vertical-align: middle;\n    }\n\n    .dataframe tbody tr th {\n        vertical-align: top;\n    }\n\n    .dataframe thead th {\n        text-align: right;\n    }\n</style>\n<table border=\"1\" class=\"dataframe\">\n  <thead>\n    <tr style=\"text-align: right;\">\n      <th></th>\n      <th>Sales</th>\n      <th>Stores</th>\n      <th>Sales/Avg. Store</th>\n      <th>Store Count Growth</th>\n    </tr>\n  </thead>\n  <tbody>\n    <tr>\n      <th>count</th>\n      <td>25.000000</td>\n      <td>23.000000</td>\n      <td>23.000000</td>\n      <td>23.000000</td>\n    </tr>\n    <tr>\n      <th>mean</th>\n      <td>71063.080000</td>\n      <td>3466.565217</td>\n      <td>36.870966</td>\n      <td>0.040230</td>\n    </tr>\n    <tr>\n      <th>std</th>\n      <td>125405.727644</td>\n      <td>4038.708714</td>\n      <td>40.625277</td>\n      <td>0.068552</td>\n    </tr>\n    <tr>\n      <th>min</th>\n      <td>16592.000000</td>\n      <td>231.000000</td>\n      <td>1.563919</td>\n      <td>-0.059515</td>\n    </tr>\n    <tr>\n      <th>25%</th>\n      <td>24402.000000</td>\n      <td>1029.000000</td>\n      <td>11.263462</td>\n      <td>-0.001860</td>\n    </tr>\n    <tr>\n      <th>50%</th>\n      <td>34980.000000</td>\n      <td>1828.000000</td>\n      <td>25.997733</td>\n      <td>0.019520</td>\n    </tr>\n    <tr>\n      <th>75%</th>\n      <td>71687.000000</td>\n      <td>4242.000000</td>\n      <td>41.358955</td>\n      <td>0.078934</td>\n    </tr>\n    <tr>\n      <th>max</th>\n      <td>658119.000000</td>\n      <td>14250.000000</td>\n      <td>187.795620</td>\n      <td>0.255662</td>\n    </tr>\n  </tbody>\n</table>\n</div>"
     },
     "metadata": {}
    }
   ]
  },
  {
   "cell_type": "markdown",
   "source": "A primera vista, la media de ventas (71063.08) está muy alejada de la mediana o Q2 (34980) lo que nos habla de una muestra sesgada, donde algunos de sus integrantes se despega claramente del resto en cuanto a ventas. Mas adelante veremos de quien se trata y cuanto se despega.",
   "metadata": {
    "cell_id": "ef8186c7-2422-4039-b4a3-beda2abd8f58",
    "tags": [],
    "deepnote_cell_height": 97.1875,
    "deepnote_cell_type": "markdown"
   }
  },
  {
   "cell_type": "code",
   "metadata": {
    "cell_id": "2962bbae-f905-4368-9c03-e4e61d0e06bc",
    "tags": [],
    "deepnote_to_be_reexecuted": false,
    "source_hash": "c34c212",
    "execution_start": 1645122406070,
    "execution_millis": 94,
    "deepnote_cell_height": 616,
    "deepnote_cell_type": "code"
   },
   "source": "df_sorted = df.sort_values('Sales', ascending=False)\ndf_sorted",
   "execution_count": null,
   "outputs": [
    {
     "output_type": "execute_result",
     "execution_count": 5,
     "data": {
      "application/vnd.deepnote.dataframe.v3+json": {
       "column_count": 6,
       "row_count": 25,
       "columns": [
        {
         "name": "Company",
         "dtype": "object",
         "stats": {
          "unique_count": 25,
          "nan_count": 0,
          "categories": [
           {
            "name": "Walmart US",
            "count": 1
           },
           {
            "name": "Kroger",
            "count": 1
           },
           {
            "name": "23 others",
            "count": 23
           }
          ]
         }
        },
        {
         "name": "Sales",
         "dtype": "int64",
         "stats": {
          "unique_count": 25,
          "nan_count": 0,
          "min": "16592",
          "max": "658119",
          "histogram": [
           {
            "bin_start": 16592,
            "bin_end": 80744.7,
            "count": 21
           },
           {
            "bin_start": 80744.7,
            "bin_end": 144897.4,
            "count": 3
           },
           {
            "bin_start": 144897.4,
            "bin_end": 209050.09999999998,
            "count": 0
           },
           {
            "bin_start": 209050.09999999998,
            "bin_end": 273202.8,
            "count": 0
           },
           {
            "bin_start": 273202.8,
            "bin_end": 337355.5,
            "count": 0
           },
           {
            "bin_start": 337355.5,
            "bin_end": 401508.19999999995,
            "count": 0
           },
           {
            "bin_start": 401508.19999999995,
            "bin_end": 465660.89999999997,
            "count": 0
           },
           {
            "bin_start": 465660.89999999997,
            "bin_end": 529813.6,
            "count": 0
           },
           {
            "bin_start": 529813.6,
            "bin_end": 593966.2999999999,
            "count": 0
           },
           {
            "bin_start": 593966.2999999999,
            "bin_end": 658119,
            "count": 1
           }
          ]
         }
        },
        {
         "name": "Stores",
         "dtype": "float64",
         "stats": {
          "unique_count": 23,
          "nan_count": 2,
          "min": "231.0",
          "max": "14250.0",
          "histogram": [
           {
            "bin_start": 231,
            "bin_end": 1632.9,
            "count": 10
           },
           {
            "bin_start": 1632.9,
            "bin_end": 3034.8,
            "count": 6
           },
           {
            "bin_start": 3034.8,
            "bin_end": 4436.700000000001,
            "count": 1
           },
           {
            "bin_start": 4436.700000000001,
            "bin_end": 5838.6,
            "count": 2
           },
           {
            "bin_start": 5838.6,
            "bin_end": 7240.5,
            "count": 0
           },
           {
            "bin_start": 7240.5,
            "bin_end": 8642.400000000001,
            "count": 1
           },
           {
            "bin_start": 8642.400000000001,
            "bin_end": 10044.300000000001,
            "count": 1
           },
           {
            "bin_start": 10044.300000000001,
            "bin_end": 11446.2,
            "count": 0
           },
           {
            "bin_start": 11446.2,
            "bin_end": 12848.1,
            "count": 0
           },
           {
            "bin_start": 12848.1,
            "bin_end": 14250,
            "count": 2
           }
          ]
         }
        },
        {
         "name": "Sales/Avg. Store",
         "dtype": "float64",
         "stats": {
          "unique_count": 23,
          "nan_count": 2,
          "min": "1.56391854",
          "max": "187.7956204",
          "histogram": [
           {
            "bin_start": 1.56391854,
            "bin_end": 20.187088726,
            "count": 9
           },
           {
            "bin_start": 20.187088726,
            "bin_end": 38.810258912,
            "count": 7
           },
           {
            "bin_start": 38.810258912,
            "bin_end": 57.433429098000005,
            "count": 2
           },
           {
            "bin_start": 57.433429098000005,
            "bin_end": 76.056599284,
            "count": 3
           },
           {
            "bin_start": 76.056599284,
            "bin_end": 94.67976947,
            "count": 1
           },
           {
            "bin_start": 94.67976947,
            "bin_end": 113.302939656,
            "count": 0
           },
           {
            "bin_start": 113.302939656,
            "bin_end": 131.926109842,
            "count": 0
           },
           {
            "bin_start": 131.926109842,
            "bin_end": 150.549280028,
            "count": 0
           },
           {
            "bin_start": 150.549280028,
            "bin_end": 169.172450214,
            "count": 0
           },
           {
            "bin_start": 169.172450214,
            "bin_end": 187.7956204,
            "count": 1
           }
          ]
         }
        },
        {
         "name": "Store Count Growth",
         "dtype": "float64",
         "stats": {
          "unique_count": 23,
          "nan_count": 2,
          "min": "-0.05951506245",
          "max": "0.2556621881",
          "histogram": [
           {
            "bin_start": -0.05951506245,
            "bin_end": -0.027997337395000002,
            "count": 3
           },
           {
            "bin_start": -0.027997337395000002,
            "bin_end": 0.003520387659999999,
            "count": 4
           },
           {
            "bin_start": 0.003520387659999999,
            "bin_end": 0.035038112715,
            "count": 6
           },
           {
            "bin_start": 0.035038112715,
            "bin_end": 0.06655583777,
            "count": 2
           },
           {
            "bin_start": 0.06655583777,
            "bin_end": 0.098073562825,
            "count": 5
           },
           {
            "bin_start": 0.098073562825,
            "bin_end": 0.12959128788000002,
            "count": 1
           },
           {
            "bin_start": 0.12959128788000002,
            "bin_end": 0.16110901293500002,
            "count": 1
           },
           {
            "bin_start": 0.16110901293500002,
            "bin_end": 0.19262673799000002,
            "count": 0
           },
           {
            "bin_start": 0.19262673799000002,
            "bin_end": 0.22414446304500002,
            "count": 0
           },
           {
            "bin_start": 0.22414446304500002,
            "bin_end": 0.2556621881,
            "count": 1
           }
          ]
         }
        },
        {
         "name": "Category",
         "dtype": "object",
         "stats": {
          "unique_count": 11,
          "nan_count": 1,
          "categories": [
           {
            "name": "Grocery",
            "count": 7
           },
           {
            "name": "10 others",
            "count": 17
           },
           {
            "name": "Missing",
            "count": 1
           }
          ]
         }
        },
        {
         "name": "_deepnote_index_column",
         "dtype": "int64"
        }
       ],
       "rows": [
        {
         "Company": "Walmart US",
         "Sales": 658119,
         "Stores": 4574,
         "Sales/Avg. Store": 65.64972497,
         "Store Count Growth": 0.01284322409,
         "Category": "Supercenters",
         "_deepnote_index_column": 0
        },
        {
         "Company": "Kroger",
         "Sales": 115037,
         "Stores": 3931,
         "Sales/Avg. Store": 30.03184963,
         "Store Count Growth": 0.05388739946,
         "Category": "Grocery",
         "_deepnote_index_column": 1
        },
        {
         "Company": "Costco",
         "Sales": 90048,
         "Stores": 495,
         "Sales/Avg. Store": 187.7956204,
         "Store Count Growth": 0.06681034483,
         "Category": "Warehouse Club",
         "_deepnote_index_column": 2
        },
        {
         "Company": "Home Depot",
         "Sales": 83976,
         "Stores": 1965,
         "Sales/Avg. Store": 42.73587786,
         "Store Count Growth": 0,
         "Category": "Home Improvement",
         "_deepnote_index_column": 3
        },
        {
         "Company": "Walgreen Boots",
         "Sales": 78924,
         "Stores": 8002,
         "Sales/Avg. Store": 9.81092672,
         "Store Count Growth": -0.01051069618,
         "Category": "Drug Stores",
         "_deepnote_index_column": 4
        },
        {
         "Company": "CVS incl. Target",
         "Sales": 77792,
         "Stores": 9813,
         "Sales/Avg. Store": 8.825958702,
         "Store Count Growth": 0.2556621881,
         "Category": "Drug Stores",
         "_deepnote_index_column": 5
        },
        {
         "Company": "Amazon",
         "Sales": 71687,
         "Stores": "nan",
         "Sales/Avg. Store": "nan",
         "Store Count Growth": "nan",
         "Category": "Electronic/Mail Order",
         "_deepnote_index_column": 6
        },
        {
         "Company": "Target",
         "Sales": 71208,
         "Stores": 1772,
         "Sales/Avg. Store": 39.98203257,
         "Store Count Growth": -0.01005586592,
         "Category": "Supercenters",
         "_deepnote_index_column": 7
        },
        {
         "Company": "Lowe's",
         "Sales": 60311,
         "Stores": 1828,
         "Sales/Avg. Store": 33.31179232,
         "Store Count Growth": 0.01952035694,
         "Category": "Home Improvement",
         "_deepnote_index_column": 8
        },
        {
         "Company": "Albertsons",
         "Sales": 56829,
         "Stores": 2326,
         "Sales/Avg. Store": 23.87773109,
         "Store Count Growth": -0.04437140509,
         "Category": "Grocery",
         "_deepnote_index_column": 9
        }
       ]
      },
      "text/plain": "               Company   Sales   Stores  Sales/Avg. Store  Store Count Growth  \\\n0           Walmart US  658119   4574.0         65.649725            0.012843   \n1               Kroger  115037   3931.0         30.031850            0.053887   \n2               Costco   90048    495.0        187.795620            0.066810   \n3           Home Depot   83976   1965.0         42.735878            0.000000   \n4       Walgreen Boots   78924   8002.0          9.810927           -0.010511   \n5     CVS incl. Target   77792   9813.0          8.825959            0.255662   \n6               Amazon   71687      NaN               NaN                 NaN   \n7               Target   71208   1772.0         39.982033           -0.010056   \n8               Lowe's   60311   1828.0         33.311792            0.019520   \n9           Albertsons   56829   2326.0         23.877731           -0.044371   \n10          Sam's Club   56828    655.0         87.293395            0.012365   \n11  Apple incl. Online   37664      NaN               NaN                 NaN   \n12            Best Buy   34980   1389.0         24.685956           -0.038754   \n13              Publix   34408   1351.0         25.997733            0.042438   \n14            Rite Aid   27486   4553.0          6.025649           -0.003720   \n15               Ahold   26903    794.0         34.446863            0.033854   \n16              Macy's   26028    889.0         30.442105            0.082826   \n17                 TJX   25012   2770.0          9.369545            0.078241   \n18                Aldi   24402   2021.0         12.715998            0.112273   \n19      Dollar General   22234  13350.0          1.768885            0.132412   \n20         Dollar Tree   21464  14250.0          1.563919            0.079627   \n21                 HEB   21384    323.0         66.825000            0.018927   \n22              Kohl's   19060   1169.0         16.353496            0.006024   \n23            Delhaize   18201   1280.0         13.783415           -0.059515   \n24              Meijer   16592    231.0         74.738739            0.084507   \n\n                 Category  \n0            Supercenters  \n1                 Grocery  \n2          Warehouse Club  \n3        Home Improvement  \n4             Drug Stores  \n5             Drug Stores  \n6   Electronic/Mail Order  \n7            Supercenters  \n8        Home Improvement  \n9                 Grocery  \n10        Warehouse Clubs  \n11                    NaN  \n12            Electronics  \n13                Grocery  \n14            Drug Stores  \n15                Grocery  \n16      Department Stores  \n17                Apparel  \n18                Grocery  \n19          Dollar Stores  \n20          Dollar Stores  \n21                Grocery  \n22      Department Stores  \n23                Grocery  \n24           Supercenters  ",
      "text/html": "<div>\n<style scoped>\n    .dataframe tbody tr th:only-of-type {\n        vertical-align: middle;\n    }\n\n    .dataframe tbody tr th {\n        vertical-align: top;\n    }\n\n    .dataframe thead th {\n        text-align: right;\n    }\n</style>\n<table border=\"1\" class=\"dataframe\">\n  <thead>\n    <tr style=\"text-align: right;\">\n      <th></th>\n      <th>Company</th>\n      <th>Sales</th>\n      <th>Stores</th>\n      <th>Sales/Avg. Store</th>\n      <th>Store Count Growth</th>\n      <th>Category</th>\n    </tr>\n  </thead>\n  <tbody>\n    <tr>\n      <th>0</th>\n      <td>Walmart US</td>\n      <td>658119</td>\n      <td>4574.0</td>\n      <td>65.649725</td>\n      <td>0.012843</td>\n      <td>Supercenters</td>\n    </tr>\n    <tr>\n      <th>1</th>\n      <td>Kroger</td>\n      <td>115037</td>\n      <td>3931.0</td>\n      <td>30.031850</td>\n      <td>0.053887</td>\n      <td>Grocery</td>\n    </tr>\n    <tr>\n      <th>2</th>\n      <td>Costco</td>\n      <td>90048</td>\n      <td>495.0</td>\n      <td>187.795620</td>\n      <td>0.066810</td>\n      <td>Warehouse Club</td>\n    </tr>\n    <tr>\n      <th>3</th>\n      <td>Home Depot</td>\n      <td>83976</td>\n      <td>1965.0</td>\n      <td>42.735878</td>\n      <td>0.000000</td>\n      <td>Home Improvement</td>\n    </tr>\n    <tr>\n      <th>4</th>\n      <td>Walgreen Boots</td>\n      <td>78924</td>\n      <td>8002.0</td>\n      <td>9.810927</td>\n      <td>-0.010511</td>\n      <td>Drug Stores</td>\n    </tr>\n    <tr>\n      <th>5</th>\n      <td>CVS incl. Target</td>\n      <td>77792</td>\n      <td>9813.0</td>\n      <td>8.825959</td>\n      <td>0.255662</td>\n      <td>Drug Stores</td>\n    </tr>\n    <tr>\n      <th>6</th>\n      <td>Amazon</td>\n      <td>71687</td>\n      <td>NaN</td>\n      <td>NaN</td>\n      <td>NaN</td>\n      <td>Electronic/Mail Order</td>\n    </tr>\n    <tr>\n      <th>7</th>\n      <td>Target</td>\n      <td>71208</td>\n      <td>1772.0</td>\n      <td>39.982033</td>\n      <td>-0.010056</td>\n      <td>Supercenters</td>\n    </tr>\n    <tr>\n      <th>8</th>\n      <td>Lowe's</td>\n      <td>60311</td>\n      <td>1828.0</td>\n      <td>33.311792</td>\n      <td>0.019520</td>\n      <td>Home Improvement</td>\n    </tr>\n    <tr>\n      <th>9</th>\n      <td>Albertsons</td>\n      <td>56829</td>\n      <td>2326.0</td>\n      <td>23.877731</td>\n      <td>-0.044371</td>\n      <td>Grocery</td>\n    </tr>\n    <tr>\n      <th>10</th>\n      <td>Sam's Club</td>\n      <td>56828</td>\n      <td>655.0</td>\n      <td>87.293395</td>\n      <td>0.012365</td>\n      <td>Warehouse Clubs</td>\n    </tr>\n    <tr>\n      <th>11</th>\n      <td>Apple incl. Online</td>\n      <td>37664</td>\n      <td>NaN</td>\n      <td>NaN</td>\n      <td>NaN</td>\n      <td>NaN</td>\n    </tr>\n    <tr>\n      <th>12</th>\n      <td>Best Buy</td>\n      <td>34980</td>\n      <td>1389.0</td>\n      <td>24.685956</td>\n      <td>-0.038754</td>\n      <td>Electronics</td>\n    </tr>\n    <tr>\n      <th>13</th>\n      <td>Publix</td>\n      <td>34408</td>\n      <td>1351.0</td>\n      <td>25.997733</td>\n      <td>0.042438</td>\n      <td>Grocery</td>\n    </tr>\n    <tr>\n      <th>14</th>\n      <td>Rite Aid</td>\n      <td>27486</td>\n      <td>4553.0</td>\n      <td>6.025649</td>\n      <td>-0.003720</td>\n      <td>Drug Stores</td>\n    </tr>\n    <tr>\n      <th>15</th>\n      <td>Ahold</td>\n      <td>26903</td>\n      <td>794.0</td>\n      <td>34.446863</td>\n      <td>0.033854</td>\n      <td>Grocery</td>\n    </tr>\n    <tr>\n      <th>16</th>\n      <td>Macy's</td>\n      <td>26028</td>\n      <td>889.0</td>\n      <td>30.442105</td>\n      <td>0.082826</td>\n      <td>Department Stores</td>\n    </tr>\n    <tr>\n      <th>17</th>\n      <td>TJX</td>\n      <td>25012</td>\n      <td>2770.0</td>\n      <td>9.369545</td>\n      <td>0.078241</td>\n      <td>Apparel</td>\n    </tr>\n    <tr>\n      <th>18</th>\n      <td>Aldi</td>\n      <td>24402</td>\n      <td>2021.0</td>\n      <td>12.715998</td>\n      <td>0.112273</td>\n      <td>Grocery</td>\n    </tr>\n    <tr>\n      <th>19</th>\n      <td>Dollar General</td>\n      <td>22234</td>\n      <td>13350.0</td>\n      <td>1.768885</td>\n      <td>0.132412</td>\n      <td>Dollar Stores</td>\n    </tr>\n    <tr>\n      <th>20</th>\n      <td>Dollar Tree</td>\n      <td>21464</td>\n      <td>14250.0</td>\n      <td>1.563919</td>\n      <td>0.079627</td>\n      <td>Dollar Stores</td>\n    </tr>\n    <tr>\n      <th>21</th>\n      <td>HEB</td>\n      <td>21384</td>\n      <td>323.0</td>\n      <td>66.825000</td>\n      <td>0.018927</td>\n      <td>Grocery</td>\n    </tr>\n    <tr>\n      <th>22</th>\n      <td>Kohl's</td>\n      <td>19060</td>\n      <td>1169.0</td>\n      <td>16.353496</td>\n      <td>0.006024</td>\n      <td>Department Stores</td>\n    </tr>\n    <tr>\n      <th>23</th>\n      <td>Delhaize</td>\n      <td>18201</td>\n      <td>1280.0</td>\n      <td>13.783415</td>\n      <td>-0.059515</td>\n      <td>Grocery</td>\n    </tr>\n    <tr>\n      <th>24</th>\n      <td>Meijer</td>\n      <td>16592</td>\n      <td>231.0</td>\n      <td>74.738739</td>\n      <td>0.084507</td>\n      <td>Supercenters</td>\n    </tr>\n  </tbody>\n</table>\n</div>"
     },
     "metadata": {}
    }
   ]
  },
  {
   "cell_type": "code",
   "metadata": {
    "cell_id": "e38f598a-952d-4fb3-96c8-4649fe8feb5e",
    "tags": [],
    "deepnote_to_be_reexecuted": false,
    "source_hash": "fb0f5fc7",
    "execution_start": 1645122410848,
    "execution_millis": 37,
    "deepnote_cell_height": 360,
    "deepnote_cell_type": "code"
   },
   "source": "df_clipping = df_sorted.iloc[ : 5 , : ]\ndf_clipping",
   "execution_count": null,
   "outputs": [
    {
     "output_type": "execute_result",
     "execution_count": 6,
     "data": {
      "application/vnd.deepnote.dataframe.v3+json": {
       "column_count": 6,
       "row_count": 5,
       "columns": [
        {
         "name": "Company",
         "dtype": "object",
         "stats": {
          "unique_count": 5,
          "nan_count": 0,
          "categories": [
           {
            "name": "Walmart US",
            "count": 1
           },
           {
            "name": "Kroger",
            "count": 1
           },
           {
            "name": "3 others",
            "count": 3
           }
          ]
         }
        },
        {
         "name": "Sales",
         "dtype": "int64",
         "stats": {
          "unique_count": 5,
          "nan_count": 0,
          "min": "78924",
          "max": "658119",
          "histogram": [
           {
            "bin_start": 78924,
            "bin_end": 136843.5,
            "count": 4
           },
           {
            "bin_start": 136843.5,
            "bin_end": 194763,
            "count": 0
           },
           {
            "bin_start": 194763,
            "bin_end": 252682.5,
            "count": 0
           },
           {
            "bin_start": 252682.5,
            "bin_end": 310602,
            "count": 0
           },
           {
            "bin_start": 310602,
            "bin_end": 368521.5,
            "count": 0
           },
           {
            "bin_start": 368521.5,
            "bin_end": 426441,
            "count": 0
           },
           {
            "bin_start": 426441,
            "bin_end": 484360.5,
            "count": 0
           },
           {
            "bin_start": 484360.5,
            "bin_end": 542280,
            "count": 0
           },
           {
            "bin_start": 542280,
            "bin_end": 600199.5,
            "count": 0
           },
           {
            "bin_start": 600199.5,
            "bin_end": 658119,
            "count": 1
           }
          ]
         }
        },
        {
         "name": "Stores",
         "dtype": "float64",
         "stats": {
          "unique_count": 5,
          "nan_count": 0,
          "min": "495.0",
          "max": "8002.0",
          "histogram": [
           {
            "bin_start": 495,
            "bin_end": 1245.7,
            "count": 1
           },
           {
            "bin_start": 1245.7,
            "bin_end": 1996.4,
            "count": 1
           },
           {
            "bin_start": 1996.4,
            "bin_end": 2747.1000000000004,
            "count": 0
           },
           {
            "bin_start": 2747.1000000000004,
            "bin_end": 3497.8,
            "count": 0
           },
           {
            "bin_start": 3497.8,
            "bin_end": 4248.5,
            "count": 1
           },
           {
            "bin_start": 4248.5,
            "bin_end": 4999.200000000001,
            "count": 1
           },
           {
            "bin_start": 4999.200000000001,
            "bin_end": 5749.900000000001,
            "count": 0
           },
           {
            "bin_start": 5749.900000000001,
            "bin_end": 6500.6,
            "count": 0
           },
           {
            "bin_start": 6500.6,
            "bin_end": 7251.3,
            "count": 0
           },
           {
            "bin_start": 7251.3,
            "bin_end": 8002,
            "count": 1
           }
          ]
         }
        },
        {
         "name": "Sales/Avg. Store",
         "dtype": "float64",
         "stats": {
          "unique_count": 5,
          "nan_count": 0,
          "min": "9.81092672",
          "max": "187.7956204",
          "histogram": [
           {
            "bin_start": 9.81092672,
            "bin_end": 27.609396087999997,
            "count": 1
           },
           {
            "bin_start": 27.609396087999997,
            "bin_end": 45.407865455999996,
            "count": 2
           },
           {
            "bin_start": 45.407865455999996,
            "bin_end": 63.206334823999995,
            "count": 0
           },
           {
            "bin_start": 63.206334823999995,
            "bin_end": 81.004804192,
            "count": 1
           },
           {
            "bin_start": 81.004804192,
            "bin_end": 98.80327356,
            "count": 0
           },
           {
            "bin_start": 98.80327356,
            "bin_end": 116.601742928,
            "count": 0
           },
           {
            "bin_start": 116.601742928,
            "bin_end": 134.400212296,
            "count": 0
           },
           {
            "bin_start": 134.400212296,
            "bin_end": 152.198681664,
            "count": 0
           },
           {
            "bin_start": 152.198681664,
            "bin_end": 169.99715103199998,
            "count": 0
           },
           {
            "bin_start": 169.99715103199998,
            "bin_end": 187.7956204,
            "count": 1
           }
          ]
         }
        },
        {
         "name": "Store Count Growth",
         "dtype": "float64",
         "stats": {
          "unique_count": 5,
          "nan_count": 0,
          "min": "-0.01051069618",
          "max": "0.06681034483",
          "histogram": [
           {
            "bin_start": -0.01051069618,
            "bin_end": -0.0027785920789999983,
            "count": 1
           },
           {
            "bin_start": -0.0027785920789999983,
            "bin_end": 0.004953512022000003,
            "count": 1
           },
           {
            "bin_start": 0.004953512022000003,
            "bin_end": 0.012685616123000005,
            "count": 0
           },
           {
            "bin_start": 0.012685616123000005,
            "bin_end": 0.020417720224000006,
            "count": 1
           },
           {
            "bin_start": 0.020417720224000006,
            "bin_end": 0.028149824325000003,
            "count": 0
           },
           {
            "bin_start": 0.028149824325000003,
            "bin_end": 0.03588192842600001,
            "count": 0
           },
           {
            "bin_start": 0.03588192842600001,
            "bin_end": 0.043614032527,
            "count": 0
           },
           {
            "bin_start": 0.043614032527,
            "bin_end": 0.05134613662800001,
            "count": 0
           },
           {
            "bin_start": 0.05134613662800001,
            "bin_end": 0.059078240729,
            "count": 1
           },
           {
            "bin_start": 0.059078240729,
            "bin_end": 0.06681034483,
            "count": 1
           }
          ]
         }
        },
        {
         "name": "Category",
         "dtype": "object",
         "stats": {
          "unique_count": 5,
          "nan_count": 0,
          "categories": [
           {
            "name": "Supercenters",
            "count": 1
           },
           {
            "name": "Grocery",
            "count": 1
           },
           {
            "name": "3 others",
            "count": 3
           }
          ]
         }
        },
        {
         "name": "_deepnote_index_column",
         "dtype": "int64"
        }
       ],
       "rows": [
        {
         "Company": "Walmart US",
         "Sales": 658119,
         "Stores": 4574,
         "Sales/Avg. Store": 65.64972497,
         "Store Count Growth": 0.01284322409,
         "Category": "Supercenters",
         "_deepnote_index_column": 0
        },
        {
         "Company": "Kroger",
         "Sales": 115037,
         "Stores": 3931,
         "Sales/Avg. Store": 30.03184963,
         "Store Count Growth": 0.05388739946,
         "Category": "Grocery",
         "_deepnote_index_column": 1
        },
        {
         "Company": "Costco",
         "Sales": 90048,
         "Stores": 495,
         "Sales/Avg. Store": 187.7956204,
         "Store Count Growth": 0.06681034483,
         "Category": "Warehouse Club",
         "_deepnote_index_column": 2
        },
        {
         "Company": "Home Depot",
         "Sales": 83976,
         "Stores": 1965,
         "Sales/Avg. Store": 42.73587786,
         "Store Count Growth": 0,
         "Category": "Home Improvement",
         "_deepnote_index_column": 3
        },
        {
         "Company": "Walgreen Boots",
         "Sales": 78924,
         "Stores": 8002,
         "Sales/Avg. Store": 9.81092672,
         "Store Count Growth": -0.01051069618,
         "Category": "Drug Stores",
         "_deepnote_index_column": 4
        }
       ]
      },
      "text/plain": "          Company   Sales  Stores  Sales/Avg. Store  Store Count Growth  \\\n0      Walmart US  658119  4574.0         65.649725            0.012843   \n1          Kroger  115037  3931.0         30.031850            0.053887   \n2          Costco   90048   495.0        187.795620            0.066810   \n3      Home Depot   83976  1965.0         42.735878            0.000000   \n4  Walgreen Boots   78924  8002.0          9.810927           -0.010511   \n\n           Category  \n0      Supercenters  \n1           Grocery  \n2    Warehouse Club  \n3  Home Improvement  \n4       Drug Stores  ",
      "text/html": "<div>\n<style scoped>\n    .dataframe tbody tr th:only-of-type {\n        vertical-align: middle;\n    }\n\n    .dataframe tbody tr th {\n        vertical-align: top;\n    }\n\n    .dataframe thead th {\n        text-align: right;\n    }\n</style>\n<table border=\"1\" class=\"dataframe\">\n  <thead>\n    <tr style=\"text-align: right;\">\n      <th></th>\n      <th>Company</th>\n      <th>Sales</th>\n      <th>Stores</th>\n      <th>Sales/Avg. Store</th>\n      <th>Store Count Growth</th>\n      <th>Category</th>\n    </tr>\n  </thead>\n  <tbody>\n    <tr>\n      <th>0</th>\n      <td>Walmart US</td>\n      <td>658119</td>\n      <td>4574.0</td>\n      <td>65.649725</td>\n      <td>0.012843</td>\n      <td>Supercenters</td>\n    </tr>\n    <tr>\n      <th>1</th>\n      <td>Kroger</td>\n      <td>115037</td>\n      <td>3931.0</td>\n      <td>30.031850</td>\n      <td>0.053887</td>\n      <td>Grocery</td>\n    </tr>\n    <tr>\n      <th>2</th>\n      <td>Costco</td>\n      <td>90048</td>\n      <td>495.0</td>\n      <td>187.795620</td>\n      <td>0.066810</td>\n      <td>Warehouse Club</td>\n    </tr>\n    <tr>\n      <th>3</th>\n      <td>Home Depot</td>\n      <td>83976</td>\n      <td>1965.0</td>\n      <td>42.735878</td>\n      <td>0.000000</td>\n      <td>Home Improvement</td>\n    </tr>\n    <tr>\n      <th>4</th>\n      <td>Walgreen Boots</td>\n      <td>78924</td>\n      <td>8002.0</td>\n      <td>9.810927</td>\n      <td>-0.010511</td>\n      <td>Drug Stores</td>\n    </tr>\n  </tbody>\n</table>\n</div>"
     },
     "metadata": {}
    }
   ]
  },
  {
   "cell_type": "code",
   "metadata": {
    "cell_id": "463aa6ac-0939-42e1-85ca-5a68fa7c4780",
    "tags": [],
    "deepnote_to_be_reexecuted": false,
    "source_hash": "70421f96",
    "execution_start": 1645122567980,
    "execution_millis": 323,
    "deepnote_output_heights": [
     427.125
    ],
    "deepnote_cell_height": 596.125,
    "deepnote_cell_type": "code"
   },
   "source": "chart = sns.barplot(data = df_clipping, x = 'Company', y = 'Sales')\nchart.set_title('Sales of the main 5 retailers in the USA')\nchart.set_xlabel('Top 5 retails in sales')\nchart.set_ylabel('Sales in millions of dollars')\nsns.set(rc = {'figure.figsize':(18,8)})",
   "execution_count": null,
   "outputs": [
    {
     "data": {
      "text/plain": "<Figure size 1296x576 with 1 Axes>",
      "image/png": "[encoded data removed]"
     },
     "metadata": {
      "image/png": {
       "width": 1087,
       "height": 501
      }
     },
     "output_type": "display_data"
    }
   ]
  },
  {
   "cell_type": "markdown",
   "source": "Efectivamente, podemos observar que Walmart US le saca una distancia de casi 6X al segundo (Kroger) en la lista de ventas. Lo cual confirma la primera impresión que teniamos al ver las medidas de tendencia central.",
   "metadata": {
    "cell_id": "5a5207ca-f8f0-4550-9898-9c65da9c1990",
    "tags": [],
    "deepnote_cell_height": 74.796875,
    "deepnote_cell_type": "markdown"
   }
  },
  {
   "cell_type": "markdown",
   "source": "## I. Preguntas del negocio",
   "metadata": {
    "cell_id": "cc141631-e246-41c7-a56b-ad74255d674f",
    "tags": [],
    "is_collapsed": false,
    "deepnote_cell_height": 70,
    "deepnote_cell_type": "text-cell-h2"
   }
  },
  {
   "cell_type": "markdown",
   "source": "### 1. ¿Cuál es el promedio de ventas sin contar a la compañía dominante?",
   "metadata": {
    "cell_id": "b919b92e-0df3-4f54-b093-c1db040bc4aa",
    "tags": [],
    "deepnote_cell_height": 62,
    "deepnote_cell_type": "markdown"
   }
  },
  {
   "cell_type": "code",
   "metadata": {
    "cell_id": "d0684d2b-d018-42ad-9b48-b545aae09eec",
    "tags": [],
    "deepnote_to_be_reexecuted": false,
    "source_hash": "4ea0bb94",
    "execution_start": 1645122426128,
    "execution_millis": 14,
    "deepnote_table_state": {
     "pageSize": 10,
     "pageIndex": 0,
     "filters": [],
     "sortBy": []
    },
    "deepnote_table_loading": false,
    "deepnote_cell_height": 616,
    "deepnote_cell_type": "code"
   },
   "source": "df_clipping2 = df_sorted.iloc[ 1 : , : ]\ndf_clipping2",
   "execution_count": null,
   "outputs": [
    {
     "output_type": "execute_result",
     "execution_count": 9,
     "data": {
      "application/vnd.deepnote.dataframe.v3+json": {
       "column_count": 6,
       "row_count": 24,
       "columns": [
        {
         "name": "Company",
         "dtype": "object",
         "stats": {
          "unique_count": 24,
          "nan_count": 0,
          "categories": [
           {
            "name": "Kroger",
            "count": 1
           },
           {
            "name": "Costco",
            "count": 1
           },
           {
            "name": "22 others",
            "count": 22
           }
          ]
         }
        },
        {
         "name": "Sales",
         "dtype": "int64",
         "stats": {
          "unique_count": 24,
          "nan_count": 0,
          "min": "16592",
          "max": "115037",
          "histogram": [
           {
            "bin_start": 16592,
            "bin_end": 26436.5,
            "count": 9
           },
           {
            "bin_start": 26436.5,
            "bin_end": 36281,
            "count": 4
           },
           {
            "bin_start": 36281,
            "bin_end": 46125.5,
            "count": 1
           },
           {
            "bin_start": 46125.5,
            "bin_end": 55970,
            "count": 0
           },
           {
            "bin_start": 55970,
            "bin_end": 65814.5,
            "count": 3
           },
           {
            "bin_start": 65814.5,
            "bin_end": 75659,
            "count": 2
           },
           {
            "bin_start": 75659,
            "bin_end": 85503.5,
            "count": 3
           },
           {
            "bin_start": 85503.5,
            "bin_end": 95348,
            "count": 1
           },
           {
            "bin_start": 95348,
            "bin_end": 105192.5,
            "count": 0
           },
           {
            "bin_start": 105192.5,
            "bin_end": 115037,
            "count": 1
           }
          ]
         }
        },
        {
         "name": "Stores",
         "dtype": "float64",
         "stats": {
          "unique_count": 22,
          "nan_count": 2,
          "min": "231.0",
          "max": "14250.0",
          "histogram": [
           {
            "bin_start": 231,
            "bin_end": 1632.9,
            "count": 10
           },
           {
            "bin_start": 1632.9,
            "bin_end": 3034.8,
            "count": 6
           },
           {
            "bin_start": 3034.8,
            "bin_end": 4436.700000000001,
            "count": 1
           },
           {
            "bin_start": 4436.700000000001,
            "bin_end": 5838.6,
            "count": 1
           },
           {
            "bin_start": 5838.6,
            "bin_end": 7240.5,
            "count": 0
           },
           {
            "bin_start": 7240.5,
            "bin_end": 8642.400000000001,
            "count": 1
           },
           {
            "bin_start": 8642.400000000001,
            "bin_end": 10044.300000000001,
            "count": 1
           },
           {
            "bin_start": 10044.300000000001,
            "bin_end": 11446.2,
            "count": 0
           },
           {
            "bin_start": 11446.2,
            "bin_end": 12848.1,
            "count": 0
           },
           {
            "bin_start": 12848.1,
            "bin_end": 14250,
            "count": 2
           }
          ]
         }
        },
        {
         "name": "Sales/Avg. Store",
         "dtype": "float64",
         "stats": {
          "unique_count": 22,
          "nan_count": 2,
          "min": "1.56391854",
          "max": "187.7956204",
          "histogram": [
           {
            "bin_start": 1.56391854,
            "bin_end": 20.187088726,
            "count": 9
           },
           {
            "bin_start": 20.187088726,
            "bin_end": 38.810258912,
            "count": 7
           },
           {
            "bin_start": 38.810258912,
            "bin_end": 57.433429098000005,
            "count": 2
           },
           {
            "bin_start": 57.433429098000005,
            "bin_end": 76.056599284,
            "count": 2
           },
           {
            "bin_start": 76.056599284,
            "bin_end": 94.67976947,
            "count": 1
           },
           {
            "bin_start": 94.67976947,
            "bin_end": 113.302939656,
            "count": 0
           },
           {
            "bin_start": 113.302939656,
            "bin_end": 131.926109842,
            "count": 0
           },
           {
            "bin_start": 131.926109842,
            "bin_end": 150.549280028,
            "count": 0
           },
           {
            "bin_start": 150.549280028,
            "bin_end": 169.172450214,
            "count": 0
           },
           {
            "bin_start": 169.172450214,
            "bin_end": 187.7956204,
            "count": 1
           }
          ]
         }
        },
        {
         "name": "Store Count Growth",
         "dtype": "float64",
         "stats": {
          "unique_count": 22,
          "nan_count": 2,
          "min": "-0.05951506245",
          "max": "0.2556621881",
          "histogram": [
           {
            "bin_start": -0.05951506245,
            "bin_end": -0.027997337395000002,
            "count": 3
           },
           {
            "bin_start": -0.027997337395000002,
            "bin_end": 0.003520387659999999,
            "count": 4
           },
           {
            "bin_start": 0.003520387659999999,
            "bin_end": 0.035038112715,
            "count": 5
           },
           {
            "bin_start": 0.035038112715,
            "bin_end": 0.06655583777,
            "count": 2
           },
           {
            "bin_start": 0.06655583777,
            "bin_end": 0.098073562825,
            "count": 5
           },
           {
            "bin_start": 0.098073562825,
            "bin_end": 0.12959128788000002,
            "count": 1
           },
           {
            "bin_start": 0.12959128788000002,
            "bin_end": 0.16110901293500002,
            "count": 1
           },
           {
            "bin_start": 0.16110901293500002,
            "bin_end": 0.19262673799000002,
            "count": 0
           },
           {
            "bin_start": 0.19262673799000002,
            "bin_end": 0.22414446304500002,
            "count": 0
           },
           {
            "bin_start": 0.22414446304500002,
            "bin_end": 0.2556621881,
            "count": 1
           }
          ]
         }
        },
        {
         "name": "Category",
         "dtype": "object",
         "stats": {
          "unique_count": 11,
          "nan_count": 1,
          "categories": [
           {
            "name": "Grocery",
            "count": 7
           },
           {
            "name": "10 others",
            "count": 16
           },
           {
            "name": "Missing",
            "count": 1
           }
          ]
         }
        },
        {
         "name": "_deepnote_index_column",
         "dtype": "int64"
        }
       ],
       "rows": [
        {
         "Company": "Kroger",
         "Sales": 115037,
         "Stores": 3931,
         "Sales/Avg. Store": 30.03184963,
         "Store Count Growth": 0.05388739946,
         "Category": "Grocery",
         "_deepnote_index_column": 1
        },
        {
         "Company": "Costco",
         "Sales": 90048,
         "Stores": 495,
         "Sales/Avg. Store": 187.7956204,
         "Store Count Growth": 0.06681034483,
         "Category": "Warehouse Club",
         "_deepnote_index_column": 2
        },
        {
         "Company": "Home Depot",
         "Sales": 83976,
         "Stores": 1965,
         "Sales/Avg. Store": 42.73587786,
         "Store Count Growth": 0,
         "Category": "Home Improvement",
         "_deepnote_index_column": 3
        },
        {
         "Company": "Walgreen Boots",
         "Sales": 78924,
         "Stores": 8002,
         "Sales/Avg. Store": 9.81092672,
         "Store Count Growth": -0.01051069618,
         "Category": "Drug Stores",
         "_deepnote_index_column": 4
        },
        {
         "Company": "CVS incl. Target",
         "Sales": 77792,
         "Stores": 9813,
         "Sales/Avg. Store": 8.825958702,
         "Store Count Growth": 0.2556621881,
         "Category": "Drug Stores",
         "_deepnote_index_column": 5
        },
        {
         "Company": "Amazon",
         "Sales": 71687,
         "Stores": "nan",
         "Sales/Avg. Store": "nan",
         "Store Count Growth": "nan",
         "Category": "Electronic/Mail Order",
         "_deepnote_index_column": 6
        },
        {
         "Company": "Target",
         "Sales": 71208,
         "Stores": 1772,
         "Sales/Avg. Store": 39.98203257,
         "Store Count Growth": -0.01005586592,
         "Category": "Supercenters",
         "_deepnote_index_column": 7
        },
        {
         "Company": "Lowe's",
         "Sales": 60311,
         "Stores": 1828,
         "Sales/Avg. Store": 33.31179232,
         "Store Count Growth": 0.01952035694,
         "Category": "Home Improvement",
         "_deepnote_index_column": 8
        },
        {
         "Company": "Albertsons",
         "Sales": 56829,
         "Stores": 2326,
         "Sales/Avg. Store": 23.87773109,
         "Store Count Growth": -0.04437140509,
         "Category": "Grocery",
         "_deepnote_index_column": 9
        },
        {
         "Company": "Sam's Club",
         "Sales": 56828,
         "Stores": 655,
         "Sales/Avg. Store": 87.29339478,
         "Store Count Growth": 0.01236476043,
         "Category": "Warehouse Clubs",
         "_deepnote_index_column": 10
        }
       ]
      },
      "text/plain": "               Company   Sales   Stores  Sales/Avg. Store  Store Count Growth  \\\n1               Kroger  115037   3931.0         30.031850            0.053887   \n2               Costco   90048    495.0        187.795620            0.066810   \n3           Home Depot   83976   1965.0         42.735878            0.000000   \n4       Walgreen Boots   78924   8002.0          9.810927           -0.010511   \n5     CVS incl. Target   77792   9813.0          8.825959            0.255662   \n6               Amazon   71687      NaN               NaN                 NaN   \n7               Target   71208   1772.0         39.982033           -0.010056   \n8               Lowe's   60311   1828.0         33.311792            0.019520   \n9           Albertsons   56829   2326.0         23.877731           -0.044371   \n10          Sam's Club   56828    655.0         87.293395            0.012365   \n11  Apple incl. Online   37664      NaN               NaN                 NaN   \n12            Best Buy   34980   1389.0         24.685956           -0.038754   \n13              Publix   34408   1351.0         25.997733            0.042438   \n14            Rite Aid   27486   4553.0          6.025649           -0.003720   \n15               Ahold   26903    794.0         34.446863            0.033854   \n16              Macy's   26028    889.0         30.442105            0.082826   \n17                 TJX   25012   2770.0          9.369545            0.078241   \n18                Aldi   24402   2021.0         12.715998            0.112273   \n19      Dollar General   22234  13350.0          1.768885            0.132412   \n20         Dollar Tree   21464  14250.0          1.563919            0.079627   \n21                 HEB   21384    323.0         66.825000            0.018927   \n22              Kohl's   19060   1169.0         16.353496            0.006024   \n23            Delhaize   18201   1280.0         13.783415           -0.059515   \n24              Meijer   16592    231.0         74.738739            0.084507   \n\n                 Category  \n1                 Grocery  \n2          Warehouse Club  \n3        Home Improvement  \n4             Drug Stores  \n5             Drug Stores  \n6   Electronic/Mail Order  \n7            Supercenters  \n8        Home Improvement  \n9                 Grocery  \n10        Warehouse Clubs  \n11                    NaN  \n12            Electronics  \n13                Grocery  \n14            Drug Stores  \n15                Grocery  \n16      Department Stores  \n17                Apparel  \n18                Grocery  \n19          Dollar Stores  \n20          Dollar Stores  \n21                Grocery  \n22      Department Stores  \n23                Grocery  \n24           Supercenters  ",
      "text/html": "<div>\n<style scoped>\n    .dataframe tbody tr th:only-of-type {\n        vertical-align: middle;\n    }\n\n    .dataframe tbody tr th {\n        vertical-align: top;\n    }\n\n    .dataframe thead th {\n        text-align: right;\n    }\n</style>\n<table border=\"1\" class=\"dataframe\">\n  <thead>\n    <tr style=\"text-align: right;\">\n      <th></th>\n      <th>Company</th>\n      <th>Sales</th>\n      <th>Stores</th>\n      <th>Sales/Avg. Store</th>\n      <th>Store Count Growth</th>\n      <th>Category</th>\n    </tr>\n  </thead>\n  <tbody>\n    <tr>\n      <th>1</th>\n      <td>Kroger</td>\n      <td>115037</td>\n      <td>3931.0</td>\n      <td>30.031850</td>\n      <td>0.053887</td>\n      <td>Grocery</td>\n    </tr>\n    <tr>\n      <th>2</th>\n      <td>Costco</td>\n      <td>90048</td>\n      <td>495.0</td>\n      <td>187.795620</td>\n      <td>0.066810</td>\n      <td>Warehouse Club</td>\n    </tr>\n    <tr>\n      <th>3</th>\n      <td>Home Depot</td>\n      <td>83976</td>\n      <td>1965.0</td>\n      <td>42.735878</td>\n      <td>0.000000</td>\n      <td>Home Improvement</td>\n    </tr>\n    <tr>\n      <th>4</th>\n      <td>Walgreen Boots</td>\n      <td>78924</td>\n      <td>8002.0</td>\n      <td>9.810927</td>\n      <td>-0.010511</td>\n      <td>Drug Stores</td>\n    </tr>\n    <tr>\n      <th>5</th>\n      <td>CVS incl. Target</td>\n      <td>77792</td>\n      <td>9813.0</td>\n      <td>8.825959</td>\n      <td>0.255662</td>\n      <td>Drug Stores</td>\n    </tr>\n    <tr>\n      <th>6</th>\n      <td>Amazon</td>\n      <td>71687</td>\n      <td>NaN</td>\n      <td>NaN</td>\n      <td>NaN</td>\n      <td>Electronic/Mail Order</td>\n    </tr>\n    <tr>\n      <th>7</th>\n      <td>Target</td>\n      <td>71208</td>\n      <td>1772.0</td>\n      <td>39.982033</td>\n      <td>-0.010056</td>\n      <td>Supercenters</td>\n    </tr>\n    <tr>\n      <th>8</th>\n      <td>Lowe's</td>\n      <td>60311</td>\n      <td>1828.0</td>\n      <td>33.311792</td>\n      <td>0.019520</td>\n      <td>Home Improvement</td>\n    </tr>\n    <tr>\n      <th>9</th>\n      <td>Albertsons</td>\n      <td>56829</td>\n      <td>2326.0</td>\n      <td>23.877731</td>\n      <td>-0.044371</td>\n      <td>Grocery</td>\n    </tr>\n    <tr>\n      <th>10</th>\n      <td>Sam's Club</td>\n      <td>56828</td>\n      <td>655.0</td>\n      <td>87.293395</td>\n      <td>0.012365</td>\n      <td>Warehouse Clubs</td>\n    </tr>\n    <tr>\n      <th>11</th>\n      <td>Apple incl. Online</td>\n      <td>37664</td>\n      <td>NaN</td>\n      <td>NaN</td>\n      <td>NaN</td>\n      <td>NaN</td>\n    </tr>\n    <tr>\n      <th>12</th>\n      <td>Best Buy</td>\n      <td>34980</td>\n      <td>1389.0</td>\n      <td>24.685956</td>\n      <td>-0.038754</td>\n      <td>Electronics</td>\n    </tr>\n    <tr>\n      <th>13</th>\n      <td>Publix</td>\n      <td>34408</td>\n      <td>1351.0</td>\n      <td>25.997733</td>\n      <td>0.042438</td>\n      <td>Grocery</td>\n    </tr>\n    <tr>\n      <th>14</th>\n      <td>Rite Aid</td>\n      <td>27486</td>\n      <td>4553.0</td>\n      <td>6.025649</td>\n      <td>-0.003720</td>\n      <td>Drug Stores</td>\n    </tr>\n    <tr>\n      <th>15</th>\n      <td>Ahold</td>\n      <td>26903</td>\n      <td>794.0</td>\n      <td>34.446863</td>\n      <td>0.033854</td>\n      <td>Grocery</td>\n    </tr>\n    <tr>\n      <th>16</th>\n      <td>Macy's</td>\n      <td>26028</td>\n      <td>889.0</td>\n      <td>30.442105</td>\n      <td>0.082826</td>\n      <td>Department Stores</td>\n    </tr>\n    <tr>\n      <th>17</th>\n      <td>TJX</td>\n      <td>25012</td>\n      <td>2770.0</td>\n      <td>9.369545</td>\n      <td>0.078241</td>\n      <td>Apparel</td>\n    </tr>\n    <tr>\n      <th>18</th>\n      <td>Aldi</td>\n      <td>24402</td>\n      <td>2021.0</td>\n      <td>12.715998</td>\n      <td>0.112273</td>\n      <td>Grocery</td>\n    </tr>\n    <tr>\n      <th>19</th>\n      <td>Dollar General</td>\n      <td>22234</td>\n      <td>13350.0</td>\n      <td>1.768885</td>\n      <td>0.132412</td>\n      <td>Dollar Stores</td>\n    </tr>\n    <tr>\n      <th>20</th>\n      <td>Dollar Tree</td>\n      <td>21464</td>\n      <td>14250.0</td>\n      <td>1.563919</td>\n      <td>0.079627</td>\n      <td>Dollar Stores</td>\n    </tr>\n    <tr>\n      <th>21</th>\n      <td>HEB</td>\n      <td>21384</td>\n      <td>323.0</td>\n      <td>66.825000</td>\n      <td>0.018927</td>\n      <td>Grocery</td>\n    </tr>\n    <tr>\n      <th>22</th>\n      <td>Kohl's</td>\n      <td>19060</td>\n      <td>1169.0</td>\n      <td>16.353496</td>\n      <td>0.006024</td>\n      <td>Department Stores</td>\n    </tr>\n    <tr>\n      <th>23</th>\n      <td>Delhaize</td>\n      <td>18201</td>\n      <td>1280.0</td>\n      <td>13.783415</td>\n      <td>-0.059515</td>\n      <td>Grocery</td>\n    </tr>\n    <tr>\n      <th>24</th>\n      <td>Meijer</td>\n      <td>16592</td>\n      <td>231.0</td>\n      <td>74.738739</td>\n      <td>0.084507</td>\n      <td>Supercenters</td>\n    </tr>\n  </tbody>\n</table>\n</div>"
     },
     "metadata": {}
    }
   ]
  },
  {
   "cell_type": "code",
   "metadata": {
    "cell_id": "142946d4-28aa-49a0-acd6-3f59bbeb82bf",
    "tags": [],
    "deepnote_to_be_reexecuted": false,
    "source_hash": "1517aa38",
    "execution_start": 1645122429910,
    "execution_millis": 3,
    "deepnote_output_heights": [
     21.1875
    ],
    "deepnote_cell_height": 118.1875,
    "deepnote_cell_type": "code"
   },
   "source": "df_clipping2['Sales'].mean()",
   "execution_count": null,
   "outputs": [
    {
     "output_type": "execute_result",
     "execution_count": 10,
     "data": {
      "text/plain": "46602.416666666664"
     },
     "metadata": {}
    }
   ]
  },
  {
   "cell_type": "code",
   "metadata": {
    "cell_id": "c58da289-7b3f-4bb2-9479-32b4a3bc6885",
    "tags": [],
    "deepnote_to_be_reexecuted": false,
    "source_hash": "eae11dc9",
    "execution_start": 1645122528567,
    "execution_millis": 737,
    "deepnote_output_heights": [
     500.9375
    ],
    "deepnote_cell_height": 741.9375,
    "deepnote_cell_type": "code"
   },
   "source": "plt.bar(df_clipping2['Company'], height=df_clipping2['Sales'], width = 0.9, color = [\"green\",\"blue\",\"grey\"],  )\nplt.grid()\nplt.axhline(df_clipping2['Sales'].mean(), color =\"r\", linestyle = '--', linewidth = 5)\nplt.xticks(rotation='vertical')\nplt.title('Sales of the main companies excluding Walmart with average sales')\nplt.xlabel('Main retailers excluding the dominant one')\nplt.ylabel('Sales in millions of dollars')\nplt.text(x = 'Rite Aid',y = df_clipping2['Sales'].mean()+3000, s= 'Average sales', fontfamily ='serif', size = 20, ha = 'center' )\nplt.show()",
   "execution_count": null,
   "outputs": [
    {
     "data": {
      "text/plain": "<Figure size 1296x576 with 1 Axes>",
      "image/png": "[encoded data removed]"
     },
     "metadata": {
      "image/png": {
       "width": 1087,
       "height": 588
      }
     },
     "output_type": "display_data"
    }
   ]
  },
  {
   "cell_type": "markdown",
   "source": "Como podemos observar en el gráfico, el promedio de ventas excluyendo a la compañia dominante (Walmart) es de 46602.42.",
   "metadata": {
    "cell_id": "56e7b4e6-c346-4a67-b090-0337d1f31599",
    "tags": [],
    "deepnote_cell_height": 53,
    "deepnote_cell_type": "markdown"
   }
  },
  {
   "cell_type": "markdown",
   "source": "### 2. ¿Cuánto dinero en ventas generó la mayoría de las compañías?",
   "metadata": {
    "cell_id": "1814847a-365e-4bae-9fb9-6bed9b874b37",
    "tags": [],
    "deepnote_cell_height": 62,
    "deepnote_cell_type": "markdown"
   }
  },
  {
   "cell_type": "code",
   "metadata": {
    "cell_id": "f5821e0f-ea8a-464d-a511-c713a6630c16",
    "tags": [],
    "deepnote_to_be_reexecuted": false,
    "source_hash": "4ed316ba",
    "execution_start": 1645122441369,
    "execution_millis": 17,
    "deepnote_table_state": {
     "pageSize": 10,
     "pageIndex": 0,
     "filters": [],
     "sortBy": []
    },
    "deepnote_table_loading": false,
    "deepnote_table_invalid": false,
    "deepnote_cell_height": 616,
    "deepnote_cell_type": "code"
   },
   "source": "df_sorted_by_sales = df_sorted.sort_values('Sales',ascending=True)\ndf_sorted_by_sales",
   "execution_count": null,
   "outputs": [
    {
     "output_type": "execute_result",
     "execution_count": 12,
     "data": {
      "application/vnd.deepnote.dataframe.v3+json": {
       "column_count": 6,
       "row_count": 25,
       "columns": [
        {
         "name": "Company",
         "dtype": "object",
         "stats": {
          "unique_count": 25,
          "nan_count": 0,
          "categories": [
           {
            "name": "Meijer",
            "count": 1
           },
           {
            "name": "Delhaize",
            "count": 1
           },
           {
            "name": "23 others",
            "count": 23
           }
          ]
         }
        },
        {
         "name": "Sales",
         "dtype": "int64",
         "stats": {
          "unique_count": 25,
          "nan_count": 0,
          "min": "16592",
          "max": "658119",
          "histogram": [
           {
            "bin_start": 16592,
            "bin_end": 80744.7,
            "count": 21
           },
           {
            "bin_start": 80744.7,
            "bin_end": 144897.4,
            "count": 3
           },
           {
            "bin_start": 144897.4,
            "bin_end": 209050.09999999998,
            "count": 0
           },
           {
            "bin_start": 209050.09999999998,
            "bin_end": 273202.8,
            "count": 0
           },
           {
            "bin_start": 273202.8,
            "bin_end": 337355.5,
            "count": 0
           },
           {
            "bin_start": 337355.5,
            "bin_end": 401508.19999999995,
            "count": 0
           },
           {
            "bin_start": 401508.19999999995,
            "bin_end": 465660.89999999997,
            "count": 0
           },
           {
            "bin_start": 465660.89999999997,
            "bin_end": 529813.6,
            "count": 0
           },
           {
            "bin_start": 529813.6,
            "bin_end": 593966.2999999999,
            "count": 0
           },
           {
            "bin_start": 593966.2999999999,
            "bin_end": 658119,
            "count": 1
           }
          ]
         }
        },
        {
         "name": "Stores",
         "dtype": "float64",
         "stats": {
          "unique_count": 23,
          "nan_count": 2,
          "min": "231.0",
          "max": "14250.0",
          "histogram": [
           {
            "bin_start": 231,
            "bin_end": 1632.9,
            "count": 10
           },
           {
            "bin_start": 1632.9,
            "bin_end": 3034.8,
            "count": 6
           },
           {
            "bin_start": 3034.8,
            "bin_end": 4436.700000000001,
            "count": 1
           },
           {
            "bin_start": 4436.700000000001,
            "bin_end": 5838.6,
            "count": 2
           },
           {
            "bin_start": 5838.6,
            "bin_end": 7240.5,
            "count": 0
           },
           {
            "bin_start": 7240.5,
            "bin_end": 8642.400000000001,
            "count": 1
           },
           {
            "bin_start": 8642.400000000001,
            "bin_end": 10044.300000000001,
            "count": 1
           },
           {
            "bin_start": 10044.300000000001,
            "bin_end": 11446.2,
            "count": 0
           },
           {
            "bin_start": 11446.2,
            "bin_end": 12848.1,
            "count": 0
           },
           {
            "bin_start": 12848.1,
            "bin_end": 14250,
            "count": 2
           }
          ]
         }
        },
        {
         "name": "Sales/Avg. Store",
         "dtype": "float64",
         "stats": {
          "unique_count": 23,
          "nan_count": 2,
          "min": "1.56391854",
          "max": "187.7956204",
          "histogram": [
           {
            "bin_start": 1.56391854,
            "bin_end": 20.187088726,
            "count": 9
           },
           {
            "bin_start": 20.187088726,
            "bin_end": 38.810258912,
            "count": 7
           },
           {
            "bin_start": 38.810258912,
            "bin_end": 57.433429098000005,
            "count": 2
           },
           {
            "bin_start": 57.433429098000005,
            "bin_end": 76.056599284,
            "count": 3
           },
           {
            "bin_start": 76.056599284,
            "bin_end": 94.67976947,
            "count": 1
           },
           {
            "bin_start": 94.67976947,
            "bin_end": 113.302939656,
            "count": 0
           },
           {
            "bin_start": 113.302939656,
            "bin_end": 131.926109842,
            "count": 0
           },
           {
            "bin_start": 131.926109842,
            "bin_end": 150.549280028,
            "count": 0
           },
           {
            "bin_start": 150.549280028,
            "bin_end": 169.172450214,
            "count": 0
           },
           {
            "bin_start": 169.172450214,
            "bin_end": 187.7956204,
            "count": 1
           }
          ]
         }
        },
        {
         "name": "Store Count Growth",
         "dtype": "float64",
         "stats": {
          "unique_count": 23,
          "nan_count": 2,
          "min": "-0.05951506245",
          "max": "0.2556621881",
          "histogram": [
           {
            "bin_start": -0.05951506245,
            "bin_end": -0.027997337395000002,
            "count": 3
           },
           {
            "bin_start": -0.027997337395000002,
            "bin_end": 0.003520387659999999,
            "count": 4
           },
           {
            "bin_start": 0.003520387659999999,
            "bin_end": 0.035038112715,
            "count": 6
           },
           {
            "bin_start": 0.035038112715,
            "bin_end": 0.06655583777,
            "count": 2
           },
           {
            "bin_start": 0.06655583777,
            "bin_end": 0.098073562825,
            "count": 5
           },
           {
            "bin_start": 0.098073562825,
            "bin_end": 0.12959128788000002,
            "count": 1
           },
           {
            "bin_start": 0.12959128788000002,
            "bin_end": 0.16110901293500002,
            "count": 1
           },
           {
            "bin_start": 0.16110901293500002,
            "bin_end": 0.19262673799000002,
            "count": 0
           },
           {
            "bin_start": 0.19262673799000002,
            "bin_end": 0.22414446304500002,
            "count": 0
           },
           {
            "bin_start": 0.22414446304500002,
            "bin_end": 0.2556621881,
            "count": 1
           }
          ]
         }
        },
        {
         "name": "Category",
         "dtype": "object",
         "stats": {
          "unique_count": 11,
          "nan_count": 1,
          "categories": [
           {
            "name": "Grocery",
            "count": 7
           },
           {
            "name": "10 others",
            "count": 17
           },
           {
            "name": "Missing",
            "count": 1
           }
          ]
         }
        },
        {
         "name": "_deepnote_index_column",
         "dtype": "int64"
        }
       ],
       "rows": [
        {
         "Company": "Meijer",
         "Sales": 16592,
         "Stores": 231,
         "Sales/Avg. Store": 74.73873874,
         "Store Count Growth": 0.08450704225,
         "Category": "Supercenters",
         "_deepnote_index_column": 24
        },
        {
         "Company": "Delhaize",
         "Sales": 18201,
         "Stores": 1280,
         "Sales/Avg. Store": 13.78341537,
         "Store Count Growth": -0.05951506245,
         "Category": "Grocery",
         "_deepnote_index_column": 23
        },
        {
         "Company": "Kohl's",
         "Sales": 19060,
         "Stores": 1169,
         "Sales/Avg. Store": 16.35349635,
         "Store Count Growth": 0.006024096386,
         "Category": "Department Stores",
         "_deepnote_index_column": 22
        },
        {
         "Company": "HEB",
         "Sales": 21384,
         "Stores": 323,
         "Sales/Avg. Store": 66.825,
         "Store Count Growth": 0.01892744479,
         "Category": "Grocery",
         "_deepnote_index_column": 21
        },
        {
         "Company": "Dollar Tree",
         "Sales": 21464,
         "Stores": 14250,
         "Sales/Avg. Store": 1.56391854,
         "Store Count Growth": 0.07962724449,
         "Category": "Dollar Stores",
         "_deepnote_index_column": 20
        },
        {
         "Company": "Dollar General",
         "Sales": 22234,
         "Stores": 13350,
         "Sales/Avg. Store": 1.768884999,
         "Store Count Growth": 0.1324115701,
         "Category": "Dollar Stores",
         "_deepnote_index_column": 19
        },
        {
         "Company": "Aldi",
         "Sales": 24402,
         "Stores": 2021,
         "Sales/Avg. Store": 12.71599792,
         "Store Count Growth": 0.1122729774,
         "Category": "Grocery",
         "_deepnote_index_column": 18
        },
        {
         "Company": "TJX",
         "Sales": 25012,
         "Stores": 2770,
         "Sales/Avg. Store": 9.369544859,
         "Store Count Growth": 0.07824056053,
         "Category": "Apparel",
         "_deepnote_index_column": 17
        },
        {
         "Company": "Macy's",
         "Sales": 26028,
         "Stores": 889,
         "Sales/Avg. Store": 30.44210526,
         "Store Count Growth": 0.08282582217,
         "Category": "Department Stores",
         "_deepnote_index_column": 16
        },
        {
         "Company": "Ahold",
         "Sales": 26903,
         "Stores": 794,
         "Sales/Avg. Store": 34.446863,
         "Store Count Growth": 0.03385416667,
         "Category": "Grocery",
         "_deepnote_index_column": 15
        }
       ]
      },
      "text/plain": "               Company   Sales   Stores  Sales/Avg. Store  Store Count Growth  \\\n24              Meijer   16592    231.0         74.738739            0.084507   \n23            Delhaize   18201   1280.0         13.783415           -0.059515   \n22              Kohl's   19060   1169.0         16.353496            0.006024   \n21                 HEB   21384    323.0         66.825000            0.018927   \n20         Dollar Tree   21464  14250.0          1.563919            0.079627   \n19      Dollar General   22234  13350.0          1.768885            0.132412   \n18                Aldi   24402   2021.0         12.715998            0.112273   \n17                 TJX   25012   2770.0          9.369545            0.078241   \n16              Macy's   26028    889.0         30.442105            0.082826   \n15               Ahold   26903    794.0         34.446863            0.033854   \n14            Rite Aid   27486   4553.0          6.025649           -0.003720   \n13              Publix   34408   1351.0         25.997733            0.042438   \n12            Best Buy   34980   1389.0         24.685956           -0.038754   \n11  Apple incl. Online   37664      NaN               NaN                 NaN   \n10          Sam's Club   56828    655.0         87.293395            0.012365   \n9           Albertsons   56829   2326.0         23.877731           -0.044371   \n8               Lowe's   60311   1828.0         33.311792            0.019520   \n7               Target   71208   1772.0         39.982033           -0.010056   \n6               Amazon   71687      NaN               NaN                 NaN   \n5     CVS incl. Target   77792   9813.0          8.825959            0.255662   \n4       Walgreen Boots   78924   8002.0          9.810927           -0.010511   \n3           Home Depot   83976   1965.0         42.735878            0.000000   \n2               Costco   90048    495.0        187.795620            0.066810   \n1               Kroger  115037   3931.0         30.031850            0.053887   \n0           Walmart US  658119   4574.0         65.649725            0.012843   \n\n                 Category  \n24           Supercenters  \n23                Grocery  \n22      Department Stores  \n21                Grocery  \n20          Dollar Stores  \n19          Dollar Stores  \n18                Grocery  \n17                Apparel  \n16      Department Stores  \n15                Grocery  \n14            Drug Stores  \n13                Grocery  \n12            Electronics  \n11                    NaN  \n10        Warehouse Clubs  \n9                 Grocery  \n8        Home Improvement  \n7            Supercenters  \n6   Electronic/Mail Order  \n5             Drug Stores  \n4             Drug Stores  \n3        Home Improvement  \n2          Warehouse Club  \n1                 Grocery  \n0            Supercenters  ",
      "text/html": "<div>\n<style scoped>\n    .dataframe tbody tr th:only-of-type {\n        vertical-align: middle;\n    }\n\n    .dataframe tbody tr th {\n        vertical-align: top;\n    }\n\n    .dataframe thead th {\n        text-align: right;\n    }\n</style>\n<table border=\"1\" class=\"dataframe\">\n  <thead>\n    <tr style=\"text-align: right;\">\n      <th></th>\n      <th>Company</th>\n      <th>Sales</th>\n      <th>Stores</th>\n      <th>Sales/Avg. Store</th>\n      <th>Store Count Growth</th>\n      <th>Category</th>\n    </tr>\n  </thead>\n  <tbody>\n    <tr>\n      <th>24</th>\n      <td>Meijer</td>\n      <td>16592</td>\n      <td>231.0</td>\n      <td>74.738739</td>\n      <td>0.084507</td>\n      <td>Supercenters</td>\n    </tr>\n    <tr>\n      <th>23</th>\n      <td>Delhaize</td>\n      <td>18201</td>\n      <td>1280.0</td>\n      <td>13.783415</td>\n      <td>-0.059515</td>\n      <td>Grocery</td>\n    </tr>\n    <tr>\n      <th>22</th>\n      <td>Kohl's</td>\n      <td>19060</td>\n      <td>1169.0</td>\n      <td>16.353496</td>\n      <td>0.006024</td>\n      <td>Department Stores</td>\n    </tr>\n    <tr>\n      <th>21</th>\n      <td>HEB</td>\n      <td>21384</td>\n      <td>323.0</td>\n      <td>66.825000</td>\n      <td>0.018927</td>\n      <td>Grocery</td>\n    </tr>\n    <tr>\n      <th>20</th>\n      <td>Dollar Tree</td>\n      <td>21464</td>\n      <td>14250.0</td>\n      <td>1.563919</td>\n      <td>0.079627</td>\n      <td>Dollar Stores</td>\n    </tr>\n    <tr>\n      <th>19</th>\n      <td>Dollar General</td>\n      <td>22234</td>\n      <td>13350.0</td>\n      <td>1.768885</td>\n      <td>0.132412</td>\n      <td>Dollar Stores</td>\n    </tr>\n    <tr>\n      <th>18</th>\n      <td>Aldi</td>\n      <td>24402</td>\n      <td>2021.0</td>\n      <td>12.715998</td>\n      <td>0.112273</td>\n      <td>Grocery</td>\n    </tr>\n    <tr>\n      <th>17</th>\n      <td>TJX</td>\n      <td>25012</td>\n      <td>2770.0</td>\n      <td>9.369545</td>\n      <td>0.078241</td>\n      <td>Apparel</td>\n    </tr>\n    <tr>\n      <th>16</th>\n      <td>Macy's</td>\n      <td>26028</td>\n      <td>889.0</td>\n      <td>30.442105</td>\n      <td>0.082826</td>\n      <td>Department Stores</td>\n    </tr>\n    <tr>\n      <th>15</th>\n      <td>Ahold</td>\n      <td>26903</td>\n      <td>794.0</td>\n      <td>34.446863</td>\n      <td>0.033854</td>\n      <td>Grocery</td>\n    </tr>\n    <tr>\n      <th>14</th>\n      <td>Rite Aid</td>\n      <td>27486</td>\n      <td>4553.0</td>\n      <td>6.025649</td>\n      <td>-0.003720</td>\n      <td>Drug Stores</td>\n    </tr>\n    <tr>\n      <th>13</th>\n      <td>Publix</td>\n      <td>34408</td>\n      <td>1351.0</td>\n      <td>25.997733</td>\n      <td>0.042438</td>\n      <td>Grocery</td>\n    </tr>\n    <tr>\n      <th>12</th>\n      <td>Best Buy</td>\n      <td>34980</td>\n      <td>1389.0</td>\n      <td>24.685956</td>\n      <td>-0.038754</td>\n      <td>Electronics</td>\n    </tr>\n    <tr>\n      <th>11</th>\n      <td>Apple incl. Online</td>\n      <td>37664</td>\n      <td>NaN</td>\n      <td>NaN</td>\n      <td>NaN</td>\n      <td>NaN</td>\n    </tr>\n    <tr>\n      <th>10</th>\n      <td>Sam's Club</td>\n      <td>56828</td>\n      <td>655.0</td>\n      <td>87.293395</td>\n      <td>0.012365</td>\n      <td>Warehouse Clubs</td>\n    </tr>\n    <tr>\n      <th>9</th>\n      <td>Albertsons</td>\n      <td>56829</td>\n      <td>2326.0</td>\n      <td>23.877731</td>\n      <td>-0.044371</td>\n      <td>Grocery</td>\n    </tr>\n    <tr>\n      <th>8</th>\n      <td>Lowe's</td>\n      <td>60311</td>\n      <td>1828.0</td>\n      <td>33.311792</td>\n      <td>0.019520</td>\n      <td>Home Improvement</td>\n    </tr>\n    <tr>\n      <th>7</th>\n      <td>Target</td>\n      <td>71208</td>\n      <td>1772.0</td>\n      <td>39.982033</td>\n      <td>-0.010056</td>\n      <td>Supercenters</td>\n    </tr>\n    <tr>\n      <th>6</th>\n      <td>Amazon</td>\n      <td>71687</td>\n      <td>NaN</td>\n      <td>NaN</td>\n      <td>NaN</td>\n      <td>Electronic/Mail Order</td>\n    </tr>\n    <tr>\n      <th>5</th>\n      <td>CVS incl. Target</td>\n      <td>77792</td>\n      <td>9813.0</td>\n      <td>8.825959</td>\n      <td>0.255662</td>\n      <td>Drug Stores</td>\n    </tr>\n    <tr>\n      <th>4</th>\n      <td>Walgreen Boots</td>\n      <td>78924</td>\n      <td>8002.0</td>\n      <td>9.810927</td>\n      <td>-0.010511</td>\n      <td>Drug Stores</td>\n    </tr>\n    <tr>\n      <th>3</th>\n      <td>Home Depot</td>\n      <td>83976</td>\n      <td>1965.0</td>\n      <td>42.735878</td>\n      <td>0.000000</td>\n      <td>Home Improvement</td>\n    </tr>\n    <tr>\n      <th>2</th>\n      <td>Costco</td>\n      <td>90048</td>\n      <td>495.0</td>\n      <td>187.795620</td>\n      <td>0.066810</td>\n      <td>Warehouse Club</td>\n    </tr>\n    <tr>\n      <th>1</th>\n      <td>Kroger</td>\n      <td>115037</td>\n      <td>3931.0</td>\n      <td>30.031850</td>\n      <td>0.053887</td>\n      <td>Grocery</td>\n    </tr>\n    <tr>\n      <th>0</th>\n      <td>Walmart US</td>\n      <td>658119</td>\n      <td>4574.0</td>\n      <td>65.649725</td>\n      <td>0.012843</td>\n      <td>Supercenters</td>\n    </tr>\n  </tbody>\n</table>\n</div>"
     },
     "metadata": {}
    }
   ]
  },
  {
   "cell_type": "code",
   "metadata": {
    "cell_id": "7c7057cc-813b-4f93-8826-caed6cc738f9",
    "tags": [],
    "deepnote_to_be_reexecuted": false,
    "source_hash": "49ab4ded",
    "execution_start": 1645122655280,
    "execution_millis": 607,
    "deepnote_output_heights": [
     424.4375
    ],
    "deepnote_cell_height": 539.4375,
    "deepnote_cell_type": "code"
   },
   "source": "sns.histplot(data = df_sorted_by_sales, x=\"Sales\", multiple=\"layer\", color = \"green\")\nsns.set(rc = {'figure.figsize':(15,8)})",
   "execution_count": null,
   "outputs": [
    {
     "data": {
      "text/plain": "<Figure size 1296x576 with 1 Axes>",
      "image/png": "[encoded data removed]"
     },
     "metadata": {
      "image/png": {
       "width": 1059,
       "height": 485
      }
     },
     "output_type": "display_data"
    }
   ]
  },
  {
   "cell_type": "code",
   "metadata": {
    "cell_id": "97350430-af80-4208-be73-6fac59a3e243",
    "tags": [],
    "deepnote_to_be_reexecuted": false,
    "source_hash": "27425c7d",
    "execution_start": 1645122679648,
    "execution_millis": 649,
    "deepnote_output_heights": [
     324
    ],
    "deepnote_cell_height": 439,
    "deepnote_cell_type": "code"
   },
   "source": "sns.histplot(data = df_sorted_by_sales, x = \"Sales\",bins = 7, multiple = \"layer\", color = \"red\")\nsns.set(rc = {'figure.figsize':(10,5)})",
   "execution_count": null,
   "outputs": [
    {
     "data": {
      "text/plain": "<Figure size 720x360 with 1 Axes>",
      "image/png": "[encoded data removed]"
     },
     "metadata": {
      "image/png": {
       "width": 612,
       "height": 322
      }
     },
     "output_type": "display_data"
    }
   ]
  },
  {
   "cell_type": "markdown",
   "source": "14 de los 25 principales retailers de USA tienen ventas anuales inferiores a los 50.000 millones de dolares. Si agrupamos en solo dos bines vemos que solo 2 de las 25 empresas tienen ventas anuales superiores a los 100.000 millones de dolares anuales, las restantes 23 están por debajo. ",
   "metadata": {
    "cell_id": "b366bd1b-6f48-43f0-88a5-30328ad94536",
    "tags": [],
    "deepnote_cell_height": 97.1875,
    "deepnote_cell_type": "markdown"
   }
  },
  {
   "cell_type": "markdown",
   "source": "### 3. ¿Cuántas tiendas tiene la mayoría de las compañías?",
   "metadata": {
    "cell_id": "9801295a-a27d-48af-ae87-c653cabd8f67",
    "tags": [],
    "deepnote_cell_height": 62,
    "deepnote_cell_type": "markdown"
   }
  },
  {
   "cell_type": "code",
   "metadata": {
    "cell_id": "7b75799c-2b18-495a-b043-11b91e7371ea",
    "tags": [],
    "deepnote_to_be_reexecuted": false,
    "source_hash": "31390b56",
    "execution_start": 1645122688774,
    "execution_millis": 46,
    "deepnote_table_state": {
     "pageSize": 10,
     "pageIndex": 2,
     "filters": [],
     "sortBy": []
    },
    "deepnote_table_loading": false,
    "deepnote_cell_height": 411,
    "deepnote_cell_type": "code"
   },
   "source": "df_sorted_by_stores = df_sorted.sort_values('Stores',ascending=True)\ndf_sorted_by_stores",
   "execution_count": null,
   "outputs": [
    {
     "output_type": "execute_result",
     "execution_count": 24,
     "data": {
      "application/vnd.deepnote.dataframe.v3+json": {
       "column_count": 6,
       "row_count": 25,
       "columns": [
        {
         "name": "Company",
         "dtype": "object",
         "stats": {
          "unique_count": 25,
          "nan_count": 0,
          "categories": [
           {
            "name": "Meijer",
            "count": 1
           },
           {
            "name": "HEB",
            "count": 1
           },
           {
            "name": "23 others",
            "count": 23
           }
          ]
         }
        },
        {
         "name": "Sales",
         "dtype": "int64",
         "stats": {
          "unique_count": 25,
          "nan_count": 0,
          "min": "16592",
          "max": "658119",
          "histogram": [
           {
            "bin_start": 16592,
            "bin_end": 80744.7,
            "count": 21
           },
           {
            "bin_start": 80744.7,
            "bin_end": 144897.4,
            "count": 3
           },
           {
            "bin_start": 144897.4,
            "bin_end": 209050.09999999998,
            "count": 0
           },
           {
            "bin_start": 209050.09999999998,
            "bin_end": 273202.8,
            "count": 0
           },
           {
            "bin_start": 273202.8,
            "bin_end": 337355.5,
            "count": 0
           },
           {
            "bin_start": 337355.5,
            "bin_end": 401508.19999999995,
            "count": 0
           },
           {
            "bin_start": 401508.19999999995,
            "bin_end": 465660.89999999997,
            "count": 0
           },
           {
            "bin_start": 465660.89999999997,
            "bin_end": 529813.6,
            "count": 0
           },
           {
            "bin_start": 529813.6,
            "bin_end": 593966.2999999999,
            "count": 0
           },
           {
            "bin_start": 593966.2999999999,
            "bin_end": 658119,
            "count": 1
           }
          ]
         }
        },
        {
         "name": "Stores",
         "dtype": "float64",
         "stats": {
          "unique_count": 23,
          "nan_count": 2,
          "min": "231.0",
          "max": "14250.0",
          "histogram": [
           {
            "bin_start": 231,
            "bin_end": 1632.9,
            "count": 10
           },
           {
            "bin_start": 1632.9,
            "bin_end": 3034.8,
            "count": 6
           },
           {
            "bin_start": 3034.8,
            "bin_end": 4436.700000000001,
            "count": 1
           },
           {
            "bin_start": 4436.700000000001,
            "bin_end": 5838.6,
            "count": 2
           },
           {
            "bin_start": 5838.6,
            "bin_end": 7240.5,
            "count": 0
           },
           {
            "bin_start": 7240.5,
            "bin_end": 8642.400000000001,
            "count": 1
           },
           {
            "bin_start": 8642.400000000001,
            "bin_end": 10044.300000000001,
            "count": 1
           },
           {
            "bin_start": 10044.300000000001,
            "bin_end": 11446.2,
            "count": 0
           },
           {
            "bin_start": 11446.2,
            "bin_end": 12848.1,
            "count": 0
           },
           {
            "bin_start": 12848.1,
            "bin_end": 14250,
            "count": 2
           }
          ]
         }
        },
        {
         "name": "Sales/Avg. Store",
         "dtype": "float64",
         "stats": {
          "unique_count": 23,
          "nan_count": 2,
          "min": "1.56391854",
          "max": "187.7956204",
          "histogram": [
           {
            "bin_start": 1.56391854,
            "bin_end": 20.187088726,
            "count": 9
           },
           {
            "bin_start": 20.187088726,
            "bin_end": 38.810258912,
            "count": 7
           },
           {
            "bin_start": 38.810258912,
            "bin_end": 57.433429098000005,
            "count": 2
           },
           {
            "bin_start": 57.433429098000005,
            "bin_end": 76.056599284,
            "count": 3
           },
           {
            "bin_start": 76.056599284,
            "bin_end": 94.67976947,
            "count": 1
           },
           {
            "bin_start": 94.67976947,
            "bin_end": 113.302939656,
            "count": 0
           },
           {
            "bin_start": 113.302939656,
            "bin_end": 131.926109842,
            "count": 0
           },
           {
            "bin_start": 131.926109842,
            "bin_end": 150.549280028,
            "count": 0
           },
           {
            "bin_start": 150.549280028,
            "bin_end": 169.172450214,
            "count": 0
           },
           {
            "bin_start": 169.172450214,
            "bin_end": 187.7956204,
            "count": 1
           }
          ]
         }
        },
        {
         "name": "Store Count Growth",
         "dtype": "float64",
         "stats": {
          "unique_count": 23,
          "nan_count": 2,
          "min": "-0.05951506245",
          "max": "0.2556621881",
          "histogram": [
           {
            "bin_start": -0.05951506245,
            "bin_end": -0.027997337395000002,
            "count": 3
           },
           {
            "bin_start": -0.027997337395000002,
            "bin_end": 0.003520387659999999,
            "count": 4
           },
           {
            "bin_start": 0.003520387659999999,
            "bin_end": 0.035038112715,
            "count": 6
           },
           {
            "bin_start": 0.035038112715,
            "bin_end": 0.06655583777,
            "count": 2
           },
           {
            "bin_start": 0.06655583777,
            "bin_end": 0.098073562825,
            "count": 5
           },
           {
            "bin_start": 0.098073562825,
            "bin_end": 0.12959128788000002,
            "count": 1
           },
           {
            "bin_start": 0.12959128788000002,
            "bin_end": 0.16110901293500002,
            "count": 1
           },
           {
            "bin_start": 0.16110901293500002,
            "bin_end": 0.19262673799000002,
            "count": 0
           },
           {
            "bin_start": 0.19262673799000002,
            "bin_end": 0.22414446304500002,
            "count": 0
           },
           {
            "bin_start": 0.22414446304500002,
            "bin_end": 0.2556621881,
            "count": 1
           }
          ]
         }
        },
        {
         "name": "Category",
         "dtype": "object",
         "stats": {
          "unique_count": 11,
          "nan_count": 1,
          "categories": [
           {
            "name": "Grocery",
            "count": 7
           },
           {
            "name": "10 others",
            "count": 17
           },
           {
            "name": "Missing",
            "count": 1
           }
          ]
         }
        },
        {
         "name": "_deepnote_index_column",
         "dtype": "int64"
        }
       ],
       "rows": [
        {
         "Company": "CVS incl. Target",
         "Sales": 77792,
         "Stores": 9813,
         "Sales/Avg. Store": 8.825958702,
         "Store Count Growth": 0.2556621881,
         "Category": "Drug Stores",
         "_deepnote_index_column": 5
        },
        {
         "Company": "Dollar General",
         "Sales": 22234,
         "Stores": 13350,
         "Sales/Avg. Store": 1.768884999,
         "Store Count Growth": 0.1324115701,
         "Category": "Dollar Stores",
         "_deepnote_index_column": 19
        },
        {
         "Company": "Dollar Tree",
         "Sales": 21464,
         "Stores": 14250,
         "Sales/Avg. Store": 1.56391854,
         "Store Count Growth": 0.07962724449,
         "Category": "Dollar Stores",
         "_deepnote_index_column": 20
        },
        {
         "Company": "Amazon",
         "Sales": 71687,
         "Stores": "nan",
         "Sales/Avg. Store": "nan",
         "Store Count Growth": "nan",
         "Category": "Electronic/Mail Order",
         "_deepnote_index_column": 6
        },
        {
         "Company": "Apple incl. Online",
         "Sales": 37664,
         "Stores": "nan",
         "Sales/Avg. Store": "nan",
         "Store Count Growth": "nan",
         "Category": "nan",
         "_deepnote_index_column": 11
        }
       ]
      },
      "text/plain": "               Company   Sales   Stores  Sales/Avg. Store  Store Count Growth  \\\n24              Meijer   16592    231.0         74.738739            0.084507   \n21                 HEB   21384    323.0         66.825000            0.018927   \n2               Costco   90048    495.0        187.795620            0.066810   \n10          Sam's Club   56828    655.0         87.293395            0.012365   \n15               Ahold   26903    794.0         34.446863            0.033854   \n16              Macy's   26028    889.0         30.442105            0.082826   \n22              Kohl's   19060   1169.0         16.353496            0.006024   \n23            Delhaize   18201   1280.0         13.783415           -0.059515   \n13              Publix   34408   1351.0         25.997733            0.042438   \n12            Best Buy   34980   1389.0         24.685956           -0.038754   \n7               Target   71208   1772.0         39.982033           -0.010056   \n8               Lowe's   60311   1828.0         33.311792            0.019520   \n3           Home Depot   83976   1965.0         42.735878            0.000000   \n18                Aldi   24402   2021.0         12.715998            0.112273   \n9           Albertsons   56829   2326.0         23.877731           -0.044371   \n17                 TJX   25012   2770.0          9.369545            0.078241   \n1               Kroger  115037   3931.0         30.031850            0.053887   \n14            Rite Aid   27486   4553.0          6.025649           -0.003720   \n0           Walmart US  658119   4574.0         65.649725            0.012843   \n4       Walgreen Boots   78924   8002.0          9.810927           -0.010511   \n5     CVS incl. Target   77792   9813.0          8.825959            0.255662   \n19      Dollar General   22234  13350.0          1.768885            0.132412   \n20         Dollar Tree   21464  14250.0          1.563919            0.079627   \n6               Amazon   71687      NaN               NaN                 NaN   \n11  Apple incl. Online   37664      NaN               NaN                 NaN   \n\n                 Category  \n24           Supercenters  \n21                Grocery  \n2          Warehouse Club  \n10        Warehouse Clubs  \n15                Grocery  \n16      Department Stores  \n22      Department Stores  \n23                Grocery  \n13                Grocery  \n12            Electronics  \n7            Supercenters  \n8        Home Improvement  \n3        Home Improvement  \n18                Grocery  \n9                 Grocery  \n17                Apparel  \n1                 Grocery  \n14            Drug Stores  \n0            Supercenters  \n4             Drug Stores  \n5             Drug Stores  \n19          Dollar Stores  \n20          Dollar Stores  \n6   Electronic/Mail Order  \n11                    NaN  ",
      "text/html": "<div>\n<style scoped>\n    .dataframe tbody tr th:only-of-type {\n        vertical-align: middle;\n    }\n\n    .dataframe tbody tr th {\n        vertical-align: top;\n    }\n\n    .dataframe thead th {\n        text-align: right;\n    }\n</style>\n<table border=\"1\" class=\"dataframe\">\n  <thead>\n    <tr style=\"text-align: right;\">\n      <th></th>\n      <th>Company</th>\n      <th>Sales</th>\n      <th>Stores</th>\n      <th>Sales/Avg. Store</th>\n      <th>Store Count Growth</th>\n      <th>Category</th>\n    </tr>\n  </thead>\n  <tbody>\n    <tr>\n      <th>24</th>\n      <td>Meijer</td>\n      <td>16592</td>\n      <td>231.0</td>\n      <td>74.738739</td>\n      <td>0.084507</td>\n      <td>Supercenters</td>\n    </tr>\n    <tr>\n      <th>21</th>\n      <td>HEB</td>\n      <td>21384</td>\n      <td>323.0</td>\n      <td>66.825000</td>\n      <td>0.018927</td>\n      <td>Grocery</td>\n    </tr>\n    <tr>\n      <th>2</th>\n      <td>Costco</td>\n      <td>90048</td>\n      <td>495.0</td>\n      <td>187.795620</td>\n      <td>0.066810</td>\n      <td>Warehouse Club</td>\n    </tr>\n    <tr>\n      <th>10</th>\n      <td>Sam's Club</td>\n      <td>56828</td>\n      <td>655.0</td>\n      <td>87.293395</td>\n      <td>0.012365</td>\n      <td>Warehouse Clubs</td>\n    </tr>\n    <tr>\n      <th>15</th>\n      <td>Ahold</td>\n      <td>26903</td>\n      <td>794.0</td>\n      <td>34.446863</td>\n      <td>0.033854</td>\n      <td>Grocery</td>\n    </tr>\n    <tr>\n      <th>16</th>\n      <td>Macy's</td>\n      <td>26028</td>\n      <td>889.0</td>\n      <td>30.442105</td>\n      <td>0.082826</td>\n      <td>Department Stores</td>\n    </tr>\n    <tr>\n      <th>22</th>\n      <td>Kohl's</td>\n      <td>19060</td>\n      <td>1169.0</td>\n      <td>16.353496</td>\n      <td>0.006024</td>\n      <td>Department Stores</td>\n    </tr>\n    <tr>\n      <th>23</th>\n      <td>Delhaize</td>\n      <td>18201</td>\n      <td>1280.0</td>\n      <td>13.783415</td>\n      <td>-0.059515</td>\n      <td>Grocery</td>\n    </tr>\n    <tr>\n      <th>13</th>\n      <td>Publix</td>\n      <td>34408</td>\n      <td>1351.0</td>\n      <td>25.997733</td>\n      <td>0.042438</td>\n      <td>Grocery</td>\n    </tr>\n    <tr>\n      <th>12</th>\n      <td>Best Buy</td>\n      <td>34980</td>\n      <td>1389.0</td>\n      <td>24.685956</td>\n      <td>-0.038754</td>\n      <td>Electronics</td>\n    </tr>\n    <tr>\n      <th>7</th>\n      <td>Target</td>\n      <td>71208</td>\n      <td>1772.0</td>\n      <td>39.982033</td>\n      <td>-0.010056</td>\n      <td>Supercenters</td>\n    </tr>\n    <tr>\n      <th>8</th>\n      <td>Lowe's</td>\n      <td>60311</td>\n      <td>1828.0</td>\n      <td>33.311792</td>\n      <td>0.019520</td>\n      <td>Home Improvement</td>\n    </tr>\n    <tr>\n      <th>3</th>\n      <td>Home Depot</td>\n      <td>83976</td>\n      <td>1965.0</td>\n      <td>42.735878</td>\n      <td>0.000000</td>\n      <td>Home Improvement</td>\n    </tr>\n    <tr>\n      <th>18</th>\n      <td>Aldi</td>\n      <td>24402</td>\n      <td>2021.0</td>\n      <td>12.715998</td>\n      <td>0.112273</td>\n      <td>Grocery</td>\n    </tr>\n    <tr>\n      <th>9</th>\n      <td>Albertsons</td>\n      <td>56829</td>\n      <td>2326.0</td>\n      <td>23.877731</td>\n      <td>-0.044371</td>\n      <td>Grocery</td>\n    </tr>\n    <tr>\n      <th>17</th>\n      <td>TJX</td>\n      <td>25012</td>\n      <td>2770.0</td>\n      <td>9.369545</td>\n      <td>0.078241</td>\n      <td>Apparel</td>\n    </tr>\n    <tr>\n      <th>1</th>\n      <td>Kroger</td>\n      <td>115037</td>\n      <td>3931.0</td>\n      <td>30.031850</td>\n      <td>0.053887</td>\n      <td>Grocery</td>\n    </tr>\n    <tr>\n      <th>14</th>\n      <td>Rite Aid</td>\n      <td>27486</td>\n      <td>4553.0</td>\n      <td>6.025649</td>\n      <td>-0.003720</td>\n      <td>Drug Stores</td>\n    </tr>\n    <tr>\n      <th>0</th>\n      <td>Walmart US</td>\n      <td>658119</td>\n      <td>4574.0</td>\n      <td>65.649725</td>\n      <td>0.012843</td>\n      <td>Supercenters</td>\n    </tr>\n    <tr>\n      <th>4</th>\n      <td>Walgreen Boots</td>\n      <td>78924</td>\n      <td>8002.0</td>\n      <td>9.810927</td>\n      <td>-0.010511</td>\n      <td>Drug Stores</td>\n    </tr>\n    <tr>\n      <th>5</th>\n      <td>CVS incl. Target</td>\n      <td>77792</td>\n      <td>9813.0</td>\n      <td>8.825959</td>\n      <td>0.255662</td>\n      <td>Drug Stores</td>\n    </tr>\n    <tr>\n      <th>19</th>\n      <td>Dollar General</td>\n      <td>22234</td>\n      <td>13350.0</td>\n      <td>1.768885</td>\n      <td>0.132412</td>\n      <td>Dollar Stores</td>\n    </tr>\n    <tr>\n      <th>20</th>\n      <td>Dollar Tree</td>\n      <td>21464</td>\n      <td>14250.0</td>\n      <td>1.563919</td>\n      <td>0.079627</td>\n      <td>Dollar Stores</td>\n    </tr>\n    <tr>\n      <th>6</th>\n      <td>Amazon</td>\n      <td>71687</td>\n      <td>NaN</td>\n      <td>NaN</td>\n      <td>NaN</td>\n      <td>Electronic/Mail Order</td>\n    </tr>\n    <tr>\n      <th>11</th>\n      <td>Apple incl. Online</td>\n      <td>37664</td>\n      <td>NaN</td>\n      <td>NaN</td>\n      <td>NaN</td>\n      <td>NaN</td>\n    </tr>\n  </tbody>\n</table>\n</div>"
     },
     "metadata": {}
    }
   ]
  },
  {
   "cell_type": "code",
   "metadata": {
    "cell_id": "cfcc2261-f6a1-44d8-b8fa-184eec2a77ff",
    "tags": [],
    "deepnote_to_be_reexecuted": false,
    "source_hash": "7b86b2db",
    "execution_start": 1645122692752,
    "execution_millis": 386,
    "deepnote_output_heights": [
     324
    ],
    "deepnote_cell_height": 439,
    "deepnote_cell_type": "code"
   },
   "source": "sns.histplot(data = df_sorted_by_stores, x=\"Stores\", bins=8, multiple=\"layer\", color = \"green\")\nsns.set(rc = {'figure.figsize':(12,6)})",
   "execution_count": null,
   "outputs": [
    {
     "data": {
      "text/plain": "<Figure size 720x360 with 1 Axes>",
      "image/png": "[encoded data removed]"
     },
     "metadata": {
      "image/png": {
       "width": 612,
       "height": 322
      }
     },
     "output_type": "display_data"
    }
   ]
  },
  {
   "cell_type": "markdown",
   "source": "13 de los 25 principales retailers en USA (la mayoría), tienen menos de 2000 tiendas.",
   "metadata": {
    "cell_id": "2423c739-4c1d-4d91-8666-37cd82da1e3f",
    "tags": [],
    "deepnote_cell_height": 52.390625,
    "deepnote_cell_type": "markdown"
   }
  },
  {
   "cell_type": "markdown",
   "source": "### 4. ¿La cantidad de tiendas está relacionada con la cantidad de ventas? Es decir, ¿si una empresa tiene más tiendas tendrá más dinero de ventas?",
   "metadata": {
    "cell_id": "c9b5de28-cd12-4088-9bc0-93df660401f3",
    "tags": [],
    "deepnote_cell_height": 94,
    "deepnote_cell_type": "markdown"
   }
  },
  {
   "cell_type": "code",
   "metadata": {
    "cell_id": "72dda234-6fca-477e-a088-99682e9766a2",
    "tags": [],
    "deepnote_to_be_reexecuted": false,
    "source_hash": "ef1426ce",
    "execution_start": 1645122697012,
    "execution_millis": 527,
    "deepnote_output_heights": [
     21.1875,
     379
    ],
    "deepnote_cell_height": 528.1875,
    "deepnote_cell_type": "code"
   },
   "source": "sns.scatterplot(data = df_sorted, x = 'Sales', y = 'Stores', size = 'Sales/Avg. Store', color = \"red\")",
   "execution_count": null,
   "outputs": [
    {
     "output_type": "execute_result",
     "execution_count": 26,
     "data": {
      "text/plain": "<AxesSubplot:xlabel='Sales', ylabel='Stores'>"
     },
     "metadata": {}
    },
    {
     "data": {
      "text/plain": "<Figure size 864x432 with 1 Axes>",
      "image/png": "[encoded data removed]"
     },
     "metadata": {
      "image/png": {
       "width": 745,
       "height": 377
      }
     },
     "output_type": "display_data"
    }
   ]
  },
  {
   "cell_type": "code",
   "metadata": {
    "cell_id": "e632dc5c-6c45-4cf7-9c2a-46816c10497f",
    "tags": [],
    "deepnote_to_be_reexecuted": false,
    "source_hash": "9f03f4f0",
    "execution_start": 1645122701820,
    "execution_millis": 497,
    "deepnote_output_heights": [
     21.1875,
     366
    ],
    "deepnote_cell_height": 515.1875,
    "deepnote_cell_type": "code"
   },
   "source": "sns.heatmap(df_sorted.corr(),annot=True)",
   "execution_count": null,
   "outputs": [
    {
     "output_type": "execute_result",
     "execution_count": 27,
     "data": {
      "text/plain": "<AxesSubplot:>"
     },
     "metadata": {}
    },
    {
     "data": {
      "text/plain": "<Figure size 864x432 with 2 Axes>",
      "image/png": "[encoded data removed]"
     },
     "metadata": {
      "image/png": {
       "width": 754,
       "height": 364
      }
     },
     "output_type": "display_data"
    }
   ]
  },
  {
   "cell_type": "markdown",
   "source": "Como podemos observar en el scatter plot y en el heatmap de correlación que figura debajo, no existe correlación entre cantidad de tiendas y ventas. Tenemos el ejemplo de Walmart con algo mas de 4000 tiendas y ventas mayores a 600.000 millones de dolares anuales mientras que por otro lado está el caso de Dollar Tree que tiene mas de 14.000 tiendas y menos algo mas de 21.000 millones de dolares en ventas. ",
   "metadata": {
    "cell_id": "e6af9327-d313-4b81-9acc-035238b8395d",
    "tags": [],
    "deepnote_cell_height": 119.59375,
    "deepnote_cell_type": "markdown"
   }
  },
  {
   "cell_type": "markdown",
   "source": "### 5. ¿Cuál es el rango que existe entre las ventas?",
   "metadata": {
    "cell_id": "d296130b-b739-4424-8c5d-8dc8b6fc8ee5",
    "tags": [],
    "deepnote_cell_height": 62,
    "deepnote_cell_type": "markdown"
   }
  },
  {
   "cell_type": "code",
   "metadata": {
    "cell_id": "277da6f7-0300-4156-91e5-9765eb1f3752",
    "tags": [],
    "deepnote_to_be_reexecuted": false,
    "source_hash": "df773563",
    "execution_start": 1645122709003,
    "execution_millis": 6,
    "deepnote_output_heights": [
     21.1875
    ],
    "deepnote_cell_height": 136.1875,
    "deepnote_cell_type": "code"
   },
   "source": "range_sales = df_sorted['Sales'].max() - df_sorted['Sales'].min()\nrange_sales",
   "execution_count": null,
   "outputs": [
    {
     "output_type": "execute_result",
     "execution_count": 29,
     "data": {
      "text/plain": "641527"
     },
     "metadata": {}
    }
   ]
  },
  {
   "cell_type": "markdown",
   "source": "El rango (diferencia entre el máximo y el minimo) que existe entre las ventas es muy amplio. Estamos hablando de 641527 millones de dolares. Como comentabamos al principio, incluso la diferencia entre Walmart y Kroger es de casi 6X. ",
   "metadata": {
    "cell_id": "eeb60c16-518b-4da5-b1b6-1ef430ad8d31",
    "tags": [],
    "deepnote_cell_height": 74.796875,
    "deepnote_cell_type": "markdown"
   }
  },
  {
   "cell_type": "markdown",
   "source": "### 6. ¿Cuáles son las 5 empresas que más tiendas físicas tienen? ¿Cuáles de ellas están dentro de las 5 empresas que más ventas tuvieron?",
   "metadata": {
    "cell_id": "6c36ddc3-51ef-4017-a6f9-06cbb8b970e4",
    "tags": [],
    "deepnote_cell_height": 94,
    "deepnote_cell_type": "markdown"
   }
  },
  {
   "cell_type": "code",
   "metadata": {
    "cell_id": "1295319d-09d0-42f0-9de0-ff0e689f400f",
    "tags": [],
    "deepnote_to_be_reexecuted": false,
    "source_hash": "9b33c49d",
    "execution_start": 1645122723103,
    "execution_millis": 43,
    "deepnote_cell_height": 378,
    "deepnote_cell_type": "code"
   },
   "source": "df_sorted_by_stores2 = df_sorted.sort_values('Stores',ascending=False)\ndf_sorted_by_stores2 = df_sorted_by_stores2.iloc[ : 5, : ]\ndf_sorted_by_stores2",
   "execution_count": null,
   "outputs": [
    {
     "output_type": "execute_result",
     "execution_count": 30,
     "data": {
      "application/vnd.deepnote.dataframe.v3+json": {
       "column_count": 6,
       "row_count": 5,
       "columns": [
        {
         "name": "Company",
         "dtype": "object",
         "stats": {
          "unique_count": 5,
          "nan_count": 0,
          "categories": [
           {
            "name": "Dollar Tree",
            "count": 1
           },
           {
            "name": "Dollar General",
            "count": 1
           },
           {
            "name": "3 others",
            "count": 3
           }
          ]
         }
        },
        {
         "name": "Sales",
         "dtype": "int64",
         "stats": {
          "unique_count": 5,
          "nan_count": 0,
          "min": "21464",
          "max": "658119",
          "histogram": [
           {
            "bin_start": 21464,
            "bin_end": 85129.5,
            "count": 4
           },
           {
            "bin_start": 85129.5,
            "bin_end": 148795,
            "count": 0
           },
           {
            "bin_start": 148795,
            "bin_end": 212460.5,
            "count": 0
           },
           {
            "bin_start": 212460.5,
            "bin_end": 276126,
            "count": 0
           },
           {
            "bin_start": 276126,
            "bin_end": 339791.5,
            "count": 0
           },
           {
            "bin_start": 339791.5,
            "bin_end": 403457,
            "count": 0
           },
           {
            "bin_start": 403457,
            "bin_end": 467122.5,
            "count": 0
           },
           {
            "bin_start": 467122.5,
            "bin_end": 530788,
            "count": 0
           },
           {
            "bin_start": 530788,
            "bin_end": 594453.5,
            "count": 0
           },
           {
            "bin_start": 594453.5,
            "bin_end": 658119,
            "count": 1
           }
          ]
         }
        },
        {
         "name": "Stores",
         "dtype": "float64",
         "stats": {
          "unique_count": 5,
          "nan_count": 0,
          "min": "4574.0",
          "max": "14250.0",
          "histogram": [
           {
            "bin_start": 4574,
            "bin_end": 5541.6,
            "count": 1
           },
           {
            "bin_start": 5541.6,
            "bin_end": 6509.2,
            "count": 0
           },
           {
            "bin_start": 6509.2,
            "bin_end": 7476.8,
            "count": 0
           },
           {
            "bin_start": 7476.8,
            "bin_end": 8444.4,
            "count": 1
           },
           {
            "bin_start": 8444.4,
            "bin_end": 9412,
            "count": 0
           },
           {
            "bin_start": 9412,
            "bin_end": 10379.6,
            "count": 1
           },
           {
            "bin_start": 10379.6,
            "bin_end": 11347.2,
            "count": 0
           },
           {
            "bin_start": 11347.2,
            "bin_end": 12314.8,
            "count": 0
           },
           {
            "bin_start": 12314.8,
            "bin_end": 13282.4,
            "count": 0
           },
           {
            "bin_start": 13282.4,
            "bin_end": 14250,
            "count": 2
           }
          ]
         }
        },
        {
         "name": "Sales/Avg. Store",
         "dtype": "float64",
         "stats": {
          "unique_count": 5,
          "nan_count": 0,
          "min": "1.56391854",
          "max": "65.64972497",
          "histogram": [
           {
            "bin_start": 1.56391854,
            "bin_end": 7.972499182999998,
            "count": 2
           },
           {
            "bin_start": 7.972499182999998,
            "bin_end": 14.381079825999997,
            "count": 2
           },
           {
            "bin_start": 14.381079825999997,
            "bin_end": 20.789660468999994,
            "count": 0
           },
           {
            "bin_start": 20.789660468999994,
            "bin_end": 27.198241111999995,
            "count": 0
           },
           {
            "bin_start": 27.198241111999995,
            "bin_end": 33.606821755,
            "count": 0
           },
           {
            "bin_start": 33.606821755,
            "bin_end": 40.01540239799999,
            "count": 0
           },
           {
            "bin_start": 40.01540239799999,
            "bin_end": 46.42398304099999,
            "count": 0
           },
           {
            "bin_start": 46.42398304099999,
            "bin_end": 52.83256368399999,
            "count": 0
           },
           {
            "bin_start": 52.83256368399999,
            "bin_end": 59.24114432699999,
            "count": 0
           },
           {
            "bin_start": 59.24114432699999,
            "bin_end": 65.64972497,
            "count": 1
           }
          ]
         }
        },
        {
         "name": "Store Count Growth",
         "dtype": "float64",
         "stats": {
          "unique_count": 5,
          "nan_count": 0,
          "min": "-0.01051069618",
          "max": "0.2556621881",
          "histogram": [
           {
            "bin_start": -0.01051069618,
            "bin_end": 0.016106592248000005,
            "count": 2
           },
           {
            "bin_start": 0.016106592248000005,
            "bin_end": 0.042723880676000005,
            "count": 0
           },
           {
            "bin_start": 0.042723880676000005,
            "bin_end": 0.06934116910400001,
            "count": 0
           },
           {
            "bin_start": 0.06934116910400001,
            "bin_end": 0.09595845753200001,
            "count": 1
           },
           {
            "bin_start": 0.09595845753200001,
            "bin_end": 0.12257574596000001,
            "count": 0
           },
           {
            "bin_start": 0.12257574596000001,
            "bin_end": 0.14919303438800002,
            "count": 1
           },
           {
            "bin_start": 0.14919303438800002,
            "bin_end": 0.175810322816,
            "count": 0
           },
           {
            "bin_start": 0.175810322816,
            "bin_end": 0.20242761124400002,
            "count": 0
           },
           {
            "bin_start": 0.20242761124400002,
            "bin_end": 0.22904489967200004,
            "count": 0
           },
           {
            "bin_start": 0.22904489967200004,
            "bin_end": 0.2556621881,
            "count": 1
           }
          ]
         }
        },
        {
         "name": "Category",
         "dtype": "object",
         "stats": {
          "unique_count": 3,
          "nan_count": 0,
          "categories": [
           {
            "name": "Dollar Stores",
            "count": 2
           },
           {
            "name": "Drug Stores",
            "count": 2
           },
           {
            "name": "Supercenters",
            "count": 1
           }
          ]
         }
        },
        {
         "name": "_deepnote_index_column",
         "dtype": "int64"
        }
       ],
       "rows": [
        {
         "Company": "Dollar Tree",
         "Sales": 21464,
         "Stores": 14250,
         "Sales/Avg. Store": 1.56391854,
         "Store Count Growth": 0.07962724449,
         "Category": "Dollar Stores",
         "_deepnote_index_column": 20
        },
        {
         "Company": "Dollar General",
         "Sales": 22234,
         "Stores": 13350,
         "Sales/Avg. Store": 1.768884999,
         "Store Count Growth": 0.1324115701,
         "Category": "Dollar Stores",
         "_deepnote_index_column": 19
        },
        {
         "Company": "CVS incl. Target",
         "Sales": 77792,
         "Stores": 9813,
         "Sales/Avg. Store": 8.825958702,
         "Store Count Growth": 0.2556621881,
         "Category": "Drug Stores",
         "_deepnote_index_column": 5
        },
        {
         "Company": "Walgreen Boots",
         "Sales": 78924,
         "Stores": 8002,
         "Sales/Avg. Store": 9.81092672,
         "Store Count Growth": -0.01051069618,
         "Category": "Drug Stores",
         "_deepnote_index_column": 4
        },
        {
         "Company": "Walmart US",
         "Sales": 658119,
         "Stores": 4574,
         "Sales/Avg. Store": 65.64972497,
         "Store Count Growth": 0.01284322409,
         "Category": "Supercenters",
         "_deepnote_index_column": 0
        }
       ]
      },
      "text/plain": "             Company   Sales   Stores  Sales/Avg. Store  Store Count Growth  \\\n20       Dollar Tree   21464  14250.0          1.563919            0.079627   \n19    Dollar General   22234  13350.0          1.768885            0.132412   \n5   CVS incl. Target   77792   9813.0          8.825959            0.255662   \n4     Walgreen Boots   78924   8002.0          9.810927           -0.010511   \n0         Walmart US  658119   4574.0         65.649725            0.012843   \n\n         Category  \n20  Dollar Stores  \n19  Dollar Stores  \n5     Drug Stores  \n4     Drug Stores  \n0    Supercenters  ",
      "text/html": "<div>\n<style scoped>\n    .dataframe tbody tr th:only-of-type {\n        vertical-align: middle;\n    }\n\n    .dataframe tbody tr th {\n        vertical-align: top;\n    }\n\n    .dataframe thead th {\n        text-align: right;\n    }\n</style>\n<table border=\"1\" class=\"dataframe\">\n  <thead>\n    <tr style=\"text-align: right;\">\n      <th></th>\n      <th>Company</th>\n      <th>Sales</th>\n      <th>Stores</th>\n      <th>Sales/Avg. Store</th>\n      <th>Store Count Growth</th>\n      <th>Category</th>\n    </tr>\n  </thead>\n  <tbody>\n    <tr>\n      <th>20</th>\n      <td>Dollar Tree</td>\n      <td>21464</td>\n      <td>14250.0</td>\n      <td>1.563919</td>\n      <td>0.079627</td>\n      <td>Dollar Stores</td>\n    </tr>\n    <tr>\n      <th>19</th>\n      <td>Dollar General</td>\n      <td>22234</td>\n      <td>13350.0</td>\n      <td>1.768885</td>\n      <td>0.132412</td>\n      <td>Dollar Stores</td>\n    </tr>\n    <tr>\n      <th>5</th>\n      <td>CVS incl. Target</td>\n      <td>77792</td>\n      <td>9813.0</td>\n      <td>8.825959</td>\n      <td>0.255662</td>\n      <td>Drug Stores</td>\n    </tr>\n    <tr>\n      <th>4</th>\n      <td>Walgreen Boots</td>\n      <td>78924</td>\n      <td>8002.0</td>\n      <td>9.810927</td>\n      <td>-0.010511</td>\n      <td>Drug Stores</td>\n    </tr>\n    <tr>\n      <th>0</th>\n      <td>Walmart US</td>\n      <td>658119</td>\n      <td>4574.0</td>\n      <td>65.649725</td>\n      <td>0.012843</td>\n      <td>Supercenters</td>\n    </tr>\n  </tbody>\n</table>\n</div>"
     },
     "metadata": {}
    }
   ]
  },
  {
   "cell_type": "code",
   "metadata": {
    "cell_id": "d60f638e-6cc0-4716-a2a7-25d598f3c8db",
    "tags": [],
    "deepnote_to_be_reexecuted": false,
    "source_hash": "4b2e929f",
    "execution_start": 1645122726594,
    "execution_millis": 362,
    "deepnote_cell_height": 378,
    "deepnote_cell_type": "code"
   },
   "source": "df_sorted_by_sales2 = df_sorted.sort_values('Sales',ascending=False)\ndf_sorted_by_sales2 = df_sorted_by_sales2.iloc[ : 5, : ]\ndf_sorted_by_sales2",
   "execution_count": null,
   "outputs": [
    {
     "output_type": "execute_result",
     "execution_count": 31,
     "data": {
      "application/vnd.deepnote.dataframe.v3+json": {
       "column_count": 6,
       "row_count": 5,
       "columns": [
        {
         "name": "Company",
         "dtype": "object",
         "stats": {
          "unique_count": 5,
          "nan_count": 0,
          "categories": [
           {
            "name": "Walmart US",
            "count": 1
           },
           {
            "name": "Kroger",
            "count": 1
           },
           {
            "name": "3 others",
            "count": 3
           }
          ]
         }
        },
        {
         "name": "Sales",
         "dtype": "int64",
         "stats": {
          "unique_count": 5,
          "nan_count": 0,
          "min": "78924",
          "max": "658119",
          "histogram": [
           {
            "bin_start": 78924,
            "bin_end": 136843.5,
            "count": 4
           },
           {
            "bin_start": 136843.5,
            "bin_end": 194763,
            "count": 0
           },
           {
            "bin_start": 194763,
            "bin_end": 252682.5,
            "count": 0
           },
           {
            "bin_start": 252682.5,
            "bin_end": 310602,
            "count": 0
           },
           {
            "bin_start": 310602,
            "bin_end": 368521.5,
            "count": 0
           },
           {
            "bin_start": 368521.5,
            "bin_end": 426441,
            "count": 0
           },
           {
            "bin_start": 426441,
            "bin_end": 484360.5,
            "count": 0
           },
           {
            "bin_start": 484360.5,
            "bin_end": 542280,
            "count": 0
           },
           {
            "bin_start": 542280,
            "bin_end": 600199.5,
            "count": 0
           },
           {
            "bin_start": 600199.5,
            "bin_end": 658119,
            "count": 1
           }
          ]
         }
        },
        {
         "name": "Stores",
         "dtype": "float64",
         "stats": {
          "unique_count": 5,
          "nan_count": 0,
          "min": "495.0",
          "max": "8002.0",
          "histogram": [
           {
            "bin_start": 495,
            "bin_end": 1245.7,
            "count": 1
           },
           {
            "bin_start": 1245.7,
            "bin_end": 1996.4,
            "count": 1
           },
           {
            "bin_start": 1996.4,
            "bin_end": 2747.1000000000004,
            "count": 0
           },
           {
            "bin_start": 2747.1000000000004,
            "bin_end": 3497.8,
            "count": 0
           },
           {
            "bin_start": 3497.8,
            "bin_end": 4248.5,
            "count": 1
           },
           {
            "bin_start": 4248.5,
            "bin_end": 4999.200000000001,
            "count": 1
           },
           {
            "bin_start": 4999.200000000001,
            "bin_end": 5749.900000000001,
            "count": 0
           },
           {
            "bin_start": 5749.900000000001,
            "bin_end": 6500.6,
            "count": 0
           },
           {
            "bin_start": 6500.6,
            "bin_end": 7251.3,
            "count": 0
           },
           {
            "bin_start": 7251.3,
            "bin_end": 8002,
            "count": 1
           }
          ]
         }
        },
        {
         "name": "Sales/Avg. Store",
         "dtype": "float64",
         "stats": {
          "unique_count": 5,
          "nan_count": 0,
          "min": "9.81092672",
          "max": "187.7956204",
          "histogram": [
           {
            "bin_start": 9.81092672,
            "bin_end": 27.609396087999997,
            "count": 1
           },
           {
            "bin_start": 27.609396087999997,
            "bin_end": 45.407865455999996,
            "count": 2
           },
           {
            "bin_start": 45.407865455999996,
            "bin_end": 63.206334823999995,
            "count": 0
           },
           {
            "bin_start": 63.206334823999995,
            "bin_end": 81.004804192,
            "count": 1
           },
           {
            "bin_start": 81.004804192,
            "bin_end": 98.80327356,
            "count": 0
           },
           {
            "bin_start": 98.80327356,
            "bin_end": 116.601742928,
            "count": 0
           },
           {
            "bin_start": 116.601742928,
            "bin_end": 134.400212296,
            "count": 0
           },
           {
            "bin_start": 134.400212296,
            "bin_end": 152.198681664,
            "count": 0
           },
           {
            "bin_start": 152.198681664,
            "bin_end": 169.99715103199998,
            "count": 0
           },
           {
            "bin_start": 169.99715103199998,
            "bin_end": 187.7956204,
            "count": 1
           }
          ]
         }
        },
        {
         "name": "Store Count Growth",
         "dtype": "float64",
         "stats": {
          "unique_count": 5,
          "nan_count": 0,
          "min": "-0.01051069618",
          "max": "0.06681034483",
          "histogram": [
           {
            "bin_start": -0.01051069618,
            "bin_end": -0.0027785920789999983,
            "count": 1
           },
           {
            "bin_start": -0.0027785920789999983,
            "bin_end": 0.004953512022000003,
            "count": 1
           },
           {
            "bin_start": 0.004953512022000003,
            "bin_end": 0.012685616123000005,
            "count": 0
           },
           {
            "bin_start": 0.012685616123000005,
            "bin_end": 0.020417720224000006,
            "count": 1
           },
           {
            "bin_start": 0.020417720224000006,
            "bin_end": 0.028149824325000003,
            "count": 0
           },
           {
            "bin_start": 0.028149824325000003,
            "bin_end": 0.03588192842600001,
            "count": 0
           },
           {
            "bin_start": 0.03588192842600001,
            "bin_end": 0.043614032527,
            "count": 0
           },
           {
            "bin_start": 0.043614032527,
            "bin_end": 0.05134613662800001,
            "count": 0
           },
           {
            "bin_start": 0.05134613662800001,
            "bin_end": 0.059078240729,
            "count": 1
           },
           {
            "bin_start": 0.059078240729,
            "bin_end": 0.06681034483,
            "count": 1
           }
          ]
         }
        },
        {
         "name": "Category",
         "dtype": "object",
         "stats": {
          "unique_count": 5,
          "nan_count": 0,
          "categories": [
           {
            "name": "Supercenters",
            "count": 1
           },
           {
            "name": "Grocery",
            "count": 1
           },
           {
            "name": "3 others",
            "count": 3
           }
          ]
         }
        },
        {
         "name": "_deepnote_index_column",
         "dtype": "int64"
        }
       ],
       "rows": [
        {
         "Company": "Walmart US",
         "Sales": 658119,
         "Stores": 4574,
         "Sales/Avg. Store": 65.64972497,
         "Store Count Growth": 0.01284322409,
         "Category": "Supercenters",
         "_deepnote_index_column": 0
        },
        {
         "Company": "Kroger",
         "Sales": 115037,
         "Stores": 3931,
         "Sales/Avg. Store": 30.03184963,
         "Store Count Growth": 0.05388739946,
         "Category": "Grocery",
         "_deepnote_index_column": 1
        },
        {
         "Company": "Costco",
         "Sales": 90048,
         "Stores": 495,
         "Sales/Avg. Store": 187.7956204,
         "Store Count Growth": 0.06681034483,
         "Category": "Warehouse Club",
         "_deepnote_index_column": 2
        },
        {
         "Company": "Home Depot",
         "Sales": 83976,
         "Stores": 1965,
         "Sales/Avg. Store": 42.73587786,
         "Store Count Growth": 0,
         "Category": "Home Improvement",
         "_deepnote_index_column": 3
        },
        {
         "Company": "Walgreen Boots",
         "Sales": 78924,
         "Stores": 8002,
         "Sales/Avg. Store": 9.81092672,
         "Store Count Growth": -0.01051069618,
         "Category": "Drug Stores",
         "_deepnote_index_column": 4
        }
       ]
      },
      "text/plain": "          Company   Sales  Stores  Sales/Avg. Store  Store Count Growth  \\\n0      Walmart US  658119  4574.0         65.649725            0.012843   \n1          Kroger  115037  3931.0         30.031850            0.053887   \n2          Costco   90048   495.0        187.795620            0.066810   \n3      Home Depot   83976  1965.0         42.735878            0.000000   \n4  Walgreen Boots   78924  8002.0          9.810927           -0.010511   \n\n           Category  \n0      Supercenters  \n1           Grocery  \n2    Warehouse Club  \n3  Home Improvement  \n4       Drug Stores  ",
      "text/html": "<div>\n<style scoped>\n    .dataframe tbody tr th:only-of-type {\n        vertical-align: middle;\n    }\n\n    .dataframe tbody tr th {\n        vertical-align: top;\n    }\n\n    .dataframe thead th {\n        text-align: right;\n    }\n</style>\n<table border=\"1\" class=\"dataframe\">\n  <thead>\n    <tr style=\"text-align: right;\">\n      <th></th>\n      <th>Company</th>\n      <th>Sales</th>\n      <th>Stores</th>\n      <th>Sales/Avg. Store</th>\n      <th>Store Count Growth</th>\n      <th>Category</th>\n    </tr>\n  </thead>\n  <tbody>\n    <tr>\n      <th>0</th>\n      <td>Walmart US</td>\n      <td>658119</td>\n      <td>4574.0</td>\n      <td>65.649725</td>\n      <td>0.012843</td>\n      <td>Supercenters</td>\n    </tr>\n    <tr>\n      <th>1</th>\n      <td>Kroger</td>\n      <td>115037</td>\n      <td>3931.0</td>\n      <td>30.031850</td>\n      <td>0.053887</td>\n      <td>Grocery</td>\n    </tr>\n    <tr>\n      <th>2</th>\n      <td>Costco</td>\n      <td>90048</td>\n      <td>495.0</td>\n      <td>187.795620</td>\n      <td>0.066810</td>\n      <td>Warehouse Club</td>\n    </tr>\n    <tr>\n      <th>3</th>\n      <td>Home Depot</td>\n      <td>83976</td>\n      <td>1965.0</td>\n      <td>42.735878</td>\n      <td>0.000000</td>\n      <td>Home Improvement</td>\n    </tr>\n    <tr>\n      <th>4</th>\n      <td>Walgreen Boots</td>\n      <td>78924</td>\n      <td>8002.0</td>\n      <td>9.810927</td>\n      <td>-0.010511</td>\n      <td>Drug Stores</td>\n    </tr>\n  </tbody>\n</table>\n</div>"
     },
     "metadata": {}
    }
   ]
  },
  {
   "cell_type": "code",
   "metadata": {
    "cell_id": "e9d68c74-579a-4f59-9fef-083be22b4b9b",
    "tags": [],
    "deepnote_to_be_reexecuted": false,
    "source_hash": "2b4f698e",
    "execution_start": 1645122731357,
    "execution_millis": 697,
    "deepnote_output_heights": [
     600
    ],
    "deepnote_cell_height": 823,
    "deepnote_cell_type": "code"
   },
   "source": "fig , ax = plt.subplots(1,2,figsize = (15,9))\nsns.barplot(data = df_sorted_by_stores2, x = 'Company', y = 'Stores', ax = ax[0])\nax[0].set_title('Top five US retail stores')\nax[0].set_xticklabels(ax[0].get_xticklabels(),rotation = 30)\nsns.barplot(data = df_sorted_by_sales2, x = 'Company', y = 'Sales', ax = ax[1])\nax[1].set_title('Top five US retail sales')\nax[1].set_xticklabels(ax[1].get_xticklabels(),rotation = 30)\nplt.show()",
   "execution_count": null,
   "outputs": [
    {
     "data": {
      "text/plain": "<Figure size 1080x648 with 2 Axes>",
      "image/png": "[encoded data removed]"
     },
     "metadata": {
      "image/png": {
       "width": 914,
       "height": 598
      }
     },
     "output_type": "display_data"
    }
   ]
  },
  {
   "cell_type": "markdown",
   "source": "Como podemos observar en el gráfico de arriba las 5 empresas con mas tiendas son: \nDollar Tree con 14250 tiendas.\nDollar General con 13350 tiendas.\nCVS incl. Target con 9813 tiendas.\nWalgreen Boots con 8002 tiendas.\nWalmart US con 4574 tiendas. \nLa única de ellas que se encuentra en el top five de empresas con mas ventas es Walmart US quien encabeza esta lista con 658119 millones de dolares por año. \n\n",
   "metadata": {
    "cell_id": "48502b25-e4e8-4109-b7f3-350751c4ebc3",
    "tags": [],
    "deepnote_cell_height": 181,
    "deepnote_cell_type": "markdown"
   }
  },
  {
   "cell_type": "markdown",
   "source": "## II. Preguntas opcionales",
   "metadata": {
    "cell_id": "7d1d5db9-ad1d-4081-968b-bea1357e236a",
    "tags": [],
    "deepnote_cell_height": 70,
    "deepnote_cell_type": "markdown"
   }
  },
  {
   "cell_type": "markdown",
   "source": "### 7. ¿Qué categoría de compañía generó más ventas?",
   "metadata": {
    "cell_id": "27e5ddcb-8674-4809-844e-8c3442430be1",
    "tags": [],
    "deepnote_cell_height": 62,
    "deepnote_cell_type": "markdown"
   }
  },
  {
   "cell_type": "code",
   "metadata": {
    "cell_id": "fcc0ff72-f954-4023-b187-f43c7ecc77ce",
    "tags": [],
    "deepnote_to_be_reexecuted": false,
    "source_hash": "ac945701",
    "execution_start": 1645122739568,
    "execution_millis": 58,
    "deepnote_cell_height": 652,
    "deepnote_cell_type": "code"
   },
   "source": "df_group_by_category = df_sorted.groupby(['Category']).agg({'Sales' : 'sum'})\ndf_group_by_category = df_group_by_category.reset_index()\ndf_group_by_category = df_group_by_category.sort_values('Sales',ascending=False)\ndf_group_by_category",
   "execution_count": null,
   "outputs": [
    {
     "output_type": "execute_result",
     "execution_count": 33,
     "data": {
      "application/vnd.deepnote.dataframe.v3+json": {
       "column_count": 2,
       "row_count": 11,
       "columns": [
        {
         "name": "Category",
         "dtype": "object",
         "stats": {
          "unique_count": 11,
          "nan_count": 0,
          "categories": [
           {
            "name": "Supercenters",
            "count": 1
           },
           {
            "name": "Grocery",
            "count": 1
           },
           {
            "name": "9 others",
            "count": 9
           }
          ]
         }
        },
        {
         "name": "Sales",
         "dtype": "int64",
         "stats": {
          "unique_count": 11,
          "nan_count": 0,
          "min": "25012",
          "max": "745919",
          "histogram": [
           {
            "bin_start": 25012,
            "bin_end": 97102.7,
            "count": 7
           },
           {
            "bin_start": 97102.7,
            "bin_end": 169193.4,
            "count": 1
           },
           {
            "bin_start": 169193.4,
            "bin_end": 241284.09999999998,
            "count": 1
           },
           {
            "bin_start": 241284.09999999998,
            "bin_end": 313374.8,
            "count": 1
           },
           {
            "bin_start": 313374.8,
            "bin_end": 385465.5,
            "count": 0
           },
           {
            "bin_start": 385465.5,
            "bin_end": 457556.19999999995,
            "count": 0
           },
           {
            "bin_start": 457556.19999999995,
            "bin_end": 529646.8999999999,
            "count": 0
           },
           {
            "bin_start": 529646.8999999999,
            "bin_end": 601737.6,
            "count": 0
           },
           {
            "bin_start": 601737.6,
            "bin_end": 673828.2999999999,
            "count": 0
           },
           {
            "bin_start": 673828.2999999999,
            "bin_end": 745919,
            "count": 1
           }
          ]
         }
        },
        {
         "name": "_deepnote_index_column",
         "dtype": "int64"
        }
       ],
       "rows": [
        {
         "Category": "Supercenters",
         "Sales": 745919,
         "_deepnote_index_column": 8
        },
        {
         "Category": "Grocery",
         "Sales": 297164,
         "_deepnote_index_column": 6
        },
        {
         "Category": "Drug Stores",
         "Sales": 184202,
         "_deepnote_index_column": 3
        },
        {
         "Category": "Home Improvement",
         "Sales": 144287,
         "_deepnote_index_column": 7
        },
        {
         "Category": "Warehouse Club",
         "Sales": 90048,
         "_deepnote_index_column": 9
        },
        {
         "Category": "Electronic/Mail Order",
         "Sales": 71687,
         "_deepnote_index_column": 4
        },
        {
         "Category": "Warehouse Clubs",
         "Sales": 56828,
         "_deepnote_index_column": 10
        },
        {
         "Category": "Department Stores",
         "Sales": 45088,
         "_deepnote_index_column": 1
        },
        {
         "Category": "Dollar Stores",
         "Sales": 43698,
         "_deepnote_index_column": 2
        },
        {
         "Category": "Electronics",
         "Sales": 34980,
         "_deepnote_index_column": 5
        }
       ]
      },
      "text/plain": "                 Category   Sales\n8            Supercenters  745919\n6                 Grocery  297164\n3             Drug Stores  184202\n7        Home Improvement  144287\n9          Warehouse Club   90048\n4   Electronic/Mail Order   71687\n10        Warehouse Clubs   56828\n1       Department Stores   45088\n2           Dollar Stores   43698\n5             Electronics   34980\n0                 Apparel   25012",
      "text/html": "<div>\n<style scoped>\n    .dataframe tbody tr th:only-of-type {\n        vertical-align: middle;\n    }\n\n    .dataframe tbody tr th {\n        vertical-align: top;\n    }\n\n    .dataframe thead th {\n        text-align: right;\n    }\n</style>\n<table border=\"1\" class=\"dataframe\">\n  <thead>\n    <tr style=\"text-align: right;\">\n      <th></th>\n      <th>Category</th>\n      <th>Sales</th>\n    </tr>\n  </thead>\n  <tbody>\n    <tr>\n      <th>8</th>\n      <td>Supercenters</td>\n      <td>745919</td>\n    </tr>\n    <tr>\n      <th>6</th>\n      <td>Grocery</td>\n      <td>297164</td>\n    </tr>\n    <tr>\n      <th>3</th>\n      <td>Drug Stores</td>\n      <td>184202</td>\n    </tr>\n    <tr>\n      <th>7</th>\n      <td>Home Improvement</td>\n      <td>144287</td>\n    </tr>\n    <tr>\n      <th>9</th>\n      <td>Warehouse Club</td>\n      <td>90048</td>\n    </tr>\n    <tr>\n      <th>4</th>\n      <td>Electronic/Mail Order</td>\n      <td>71687</td>\n    </tr>\n    <tr>\n      <th>10</th>\n      <td>Warehouse Clubs</td>\n      <td>56828</td>\n    </tr>\n    <tr>\n      <th>1</th>\n      <td>Department Stores</td>\n      <td>45088</td>\n    </tr>\n    <tr>\n      <th>2</th>\n      <td>Dollar Stores</td>\n      <td>43698</td>\n    </tr>\n    <tr>\n      <th>5</th>\n      <td>Electronics</td>\n      <td>34980</td>\n    </tr>\n    <tr>\n      <th>0</th>\n      <td>Apparel</td>\n      <td>25012</td>\n    </tr>\n  </tbody>\n</table>\n</div>"
     },
     "metadata": {}
    }
   ]
  },
  {
   "cell_type": "code",
   "metadata": {
    "cell_id": "8d4b78c2-4c7d-48ab-a3d2-fb2685d7bd17",
    "tags": [],
    "deepnote_to_be_reexecuted": false,
    "source_hash": "e25f6fd3",
    "execution_start": 1645122746551,
    "execution_millis": 652,
    "deepnote_output_heights": [
     21.1875,
     435
    ],
    "deepnote_cell_height": 620.1875,
    "deepnote_cell_type": "code"
   },
   "source": "chart2 = sns.barplot(data = df_group_by_category, x = 'Category', y = 'Sales')\nchart2.set_xticklabels(chart2.get_xticklabels(),rotation = 30)\nchart2",
   "execution_count": null,
   "outputs": [
    {
     "output_type": "execute_result",
     "execution_count": 34,
     "data": {
      "text/plain": "<AxesSubplot:xlabel='Category', ylabel='Sales'>"
     },
     "metadata": {}
    },
    {
     "data": {
      "text/plain": "<Figure size 864x432 with 1 Axes>",
      "image/png": "[encoded data removed]"
     },
     "metadata": {
      "image/png": {
       "width": 752,
       "height": 433
      }
     },
     "output_type": "display_data"
    }
   ]
  },
  {
   "cell_type": "markdown",
   "source": "Como se observa en el gráfico anterior, la categoría de retailers que generó mas ventas es la de \"Supercenters\" con un total de ventas anuales de 745919 millones de dolares.",
   "metadata": {
    "cell_id": "7dc1ad6f-e40a-4fd2-a5ad-25aaf8fbaaa3",
    "tags": [],
    "deepnote_cell_height": 74.796875,
    "deepnote_cell_type": "markdown"
   }
  },
  {
   "cell_type": "markdown",
   "source": "### 8. ¿Cuál es la compañía que en relación con su cantidad de tiendas físicas genera más ventas?",
   "metadata": {
    "cell_id": "33668883-9f01-485c-bdf9-822cd13ad952",
    "tags": [],
    "deepnote_cell_height": 94,
    "deepnote_cell_type": "markdown"
   }
  },
  {
   "cell_type": "code",
   "metadata": {
    "cell_id": "903008ff-c22d-431e-8130-a954a94b16e8",
    "tags": [],
    "deepnote_to_be_reexecuted": false,
    "source_hash": "ad6ee4d4",
    "execution_start": 1645122751609,
    "execution_millis": 3,
    "deepnote_table_state": {
     "pageSize": 10,
     "pageIndex": 0,
     "filters": [],
     "sortBy": []
    },
    "deepnote_table_loading": false,
    "deepnote_cell_height": 632.796875,
    "deepnote_cell_type": "code"
   },
   "source": "df_sorted['Sales/Avg. Store_2'] = df_sorted['Sales'] / df_sorted['Stores'] \ndf_sorted",
   "execution_count": null,
   "outputs": [
    {
     "output_type": "execute_result",
     "execution_count": 35,
     "data": {
      "application/vnd.deepnote.dataframe.v3+json": {
       "column_count": 7,
       "row_count": 25,
       "columns": [
        {
         "name": "Company",
         "dtype": "object",
         "stats": {
          "unique_count": 25,
          "nan_count": 0,
          "categories": [
           {
            "name": "Walmart US",
            "count": 1
           },
           {
            "name": "Kroger",
            "count": 1
           },
           {
            "name": "23 others",
            "count": 23
           }
          ]
         }
        },
        {
         "name": "Sales",
         "dtype": "int64",
         "stats": {
          "unique_count": 25,
          "nan_count": 0,
          "min": "16592",
          "max": "658119",
          "histogram": [
           {
            "bin_start": 16592,
            "bin_end": 80744.7,
            "count": 21
           },
           {
            "bin_start": 80744.7,
            "bin_end": 144897.4,
            "count": 3
           },
           {
            "bin_start": 144897.4,
            "bin_end": 209050.09999999998,
            "count": 0
           },
           {
            "bin_start": 209050.09999999998,
            "bin_end": 273202.8,
            "count": 0
           },
           {
            "bin_start": 273202.8,
            "bin_end": 337355.5,
            "count": 0
           },
           {
            "bin_start": 337355.5,
            "bin_end": 401508.19999999995,
            "count": 0
           },
           {
            "bin_start": 401508.19999999995,
            "bin_end": 465660.89999999997,
            "count": 0
           },
           {
            "bin_start": 465660.89999999997,
            "bin_end": 529813.6,
            "count": 0
           },
           {
            "bin_start": 529813.6,
            "bin_end": 593966.2999999999,
            "count": 0
           },
           {
            "bin_start": 593966.2999999999,
            "bin_end": 658119,
            "count": 1
           }
          ]
         }
        },
        {
         "name": "Stores",
         "dtype": "float64",
         "stats": {
          "unique_count": 23,
          "nan_count": 2,
          "min": "231.0",
          "max": "14250.0",
          "histogram": [
           {
            "bin_start": 231,
            "bin_end": 1632.9,
            "count": 10
           },
           {
            "bin_start": 1632.9,
            "bin_end": 3034.8,
            "count": 6
           },
           {
            "bin_start": 3034.8,
            "bin_end": 4436.700000000001,
            "count": 1
           },
           {
            "bin_start": 4436.700000000001,
            "bin_end": 5838.6,
            "count": 2
           },
           {
            "bin_start": 5838.6,
            "bin_end": 7240.5,
            "count": 0
           },
           {
            "bin_start": 7240.5,
            "bin_end": 8642.400000000001,
            "count": 1
           },
           {
            "bin_start": 8642.400000000001,
            "bin_end": 10044.300000000001,
            "count": 1
           },
           {
            "bin_start": 10044.300000000001,
            "bin_end": 11446.2,
            "count": 0
           },
           {
            "bin_start": 11446.2,
            "bin_end": 12848.1,
            "count": 0
           },
           {
            "bin_start": 12848.1,
            "bin_end": 14250,
            "count": 2
           }
          ]
         }
        },
        {
         "name": "Sales/Avg. Store",
         "dtype": "float64",
         "stats": {
          "unique_count": 23,
          "nan_count": 2,
          "min": "1.56391854",
          "max": "187.7956204",
          "histogram": [
           {
            "bin_start": 1.56391854,
            "bin_end": 20.187088726,
            "count": 9
           },
           {
            "bin_start": 20.187088726,
            "bin_end": 38.810258912,
            "count": 7
           },
           {
            "bin_start": 38.810258912,
            "bin_end": 57.433429098000005,
            "count": 2
           },
           {
            "bin_start": 57.433429098000005,
            "bin_end": 76.056599284,
            "count": 3
           },
           {
            "bin_start": 76.056599284,
            "bin_end": 94.67976947,
            "count": 1
           },
           {
            "bin_start": 94.67976947,
            "bin_end": 113.302939656,
            "count": 0
           },
           {
            "bin_start": 113.302939656,
            "bin_end": 131.926109842,
            "count": 0
           },
           {
            "bin_start": 131.926109842,
            "bin_end": 150.549280028,
            "count": 0
           },
           {
            "bin_start": 150.549280028,
            "bin_end": 169.172450214,
            "count": 0
           },
           {
            "bin_start": 169.172450214,
            "bin_end": 187.7956204,
            "count": 1
           }
          ]
         }
        },
        {
         "name": "Store Count Growth",
         "dtype": "float64",
         "stats": {
          "unique_count": 23,
          "nan_count": 2,
          "min": "-0.05951506245",
          "max": "0.2556621881",
          "histogram": [
           {
            "bin_start": -0.05951506245,
            "bin_end": -0.027997337395000002,
            "count": 3
           },
           {
            "bin_start": -0.027997337395000002,
            "bin_end": 0.003520387659999999,
            "count": 4
           },
           {
            "bin_start": 0.003520387659999999,
            "bin_end": 0.035038112715,
            "count": 6
           },
           {
            "bin_start": 0.035038112715,
            "bin_end": 0.06655583777,
            "count": 2
           },
           {
            "bin_start": 0.06655583777,
            "bin_end": 0.098073562825,
            "count": 5
           },
           {
            "bin_start": 0.098073562825,
            "bin_end": 0.12959128788000002,
            "count": 1
           },
           {
            "bin_start": 0.12959128788000002,
            "bin_end": 0.16110901293500002,
            "count": 1
           },
           {
            "bin_start": 0.16110901293500002,
            "bin_end": 0.19262673799000002,
            "count": 0
           },
           {
            "bin_start": 0.19262673799000002,
            "bin_end": 0.22414446304500002,
            "count": 0
           },
           {
            "bin_start": 0.22414446304500002,
            "bin_end": 0.2556621881,
            "count": 1
           }
          ]
         }
        },
        {
         "name": "Category",
         "dtype": "object",
         "stats": {
          "unique_count": 11,
          "nan_count": 1,
          "categories": [
           {
            "name": "Grocery",
            "count": 7
           },
           {
            "name": "10 others",
            "count": 17
           },
           {
            "name": "Missing",
            "count": 1
           }
          ]
         }
        },
        {
         "name": "Sales/Avg. Store_2",
         "dtype": "float64",
         "stats": {
          "unique_count": 23,
          "nan_count": 2,
          "min": "1.5062456140350877",
          "max": "181.9151515151515",
          "histogram": [
           {
            "bin_start": 1.5062456140350877,
            "bin_end": 19.547136204146728,
            "count": 9
           },
           {
            "bin_start": 19.547136204146728,
            "bin_end": 37.58802679425837,
            "count": 7
           },
           {
            "bin_start": 37.58802679425837,
            "bin_end": 55.628917384370006,
            "count": 2
           },
           {
            "bin_start": 55.628917384370006,
            "bin_end": 73.66980797448166,
            "count": 2
           },
           {
            "bin_start": 73.66980797448166,
            "bin_end": 91.7106985645933,
            "count": 1
           },
           {
            "bin_start": 91.7106985645933,
            "bin_end": 109.75158915470493,
            "count": 0
           },
           {
            "bin_start": 109.75158915470493,
            "bin_end": 127.79247974481657,
            "count": 0
           },
           {
            "bin_start": 127.79247974481657,
            "bin_end": 145.83337033492822,
            "count": 1
           },
           {
            "bin_start": 145.83337033492822,
            "bin_end": 163.87426092503986,
            "count": 0
           },
           {
            "bin_start": 163.87426092503986,
            "bin_end": 181.9151515151515,
            "count": 1
           }
          ]
         }
        },
        {
         "name": "_deepnote_index_column",
         "dtype": "int64"
        }
       ],
       "rows": [
        {
         "Company": "Walmart US",
         "Sales": 658119,
         "Stores": 4574,
         "Sales/Avg. Store": 65.64972497,
         "Store Count Growth": 0.01284322409,
         "Category": "Supercenters",
         "Sales/Avg. Store_2": 143.88259728902491,
         "_deepnote_index_column": 0
        },
        {
         "Company": "Kroger",
         "Sales": 115037,
         "Stores": 3931,
         "Sales/Avg. Store": 30.03184963,
         "Store Count Growth": 0.05388739946,
         "Category": "Grocery",
         "Sales/Avg. Store_2": 29.26405494785042,
         "_deepnote_index_column": 1
        },
        {
         "Company": "Costco",
         "Sales": 90048,
         "Stores": 495,
         "Sales/Avg. Store": 187.7956204,
         "Store Count Growth": 0.06681034483,
         "Category": "Warehouse Club",
         "Sales/Avg. Store_2": 181.9151515151515,
         "_deepnote_index_column": 2
        },
        {
         "Company": "Home Depot",
         "Sales": 83976,
         "Stores": 1965,
         "Sales/Avg. Store": 42.73587786,
         "Store Count Growth": 0,
         "Category": "Home Improvement",
         "Sales/Avg. Store_2": 42.73587786259542,
         "_deepnote_index_column": 3
        },
        {
         "Company": "Walgreen Boots",
         "Sales": 78924,
         "Stores": 8002,
         "Sales/Avg. Store": 9.81092672,
         "Store Count Growth": -0.01051069618,
         "Category": "Drug Stores",
         "Sales/Avg. Store_2": 9.86303424143964,
         "_deepnote_index_column": 4
        },
        {
         "Company": "CVS incl. Target",
         "Sales": 77792,
         "Stores": 9813,
         "Sales/Avg. Store": 8.825958702,
         "Store Count Growth": 0.2556621881,
         "Category": "Drug Stores",
         "Sales/Avg. Store_2": 7.927443187608275,
         "_deepnote_index_column": 5
        },
        {
         "Company": "Amazon",
         "Sales": 71687,
         "Stores": "nan",
         "Sales/Avg. Store": "nan",
         "Store Count Growth": "nan",
         "Category": "Electronic/Mail Order",
         "Sales/Avg. Store_2": "nan",
         "_deepnote_index_column": 6
        },
        {
         "Company": "Target",
         "Sales": 71208,
         "Stores": 1772,
         "Sales/Avg. Store": 39.98203257,
         "Store Count Growth": -0.01005586592,
         "Category": "Supercenters",
         "Sales/Avg. Store_2": 40.18510158013544,
         "_deepnote_index_column": 7
        },
        {
         "Company": "Lowe's",
         "Sales": 60311,
         "Stores": 1828,
         "Sales/Avg. Store": 33.31179232,
         "Store Count Growth": 0.01952035694,
         "Category": "Home Improvement",
         "Sales/Avg. Store_2": 32.99288840262582,
         "_deepnote_index_column": 8
        },
        {
         "Company": "Albertsons",
         "Sales": 56829,
         "Stores": 2326,
         "Sales/Avg. Store": 23.87773109,
         "Store Count Growth": -0.04437140509,
         "Category": "Grocery",
         "Sales/Avg. Store_2": 24.43207222699914,
         "_deepnote_index_column": 9
        }
       ]
      },
      "text/plain": "               Company   Sales   Stores  Sales/Avg. Store  Store Count Growth  \\\n0           Walmart US  658119   4574.0         65.649725            0.012843   \n1               Kroger  115037   3931.0         30.031850            0.053887   \n2               Costco   90048    495.0        187.795620            0.066810   \n3           Home Depot   83976   1965.0         42.735878            0.000000   \n4       Walgreen Boots   78924   8002.0          9.810927           -0.010511   \n5     CVS incl. Target   77792   9813.0          8.825959            0.255662   \n6               Amazon   71687      NaN               NaN                 NaN   \n7               Target   71208   1772.0         39.982033           -0.010056   \n8               Lowe's   60311   1828.0         33.311792            0.019520   \n9           Albertsons   56829   2326.0         23.877731           -0.044371   \n10          Sam's Club   56828    655.0         87.293395            0.012365   \n11  Apple incl. Online   37664      NaN               NaN                 NaN   \n12            Best Buy   34980   1389.0         24.685956           -0.038754   \n13              Publix   34408   1351.0         25.997733            0.042438   \n14            Rite Aid   27486   4553.0          6.025649           -0.003720   \n15               Ahold   26903    794.0         34.446863            0.033854   \n16              Macy's   26028    889.0         30.442105            0.082826   \n17                 TJX   25012   2770.0          9.369545            0.078241   \n18                Aldi   24402   2021.0         12.715998            0.112273   \n19      Dollar General   22234  13350.0          1.768885            0.132412   \n20         Dollar Tree   21464  14250.0          1.563919            0.079627   \n21                 HEB   21384    323.0         66.825000            0.018927   \n22              Kohl's   19060   1169.0         16.353496            0.006024   \n23            Delhaize   18201   1280.0         13.783415           -0.059515   \n24              Meijer   16592    231.0         74.738739            0.084507   \n\n                 Category  Sales/Avg. Store_2  \n0            Supercenters          143.882597  \n1                 Grocery           29.264055  \n2          Warehouse Club          181.915152  \n3        Home Improvement           42.735878  \n4             Drug Stores            9.863034  \n5             Drug Stores            7.927443  \n6   Electronic/Mail Order                 NaN  \n7            Supercenters           40.185102  \n8        Home Improvement           32.992888  \n9                 Grocery           24.432072  \n10        Warehouse Clubs           86.760305  \n11                    NaN                 NaN  \n12            Electronics           25.183585  \n13                Grocery           25.468542  \n14            Drug Stores            6.036899  \n15                Grocery           33.882872  \n16      Department Stores           29.277840  \n17                Apparel            9.029603  \n18                Grocery           12.074221  \n19          Dollar Stores            1.665468  \n20          Dollar Stores            1.506246  \n21                Grocery           66.204334  \n22      Department Stores           16.304534  \n23                Grocery           14.219531  \n24           Supercenters           71.826840  ",
      "text/html": "<div>\n<style scoped>\n    .dataframe tbody tr th:only-of-type {\n        vertical-align: middle;\n    }\n\n    .dataframe tbody tr th {\n        vertical-align: top;\n    }\n\n    .dataframe thead th {\n        text-align: right;\n    }\n</style>\n<table border=\"1\" class=\"dataframe\">\n  <thead>\n    <tr style=\"text-align: right;\">\n      <th></th>\n      <th>Company</th>\n      <th>Sales</th>\n      <th>Stores</th>\n      <th>Sales/Avg. Store</th>\n      <th>Store Count Growth</th>\n      <th>Category</th>\n      <th>Sales/Avg. Store_2</th>\n    </tr>\n  </thead>\n  <tbody>\n    <tr>\n      <th>0</th>\n      <td>Walmart US</td>\n      <td>658119</td>\n      <td>4574.0</td>\n      <td>65.649725</td>\n      <td>0.012843</td>\n      <td>Supercenters</td>\n      <td>143.882597</td>\n    </tr>\n    <tr>\n      <th>1</th>\n      <td>Kroger</td>\n      <td>115037</td>\n      <td>3931.0</td>\n      <td>30.031850</td>\n      <td>0.053887</td>\n      <td>Grocery</td>\n      <td>29.264055</td>\n    </tr>\n    <tr>\n      <th>2</th>\n      <td>Costco</td>\n      <td>90048</td>\n      <td>495.0</td>\n      <td>187.795620</td>\n      <td>0.066810</td>\n      <td>Warehouse Club</td>\n      <td>181.915152</td>\n    </tr>\n    <tr>\n      <th>3</th>\n      <td>Home Depot</td>\n      <td>83976</td>\n      <td>1965.0</td>\n      <td>42.735878</td>\n      <td>0.000000</td>\n      <td>Home Improvement</td>\n      <td>42.735878</td>\n    </tr>\n    <tr>\n      <th>4</th>\n      <td>Walgreen Boots</td>\n      <td>78924</td>\n      <td>8002.0</td>\n      <td>9.810927</td>\n      <td>-0.010511</td>\n      <td>Drug Stores</td>\n      <td>9.863034</td>\n    </tr>\n    <tr>\n      <th>5</th>\n      <td>CVS incl. Target</td>\n      <td>77792</td>\n      <td>9813.0</td>\n      <td>8.825959</td>\n      <td>0.255662</td>\n      <td>Drug Stores</td>\n      <td>7.927443</td>\n    </tr>\n    <tr>\n      <th>6</th>\n      <td>Amazon</td>\n      <td>71687</td>\n      <td>NaN</td>\n      <td>NaN</td>\n      <td>NaN</td>\n      <td>Electronic/Mail Order</td>\n      <td>NaN</td>\n    </tr>\n    <tr>\n      <th>7</th>\n      <td>Target</td>\n      <td>71208</td>\n      <td>1772.0</td>\n      <td>39.982033</td>\n      <td>-0.010056</td>\n      <td>Supercenters</td>\n      <td>40.185102</td>\n    </tr>\n    <tr>\n      <th>8</th>\n      <td>Lowe's</td>\n      <td>60311</td>\n      <td>1828.0</td>\n      <td>33.311792</td>\n      <td>0.019520</td>\n      <td>Home Improvement</td>\n      <td>32.992888</td>\n    </tr>\n    <tr>\n      <th>9</th>\n      <td>Albertsons</td>\n      <td>56829</td>\n      <td>2326.0</td>\n      <td>23.877731</td>\n      <td>-0.044371</td>\n      <td>Grocery</td>\n      <td>24.432072</td>\n    </tr>\n    <tr>\n      <th>10</th>\n      <td>Sam's Club</td>\n      <td>56828</td>\n      <td>655.0</td>\n      <td>87.293395</td>\n      <td>0.012365</td>\n      <td>Warehouse Clubs</td>\n      <td>86.760305</td>\n    </tr>\n    <tr>\n      <th>11</th>\n      <td>Apple incl. Online</td>\n      <td>37664</td>\n      <td>NaN</td>\n      <td>NaN</td>\n      <td>NaN</td>\n      <td>NaN</td>\n      <td>NaN</td>\n    </tr>\n    <tr>\n      <th>12</th>\n      <td>Best Buy</td>\n      <td>34980</td>\n      <td>1389.0</td>\n      <td>24.685956</td>\n      <td>-0.038754</td>\n      <td>Electronics</td>\n      <td>25.183585</td>\n    </tr>\n    <tr>\n      <th>13</th>\n      <td>Publix</td>\n      <td>34408</td>\n      <td>1351.0</td>\n      <td>25.997733</td>\n      <td>0.042438</td>\n      <td>Grocery</td>\n      <td>25.468542</td>\n    </tr>\n    <tr>\n      <th>14</th>\n      <td>Rite Aid</td>\n      <td>27486</td>\n      <td>4553.0</td>\n      <td>6.025649</td>\n      <td>-0.003720</td>\n      <td>Drug Stores</td>\n      <td>6.036899</td>\n    </tr>\n    <tr>\n      <th>15</th>\n      <td>Ahold</td>\n      <td>26903</td>\n      <td>794.0</td>\n      <td>34.446863</td>\n      <td>0.033854</td>\n      <td>Grocery</td>\n      <td>33.882872</td>\n    </tr>\n    <tr>\n      <th>16</th>\n      <td>Macy's</td>\n      <td>26028</td>\n      <td>889.0</td>\n      <td>30.442105</td>\n      <td>0.082826</td>\n      <td>Department Stores</td>\n      <td>29.277840</td>\n    </tr>\n    <tr>\n      <th>17</th>\n      <td>TJX</td>\n      <td>25012</td>\n      <td>2770.0</td>\n      <td>9.369545</td>\n      <td>0.078241</td>\n      <td>Apparel</td>\n      <td>9.029603</td>\n    </tr>\n    <tr>\n      <th>18</th>\n      <td>Aldi</td>\n      <td>24402</td>\n      <td>2021.0</td>\n      <td>12.715998</td>\n      <td>0.112273</td>\n      <td>Grocery</td>\n      <td>12.074221</td>\n    </tr>\n    <tr>\n      <th>19</th>\n      <td>Dollar General</td>\n      <td>22234</td>\n      <td>13350.0</td>\n      <td>1.768885</td>\n      <td>0.132412</td>\n      <td>Dollar Stores</td>\n      <td>1.665468</td>\n    </tr>\n    <tr>\n      <th>20</th>\n      <td>Dollar Tree</td>\n      <td>21464</td>\n      <td>14250.0</td>\n      <td>1.563919</td>\n      <td>0.079627</td>\n      <td>Dollar Stores</td>\n      <td>1.506246</td>\n    </tr>\n    <tr>\n      <th>21</th>\n      <td>HEB</td>\n      <td>21384</td>\n      <td>323.0</td>\n      <td>66.825000</td>\n      <td>0.018927</td>\n      <td>Grocery</td>\n      <td>66.204334</td>\n    </tr>\n    <tr>\n      <th>22</th>\n      <td>Kohl's</td>\n      <td>19060</td>\n      <td>1169.0</td>\n      <td>16.353496</td>\n      <td>0.006024</td>\n      <td>Department Stores</td>\n      <td>16.304534</td>\n    </tr>\n    <tr>\n      <th>23</th>\n      <td>Delhaize</td>\n      <td>18201</td>\n      <td>1280.0</td>\n      <td>13.783415</td>\n      <td>-0.059515</td>\n      <td>Grocery</td>\n      <td>14.219531</td>\n    </tr>\n    <tr>\n      <th>24</th>\n      <td>Meijer</td>\n      <td>16592</td>\n      <td>231.0</td>\n      <td>74.738739</td>\n      <td>0.084507</td>\n      <td>Supercenters</td>\n      <td>71.826840</td>\n    </tr>\n  </tbody>\n</table>\n</div>"
     },
     "metadata": {}
    }
   ]
  },
  {
   "cell_type": "markdown",
   "source": "Aquí arranco con una aclaración importante. Si bien 'Sales/Avg. Store' pretende mostrar el promedio de venta por tienda física, cuando uno recalcula este número (como realice en la columna calculada 'Sales/Avg. Store_2') nota que el calculo es, en principio equivocado. Por este motivo voy a basar mi respuesta en los valores de la columna calculada 'Sales/Avg. Store_2'",
   "metadata": {
    "cell_id": "65ece138-9337-4b38-9306-241cc17a53a3",
    "tags": [],
    "deepnote_cell_height": 97.1875,
    "deepnote_cell_type": "markdown"
   }
  },
  {
   "cell_type": "code",
   "metadata": {
    "cell_id": "3bfe32bb-c7d6-48ce-ab72-264da2cbb92f",
    "tags": [],
    "deepnote_to_be_reexecuted": false,
    "source_hash": "77baddfe",
    "execution_start": 1645122756478,
    "execution_millis": 63,
    "deepnote_cell_height": 632.796875,
    "deepnote_cell_type": "code"
   },
   "source": "df_sorted_by_sales_stores = df_sorted.sort_values('Sales/Avg. Store_2',ascending=False)\ndf_sorted_by_sales_stores",
   "execution_count": null,
   "outputs": [
    {
     "output_type": "execute_result",
     "execution_count": 36,
     "data": {
      "application/vnd.deepnote.dataframe.v3+json": {
       "column_count": 7,
       "row_count": 25,
       "columns": [
        {
         "name": "Company",
         "dtype": "object",
         "stats": {
          "unique_count": 25,
          "nan_count": 0,
          "categories": [
           {
            "name": "Costco",
            "count": 1
           },
           {
            "name": "Walmart US",
            "count": 1
           },
           {
            "name": "23 others",
            "count": 23
           }
          ]
         }
        },
        {
         "name": "Sales",
         "dtype": "int64",
         "stats": {
          "unique_count": 25,
          "nan_count": 0,
          "min": "16592",
          "max": "658119",
          "histogram": [
           {
            "bin_start": 16592,
            "bin_end": 80744.7,
            "count": 21
           },
           {
            "bin_start": 80744.7,
            "bin_end": 144897.4,
            "count": 3
           },
           {
            "bin_start": 144897.4,
            "bin_end": 209050.09999999998,
            "count": 0
           },
           {
            "bin_start": 209050.09999999998,
            "bin_end": 273202.8,
            "count": 0
           },
           {
            "bin_start": 273202.8,
            "bin_end": 337355.5,
            "count": 0
           },
           {
            "bin_start": 337355.5,
            "bin_end": 401508.19999999995,
            "count": 0
           },
           {
            "bin_start": 401508.19999999995,
            "bin_end": 465660.89999999997,
            "count": 0
           },
           {
            "bin_start": 465660.89999999997,
            "bin_end": 529813.6,
            "count": 0
           },
           {
            "bin_start": 529813.6,
            "bin_end": 593966.2999999999,
            "count": 0
           },
           {
            "bin_start": 593966.2999999999,
            "bin_end": 658119,
            "count": 1
           }
          ]
         }
        },
        {
         "name": "Stores",
         "dtype": "float64",
         "stats": {
          "unique_count": 23,
          "nan_count": 2,
          "min": "231.0",
          "max": "14250.0",
          "histogram": [
           {
            "bin_start": 231,
            "bin_end": 1632.9,
            "count": 10
           },
           {
            "bin_start": 1632.9,
            "bin_end": 3034.8,
            "count": 6
           },
           {
            "bin_start": 3034.8,
            "bin_end": 4436.700000000001,
            "count": 1
           },
           {
            "bin_start": 4436.700000000001,
            "bin_end": 5838.6,
            "count": 2
           },
           {
            "bin_start": 5838.6,
            "bin_end": 7240.5,
            "count": 0
           },
           {
            "bin_start": 7240.5,
            "bin_end": 8642.400000000001,
            "count": 1
           },
           {
            "bin_start": 8642.400000000001,
            "bin_end": 10044.300000000001,
            "count": 1
           },
           {
            "bin_start": 10044.300000000001,
            "bin_end": 11446.2,
            "count": 0
           },
           {
            "bin_start": 11446.2,
            "bin_end": 12848.1,
            "count": 0
           },
           {
            "bin_start": 12848.1,
            "bin_end": 14250,
            "count": 2
           }
          ]
         }
        },
        {
         "name": "Sales/Avg. Store",
         "dtype": "float64",
         "stats": {
          "unique_count": 23,
          "nan_count": 2,
          "min": "1.56391854",
          "max": "187.7956204",
          "histogram": [
           {
            "bin_start": 1.56391854,
            "bin_end": 20.187088726,
            "count": 9
           },
           {
            "bin_start": 20.187088726,
            "bin_end": 38.810258912,
            "count": 7
           },
           {
            "bin_start": 38.810258912,
            "bin_end": 57.433429098000005,
            "count": 2
           },
           {
            "bin_start": 57.433429098000005,
            "bin_end": 76.056599284,
            "count": 3
           },
           {
            "bin_start": 76.056599284,
            "bin_end": 94.67976947,
            "count": 1
           },
           {
            "bin_start": 94.67976947,
            "bin_end": 113.302939656,
            "count": 0
           },
           {
            "bin_start": 113.302939656,
            "bin_end": 131.926109842,
            "count": 0
           },
           {
            "bin_start": 131.926109842,
            "bin_end": 150.549280028,
            "count": 0
           },
           {
            "bin_start": 150.549280028,
            "bin_end": 169.172450214,
            "count": 0
           },
           {
            "bin_start": 169.172450214,
            "bin_end": 187.7956204,
            "count": 1
           }
          ]
         }
        },
        {
         "name": "Store Count Growth",
         "dtype": "float64",
         "stats": {
          "unique_count": 23,
          "nan_count": 2,
          "min": "-0.05951506245",
          "max": "0.2556621881",
          "histogram": [
           {
            "bin_start": -0.05951506245,
            "bin_end": -0.027997337395000002,
            "count": 3
           },
           {
            "bin_start": -0.027997337395000002,
            "bin_end": 0.003520387659999999,
            "count": 4
           },
           {
            "bin_start": 0.003520387659999999,
            "bin_end": 0.035038112715,
            "count": 6
           },
           {
            "bin_start": 0.035038112715,
            "bin_end": 0.06655583777,
            "count": 2
           },
           {
            "bin_start": 0.06655583777,
            "bin_end": 0.098073562825,
            "count": 5
           },
           {
            "bin_start": 0.098073562825,
            "bin_end": 0.12959128788000002,
            "count": 1
           },
           {
            "bin_start": 0.12959128788000002,
            "bin_end": 0.16110901293500002,
            "count": 1
           },
           {
            "bin_start": 0.16110901293500002,
            "bin_end": 0.19262673799000002,
            "count": 0
           },
           {
            "bin_start": 0.19262673799000002,
            "bin_end": 0.22414446304500002,
            "count": 0
           },
           {
            "bin_start": 0.22414446304500002,
            "bin_end": 0.2556621881,
            "count": 1
           }
          ]
         }
        },
        {
         "name": "Category",
         "dtype": "object",
         "stats": {
          "unique_count": 11,
          "nan_count": 1,
          "categories": [
           {
            "name": "Grocery",
            "count": 7
           },
           {
            "name": "10 others",
            "count": 17
           },
           {
            "name": "Missing",
            "count": 1
           }
          ]
         }
        },
        {
         "name": "Sales/Avg. Store_2",
         "dtype": "float64",
         "stats": {
          "unique_count": 23,
          "nan_count": 2,
          "min": "1.5062456140350877",
          "max": "181.9151515151515",
          "histogram": [
           {
            "bin_start": 1.5062456140350877,
            "bin_end": 19.547136204146728,
            "count": 9
           },
           {
            "bin_start": 19.547136204146728,
            "bin_end": 37.58802679425837,
            "count": 7
           },
           {
            "bin_start": 37.58802679425837,
            "bin_end": 55.628917384370006,
            "count": 2
           },
           {
            "bin_start": 55.628917384370006,
            "bin_end": 73.66980797448166,
            "count": 2
           },
           {
            "bin_start": 73.66980797448166,
            "bin_end": 91.7106985645933,
            "count": 1
           },
           {
            "bin_start": 91.7106985645933,
            "bin_end": 109.75158915470493,
            "count": 0
           },
           {
            "bin_start": 109.75158915470493,
            "bin_end": 127.79247974481657,
            "count": 0
           },
           {
            "bin_start": 127.79247974481657,
            "bin_end": 145.83337033492822,
            "count": 1
           },
           {
            "bin_start": 145.83337033492822,
            "bin_end": 163.87426092503986,
            "count": 0
           },
           {
            "bin_start": 163.87426092503986,
            "bin_end": 181.9151515151515,
            "count": 1
           }
          ]
         }
        },
        {
         "name": "_deepnote_index_column",
         "dtype": "int64"
        }
       ],
       "rows": [
        {
         "Company": "Costco",
         "Sales": 90048,
         "Stores": 495,
         "Sales/Avg. Store": 187.7956204,
         "Store Count Growth": 0.06681034483,
         "Category": "Warehouse Club",
         "Sales/Avg. Store_2": 181.9151515151515,
         "_deepnote_index_column": 2
        },
        {
         "Company": "Walmart US",
         "Sales": 658119,
         "Stores": 4574,
         "Sales/Avg. Store": 65.64972497,
         "Store Count Growth": 0.01284322409,
         "Category": "Supercenters",
         "Sales/Avg. Store_2": 143.88259728902491,
         "_deepnote_index_column": 0
        },
        {
         "Company": "Sam's Club",
         "Sales": 56828,
         "Stores": 655,
         "Sales/Avg. Store": 87.29339478,
         "Store Count Growth": 0.01236476043,
         "Category": "Warehouse Clubs",
         "Sales/Avg. Store_2": 86.76030534351145,
         "_deepnote_index_column": 10
        },
        {
         "Company": "Meijer",
         "Sales": 16592,
         "Stores": 231,
         "Sales/Avg. Store": 74.73873874,
         "Store Count Growth": 0.08450704225,
         "Category": "Supercenters",
         "Sales/Avg. Store_2": 71.82683982683983,
         "_deepnote_index_column": 24
        },
        {
         "Company": "HEB",
         "Sales": 21384,
         "Stores": 323,
         "Sales/Avg. Store": 66.825,
         "Store Count Growth": 0.01892744479,
         "Category": "Grocery",
         "Sales/Avg. Store_2": 66.20433436532508,
         "_deepnote_index_column": 21
        },
        {
         "Company": "Home Depot",
         "Sales": 83976,
         "Stores": 1965,
         "Sales/Avg. Store": 42.73587786,
         "Store Count Growth": 0,
         "Category": "Home Improvement",
         "Sales/Avg. Store_2": 42.73587786259542,
         "_deepnote_index_column": 3
        },
        {
         "Company": "Target",
         "Sales": 71208,
         "Stores": 1772,
         "Sales/Avg. Store": 39.98203257,
         "Store Count Growth": -0.01005586592,
         "Category": "Supercenters",
         "Sales/Avg. Store_2": 40.18510158013544,
         "_deepnote_index_column": 7
        },
        {
         "Company": "Ahold",
         "Sales": 26903,
         "Stores": 794,
         "Sales/Avg. Store": 34.446863,
         "Store Count Growth": 0.03385416667,
         "Category": "Grocery",
         "Sales/Avg. Store_2": 33.88287153652393,
         "_deepnote_index_column": 15
        },
        {
         "Company": "Lowe's",
         "Sales": 60311,
         "Stores": 1828,
         "Sales/Avg. Store": 33.31179232,
         "Store Count Growth": 0.01952035694,
         "Category": "Home Improvement",
         "Sales/Avg. Store_2": 32.99288840262582,
         "_deepnote_index_column": 8
        },
        {
         "Company": "Macy's",
         "Sales": 26028,
         "Stores": 889,
         "Sales/Avg. Store": 30.44210526,
         "Store Count Growth": 0.08282582217,
         "Category": "Department Stores",
         "Sales/Avg. Store_2": 29.277840269966255,
         "_deepnote_index_column": 16
        }
       ]
      },
      "text/plain": "               Company   Sales   Stores  Sales/Avg. Store  Store Count Growth  \\\n2               Costco   90048    495.0        187.795620            0.066810   \n0           Walmart US  658119   4574.0         65.649725            0.012843   \n10          Sam's Club   56828    655.0         87.293395            0.012365   \n24              Meijer   16592    231.0         74.738739            0.084507   \n21                 HEB   21384    323.0         66.825000            0.018927   \n3           Home Depot   83976   1965.0         42.735878            0.000000   \n7               Target   71208   1772.0         39.982033           -0.010056   \n15               Ahold   26903    794.0         34.446863            0.033854   \n8               Lowe's   60311   1828.0         33.311792            0.019520   \n16              Macy's   26028    889.0         30.442105            0.082826   \n1               Kroger  115037   3931.0         30.031850            0.053887   \n13              Publix   34408   1351.0         25.997733            0.042438   \n12            Best Buy   34980   1389.0         24.685956           -0.038754   \n9           Albertsons   56829   2326.0         23.877731           -0.044371   \n22              Kohl's   19060   1169.0         16.353496            0.006024   \n23            Delhaize   18201   1280.0         13.783415           -0.059515   \n18                Aldi   24402   2021.0         12.715998            0.112273   \n4       Walgreen Boots   78924   8002.0          9.810927           -0.010511   \n17                 TJX   25012   2770.0          9.369545            0.078241   \n5     CVS incl. Target   77792   9813.0          8.825959            0.255662   \n14            Rite Aid   27486   4553.0          6.025649           -0.003720   \n19      Dollar General   22234  13350.0          1.768885            0.132412   \n20         Dollar Tree   21464  14250.0          1.563919            0.079627   \n6               Amazon   71687      NaN               NaN                 NaN   \n11  Apple incl. Online   37664      NaN               NaN                 NaN   \n\n                 Category  Sales/Avg. Store_2  \n2          Warehouse Club          181.915152  \n0            Supercenters          143.882597  \n10        Warehouse Clubs           86.760305  \n24           Supercenters           71.826840  \n21                Grocery           66.204334  \n3        Home Improvement           42.735878  \n7            Supercenters           40.185102  \n15                Grocery           33.882872  \n8        Home Improvement           32.992888  \n16      Department Stores           29.277840  \n1                 Grocery           29.264055  \n13                Grocery           25.468542  \n12            Electronics           25.183585  \n9                 Grocery           24.432072  \n22      Department Stores           16.304534  \n23                Grocery           14.219531  \n18                Grocery           12.074221  \n4             Drug Stores            9.863034  \n17                Apparel            9.029603  \n5             Drug Stores            7.927443  \n14            Drug Stores            6.036899  \n19          Dollar Stores            1.665468  \n20          Dollar Stores            1.506246  \n6   Electronic/Mail Order                 NaN  \n11                    NaN                 NaN  ",
      "text/html": "<div>\n<style scoped>\n    .dataframe tbody tr th:only-of-type {\n        vertical-align: middle;\n    }\n\n    .dataframe tbody tr th {\n        vertical-align: top;\n    }\n\n    .dataframe thead th {\n        text-align: right;\n    }\n</style>\n<table border=\"1\" class=\"dataframe\">\n  <thead>\n    <tr style=\"text-align: right;\">\n      <th></th>\n      <th>Company</th>\n      <th>Sales</th>\n      <th>Stores</th>\n      <th>Sales/Avg. Store</th>\n      <th>Store Count Growth</th>\n      <th>Category</th>\n      <th>Sales/Avg. Store_2</th>\n    </tr>\n  </thead>\n  <tbody>\n    <tr>\n      <th>2</th>\n      <td>Costco</td>\n      <td>90048</td>\n      <td>495.0</td>\n      <td>187.795620</td>\n      <td>0.066810</td>\n      <td>Warehouse Club</td>\n      <td>181.915152</td>\n    </tr>\n    <tr>\n      <th>0</th>\n      <td>Walmart US</td>\n      <td>658119</td>\n      <td>4574.0</td>\n      <td>65.649725</td>\n      <td>0.012843</td>\n      <td>Supercenters</td>\n      <td>143.882597</td>\n    </tr>\n    <tr>\n      <th>10</th>\n      <td>Sam's Club</td>\n      <td>56828</td>\n      <td>655.0</td>\n      <td>87.293395</td>\n      <td>0.012365</td>\n      <td>Warehouse Clubs</td>\n      <td>86.760305</td>\n    </tr>\n    <tr>\n      <th>24</th>\n      <td>Meijer</td>\n      <td>16592</td>\n      <td>231.0</td>\n      <td>74.738739</td>\n      <td>0.084507</td>\n      <td>Supercenters</td>\n      <td>71.826840</td>\n    </tr>\n    <tr>\n      <th>21</th>\n      <td>HEB</td>\n      <td>21384</td>\n      <td>323.0</td>\n      <td>66.825000</td>\n      <td>0.018927</td>\n      <td>Grocery</td>\n      <td>66.204334</td>\n    </tr>\n    <tr>\n      <th>3</th>\n      <td>Home Depot</td>\n      <td>83976</td>\n      <td>1965.0</td>\n      <td>42.735878</td>\n      <td>0.000000</td>\n      <td>Home Improvement</td>\n      <td>42.735878</td>\n    </tr>\n    <tr>\n      <th>7</th>\n      <td>Target</td>\n      <td>71208</td>\n      <td>1772.0</td>\n      <td>39.982033</td>\n      <td>-0.010056</td>\n      <td>Supercenters</td>\n      <td>40.185102</td>\n    </tr>\n    <tr>\n      <th>15</th>\n      <td>Ahold</td>\n      <td>26903</td>\n      <td>794.0</td>\n      <td>34.446863</td>\n      <td>0.033854</td>\n      <td>Grocery</td>\n      <td>33.882872</td>\n    </tr>\n    <tr>\n      <th>8</th>\n      <td>Lowe's</td>\n      <td>60311</td>\n      <td>1828.0</td>\n      <td>33.311792</td>\n      <td>0.019520</td>\n      <td>Home Improvement</td>\n      <td>32.992888</td>\n    </tr>\n    <tr>\n      <th>16</th>\n      <td>Macy's</td>\n      <td>26028</td>\n      <td>889.0</td>\n      <td>30.442105</td>\n      <td>0.082826</td>\n      <td>Department Stores</td>\n      <td>29.277840</td>\n    </tr>\n    <tr>\n      <th>1</th>\n      <td>Kroger</td>\n      <td>115037</td>\n      <td>3931.0</td>\n      <td>30.031850</td>\n      <td>0.053887</td>\n      <td>Grocery</td>\n      <td>29.264055</td>\n    </tr>\n    <tr>\n      <th>13</th>\n      <td>Publix</td>\n      <td>34408</td>\n      <td>1351.0</td>\n      <td>25.997733</td>\n      <td>0.042438</td>\n      <td>Grocery</td>\n      <td>25.468542</td>\n    </tr>\n    <tr>\n      <th>12</th>\n      <td>Best Buy</td>\n      <td>34980</td>\n      <td>1389.0</td>\n      <td>24.685956</td>\n      <td>-0.038754</td>\n      <td>Electronics</td>\n      <td>25.183585</td>\n    </tr>\n    <tr>\n      <th>9</th>\n      <td>Albertsons</td>\n      <td>56829</td>\n      <td>2326.0</td>\n      <td>23.877731</td>\n      <td>-0.044371</td>\n      <td>Grocery</td>\n      <td>24.432072</td>\n    </tr>\n    <tr>\n      <th>22</th>\n      <td>Kohl's</td>\n      <td>19060</td>\n      <td>1169.0</td>\n      <td>16.353496</td>\n      <td>0.006024</td>\n      <td>Department Stores</td>\n      <td>16.304534</td>\n    </tr>\n    <tr>\n      <th>23</th>\n      <td>Delhaize</td>\n      <td>18201</td>\n      <td>1280.0</td>\n      <td>13.783415</td>\n      <td>-0.059515</td>\n      <td>Grocery</td>\n      <td>14.219531</td>\n    </tr>\n    <tr>\n      <th>18</th>\n      <td>Aldi</td>\n      <td>24402</td>\n      <td>2021.0</td>\n      <td>12.715998</td>\n      <td>0.112273</td>\n      <td>Grocery</td>\n      <td>12.074221</td>\n    </tr>\n    <tr>\n      <th>4</th>\n      <td>Walgreen Boots</td>\n      <td>78924</td>\n      <td>8002.0</td>\n      <td>9.810927</td>\n      <td>-0.010511</td>\n      <td>Drug Stores</td>\n      <td>9.863034</td>\n    </tr>\n    <tr>\n      <th>17</th>\n      <td>TJX</td>\n      <td>25012</td>\n      <td>2770.0</td>\n      <td>9.369545</td>\n      <td>0.078241</td>\n      <td>Apparel</td>\n      <td>9.029603</td>\n    </tr>\n    <tr>\n      <th>5</th>\n      <td>CVS incl. Target</td>\n      <td>77792</td>\n      <td>9813.0</td>\n      <td>8.825959</td>\n      <td>0.255662</td>\n      <td>Drug Stores</td>\n      <td>7.927443</td>\n    </tr>\n    <tr>\n      <th>14</th>\n      <td>Rite Aid</td>\n      <td>27486</td>\n      <td>4553.0</td>\n      <td>6.025649</td>\n      <td>-0.003720</td>\n      <td>Drug Stores</td>\n      <td>6.036899</td>\n    </tr>\n    <tr>\n      <th>19</th>\n      <td>Dollar General</td>\n      <td>22234</td>\n      <td>13350.0</td>\n      <td>1.768885</td>\n      <td>0.132412</td>\n      <td>Dollar Stores</td>\n      <td>1.665468</td>\n    </tr>\n    <tr>\n      <th>20</th>\n      <td>Dollar Tree</td>\n      <td>21464</td>\n      <td>14250.0</td>\n      <td>1.563919</td>\n      <td>0.079627</td>\n      <td>Dollar Stores</td>\n      <td>1.506246</td>\n    </tr>\n    <tr>\n      <th>6</th>\n      <td>Amazon</td>\n      <td>71687</td>\n      <td>NaN</td>\n      <td>NaN</td>\n      <td>NaN</td>\n      <td>Electronic/Mail Order</td>\n      <td>NaN</td>\n    </tr>\n    <tr>\n      <th>11</th>\n      <td>Apple incl. Online</td>\n      <td>37664</td>\n      <td>NaN</td>\n      <td>NaN</td>\n      <td>NaN</td>\n      <td>NaN</td>\n      <td>NaN</td>\n    </tr>\n  </tbody>\n</table>\n</div>"
     },
     "metadata": {}
    }
   ]
  },
  {
   "cell_type": "code",
   "metadata": {
    "cell_id": "1babd75c-11f7-460d-bce0-43499bbaf8ce",
    "tags": [],
    "deepnote_to_be_reexecuted": false,
    "source_hash": "72d6064f",
    "execution_start": 1645122760709,
    "execution_millis": 666,
    "deepnote_output_heights": [
     21.1875,
     466
    ],
    "deepnote_cell_height": 651.1875,
    "deepnote_cell_type": "code"
   },
   "source": "chart3 = sns.barplot(data = df_sorted_by_sales_stores, x = 'Company', y = 'Sales/Avg. Store_2')\nchart3.set_xticklabels(chart3.get_xticklabels(),rotation = 90)\nchart3",
   "execution_count": null,
   "outputs": [
    {
     "output_type": "execute_result",
     "execution_count": 37,
     "data": {
      "text/plain": "<AxesSubplot:xlabel='Company', ylabel='Sales/Avg. Store_2'>"
     },
     "metadata": {}
    },
    {
     "data": {
      "text/plain": "<Figure size 864x432 with 1 Axes>",
      "image/png": "[encoded data removed]"
     },
     "metadata": {
      "image/png": {
       "width": 731,
       "height": 464
      }
     },
     "output_type": "display_data"
    }
   ]
  },
  {
   "cell_type": "markdown",
   "source": "La compañia que en relación con su cantidad de tiendas obtiene mas ventas es Costco con un promedio de 181.91 millones de dolares anuales por tienda física. ",
   "metadata": {
    "cell_id": "4a7a2b4c-e1d3-47b8-9e73-125b55e71afa",
    "tags": [],
    "deepnote_cell_height": 74.796875,
    "deepnote_cell_type": "markdown"
   }
  },
  {
   "cell_type": "markdown",
   "source": "### 9. ¿Cuáles compañías venden de forma exclusivamente online? ¿Sus ventas destacan sobre las que también tienen tiendas físicas?",
   "metadata": {
    "cell_id": "e9a00ffe-de8a-41f0-98e7-67b905d0d14f",
    "tags": [],
    "deepnote_cell_height": 94,
    "deepnote_cell_type": "markdown"
   }
  },
  {
   "cell_type": "markdown",
   "source": "Dentro del dataset con el que trabaje no cuento con la información sobre cuales de los 25 retailers mas grandes de USA venden de forma exclusivamente online. Por lo que tuve que investigarlo de forma particular en internet y sumar este dato al dataset.",
   "metadata": {
    "cell_id": "471fd32f-a8b6-4226-a8ce-7e7fab52c2e9",
    "tags": [],
    "deepnote_cell_height": 74.796875,
    "deepnote_cell_type": "markdown"
   }
  },
  {
   "cell_type": "code",
   "metadata": {
    "cell_id": "a52d1a9d-9889-4be2-86e4-ea66ebf23156",
    "tags": [],
    "deepnote_to_be_reexecuted": false,
    "source_hash": "8eb011bd",
    "execution_start": 1645122777260,
    "execution_millis": 62,
    "deepnote_table_state": {
     "pageSize": 10,
     "pageIndex": 1,
     "filters": [],
     "sortBy": []
    },
    "deepnote_table_loading": false,
    "deepnote_cell_height": 1118.796875,
    "deepnote_cell_type": "code"
   },
   "source": "my_dict = {\n    \"Walmart US\":\"No\",\n    \"Kroger\":\"Yes\",\n    \"Costco\":\"No\",\n    \"Home Depot\":\"No\",\n    \"Walgreen Boots\":\"No\",\n    \"CVS incl. Target\":\"No\",\n    \"Amazon\":\"Yes\",\n    \"Target\":\"No\",\n    \"Lowe's\":\"No\",\n    \"Albertsons\":\"No\",\n    \"Sam's Club\":\"No\",\n    \"Apple incl. Online\":\"Yes\",\n    \"Best Buy\":\"Yes\",\n    \"Publix\":\"No\",\n    \"Rite Aid\":\"No\",\n    \"Ahold\":\"Yes\",\n    \"Macy's\":\"No\",\n    \"TJX\":\"Yes\",\n    \"Aldi\":\"No\",\n    \"Dollar General\":\"No\",\n    \"Dollar Tree\":\"No\",\n    \"HEB\":\"No\",\n    \"Kohl's\":\"No\",\n    \"Delhaize\":\"No\",\n    \"Meijer\":\"No\"\n}\ndf_sorted_by_sales_stores['Only online'] = df_sorted_by_sales_stores['Company'].map(my_dict)\ndf_sorted_by_sales_stores",
   "execution_count": null,
   "outputs": [
    {
     "output_type": "execute_result",
     "execution_count": 38,
     "data": {
      "application/vnd.deepnote.dataframe.v3+json": {
       "column_count": 8,
       "row_count": 25,
       "columns": [
        {
         "name": "Company",
         "dtype": "object",
         "stats": {
          "unique_count": 25,
          "nan_count": 0,
          "categories": [
           {
            "name": "Costco",
            "count": 1
           },
           {
            "name": "Walmart US",
            "count": 1
           },
           {
            "name": "23 others",
            "count": 23
           }
          ]
         }
        },
        {
         "name": "Sales",
         "dtype": "int64",
         "stats": {
          "unique_count": 25,
          "nan_count": 0,
          "min": "16592",
          "max": "658119",
          "histogram": [
           {
            "bin_start": 16592,
            "bin_end": 80744.7,
            "count": 21
           },
           {
            "bin_start": 80744.7,
            "bin_end": 144897.4,
            "count": 3
           },
           {
            "bin_start": 144897.4,
            "bin_end": 209050.09999999998,
            "count": 0
           },
           {
            "bin_start": 209050.09999999998,
            "bin_end": 273202.8,
            "count": 0
           },
           {
            "bin_start": 273202.8,
            "bin_end": 337355.5,
            "count": 0
           },
           {
            "bin_start": 337355.5,
            "bin_end": 401508.19999999995,
            "count": 0
           },
           {
            "bin_start": 401508.19999999995,
            "bin_end": 465660.89999999997,
            "count": 0
           },
           {
            "bin_start": 465660.89999999997,
            "bin_end": 529813.6,
            "count": 0
           },
           {
            "bin_start": 529813.6,
            "bin_end": 593966.2999999999,
            "count": 0
           },
           {
            "bin_start": 593966.2999999999,
            "bin_end": 658119,
            "count": 1
           }
          ]
         }
        },
        {
         "name": "Stores",
         "dtype": "float64",
         "stats": {
          "unique_count": 23,
          "nan_count": 2,
          "min": "231.0",
          "max": "14250.0",
          "histogram": [
           {
            "bin_start": 231,
            "bin_end": 1632.9,
            "count": 10
           },
           {
            "bin_start": 1632.9,
            "bin_end": 3034.8,
            "count": 6
           },
           {
            "bin_start": 3034.8,
            "bin_end": 4436.700000000001,
            "count": 1
           },
           {
            "bin_start": 4436.700000000001,
            "bin_end": 5838.6,
            "count": 2
           },
           {
            "bin_start": 5838.6,
            "bin_end": 7240.5,
            "count": 0
           },
           {
            "bin_start": 7240.5,
            "bin_end": 8642.400000000001,
            "count": 1
           },
           {
            "bin_start": 8642.400000000001,
            "bin_end": 10044.300000000001,
            "count": 1
           },
           {
            "bin_start": 10044.300000000001,
            "bin_end": 11446.2,
            "count": 0
           },
           {
            "bin_start": 11446.2,
            "bin_end": 12848.1,
            "count": 0
           },
           {
            "bin_start": 12848.1,
            "bin_end": 14250,
            "count": 2
           }
          ]
         }
        },
        {
         "name": "Sales/Avg. Store",
         "dtype": "float64",
         "stats": {
          "unique_count": 23,
          "nan_count": 2,
          "min": "1.56391854",
          "max": "187.7956204",
          "histogram": [
           {
            "bin_start": 1.56391854,
            "bin_end": 20.187088726,
            "count": 9
           },
           {
            "bin_start": 20.187088726,
            "bin_end": 38.810258912,
            "count": 7
           },
           {
            "bin_start": 38.810258912,
            "bin_end": 57.433429098000005,
            "count": 2
           },
           {
            "bin_start": 57.433429098000005,
            "bin_end": 76.056599284,
            "count": 3
           },
           {
            "bin_start": 76.056599284,
            "bin_end": 94.67976947,
            "count": 1
           },
           {
            "bin_start": 94.67976947,
            "bin_end": 113.302939656,
            "count": 0
           },
           {
            "bin_start": 113.302939656,
            "bin_end": 131.926109842,
            "count": 0
           },
           {
            "bin_start": 131.926109842,
            "bin_end": 150.549280028,
            "count": 0
           },
           {
            "bin_start": 150.549280028,
            "bin_end": 169.172450214,
            "count": 0
           },
           {
            "bin_start": 169.172450214,
            "bin_end": 187.7956204,
            "count": 1
           }
          ]
         }
        },
        {
         "name": "Store Count Growth",
         "dtype": "float64",
         "stats": {
          "unique_count": 23,
          "nan_count": 2,
          "min": "-0.05951506245",
          "max": "0.2556621881",
          "histogram": [
           {
            "bin_start": -0.05951506245,
            "bin_end": -0.027997337395000002,
            "count": 3
           },
           {
            "bin_start": -0.027997337395000002,
            "bin_end": 0.003520387659999999,
            "count": 4
           },
           {
            "bin_start": 0.003520387659999999,
            "bin_end": 0.035038112715,
            "count": 6
           },
           {
            "bin_start": 0.035038112715,
            "bin_end": 0.06655583777,
            "count": 2
           },
           {
            "bin_start": 0.06655583777,
            "bin_end": 0.098073562825,
            "count": 5
           },
           {
            "bin_start": 0.098073562825,
            "bin_end": 0.12959128788000002,
            "count": 1
           },
           {
            "bin_start": 0.12959128788000002,
            "bin_end": 0.16110901293500002,
            "count": 1
           },
           {
            "bin_start": 0.16110901293500002,
            "bin_end": 0.19262673799000002,
            "count": 0
           },
           {
            "bin_start": 0.19262673799000002,
            "bin_end": 0.22414446304500002,
            "count": 0
           },
           {
            "bin_start": 0.22414446304500002,
            "bin_end": 0.2556621881,
            "count": 1
           }
          ]
         }
        },
        {
         "name": "Category",
         "dtype": "object",
         "stats": {
          "unique_count": 11,
          "nan_count": 1,
          "categories": [
           {
            "name": "Grocery",
            "count": 7
           },
           {
            "name": "10 others",
            "count": 17
           },
           {
            "name": "Missing",
            "count": 1
           }
          ]
         }
        },
        {
         "name": "Sales/Avg. Store_2",
         "dtype": "float64",
         "stats": {
          "unique_count": 23,
          "nan_count": 2,
          "min": "1.5062456140350877",
          "max": "181.9151515151515",
          "histogram": [
           {
            "bin_start": 1.5062456140350877,
            "bin_end": 19.547136204146728,
            "count": 9
           },
           {
            "bin_start": 19.547136204146728,
            "bin_end": 37.58802679425837,
            "count": 7
           },
           {
            "bin_start": 37.58802679425837,
            "bin_end": 55.628917384370006,
            "count": 2
           },
           {
            "bin_start": 55.628917384370006,
            "bin_end": 73.66980797448166,
            "count": 2
           },
           {
            "bin_start": 73.66980797448166,
            "bin_end": 91.7106985645933,
            "count": 1
           },
           {
            "bin_start": 91.7106985645933,
            "bin_end": 109.75158915470493,
            "count": 0
           },
           {
            "bin_start": 109.75158915470493,
            "bin_end": 127.79247974481657,
            "count": 0
           },
           {
            "bin_start": 127.79247974481657,
            "bin_end": 145.83337033492822,
            "count": 1
           },
           {
            "bin_start": 145.83337033492822,
            "bin_end": 163.87426092503986,
            "count": 0
           },
           {
            "bin_start": 163.87426092503986,
            "bin_end": 181.9151515151515,
            "count": 1
           }
          ]
         }
        },
        {
         "name": "Only online",
         "dtype": "object",
         "stats": {
          "unique_count": 2,
          "nan_count": 0,
          "categories": [
           {
            "name": "No",
            "count": 19
           },
           {
            "name": "Yes",
            "count": 6
           }
          ]
         }
        },
        {
         "name": "_deepnote_index_column",
         "dtype": "int64"
        }
       ],
       "rows": [
        {
         "Company": "Kroger",
         "Sales": 115037,
         "Stores": 3931,
         "Sales/Avg. Store": 30.03184963,
         "Store Count Growth": 0.05388739946,
         "Category": "Grocery",
         "Sales/Avg. Store_2": 29.26405494785042,
         "Only online": "Yes",
         "_deepnote_index_column": 1
        },
        {
         "Company": "Publix",
         "Sales": 34408,
         "Stores": 1351,
         "Sales/Avg. Store": 25.99773328,
         "Store Count Growth": 0.0424382716,
         "Category": "Grocery",
         "Sales/Avg. Store_2": 25.468541820873426,
         "Only online": "No",
         "_deepnote_index_column": 13
        },
        {
         "Company": "Best Buy",
         "Sales": 34980,
         "Stores": 1389,
         "Sales/Avg. Store": 24.68595625,
         "Store Count Growth": -0.03875432526,
         "Category": "Electronics",
         "Sales/Avg. Store_2": 25.183585313174945,
         "Only online": "Yes",
         "_deepnote_index_column": 12
        },
        {
         "Company": "Albertsons",
         "Sales": 56829,
         "Stores": 2326,
         "Sales/Avg. Store": 23.87773109,
         "Store Count Growth": -0.04437140509,
         "Category": "Grocery",
         "Sales/Avg. Store_2": 24.43207222699914,
         "Only online": "No",
         "_deepnote_index_column": 9
        },
        {
         "Company": "Kohl's",
         "Sales": 19060,
         "Stores": 1169,
         "Sales/Avg. Store": 16.35349635,
         "Store Count Growth": 0.006024096386,
         "Category": "Department Stores",
         "Sales/Avg. Store_2": 16.30453378956373,
         "Only online": "No",
         "_deepnote_index_column": 22
        },
        {
         "Company": "Delhaize",
         "Sales": 18201,
         "Stores": 1280,
         "Sales/Avg. Store": 13.78341537,
         "Store Count Growth": -0.05951506245,
         "Category": "Grocery",
         "Sales/Avg. Store_2": 14.21953125,
         "Only online": "No",
         "_deepnote_index_column": 23
        },
        {
         "Company": "Aldi",
         "Sales": 24402,
         "Stores": 2021,
         "Sales/Avg. Store": 12.71599792,
         "Store Count Growth": 0.1122729774,
         "Category": "Grocery",
         "Sales/Avg. Store_2": 12.074220682830282,
         "Only online": "No",
         "_deepnote_index_column": 18
        },
        {
         "Company": "Walgreen Boots",
         "Sales": 78924,
         "Stores": 8002,
         "Sales/Avg. Store": 9.81092672,
         "Store Count Growth": -0.01051069618,
         "Category": "Drug Stores",
         "Sales/Avg. Store_2": 9.86303424143964,
         "Only online": "No",
         "_deepnote_index_column": 4
        },
        {
         "Company": "TJX",
         "Sales": 25012,
         "Stores": 2770,
         "Sales/Avg. Store": 9.369544859,
         "Store Count Growth": 0.07824056053,
         "Category": "Apparel",
         "Sales/Avg. Store_2": 9.029602888086643,
         "Only online": "Yes",
         "_deepnote_index_column": 17
        },
        {
         "Company": "CVS incl. Target",
         "Sales": 77792,
         "Stores": 9813,
         "Sales/Avg. Store": 8.825958702,
         "Store Count Growth": 0.2556621881,
         "Category": "Drug Stores",
         "Sales/Avg. Store_2": 7.927443187608275,
         "Only online": "No",
         "_deepnote_index_column": 5
        }
       ]
      },
      "text/plain": "               Company   Sales   Stores  Sales/Avg. Store  Store Count Growth  \\\n2               Costco   90048    495.0        187.795620            0.066810   \n0           Walmart US  658119   4574.0         65.649725            0.012843   \n10          Sam's Club   56828    655.0         87.293395            0.012365   \n24              Meijer   16592    231.0         74.738739            0.084507   \n21                 HEB   21384    323.0         66.825000            0.018927   \n3           Home Depot   83976   1965.0         42.735878            0.000000   \n7               Target   71208   1772.0         39.982033           -0.010056   \n15               Ahold   26903    794.0         34.446863            0.033854   \n8               Lowe's   60311   1828.0         33.311792            0.019520   \n16              Macy's   26028    889.0         30.442105            0.082826   \n1               Kroger  115037   3931.0         30.031850            0.053887   \n13              Publix   34408   1351.0         25.997733            0.042438   \n12            Best Buy   34980   1389.0         24.685956           -0.038754   \n9           Albertsons   56829   2326.0         23.877731           -0.044371   \n22              Kohl's   19060   1169.0         16.353496            0.006024   \n23            Delhaize   18201   1280.0         13.783415           -0.059515   \n18                Aldi   24402   2021.0         12.715998            0.112273   \n4       Walgreen Boots   78924   8002.0          9.810927           -0.010511   \n17                 TJX   25012   2770.0          9.369545            0.078241   \n5     CVS incl. Target   77792   9813.0          8.825959            0.255662   \n14            Rite Aid   27486   4553.0          6.025649           -0.003720   \n19      Dollar General   22234  13350.0          1.768885            0.132412   \n20         Dollar Tree   21464  14250.0          1.563919            0.079627   \n6               Amazon   71687      NaN               NaN                 NaN   \n11  Apple incl. Online   37664      NaN               NaN                 NaN   \n\n                 Category  Sales/Avg. Store_2 Only online  \n2          Warehouse Club          181.915152          No  \n0            Supercenters          143.882597          No  \n10        Warehouse Clubs           86.760305          No  \n24           Supercenters           71.826840          No  \n21                Grocery           66.204334          No  \n3        Home Improvement           42.735878          No  \n7            Supercenters           40.185102          No  \n15                Grocery           33.882872         Yes  \n8        Home Improvement           32.992888          No  \n16      Department Stores           29.277840          No  \n1                 Grocery           29.264055         Yes  \n13                Grocery           25.468542          No  \n12            Electronics           25.183585         Yes  \n9                 Grocery           24.432072          No  \n22      Department Stores           16.304534          No  \n23                Grocery           14.219531          No  \n18                Grocery           12.074221          No  \n4             Drug Stores            9.863034          No  \n17                Apparel            9.029603         Yes  \n5             Drug Stores            7.927443          No  \n14            Drug Stores            6.036899          No  \n19          Dollar Stores            1.665468          No  \n20          Dollar Stores            1.506246          No  \n6   Electronic/Mail Order                 NaN         Yes  \n11                    NaN                 NaN         Yes  ",
      "text/html": "<div>\n<style scoped>\n    .dataframe tbody tr th:only-of-type {\n        vertical-align: middle;\n    }\n\n    .dataframe tbody tr th {\n        vertical-align: top;\n    }\n\n    .dataframe thead th {\n        text-align: right;\n    }\n</style>\n<table border=\"1\" class=\"dataframe\">\n  <thead>\n    <tr style=\"text-align: right;\">\n      <th></th>\n      <th>Company</th>\n      <th>Sales</th>\n      <th>Stores</th>\n      <th>Sales/Avg. Store</th>\n      <th>Store Count Growth</th>\n      <th>Category</th>\n      <th>Sales/Avg. Store_2</th>\n      <th>Only online</th>\n    </tr>\n  </thead>\n  <tbody>\n    <tr>\n      <th>2</th>\n      <td>Costco</td>\n      <td>90048</td>\n      <td>495.0</td>\n      <td>187.795620</td>\n      <td>0.066810</td>\n      <td>Warehouse Club</td>\n      <td>181.915152</td>\n      <td>No</td>\n    </tr>\n    <tr>\n      <th>0</th>\n      <td>Walmart US</td>\n      <td>658119</td>\n      <td>4574.0</td>\n      <td>65.649725</td>\n      <td>0.012843</td>\n      <td>Supercenters</td>\n      <td>143.882597</td>\n      <td>No</td>\n    </tr>\n    <tr>\n      <th>10</th>\n      <td>Sam's Club</td>\n      <td>56828</td>\n      <td>655.0</td>\n      <td>87.293395</td>\n      <td>0.012365</td>\n      <td>Warehouse Clubs</td>\n      <td>86.760305</td>\n      <td>No</td>\n    </tr>\n    <tr>\n      <th>24</th>\n      <td>Meijer</td>\n      <td>16592</td>\n      <td>231.0</td>\n      <td>74.738739</td>\n      <td>0.084507</td>\n      <td>Supercenters</td>\n      <td>71.826840</td>\n      <td>No</td>\n    </tr>\n    <tr>\n      <th>21</th>\n      <td>HEB</td>\n      <td>21384</td>\n      <td>323.0</td>\n      <td>66.825000</td>\n      <td>0.018927</td>\n      <td>Grocery</td>\n      <td>66.204334</td>\n      <td>No</td>\n    </tr>\n    <tr>\n      <th>3</th>\n      <td>Home Depot</td>\n      <td>83976</td>\n      <td>1965.0</td>\n      <td>42.735878</td>\n      <td>0.000000</td>\n      <td>Home Improvement</td>\n      <td>42.735878</td>\n      <td>No</td>\n    </tr>\n    <tr>\n      <th>7</th>\n      <td>Target</td>\n      <td>71208</td>\n      <td>1772.0</td>\n      <td>39.982033</td>\n      <td>-0.010056</td>\n      <td>Supercenters</td>\n      <td>40.185102</td>\n      <td>No</td>\n    </tr>\n    <tr>\n      <th>15</th>\n      <td>Ahold</td>\n      <td>26903</td>\n      <td>794.0</td>\n      <td>34.446863</td>\n      <td>0.033854</td>\n      <td>Grocery</td>\n      <td>33.882872</td>\n      <td>Yes</td>\n    </tr>\n    <tr>\n      <th>8</th>\n      <td>Lowe's</td>\n      <td>60311</td>\n      <td>1828.0</td>\n      <td>33.311792</td>\n      <td>0.019520</td>\n      <td>Home Improvement</td>\n      <td>32.992888</td>\n      <td>No</td>\n    </tr>\n    <tr>\n      <th>16</th>\n      <td>Macy's</td>\n      <td>26028</td>\n      <td>889.0</td>\n      <td>30.442105</td>\n      <td>0.082826</td>\n      <td>Department Stores</td>\n      <td>29.277840</td>\n      <td>No</td>\n    </tr>\n    <tr>\n      <th>1</th>\n      <td>Kroger</td>\n      <td>115037</td>\n      <td>3931.0</td>\n      <td>30.031850</td>\n      <td>0.053887</td>\n      <td>Grocery</td>\n      <td>29.264055</td>\n      <td>Yes</td>\n    </tr>\n    <tr>\n      <th>13</th>\n      <td>Publix</td>\n      <td>34408</td>\n      <td>1351.0</td>\n      <td>25.997733</td>\n      <td>0.042438</td>\n      <td>Grocery</td>\n      <td>25.468542</td>\n      <td>No</td>\n    </tr>\n    <tr>\n      <th>12</th>\n      <td>Best Buy</td>\n      <td>34980</td>\n      <td>1389.0</td>\n      <td>24.685956</td>\n      <td>-0.038754</td>\n      <td>Electronics</td>\n      <td>25.183585</td>\n      <td>Yes</td>\n    </tr>\n    <tr>\n      <th>9</th>\n      <td>Albertsons</td>\n      <td>56829</td>\n      <td>2326.0</td>\n      <td>23.877731</td>\n      <td>-0.044371</td>\n      <td>Grocery</td>\n      <td>24.432072</td>\n      <td>No</td>\n    </tr>\n    <tr>\n      <th>22</th>\n      <td>Kohl's</td>\n      <td>19060</td>\n      <td>1169.0</td>\n      <td>16.353496</td>\n      <td>0.006024</td>\n      <td>Department Stores</td>\n      <td>16.304534</td>\n      <td>No</td>\n    </tr>\n    <tr>\n      <th>23</th>\n      <td>Delhaize</td>\n      <td>18201</td>\n      <td>1280.0</td>\n      <td>13.783415</td>\n      <td>-0.059515</td>\n      <td>Grocery</td>\n      <td>14.219531</td>\n      <td>No</td>\n    </tr>\n    <tr>\n      <th>18</th>\n      <td>Aldi</td>\n      <td>24402</td>\n      <td>2021.0</td>\n      <td>12.715998</td>\n      <td>0.112273</td>\n      <td>Grocery</td>\n      <td>12.074221</td>\n      <td>No</td>\n    </tr>\n    <tr>\n      <th>4</th>\n      <td>Walgreen Boots</td>\n      <td>78924</td>\n      <td>8002.0</td>\n      <td>9.810927</td>\n      <td>-0.010511</td>\n      <td>Drug Stores</td>\n      <td>9.863034</td>\n      <td>No</td>\n    </tr>\n    <tr>\n      <th>17</th>\n      <td>TJX</td>\n      <td>25012</td>\n      <td>2770.0</td>\n      <td>9.369545</td>\n      <td>0.078241</td>\n      <td>Apparel</td>\n      <td>9.029603</td>\n      <td>Yes</td>\n    </tr>\n    <tr>\n      <th>5</th>\n      <td>CVS incl. Target</td>\n      <td>77792</td>\n      <td>9813.0</td>\n      <td>8.825959</td>\n      <td>0.255662</td>\n      <td>Drug Stores</td>\n      <td>7.927443</td>\n      <td>No</td>\n    </tr>\n    <tr>\n      <th>14</th>\n      <td>Rite Aid</td>\n      <td>27486</td>\n      <td>4553.0</td>\n      <td>6.025649</td>\n      <td>-0.003720</td>\n      <td>Drug Stores</td>\n      <td>6.036899</td>\n      <td>No</td>\n    </tr>\n    <tr>\n      <th>19</th>\n      <td>Dollar General</td>\n      <td>22234</td>\n      <td>13350.0</td>\n      <td>1.768885</td>\n      <td>0.132412</td>\n      <td>Dollar Stores</td>\n      <td>1.665468</td>\n      <td>No</td>\n    </tr>\n    <tr>\n      <th>20</th>\n      <td>Dollar Tree</td>\n      <td>21464</td>\n      <td>14250.0</td>\n      <td>1.563919</td>\n      <td>0.079627</td>\n      <td>Dollar Stores</td>\n      <td>1.506246</td>\n      <td>No</td>\n    </tr>\n    <tr>\n      <th>6</th>\n      <td>Amazon</td>\n      <td>71687</td>\n      <td>NaN</td>\n      <td>NaN</td>\n      <td>NaN</td>\n      <td>Electronic/Mail Order</td>\n      <td>NaN</td>\n      <td>Yes</td>\n    </tr>\n    <tr>\n      <th>11</th>\n      <td>Apple incl. Online</td>\n      <td>37664</td>\n      <td>NaN</td>\n      <td>NaN</td>\n      <td>NaN</td>\n      <td>NaN</td>\n      <td>NaN</td>\n      <td>Yes</td>\n    </tr>\n  </tbody>\n</table>\n</div>"
     },
     "metadata": {}
    }
   ]
  },
  {
   "cell_type": "code",
   "metadata": {
    "cell_id": "6d55da59-910b-4e99-94b2-6cf433ecd192",
    "tags": [],
    "deepnote_to_be_reexecuted": false,
    "source_hash": "ac0b06b1",
    "execution_start": 1645122803815,
    "execution_millis": 44,
    "deepnote_cell_height": 435.796875,
    "deepnote_cell_type": "code"
   },
   "source": "df_filter = df_sorted_by_sales_stores[df_sorted_by_sales_stores['Only online'] == 'Yes']\ndf_filter = df_filter.sort_values('Sales',ascending=False)\ndf_filter",
   "execution_count": null,
   "outputs": [
    {
     "output_type": "execute_result",
     "execution_count": 39,
     "data": {
      "application/vnd.deepnote.dataframe.v3+json": {
       "column_count": 8,
       "row_count": 6,
       "columns": [
        {
         "name": "Company",
         "dtype": "object",
         "stats": {
          "unique_count": 6,
          "nan_count": 0,
          "categories": [
           {
            "name": "Kroger",
            "count": 1
           },
           {
            "name": "Amazon",
            "count": 1
           },
           {
            "name": "4 others",
            "count": 4
           }
          ]
         }
        },
        {
         "name": "Sales",
         "dtype": "int64",
         "stats": {
          "unique_count": 6,
          "nan_count": 0,
          "min": "25012",
          "max": "115037",
          "histogram": [
           {
            "bin_start": 25012,
            "bin_end": 34014.5,
            "count": 2
           },
           {
            "bin_start": 34014.5,
            "bin_end": 43017,
            "count": 2
           },
           {
            "bin_start": 43017,
            "bin_end": 52019.5,
            "count": 0
           },
           {
            "bin_start": 52019.5,
            "bin_end": 61022,
            "count": 0
           },
           {
            "bin_start": 61022,
            "bin_end": 70024.5,
            "count": 0
           },
           {
            "bin_start": 70024.5,
            "bin_end": 79027,
            "count": 1
           },
           {
            "bin_start": 79027,
            "bin_end": 88029.5,
            "count": 0
           },
           {
            "bin_start": 88029.5,
            "bin_end": 97032,
            "count": 0
           },
           {
            "bin_start": 97032,
            "bin_end": 106034.5,
            "count": 0
           },
           {
            "bin_start": 106034.5,
            "bin_end": 115037,
            "count": 1
           }
          ]
         }
        },
        {
         "name": "Stores",
         "dtype": "float64",
         "stats": {
          "unique_count": 4,
          "nan_count": 2,
          "min": "794.0",
          "max": "3931.0",
          "histogram": [
           {
            "bin_start": 794,
            "bin_end": 1107.7,
            "count": 1
           },
           {
            "bin_start": 1107.7,
            "bin_end": 1421.4,
            "count": 1
           },
           {
            "bin_start": 1421.4,
            "bin_end": 1735.1,
            "count": 0
           },
           {
            "bin_start": 1735.1,
            "bin_end": 2048.8,
            "count": 0
           },
           {
            "bin_start": 2048.8,
            "bin_end": 2362.5,
            "count": 0
           },
           {
            "bin_start": 2362.5,
            "bin_end": 2676.2,
            "count": 0
           },
           {
            "bin_start": 2676.2,
            "bin_end": 2989.9,
            "count": 1
           },
           {
            "bin_start": 2989.9,
            "bin_end": 3303.6,
            "count": 0
           },
           {
            "bin_start": 3303.6,
            "bin_end": 3617.2999999999997,
            "count": 0
           },
           {
            "bin_start": 3617.2999999999997,
            "bin_end": 3931,
            "count": 1
           }
          ]
         }
        },
        {
         "name": "Sales/Avg. Store",
         "dtype": "float64",
         "stats": {
          "unique_count": 4,
          "nan_count": 2,
          "min": "9.369544859",
          "max": "34.446863",
          "histogram": [
           {
            "bin_start": 9.369544859,
            "bin_end": 11.877276673099999,
            "count": 1
           },
           {
            "bin_start": 11.877276673099999,
            "bin_end": 14.3850084872,
            "count": 0
           },
           {
            "bin_start": 14.3850084872,
            "bin_end": 16.8927403013,
            "count": 0
           },
           {
            "bin_start": 16.8927403013,
            "bin_end": 19.4004721154,
            "count": 0
           },
           {
            "bin_start": 19.4004721154,
            "bin_end": 21.908203929499997,
            "count": 0
           },
           {
            "bin_start": 21.908203929499997,
            "bin_end": 24.415935743600002,
            "count": 0
           },
           {
            "bin_start": 24.415935743600002,
            "bin_end": 26.9236675577,
            "count": 1
           },
           {
            "bin_start": 26.9236675577,
            "bin_end": 29.431399371799998,
            "count": 0
           },
           {
            "bin_start": 29.431399371799998,
            "bin_end": 31.939131185900003,
            "count": 1
           },
           {
            "bin_start": 31.939131185900003,
            "bin_end": 34.446863,
            "count": 1
           }
          ]
         }
        },
        {
         "name": "Store Count Growth",
         "dtype": "float64",
         "stats": {
          "unique_count": 4,
          "nan_count": 2,
          "min": "-0.03875432526",
          "max": "0.07824056053",
          "histogram": [
           {
            "bin_start": -0.03875432526,
            "bin_end": -0.027054836680999998,
            "count": 1
           },
           {
            "bin_start": -0.027054836680999998,
            "bin_end": -0.015355348102,
            "count": 0
           },
           {
            "bin_start": -0.015355348102,
            "bin_end": -0.003655859523000002,
            "count": 0
           },
           {
            "bin_start": -0.003655859523000002,
            "bin_end": 0.008043629056,
            "count": 0
           },
           {
            "bin_start": 0.008043629056,
            "bin_end": 0.019743117635,
            "count": 0
           },
           {
            "bin_start": 0.019743117635,
            "bin_end": 0.031442606213999996,
            "count": 0
           },
           {
            "bin_start": 0.031442606213999996,
            "bin_end": 0.043142094793000005,
            "count": 1
           },
           {
            "bin_start": 0.043142094793000005,
            "bin_end": 0.054841583372,
            "count": 1
           },
           {
            "bin_start": 0.054841583372,
            "bin_end": 0.066541071951,
            "count": 0
           },
           {
            "bin_start": 0.066541071951,
            "bin_end": 0.07824056053,
            "count": 1
           }
          ]
         }
        },
        {
         "name": "Category",
         "dtype": "object",
         "stats": {
          "unique_count": 4,
          "nan_count": 1,
          "categories": [
           {
            "name": "Grocery",
            "count": 2
           },
           {
            "name": "3 others",
            "count": 3
           },
           {
            "name": "Missing",
            "count": 1
           }
          ]
         }
        },
        {
         "name": "Sales/Avg. Store_2",
         "dtype": "float64",
         "stats": {
          "unique_count": 4,
          "nan_count": 2,
          "min": "9.029602888086643",
          "max": "33.88287153652393",
          "histogram": [
           {
            "bin_start": 9.029602888086643,
            "bin_end": 11.514929752930371,
            "count": 1
           },
           {
            "bin_start": 11.514929752930371,
            "bin_end": 14.0002566177741,
            "count": 0
           },
           {
            "bin_start": 14.0002566177741,
            "bin_end": 16.48558348261783,
            "count": 0
           },
           {
            "bin_start": 16.48558348261783,
            "bin_end": 18.970910347461558,
            "count": 0
           },
           {
            "bin_start": 18.970910347461558,
            "bin_end": 21.456237212305286,
            "count": 0
           },
           {
            "bin_start": 21.456237212305286,
            "bin_end": 23.941564077149017,
            "count": 0
           },
           {
            "bin_start": 23.941564077149017,
            "bin_end": 26.426890941992745,
            "count": 1
           },
           {
            "bin_start": 26.426890941992745,
            "bin_end": 28.912217806836473,
            "count": 0
           },
           {
            "bin_start": 28.912217806836473,
            "bin_end": 31.3975446716802,
            "count": 1
           },
           {
            "bin_start": 31.3975446716802,
            "bin_end": 33.88287153652393,
            "count": 1
           }
          ]
         }
        },
        {
         "name": "Only online",
         "dtype": "object",
         "stats": {
          "unique_count": 1,
          "nan_count": 0,
          "categories": [
           {
            "name": "Yes",
            "count": 6
           }
          ]
         }
        },
        {
         "name": "_deepnote_index_column",
         "dtype": "int64"
        }
       ],
       "rows": [
        {
         "Company": "Kroger",
         "Sales": 115037,
         "Stores": 3931,
         "Sales/Avg. Store": 30.03184963,
         "Store Count Growth": 0.05388739946,
         "Category": "Grocery",
         "Sales/Avg. Store_2": 29.26405494785042,
         "Only online": "Yes",
         "_deepnote_index_column": 1
        },
        {
         "Company": "Amazon",
         "Sales": 71687,
         "Stores": "nan",
         "Sales/Avg. Store": "nan",
         "Store Count Growth": "nan",
         "Category": "Electronic/Mail Order",
         "Sales/Avg. Store_2": "nan",
         "Only online": "Yes",
         "_deepnote_index_column": 6
        },
        {
         "Company": "Apple incl. Online",
         "Sales": 37664,
         "Stores": "nan",
         "Sales/Avg. Store": "nan",
         "Store Count Growth": "nan",
         "Category": "nan",
         "Sales/Avg. Store_2": "nan",
         "Only online": "Yes",
         "_deepnote_index_column": 11
        },
        {
         "Company": "Best Buy",
         "Sales": 34980,
         "Stores": 1389,
         "Sales/Avg. Store": 24.68595625,
         "Store Count Growth": -0.03875432526,
         "Category": "Electronics",
         "Sales/Avg. Store_2": 25.183585313174945,
         "Only online": "Yes",
         "_deepnote_index_column": 12
        },
        {
         "Company": "Ahold",
         "Sales": 26903,
         "Stores": 794,
         "Sales/Avg. Store": 34.446863,
         "Store Count Growth": 0.03385416667,
         "Category": "Grocery",
         "Sales/Avg. Store_2": 33.88287153652393,
         "Only online": "Yes",
         "_deepnote_index_column": 15
        },
        {
         "Company": "TJX",
         "Sales": 25012,
         "Stores": 2770,
         "Sales/Avg. Store": 9.369544859,
         "Store Count Growth": 0.07824056053,
         "Category": "Apparel",
         "Sales/Avg. Store_2": 9.029602888086643,
         "Only online": "Yes",
         "_deepnote_index_column": 17
        }
       ]
      },
      "text/plain": "               Company   Sales  Stores  Sales/Avg. Store  Store Count Growth  \\\n1               Kroger  115037  3931.0         30.031850            0.053887   \n6               Amazon   71687     NaN               NaN                 NaN   \n11  Apple incl. Online   37664     NaN               NaN                 NaN   \n12            Best Buy   34980  1389.0         24.685956           -0.038754   \n15               Ahold   26903   794.0         34.446863            0.033854   \n17                 TJX   25012  2770.0          9.369545            0.078241   \n\n                 Category  Sales/Avg. Store_2 Only online  \n1                 Grocery           29.264055         Yes  \n6   Electronic/Mail Order                 NaN         Yes  \n11                    NaN                 NaN         Yes  \n12            Electronics           25.183585         Yes  \n15                Grocery           33.882872         Yes  \n17                Apparel            9.029603         Yes  ",
      "text/html": "<div>\n<style scoped>\n    .dataframe tbody tr th:only-of-type {\n        vertical-align: middle;\n    }\n\n    .dataframe tbody tr th {\n        vertical-align: top;\n    }\n\n    .dataframe thead th {\n        text-align: right;\n    }\n</style>\n<table border=\"1\" class=\"dataframe\">\n  <thead>\n    <tr style=\"text-align: right;\">\n      <th></th>\n      <th>Company</th>\n      <th>Sales</th>\n      <th>Stores</th>\n      <th>Sales/Avg. Store</th>\n      <th>Store Count Growth</th>\n      <th>Category</th>\n      <th>Sales/Avg. Store_2</th>\n      <th>Only online</th>\n    </tr>\n  </thead>\n  <tbody>\n    <tr>\n      <th>1</th>\n      <td>Kroger</td>\n      <td>115037</td>\n      <td>3931.0</td>\n      <td>30.031850</td>\n      <td>0.053887</td>\n      <td>Grocery</td>\n      <td>29.264055</td>\n      <td>Yes</td>\n    </tr>\n    <tr>\n      <th>6</th>\n      <td>Amazon</td>\n      <td>71687</td>\n      <td>NaN</td>\n      <td>NaN</td>\n      <td>NaN</td>\n      <td>Electronic/Mail Order</td>\n      <td>NaN</td>\n      <td>Yes</td>\n    </tr>\n    <tr>\n      <th>11</th>\n      <td>Apple incl. Online</td>\n      <td>37664</td>\n      <td>NaN</td>\n      <td>NaN</td>\n      <td>NaN</td>\n      <td>NaN</td>\n      <td>NaN</td>\n      <td>Yes</td>\n    </tr>\n    <tr>\n      <th>12</th>\n      <td>Best Buy</td>\n      <td>34980</td>\n      <td>1389.0</td>\n      <td>24.685956</td>\n      <td>-0.038754</td>\n      <td>Electronics</td>\n      <td>25.183585</td>\n      <td>Yes</td>\n    </tr>\n    <tr>\n      <th>15</th>\n      <td>Ahold</td>\n      <td>26903</td>\n      <td>794.0</td>\n      <td>34.446863</td>\n      <td>0.033854</td>\n      <td>Grocery</td>\n      <td>33.882872</td>\n      <td>Yes</td>\n    </tr>\n    <tr>\n      <th>17</th>\n      <td>TJX</td>\n      <td>25012</td>\n      <td>2770.0</td>\n      <td>9.369545</td>\n      <td>0.078241</td>\n      <td>Apparel</td>\n      <td>9.029603</td>\n      <td>Yes</td>\n    </tr>\n  </tbody>\n</table>\n</div>"
     },
     "metadata": {}
    }
   ]
  },
  {
   "cell_type": "code",
   "metadata": {
    "cell_id": "1bdce535-94ee-4844-93ac-402f07770ad1",
    "tags": [],
    "deepnote_to_be_reexecuted": false,
    "source_hash": "58338e83",
    "execution_start": 1645122811177,
    "execution_millis": 387,
    "deepnote_output_heights": [
     21.1875,
     395
    ],
    "deepnote_cell_height": 652.1875,
    "deepnote_cell_type": "code"
   },
   "source": "df_filter_slice = df_filter.iloc[ : , : 2]\ndf_filter_slice = df_filter_slice.set_index('Company')\nchart4 = sns.heatmap(data = df_filter_slice, cmap='BuGn', annot=True, fmt='d')\nchart4.set_title(\"Sales in millions of dollars from online retailers\")\nchart4.set_ylabel(\"Companies that sell exclusively online\")\nchart4.set_xlabel(\"Sales in millions of dollars\")\nchart4",
   "execution_count": null,
   "outputs": [
    {
     "output_type": "execute_result",
     "execution_count": 40,
     "data": {
      "text/plain": "<AxesSubplot:title={'center':'Sales in millions of dollars from online retailers'}, xlabel='Sales in millions of dollars', ylabel='Companies that sell exclusively online'>"
     },
     "metadata": {}
    },
    {
     "data": {
      "text/plain": "<Figure size 864x432 with 2 Axes>",
      "image/png": "[encoded data removed]"
     },
     "metadata": {
      "image/png": {
       "width": 774,
       "height": 393
      }
     },
     "output_type": "display_data"
    }
   ]
  },
  {
   "cell_type": "markdown",
   "source": "Como podemos observar, las compañias de retail que venden de forma exclusivamente online son: \n\nKroger\n\nAmazon\n\nApple incl. Online\n\nBest Buy\n\nAhold\n\nTJX",
   "metadata": {
    "cell_id": "29ecb1ab-f35a-4aa1-9f51-6272eea0227f",
    "tags": [],
    "deepnote_cell_height": 270.796875,
    "deepnote_cell_type": "markdown"
   }
  },
  {
   "cell_type": "code",
   "metadata": {
    "cell_id": "5caad2f4-36fb-4021-994a-e447391f4cd0",
    "tags": [],
    "deepnote_to_be_reexecuted": false,
    "source_hash": "11c25d2d",
    "execution_start": 1645122816357,
    "execution_millis": 422,
    "deepnote_output_heights": [
     527
    ],
    "deepnote_cell_height": 750,
    "deepnote_cell_type": "code"
   },
   "source": "import altair as alt\n\nalt.Chart(df_sorted_by_sales_stores).mark_bar(size=10).encode(\n    x='Company',\n    y='sum(Sales)',\n    color='sum(Sales)',\n    column='Only online'\n).properties(width=350,height=350)",
   "execution_count": null,
   "outputs": [
    {
     "output_type": "execute_result",
     "execution_count": 41,
     "data": {
      "text/html": "\n<div id=\"altair-viz-d052603d16714158bca4c25ccd0d7f67\"></div>\n<script type=\"text/javascript\">\n  (function(spec, embedOpt){\n    let outputDiv = document.currentScript.previousElementSibling;\n    if (outputDiv.id !== \"altair-viz-d052603d16714158bca4c25ccd0d7f67\") {\n      outputDiv = document.getElementById(\"altair-viz-d052603d16714158bca4c25ccd0d7f67\");\n    }\n    const paths = {\n      \"vega\": \"https://cdn.jsdelivr.net/npm//vega@5?noext\",\n      \"vega-lib\": \"https://cdn.jsdelivr.net/npm//vega-lib?noext\",\n      \"vega-lite\": \"https://cdn.jsdelivr.net/npm//vega-lite@4.8.1?noext\",\n      \"vega-embed\": \"https://cdn.jsdelivr.net/npm//vega-embed@6?noext\",\n    };\n\n    function loadScript(lib) {\n      return new Promise(function(resolve, reject) {\n        var s = document.createElement('script');\n        s.src = paths[lib];\n        s.async = true;\n        s.onload = () => resolve(paths[lib]);\n        s.onerror = () => reject(`Error loading script: ${paths[lib]}`);\n        document.getElementsByTagName(\"head\")[0].appendChild(s);\n      });\n    }\n\n    function showError(err) {\n      outputDiv.innerHTML = `<div class=\"error\" style=\"color:red;\">${err}</div>`;\n      throw err;\n    }\n\n    function displayChart(vegaEmbed) {\n      vegaEmbed(outputDiv, spec, embedOpt)\n        .catch(err => showError(`Javascript Error: ${err.message}<br>This usually means there's a typo in your chart specification. See the javascript console for the full traceback.`));\n    }\n\n    if(typeof define === \"function\" && define.amd) {\n      requirejs.config({paths});\n      require([\"vega-embed\"], displayChart, err => showError(`Error loading script: ${err.message}`));\n    } else if (typeof vegaEmbed === \"function\") {\n      displayChart(vegaEmbed);\n    } else {\n      loadScript(\"vega\")\n        .then(() => loadScript(\"vega-lite\"))\n        .then(() => loadScript(\"vega-embed\"))\n        .catch(showError)\n        .then(() => displayChart(vegaEmbed));\n    }\n  })({\"config\": {\"view\": {\"continuousWidth\": 400, \"continuousHeight\": 300}}, \"data\": {\"name\": \"data-940ad7922ae7472741fd49d48576fe4b\"}, \"mark\": {\"type\": \"bar\", \"size\": 10}, \"encoding\": {\"color\": {\"type\": \"quantitative\", \"aggregate\": \"sum\", \"field\": \"Sales\"}, \"column\": {\"type\": \"nominal\", \"field\": \"Only online\"}, \"x\": {\"type\": \"nominal\", \"field\": \"Company\"}, \"y\": {\"type\": \"quantitative\", \"aggregate\": \"sum\", \"field\": \"Sales\"}}, \"height\": 350, \"width\": 350, \"$schema\": \"https://vega.github.io/schema/vega-lite/v4.8.1.json\", \"datasets\": {\"data-940ad7922ae7472741fd49d48576fe4b\": [{\"Company\": \"Costco\", \"Sales\": 90048, \"Stores\": 495.0, \"Sales/Avg. Store\": 187.7956204, \"Store Count Growth\": 0.06681034483, \"Category\": \"Warehouse Club\", \"Sales/Avg. Store_2\": 181.9151515151515, \"Only online\": \"No\"}, {\"Company\": \"Walmart US\", \"Sales\": 658119, \"Stores\": 4574.0, \"Sales/Avg. Store\": 65.64972497, \"Store Count Growth\": 0.01284322409, \"Category\": \"Supercenters\", \"Sales/Avg. Store_2\": 143.88259728902491, \"Only online\": \"No\"}, {\"Company\": \"Sam's Club\", \"Sales\": 56828, \"Stores\": 655.0, \"Sales/Avg. Store\": 87.29339478, \"Store Count Growth\": 0.01236476043, \"Category\": \"Warehouse Clubs\", \"Sales/Avg. Store_2\": 86.76030534351145, \"Only online\": \"No\"}, {\"Company\": \"Meijer\", \"Sales\": 16592, \"Stores\": 231.0, \"Sales/Avg. Store\": 74.73873874, \"Store Count Growth\": 0.08450704225, \"Category\": \"Supercenters\", \"Sales/Avg. Store_2\": 71.82683982683983, \"Only online\": \"No\"}, {\"Company\": \"HEB\", \"Sales\": 21384, \"Stores\": 323.0, \"Sales/Avg. Store\": 66.825, \"Store Count Growth\": 0.01892744479, \"Category\": \"Grocery\", \"Sales/Avg. Store_2\": 66.20433436532508, \"Only online\": \"No\"}, {\"Company\": \"Home Depot\", \"Sales\": 83976, \"Stores\": 1965.0, \"Sales/Avg. Store\": 42.73587786, \"Store Count Growth\": 0.0, \"Category\": \"Home Improvement\", \"Sales/Avg. Store_2\": 42.73587786259542, \"Only online\": \"No\"}, {\"Company\": \"Target\", \"Sales\": 71208, \"Stores\": 1772.0, \"Sales/Avg. Store\": 39.98203257, \"Store Count Growth\": -0.01005586592, \"Category\": \"Supercenters\", \"Sales/Avg. Store_2\": 40.18510158013544, \"Only online\": \"No\"}, {\"Company\": \"Ahold\", \"Sales\": 26903, \"Stores\": 794.0, \"Sales/Avg. Store\": 34.446863, \"Store Count Growth\": 0.03385416667, \"Category\": \"Grocery\", \"Sales/Avg. Store_2\": 33.88287153652393, \"Only online\": \"Yes\"}, {\"Company\": \"Lowe's\", \"Sales\": 60311, \"Stores\": 1828.0, \"Sales/Avg. Store\": 33.31179232, \"Store Count Growth\": 0.01952035694, \"Category\": \"Home Improvement\", \"Sales/Avg. Store_2\": 32.99288840262582, \"Only online\": \"No\"}, {\"Company\": \"Macy's\", \"Sales\": 26028, \"Stores\": 889.0, \"Sales/Avg. Store\": 30.44210526, \"Store Count Growth\": 0.08282582217, \"Category\": \"Department Stores\", \"Sales/Avg. Store_2\": 29.277840269966255, \"Only online\": \"No\"}, {\"Company\": \"Kroger\", \"Sales\": 115037, \"Stores\": 3931.0, \"Sales/Avg. Store\": 30.03184963, \"Store Count Growth\": 0.05388739946, \"Category\": \"Grocery\", \"Sales/Avg. Store_2\": 29.26405494785042, \"Only online\": \"Yes\"}, {\"Company\": \"Publix\", \"Sales\": 34408, \"Stores\": 1351.0, \"Sales/Avg. Store\": 25.99773328, \"Store Count Growth\": 0.0424382716, \"Category\": \"Grocery\", \"Sales/Avg. Store_2\": 25.468541820873426, \"Only online\": \"No\"}, {\"Company\": \"Best Buy\", \"Sales\": 34980, \"Stores\": 1389.0, \"Sales/Avg. Store\": 24.68595625, \"Store Count Growth\": -0.03875432526, \"Category\": \"Electronics\", \"Sales/Avg. Store_2\": 25.183585313174945, \"Only online\": \"Yes\"}, {\"Company\": \"Albertsons\", \"Sales\": 56829, \"Stores\": 2326.0, \"Sales/Avg. Store\": 23.87773109, \"Store Count Growth\": -0.04437140509, \"Category\": \"Grocery\", \"Sales/Avg. Store_2\": 24.43207222699914, \"Only online\": \"No\"}, {\"Company\": \"Kohl's\", \"Sales\": 19060, \"Stores\": 1169.0, \"Sales/Avg. Store\": 16.35349635, \"Store Count Growth\": 0.006024096386, \"Category\": \"Department Stores\", \"Sales/Avg. Store_2\": 16.30453378956373, \"Only online\": \"No\"}, {\"Company\": \"Delhaize\", \"Sales\": 18201, \"Stores\": 1280.0, \"Sales/Avg. Store\": 13.78341537, \"Store Count Growth\": -0.05951506245, \"Category\": \"Grocery\", \"Sales/Avg. Store_2\": 14.21953125, \"Only online\": \"No\"}, {\"Company\": \"Aldi\", \"Sales\": 24402, \"Stores\": 2021.0, \"Sales/Avg. Store\": 12.71599792, \"Store Count Growth\": 0.1122729774, \"Category\": \"Grocery\", \"Sales/Avg. Store_2\": 12.074220682830282, \"Only online\": \"No\"}, {\"Company\": \"Walgreen Boots\", \"Sales\": 78924, \"Stores\": 8002.0, \"Sales/Avg. Store\": 9.81092672, \"Store Count Growth\": -0.01051069618, \"Category\": \"Drug Stores\", \"Sales/Avg. Store_2\": 9.86303424143964, \"Only online\": \"No\"}, {\"Company\": \"TJX\", \"Sales\": 25012, \"Stores\": 2770.0, \"Sales/Avg. Store\": 9.369544859, \"Store Count Growth\": 0.07824056053, \"Category\": \"Apparel\", \"Sales/Avg. Store_2\": 9.029602888086643, \"Only online\": \"Yes\"}, {\"Company\": \"CVS incl. Target\", \"Sales\": 77792, \"Stores\": 9813.0, \"Sales/Avg. Store\": 8.825958702, \"Store Count Growth\": 0.2556621881, \"Category\": \"Drug Stores\", \"Sales/Avg. Store_2\": 7.927443187608275, \"Only online\": \"No\"}, {\"Company\": \"Rite Aid\", \"Sales\": 27486, \"Stores\": 4553.0, \"Sales/Avg. Store\": 6.025649457, \"Store Count Growth\": -0.003719912473, \"Category\": \"Drug Stores\", \"Sales/Avg. Store_2\": 6.03689874807819, \"Only online\": \"No\"}, {\"Company\": \"Dollar General\", \"Sales\": 22234, \"Stores\": 13350.0, \"Sales/Avg. Store\": 1.768884999, \"Store Count Growth\": 0.1324115701, \"Category\": \"Dollar Stores\", \"Sales/Avg. Store_2\": 1.6654681647940075, \"Only online\": \"No\"}, {\"Company\": \"Dollar Tree\", \"Sales\": 21464, \"Stores\": 14250.0, \"Sales/Avg. Store\": 1.56391854, \"Store Count Growth\": 0.07962724449, \"Category\": \"Dollar Stores\", \"Sales/Avg. Store_2\": 1.5062456140350877, \"Only online\": \"No\"}, {\"Company\": \"Amazon\", \"Sales\": 71687, \"Stores\": null, \"Sales/Avg. Store\": null, \"Store Count Growth\": null, \"Category\": \"Electronic/Mail Order\", \"Sales/Avg. Store_2\": null, \"Only online\": \"Yes\"}, {\"Company\": \"Apple incl. Online\", \"Sales\": 37664, \"Stores\": null, \"Sales/Avg. Store\": null, \"Store Count Growth\": null, \"Category\": null, \"Sales/Avg. Store_2\": null, \"Only online\": \"Yes\"}]}}, {\"mode\": \"vega-lite\"});\n</script>",
      "text/plain": "alt.Chart(...)"
     },
     "metadata": {}
    }
   ]
  },
  {
   "cell_type": "markdown",
   "source": "Como podemos observar, no hay diferencias significativas entre aquellos retailers que tienen solo venden online y aquellos que tienen tiendas fisicas en cuanto a suma de ventas. La única empresa que destaca sobre el resto es Walmart como ya lo mostramos mas arriba. ",
   "metadata": {
    "cell_id": "dc7f6d78-534b-44b5-8171-40fa3a0735c8",
    "tags": [],
    "deepnote_cell_height": 74.796875,
    "deepnote_cell_type": "markdown"
   }
  },
  {
   "cell_type": "markdown",
   "source": "## III. Tus propias preguntas",
   "metadata": {
    "cell_id": "58c80612-3fb2-4c71-9aab-813b121430a0",
    "tags": [],
    "deepnote_cell_height": 70,
    "deepnote_cell_type": "markdown"
   }
  },
  {
   "cell_type": "code",
   "metadata": {
    "cell_id": "d52fa61a-b1e5-4102-928e-cd46e7644c35",
    "tags": [],
    "deepnote_to_be_reexecuted": false,
    "source_hash": "d98fdfc4",
    "execution_start": 1645120361990,
    "execution_millis": 3,
    "deepnote_cell_height": 614.796875,
    "deepnote_cell_type": "code"
   },
   "source": "df_sorted_by_sales_stores",
   "execution_count": null,
   "outputs": [
    {
     "output_type": "execute_result",
     "execution_count": 323,
     "data": {
      "application/vnd.deepnote.dataframe.v3+json": {
       "column_count": 8,
       "row_count": 25,
       "columns": [
        {
         "name": "Company",
         "dtype": "object",
         "stats": {
          "unique_count": 25,
          "nan_count": 0,
          "categories": [
           {
            "name": "Costco",
            "count": 1
           },
           {
            "name": "Walmart US",
            "count": 1
           },
           {
            "name": "23 others",
            "count": 23
           }
          ]
         }
        },
        {
         "name": "Sales",
         "dtype": "int64",
         "stats": {
          "unique_count": 25,
          "nan_count": 0,
          "min": "16592",
          "max": "658119",
          "histogram": [
           {
            "bin_start": 16592,
            "bin_end": 80744.7,
            "count": 21
           },
           {
            "bin_start": 80744.7,
            "bin_end": 144897.4,
            "count": 3
           },
           {
            "bin_start": 144897.4,
            "bin_end": 209050.09999999998,
            "count": 0
           },
           {
            "bin_start": 209050.09999999998,
            "bin_end": 273202.8,
            "count": 0
           },
           {
            "bin_start": 273202.8,
            "bin_end": 337355.5,
            "count": 0
           },
           {
            "bin_start": 337355.5,
            "bin_end": 401508.19999999995,
            "count": 0
           },
           {
            "bin_start": 401508.19999999995,
            "bin_end": 465660.89999999997,
            "count": 0
           },
           {
            "bin_start": 465660.89999999997,
            "bin_end": 529813.6,
            "count": 0
           },
           {
            "bin_start": 529813.6,
            "bin_end": 593966.2999999999,
            "count": 0
           },
           {
            "bin_start": 593966.2999999999,
            "bin_end": 658119,
            "count": 1
           }
          ]
         }
        },
        {
         "name": "Stores",
         "dtype": "float64",
         "stats": {
          "unique_count": 23,
          "nan_count": 2,
          "min": "231.0",
          "max": "14250.0",
          "histogram": [
           {
            "bin_start": 231,
            "bin_end": 1632.9,
            "count": 10
           },
           {
            "bin_start": 1632.9,
            "bin_end": 3034.8,
            "count": 6
           },
           {
            "bin_start": 3034.8,
            "bin_end": 4436.700000000001,
            "count": 1
           },
           {
            "bin_start": 4436.700000000001,
            "bin_end": 5838.6,
            "count": 2
           },
           {
            "bin_start": 5838.6,
            "bin_end": 7240.5,
            "count": 0
           },
           {
            "bin_start": 7240.5,
            "bin_end": 8642.400000000001,
            "count": 1
           },
           {
            "bin_start": 8642.400000000001,
            "bin_end": 10044.300000000001,
            "count": 1
           },
           {
            "bin_start": 10044.300000000001,
            "bin_end": 11446.2,
            "count": 0
           },
           {
            "bin_start": 11446.2,
            "bin_end": 12848.1,
            "count": 0
           },
           {
            "bin_start": 12848.1,
            "bin_end": 14250,
            "count": 2
           }
          ]
         }
        },
        {
         "name": "Sales/Avg. Store",
         "dtype": "float64",
         "stats": {
          "unique_count": 23,
          "nan_count": 2,
          "min": "1.56391854",
          "max": "187.7956204",
          "histogram": [
           {
            "bin_start": 1.56391854,
            "bin_end": 20.187088726,
            "count": 9
           },
           {
            "bin_start": 20.187088726,
            "bin_end": 38.810258912,
            "count": 7
           },
           {
            "bin_start": 38.810258912,
            "bin_end": 57.433429098000005,
            "count": 2
           },
           {
            "bin_start": 57.433429098000005,
            "bin_end": 76.056599284,
            "count": 3
           },
           {
            "bin_start": 76.056599284,
            "bin_end": 94.67976947,
            "count": 1
           },
           {
            "bin_start": 94.67976947,
            "bin_end": 113.302939656,
            "count": 0
           },
           {
            "bin_start": 113.302939656,
            "bin_end": 131.926109842,
            "count": 0
           },
           {
            "bin_start": 131.926109842,
            "bin_end": 150.549280028,
            "count": 0
           },
           {
            "bin_start": 150.549280028,
            "bin_end": 169.172450214,
            "count": 0
           },
           {
            "bin_start": 169.172450214,
            "bin_end": 187.7956204,
            "count": 1
           }
          ]
         }
        },
        {
         "name": "Store Count Growth",
         "dtype": "float64",
         "stats": {
          "unique_count": 23,
          "nan_count": 2,
          "min": "-0.05951506245",
          "max": "0.2556621881",
          "histogram": [
           {
            "bin_start": -0.05951506245,
            "bin_end": -0.027997337395000002,
            "count": 3
           },
           {
            "bin_start": -0.027997337395000002,
            "bin_end": 0.003520387659999999,
            "count": 4
           },
           {
            "bin_start": 0.003520387659999999,
            "bin_end": 0.035038112715,
            "count": 6
           },
           {
            "bin_start": 0.035038112715,
            "bin_end": 0.06655583777,
            "count": 2
           },
           {
            "bin_start": 0.06655583777,
            "bin_end": 0.098073562825,
            "count": 5
           },
           {
            "bin_start": 0.098073562825,
            "bin_end": 0.12959128788000002,
            "count": 1
           },
           {
            "bin_start": 0.12959128788000002,
            "bin_end": 0.16110901293500002,
            "count": 1
           },
           {
            "bin_start": 0.16110901293500002,
            "bin_end": 0.19262673799000002,
            "count": 0
           },
           {
            "bin_start": 0.19262673799000002,
            "bin_end": 0.22414446304500002,
            "count": 0
           },
           {
            "bin_start": 0.22414446304500002,
            "bin_end": 0.2556621881,
            "count": 1
           }
          ]
         }
        },
        {
         "name": "Category",
         "dtype": "object",
         "stats": {
          "unique_count": 11,
          "nan_count": 1,
          "categories": [
           {
            "name": "Grocery",
            "count": 7
           },
           {
            "name": "10 others",
            "count": 17
           },
           {
            "name": "Missing",
            "count": 1
           }
          ]
         }
        },
        {
         "name": "Sales/Avg. Store_2",
         "dtype": "float64",
         "stats": {
          "unique_count": 23,
          "nan_count": 2,
          "min": "1.5062456140350877",
          "max": "181.9151515151515",
          "histogram": [
           {
            "bin_start": 1.5062456140350877,
            "bin_end": 19.547136204146728,
            "count": 9
           },
           {
            "bin_start": 19.547136204146728,
            "bin_end": 37.58802679425837,
            "count": 7
           },
           {
            "bin_start": 37.58802679425837,
            "bin_end": 55.628917384370006,
            "count": 2
           },
           {
            "bin_start": 55.628917384370006,
            "bin_end": 73.66980797448166,
            "count": 2
           },
           {
            "bin_start": 73.66980797448166,
            "bin_end": 91.7106985645933,
            "count": 1
           },
           {
            "bin_start": 91.7106985645933,
            "bin_end": 109.75158915470493,
            "count": 0
           },
           {
            "bin_start": 109.75158915470493,
            "bin_end": 127.79247974481657,
            "count": 0
           },
           {
            "bin_start": 127.79247974481657,
            "bin_end": 145.83337033492822,
            "count": 1
           },
           {
            "bin_start": 145.83337033492822,
            "bin_end": 163.87426092503986,
            "count": 0
           },
           {
            "bin_start": 163.87426092503986,
            "bin_end": 181.9151515151515,
            "count": 1
           }
          ]
         }
        },
        {
         "name": "Only online",
         "dtype": "object",
         "stats": {
          "unique_count": 2,
          "nan_count": 0,
          "categories": [
           {
            "name": "No",
            "count": 19
           },
           {
            "name": "Yes",
            "count": 6
           }
          ]
         }
        },
        {
         "name": "_deepnote_index_column",
         "dtype": "int64"
        }
       ],
       "rows": [
        {
         "Company": "Costco",
         "Sales": 90048,
         "Stores": 495,
         "Sales/Avg. Store": 187.7956204,
         "Store Count Growth": 0.06681034483,
         "Category": "Warehouse Club",
         "Sales/Avg. Store_2": 181.9151515151515,
         "Only online": "No",
         "_deepnote_index_column": 2
        },
        {
         "Company": "Walmart US",
         "Sales": 658119,
         "Stores": 4574,
         "Sales/Avg. Store": 65.64972497,
         "Store Count Growth": 0.01284322409,
         "Category": "Supercenters",
         "Sales/Avg. Store_2": 143.88259728902491,
         "Only online": "No",
         "_deepnote_index_column": 0
        },
        {
         "Company": "Sam's Club",
         "Sales": 56828,
         "Stores": 655,
         "Sales/Avg. Store": 87.29339478,
         "Store Count Growth": 0.01236476043,
         "Category": "Warehouse Clubs",
         "Sales/Avg. Store_2": 86.76030534351145,
         "Only online": "No",
         "_deepnote_index_column": 10
        },
        {
         "Company": "Meijer",
         "Sales": 16592,
         "Stores": 231,
         "Sales/Avg. Store": 74.73873874,
         "Store Count Growth": 0.08450704225,
         "Category": "Supercenters",
         "Sales/Avg. Store_2": 71.82683982683983,
         "Only online": "No",
         "_deepnote_index_column": 24
        },
        {
         "Company": "HEB",
         "Sales": 21384,
         "Stores": 323,
         "Sales/Avg. Store": 66.825,
         "Store Count Growth": 0.01892744479,
         "Category": "Grocery",
         "Sales/Avg. Store_2": 66.20433436532508,
         "Only online": "No",
         "_deepnote_index_column": 21
        },
        {
         "Company": "Home Depot",
         "Sales": 83976,
         "Stores": 1965,
         "Sales/Avg. Store": 42.73587786,
         "Store Count Growth": 0,
         "Category": "Home Improvement",
         "Sales/Avg. Store_2": 42.73587786259542,
         "Only online": "No",
         "_deepnote_index_column": 3
        },
        {
         "Company": "Target",
         "Sales": 71208,
         "Stores": 1772,
         "Sales/Avg. Store": 39.98203257,
         "Store Count Growth": -0.01005586592,
         "Category": "Supercenters",
         "Sales/Avg. Store_2": 40.18510158013544,
         "Only online": "No",
         "_deepnote_index_column": 7
        },
        {
         "Company": "Ahold",
         "Sales": 26903,
         "Stores": 794,
         "Sales/Avg. Store": 34.446863,
         "Store Count Growth": 0.03385416667,
         "Category": "Grocery",
         "Sales/Avg. Store_2": 33.88287153652393,
         "Only online": "Yes",
         "_deepnote_index_column": 15
        },
        {
         "Company": "Lowe's",
         "Sales": 60311,
         "Stores": 1828,
         "Sales/Avg. Store": 33.31179232,
         "Store Count Growth": 0.01952035694,
         "Category": "Home Improvement",
         "Sales/Avg. Store_2": 32.99288840262582,
         "Only online": "No",
         "_deepnote_index_column": 8
        },
        {
         "Company": "Macy's",
         "Sales": 26028,
         "Stores": 889,
         "Sales/Avg. Store": 30.44210526,
         "Store Count Growth": 0.08282582217,
         "Category": "Department Stores",
         "Sales/Avg. Store_2": 29.277840269966255,
         "Only online": "No",
         "_deepnote_index_column": 16
        }
       ]
      },
      "text/plain": "               Company   Sales    Stores  Sales/Avg. Store  \\\n2               Costco   90048    495.00            187.80   \n0           Walmart US  658119  4,574.00             65.65   \n10          Sam's Club   56828    655.00             87.29   \n24              Meijer   16592    231.00             74.74   \n21                 HEB   21384    323.00             66.83   \n3           Home Depot   83976  1,965.00             42.74   \n7               Target   71208  1,772.00             39.98   \n15               Ahold   26903    794.00             34.45   \n8               Lowe's   60311  1,828.00             33.31   \n16              Macy's   26028    889.00             30.44   \n1               Kroger  115037  3,931.00             30.03   \n13              Publix   34408  1,351.00             26.00   \n12            Best Buy   34980  1,389.00             24.69   \n9           Albertsons   56829  2,326.00             23.88   \n22              Kohl's   19060  1,169.00             16.35   \n23            Delhaize   18201  1,280.00             13.78   \n18                Aldi   24402  2,021.00             12.72   \n4       Walgreen Boots   78924  8,002.00              9.81   \n17                 TJX   25012  2,770.00              9.37   \n5     CVS incl. Target   77792  9,813.00              8.83   \n14            Rite Aid   27486  4,553.00              6.03   \n19      Dollar General   22234 13,350.00              1.77   \n20         Dollar Tree   21464 14,250.00              1.56   \n6               Amazon   71687       NaN               NaN   \n11  Apple incl. Online   37664       NaN               NaN   \n\n    Store Count Growth               Category  Sales/Avg. Store_2 Only online  \n2                 0.07         Warehouse Club              181.92          No  \n0                 0.01           Supercenters              143.88          No  \n10                0.01        Warehouse Clubs               86.76          No  \n24                0.08           Supercenters               71.83          No  \n21                0.02                Grocery               66.20          No  \n3                 0.00       Home Improvement               42.74          No  \n7                -0.01           Supercenters               40.19          No  \n15                0.03                Grocery               33.88         Yes  \n8                 0.02       Home Improvement               32.99          No  \n16                0.08      Department Stores               29.28          No  \n1                 0.05                Grocery               29.26         Yes  \n13                0.04                Grocery               25.47          No  \n12               -0.04            Electronics               25.18         Yes  \n9                -0.04                Grocery               24.43          No  \n22                0.01      Department Stores               16.30          No  \n23               -0.06                Grocery               14.22          No  \n18                0.11                Grocery               12.07          No  \n4                -0.01            Drug Stores                9.86          No  \n17                0.08                Apparel                9.03         Yes  \n5                 0.26            Drug Stores                7.93          No  \n14               -0.00            Drug Stores                6.04          No  \n19                0.13          Dollar Stores                1.67          No  \n20                0.08          Dollar Stores                1.51          No  \n6                  NaN  Electronic/Mail Order                 NaN         Yes  \n11                 NaN                    NaN                 NaN         Yes  ",
      "text/html": "<div>\n<style scoped>\n    .dataframe tbody tr th:only-of-type {\n        vertical-align: middle;\n    }\n\n    .dataframe tbody tr th {\n        vertical-align: top;\n    }\n\n    .dataframe thead th {\n        text-align: right;\n    }\n</style>\n<table border=\"1\" class=\"dataframe\">\n  <thead>\n    <tr style=\"text-align: right;\">\n      <th></th>\n      <th>Company</th>\n      <th>Sales</th>\n      <th>Stores</th>\n      <th>Sales/Avg. Store</th>\n      <th>Store Count Growth</th>\n      <th>Category</th>\n      <th>Sales/Avg. Store_2</th>\n      <th>Only online</th>\n    </tr>\n  </thead>\n  <tbody>\n    <tr>\n      <th>2</th>\n      <td>Costco</td>\n      <td>90048</td>\n      <td>495.00</td>\n      <td>187.80</td>\n      <td>0.07</td>\n      <td>Warehouse Club</td>\n      <td>181.92</td>\n      <td>No</td>\n    </tr>\n    <tr>\n      <th>0</th>\n      <td>Walmart US</td>\n      <td>658119</td>\n      <td>4,574.00</td>\n      <td>65.65</td>\n      <td>0.01</td>\n      <td>Supercenters</td>\n      <td>143.88</td>\n      <td>No</td>\n    </tr>\n    <tr>\n      <th>10</th>\n      <td>Sam's Club</td>\n      <td>56828</td>\n      <td>655.00</td>\n      <td>87.29</td>\n      <td>0.01</td>\n      <td>Warehouse Clubs</td>\n      <td>86.76</td>\n      <td>No</td>\n    </tr>\n    <tr>\n      <th>24</th>\n      <td>Meijer</td>\n      <td>16592</td>\n      <td>231.00</td>\n      <td>74.74</td>\n      <td>0.08</td>\n      <td>Supercenters</td>\n      <td>71.83</td>\n      <td>No</td>\n    </tr>\n    <tr>\n      <th>21</th>\n      <td>HEB</td>\n      <td>21384</td>\n      <td>323.00</td>\n      <td>66.83</td>\n      <td>0.02</td>\n      <td>Grocery</td>\n      <td>66.20</td>\n      <td>No</td>\n    </tr>\n    <tr>\n      <th>3</th>\n      <td>Home Depot</td>\n      <td>83976</td>\n      <td>1,965.00</td>\n      <td>42.74</td>\n      <td>0.00</td>\n      <td>Home Improvement</td>\n      <td>42.74</td>\n      <td>No</td>\n    </tr>\n    <tr>\n      <th>7</th>\n      <td>Target</td>\n      <td>71208</td>\n      <td>1,772.00</td>\n      <td>39.98</td>\n      <td>-0.01</td>\n      <td>Supercenters</td>\n      <td>40.19</td>\n      <td>No</td>\n    </tr>\n    <tr>\n      <th>15</th>\n      <td>Ahold</td>\n      <td>26903</td>\n      <td>794.00</td>\n      <td>34.45</td>\n      <td>0.03</td>\n      <td>Grocery</td>\n      <td>33.88</td>\n      <td>Yes</td>\n    </tr>\n    <tr>\n      <th>8</th>\n      <td>Lowe's</td>\n      <td>60311</td>\n      <td>1,828.00</td>\n      <td>33.31</td>\n      <td>0.02</td>\n      <td>Home Improvement</td>\n      <td>32.99</td>\n      <td>No</td>\n    </tr>\n    <tr>\n      <th>16</th>\n      <td>Macy's</td>\n      <td>26028</td>\n      <td>889.00</td>\n      <td>30.44</td>\n      <td>0.08</td>\n      <td>Department Stores</td>\n      <td>29.28</td>\n      <td>No</td>\n    </tr>\n    <tr>\n      <th>1</th>\n      <td>Kroger</td>\n      <td>115037</td>\n      <td>3,931.00</td>\n      <td>30.03</td>\n      <td>0.05</td>\n      <td>Grocery</td>\n      <td>29.26</td>\n      <td>Yes</td>\n    </tr>\n    <tr>\n      <th>13</th>\n      <td>Publix</td>\n      <td>34408</td>\n      <td>1,351.00</td>\n      <td>26.00</td>\n      <td>0.04</td>\n      <td>Grocery</td>\n      <td>25.47</td>\n      <td>No</td>\n    </tr>\n    <tr>\n      <th>12</th>\n      <td>Best Buy</td>\n      <td>34980</td>\n      <td>1,389.00</td>\n      <td>24.69</td>\n      <td>-0.04</td>\n      <td>Electronics</td>\n      <td>25.18</td>\n      <td>Yes</td>\n    </tr>\n    <tr>\n      <th>9</th>\n      <td>Albertsons</td>\n      <td>56829</td>\n      <td>2,326.00</td>\n      <td>23.88</td>\n      <td>-0.04</td>\n      <td>Grocery</td>\n      <td>24.43</td>\n      <td>No</td>\n    </tr>\n    <tr>\n      <th>22</th>\n      <td>Kohl's</td>\n      <td>19060</td>\n      <td>1,169.00</td>\n      <td>16.35</td>\n      <td>0.01</td>\n      <td>Department Stores</td>\n      <td>16.30</td>\n      <td>No</td>\n    </tr>\n    <tr>\n      <th>23</th>\n      <td>Delhaize</td>\n      <td>18201</td>\n      <td>1,280.00</td>\n      <td>13.78</td>\n      <td>-0.06</td>\n      <td>Grocery</td>\n      <td>14.22</td>\n      <td>No</td>\n    </tr>\n    <tr>\n      <th>18</th>\n      <td>Aldi</td>\n      <td>24402</td>\n      <td>2,021.00</td>\n      <td>12.72</td>\n      <td>0.11</td>\n      <td>Grocery</td>\n      <td>12.07</td>\n      <td>No</td>\n    </tr>\n    <tr>\n      <th>4</th>\n      <td>Walgreen Boots</td>\n      <td>78924</td>\n      <td>8,002.00</td>\n      <td>9.81</td>\n      <td>-0.01</td>\n      <td>Drug Stores</td>\n      <td>9.86</td>\n      <td>No</td>\n    </tr>\n    <tr>\n      <th>17</th>\n      <td>TJX</td>\n      <td>25012</td>\n      <td>2,770.00</td>\n      <td>9.37</td>\n      <td>0.08</td>\n      <td>Apparel</td>\n      <td>9.03</td>\n      <td>Yes</td>\n    </tr>\n    <tr>\n      <th>5</th>\n      <td>CVS incl. Target</td>\n      <td>77792</td>\n      <td>9,813.00</td>\n      <td>8.83</td>\n      <td>0.26</td>\n      <td>Drug Stores</td>\n      <td>7.93</td>\n      <td>No</td>\n    </tr>\n    <tr>\n      <th>14</th>\n      <td>Rite Aid</td>\n      <td>27486</td>\n      <td>4,553.00</td>\n      <td>6.03</td>\n      <td>-0.00</td>\n      <td>Drug Stores</td>\n      <td>6.04</td>\n      <td>No</td>\n    </tr>\n    <tr>\n      <th>19</th>\n      <td>Dollar General</td>\n      <td>22234</td>\n      <td>13,350.00</td>\n      <td>1.77</td>\n      <td>0.13</td>\n      <td>Dollar Stores</td>\n      <td>1.67</td>\n      <td>No</td>\n    </tr>\n    <tr>\n      <th>20</th>\n      <td>Dollar Tree</td>\n      <td>21464</td>\n      <td>14,250.00</td>\n      <td>1.56</td>\n      <td>0.08</td>\n      <td>Dollar Stores</td>\n      <td>1.51</td>\n      <td>No</td>\n    </tr>\n    <tr>\n      <th>6</th>\n      <td>Amazon</td>\n      <td>71687</td>\n      <td>NaN</td>\n      <td>NaN</td>\n      <td>NaN</td>\n      <td>Electronic/Mail Order</td>\n      <td>NaN</td>\n      <td>Yes</td>\n    </tr>\n    <tr>\n      <th>11</th>\n      <td>Apple incl. Online</td>\n      <td>37664</td>\n      <td>NaN</td>\n      <td>NaN</td>\n      <td>NaN</td>\n      <td>NaN</td>\n      <td>NaN</td>\n      <td>Yes</td>\n    </tr>\n  </tbody>\n</table>\n</div>"
     },
     "metadata": {}
    }
   ]
  },
  {
   "cell_type": "markdown",
   "source": "## 10. ¿Que dispersión de ventas encontramos entre los 25 principales retailers de USA? ",
   "metadata": {
    "cell_id": "47655756-57e8-4fcb-81bb-556a327c5ed4",
    "tags": [],
    "deepnote_cell_height": 110,
    "deepnote_cell_type": "markdown"
   }
  },
  {
   "cell_type": "markdown",
   "source": "El rango de ventas ya lo hemos encontrado mas arriba por lo que lo traemos nuevamente. Pero a este dato le vamos a agregar el calulo del rango intercuartil, la desviación estandar y graficaremos la dispersión de ventas con un boxplot.",
   "metadata": {
    "cell_id": "0d56e009-6e06-4c03-8457-4f5fc9701538",
    "tags": [],
    "deepnote_cell_height": 74.796875,
    "deepnote_cell_type": "markdown"
   }
  },
  {
   "cell_type": "code",
   "metadata": {
    "cell_id": "52ea290f-004f-4aaa-8e1a-0d0908996b0a",
    "tags": [],
    "deepnote_to_be_reexecuted": false,
    "source_hash": "df773563",
    "execution_start": 1645124105093,
    "execution_millis": 4,
    "deepnote_output_heights": [
     21.1875
    ],
    "deepnote_cell_height": 136.1875,
    "deepnote_cell_type": "code"
   },
   "source": "range_sales = df_sorted['Sales'].max() - df_sorted['Sales'].min()\nrange_sales",
   "execution_count": null,
   "outputs": [
    {
     "output_type": "execute_result",
     "execution_count": 84,
     "data": {
      "text/plain": "641527"
     },
     "metadata": {}
    }
   ]
  },
  {
   "cell_type": "code",
   "metadata": {
    "cell_id": "ee5b0e31-5a49-4210-bf60-edec2af23686",
    "tags": [],
    "deepnote_to_be_reexecuted": false,
    "source_hash": "665dcc81",
    "execution_start": 1645124107371,
    "execution_millis": 13,
    "deepnote_output_heights": [
     21.1875
    ],
    "deepnote_cell_height": 226.1875,
    "deepnote_cell_type": "code"
   },
   "source": "Q1 = df_sorted['Sales'].quantile(0.25)\nMedian = df_sorted['Sales'].median()\nQ2 = df_sorted['Sales'].quantile(0.5)\nQ3 = df_sorted['Sales'].quantile(0.75)\nMin = df_sorted[\"Sales\"].min()\nMax = df_sorted[\"Sales\"].max()\n[Min, Q1, Median, Q2, Q3, Max]",
   "execution_count": null,
   "outputs": [
    {
     "output_type": "execute_result",
     "execution_count": 85,
     "data": {
      "text/plain": "[16592, 24402.0, 34980.0, 34980.0, 71687.0, 658119]"
     },
     "metadata": {}
    }
   ]
  },
  {
   "cell_type": "code",
   "metadata": {
    "cell_id": "7640ab5d-3ce1-4c1d-bea0-f71e5129e03b",
    "tags": [],
    "deepnote_to_be_reexecuted": false,
    "source_hash": "451e9558",
    "execution_start": 1645124109570,
    "execution_millis": 7,
    "deepnote_output_heights": [
     21.1875
    ],
    "deepnote_cell_height": 136.1875,
    "deepnote_cell_type": "code"
   },
   "source": "iqr = Q3 - Q1\niqr ",
   "execution_count": null,
   "outputs": [
    {
     "output_type": "execute_result",
     "execution_count": 86,
     "data": {
      "text/plain": "47285.0"
     },
     "metadata": {}
    }
   ]
  },
  {
   "cell_type": "code",
   "metadata": {
    "cell_id": "c858443e-1f59-4fcf-a495-a9fd73ab9bfb",
    "tags": [],
    "deepnote_to_be_reexecuted": false,
    "source_hash": "36cfb633",
    "execution_start": 1645124128525,
    "execution_millis": 25,
    "deepnote_output_heights": [
     21.1875
    ],
    "deepnote_cell_height": 118.1875,
    "deepnote_cell_type": "code"
   },
   "source": "df_sorted['Sales'].std()",
   "execution_count": null,
   "outputs": [
    {
     "output_type": "execute_result",
     "execution_count": 87,
     "data": {
      "text/plain": "125405.72764395573"
     },
     "metadata": {}
    }
   ]
  },
  {
   "cell_type": "code",
   "metadata": {
    "cell_id": "d840edc1-c5c6-4d28-8314-7909f9d03a4a",
    "tags": [],
    "deepnote_to_be_reexecuted": false,
    "source_hash": "474fbb8b",
    "execution_start": 1645124003865,
    "execution_millis": 447,
    "deepnote_output_heights": [
     null,
     21.1875,
     542
    ],
    "deepnote_cell_height": 833.984375,
    "deepnote_cell_type": "code"
   },
   "source": "sns.set(rc={'figure.figsize':(13,9)})\nf, (ax_hist, ax_box) = plt.subplots(2, sharex=True, gridspec_kw={\"height_ratios\": (.6, .4)})\nsns.histplot(df_sorted['Sales'], ax=ax_hist)\nsns.boxplot(df_sorted['Sales'], ax=ax_box)\nax_hist.set(xlabel='')",
   "execution_count": null,
   "outputs": [
    {
     "name": "stderr",
     "text": "/shared-libs/python3.7/py/lib/python3.7/site-packages/seaborn/_decorators.py:43: FutureWarning: Pass the following variable as a keyword arg: x. From version 0.12, the only valid positional argument will be `data`, and passing other arguments without an explicit keyword will result in an error or misinterpretation.\n  FutureWarning\n",
     "output_type": "stream"
    },
    {
     "output_type": "execute_result",
     "execution_count": 81,
     "data": {
      "text/plain": "[Text(0.5, 0, '')]"
     },
     "metadata": {}
    },
    {
     "data": {
      "text/plain": "<Figure size 936x648 with 2 Axes>",
      "image/png": "[encoded data removed]"
     },
     "metadata": {
      "image/png": {
       "width": 780,
       "height": 540
      }
     },
     "output_type": "display_data"
    }
   ]
  },
  {
   "cell_type": "markdown",
   "source": "Como podemos observar las ventas de los 25 principales retailers de USA presentan un rango de 641527 millones de dolares, un rango intercuartil de 47285 millones de dolares y una desviación estandar de 125405,72 millones de dolares. Podemos ubicar dentro de esta dispersión a un unico outlier, el cual es claramente Walmart US. ",
   "metadata": {
    "cell_id": "45192761-968d-4c93-bec4-dd0eabeebe6f",
    "tags": [],
    "deepnote_cell_height": 98,
    "deepnote_cell_type": "markdown"
   }
  },
  {
   "cell_type": "markdown",
   "source": "### 11. ¿Que dispersión de tiendas encontramos entre los 25 principales retailers de USA? ",
   "metadata": {
    "cell_id": "83e0e566-969d-4872-b32d-915ac945a370",
    "tags": [],
    "deepnote_cell_height": 94,
    "deepnote_cell_type": "markdown"
   }
  },
  {
   "cell_type": "code",
   "metadata": {
    "cell_id": "04a6786e-fd39-4b41-b85c-0ecae003e4db",
    "tags": [],
    "deepnote_to_be_reexecuted": false,
    "source_hash": "97b2b116",
    "execution_start": 1645123950627,
    "execution_millis": 5,
    "deepnote_output_heights": [
     21.1875
    ],
    "deepnote_cell_height": 136.1875,
    "deepnote_cell_type": "code"
   },
   "source": "range_stores = df_sorted['Stores'].max() - df_sorted['Stores'].min()\nrange_stores",
   "execution_count": null,
   "outputs": [
    {
     "output_type": "execute_result",
     "execution_count": 75,
     "data": {
      "text/plain": "14019.0"
     },
     "metadata": {}
    }
   ]
  },
  {
   "cell_type": "code",
   "metadata": {
    "cell_id": "3652ad5b-2fa9-46f0-a09c-6ba20885b624",
    "tags": [],
    "deepnote_to_be_reexecuted": false,
    "source_hash": "da033489",
    "execution_start": 1645125426446,
    "execution_millis": 21,
    "deepnote_output_heights": [
     21.1875
    ],
    "deepnote_cell_height": 226.1875,
    "deepnote_cell_type": "code"
   },
   "source": "Q1_2 = df_sorted['Stores'].quantile(0.25)\nMedian_2 = df_sorted['Stores'].median()\nQ2_2 = df_sorted['Stores'].quantile(0.5)\nQ3_2 = df_sorted['Stores'].quantile(0.75)\nMin_2 = df_sorted[\"Stores\"].min()\nMax_2 = df_sorted[\"Stores\"].max()\n[Min_2, Q1_2, Median_2, Q2_2, Q3_2, Max_2]",
   "execution_count": null,
   "outputs": [
    {
     "output_type": "execute_result",
     "execution_count": 99,
     "data": {
      "text/plain": "[231.0, 1029.0, 1828.0, 1828.0, 4242.0, 14250.0]"
     },
     "metadata": {}
    }
   ]
  },
  {
   "cell_type": "code",
   "metadata": {
    "cell_id": "53fefcb5-e6fa-48b7-9f2b-d3ac512cb5eb",
    "tags": [],
    "deepnote_to_be_reexecuted": false,
    "source_hash": "451e9558",
    "execution_start": 1645123954732,
    "execution_millis": 9,
    "deepnote_output_heights": [
     21.1875
    ],
    "deepnote_cell_height": 136.1875,
    "deepnote_cell_type": "code"
   },
   "source": "iqr = Q3 - Q1\niqr ",
   "execution_count": null,
   "outputs": [
    {
     "output_type": "execute_result",
     "execution_count": 77,
     "data": {
      "text/plain": "3213.0"
     },
     "metadata": {}
    }
   ]
  },
  {
   "cell_type": "code",
   "metadata": {
    "cell_id": "8d83ef8a-da59-4034-9965-058019d44d36",
    "tags": [],
    "deepnote_to_be_reexecuted": false,
    "source_hash": "22c6283a",
    "execution_start": 1645124147233,
    "execution_millis": 16,
    "deepnote_output_heights": [
     21.1875
    ],
    "deepnote_cell_height": 118.1875,
    "deepnote_cell_type": "code"
   },
   "source": "df_sorted['Stores'].std()",
   "execution_count": null,
   "outputs": [
    {
     "output_type": "execute_result",
     "execution_count": 88,
     "data": {
      "text/plain": "4038.708713821636"
     },
     "metadata": {}
    }
   ]
  },
  {
   "cell_type": "code",
   "metadata": {
    "cell_id": "b179e5f0-f72a-4894-817f-a0d604575ba2",
    "tags": [],
    "deepnote_to_be_reexecuted": false,
    "source_hash": "47850af3",
    "execution_start": 1645124011324,
    "execution_millis": 495,
    "deepnote_output_heights": [
     null,
     21.1875,
     542
    ],
    "deepnote_cell_height": 833.984375,
    "deepnote_cell_type": "code"
   },
   "source": "sns.set(rc={'figure.figsize':(13,9)})\nf, (ax_hist, ax_box) = plt.subplots(2, sharex=True, gridspec_kw={\"height_ratios\": (.6, .4)})\nsns.histplot(df_sorted['Stores'], ax=ax_hist)\nsns.boxplot(df_sorted['Stores'], ax=ax_box)\nax_hist.set(xlabel='')",
   "execution_count": null,
   "outputs": [
    {
     "name": "stderr",
     "text": "/shared-libs/python3.7/py/lib/python3.7/site-packages/seaborn/_decorators.py:43: FutureWarning: Pass the following variable as a keyword arg: x. From version 0.12, the only valid positional argument will be `data`, and passing other arguments without an explicit keyword will result in an error or misinterpretation.\n  FutureWarning\n",
     "output_type": "stream"
    },
    {
     "output_type": "execute_result",
     "execution_count": 83,
     "data": {
      "text/plain": "[Text(0.5, 0, '')]"
     },
     "metadata": {}
    },
    {
     "data": {
      "text/plain": "<Figure size 936x648 with 2 Axes>",
      "image/png": "[encoded data removed]"
     },
     "metadata": {
      "image/png": {
       "width": 780,
       "height": 540
      }
     },
     "output_type": "display_data"
    }
   ]
  },
  {
   "cell_type": "markdown",
   "source": "Como podemos observar la cantidad de tiendas de los 25 principales retailers de USA presentan un rango de 14019 tiendas, un rango intercuartil de 3213 tiendas y una desviación estandar de 4038,70 tiendas. Podemos ubicar dentro de esta dispersión a tres outliers: Dolar Tree con 14250 tiendas, Dolar General con 13350 tiendas y CVS incl. Target con 9813 tiendas. ",
   "metadata": {
    "cell_id": "15f3ba8c-fb2d-4bff-adeb-64f7de6557aa",
    "tags": [],
    "deepnote_cell_height": 98,
    "deepnote_cell_type": "markdown"
   }
  },
  {
   "cell_type": "markdown",
   "source": "### 12. Entre las tiendas que solo venden de forma online ¿Es mayor o menor la dispersión de ventas y tiendas? ",
   "metadata": {
    "cell_id": "d5a17c31-5e8f-4d67-9679-c5705053de69",
    "tags": [],
    "deepnote_cell_height": 94,
    "deepnote_cell_type": "markdown"
   }
  },
  {
   "cell_type": "code",
   "metadata": {
    "cell_id": "b168ad4f-adf7-4f82-9126-461a1fc64b84",
    "tags": [],
    "deepnote_to_be_reexecuted": false,
    "source_hash": "c732e692",
    "execution_start": 1645125002369,
    "execution_millis": 261,
    "deepnote_cell_height": 399.796875,
    "deepnote_cell_type": "code"
   },
   "source": "df_filter",
   "execution_count": null,
   "outputs": [
    {
     "output_type": "execute_result",
     "execution_count": 91,
     "data": {
      "application/vnd.deepnote.dataframe.v3+json": {
       "column_count": 8,
       "row_count": 6,
       "columns": [
        {
         "name": "Company",
         "dtype": "object",
         "stats": {
          "unique_count": 6,
          "nan_count": 0,
          "categories": [
           {
            "name": "Kroger",
            "count": 1
           },
           {
            "name": "Amazon",
            "count": 1
           },
           {
            "name": "4 others",
            "count": 4
           }
          ]
         }
        },
        {
         "name": "Sales",
         "dtype": "int64",
         "stats": {
          "unique_count": 6,
          "nan_count": 0,
          "min": "25012",
          "max": "115037",
          "histogram": [
           {
            "bin_start": 25012,
            "bin_end": 34014.5,
            "count": 2
           },
           {
            "bin_start": 34014.5,
            "bin_end": 43017,
            "count": 2
           },
           {
            "bin_start": 43017,
            "bin_end": 52019.5,
            "count": 0
           },
           {
            "bin_start": 52019.5,
            "bin_end": 61022,
            "count": 0
           },
           {
            "bin_start": 61022,
            "bin_end": 70024.5,
            "count": 0
           },
           {
            "bin_start": 70024.5,
            "bin_end": 79027,
            "count": 1
           },
           {
            "bin_start": 79027,
            "bin_end": 88029.5,
            "count": 0
           },
           {
            "bin_start": 88029.5,
            "bin_end": 97032,
            "count": 0
           },
           {
            "bin_start": 97032,
            "bin_end": 106034.5,
            "count": 0
           },
           {
            "bin_start": 106034.5,
            "bin_end": 115037,
            "count": 1
           }
          ]
         }
        },
        {
         "name": "Stores",
         "dtype": "float64",
         "stats": {
          "unique_count": 4,
          "nan_count": 2,
          "min": "794.0",
          "max": "3931.0",
          "histogram": [
           {
            "bin_start": 794,
            "bin_end": 1107.7,
            "count": 1
           },
           {
            "bin_start": 1107.7,
            "bin_end": 1421.4,
            "count": 1
           },
           {
            "bin_start": 1421.4,
            "bin_end": 1735.1,
            "count": 0
           },
           {
            "bin_start": 1735.1,
            "bin_end": 2048.8,
            "count": 0
           },
           {
            "bin_start": 2048.8,
            "bin_end": 2362.5,
            "count": 0
           },
           {
            "bin_start": 2362.5,
            "bin_end": 2676.2,
            "count": 0
           },
           {
            "bin_start": 2676.2,
            "bin_end": 2989.9,
            "count": 1
           },
           {
            "bin_start": 2989.9,
            "bin_end": 3303.6,
            "count": 0
           },
           {
            "bin_start": 3303.6,
            "bin_end": 3617.2999999999997,
            "count": 0
           },
           {
            "bin_start": 3617.2999999999997,
            "bin_end": 3931,
            "count": 1
           }
          ]
         }
        },
        {
         "name": "Sales/Avg. Store",
         "dtype": "float64",
         "stats": {
          "unique_count": 4,
          "nan_count": 2,
          "min": "9.369544859",
          "max": "34.446863",
          "histogram": [
           {
            "bin_start": 9.369544859,
            "bin_end": 11.877276673099999,
            "count": 1
           },
           {
            "bin_start": 11.877276673099999,
            "bin_end": 14.3850084872,
            "count": 0
           },
           {
            "bin_start": 14.3850084872,
            "bin_end": 16.8927403013,
            "count": 0
           },
           {
            "bin_start": 16.8927403013,
            "bin_end": 19.4004721154,
            "count": 0
           },
           {
            "bin_start": 19.4004721154,
            "bin_end": 21.908203929499997,
            "count": 0
           },
           {
            "bin_start": 21.908203929499997,
            "bin_end": 24.415935743600002,
            "count": 0
           },
           {
            "bin_start": 24.415935743600002,
            "bin_end": 26.9236675577,
            "count": 1
           },
           {
            "bin_start": 26.9236675577,
            "bin_end": 29.431399371799998,
            "count": 0
           },
           {
            "bin_start": 29.431399371799998,
            "bin_end": 31.939131185900003,
            "count": 1
           },
           {
            "bin_start": 31.939131185900003,
            "bin_end": 34.446863,
            "count": 1
           }
          ]
         }
        },
        {
         "name": "Store Count Growth",
         "dtype": "float64",
         "stats": {
          "unique_count": 4,
          "nan_count": 2,
          "min": "-0.03875432526",
          "max": "0.07824056053",
          "histogram": [
           {
            "bin_start": -0.03875432526,
            "bin_end": -0.027054836680999998,
            "count": 1
           },
           {
            "bin_start": -0.027054836680999998,
            "bin_end": -0.015355348102,
            "count": 0
           },
           {
            "bin_start": -0.015355348102,
            "bin_end": -0.003655859523000002,
            "count": 0
           },
           {
            "bin_start": -0.003655859523000002,
            "bin_end": 0.008043629056,
            "count": 0
           },
           {
            "bin_start": 0.008043629056,
            "bin_end": 0.019743117635,
            "count": 0
           },
           {
            "bin_start": 0.019743117635,
            "bin_end": 0.031442606213999996,
            "count": 0
           },
           {
            "bin_start": 0.031442606213999996,
            "bin_end": 0.043142094793000005,
            "count": 1
           },
           {
            "bin_start": 0.043142094793000005,
            "bin_end": 0.054841583372,
            "count": 1
           },
           {
            "bin_start": 0.054841583372,
            "bin_end": 0.066541071951,
            "count": 0
           },
           {
            "bin_start": 0.066541071951,
            "bin_end": 0.07824056053,
            "count": 1
           }
          ]
         }
        },
        {
         "name": "Category",
         "dtype": "object",
         "stats": {
          "unique_count": 4,
          "nan_count": 1,
          "categories": [
           {
            "name": "Grocery",
            "count": 2
           },
           {
            "name": "3 others",
            "count": 3
           },
           {
            "name": "Missing",
            "count": 1
           }
          ]
         }
        },
        {
         "name": "Sales/Avg. Store_2",
         "dtype": "float64",
         "stats": {
          "unique_count": 4,
          "nan_count": 2,
          "min": "9.029602888086643",
          "max": "33.88287153652393",
          "histogram": [
           {
            "bin_start": 9.029602888086643,
            "bin_end": 11.514929752930371,
            "count": 1
           },
           {
            "bin_start": 11.514929752930371,
            "bin_end": 14.0002566177741,
            "count": 0
           },
           {
            "bin_start": 14.0002566177741,
            "bin_end": 16.48558348261783,
            "count": 0
           },
           {
            "bin_start": 16.48558348261783,
            "bin_end": 18.970910347461558,
            "count": 0
           },
           {
            "bin_start": 18.970910347461558,
            "bin_end": 21.456237212305286,
            "count": 0
           },
           {
            "bin_start": 21.456237212305286,
            "bin_end": 23.941564077149017,
            "count": 0
           },
           {
            "bin_start": 23.941564077149017,
            "bin_end": 26.426890941992745,
            "count": 1
           },
           {
            "bin_start": 26.426890941992745,
            "bin_end": 28.912217806836473,
            "count": 0
           },
           {
            "bin_start": 28.912217806836473,
            "bin_end": 31.3975446716802,
            "count": 1
           },
           {
            "bin_start": 31.3975446716802,
            "bin_end": 33.88287153652393,
            "count": 1
           }
          ]
         }
        },
        {
         "name": "Only online",
         "dtype": "object",
         "stats": {
          "unique_count": 1,
          "nan_count": 0,
          "categories": [
           {
            "name": "Yes",
            "count": 6
           }
          ]
         }
        },
        {
         "name": "_deepnote_index_column",
         "dtype": "int64"
        }
       ],
       "rows": [
        {
         "Company": "Kroger",
         "Sales": 115037,
         "Stores": 3931,
         "Sales/Avg. Store": 30.03184963,
         "Store Count Growth": 0.05388739946,
         "Category": "Grocery",
         "Sales/Avg. Store_2": 29.26405494785042,
         "Only online": "Yes",
         "_deepnote_index_column": 1
        },
        {
         "Company": "Amazon",
         "Sales": 71687,
         "Stores": "nan",
         "Sales/Avg. Store": "nan",
         "Store Count Growth": "nan",
         "Category": "Electronic/Mail Order",
         "Sales/Avg. Store_2": "nan",
         "Only online": "Yes",
         "_deepnote_index_column": 6
        },
        {
         "Company": "Apple incl. Online",
         "Sales": 37664,
         "Stores": "nan",
         "Sales/Avg. Store": "nan",
         "Store Count Growth": "nan",
         "Category": "nan",
         "Sales/Avg. Store_2": "nan",
         "Only online": "Yes",
         "_deepnote_index_column": 11
        },
        {
         "Company": "Best Buy",
         "Sales": 34980,
         "Stores": 1389,
         "Sales/Avg. Store": 24.68595625,
         "Store Count Growth": -0.03875432526,
         "Category": "Electronics",
         "Sales/Avg. Store_2": 25.183585313174945,
         "Only online": "Yes",
         "_deepnote_index_column": 12
        },
        {
         "Company": "Ahold",
         "Sales": 26903,
         "Stores": 794,
         "Sales/Avg. Store": 34.446863,
         "Store Count Growth": 0.03385416667,
         "Category": "Grocery",
         "Sales/Avg. Store_2": 33.88287153652393,
         "Only online": "Yes",
         "_deepnote_index_column": 15
        },
        {
         "Company": "TJX",
         "Sales": 25012,
         "Stores": 2770,
         "Sales/Avg. Store": 9.369544859,
         "Store Count Growth": 0.07824056053,
         "Category": "Apparel",
         "Sales/Avg. Store_2": 9.029602888086643,
         "Only online": "Yes",
         "_deepnote_index_column": 17
        }
       ]
      },
      "text/plain": "               Company   Sales  Stores  Sales/Avg. Store  Store Count Growth  \\\n1               Kroger  115037  3931.0         30.031850            0.053887   \n6               Amazon   71687     NaN               NaN                 NaN   \n11  Apple incl. Online   37664     NaN               NaN                 NaN   \n12            Best Buy   34980  1389.0         24.685956           -0.038754   \n15               Ahold   26903   794.0         34.446863            0.033854   \n17                 TJX   25012  2770.0          9.369545            0.078241   \n\n                 Category  Sales/Avg. Store_2 Only online  \n1                 Grocery           29.264055         Yes  \n6   Electronic/Mail Order                 NaN         Yes  \n11                    NaN                 NaN         Yes  \n12            Electronics           25.183585         Yes  \n15                Grocery           33.882872         Yes  \n17                Apparel            9.029603         Yes  ",
      "text/html": "<div>\n<style scoped>\n    .dataframe tbody tr th:only-of-type {\n        vertical-align: middle;\n    }\n\n    .dataframe tbody tr th {\n        vertical-align: top;\n    }\n\n    .dataframe thead th {\n        text-align: right;\n    }\n</style>\n<table border=\"1\" class=\"dataframe\">\n  <thead>\n    <tr style=\"text-align: right;\">\n      <th></th>\n      <th>Company</th>\n      <th>Sales</th>\n      <th>Stores</th>\n      <th>Sales/Avg. Store</th>\n      <th>Store Count Growth</th>\n      <th>Category</th>\n      <th>Sales/Avg. Store_2</th>\n      <th>Only online</th>\n    </tr>\n  </thead>\n  <tbody>\n    <tr>\n      <th>1</th>\n      <td>Kroger</td>\n      <td>115037</td>\n      <td>3931.0</td>\n      <td>30.031850</td>\n      <td>0.053887</td>\n      <td>Grocery</td>\n      <td>29.264055</td>\n      <td>Yes</td>\n    </tr>\n    <tr>\n      <th>6</th>\n      <td>Amazon</td>\n      <td>71687</td>\n      <td>NaN</td>\n      <td>NaN</td>\n      <td>NaN</td>\n      <td>Electronic/Mail Order</td>\n      <td>NaN</td>\n      <td>Yes</td>\n    </tr>\n    <tr>\n      <th>11</th>\n      <td>Apple incl. Online</td>\n      <td>37664</td>\n      <td>NaN</td>\n      <td>NaN</td>\n      <td>NaN</td>\n      <td>NaN</td>\n      <td>NaN</td>\n      <td>Yes</td>\n    </tr>\n    <tr>\n      <th>12</th>\n      <td>Best Buy</td>\n      <td>34980</td>\n      <td>1389.0</td>\n      <td>24.685956</td>\n      <td>-0.038754</td>\n      <td>Electronics</td>\n      <td>25.183585</td>\n      <td>Yes</td>\n    </tr>\n    <tr>\n      <th>15</th>\n      <td>Ahold</td>\n      <td>26903</td>\n      <td>794.0</td>\n      <td>34.446863</td>\n      <td>0.033854</td>\n      <td>Grocery</td>\n      <td>33.882872</td>\n      <td>Yes</td>\n    </tr>\n    <tr>\n      <th>17</th>\n      <td>TJX</td>\n      <td>25012</td>\n      <td>2770.0</td>\n      <td>9.369545</td>\n      <td>0.078241</td>\n      <td>Apparel</td>\n      <td>9.029603</td>\n      <td>Yes</td>\n    </tr>\n  </tbody>\n</table>\n</div>"
     },
     "metadata": {}
    }
   ]
  },
  {
   "cell_type": "code",
   "metadata": {
    "cell_id": "0f69201d-0989-4a87-aa98-b3df7d7d425f",
    "tags": [],
    "deepnote_to_be_reexecuted": false,
    "source_hash": "452d5e60",
    "execution_start": 1645125434681,
    "execution_millis": 5,
    "deepnote_output_heights": [
     21.1875
    ],
    "deepnote_cell_height": 136.1875,
    "deepnote_cell_type": "code"
   },
   "source": "range_sales = df_filter['Sales'].max() - df_filter['Sales'].min()\nrange_sales",
   "execution_count": null,
   "outputs": [
    {
     "output_type": "execute_result",
     "execution_count": 100,
     "data": {
      "text/plain": "90025"
     },
     "metadata": {}
    }
   ]
  },
  {
   "cell_type": "code",
   "metadata": {
    "cell_id": "8dd246ce-a009-48d3-9f3e-944ab0f027f0",
    "tags": [],
    "deepnote_to_be_reexecuted": false,
    "source_hash": "59c3b7d0",
    "execution_start": 1645125437669,
    "execution_millis": 11,
    "deepnote_output_heights": [
     21.1875
    ],
    "deepnote_cell_height": 136.1875,
    "deepnote_cell_type": "code"
   },
   "source": "range_stores = df_filter['Stores'].max() - df_filter['Stores'].min()\nrange_stores",
   "execution_count": null,
   "outputs": [
    {
     "output_type": "execute_result",
     "execution_count": 101,
     "data": {
      "text/plain": "3137.0"
     },
     "metadata": {}
    }
   ]
  },
  {
   "cell_type": "code",
   "metadata": {
    "cell_id": "74047676-7b5d-48c9-aa3b-6c84ff6388a3",
    "tags": [],
    "deepnote_to_be_reexecuted": false,
    "source_hash": "e4873ac1",
    "execution_start": 1645125296500,
    "execution_millis": 10,
    "deepnote_output_heights": [
     21.1875
    ],
    "deepnote_cell_height": 226.1875,
    "deepnote_cell_type": "code"
   },
   "source": "Q1 = df_filter['Sales'].quantile(0.25)\nMedian = df_filter['Sales'].median()\nQ2 = df_filter['Sales'].quantile(0.5)\nQ3 = df_filter['Sales'].quantile(0.75)\nMin = df_filter[\"Sales\"].min()\nMax = df_filter[\"Sales\"].max()\n[Min, Q1, Median, Q2, Q3, Max]",
   "execution_count": null,
   "outputs": [
    {
     "output_type": "execute_result",
     "execution_count": 97,
     "data": {
      "text/plain": "[25012, 28922.25, 36322.0, 36322.0, 63181.25, 115037]"
     },
     "metadata": {}
    }
   ]
  },
  {
   "cell_type": "code",
   "metadata": {
    "cell_id": "aa21364f-b258-4de5-9c5c-2a287e4c503f",
    "tags": [],
    "deepnote_to_be_reexecuted": false,
    "source_hash": "a15086e7",
    "execution_start": 1645125440750,
    "execution_millis": 16,
    "deepnote_output_heights": [
     21.1875
    ],
    "deepnote_cell_height": 226.1875,
    "deepnote_cell_type": "code"
   },
   "source": "Q1_2 = df_filter['Stores'].quantile(0.25)\nMedian_2 = df_filter['Stores'].median()\nQ2_2 = df_filter['Stores'].quantile(0.5)\nQ3_2 = df_filter['Stores'].quantile(0.75)\nMin_2 = df_filter[\"Stores\"].min()\nMax_2 = df_filter[\"Stores\"].max()\n[Min_2, Q1_2, Median_2, Q2_2, Q3_2, Max_2]",
   "execution_count": null,
   "outputs": [
    {
     "output_type": "execute_result",
     "execution_count": 102,
     "data": {
      "text/plain": "[794.0, 1240.25, 2079.5, 2079.5, 3060.25, 3931.0]"
     },
     "metadata": {}
    }
   ]
  },
  {
   "cell_type": "code",
   "metadata": {
    "cell_id": "0af201ed-a345-40e1-8bd6-72785301fddd",
    "tags": [],
    "deepnote_to_be_reexecuted": false,
    "source_hash": "89830b3b",
    "execution_start": 1645125462049,
    "execution_millis": 7,
    "deepnote_output_heights": [
     21.1875
    ],
    "deepnote_cell_height": 136.1875,
    "deepnote_cell_type": "code"
   },
   "source": "iqr_sales = Q3 - Q1\niqr_sales ",
   "execution_count": null,
   "outputs": [
    {
     "output_type": "execute_result",
     "execution_count": 103,
     "data": {
      "text/plain": "34259.0"
     },
     "metadata": {}
    }
   ]
  },
  {
   "cell_type": "code",
   "metadata": {
    "cell_id": "915a6781-ebec-4964-9d35-b4d314b4c4fa",
    "tags": [],
    "deepnote_to_be_reexecuted": false,
    "source_hash": "3a8eff69",
    "execution_start": 1645125487550,
    "execution_millis": 24,
    "deepnote_output_heights": [
     21.1875
    ],
    "deepnote_cell_height": 136.1875,
    "deepnote_cell_type": "code"
   },
   "source": "iqr_stores = Q3_2 - Q1_2\niqr_stores",
   "execution_count": null,
   "outputs": [
    {
     "output_type": "execute_result",
     "execution_count": 104,
     "data": {
      "text/plain": "1820.0"
     },
     "metadata": {}
    }
   ]
  },
  {
   "cell_type": "code",
   "metadata": {
    "cell_id": "27fb9722-7beb-4b25-9ad0-19690a44b49a",
    "tags": [],
    "deepnote_to_be_reexecuted": false,
    "source_hash": "16890bd5",
    "execution_start": 1645125517702,
    "execution_millis": 3,
    "deepnote_output_heights": [
     21.1875
    ],
    "deepnote_cell_height": 118.1875,
    "deepnote_cell_type": "code"
   },
   "source": "df_filter['Sales'].std()",
   "execution_count": null,
   "outputs": [
    {
     "output_type": "execute_result",
     "execution_count": 105,
     "data": {
      "text/plain": "35254.98122393487"
     },
     "metadata": {}
    }
   ]
  },
  {
   "cell_type": "code",
   "metadata": {
    "cell_id": "9002954e-111f-41fd-8c1b-3417a86fc291",
    "tags": [],
    "deepnote_to_be_reexecuted": false,
    "source_hash": "7e6c433a",
    "execution_start": 1645125525448,
    "execution_millis": 9,
    "deepnote_output_heights": [
     21.1875
    ],
    "deepnote_cell_height": 118.1875,
    "deepnote_cell_type": "code"
   },
   "source": "df_filter['Stores'].std()",
   "execution_count": null,
   "outputs": [
    {
     "output_type": "execute_result",
     "execution_count": 106,
     "data": {
      "text/plain": "1408.7883683032974"
     },
     "metadata": {}
    }
   ]
  },
  {
   "cell_type": "code",
   "metadata": {
    "cell_id": "25d32e77-e7b8-49d5-9f08-e6968aa2e86e",
    "tags": [],
    "deepnote_to_be_reexecuted": false,
    "source_hash": "c78908f4",
    "execution_start": 1645125600033,
    "execution_millis": 794,
    "deepnote_output_heights": [
     null,
     21.1875,
     542
    ],
    "deepnote_cell_height": 833.984375,
    "deepnote_cell_type": "code"
   },
   "source": "sns.set(rc={'figure.figsize':(13,9)})\nf, (ax_hist, ax_box) = plt.subplots(2, sharex=True, gridspec_kw={\"height_ratios\": (.6, .4)})\nsns.histplot(df_filter['Sales'], ax=ax_hist)\nsns.boxplot(df_filter['Sales'], ax=ax_box)\nax_hist.set(xlabel='')",
   "execution_count": null,
   "outputs": [
    {
     "name": "stderr",
     "text": "/shared-libs/python3.7/py/lib/python3.7/site-packages/seaborn/_decorators.py:43: FutureWarning: Pass the following variable as a keyword arg: x. From version 0.12, the only valid positional argument will be `data`, and passing other arguments without an explicit keyword will result in an error or misinterpretation.\n  FutureWarning\n",
     "output_type": "stream"
    },
    {
     "output_type": "execute_result",
     "execution_count": 108,
     "data": {
      "text/plain": "[Text(0.5, 0, '')]"
     },
     "metadata": {}
    },
    {
     "data": {
      "text/plain": "<Figure size 936x648 with 2 Axes>",
      "image/png": "[encoded data removed]"
     },
     "metadata": {
      "image/png": {
       "width": 783,
       "height": 540
      }
     },
     "output_type": "display_data"
    }
   ]
  },
  {
   "cell_type": "code",
   "metadata": {
    "cell_id": "8aeb5a19-c16f-4430-996b-b9ebbe2e0f0a",
    "tags": [],
    "deepnote_to_be_reexecuted": false,
    "source_hash": "f451bffd",
    "execution_start": 1645125560648,
    "execution_millis": 737,
    "deepnote_output_heights": [
     null,
     21.1875,
     542
    ],
    "deepnote_cell_height": 833.984375,
    "deepnote_cell_type": "code"
   },
   "source": "sns.set(rc={'figure.figsize':(13,9)})\nf, (ax_hist, ax_box) = plt.subplots(2, sharex=True, gridspec_kw={\"height_ratios\": (.6, .4)})\nsns.histplot(df_filter['Stores'], ax=ax_hist)\nsns.boxplot(df_filter['Stores'], ax=ax_box)\nax_hist.set(xlabel='')",
   "execution_count": null,
   "outputs": [
    {
     "name": "stderr",
     "text": "/shared-libs/python3.7/py/lib/python3.7/site-packages/seaborn/_decorators.py:43: FutureWarning: Pass the following variable as a keyword arg: x. From version 0.12, the only valid positional argument will be `data`, and passing other arguments without an explicit keyword will result in an error or misinterpretation.\n  FutureWarning\n",
     "output_type": "stream"
    },
    {
     "output_type": "execute_result",
     "execution_count": 107,
     "data": {
      "text/plain": "[Text(0.5, 0, '')]"
     },
     "metadata": {}
    },
    {
     "data": {
      "text/plain": "<Figure size 936x648 with 2 Axes>",
      "image/png": "[encoded data removed]"
     },
     "metadata": {
      "image/png": {
       "width": 790,
       "height": 540
      }
     },
     "output_type": "display_data"
    }
   ]
  },
  {
   "cell_type": "markdown",
   "source": "Podemos observar que la dispersión disminuye cuando solo miramos a aquellos retailers que operan exclusivamente online al menos en cuanto a cantidad de tiendas. En este caso estamos hablando de tiendas que no están abiertas al publico sino que funcionan como centros de almacenamiento y distribución desde donde se entregan los pedidos una vez realizados. En cuanto a ventas la dispersión también se ve disminuida, pero seguimos manteniendo un outlier entre nuestra muestra. En este caso se trata de Kroger. ",
   "metadata": {
    "cell_id": "ee142646-9f4e-4f2d-b9d8-0bc5a1e234c4",
    "tags": [],
    "deepnote_cell_height": 119.59375,
    "deepnote_cell_type": "markdown"
   }
  },
  {
   "cell_type": "markdown",
   "source": "<a style='text-decoration:none;line-height:16px;display:flex;color:#5B5B62;padding:10px;justify-content:end;' href='https://deepnote.com?utm_source=created-in-deepnote-cell&projectId=c77d4a12-dba5-4d4a-988a-9a5d203bebf9' target=\"_blank\">\n<img alt='Created in deepnote.com' style='display:inline;max-height:16px;margin:0px;margin-right:7.5px;' src='data:image/svg+xml;base64,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' > </img>\nCreated in <span style='font-weight:600;margin-left:4px;'>Deepnote</span></a>",
   "metadata": {
    "tags": [],
    "created_in_deepnote_cell": true,
    "deepnote_cell_type": "markdown"
   }
  }
 ],
 "nbformat": 4,
 "nbformat_minor": 2,
 "metadata": {
  "orig_nbformat": 2,
  "deepnote": {
   "is_reactive": false
  },
  "deepnote_notebook_id": "85b76ea9-ace4-4c85-8b21-59120be91703",
  "deepnote_execution_queue": []
 }
}