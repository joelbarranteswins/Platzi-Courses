{
 "cells": [
  {
   "cell_type": "code",
   "metadata": {
    "tags": [],
    "cell_id": "127f9776-d1fe-4c3d-a968-21fb96fd8b7a",
    "deepnote_cell_height": 117,
    "deepnote_to_be_reexecuted": false,
    "source_hash": "8ca6a091",
    "execution_start": 1645198103048,
    "execution_millis": 1525,
    "deepnote_cell_type": "code"
   },
   "source": "import pandas as pd\nimport numpy as np\nimport matplotlib.pyplot as plt",
   "outputs": [],
   "execution_count": null
  },
  {
   "cell_type": "code",
   "source": "# Creo un gráfico vacio\nfig, ax = plt.subplots()\nplt.show()",
   "metadata": {
    "cell_id": "83789ab8-73f5-47fd-9444-5def79adf48d",
    "tags": [],
    "deepnote_cell_height": 387,
    "deepnote_to_be_reexecuted": false,
    "source_hash": "c168ebec",
    "execution_start": 1645198106064,
    "execution_millis": 369,
    "deepnote_output_heights": [
     254
    ],
    "deepnote_cell_type": "code"
   },
   "outputs": [
    {
     "data": {
      "text/plain": "<Figure size 432x288 with 1 Axes>",
      "image/png": "[encoded data removed]"
     },
     "metadata": {
      "needs_background": "light",
      "image/png": {
       "width": 380,
       "height": 252
      }
     },
     "output_type": "display_data"
    }
   ],
   "execution_count": null
  },
  {
   "cell_type": "code",
   "source": "df_path = '/work/Fullmetadata.csv'\ndf = pd.read_csv(df_path)\ndf.sample(5)",
   "metadata": {
    "cell_id": "9ca05a46-f435-45b0-8dd9-e68290044d6b",
    "tags": [],
    "deepnote_cell_height": 426.796875,
    "deepnote_to_be_reexecuted": false,
    "source_hash": "d7ee8044",
    "execution_start": 1645198108311,
    "execution_millis": 542,
    "deepnote_table_state": {
     "pageSize": 10,
     "pageIndex": 0,
     "filters": [],
     "sortBy": [
      {
       "id": "player_name",
       "type": "asc"
      }
     ]
    },
    "deepnote_table_loading": false,
    "deepnote_cell_type": "code"
   },
   "outputs": [
    {
     "output_type": "execute_result",
     "execution_count": 4,
     "data": {
      "application/vnd.deepnote.dataframe.v3+json": {
       "column_count": 19,
       "row_count": 5,
       "columns": [
        {
         "name": "player_id",
         "dtype": "int64",
         "stats": {
          "unique_count": 5,
          "nan_count": 0,
          "min": "148",
          "max": "8045",
          "histogram": [
           {
            "bin_start": 148,
            "bin_end": 937.7,
            "count": 1
           },
           {
            "bin_start": 937.7,
            "bin_end": 1727.4,
            "count": 1
           },
           {
            "bin_start": 1727.4,
            "bin_end": 2517.1000000000004,
            "count": 2
           },
           {
            "bin_start": 2517.1000000000004,
            "bin_end": 3306.8,
            "count": 0
           },
           {
            "bin_start": 3306.8,
            "bin_end": 4096.5,
            "count": 0
           },
           {
            "bin_start": 4096.5,
            "bin_end": 4886.200000000001,
            "count": 0
           },
           {
            "bin_start": 4886.200000000001,
            "bin_end": 5675.900000000001,
            "count": 0
           },
           {
            "bin_start": 5675.900000000001,
            "bin_end": 6465.6,
            "count": 0
           },
           {
            "bin_start": 6465.6,
            "bin_end": 7255.3,
            "count": 0
           },
           {
            "bin_start": 7255.3,
            "bin_end": 8045,
            "count": 1
           }
          ]
         }
        },
        {
         "name": "player_name",
         "dtype": "object",
         "stats": {
          "unique_count": 5,
          "nan_count": 0,
          "categories": [
           {
            "name": "Carlos Fernández",
            "count": 1
           },
           {
            "name": "Dante",
            "count": 1
           },
           {
            "name": "3 others",
            "count": 3
           }
          ]
         }
        },
        {
         "name": "games",
         "dtype": "int64",
         "stats": {
          "unique_count": 4,
          "nan_count": 0,
          "min": "9",
          "max": "35",
          "histogram": [
           {
            "bin_start": 9,
            "bin_end": 11.6,
            "count": 1
           },
           {
            "bin_start": 11.6,
            "bin_end": 14.2,
            "count": 1
           },
           {
            "bin_start": 14.2,
            "bin_end": 16.8,
            "count": 0
           },
           {
            "bin_start": 16.8,
            "bin_end": 19.4,
            "count": 0
           },
           {
            "bin_start": 19.4,
            "bin_end": 22,
            "count": 0
           },
           {
            "bin_start": 22,
            "bin_end": 24.6,
            "count": 0
           },
           {
            "bin_start": 24.6,
            "bin_end": 27.2,
            "count": 0
           },
           {
            "bin_start": 27.2,
            "bin_end": 29.8,
            "count": 0
           },
           {
            "bin_start": 29.8,
            "bin_end": 32.400000000000006,
            "count": 0
           },
           {
            "bin_start": 32.400000000000006,
            "bin_end": 35,
            "count": 3
           }
          ]
         }
        },
        {
         "name": "time",
         "dtype": "int64",
         "stats": {
          "unique_count": 5,
          "nan_count": 0,
          "min": "778",
          "max": "3094",
          "histogram": [
           {
            "bin_start": 778,
            "bin_end": 1009.6,
            "count": 2
           },
           {
            "bin_start": 1009.6,
            "bin_end": 1241.2,
            "count": 0
           },
           {
            "bin_start": 1241.2,
            "bin_end": 1472.8,
            "count": 0
           },
           {
            "bin_start": 1472.8,
            "bin_end": 1704.4,
            "count": 0
           },
           {
            "bin_start": 1704.4,
            "bin_end": 1936,
            "count": 0
           },
           {
            "bin_start": 1936,
            "bin_end": 2167.6,
            "count": 1
           },
           {
            "bin_start": 2167.6,
            "bin_end": 2399.2,
            "count": 0
           },
           {
            "bin_start": 2399.2,
            "bin_end": 2630.8,
            "count": 0
           },
           {
            "bin_start": 2630.8,
            "bin_end": 2862.4,
            "count": 0
           },
           {
            "bin_start": 2862.4,
            "bin_end": 3094,
            "count": 2
           }
          ]
         }
        },
        {
         "name": "goals",
         "dtype": "int64",
         "stats": {
          "unique_count": 5,
          "nan_count": 0,
          "min": "0",
          "max": "11",
          "histogram": [
           {
            "bin_start": 0,
            "bin_end": 1.1,
            "count": 1
           },
           {
            "bin_start": 1.1,
            "bin_end": 2.2,
            "count": 1
           },
           {
            "bin_start": 2.2,
            "bin_end": 3.3000000000000003,
            "count": 0
           },
           {
            "bin_start": 3.3000000000000003,
            "bin_end": 4.4,
            "count": 0
           },
           {
            "bin_start": 4.4,
            "bin_end": 5.5,
            "count": 1
           },
           {
            "bin_start": 5.5,
            "bin_end": 6.6000000000000005,
            "count": 1
           },
           {
            "bin_start": 6.6000000000000005,
            "bin_end": 7.700000000000001,
            "count": 0
           },
           {
            "bin_start": 7.700000000000001,
            "bin_end": 8.8,
            "count": 0
           },
           {
            "bin_start": 8.8,
            "bin_end": 9.9,
            "count": 0
           },
           {
            "bin_start": 9.9,
            "bin_end": 11,
            "count": 1
           }
          ]
         }
        },
        {
         "name": "xG",
         "dtype": "float64",
         "stats": {
          "unique_count": 5,
          "nan_count": 0,
          "min": "0.603948175907135",
          "max": "9.81347555015236",
          "histogram": [
           {
            "bin_start": 0.603948175907135,
            "bin_end": 1.5249009133316576,
            "count": 2
           },
           {
            "bin_start": 1.5249009133316576,
            "bin_end": 2.44585365075618,
            "count": 0
           },
           {
            "bin_start": 2.44585365075618,
            "bin_end": 3.366806388180702,
            "count": 0
           },
           {
            "bin_start": 3.366806388180702,
            "bin_end": 4.287759125605225,
            "count": 0
           },
           {
            "bin_start": 4.287759125605225,
            "bin_end": 5.208711863029747,
            "count": 2
           },
           {
            "bin_start": 5.208711863029747,
            "bin_end": 6.129664600454269,
            "count": 0
           },
           {
            "bin_start": 6.129664600454269,
            "bin_end": 7.050617337878792,
            "count": 0
           },
           {
            "bin_start": 7.050617337878792,
            "bin_end": 7.9715700753033145,
            "count": 0
           },
           {
            "bin_start": 7.9715700753033145,
            "bin_end": 8.892522812727837,
            "count": 0
           },
           {
            "bin_start": 8.892522812727837,
            "bin_end": 9.81347555015236,
            "count": 1
           }
          ]
         }
        },
        {
         "name": "assists",
         "dtype": "int64",
         "stats": {
          "unique_count": 4,
          "nan_count": 0,
          "min": "0",
          "max": "4",
          "histogram": [
           {
            "bin_start": 0,
            "bin_end": 0.4,
            "count": 2
           },
           {
            "bin_start": 0.4,
            "bin_end": 0.8,
            "count": 0
           },
           {
            "bin_start": 0.8,
            "bin_end": 1.2000000000000002,
            "count": 1
           },
           {
            "bin_start": 1.2000000000000002,
            "bin_end": 1.6,
            "count": 0
           },
           {
            "bin_start": 1.6,
            "bin_end": 2,
            "count": 0
           },
           {
            "bin_start": 2,
            "bin_end": 2.4000000000000004,
            "count": 0
           },
           {
            "bin_start": 2.4000000000000004,
            "bin_end": 2.8000000000000003,
            "count": 0
           },
           {
            "bin_start": 2.8000000000000003,
            "bin_end": 3.2,
            "count": 1
           },
           {
            "bin_start": 3.2,
            "bin_end": 3.6,
            "count": 0
           },
           {
            "bin_start": 3.6,
            "bin_end": 4,
            "count": 1
           }
          ]
         }
        },
        {
         "name": "xA",
         "dtype": "float64",
         "stats": {
          "unique_count": 5,
          "nan_count": 0,
          "min": "0.222609508782625",
          "max": "2.97053716704249",
          "histogram": [
           {
            "bin_start": 0.222609508782625,
            "bin_end": 0.4974022746086114,
            "count": 2
           },
           {
            "bin_start": 0.4974022746086114,
            "bin_end": 0.7721950404345979,
            "count": 0
           },
           {
            "bin_start": 0.7721950404345979,
            "bin_end": 1.0469878062605844,
            "count": 0
           },
           {
            "bin_start": 1.0469878062605844,
            "bin_end": 1.3217805720865707,
            "count": 1
           },
           {
            "bin_start": 1.3217805720865707,
            "bin_end": 1.596573337912557,
            "count": 0
           },
           {
            "bin_start": 1.596573337912557,
            "bin_end": 1.8713661037385436,
            "count": 0
           },
           {
            "bin_start": 1.8713661037385436,
            "bin_end": 2.1461588695645304,
            "count": 0
           },
           {
            "bin_start": 2.1461588695645304,
            "bin_end": 2.4209516353905167,
            "count": 0
           },
           {
            "bin_start": 2.4209516353905167,
            "bin_end": 2.695744401216503,
            "count": 0
           },
           {
            "bin_start": 2.695744401216503,
            "bin_end": 2.97053716704249,
            "count": 2
           }
          ]
         }
        },
        {
         "name": "shots",
         "dtype": "int64",
         "stats": {
          "unique_count": 5,
          "nan_count": 0,
          "min": "2",
          "max": "64",
          "histogram": [
           {
            "bin_start": 2,
            "bin_end": 8.2,
            "count": 2
           },
           {
            "bin_start": 8.2,
            "bin_end": 14.4,
            "count": 0
           },
           {
            "bin_start": 14.4,
            "bin_end": 20.6,
            "count": 0
           },
           {
            "bin_start": 20.6,
            "bin_end": 26.8,
            "count": 0
           },
           {
            "bin_start": 26.8,
            "bin_end": 33,
            "count": 0
           },
           {
            "bin_start": 33,
            "bin_end": 39.2,
            "count": 0
           },
           {
            "bin_start": 39.2,
            "bin_end": 45.4,
            "count": 1
           },
           {
            "bin_start": 45.4,
            "bin_end": 51.6,
            "count": 1
           },
           {
            "bin_start": 51.6,
            "bin_end": 57.800000000000004,
            "count": 0
           },
           {
            "bin_start": 57.800000000000004,
            "bin_end": 64,
            "count": 1
           }
          ]
         }
        },
        {
         "name": "key_passes",
         "dtype": "int64",
         "stats": {
          "unique_count": 4,
          "nan_count": 0,
          "min": "2",
          "max": "52",
          "histogram": [
           {
            "bin_start": 2,
            "bin_end": 7,
            "count": 2
           },
           {
            "bin_start": 7,
            "bin_end": 12,
            "count": 0
           },
           {
            "bin_start": 12,
            "bin_end": 17,
            "count": 1
           },
           {
            "bin_start": 17,
            "bin_end": 22,
            "count": 1
           },
           {
            "bin_start": 22,
            "bin_end": 27,
            "count": 0
           },
           {
            "bin_start": 27,
            "bin_end": 32,
            "count": 0
           },
           {
            "bin_start": 32,
            "bin_end": 37,
            "count": 0
           },
           {
            "bin_start": 37,
            "bin_end": 42,
            "count": 0
           },
           {
            "bin_start": 42,
            "bin_end": 47,
            "count": 0
           },
           {
            "bin_start": 47,
            "bin_end": 52,
            "count": 1
           }
          ]
         }
        },
        {
         "name": "yellow_cards",
         "dtype": "int64",
         "stats": {
          "unique_count": 5,
          "nan_count": 0,
          "min": "1",
          "max": "10",
          "histogram": [
           {
            "bin_start": 1,
            "bin_end": 1.9,
            "count": 1
           },
           {
            "bin_start": 1.9,
            "bin_end": 2.8,
            "count": 1
           },
           {
            "bin_start": 2.8,
            "bin_end": 3.7,
            "count": 0
           },
           {
            "bin_start": 3.7,
            "bin_end": 4.6,
            "count": 0
           },
           {
            "bin_start": 4.6,
            "bin_end": 5.5,
            "count": 1
           },
           {
            "bin_start": 5.5,
            "bin_end": 6.4,
            "count": 0
           },
           {
            "bin_start": 6.4,
            "bin_end": 7.3,
            "count": 0
           },
           {
            "bin_start": 7.3,
            "bin_end": 8.2,
            "count": 1
           },
           {
            "bin_start": 8.2,
            "bin_end": 9.1,
            "count": 0
           },
           {
            "bin_start": 9.1,
            "bin_end": 10,
            "count": 1
           }
          ]
         }
        },
        {
         "name": "red_cards",
         "dtype": "int64",
         "stats": {
          "unique_count": 2,
          "nan_count": 0,
          "min": "0",
          "max": "1",
          "histogram": [
           {
            "bin_start": 0,
            "bin_end": 0.1,
            "count": 4
           },
           {
            "bin_start": 0.1,
            "bin_end": 0.2,
            "count": 0
           },
           {
            "bin_start": 0.2,
            "bin_end": 0.30000000000000004,
            "count": 0
           },
           {
            "bin_start": 0.30000000000000004,
            "bin_end": 0.4,
            "count": 0
           },
           {
            "bin_start": 0.4,
            "bin_end": 0.5,
            "count": 0
           },
           {
            "bin_start": 0.5,
            "bin_end": 0.6000000000000001,
            "count": 0
           },
           {
            "bin_start": 0.6000000000000001,
            "bin_end": 0.7000000000000001,
            "count": 0
           },
           {
            "bin_start": 0.7000000000000001,
            "bin_end": 0.8,
            "count": 0
           },
           {
            "bin_start": 0.8,
            "bin_end": 0.9,
            "count": 0
           },
           {
            "bin_start": 0.9,
            "bin_end": 1,
            "count": 1
           }
          ]
         }
        },
        {
         "name": "position",
         "dtype": "object",
         "stats": {
          "unique_count": 5,
          "nan_count": 0,
          "categories": [
           {
            "name": "F M S",
            "count": 1
           },
           {
            "name": "D",
            "count": 1
           },
           {
            "name": "3 others",
            "count": 3
           }
          ]
         }
        },
        {
         "name": "team_name",
         "dtype": "object",
         "stats": {
          "unique_count": 5,
          "nan_count": 0,
          "categories": [
           {
            "name": "Granada",
            "count": 1
           },
           {
            "name": "Nice",
            "count": 1
           },
           {
            "name": "3 others",
            "count": 3
           }
          ]
         }
        },
        {
         "name": "npg",
         "dtype": "int64",
         "stats": {
          "unique_count": 5,
          "nan_count": 0,
          "min": "0",
          "max": "10",
          "histogram": [
           {
            "bin_start": 0,
            "bin_end": 1,
            "count": 1
           },
           {
            "bin_start": 1,
            "bin_end": 2,
            "count": 0
           },
           {
            "bin_start": 2,
            "bin_end": 3,
            "count": 1
           },
           {
            "bin_start": 3,
            "bin_end": 4,
            "count": 0
           },
           {
            "bin_start": 4,
            "bin_end": 5,
            "count": 1
           },
           {
            "bin_start": 5,
            "bin_end": 6,
            "count": 1
           },
           {
            "bin_start": 6,
            "bin_end": 7,
            "count": 0
           },
           {
            "bin_start": 7,
            "bin_end": 8,
            "count": 0
           },
           {
            "bin_start": 8,
            "bin_end": 9,
            "count": 0
           },
           {
            "bin_start": 9,
            "bin_end": 10,
            "count": 1
           }
          ]
         }
        },
        {
         "name": "npxG",
         "dtype": "float64",
         "stats": {
          "unique_count": 5,
          "nan_count": 0,
          "min": "0.603948175907135",
          "max": "9.07019788119942",
          "histogram": [
           {
            "bin_start": 0.603948175907135,
            "bin_end": 1.4505731464363634,
            "count": 2
           },
           {
            "bin_start": 1.4505731464363634,
            "bin_end": 2.2971981169655917,
            "count": 0
           },
           {
            "bin_start": 2.2971981169655917,
            "bin_end": 3.1438230874948205,
            "count": 0
           },
           {
            "bin_start": 3.1438230874948205,
            "bin_end": 3.990448058024049,
            "count": 1
           },
           {
            "bin_start": 3.990448058024049,
            "bin_end": 4.837073028553277,
            "count": 1
           },
           {
            "bin_start": 4.837073028553277,
            "bin_end": 5.683697999082506,
            "count": 0
           },
           {
            "bin_start": 5.683697999082506,
            "bin_end": 6.530322969611734,
            "count": 0
           },
           {
            "bin_start": 6.530322969611734,
            "bin_end": 7.376947940140963,
            "count": 0
           },
           {
            "bin_start": 7.376947940140963,
            "bin_end": 8.223572910670192,
            "count": 0
           },
           {
            "bin_start": 8.223572910670192,
            "bin_end": 9.07019788119942,
            "count": 1
           }
          ]
         }
        },
        {
         "name": "xGChain",
         "dtype": "float64",
         "stats": {
          "unique_count": 5,
          "nan_count": 0,
          "min": "1.81432784255594",
          "max": "14.9565909877419",
          "histogram": [
           {
            "bin_start": 1.81432784255594,
            "bin_end": 3.128554157074536,
            "count": 1
           },
           {
            "bin_start": 3.128554157074536,
            "bin_end": 4.442780471593132,
            "count": 0
           },
           {
            "bin_start": 4.442780471593132,
            "bin_end": 5.757006786111728,
            "count": 1
           },
           {
            "bin_start": 5.757006786111728,
            "bin_end": 7.071233100630324,
            "count": 0
           },
           {
            "bin_start": 7.071233100630324,
            "bin_end": 8.385459415148919,
            "count": 0
           },
           {
            "bin_start": 8.385459415148919,
            "bin_end": 9.699685729667516,
            "count": 0
           },
           {
            "bin_start": 9.699685729667516,
            "bin_end": 11.013912044186112,
            "count": 0
           },
           {
            "bin_start": 11.013912044186112,
            "bin_end": 12.328138358704708,
            "count": 0
           },
           {
            "bin_start": 12.328138358704708,
            "bin_end": 13.642364673223303,
            "count": 2
           },
           {
            "bin_start": 13.642364673223303,
            "bin_end": 14.9565909877419,
            "count": 1
           }
          ]
         }
        },
        {
         "name": "xGBuildup",
         "dtype": "float64",
         "stats": {
          "unique_count": 5,
          "nan_count": 0,
          "min": "1.78641397412866",
          "max": "12.7842099471018",
          "histogram": [
           {
            "bin_start": 1.78641397412866,
            "bin_end": 2.886193571425974,
            "count": 2
           },
           {
            "bin_start": 2.886193571425974,
            "bin_end": 3.985973168723288,
            "count": 0
           },
           {
            "bin_start": 3.985973168723288,
            "bin_end": 5.085752766020603,
            "count": 1
           },
           {
            "bin_start": 5.085752766020603,
            "bin_end": 6.1855323633179164,
            "count": 0
           },
           {
            "bin_start": 6.1855323633179164,
            "bin_end": 7.28531196061523,
            "count": 1
           },
           {
            "bin_start": 7.28531196061523,
            "bin_end": 8.385091557912546,
            "count": 0
           },
           {
            "bin_start": 8.385091557912546,
            "bin_end": 9.48487115520986,
            "count": 0
           },
           {
            "bin_start": 9.48487115520986,
            "bin_end": 10.584650752507173,
            "count": 0
           },
           {
            "bin_start": 10.584650752507173,
            "bin_end": 11.684430349804487,
            "count": 0
           },
           {
            "bin_start": 11.684430349804487,
            "bin_end": 12.7842099471018,
            "count": 1
           }
          ]
         }
        },
        {
         "name": "year",
         "dtype": "int64",
         "stats": {
          "unique_count": 3,
          "nan_count": 0,
          "min": "2015",
          "max": "2020",
          "histogram": [
           {
            "bin_start": 2015,
            "bin_end": 2015.5,
            "count": 1
           },
           {
            "bin_start": 2015.5,
            "bin_end": 2016,
            "count": 0
           },
           {
            "bin_start": 2016,
            "bin_end": 2016.5,
            "count": 0
           },
           {
            "bin_start": 2016.5,
            "bin_end": 2017,
            "count": 0
           },
           {
            "bin_start": 2017,
            "bin_end": 2017.5,
            "count": 0
           },
           {
            "bin_start": 2017.5,
            "bin_end": 2018,
            "count": 0
           },
           {
            "bin_start": 2018,
            "bin_end": 2018.5,
            "count": 0
           },
           {
            "bin_start": 2018.5,
            "bin_end": 2019,
            "count": 0
           },
           {
            "bin_start": 2019,
            "bin_end": 2019.5,
            "count": 3
           },
           {
            "bin_start": 2019.5,
            "bin_end": 2020,
            "count": 1
           }
          ]
         }
        },
        {
         "name": "_deepnote_index_column",
         "dtype": "int64"
        }
       ],
       "rows": [
        {
         "player_id": 2070,
         "player_name": "Carlos Fernández",
         "games": 34,
         "time": 2165,
         "goals": 11,
         "xG": 9.81347555015236,
         "assists": 3,
         "xA": 2.91370069701225,
         "shots": 47,
         "key_passes": 20,
         "yellow_cards": 8,
         "red_cards": 0,
         "position": "F M S",
         "team_name": "Granada",
         "npg": 10,
         "npxG": 9.07019788119942,
         "xGChain": 13.3516306094825,
         "xGBuildup": 2.69364711269736,
         "year": 2019,
         "_deepnote_index_column": 3243
        },
        {
         "player_id": 148,
         "player_name": "Dante",
         "games": 9,
         "time": 778,
         "goals": 2,
         "xG": 0.905877381563187,
         "assists": 1,
         "xA": 0.410047743469477,
         "shots": 7,
         "key_passes": 2,
         "yellow_cards": 2,
         "red_cards": 0,
         "position": "D",
         "team_name": "Nice",
         "npg": 2,
         "npxG": 0.905877381563187,
         "xGChain": 1.81432784255594,
         "xGBuildup": 1.78641397412866,
         "year": 2020,
         "_deepnote_index_column": 1605
        },
        {
         "player_id": 8045,
         "player_name": "Eric Garcia",
         "games": 13,
         "time": 780,
         "goals": 0,
         "xG": 0.603948175907135,
         "assists": 0,
         "xA": 0.222609508782625,
         "shots": 2,
         "key_passes": 2,
         "yellow_cards": 1,
         "red_cards": 0,
         "position": "D S",
         "team_name": "Manchester City",
         "npg": 0,
         "npxG": 0.603948175907135,
         "xGChain": 4.96490088105202,
         "xGBuildup": 4.96490088105202,
         "year": 2019,
         "_deepnote_index_column": 2729
        },
        {
         "player_id": 1386,
         "player_name": "Piotr Zielinski",
         "games": 35,
         "time": 3040,
         "goals": 5,
         "xG": 4.4241261202842,
         "assists": 4,
         "xA": 2.97053716704249,
         "shots": 64,
         "key_passes": 52,
         "yellow_cards": 5,
         "red_cards": 1,
         "position": "M",
         "team_name": "Empoli",
         "npg": 5,
         "npxG": 4.4241261202842,
         "xGChain": 12.5347634591162,
         "xGBuildup": 7.08279496245086,
         "year": 2015,
         "_deepnote_index_column": 14696
        },
        {
         "player_id": 2266,
         "player_name": "Saúl Ñíguez",
         "games": 35,
         "time": 3094,
         "goals": 6,
         "xG": 5.03997732512653,
         "assists": 0,
         "xA": 1.07403781171888,
         "shots": 44,
         "key_passes": 15,
         "yellow_cards": 10,
         "red_cards": 0,
         "position": "D M",
         "team_name": "Atletico Madrid",
         "npg": 4,
         "npxG": 3.55342210642993,
         "xGChain": 14.9565909877419,
         "xGBuildup": 12.7842099471018,
         "year": 2019,
         "_deepnote_index_column": 2995
        }
       ]
      },
      "text/plain": "       player_id       player_name  games  time  goals        xG  assists  \\\n1605         148             Dante      9   778      2  0.905877        1   \n14696       1386   Piotr Zielinski     35  3040      5  4.424126        4   \n2995        2266       Saúl Ñíguez     35  3094      6  5.039977        0   \n3243        2070  Carlos Fernández     34  2165     11  9.813476        3   \n2729        8045       Eric Garcia     13   780      0  0.603948        0   \n\n             xA  shots  key_passes  yellow_cards  red_cards position  \\\n1605   0.410048      7           2             2          0        D   \n14696  2.970537     64          52             5          1        M   \n2995   1.074038     44          15            10          0      D M   \n3243   2.913701     47          20             8          0    F M S   \n2729   0.222610      2           2             1          0      D S   \n\n             team_name  npg      npxG    xGChain  xGBuildup  year  \n1605              Nice    2  0.905877   1.814328   1.786414  2020  \n14696           Empoli    5  4.424126  12.534763   7.082795  2015  \n2995   Atletico Madrid    4  3.553422  14.956591  12.784210  2019  \n3243           Granada   10  9.070198  13.351631   2.693647  2019  \n2729   Manchester City    0  0.603948   4.964901   4.964901  2019  ",
      "text/html": "<div>\n<style scoped>\n    .dataframe tbody tr th:only-of-type {\n        vertical-align: middle;\n    }\n\n    .dataframe tbody tr th {\n        vertical-align: top;\n    }\n\n    .dataframe thead th {\n        text-align: right;\n    }\n</style>\n<table border=\"1\" class=\"dataframe\">\n  <thead>\n    <tr style=\"text-align: right;\">\n      <th></th>\n      <th>player_id</th>\n      <th>player_name</th>\n      <th>games</th>\n      <th>time</th>\n      <th>goals</th>\n      <th>xG</th>\n      <th>assists</th>\n      <th>xA</th>\n      <th>shots</th>\n      <th>key_passes</th>\n      <th>yellow_cards</th>\n      <th>red_cards</th>\n      <th>position</th>\n      <th>team_name</th>\n      <th>npg</th>\n      <th>npxG</th>\n      <th>xGChain</th>\n      <th>xGBuildup</th>\n      <th>year</th>\n    </tr>\n  </thead>\n  <tbody>\n    <tr>\n      <th>1605</th>\n      <td>148</td>\n      <td>Dante</td>\n      <td>9</td>\n      <td>778</td>\n      <td>2</td>\n      <td>0.905877</td>\n      <td>1</td>\n      <td>0.410048</td>\n      <td>7</td>\n      <td>2</td>\n      <td>2</td>\n      <td>0</td>\n      <td>D</td>\n      <td>Nice</td>\n      <td>2</td>\n      <td>0.905877</td>\n      <td>1.814328</td>\n      <td>1.786414</td>\n      <td>2020</td>\n    </tr>\n    <tr>\n      <th>14696</th>\n      <td>1386</td>\n      <td>Piotr Zielinski</td>\n      <td>35</td>\n      <td>3040</td>\n      <td>5</td>\n      <td>4.424126</td>\n      <td>4</td>\n      <td>2.970537</td>\n      <td>64</td>\n      <td>52</td>\n      <td>5</td>\n      <td>1</td>\n      <td>M</td>\n      <td>Empoli</td>\n      <td>5</td>\n      <td>4.424126</td>\n      <td>12.534763</td>\n      <td>7.082795</td>\n      <td>2015</td>\n    </tr>\n    <tr>\n      <th>2995</th>\n      <td>2266</td>\n      <td>Saúl Ñíguez</td>\n      <td>35</td>\n      <td>3094</td>\n      <td>6</td>\n      <td>5.039977</td>\n      <td>0</td>\n      <td>1.074038</td>\n      <td>44</td>\n      <td>15</td>\n      <td>10</td>\n      <td>0</td>\n      <td>D M</td>\n      <td>Atletico Madrid</td>\n      <td>4</td>\n      <td>3.553422</td>\n      <td>14.956591</td>\n      <td>12.784210</td>\n      <td>2019</td>\n    </tr>\n    <tr>\n      <th>3243</th>\n      <td>2070</td>\n      <td>Carlos Fernández</td>\n      <td>34</td>\n      <td>2165</td>\n      <td>11</td>\n      <td>9.813476</td>\n      <td>3</td>\n      <td>2.913701</td>\n      <td>47</td>\n      <td>20</td>\n      <td>8</td>\n      <td>0</td>\n      <td>F M S</td>\n      <td>Granada</td>\n      <td>10</td>\n      <td>9.070198</td>\n      <td>13.351631</td>\n      <td>2.693647</td>\n      <td>2019</td>\n    </tr>\n    <tr>\n      <th>2729</th>\n      <td>8045</td>\n      <td>Eric Garcia</td>\n      <td>13</td>\n      <td>780</td>\n      <td>0</td>\n      <td>0.603948</td>\n      <td>0</td>\n      <td>0.222610</td>\n      <td>2</td>\n      <td>2</td>\n      <td>1</td>\n      <td>0</td>\n      <td>D S</td>\n      <td>Manchester City</td>\n      <td>0</td>\n      <td>0.603948</td>\n      <td>4.964901</td>\n      <td>4.964901</td>\n      <td>2019</td>\n    </tr>\n  </tbody>\n</table>\n</div>"
     },
     "metadata": {}
    }
   ],
   "execution_count": null
  },
  {
   "cell_type": "code",
   "source": "messi_goals = df[(df['player_name'] == 'Lionel Messi') & (df['year'] != '2020')]\nmessi_goals",
   "metadata": {
    "cell_id": "095b1c61-5b93-46bc-aa75-a42f3225f315",
    "tags": [],
    "deepnote_cell_height": 458.796875,
    "deepnote_to_be_reexecuted": false,
    "source_hash": "1aa55abb",
    "execution_start": 1645198111796,
    "execution_millis": 84,
    "deepnote_cell_type": "code"
   },
   "outputs": [
    {
     "output_type": "execute_result",
     "execution_count": 5,
     "data": {
      "application/vnd.deepnote.dataframe.v3+json": {
       "column_count": 19,
       "row_count": 7,
       "columns": [
        {
         "name": "player_id",
         "dtype": "int64",
         "stats": {
          "unique_count": 1,
          "nan_count": 0,
          "min": "2097",
          "max": "2097",
          "histogram": [
           {
            "bin_start": 2096.5,
            "bin_end": 2096.6,
            "count": 0
           },
           {
            "bin_start": 2096.6,
            "bin_end": 2096.7,
            "count": 0
           },
           {
            "bin_start": 2096.7,
            "bin_end": 2096.8,
            "count": 0
           },
           {
            "bin_start": 2096.8,
            "bin_end": 2096.9,
            "count": 0
           },
           {
            "bin_start": 2096.9,
            "bin_end": 2097,
            "count": 0
           },
           {
            "bin_start": 2097,
            "bin_end": 2097.1,
            "count": 7
           },
           {
            "bin_start": 2097.1,
            "bin_end": 2097.2,
            "count": 0
           },
           {
            "bin_start": 2097.2,
            "bin_end": 2097.3,
            "count": 0
           },
           {
            "bin_start": 2097.3,
            "bin_end": 2097.4,
            "count": 0
           },
           {
            "bin_start": 2097.4,
            "bin_end": 2097.5,
            "count": 0
           }
          ]
         }
        },
        {
         "name": "player_name",
         "dtype": "object",
         "stats": {
          "unique_count": 1,
          "nan_count": 0,
          "categories": [
           {
            "name": "Lionel Messi",
            "count": 7
           }
          ]
         }
        },
        {
         "name": "games",
         "dtype": "int64",
         "stats": {
          "unique_count": 5,
          "nan_count": 0,
          "min": "10",
          "max": "38",
          "histogram": [
           {
            "bin_start": 10,
            "bin_end": 12.8,
            "count": 1
           },
           {
            "bin_start": 12.8,
            "bin_end": 15.6,
            "count": 0
           },
           {
            "bin_start": 15.6,
            "bin_end": 18.4,
            "count": 0
           },
           {
            "bin_start": 18.4,
            "bin_end": 21.2,
            "count": 0
           },
           {
            "bin_start": 21.2,
            "bin_end": 24,
            "count": 0
           },
           {
            "bin_start": 24,
            "bin_end": 26.799999999999997,
            "count": 0
           },
           {
            "bin_start": 26.799999999999997,
            "bin_end": 29.599999999999998,
            "count": 0
           },
           {
            "bin_start": 29.599999999999998,
            "bin_end": 32.4,
            "count": 0
           },
           {
            "bin_start": 32.4,
            "bin_end": 35.2,
            "count": 4
           },
           {
            "bin_start": 35.2,
            "bin_end": 38,
            "count": 2
           }
          ]
         }
        },
        {
         "name": "time",
         "dtype": "int64",
         "stats": {
          "unique_count": 7,
          "nan_count": 0,
          "min": "851",
          "max": "3374",
          "histogram": [
           {
            "bin_start": 851,
            "bin_end": 1103.3,
            "count": 1
           },
           {
            "bin_start": 1103.3,
            "bin_end": 1355.6,
            "count": 0
           },
           {
            "bin_start": 1355.6,
            "bin_end": 1607.9,
            "count": 0
           },
           {
            "bin_start": 1607.9,
            "bin_end": 1860.2,
            "count": 0
           },
           {
            "bin_start": 1860.2,
            "bin_end": 2112.5,
            "count": 0
           },
           {
            "bin_start": 2112.5,
            "bin_end": 2364.8,
            "count": 0
           },
           {
            "bin_start": 2364.8,
            "bin_end": 2617.1000000000004,
            "count": 0
           },
           {
            "bin_start": 2617.1000000000004,
            "bin_end": 2869.4,
            "count": 3
           },
           {
            "bin_start": 2869.4,
            "bin_end": 3121.7000000000003,
            "count": 2
           },
           {
            "bin_start": 3121.7000000000003,
            "bin_end": 3374,
            "count": 1
           }
          ]
         }
        },
        {
         "name": "goals",
         "dtype": "int64",
         "stats": {
          "unique_count": 7,
          "nan_count": 0,
          "min": "4",
          "max": "43",
          "histogram": [
           {
            "bin_start": 4,
            "bin_end": 7.9,
            "count": 1
           },
           {
            "bin_start": 7.9,
            "bin_end": 11.8,
            "count": 0
           },
           {
            "bin_start": 11.8,
            "bin_end": 15.7,
            "count": 0
           },
           {
            "bin_start": 15.7,
            "bin_end": 19.6,
            "count": 0
           },
           {
            "bin_start": 19.6,
            "bin_end": 23.5,
            "count": 0
           },
           {
            "bin_start": 23.5,
            "bin_end": 27.4,
            "count": 2
           },
           {
            "bin_start": 27.4,
            "bin_end": 31.3,
            "count": 0
           },
           {
            "bin_start": 31.3,
            "bin_end": 35.2,
            "count": 1
           },
           {
            "bin_start": 35.2,
            "bin_end": 39.1,
            "count": 2
           },
           {
            "bin_start": 39.1,
            "bin_end": 43,
            "count": 1
           }
          ]
         }
        },
        {
         "name": "xG",
         "dtype": "float64",
         "stats": {
          "unique_count": 7,
          "nan_count": 0,
          "min": "6.65979974716902",
          "max": "35.8917635791004",
          "histogram": [
           {
            "bin_start": 6.65979974716902,
            "bin_end": 9.582996130362158,
            "count": 1
           },
           {
            "bin_start": 9.582996130362158,
            "bin_end": 12.506192513555295,
            "count": 0
           },
           {
            "bin_start": 12.506192513555295,
            "bin_end": 15.429388896748433,
            "count": 0
           },
           {
            "bin_start": 15.429388896748433,
            "bin_end": 18.35258527994157,
            "count": 0
           },
           {
            "bin_start": 18.35258527994157,
            "bin_end": 21.27578166313471,
            "count": 1
           },
           {
            "bin_start": 21.27578166313471,
            "bin_end": 24.198978046327845,
            "count": 0
           },
           {
            "bin_start": 24.198978046327845,
            "bin_end": 27.12217442952099,
            "count": 3
           },
           {
            "bin_start": 27.12217442952099,
            "bin_end": 30.045370812714125,
            "count": 1
           },
           {
            "bin_start": 30.045370812714125,
            "bin_end": 32.96856719590726,
            "count": 0
           },
           {
            "bin_start": 32.96856719590726,
            "bin_end": 35.8917635791004,
            "count": 1
           }
          ]
         }
        },
        {
         "name": "assists",
         "dtype": "int64",
         "stats": {
          "unique_count": 7,
          "nan_count": 0,
          "min": "0",
          "max": "20",
          "histogram": [
           {
            "bin_start": 0,
            "bin_end": 2,
            "count": 1
           },
           {
            "bin_start": 2,
            "bin_end": 4,
            "count": 0
           },
           {
            "bin_start": 4,
            "bin_end": 6,
            "count": 0
           },
           {
            "bin_start": 6,
            "bin_end": 8,
            "count": 0
           },
           {
            "bin_start": 8,
            "bin_end": 10,
            "count": 1
           },
           {
            "bin_start": 10,
            "bin_end": 12,
            "count": 0
           },
           {
            "bin_start": 12,
            "bin_end": 14,
            "count": 2
           },
           {
            "bin_start": 14,
            "bin_end": 16,
            "count": 0
           },
           {
            "bin_start": 16,
            "bin_end": 18,
            "count": 1
           },
           {
            "bin_start": 18,
            "bin_end": 20,
            "count": 2
           }
          ]
         }
        },
        {
         "name": "xA",
         "dtype": "float64",
         "stats": {
          "unique_count": 7,
          "nan_count": 0,
          "min": "2.55827925354242",
          "max": "17.6119555216283",
          "histogram": [
           {
            "bin_start": 2.55827925354242,
            "bin_end": 4.063646880351008,
            "count": 1
           },
           {
            "bin_start": 4.063646880351008,
            "bin_end": 5.569014507159596,
            "count": 0
           },
           {
            "bin_start": 5.569014507159596,
            "bin_end": 7.074382133968184,
            "count": 0
           },
           {
            "bin_start": 7.074382133968184,
            "bin_end": 8.579749760776773,
            "count": 0
           },
           {
            "bin_start": 8.579749760776773,
            "bin_end": 10.08511738758536,
            "count": 0
           },
           {
            "bin_start": 10.08511738758536,
            "bin_end": 11.590485014393948,
            "count": 0
           },
           {
            "bin_start": 11.590485014393948,
            "bin_end": 13.095852641202535,
            "count": 0
           },
           {
            "bin_start": 13.095852641202535,
            "bin_end": 14.601220268011124,
            "count": 1
           },
           {
            "bin_start": 14.601220268011124,
            "bin_end": 16.106587894819715,
            "count": 3
           },
           {
            "bin_start": 16.106587894819715,
            "bin_end": 17.6119555216283,
            "count": 2
           }
          ]
         }
        },
        {
         "name": "shots",
         "dtype": "int64",
         "stats": {
          "unique_count": 7,
          "nan_count": 0,
          "min": "49",
          "max": "196",
          "histogram": [
           {
            "bin_start": 49,
            "bin_end": 63.7,
            "count": 1
           },
           {
            "bin_start": 63.7,
            "bin_end": 78.4,
            "count": 0
           },
           {
            "bin_start": 78.4,
            "bin_end": 93.1,
            "count": 0
           },
           {
            "bin_start": 93.1,
            "bin_end": 107.8,
            "count": 0
           },
           {
            "bin_start": 107.8,
            "bin_end": 122.5,
            "count": 0
           },
           {
            "bin_start": 122.5,
            "bin_end": 137.2,
            "count": 0
           },
           {
            "bin_start": 137.2,
            "bin_end": 151.89999999999998,
            "count": 0
           },
           {
            "bin_start": 151.89999999999998,
            "bin_end": 166.6,
            "count": 2
           },
           {
            "bin_start": 166.6,
            "bin_end": 181.29999999999998,
            "count": 2
           },
           {
            "bin_start": 181.29999999999998,
            "bin_end": 196,
            "count": 2
           }
          ]
         }
        },
        {
         "name": "key_passes",
         "dtype": "int64",
         "stats": {
          "unique_count": 7,
          "nan_count": 0,
          "min": "22",
          "max": "95",
          "histogram": [
           {
            "bin_start": 22,
            "bin_end": 29.3,
            "count": 1
           },
           {
            "bin_start": 29.3,
            "bin_end": 36.6,
            "count": 0
           },
           {
            "bin_start": 36.6,
            "bin_end": 43.9,
            "count": 0
           },
           {
            "bin_start": 43.9,
            "bin_end": 51.2,
            "count": 0
           },
           {
            "bin_start": 51.2,
            "bin_end": 58.5,
            "count": 0
           },
           {
            "bin_start": 58.5,
            "bin_end": 65.8,
            "count": 0
           },
           {
            "bin_start": 65.8,
            "bin_end": 73.1,
            "count": 0
           },
           {
            "bin_start": 73.1,
            "bin_end": 80.4,
            "count": 2
           },
           {
            "bin_start": 80.4,
            "bin_end": 87.7,
            "count": 1
           },
           {
            "bin_start": 87.7,
            "bin_end": 95,
            "count": 3
           }
          ]
         }
        },
        {
         "name": "yellow_cards",
         "dtype": "int64",
         "stats": {
          "unique_count": 3,
          "nan_count": 0,
          "min": "3",
          "max": "6",
          "histogram": [
           {
            "bin_start": 3,
            "bin_end": 3.3,
            "count": 4
           },
           {
            "bin_start": 3.3,
            "bin_end": 3.6,
            "count": 0
           },
           {
            "bin_start": 3.6,
            "bin_end": 3.9,
            "count": 0
           },
           {
            "bin_start": 3.9,
            "bin_end": 4.2,
            "count": 2
           },
           {
            "bin_start": 4.2,
            "bin_end": 4.5,
            "count": 0
           },
           {
            "bin_start": 4.5,
            "bin_end": 4.8,
            "count": 0
           },
           {
            "bin_start": 4.8,
            "bin_end": 5.1,
            "count": 0
           },
           {
            "bin_start": 5.1,
            "bin_end": 5.4,
            "count": 0
           },
           {
            "bin_start": 5.4,
            "bin_end": 5.699999999999999,
            "count": 0
           },
           {
            "bin_start": 5.699999999999999,
            "bin_end": 6,
            "count": 1
           }
          ]
         }
        },
        {
         "name": "red_cards",
         "dtype": "int64",
         "stats": {
          "unique_count": 1,
          "nan_count": 0,
          "min": "0",
          "max": "0",
          "histogram": [
           {
            "bin_start": -0.5,
            "bin_end": -0.4,
            "count": 0
           },
           {
            "bin_start": -0.4,
            "bin_end": -0.3,
            "count": 0
           },
           {
            "bin_start": -0.3,
            "bin_end": -0.19999999999999996,
            "count": 0
           },
           {
            "bin_start": -0.19999999999999996,
            "bin_end": -0.09999999999999998,
            "count": 0
           },
           {
            "bin_start": -0.09999999999999998,
            "bin_end": 0,
            "count": 0
           },
           {
            "bin_start": 0,
            "bin_end": 0.10000000000000009,
            "count": 7
           },
           {
            "bin_start": 0.10000000000000009,
            "bin_end": 0.20000000000000007,
            "count": 0
           },
           {
            "bin_start": 0.20000000000000007,
            "bin_end": 0.30000000000000004,
            "count": 0
           },
           {
            "bin_start": 0.30000000000000004,
            "bin_end": 0.4,
            "count": 0
           },
           {
            "bin_start": 0.4,
            "bin_end": 0.5,
            "count": 0
           }
          ]
         }
        },
        {
         "name": "position",
         "dtype": "object",
         "stats": {
          "unique_count": 2,
          "nan_count": 0,
          "categories": [
           {
            "name": "F M S",
            "count": 5
           },
           {
            "name": "F S",
            "count": 2
           }
          ]
         }
        },
        {
         "name": "team_name",
         "dtype": "object",
         "stats": {
          "unique_count": 1,
          "nan_count": 0,
          "categories": [
           {
            "name": "Barcelona",
            "count": 7
           }
          ]
         }
        },
        {
         "name": "npg",
         "dtype": "int64",
         "stats": {
          "unique_count": 6,
          "nan_count": 0,
          "min": "2",
          "max": "38",
          "histogram": [
           {
            "bin_start": 2,
            "bin_end": 5.6,
            "count": 1
           },
           {
            "bin_start": 5.6,
            "bin_end": 9.2,
            "count": 0
           },
           {
            "bin_start": 9.2,
            "bin_end": 12.8,
            "count": 0
           },
           {
            "bin_start": 12.8,
            "bin_end": 16.4,
            "count": 0
           },
           {
            "bin_start": 16.4,
            "bin_end": 20,
            "count": 0
           },
           {
            "bin_start": 20,
            "bin_end": 23.6,
            "count": 2
           },
           {
            "bin_start": 23.6,
            "bin_end": 27.2,
            "count": 0
           },
           {
            "bin_start": 27.2,
            "bin_end": 30.8,
            "count": 0
           },
           {
            "bin_start": 30.8,
            "bin_end": 34.4,
            "count": 3
           },
           {
            "bin_start": 34.4,
            "bin_end": 38,
            "count": 1
           }
          ]
         }
        },
        {
         "name": "npxG",
         "dtype": "float64",
         "stats": {
          "unique_count": 7,
          "nan_count": 0,
          "min": "5.17324458807707",
          "max": "31.432097773999",
          "histogram": [
           {
            "bin_start": 5.17324458807707,
            "bin_end": 7.799129906669263,
            "count": 1
           },
           {
            "bin_start": 7.799129906669263,
            "bin_end": 10.425015225261456,
            "count": 0
           },
           {
            "bin_start": 10.425015225261456,
            "bin_end": 13.050900543853649,
            "count": 0
           },
           {
            "bin_start": 13.050900543853649,
            "bin_end": 15.676785862445842,
            "count": 0
           },
           {
            "bin_start": 15.676785862445842,
            "bin_end": 18.302671181038036,
            "count": 1
           },
           {
            "bin_start": 18.302671181038036,
            "bin_end": 20.928556499630226,
            "count": 0
           },
           {
            "bin_start": 20.928556499630226,
            "bin_end": 23.554441818222422,
            "count": 3
           },
           {
            "bin_start": 23.554441818222422,
            "bin_end": 26.18032713681461,
            "count": 1
           },
           {
            "bin_start": 26.18032713681461,
            "bin_end": 28.806212455406808,
            "count": 0
           },
           {
            "bin_start": 28.806212455406808,
            "bin_end": 31.432097773999,
            "count": 1
           }
          ]
         }
        },
        {
         "name": "xGChain",
         "dtype": "float64",
         "stats": {
          "unique_count": 7,
          "nan_count": 0,
          "min": "8.96630131453276",
          "max": "54.7536099106073",
          "histogram": [
           {
            "bin_start": 8.96630131453276,
            "bin_end": 13.545032174140214,
            "count": 1
           },
           {
            "bin_start": 13.545032174140214,
            "bin_end": 18.123763033747668,
            "count": 0
           },
           {
            "bin_start": 18.123763033747668,
            "bin_end": 22.702493893355122,
            "count": 0
           },
           {
            "bin_start": 22.702493893355122,
            "bin_end": 27.281224752962576,
            "count": 0
           },
           {
            "bin_start": 27.281224752962576,
            "bin_end": 31.85995561257003,
            "count": 0
           },
           {
            "bin_start": 31.85995561257003,
            "bin_end": 36.43868647217748,
            "count": 1
           },
           {
            "bin_start": 36.43868647217748,
            "bin_end": 41.01741733178494,
            "count": 1
           },
           {
            "bin_start": 41.01741733178494,
            "bin_end": 45.59614819139239,
            "count": 2
           },
           {
            "bin_start": 45.59614819139239,
            "bin_end": 50.17487905099985,
            "count": 1
           },
           {
            "bin_start": 50.17487905099985,
            "bin_end": 54.7536099106073,
            "count": 1
           }
          ]
         }
        },
        {
         "name": "xGBuildup",
         "dtype": "float64",
         "stats": {
          "unique_count": 7,
          "nan_count": 0,
          "min": "5.94514092057943",
          "max": "21.6344040166587",
          "histogram": [
           {
            "bin_start": 5.94514092057943,
            "bin_end": 7.514067230187357,
            "count": 1
           },
           {
            "bin_start": 7.514067230187357,
            "bin_end": 9.082993539795284,
            "count": 0
           },
           {
            "bin_start": 9.082993539795284,
            "bin_end": 10.65191984940321,
            "count": 0
           },
           {
            "bin_start": 10.65191984940321,
            "bin_end": 12.220846159011138,
            "count": 1
           },
           {
            "bin_start": 12.220846159011138,
            "bin_end": 13.789772468619065,
            "count": 1
           },
           {
            "bin_start": 13.789772468619065,
            "bin_end": 15.35869877822699,
            "count": 1
           },
           {
            "bin_start": 15.35869877822699,
            "bin_end": 16.92762508783492,
            "count": 0
           },
           {
            "bin_start": 16.92762508783492,
            "bin_end": 18.496551397442843,
            "count": 1
           },
           {
            "bin_start": 18.496551397442843,
            "bin_end": 20.06547770705077,
            "count": 1
           },
           {
            "bin_start": 20.06547770705077,
            "bin_end": 21.6344040166587,
            "count": 1
           }
          ]
         }
        },
        {
         "name": "year",
         "dtype": "int64",
         "stats": {
          "unique_count": 7,
          "nan_count": 0,
          "min": "2014",
          "max": "2020",
          "histogram": [
           {
            "bin_start": 2014,
            "bin_end": 2014.6,
            "count": 1
           },
           {
            "bin_start": 2014.6,
            "bin_end": 2015.2,
            "count": 1
           },
           {
            "bin_start": 2015.2,
            "bin_end": 2015.8,
            "count": 0
           },
           {
            "bin_start": 2015.8,
            "bin_end": 2016.4,
            "count": 1
           },
           {
            "bin_start": 2016.4,
            "bin_end": 2017,
            "count": 0
           },
           {
            "bin_start": 2017,
            "bin_end": 2017.6,
            "count": 1
           },
           {
            "bin_start": 2017.6,
            "bin_end": 2018.2,
            "count": 1
           },
           {
            "bin_start": 2018.2,
            "bin_end": 2018.8,
            "count": 0
           },
           {
            "bin_start": 2018.8,
            "bin_end": 2019.4,
            "count": 1
           },
           {
            "bin_start": 2019.4,
            "bin_end": 2020,
            "count": 1
           }
          ]
         }
        },
        {
         "name": "_deepnote_index_column",
         "dtype": "int64"
        }
       ],
       "rows": [
        {
         "player_id": 2097,
         "player_name": "Lionel Messi",
         "games": 10,
         "time": 851,
         "goals": 4,
         "xG": 6.65979974716902,
         "assists": 0,
         "xA": 2.55827925354242,
         "shots": 49,
         "key_passes": 22,
         "yellow_cards": 3,
         "red_cards": 0,
         "position": "F M S",
         "team_name": "Barcelona",
         "npg": 2,
         "npxG": 5.17324458807707,
         "xGChain": 8.96630131453276,
         "xGBuildup": 5.94514092057943,
         "year": 2020,
         "_deepnote_index_column": 577
        },
        {
         "player_id": 2097,
         "player_name": "Lionel Messi",
         "games": 33,
         "time": 2876,
         "goals": 25,
         "xG": 20.8496672846377,
         "assists": 20,
         "xA": 16.5933633856475,
         "shots": 159,
         "key_passes": 88,
         "yellow_cards": 4,
         "red_cards": 0,
         "position": "F M S",
         "team_name": "Barcelona",
         "npg": 20,
         "npxG": 17.1332792676985,
         "xGChain": 34.9234667830169,
         "xGBuildup": 13.5376575160772,
         "year": 2019,
         "_deepnote_index_column": 3078
        },
        {
         "player_id": 2097,
         "player_name": "Lionel Messi",
         "games": 34,
         "time": 2704,
         "goals": 36,
         "xG": 25.9971690699458,
         "assists": 13,
         "xA": 15.3351655192673,
         "shots": 170,
         "key_passes": 93,
         "yellow_cards": 3,
         "red_cards": 0,
         "position": "F S",
         "team_name": "Barcelona",
         "npg": 32,
         "npxG": 22.2809088751674,
         "xGChain": 38.459877461195,
         "xGBuildup": 10.6987990029156,
         "year": 2018,
         "_deepnote_index_column": 5816
        },
        {
         "player_id": 2097,
         "player_name": "Lionel Messi",
         "games": 36,
         "time": 2995,
         "goals": 34,
         "xG": 28.9462806135416,
         "assists": 12,
         "xA": 15.1004056222737,
         "shots": 196,
         "key_passes": 87,
         "yellow_cards": 3,
         "red_cards": 0,
         "position": "F M S",
         "team_name": "Barcelona",
         "npg": 32,
         "npxG": 25.9731701463461,
         "xGChain": 48.1806342229247,
         "xGBuildup": 21.6344040166587,
         "year": 2017,
         "_deepnote_index_column": 8572
        },
        {
         "player_id": 2097,
         "player_name": "Lionel Messi",
         "games": 34,
         "time": 2832,
         "goals": 37,
         "xG": 26.8851743638515,
         "assists": 9,
         "xA": 13.9551313966513,
         "shots": 179,
         "key_passes": 79,
         "yellow_cards": 6,
         "red_cards": 0,
         "position": "F M S",
         "team_name": "Barcelona",
         "npg": 31,
         "npxG": 21.6822308301926,
         "xGChain": 42.525045350194,
         "xGBuildup": 18.1335122287273,
         "year": 2016,
         "_deepnote_index_column": 11226
        },
        {
         "player_id": 2097,
         "player_name": "Lionel Messi",
         "games": 33,
         "time": 2726,
         "goals": 26,
         "xG": 27.101910315454,
         "assists": 16,
         "xA": 15.8712781388313,
         "shots": 158,
         "key_passes": 77,
         "yellow_cards": 3,
         "red_cards": 0,
         "position": "F M S",
         "team_name": "Barcelona",
         "npg": 23,
         "npxG": 21.8993513509631,
         "xGChain": 41.9968662410975,
         "xGBuildup": 15.1963643739,
         "year": 2015,
         "_deepnote_index_column": 14034
        },
        {
         "player_id": 2097,
         "player_name": "Lionel Messi",
         "games": 38,
         "time": 3374,
         "goals": 43,
         "xG": 35.8917635791004,
         "assists": 18,
         "xA": 17.6119555216283,
         "shots": 187,
         "key_passes": 95,
         "yellow_cards": 4,
         "red_cards": 0,
         "position": "F S",
         "team_name": "Barcelona",
         "npg": 38,
         "npxG": 31.432097773999,
         "xGChain": 54.7536099106073,
         "xGBuildup": 19.7567237392068,
         "year": 2014,
         "_deepnote_index_column": 16745
        }
       ]
      },
      "text/plain": "       player_id   player_name  games  time  goals         xG  assists  \\\n577         2097  Lionel Messi     10   851      4   6.659800        0   \n3078        2097  Lionel Messi     33  2876     25  20.849667       20   \n5816        2097  Lionel Messi     34  2704     36  25.997169       13   \n8572        2097  Lionel Messi     36  2995     34  28.946281       12   \n11226       2097  Lionel Messi     34  2832     37  26.885174        9   \n14034       2097  Lionel Messi     33  2726     26  27.101910       16   \n16745       2097  Lionel Messi     38  3374     43  35.891764       18   \n\n              xA  shots  key_passes  yellow_cards  red_cards position  \\\n577     2.558279     49          22             3          0    F M S   \n3078   16.593363    159          88             4          0    F M S   \n5816   15.335166    170          93             3          0      F S   \n8572   15.100406    196          87             3          0    F M S   \n11226  13.955131    179          79             6          0    F M S   \n14034  15.871278    158          77             3          0    F M S   \n16745  17.611956    187          95             4          0      F S   \n\n       team_name  npg       npxG    xGChain  xGBuildup  year  \n577    Barcelona    2   5.173245   8.966301   5.945141  2020  \n3078   Barcelona   20  17.133279  34.923467  13.537658  2019  \n5816   Barcelona   32  22.280909  38.459877  10.698799  2018  \n8572   Barcelona   32  25.973170  48.180634  21.634404  2017  \n11226  Barcelona   31  21.682231  42.525045  18.133512  2016  \n14034  Barcelona   23  21.899351  41.996866  15.196364  2015  \n16745  Barcelona   38  31.432098  54.753610  19.756724  2014  ",
      "text/html": "<div>\n<style scoped>\n    .dataframe tbody tr th:only-of-type {\n        vertical-align: middle;\n    }\n\n    .dataframe tbody tr th {\n        vertical-align: top;\n    }\n\n    .dataframe thead th {\n        text-align: right;\n    }\n</style>\n<table border=\"1\" class=\"dataframe\">\n  <thead>\n    <tr style=\"text-align: right;\">\n      <th></th>\n      <th>player_id</th>\n      <th>player_name</th>\n      <th>games</th>\n      <th>time</th>\n      <th>goals</th>\n      <th>xG</th>\n      <th>assists</th>\n      <th>xA</th>\n      <th>shots</th>\n      <th>key_passes</th>\n      <th>yellow_cards</th>\n      <th>red_cards</th>\n      <th>position</th>\n      <th>team_name</th>\n      <th>npg</th>\n      <th>npxG</th>\n      <th>xGChain</th>\n      <th>xGBuildup</th>\n      <th>year</th>\n    </tr>\n  </thead>\n  <tbody>\n    <tr>\n      <th>577</th>\n      <td>2097</td>\n      <td>Lionel Messi</td>\n      <td>10</td>\n      <td>851</td>\n      <td>4</td>\n      <td>6.659800</td>\n      <td>0</td>\n      <td>2.558279</td>\n      <td>49</td>\n      <td>22</td>\n      <td>3</td>\n      <td>0</td>\n      <td>F M S</td>\n      <td>Barcelona</td>\n      <td>2</td>\n      <td>5.173245</td>\n      <td>8.966301</td>\n      <td>5.945141</td>\n      <td>2020</td>\n    </tr>\n    <tr>\n      <th>3078</th>\n      <td>2097</td>\n      <td>Lionel Messi</td>\n      <td>33</td>\n      <td>2876</td>\n      <td>25</td>\n      <td>20.849667</td>\n      <td>20</td>\n      <td>16.593363</td>\n      <td>159</td>\n      <td>88</td>\n      <td>4</td>\n      <td>0</td>\n      <td>F M S</td>\n      <td>Barcelona</td>\n      <td>20</td>\n      <td>17.133279</td>\n      <td>34.923467</td>\n      <td>13.537658</td>\n      <td>2019</td>\n    </tr>\n    <tr>\n      <th>5816</th>\n      <td>2097</td>\n      <td>Lionel Messi</td>\n      <td>34</td>\n      <td>2704</td>\n      <td>36</td>\n      <td>25.997169</td>\n      <td>13</td>\n      <td>15.335166</td>\n      <td>170</td>\n      <td>93</td>\n      <td>3</td>\n      <td>0</td>\n      <td>F S</td>\n      <td>Barcelona</td>\n      <td>32</td>\n      <td>22.280909</td>\n      <td>38.459877</td>\n      <td>10.698799</td>\n      <td>2018</td>\n    </tr>\n    <tr>\n      <th>8572</th>\n      <td>2097</td>\n      <td>Lionel Messi</td>\n      <td>36</td>\n      <td>2995</td>\n      <td>34</td>\n      <td>28.946281</td>\n      <td>12</td>\n      <td>15.100406</td>\n      <td>196</td>\n      <td>87</td>\n      <td>3</td>\n      <td>0</td>\n      <td>F M S</td>\n      <td>Barcelona</td>\n      <td>32</td>\n      <td>25.973170</td>\n      <td>48.180634</td>\n      <td>21.634404</td>\n      <td>2017</td>\n    </tr>\n    <tr>\n      <th>11226</th>\n      <td>2097</td>\n      <td>Lionel Messi</td>\n      <td>34</td>\n      <td>2832</td>\n      <td>37</td>\n      <td>26.885174</td>\n      <td>9</td>\n      <td>13.955131</td>\n      <td>179</td>\n      <td>79</td>\n      <td>6</td>\n      <td>0</td>\n      <td>F M S</td>\n      <td>Barcelona</td>\n      <td>31</td>\n      <td>21.682231</td>\n      <td>42.525045</td>\n      <td>18.133512</td>\n      <td>2016</td>\n    </tr>\n    <tr>\n      <th>14034</th>\n      <td>2097</td>\n      <td>Lionel Messi</td>\n      <td>33</td>\n      <td>2726</td>\n      <td>26</td>\n      <td>27.101910</td>\n      <td>16</td>\n      <td>15.871278</td>\n      <td>158</td>\n      <td>77</td>\n      <td>3</td>\n      <td>0</td>\n      <td>F M S</td>\n      <td>Barcelona</td>\n      <td>23</td>\n      <td>21.899351</td>\n      <td>41.996866</td>\n      <td>15.196364</td>\n      <td>2015</td>\n    </tr>\n    <tr>\n      <th>16745</th>\n      <td>2097</td>\n      <td>Lionel Messi</td>\n      <td>38</td>\n      <td>3374</td>\n      <td>43</td>\n      <td>35.891764</td>\n      <td>18</td>\n      <td>17.611956</td>\n      <td>187</td>\n      <td>95</td>\n      <td>4</td>\n      <td>0</td>\n      <td>F S</td>\n      <td>Barcelona</td>\n      <td>38</td>\n      <td>31.432098</td>\n      <td>54.753610</td>\n      <td>19.756724</td>\n      <td>2014</td>\n    </tr>\n  </tbody>\n</table>\n</div>"
     },
     "metadata": {}
    }
   ],
   "execution_count": null
  },
  {
   "cell_type": "code",
   "source": "ronaldo_goals = df[(df['player_name'] == 'Cristiano Ronaldo') & (df['year'] != '2020')]\nronaldo_goals",
   "metadata": {
    "cell_id": "c4e58f68-9ec3-471a-9192-c5f686004d39",
    "tags": [],
    "deepnote_cell_height": 458.796875,
    "deepnote_to_be_reexecuted": false,
    "source_hash": "bb5fde21",
    "execution_start": 1645198115136,
    "execution_millis": 115,
    "deepnote_cell_type": "code"
   },
   "outputs": [
    {
     "output_type": "execute_result",
     "execution_count": 6,
     "data": {
      "application/vnd.deepnote.dataframe.v3+json": {
       "column_count": 19,
       "row_count": 7,
       "columns": [
        {
         "name": "player_id",
         "dtype": "int64",
         "stats": {
          "unique_count": 1,
          "nan_count": 0,
          "min": "2371",
          "max": "2371",
          "histogram": [
           {
            "bin_start": 2370.5,
            "bin_end": 2370.6,
            "count": 0
           },
           {
            "bin_start": 2370.6,
            "bin_end": 2370.7,
            "count": 0
           },
           {
            "bin_start": 2370.7,
            "bin_end": 2370.8,
            "count": 0
           },
           {
            "bin_start": 2370.8,
            "bin_end": 2370.9,
            "count": 0
           },
           {
            "bin_start": 2370.9,
            "bin_end": 2371,
            "count": 0
           },
           {
            "bin_start": 2371,
            "bin_end": 2371.1,
            "count": 7
           },
           {
            "bin_start": 2371.1,
            "bin_end": 2371.2,
            "count": 0
           },
           {
            "bin_start": 2371.2,
            "bin_end": 2371.3,
            "count": 0
           },
           {
            "bin_start": 2371.3,
            "bin_end": 2371.4,
            "count": 0
           },
           {
            "bin_start": 2371.4,
            "bin_end": 2371.5,
            "count": 0
           }
          ]
         }
        },
        {
         "name": "player_name",
         "dtype": "object",
         "stats": {
          "unique_count": 1,
          "nan_count": 0,
          "categories": [
           {
            "name": "Cristiano Ronaldo",
            "count": 7
           }
          ]
         }
        },
        {
         "name": "games",
         "dtype": "int64",
         "stats": {
          "unique_count": 7,
          "nan_count": 0,
          "min": "6",
          "max": "36",
          "histogram": [
           {
            "bin_start": 6,
            "bin_end": 9,
            "count": 1
           },
           {
            "bin_start": 9,
            "bin_end": 12,
            "count": 0
           },
           {
            "bin_start": 12,
            "bin_end": 15,
            "count": 0
           },
           {
            "bin_start": 15,
            "bin_end": 18,
            "count": 0
           },
           {
            "bin_start": 18,
            "bin_end": 21,
            "count": 0
           },
           {
            "bin_start": 21,
            "bin_end": 24,
            "count": 0
           },
           {
            "bin_start": 24,
            "bin_end": 27,
            "count": 0
           },
           {
            "bin_start": 27,
            "bin_end": 30,
            "count": 2
           },
           {
            "bin_start": 30,
            "bin_end": 33,
            "count": 1
           },
           {
            "bin_start": 33,
            "bin_end": 36,
            "count": 3
           }
          ]
         }
        },
        {
         "name": "time",
         "dtype": "int64",
         "stats": {
          "unique_count": 7,
          "nan_count": 0,
          "min": "470",
          "max": "3186",
          "histogram": [
           {
            "bin_start": 470,
            "bin_end": 741.6,
            "count": 1
           },
           {
            "bin_start": 741.6,
            "bin_end": 1013.2,
            "count": 0
           },
           {
            "bin_start": 1013.2,
            "bin_end": 1284.8000000000002,
            "count": 0
           },
           {
            "bin_start": 1284.8000000000002,
            "bin_end": 1556.4,
            "count": 0
           },
           {
            "bin_start": 1556.4,
            "bin_end": 1828,
            "count": 0
           },
           {
            "bin_start": 1828,
            "bin_end": 2099.6000000000004,
            "count": 0
           },
           {
            "bin_start": 2099.6000000000004,
            "bin_end": 2371.2000000000003,
            "count": 1
           },
           {
            "bin_start": 2371.2000000000003,
            "bin_end": 2642.8,
            "count": 1
           },
           {
            "bin_start": 2642.8,
            "bin_end": 2914.4,
            "count": 1
           },
           {
            "bin_start": 2914.4,
            "bin_end": 3186,
            "count": 3
           }
          ]
         }
        },
        {
         "name": "goals",
         "dtype": "int64",
         "stats": {
          "unique_count": 7,
          "nan_count": 0,
          "min": "8",
          "max": "48",
          "histogram": [
           {
            "bin_start": 8,
            "bin_end": 12,
            "count": 1
           },
           {
            "bin_start": 12,
            "bin_end": 16,
            "count": 0
           },
           {
            "bin_start": 16,
            "bin_end": 20,
            "count": 0
           },
           {
            "bin_start": 20,
            "bin_end": 24,
            "count": 1
           },
           {
            "bin_start": 24,
            "bin_end": 28,
            "count": 2
           },
           {
            "bin_start": 28,
            "bin_end": 32,
            "count": 1
           },
           {
            "bin_start": 32,
            "bin_end": 36,
            "count": 1
           },
           {
            "bin_start": 36,
            "bin_end": 40,
            "count": 0
           },
           {
            "bin_start": 40,
            "bin_end": 44,
            "count": 0
           },
           {
            "bin_start": 44,
            "bin_end": 48,
            "count": 1
           }
          ]
         }
        },
        {
         "name": "xG",
         "dtype": "float64",
         "stats": {
          "unique_count": 7,
          "nan_count": 0,
          "min": "5.79957966506481",
          "max": "39.308760679327",
          "histogram": [
           {
            "bin_start": 5.79957966506481,
            "bin_end": 9.150497766491029,
            "count": 1
           },
           {
            "bin_start": 9.150497766491029,
            "bin_end": 12.501415867917249,
            "count": 0
           },
           {
            "bin_start": 12.501415867917249,
            "bin_end": 15.852333969343468,
            "count": 0
           },
           {
            "bin_start": 15.852333969343468,
            "bin_end": 19.203252070769686,
            "count": 0
           },
           {
            "bin_start": 19.203252070769686,
            "bin_end": 22.554170172195903,
            "count": 0
           },
           {
            "bin_start": 22.554170172195903,
            "bin_end": 25.905088273622127,
            "count": 2
           },
           {
            "bin_start": 25.905088273622127,
            "bin_end": 29.256006375048344,
            "count": 1
           },
           {
            "bin_start": 29.256006375048344,
            "bin_end": 32.60692447647456,
            "count": 1
           },
           {
            "bin_start": 32.60692447647456,
            "bin_end": 35.957842577900784,
            "count": 1
           },
           {
            "bin_start": 35.957842577900784,
            "bin_end": 39.308760679327,
            "count": 1
           }
          ]
         }
        },
        {
         "name": "assists",
         "dtype": "int64",
         "stats": {
          "unique_count": 6,
          "nan_count": 0,
          "min": "1",
          "max": "16",
          "histogram": [
           {
            "bin_start": 1,
            "bin_end": 2.5,
            "count": 1
           },
           {
            "bin_start": 2.5,
            "bin_end": 4,
            "count": 0
           },
           {
            "bin_start": 4,
            "bin_end": 5.5,
            "count": 2
           },
           {
            "bin_start": 5.5,
            "bin_end": 7,
            "count": 1
           },
           {
            "bin_start": 7,
            "bin_end": 8.5,
            "count": 1
           },
           {
            "bin_start": 8.5,
            "bin_end": 10,
            "count": 0
           },
           {
            "bin_start": 10,
            "bin_end": 11.5,
            "count": 1
           },
           {
            "bin_start": 11.5,
            "bin_end": 13,
            "count": 0
           },
           {
            "bin_start": 13,
            "bin_end": 14.5,
            "count": 0
           },
           {
            "bin_start": 14.5,
            "bin_end": 16,
            "count": 1
           }
          ]
         }
        },
        {
         "name": "xA",
         "dtype": "float64",
         "stats": {
          "unique_count": 7,
          "nan_count": 0,
          "min": "0.725524818524718",
          "max": "13.6006423477083",
          "histogram": [
           {
            "bin_start": 0.725524818524718,
            "bin_end": 2.013036571443076,
            "count": 1
           },
           {
            "bin_start": 2.013036571443076,
            "bin_end": 3.300548324361434,
            "count": 0
           },
           {
            "bin_start": 3.300548324361434,
            "bin_end": 4.588060077279793,
            "count": 0
           },
           {
            "bin_start": 4.588060077279793,
            "bin_end": 5.875571830198151,
            "count": 3
           },
           {
            "bin_start": 5.875571830198151,
            "bin_end": 7.163083583116509,
            "count": 1
           },
           {
            "bin_start": 7.163083583116509,
            "bin_end": 8.450595336034867,
            "count": 0
           },
           {
            "bin_start": 8.450595336034867,
            "bin_end": 9.738107088953225,
            "count": 1
           },
           {
            "bin_start": 9.738107088953225,
            "bin_end": 11.025618841871584,
            "count": 0
           },
           {
            "bin_start": 11.025618841871584,
            "bin_end": 12.313130594789943,
            "count": 0
           },
           {
            "bin_start": 12.313130594789943,
            "bin_end": 13.6006423477083,
            "count": 1
           }
          ]
         }
        },
        {
         "name": "shots",
         "dtype": "int64",
         "stats": {
          "unique_count": 7,
          "nan_count": 0,
          "min": "29",
          "max": "227",
          "histogram": [
           {
            "bin_start": 29,
            "bin_end": 48.8,
            "count": 1
           },
           {
            "bin_start": 48.8,
            "bin_end": 68.6,
            "count": 0
           },
           {
            "bin_start": 68.6,
            "bin_end": 88.4,
            "count": 0
           },
           {
            "bin_start": 88.4,
            "bin_end": 108.2,
            "count": 0
           },
           {
            "bin_start": 108.2,
            "bin_end": 128,
            "count": 0
           },
           {
            "bin_start": 128,
            "bin_end": 147.8,
            "count": 0
           },
           {
            "bin_start": 147.8,
            "bin_end": 167.6,
            "count": 1
           },
           {
            "bin_start": 167.6,
            "bin_end": 187.4,
            "count": 2
           },
           {
            "bin_start": 187.4,
            "bin_end": 207.20000000000002,
            "count": 0
           },
           {
            "bin_start": 207.20000000000002,
            "bin_end": 227,
            "count": 3
           }
          ]
         }
        },
        {
         "name": "key_passes",
         "dtype": "int64",
         "stats": {
          "unique_count": 6,
          "nan_count": 0,
          "min": "7",
          "max": "76",
          "histogram": [
           {
            "bin_start": 7,
            "bin_end": 13.9,
            "count": 1
           },
           {
            "bin_start": 13.9,
            "bin_end": 20.8,
            "count": 0
           },
           {
            "bin_start": 20.8,
            "bin_end": 27.700000000000003,
            "count": 0
           },
           {
            "bin_start": 27.700000000000003,
            "bin_end": 34.6,
            "count": 1
           },
           {
            "bin_start": 34.6,
            "bin_end": 41.5,
            "count": 1
           },
           {
            "bin_start": 41.5,
            "bin_end": 48.400000000000006,
            "count": 1
           },
           {
            "bin_start": 48.400000000000006,
            "bin_end": 55.300000000000004,
            "count": 2
           },
           {
            "bin_start": 55.300000000000004,
            "bin_end": 62.2,
            "count": 0
           },
           {
            "bin_start": 62.2,
            "bin_end": 69.1,
            "count": 0
           },
           {
            "bin_start": 69.1,
            "bin_end": 76,
            "count": 1
           }
          ]
         }
        },
        {
         "name": "yellow_cards",
         "dtype": "int64",
         "stats": {
          "unique_count": 5,
          "nan_count": 0,
          "min": "0",
          "max": "5",
          "histogram": [
           {
            "bin_start": 0,
            "bin_end": 0.5,
            "count": 1
           },
           {
            "bin_start": 0.5,
            "bin_end": 1,
            "count": 0
           },
           {
            "bin_start": 1,
            "bin_end": 1.5,
            "count": 1
           },
           {
            "bin_start": 1.5,
            "bin_end": 2,
            "count": 0
           },
           {
            "bin_start": 2,
            "bin_end": 2.5,
            "count": 0
           },
           {
            "bin_start": 2.5,
            "bin_end": 3,
            "count": 0
           },
           {
            "bin_start": 3,
            "bin_end": 3.5,
            "count": 3
           },
           {
            "bin_start": 3.5,
            "bin_end": 4,
            "count": 0
           },
           {
            "bin_start": 4,
            "bin_end": 4.5,
            "count": 1
           },
           {
            "bin_start": 4.5,
            "bin_end": 5,
            "count": 1
           }
          ]
         }
        },
        {
         "name": "red_cards",
         "dtype": "int64",
         "stats": {
          "unique_count": 2,
          "nan_count": 0,
          "min": "0",
          "max": "1",
          "histogram": [
           {
            "bin_start": 0,
            "bin_end": 0.1,
            "count": 6
           },
           {
            "bin_start": 0.1,
            "bin_end": 0.2,
            "count": 0
           },
           {
            "bin_start": 0.2,
            "bin_end": 0.30000000000000004,
            "count": 0
           },
           {
            "bin_start": 0.30000000000000004,
            "bin_end": 0.4,
            "count": 0
           },
           {
            "bin_start": 0.4,
            "bin_end": 0.5,
            "count": 0
           },
           {
            "bin_start": 0.5,
            "bin_end": 0.6000000000000001,
            "count": 0
           },
           {
            "bin_start": 0.6000000000000001,
            "bin_end": 0.7000000000000001,
            "count": 0
           },
           {
            "bin_start": 0.7000000000000001,
            "bin_end": 0.8,
            "count": 0
           },
           {
            "bin_start": 0.8,
            "bin_end": 0.9,
            "count": 0
           },
           {
            "bin_start": 0.9,
            "bin_end": 1,
            "count": 1
           }
          ]
         }
        },
        {
         "name": "position",
         "dtype": "object",
         "stats": {
          "unique_count": 4,
          "nan_count": 0,
          "categories": [
           {
            "name": "F M",
            "count": 3
           },
           {
            "name": "F",
            "count": 2
           },
           {
            "name": "2 others",
            "count": 2
           }
          ]
         }
        },
        {
         "name": "team_name",
         "dtype": "object",
         "stats": {
          "unique_count": 2,
          "nan_count": 0,
          "categories": [
           {
            "name": "Real Madrid",
            "count": 4
           },
           {
            "name": "Juventus",
            "count": 3
           }
          ]
         }
        },
        {
         "name": "npg",
         "dtype": "int64",
         "stats": {
          "unique_count": 6,
          "nan_count": 0,
          "min": "6",
          "max": "38",
          "histogram": [
           {
            "bin_start": 6,
            "bin_end": 9.2,
            "count": 1
           },
           {
            "bin_start": 9.2,
            "bin_end": 12.4,
            "count": 0
           },
           {
            "bin_start": 12.4,
            "bin_end": 15.600000000000001,
            "count": 0
           },
           {
            "bin_start": 15.600000000000001,
            "bin_end": 18.8,
            "count": 1
           },
           {
            "bin_start": 18.8,
            "bin_end": 22,
            "count": 2
           },
           {
            "bin_start": 22,
            "bin_end": 25.200000000000003,
            "count": 1
           },
           {
            "bin_start": 25.200000000000003,
            "bin_end": 28.400000000000002,
            "count": 0
           },
           {
            "bin_start": 28.400000000000002,
            "bin_end": 31.6,
            "count": 1
           },
           {
            "bin_start": 31.6,
            "bin_end": 34.8,
            "count": 0
           },
           {
            "bin_start": 34.8,
            "bin_end": 38,
            "count": 1
           }
          ]
         }
        },
        {
         "name": "npxG",
         "dtype": "float64",
         "stats": {
          "unique_count": 7,
          "nan_count": 0,
          "min": "4.27698205411434",
          "max": "30.3896858459339",
          "histogram": [
           {
            "bin_start": 4.27698205411434,
            "bin_end": 6.888252433296296,
            "count": 1
           },
           {
            "bin_start": 6.888252433296296,
            "bin_end": 9.499522812478252,
            "count": 0
           },
           {
            "bin_start": 9.499522812478252,
            "bin_end": 12.110793191660209,
            "count": 0
           },
           {
            "bin_start": 12.110793191660209,
            "bin_end": 14.722063570842165,
            "count": 0
           },
           {
            "bin_start": 14.722063570842165,
            "bin_end": 17.33333395002412,
            "count": 0
           },
           {
            "bin_start": 17.33333395002412,
            "bin_end": 19.94460432920608,
            "count": 3
           },
           {
            "bin_start": 19.94460432920608,
            "bin_end": 22.555874708388032,
            "count": 0
           },
           {
            "bin_start": 22.555874708388032,
            "bin_end": 25.167145087569992,
            "count": 1
           },
           {
            "bin_start": 25.167145087569992,
            "bin_end": 27.778415466751945,
            "count": 0
           },
           {
            "bin_start": 27.778415466751945,
            "bin_end": 30.3896858459339,
            "count": 2
           }
          ]
         }
        },
        {
         "name": "xGChain",
         "dtype": "float64",
         "stats": {
          "unique_count": 7,
          "nan_count": 0,
          "min": "5.0011830329895",
          "max": "43.6080199917778",
          "histogram": [
           {
            "bin_start": 5.0011830329895,
            "bin_end": 8.86186672886833,
            "count": 1
           },
           {
            "bin_start": 8.86186672886833,
            "bin_end": 12.72255042474716,
            "count": 0
           },
           {
            "bin_start": 12.72255042474716,
            "bin_end": 16.58323412062599,
            "count": 0
           },
           {
            "bin_start": 16.58323412062599,
            "bin_end": 20.443917816504822,
            "count": 0
           },
           {
            "bin_start": 20.443917816504822,
            "bin_end": 24.30460151238365,
            "count": 1
           },
           {
            "bin_start": 24.30460151238365,
            "bin_end": 28.165285208262482,
            "count": 1
           },
           {
            "bin_start": 28.165285208262482,
            "bin_end": 32.02596890414131,
            "count": 2
           },
           {
            "bin_start": 32.02596890414131,
            "bin_end": 35.88665260002014,
            "count": 0
           },
           {
            "bin_start": 35.88665260002014,
            "bin_end": 39.747336295898975,
            "count": 0
           },
           {
            "bin_start": 39.747336295898975,
            "bin_end": 43.6080199917778,
            "count": 2
           }
          ]
         }
        },
        {
         "name": "xGBuildup",
         "dtype": "float64",
         "stats": {
          "unique_count": 7,
          "nan_count": 0,
          "min": "1.74283427745104",
          "max": "9.86300460249186",
          "histogram": [
           {
            "bin_start": 1.74283427745104,
            "bin_end": 2.5548513099551218,
            "count": 1
           },
           {
            "bin_start": 2.5548513099551218,
            "bin_end": 3.3668683424592034,
            "count": 0
           },
           {
            "bin_start": 3.3668683424592034,
            "bin_end": 4.1788853749632855,
            "count": 0
           },
           {
            "bin_start": 4.1788853749632855,
            "bin_end": 4.990902407467368,
            "count": 0
           },
           {
            "bin_start": 4.990902407467368,
            "bin_end": 5.80291943997145,
            "count": 0
           },
           {
            "bin_start": 5.80291943997145,
            "bin_end": 6.614936472475531,
            "count": 0
           },
           {
            "bin_start": 6.614936472475531,
            "bin_end": 7.426953504979613,
            "count": 2
           },
           {
            "bin_start": 7.426953504979613,
            "bin_end": 8.238970537483695,
            "count": 1
           },
           {
            "bin_start": 8.238970537483695,
            "bin_end": 9.050987569987777,
            "count": 1
           },
           {
            "bin_start": 9.050987569987777,
            "bin_end": 9.86300460249186,
            "count": 2
           }
          ]
         }
        },
        {
         "name": "year",
         "dtype": "int64",
         "stats": {
          "unique_count": 7,
          "nan_count": 0,
          "min": "2014",
          "max": "2020",
          "histogram": [
           {
            "bin_start": 2014,
            "bin_end": 2014.6,
            "count": 1
           },
           {
            "bin_start": 2014.6,
            "bin_end": 2015.2,
            "count": 1
           },
           {
            "bin_start": 2015.2,
            "bin_end": 2015.8,
            "count": 0
           },
           {
            "bin_start": 2015.8,
            "bin_end": 2016.4,
            "count": 1
           },
           {
            "bin_start": 2016.4,
            "bin_end": 2017,
            "count": 0
           },
           {
            "bin_start": 2017,
            "bin_end": 2017.6,
            "count": 1
           },
           {
            "bin_start": 2017.6,
            "bin_end": 2018.2,
            "count": 1
           },
           {
            "bin_start": 2018.2,
            "bin_end": 2018.8,
            "count": 0
           },
           {
            "bin_start": 2018.8,
            "bin_end": 2019.4,
            "count": 1
           },
           {
            "bin_start": 2019.4,
            "bin_end": 2020,
            "count": 1
           }
          ]
         }
        },
        {
         "name": "_deepnote_index_column",
         "dtype": "int64"
        }
       ],
       "rows": [
        {
         "player_id": 2371,
         "player_name": "Cristiano Ronaldo",
         "games": 6,
         "time": 470,
         "goals": 8,
         "xG": 5.79957966506481,
         "assists": 1,
         "xA": 0.725524818524718,
         "shots": 29,
         "key_passes": 7,
         "yellow_cards": 0,
         "red_cards": 0,
         "position": "F S",
         "team_name": "Juventus",
         "npg": 6,
         "npxG": 4.27698205411434,
         "xGChain": 5.0011830329895,
         "xGBuildup": 1.74283427745104,
         "year": 2020,
         "_deepnote_index_column": 1024
        },
        {
         "player_id": 2371,
         "player_name": "Cristiano Ronaldo",
         "games": 33,
         "time": 2920,
         "goals": 31,
         "xG": 29.4316794741899,
         "assists": 5,
         "xA": 6.06722583249211,
         "shots": 208,
         "key_passes": 51,
         "yellow_cards": 3,
         "red_cards": 0,
         "position": "F",
         "team_name": "Juventus",
         "npg": 19,
         "npxG": 19.5349563378841,
         "xGChain": 26.5536093339324,
         "xGBuildup": 7.22464156895876,
         "year": 2019,
         "_deepnote_index_column": 3569
        },
        {
         "player_id": 2371,
         "player_name": "Cristiano Ronaldo",
         "games": 31,
         "time": 2692,
         "goals": 21,
         "xG": 23.3240399025381,
         "assists": 8,
         "xA": 5.19387383386493,
         "shots": 175,
         "key_passes": 48,
         "yellow_cards": 3,
         "red_cards": 0,
         "position": "F M S",
         "team_name": "Juventus",
         "npg": 16,
         "npxG": 18.756286855787,
         "xGChain": 21.8541698530316,
         "xGBuildup": 7.17733913939446,
         "year": 2018,
         "_deepnote_index_column": 6227
        },
        {
         "player_id": 2371,
         "player_name": "Cristiano Ronaldo",
         "games": 27,
         "time": 2304,
         "goals": 26,
         "xG": 26.9993035793304,
         "assists": 5,
         "xA": 5.52484164386988,
         "shots": 178,
         "key_passes": 40,
         "yellow_cards": 1,
         "red_cards": 0,
         "position": "F",
         "team_name": "Real Madrid",
         "npg": 23,
         "npxG": 24.0261930525303,
         "xGChain": 31.6238373368979,
         "xGBuildup": 9.47185287065804,
         "year": 2017,
         "_deepnote_index_column": 8597
        },
        {
         "player_id": 2371,
         "player_name": "Cristiano Ronaldo",
         "games": 29,
         "time": 2546,
         "goals": 25,
         "xG": 25.4137377589941,
         "assists": 6,
         "xA": 4.59103593137115,
         "shots": 162,
         "key_passes": 31,
         "yellow_cards": 4,
         "red_cards": 0,
         "position": "F M",
         "team_name": "Real Madrid",
         "npg": 19,
         "npxG": 19.4676447957754,
         "xGChain": 29.5745783448219,
         "xGBuildup": 8.6610948946327,
         "year": 2016,
         "_deepnote_index_column": 11280
        },
        {
         "player_id": 2371,
         "player_name": "Cristiano Ronaldo",
         "games": 36,
         "time": 3186,
         "goals": 35,
         "xG": 35.5890064537525,
         "assists": 11,
         "xA": 8.60640434734523,
         "shots": 227,
         "key_passes": 51,
         "yellow_cards": 3,
         "red_cards": 0,
         "position": "F M",
         "team_name": "Real Madrid",
         "npg": 29,
         "npxG": 28.8995076268911,
         "xGChain": 40.8180284500122,
         "xGBuildup": 9.86300460249186,
         "year": 2015,
         "_deepnote_index_column": 14086
        },
        {
         "player_id": 2371,
         "player_name": "Cristiano Ronaldo",
         "games": 35,
         "time": 3103,
         "goals": 48,
         "xG": 39.308760679327,
         "assists": 16,
         "xA": 13.6006423477083,
         "shots": 225,
         "key_passes": 76,
         "yellow_cards": 5,
         "red_cards": 1,
         "position": "F M",
         "team_name": "Real Madrid",
         "npg": 38,
         "npxG": 30.3896858459339,
         "xGChain": 43.6080199917778,
         "xGBuildup": 7.52023725397885,
         "year": 2014,
         "_deepnote_index_column": 16769
        }
       ]
      },
      "text/plain": "       player_id        player_name  games  time  goals         xG  assists  \\\n1024        2371  Cristiano Ronaldo      6   470      8   5.799580        1   \n3569        2371  Cristiano Ronaldo     33  2920     31  29.431679        5   \n6227        2371  Cristiano Ronaldo     31  2692     21  23.324040        8   \n8597        2371  Cristiano Ronaldo     27  2304     26  26.999304        5   \n11280       2371  Cristiano Ronaldo     29  2546     25  25.413738        6   \n14086       2371  Cristiano Ronaldo     36  3186     35  35.589006       11   \n16769       2371  Cristiano Ronaldo     35  3103     48  39.308761       16   \n\n              xA  shots  key_passes  yellow_cards  red_cards position  \\\n1024    0.725525     29           7             0          0      F S   \n3569    6.067226    208          51             3          0        F   \n6227    5.193874    175          48             3          0    F M S   \n8597    5.524842    178          40             1          0        F   \n11280   4.591036    162          31             4          0      F M   \n14086   8.606404    227          51             3          0      F M   \n16769  13.600642    225          76             5          1      F M   \n\n         team_name  npg       npxG    xGChain  xGBuildup  year  \n1024      Juventus    6   4.276982   5.001183   1.742834  2020  \n3569      Juventus   19  19.534956  26.553609   7.224642  2019  \n6227      Juventus   16  18.756287  21.854170   7.177339  2018  \n8597   Real Madrid   23  24.026193  31.623837   9.471853  2017  \n11280  Real Madrid   19  19.467645  29.574578   8.661095  2016  \n14086  Real Madrid   29  28.899508  40.818028   9.863005  2015  \n16769  Real Madrid   38  30.389686  43.608020   7.520237  2014  ",
      "text/html": "<div>\n<style scoped>\n    .dataframe tbody tr th:only-of-type {\n        vertical-align: middle;\n    }\n\n    .dataframe tbody tr th {\n        vertical-align: top;\n    }\n\n    .dataframe thead th {\n        text-align: right;\n    }\n</style>\n<table border=\"1\" class=\"dataframe\">\n  <thead>\n    <tr style=\"text-align: right;\">\n      <th></th>\n      <th>player_id</th>\n      <th>player_name</th>\n      <th>games</th>\n      <th>time</th>\n      <th>goals</th>\n      <th>xG</th>\n      <th>assists</th>\n      <th>xA</th>\n      <th>shots</th>\n      <th>key_passes</th>\n      <th>yellow_cards</th>\n      <th>red_cards</th>\n      <th>position</th>\n      <th>team_name</th>\n      <th>npg</th>\n      <th>npxG</th>\n      <th>xGChain</th>\n      <th>xGBuildup</th>\n      <th>year</th>\n    </tr>\n  </thead>\n  <tbody>\n    <tr>\n      <th>1024</th>\n      <td>2371</td>\n      <td>Cristiano Ronaldo</td>\n      <td>6</td>\n      <td>470</td>\n      <td>8</td>\n      <td>5.799580</td>\n      <td>1</td>\n      <td>0.725525</td>\n      <td>29</td>\n      <td>7</td>\n      <td>0</td>\n      <td>0</td>\n      <td>F S</td>\n      <td>Juventus</td>\n      <td>6</td>\n      <td>4.276982</td>\n      <td>5.001183</td>\n      <td>1.742834</td>\n      <td>2020</td>\n    </tr>\n    <tr>\n      <th>3569</th>\n      <td>2371</td>\n      <td>Cristiano Ronaldo</td>\n      <td>33</td>\n      <td>2920</td>\n      <td>31</td>\n      <td>29.431679</td>\n      <td>5</td>\n      <td>6.067226</td>\n      <td>208</td>\n      <td>51</td>\n      <td>3</td>\n      <td>0</td>\n      <td>F</td>\n      <td>Juventus</td>\n      <td>19</td>\n      <td>19.534956</td>\n      <td>26.553609</td>\n      <td>7.224642</td>\n      <td>2019</td>\n    </tr>\n    <tr>\n      <th>6227</th>\n      <td>2371</td>\n      <td>Cristiano Ronaldo</td>\n      <td>31</td>\n      <td>2692</td>\n      <td>21</td>\n      <td>23.324040</td>\n      <td>8</td>\n      <td>5.193874</td>\n      <td>175</td>\n      <td>48</td>\n      <td>3</td>\n      <td>0</td>\n      <td>F M S</td>\n      <td>Juventus</td>\n      <td>16</td>\n      <td>18.756287</td>\n      <td>21.854170</td>\n      <td>7.177339</td>\n      <td>2018</td>\n    </tr>\n    <tr>\n      <th>8597</th>\n      <td>2371</td>\n      <td>Cristiano Ronaldo</td>\n      <td>27</td>\n      <td>2304</td>\n      <td>26</td>\n      <td>26.999304</td>\n      <td>5</td>\n      <td>5.524842</td>\n      <td>178</td>\n      <td>40</td>\n      <td>1</td>\n      <td>0</td>\n      <td>F</td>\n      <td>Real Madrid</td>\n      <td>23</td>\n      <td>24.026193</td>\n      <td>31.623837</td>\n      <td>9.471853</td>\n      <td>2017</td>\n    </tr>\n    <tr>\n      <th>11280</th>\n      <td>2371</td>\n      <td>Cristiano Ronaldo</td>\n      <td>29</td>\n      <td>2546</td>\n      <td>25</td>\n      <td>25.413738</td>\n      <td>6</td>\n      <td>4.591036</td>\n      <td>162</td>\n      <td>31</td>\n      <td>4</td>\n      <td>0</td>\n      <td>F M</td>\n      <td>Real Madrid</td>\n      <td>19</td>\n      <td>19.467645</td>\n      <td>29.574578</td>\n      <td>8.661095</td>\n      <td>2016</td>\n    </tr>\n    <tr>\n      <th>14086</th>\n      <td>2371</td>\n      <td>Cristiano Ronaldo</td>\n      <td>36</td>\n      <td>3186</td>\n      <td>35</td>\n      <td>35.589006</td>\n      <td>11</td>\n      <td>8.606404</td>\n      <td>227</td>\n      <td>51</td>\n      <td>3</td>\n      <td>0</td>\n      <td>F M</td>\n      <td>Real Madrid</td>\n      <td>29</td>\n      <td>28.899508</td>\n      <td>40.818028</td>\n      <td>9.863005</td>\n      <td>2015</td>\n    </tr>\n    <tr>\n      <th>16769</th>\n      <td>2371</td>\n      <td>Cristiano Ronaldo</td>\n      <td>35</td>\n      <td>3103</td>\n      <td>48</td>\n      <td>39.308761</td>\n      <td>16</td>\n      <td>13.600642</td>\n      <td>225</td>\n      <td>76</td>\n      <td>5</td>\n      <td>1</td>\n      <td>F M</td>\n      <td>Real Madrid</td>\n      <td>38</td>\n      <td>30.389686</td>\n      <td>43.608020</td>\n      <td>7.520237</td>\n      <td>2014</td>\n    </tr>\n  </tbody>\n</table>\n</div>"
     },
     "metadata": {}
    }
   ],
   "execution_count": null
  },
  {
   "cell_type": "code",
   "source": "fig, ax = plt.subplots()\nax.plot('year', 'goals', data = messi_goals, c=\"red\")\nax.plot('year', 'goals', data = ronaldo_goals, c=\"blue\")\nplt.show",
   "metadata": {
    "cell_id": "c54792ea-28f7-4299-a7db-14c80c3615e8",
    "tags": [],
    "deepnote_cell_height": 456.1875,
    "deepnote_to_be_reexecuted": false,
    "source_hash": "70e9caa9",
    "execution_start": 1645198119212,
    "execution_millis": 269,
    "deepnote_output_heights": [
     21.1875,
     253
    ],
    "deepnote_cell_type": "code"
   },
   "outputs": [
    {
     "output_type": "execute_result",
     "execution_count": 7,
     "data": {
      "text/plain": "<function matplotlib.pyplot.show(close=None, block=None)>"
     },
     "metadata": {}
    },
    {
     "data": {
      "text/plain": "<Figure size 432x288 with 1 Axes>",
      "image/png": "[encoded data removed]"
     },
     "metadata": {
      "needs_background": "light",
      "image/png": {
       "width": 368,
       "height": 251
      }
     },
     "output_type": "display_data"
    }
   ],
   "execution_count": null
  },
  {
   "cell_type": "code",
   "source": "fig, ax = plt.subplots()\nax.plot('year', 'goals', data = messi_goals, c=\"red\", label='Messi goals', marker='o', linestyle = \"dashdot\")\nax.plot('year', 'goals', data = ronaldo_goals, c=\"blue\", label='Cristiano goals', marker ='D', linestyle = \"dotted\")\nax.legend() # Sin este metodo no se imprimen las legendas\nax.set(xlabel=\"Years\",ylabel=\"Goals\",title=\"Cristian and Messi goals\")\n# ax.set_xlabel(\"name\")\n# ax.set_ylabel(\"name\")\n# ax.set_title(\"title\")\nplt.show",
   "metadata": {
    "cell_id": "12fac64c-d1aa-49fb-b46e-24adc80729b0",
    "tags": [],
    "deepnote_cell_height": 573.1875,
    "deepnote_to_be_reexecuted": false,
    "source_hash": "8e1c01f9",
    "execution_start": 1645198123016,
    "execution_millis": 487,
    "deepnote_output_heights": [
     21.1875,
     280
    ],
    "deepnote_cell_type": "code"
   },
   "outputs": [
    {
     "output_type": "execute_result",
     "execution_count": 8,
     "data": {
      "text/plain": "<function matplotlib.pyplot.show(close=None, block=None)>"
     },
     "metadata": {}
    },
    {
     "data": {
      "text/plain": "<Figure size 432x288 with 1 Axes>",
      "image/png": "[encoded data removed]"
     },
     "metadata": {
      "needs_background": "light",
      "image/png": {
       "width": 382,
       "height": 278
      }
     },
     "output_type": "display_data"
    }
   ],
   "execution_count": null
  },
  {
   "cell_type": "code",
   "source": "fig, ax = plt.subplots(3,2)\nplt.show()\n",
   "metadata": {
    "cell_id": "08d187f0-9349-411d-8b85-eeffc97ea67a",
    "tags": [],
    "deepnote_cell_height": 387,
    "deepnote_to_be_reexecuted": false,
    "source_hash": "9702e888",
    "execution_start": 1645198125405,
    "execution_millis": 762,
    "deepnote_output_heights": [
     254
    ],
    "deepnote_cell_type": "code"
   },
   "outputs": [
    {
     "data": {
      "text/plain": "<Figure size 432x288 with 6 Axes>",
      "image/png": "[encoded data removed]"
     },
     "metadata": {
      "needs_background": "light",
      "image/png": {
       "width": 380,
       "height": 252
      }
     },
     "output_type": "display_data"
    }
   ],
   "execution_count": null
  },
  {
   "cell_type": "code",
   "source": "ax.shape # Tengo seis imágenes y puedo completarlas citandolas como listas\n# ax[0,0] ax[0,1] ax[1,0] ax[1,1] ax[2,0] ax[2,1]",
   "metadata": {
    "cell_id": "3817de2e-19ac-42ef-9b08-36ab2ee32d40",
    "tags": [],
    "deepnote_cell_height": 136.1875,
    "deepnote_to_be_reexecuted": false,
    "source_hash": "fffac900",
    "execution_start": 1645198128669,
    "execution_millis": 6,
    "deepnote_output_heights": [
     21.1875
    ],
    "deepnote_cell_type": "code"
   },
   "outputs": [
    {
     "output_type": "execute_result",
     "execution_count": 10,
     "data": {
      "text/plain": "(3, 2)"
     },
     "metadata": {}
    }
   ],
   "execution_count": null
  },
  {
   "cell_type": "markdown",
   "source": "Tips adicionales: si quieres que todos tus plots tengan la misma escala en el eje Y, pásale a plt.subplots el argumento sharey=True. Además, figsize te permite colocar el ancho y alto respectivamente (en pulgadas, por defecto está en [6.4, 4.8]).",
   "metadata": {
    "cell_id": "2e847c6e-f00e-48cf-9511-36b47eec73f9",
    "tags": [],
    "deepnote_cell_height": 74.796875,
    "deepnote_cell_type": "markdown"
   }
  },
  {
   "cell_type": "code",
   "source": "cavani_goals = df[(df['player_name'] == 'Edinson Cavani') & (df['year'] != 2020)]\ncavani_goals",
   "metadata": {
    "cell_id": "231bdb47-eee6-4be2-bb38-c6d8b18d39a9",
    "tags": [],
    "deepnote_cell_height": 417.796875,
    "deepnote_to_be_reexecuted": false,
    "source_hash": "2e35a428",
    "execution_start": 1645198131255,
    "execution_millis": 91,
    "deepnote_cell_type": "code"
   },
   "outputs": [
    {
     "output_type": "execute_result",
     "execution_count": 11,
     "data": {
      "application/vnd.deepnote.dataframe.v3+json": {
       "column_count": 19,
       "row_count": 6,
       "columns": [
        {
         "name": "player_id",
         "dtype": "int64",
         "stats": {
          "unique_count": 1,
          "nan_count": 0,
          "min": "3294",
          "max": "3294",
          "histogram": [
           {
            "bin_start": 3293.5,
            "bin_end": 3293.6,
            "count": 0
           },
           {
            "bin_start": 3293.6,
            "bin_end": 3293.7,
            "count": 0
           },
           {
            "bin_start": 3293.7,
            "bin_end": 3293.8,
            "count": 0
           },
           {
            "bin_start": 3293.8,
            "bin_end": 3293.9,
            "count": 0
           },
           {
            "bin_start": 3293.9,
            "bin_end": 3294,
            "count": 0
           },
           {
            "bin_start": 3294,
            "bin_end": 3294.1,
            "count": 6
           },
           {
            "bin_start": 3294.1,
            "bin_end": 3294.2,
            "count": 0
           },
           {
            "bin_start": 3294.2,
            "bin_end": 3294.3,
            "count": 0
           },
           {
            "bin_start": 3294.3,
            "bin_end": 3294.4,
            "count": 0
           },
           {
            "bin_start": 3294.4,
            "bin_end": 3294.5,
            "count": 0
           }
          ]
         }
        },
        {
         "name": "player_name",
         "dtype": "object",
         "stats": {
          "unique_count": 1,
          "nan_count": 0,
          "categories": [
           {
            "name": "Edinson Cavani",
            "count": 6
           }
          ]
         }
        },
        {
         "name": "games",
         "dtype": "int64",
         "stats": {
          "unique_count": 5,
          "nan_count": 0,
          "min": "14",
          "max": "36",
          "histogram": [
           {
            "bin_start": 14,
            "bin_end": 16.2,
            "count": 1
           },
           {
            "bin_start": 16.2,
            "bin_end": 18.4,
            "count": 0
           },
           {
            "bin_start": 18.4,
            "bin_end": 20.6,
            "count": 0
           },
           {
            "bin_start": 20.6,
            "bin_end": 22.8,
            "count": 1
           },
           {
            "bin_start": 22.8,
            "bin_end": 25,
            "count": 0
           },
           {
            "bin_start": 25,
            "bin_end": 27.200000000000003,
            "count": 0
           },
           {
            "bin_start": 27.200000000000003,
            "bin_end": 29.400000000000002,
            "count": 0
           },
           {
            "bin_start": 29.400000000000002,
            "bin_end": 31.6,
            "count": 0
           },
           {
            "bin_start": 31.6,
            "bin_end": 33.8,
            "count": 2
           },
           {
            "bin_start": 33.8,
            "bin_end": 36,
            "count": 2
           }
          ]
         }
        },
        {
         "name": "time",
         "dtype": "int64",
         "stats": {
          "unique_count": 6,
          "nan_count": 0,
          "min": "593",
          "max": "2983",
          "histogram": [
           {
            "bin_start": 593,
            "bin_end": 832,
            "count": 1
           },
           {
            "bin_start": 832,
            "bin_end": 1071,
            "count": 0
           },
           {
            "bin_start": 1071,
            "bin_end": 1310,
            "count": 0
           },
           {
            "bin_start": 1310,
            "bin_end": 1549,
            "count": 0
           },
           {
            "bin_start": 1549,
            "bin_end": 1788,
            "count": 1
           },
           {
            "bin_start": 1788,
            "bin_end": 2027,
            "count": 0
           },
           {
            "bin_start": 2027,
            "bin_end": 2266,
            "count": 0
           },
           {
            "bin_start": 2266,
            "bin_end": 2505,
            "count": 1
           },
           {
            "bin_start": 2505,
            "bin_end": 2744,
            "count": 2
           },
           {
            "bin_start": 2744,
            "bin_end": 2983,
            "count": 1
           }
          ]
         }
        },
        {
         "name": "goals",
         "dtype": "int64",
         "stats": {
          "unique_count": 5,
          "nan_count": 0,
          "min": "4",
          "max": "35",
          "histogram": [
           {
            "bin_start": 4,
            "bin_end": 7.1,
            "count": 1
           },
           {
            "bin_start": 7.1,
            "bin_end": 10.2,
            "count": 0
           },
           {
            "bin_start": 10.2,
            "bin_end": 13.3,
            "count": 0
           },
           {
            "bin_start": 13.3,
            "bin_end": 16.4,
            "count": 0
           },
           {
            "bin_start": 16.4,
            "bin_end": 19.5,
            "count": 3
           },
           {
            "bin_start": 19.5,
            "bin_end": 22.6,
            "count": 0
           },
           {
            "bin_start": 22.6,
            "bin_end": 25.7,
            "count": 0
           },
           {
            "bin_start": 25.7,
            "bin_end": 28.8,
            "count": 1
           },
           {
            "bin_start": 28.8,
            "bin_end": 31.900000000000002,
            "count": 0
           },
           {
            "bin_start": 31.900000000000002,
            "bin_end": 35,
            "count": 1
           }
          ]
         }
        },
        {
         "name": "xG",
         "dtype": "float64",
         "stats": {
          "unique_count": 6,
          "nan_count": 0,
          "min": "9.33437445759773",
          "max": "36.8666223660111",
          "histogram": [
           {
            "bin_start": 9.33437445759773,
            "bin_end": 12.087599248439068,
            "count": 1
           },
           {
            "bin_start": 12.087599248439068,
            "bin_end": 14.840824039280404,
            "count": 0
           },
           {
            "bin_start": 14.840824039280404,
            "bin_end": 17.594048830121743,
            "count": 1
           },
           {
            "bin_start": 17.594048830121743,
            "bin_end": 20.34727362096308,
            "count": 1
           },
           {
            "bin_start": 20.34727362096308,
            "bin_end": 23.100498411804416,
            "count": 1
           },
           {
            "bin_start": 23.100498411804416,
            "bin_end": 25.853723202645753,
            "count": 1
           },
           {
            "bin_start": 25.853723202645753,
            "bin_end": 28.60694799348709,
            "count": 0
           },
           {
            "bin_start": 28.60694799348709,
            "bin_end": 31.360172784328427,
            "count": 0
           },
           {
            "bin_start": 31.360172784328427,
            "bin_end": 34.11339757516976,
            "count": 0
           },
           {
            "bin_start": 34.11339757516976,
            "bin_end": 36.8666223660111,
            "count": 1
           }
          ]
         }
        },
        {
         "name": "assists",
         "dtype": "int64",
         "stats": {
          "unique_count": 4,
          "nan_count": 0,
          "min": "1",
          "max": "6",
          "histogram": [
           {
            "bin_start": 1,
            "bin_end": 1.5,
            "count": 2
           },
           {
            "bin_start": 1.5,
            "bin_end": 2,
            "count": 0
           },
           {
            "bin_start": 2,
            "bin_end": 2.5,
            "count": 0
           },
           {
            "bin_start": 2.5,
            "bin_end": 3,
            "count": 0
           },
           {
            "bin_start": 3,
            "bin_end": 3.5,
            "count": 0
           },
           {
            "bin_start": 3.5,
            "bin_end": 4,
            "count": 0
           },
           {
            "bin_start": 4,
            "bin_end": 4.5,
            "count": 1
           },
           {
            "bin_start": 4.5,
            "bin_end": 5,
            "count": 0
           },
           {
            "bin_start": 5,
            "bin_end": 5.5,
            "count": 2
           },
           {
            "bin_start": 5.5,
            "bin_end": 6,
            "count": 1
           }
          ]
         }
        },
        {
         "name": "xA",
         "dtype": "float64",
         "stats": {
          "unique_count": 6,
          "nan_count": 0,
          "min": "1.09297528490424",
          "max": "6.40049407444894",
          "histogram": [
           {
            "bin_start": 1.09297528490424,
            "bin_end": 1.6237271638587099,
            "count": 1
           },
           {
            "bin_start": 1.6237271638587099,
            "bin_end": 2.15447904281318,
            "count": 1
           },
           {
            "bin_start": 2.15447904281318,
            "bin_end": 2.6852309217676495,
            "count": 1
           },
           {
            "bin_start": 2.6852309217676495,
            "bin_end": 3.21598280072212,
            "count": 1
           },
           {
            "bin_start": 3.21598280072212,
            "bin_end": 3.7467346796765897,
            "count": 1
           },
           {
            "bin_start": 3.7467346796765897,
            "bin_end": 4.277486558631059,
            "count": 0
           },
           {
            "bin_start": 4.277486558631059,
            "bin_end": 4.80823843758553,
            "count": 0
           },
           {
            "bin_start": 4.80823843758553,
            "bin_end": 5.3389903165399994,
            "count": 0
           },
           {
            "bin_start": 5.3389903165399994,
            "bin_end": 5.869742195494469,
            "count": 0
           },
           {
            "bin_start": 5.869742195494469,
            "bin_end": 6.40049407444894,
            "count": 1
           }
          ]
         }
        },
        {
         "name": "shots",
         "dtype": "int64",
         "stats": {
          "unique_count": 6,
          "nan_count": 0,
          "min": "28",
          "max": "143",
          "histogram": [
           {
            "bin_start": 28,
            "bin_end": 39.5,
            "count": 1
           },
           {
            "bin_start": 39.5,
            "bin_end": 51,
            "count": 0
           },
           {
            "bin_start": 51,
            "bin_end": 62.5,
            "count": 1
           },
           {
            "bin_start": 62.5,
            "bin_end": 74,
            "count": 0
           },
           {
            "bin_start": 74,
            "bin_end": 85.5,
            "count": 0
           },
           {
            "bin_start": 85.5,
            "bin_end": 97,
            "count": 1
           },
           {
            "bin_start": 97,
            "bin_end": 108.5,
            "count": 1
           },
           {
            "bin_start": 108.5,
            "bin_end": 120,
            "count": 1
           },
           {
            "bin_start": 120,
            "bin_end": 131.5,
            "count": 0
           },
           {
            "bin_start": 131.5,
            "bin_end": 143,
            "count": 1
           }
          ]
         }
        },
        {
         "name": "key_passes",
         "dtype": "int64",
         "stats": {
          "unique_count": 6,
          "nan_count": 0,
          "min": "10",
          "max": "38",
          "histogram": [
           {
            "bin_start": 10,
            "bin_end": 12.8,
            "count": 1
           },
           {
            "bin_start": 12.8,
            "bin_end": 15.6,
            "count": 2
           },
           {
            "bin_start": 15.6,
            "bin_end": 18.4,
            "count": 0
           },
           {
            "bin_start": 18.4,
            "bin_end": 21.2,
            "count": 0
           },
           {
            "bin_start": 21.2,
            "bin_end": 24,
            "count": 0
           },
           {
            "bin_start": 24,
            "bin_end": 26.799999999999997,
            "count": 2
           },
           {
            "bin_start": 26.799999999999997,
            "bin_end": 29.599999999999998,
            "count": 0
           },
           {
            "bin_start": 29.599999999999998,
            "bin_end": 32.4,
            "count": 0
           },
           {
            "bin_start": 32.4,
            "bin_end": 35.2,
            "count": 0
           },
           {
            "bin_start": 35.2,
            "bin_end": 38,
            "count": 1
           }
          ]
         }
        },
        {
         "name": "yellow_cards",
         "dtype": "int64",
         "stats": {
          "unique_count": 4,
          "nan_count": 0,
          "min": "1",
          "max": "5",
          "histogram": [
           {
            "bin_start": 1,
            "bin_end": 1.4,
            "count": 1
           },
           {
            "bin_start": 1.4,
            "bin_end": 1.8,
            "count": 0
           },
           {
            "bin_start": 1.8,
            "bin_end": 2.2,
            "count": 2
           },
           {
            "bin_start": 2.2,
            "bin_end": 2.6,
            "count": 0
           },
           {
            "bin_start": 2.6,
            "bin_end": 3,
            "count": 0
           },
           {
            "bin_start": 3,
            "bin_end": 3.4000000000000004,
            "count": 2
           },
           {
            "bin_start": 3.4000000000000004,
            "bin_end": 3.8000000000000003,
            "count": 0
           },
           {
            "bin_start": 3.8000000000000003,
            "bin_end": 4.2,
            "count": 0
           },
           {
            "bin_start": 4.2,
            "bin_end": 4.6,
            "count": 0
           },
           {
            "bin_start": 4.6,
            "bin_end": 5,
            "count": 1
           }
          ]
         }
        },
        {
         "name": "red_cards",
         "dtype": "int64",
         "stats": {
          "unique_count": 2,
          "nan_count": 0,
          "min": "0",
          "max": "1",
          "histogram": [
           {
            "bin_start": 0,
            "bin_end": 0.1,
            "count": 5
           },
           {
            "bin_start": 0.1,
            "bin_end": 0.2,
            "count": 0
           },
           {
            "bin_start": 0.2,
            "bin_end": 0.30000000000000004,
            "count": 0
           },
           {
            "bin_start": 0.30000000000000004,
            "bin_end": 0.4,
            "count": 0
           },
           {
            "bin_start": 0.4,
            "bin_end": 0.5,
            "count": 0
           },
           {
            "bin_start": 0.5,
            "bin_end": 0.6000000000000001,
            "count": 0
           },
           {
            "bin_start": 0.6000000000000001,
            "bin_end": 0.7000000000000001,
            "count": 0
           },
           {
            "bin_start": 0.7000000000000001,
            "bin_end": 0.8,
            "count": 0
           },
           {
            "bin_start": 0.8,
            "bin_end": 0.9,
            "count": 0
           },
           {
            "bin_start": 0.9,
            "bin_end": 1,
            "count": 1
           }
          ]
         }
        },
        {
         "name": "position",
         "dtype": "object",
         "stats": {
          "unique_count": 1,
          "nan_count": 0,
          "categories": [
           {
            "name": "F S",
            "count": 6
           }
          ]
         }
        },
        {
         "name": "team_name",
         "dtype": "object",
         "stats": {
          "unique_count": 1,
          "nan_count": 0,
          "categories": [
           {
            "name": "Paris Saint Germain",
            "count": 6
           }
          ]
         }
        },
        {
         "name": "npg",
         "dtype": "int64",
         "stats": {
          "unique_count": 6,
          "nan_count": 0,
          "min": "3",
          "max": "28",
          "histogram": [
           {
            "bin_start": 3,
            "bin_end": 5.5,
            "count": 1
           },
           {
            "bin_start": 5.5,
            "bin_end": 8,
            "count": 0
           },
           {
            "bin_start": 8,
            "bin_end": 10.5,
            "count": 0
           },
           {
            "bin_start": 10.5,
            "bin_end": 13,
            "count": 0
           },
           {
            "bin_start": 13,
            "bin_end": 15.5,
            "count": 2
           },
           {
            "bin_start": 15.5,
            "bin_end": 18,
            "count": 0
           },
           {
            "bin_start": 18,
            "bin_end": 20.5,
            "count": 1
           },
           {
            "bin_start": 20.5,
            "bin_end": 23,
            "count": 0
           },
           {
            "bin_start": 23,
            "bin_end": 25.5,
            "count": 1
           },
           {
            "bin_start": 25.5,
            "bin_end": 28,
            "count": 1
           }
          ]
         }
        },
        {
         "name": "npxG",
         "dtype": "float64",
         "stats": {
          "unique_count": 6,
          "nan_count": 0,
          "min": "8.57427933812141",
          "max": "30.7858611270785",
          "histogram": [
           {
            "bin_start": 8.57427933812141,
            "bin_end": 10.79543751701712,
            "count": 1
           },
           {
            "bin_start": 10.79543751701712,
            "bin_end": 13.016595695912828,
            "count": 1
           },
           {
            "bin_start": 13.016595695912828,
            "bin_end": 15.237753874808536,
            "count": 0
           },
           {
            "bin_start": 15.237753874808536,
            "bin_end": 17.458912053704246,
            "count": 0
           },
           {
            "bin_start": 17.458912053704246,
            "bin_end": 19.680070232599956,
            "count": 1
           },
           {
            "bin_start": 19.680070232599956,
            "bin_end": 21.901228411495666,
            "count": 2
           },
           {
            "bin_start": 21.901228411495666,
            "bin_end": 24.122386590391372,
            "count": 0
           },
           {
            "bin_start": 24.122386590391372,
            "bin_end": 26.34354476928708,
            "count": 0
           },
           {
            "bin_start": 26.34354476928708,
            "bin_end": 28.56470294818279,
            "count": 0
           },
           {
            "bin_start": 28.56470294818279,
            "bin_end": 30.7858611270785,
            "count": 1
           }
          ]
         }
        },
        {
         "name": "xGChain",
         "dtype": "float64",
         "stats": {
          "unique_count": 6,
          "nan_count": 0,
          "min": "8.84220205619931",
          "max": "30.913603503257",
          "histogram": [
           {
            "bin_start": 8.84220205619931,
            "bin_end": 11.04934220090508,
            "count": 1
           },
           {
            "bin_start": 11.04934220090508,
            "bin_end": 13.256482345610848,
            "count": 0
           },
           {
            "bin_start": 13.256482345610848,
            "bin_end": 15.463622490316617,
            "count": 0
           },
           {
            "bin_start": 15.463622490316617,
            "bin_end": 17.670762635022385,
            "count": 0
           },
           {
            "bin_start": 17.670762635022385,
            "bin_end": 19.877902779728153,
            "count": 1
           },
           {
            "bin_start": 19.877902779728153,
            "bin_end": 22.085042924433925,
            "count": 0
           },
           {
            "bin_start": 22.085042924433925,
            "bin_end": 24.292183069139696,
            "count": 0
           },
           {
            "bin_start": 24.292183069139696,
            "bin_end": 26.499323213845464,
            "count": 2
           },
           {
            "bin_start": 26.499323213845464,
            "bin_end": 28.706463358551233,
            "count": 0
           },
           {
            "bin_start": 28.706463358551233,
            "bin_end": 30.913603503257,
            "count": 2
           }
          ]
         }
        },
        {
         "name": "xGBuildup",
         "dtype": "float64",
         "stats": {
          "unique_count": 6,
          "nan_count": 0,
          "min": "1.36483390629292",
          "max": "8.24631651304662",
          "histogram": [
           {
            "bin_start": 1.36483390629292,
            "bin_end": 2.05298216696829,
            "count": 1
           },
           {
            "bin_start": 2.05298216696829,
            "bin_end": 2.74113042764366,
            "count": 0
           },
           {
            "bin_start": 2.74113042764366,
            "bin_end": 3.4292786883190303,
            "count": 1
           },
           {
            "bin_start": 3.4292786883190303,
            "bin_end": 4.1174269489944,
            "count": 1
           },
           {
            "bin_start": 4.1174269489944,
            "bin_end": 4.805575209669771,
            "count": 0
           },
           {
            "bin_start": 4.805575209669771,
            "bin_end": 5.49372347034514,
            "count": 1
           },
           {
            "bin_start": 5.49372347034514,
            "bin_end": 6.18187173102051,
            "count": 1
           },
           {
            "bin_start": 6.18187173102051,
            "bin_end": 6.87001999169588,
            "count": 0
           },
           {
            "bin_start": 6.87001999169588,
            "bin_end": 7.55816825237125,
            "count": 0
           },
           {
            "bin_start": 7.55816825237125,
            "bin_end": 8.24631651304662,
            "count": 1
           }
          ]
         }
        },
        {
         "name": "year",
         "dtype": "int64",
         "stats": {
          "unique_count": 6,
          "nan_count": 0,
          "min": "2014",
          "max": "2019",
          "histogram": [
           {
            "bin_start": 2014,
            "bin_end": 2014.5,
            "count": 1
           },
           {
            "bin_start": 2014.5,
            "bin_end": 2015,
            "count": 0
           },
           {
            "bin_start": 2015,
            "bin_end": 2015.5,
            "count": 1
           },
           {
            "bin_start": 2015.5,
            "bin_end": 2016,
            "count": 0
           },
           {
            "bin_start": 2016,
            "bin_end": 2016.5,
            "count": 1
           },
           {
            "bin_start": 2016.5,
            "bin_end": 2017,
            "count": 0
           },
           {
            "bin_start": 2017,
            "bin_end": 2017.5,
            "count": 1
           },
           {
            "bin_start": 2017.5,
            "bin_end": 2018,
            "count": 0
           },
           {
            "bin_start": 2018,
            "bin_end": 2018.5,
            "count": 1
           },
           {
            "bin_start": 2018.5,
            "bin_end": 2019,
            "count": 1
           }
          ]
         }
        },
        {
         "name": "_deepnote_index_column",
         "dtype": "int64"
        }
       ],
       "rows": [
        {
         "player_id": 3294,
         "player_name": "Edinson Cavani",
         "games": 14,
         "time": 593,
         "goals": 4,
         "xG": 9.33437445759773,
         "assists": 1,
         "xA": 1.09297528490424,
         "shots": 28,
         "key_passes": 10,
         "yellow_cards": 2,
         "red_cards": 0,
         "position": "F S",
         "team_name": "Paris Saint Germain",
         "npg": 3,
         "npxG": 8.57427933812141,
         "xGChain": 8.84220205619931,
         "xGBuildup": 1.36483390629292,
         "year": 2019,
         "_deepnote_index_column": 4080
        },
        {
         "player_id": 3294,
         "player_name": "Edinson Cavani",
         "games": 21,
         "time": 1677,
         "goals": 18,
         "xG": 15.4453351050615,
         "assists": 5,
         "xA": 3.69990416802466,
         "shots": 52,
         "key_passes": 13,
         "yellow_cards": 1,
         "red_cards": 0,
         "position": "F S",
         "team_name": "Paris Saint Germain",
         "npg": 14,
         "npxG": 11.6448594853282,
         "xGChain": 17.8417286276817,
         "xGBuildup": 3.88731602579355,
         "year": 2018,
         "_deepnote_index_column": 6737
        },
        {
         "player_id": 3294,
         "player_name": "Edinson Cavani",
         "games": 32,
         "time": 2592,
         "goals": 28,
         "xG": 24.3146032709628,
         "assists": 6,
         "xA": 6.40049407444894,
         "shots": 106,
         "key_passes": 38,
         "yellow_cards": 3,
         "red_cards": 0,
         "position": "F S",
         "team_name": "Paris Saint Germain",
         "npg": 25,
         "npxG": 20.5141277629882,
         "xGChain": 29.750943928957,
         "xGBuildup": 5.19134718552232,
         "year": 2017,
         "_deepnote_index_column": 9425
        },
        {
         "player_id": 3294,
         "player_name": "Edinson Cavani",
         "games": 36,
         "time": 2983,
         "goals": 35,
         "xG": 36.8666223660111,
         "assists": 4,
         "xA": 2.20044703222811,
         "shots": 143,
         "key_passes": 25,
         "yellow_cards": 5,
         "red_cards": 0,
         "position": "F S",
         "team_name": "Paris Saint Germain",
         "npg": 28,
         "npxG": 30.7858611270785,
         "xGChain": 30.913603503257,
         "xGBuildup": 2.78126996010542,
         "year": 2016,
         "_deepnote_index_column": 12148
        },
        {
         "player_id": 3294,
         "player_name": "Edinson Cavani",
         "games": 32,
         "time": 2302,
         "goals": 19,
         "xG": 19.3765847459435,
         "assists": 5,
         "xA": 3.12768527120352,
         "shots": 86,
         "key_passes": 24,
         "yellow_cards": 3,
         "red_cards": 0,
         "position": "F S",
         "team_name": "Paris Saint Germain",
         "npg": 19,
         "npxG": 18.6164896264672,
         "xGChain": 25.4006248526275,
         "xGBuildup": 8.24631651304662,
         "year": 2015,
         "_deepnote_index_column": 14892
        },
        {
         "player_id": 3294,
         "player_name": "Edinson Cavani",
         "games": 35,
         "time": 2666,
         "goals": 18,
         "xG": 22.860318928957,
         "assists": 1,
         "xA": 1.7430233117193,
         "shots": 111,
         "key_passes": 14,
         "yellow_cards": 2,
         "red_cards": 1,
         "position": "F S",
         "team_name": "Paris Saint Germain",
         "npg": 15,
         "npxG": 20.5800335407257,
         "xGChain": 25.0874760150909,
         "xGBuildup": 5.91335999965668,
         "year": 2014,
         "_deepnote_index_column": 17654
        }
       ]
      },
      "text/plain": "       player_id     player_name  games  time  goals         xG  assists  \\\n4080        3294  Edinson Cavani     14   593      4   9.334374        1   \n6737        3294  Edinson Cavani     21  1677     18  15.445335        5   \n9425        3294  Edinson Cavani     32  2592     28  24.314603        6   \n12148       3294  Edinson Cavani     36  2983     35  36.866622        4   \n14892       3294  Edinson Cavani     32  2302     19  19.376585        5   \n17654       3294  Edinson Cavani     35  2666     18  22.860319        1   \n\n             xA  shots  key_passes  yellow_cards  red_cards position  \\\n4080   1.092975     28          10             2          0      F S   \n6737   3.699904     52          13             1          0      F S   \n9425   6.400494    106          38             3          0      F S   \n12148  2.200447    143          25             5          0      F S   \n14892  3.127685     86          24             3          0      F S   \n17654  1.743023    111          14             2          1      F S   \n\n                 team_name  npg       npxG    xGChain  xGBuildup  year  \n4080   Paris Saint Germain    3   8.574279   8.842202   1.364834  2019  \n6737   Paris Saint Germain   14  11.644859  17.841729   3.887316  2018  \n9425   Paris Saint Germain   25  20.514128  29.750944   5.191347  2017  \n12148  Paris Saint Germain   28  30.785861  30.913604   2.781270  2016  \n14892  Paris Saint Germain   19  18.616490  25.400625   8.246317  2015  \n17654  Paris Saint Germain   15  20.580034  25.087476   5.913360  2014  ",
      "text/html": "<div>\n<style scoped>\n    .dataframe tbody tr th:only-of-type {\n        vertical-align: middle;\n    }\n\n    .dataframe tbody tr th {\n        vertical-align: top;\n    }\n\n    .dataframe thead th {\n        text-align: right;\n    }\n</style>\n<table border=\"1\" class=\"dataframe\">\n  <thead>\n    <tr style=\"text-align: right;\">\n      <th></th>\n      <th>player_id</th>\n      <th>player_name</th>\n      <th>games</th>\n      <th>time</th>\n      <th>goals</th>\n      <th>xG</th>\n      <th>assists</th>\n      <th>xA</th>\n      <th>shots</th>\n      <th>key_passes</th>\n      <th>yellow_cards</th>\n      <th>red_cards</th>\n      <th>position</th>\n      <th>team_name</th>\n      <th>npg</th>\n      <th>npxG</th>\n      <th>xGChain</th>\n      <th>xGBuildup</th>\n      <th>year</th>\n    </tr>\n  </thead>\n  <tbody>\n    <tr>\n      <th>4080</th>\n      <td>3294</td>\n      <td>Edinson Cavani</td>\n      <td>14</td>\n      <td>593</td>\n      <td>4</td>\n      <td>9.334374</td>\n      <td>1</td>\n      <td>1.092975</td>\n      <td>28</td>\n      <td>10</td>\n      <td>2</td>\n      <td>0</td>\n      <td>F S</td>\n      <td>Paris Saint Germain</td>\n      <td>3</td>\n      <td>8.574279</td>\n      <td>8.842202</td>\n      <td>1.364834</td>\n      <td>2019</td>\n    </tr>\n    <tr>\n      <th>6737</th>\n      <td>3294</td>\n      <td>Edinson Cavani</td>\n      <td>21</td>\n      <td>1677</td>\n      <td>18</td>\n      <td>15.445335</td>\n      <td>5</td>\n      <td>3.699904</td>\n      <td>52</td>\n      <td>13</td>\n      <td>1</td>\n      <td>0</td>\n      <td>F S</td>\n      <td>Paris Saint Germain</td>\n      <td>14</td>\n      <td>11.644859</td>\n      <td>17.841729</td>\n      <td>3.887316</td>\n      <td>2018</td>\n    </tr>\n    <tr>\n      <th>9425</th>\n      <td>3294</td>\n      <td>Edinson Cavani</td>\n      <td>32</td>\n      <td>2592</td>\n      <td>28</td>\n      <td>24.314603</td>\n      <td>6</td>\n      <td>6.400494</td>\n      <td>106</td>\n      <td>38</td>\n      <td>3</td>\n      <td>0</td>\n      <td>F S</td>\n      <td>Paris Saint Germain</td>\n      <td>25</td>\n      <td>20.514128</td>\n      <td>29.750944</td>\n      <td>5.191347</td>\n      <td>2017</td>\n    </tr>\n    <tr>\n      <th>12148</th>\n      <td>3294</td>\n      <td>Edinson Cavani</td>\n      <td>36</td>\n      <td>2983</td>\n      <td>35</td>\n      <td>36.866622</td>\n      <td>4</td>\n      <td>2.200447</td>\n      <td>143</td>\n      <td>25</td>\n      <td>5</td>\n      <td>0</td>\n      <td>F S</td>\n      <td>Paris Saint Germain</td>\n      <td>28</td>\n      <td>30.785861</td>\n      <td>30.913604</td>\n      <td>2.781270</td>\n      <td>2016</td>\n    </tr>\n    <tr>\n      <th>14892</th>\n      <td>3294</td>\n      <td>Edinson Cavani</td>\n      <td>32</td>\n      <td>2302</td>\n      <td>19</td>\n      <td>19.376585</td>\n      <td>5</td>\n      <td>3.127685</td>\n      <td>86</td>\n      <td>24</td>\n      <td>3</td>\n      <td>0</td>\n      <td>F S</td>\n      <td>Paris Saint Germain</td>\n      <td>19</td>\n      <td>18.616490</td>\n      <td>25.400625</td>\n      <td>8.246317</td>\n      <td>2015</td>\n    </tr>\n    <tr>\n      <th>17654</th>\n      <td>3294</td>\n      <td>Edinson Cavani</td>\n      <td>35</td>\n      <td>2666</td>\n      <td>18</td>\n      <td>22.860319</td>\n      <td>1</td>\n      <td>1.743023</td>\n      <td>111</td>\n      <td>14</td>\n      <td>2</td>\n      <td>1</td>\n      <td>F S</td>\n      <td>Paris Saint Germain</td>\n      <td>15</td>\n      <td>20.580034</td>\n      <td>25.087476</td>\n      <td>5.913360</td>\n      <td>2014</td>\n    </tr>\n  </tbody>\n</table>\n</div>"
     },
     "metadata": {}
    }
   ],
   "execution_count": null
  },
  {
   "cell_type": "code",
   "source": "plt.style.use('default')\nfig, ax = plt.subplots(3, 1, sharey=True, figsize=[6, 10])\n\nax[0].plot('year', 'goals', data = messi_goals,marker='o', color='b', linestyle='--', label='Total goals')\nax[0].plot('year', 'npg', data = messi_goals, marker='.',color='b', linestyle='dotted', label='Non penalty goals')\nax[1].plot('year', 'goals', data = ronaldo_goals, marker='s', color='r', linestyle='--', label='Total goals')\nax[1].plot('year', 'npg', data = ronaldo_goals, marker='.',color='r', linestyle='dotted', label='Non penalty goals')\nax[2].plot('year', 'goals', data = cavani_goals, marker='D', color='m', linestyle='--', label='Total goals')\nax[2].plot('year', 'npg', data = cavani_goals, marker='.', color='m', linestyle='dotted', label='Non penalty goals')\n\nax[2].set_xlabel('Years')\nax[0].set_ylabel('Lionel Messi')\nax[1].set_ylabel('Cristiano Ronaldo')\nax[2].set_ylabel('Edinson Cavani')\nax[0].set_title('Goals and non penalty goals')\nax[0].legend()\nax[1].legend()\nax[2].legend()\nplt.show()",
   "metadata": {
    "cell_id": "b6fce0f7-24dd-4880-bb44-a4ebe5d9e043",
    "tags": [],
    "deepnote_cell_height": 1032,
    "deepnote_to_be_reexecuted": false,
    "source_hash": "5cfcdc74",
    "execution_start": 1645198148073,
    "execution_millis": 1224,
    "deepnote_output_heights": [
     611,
     580
    ],
    "deepnote_cell_type": "code"
   },
   "outputs": [
    {
     "data": {
      "text/plain": "<Figure size 600x1000 with 3 Axes>",
      "image/png": "[encoded data removed]"
     },
     "metadata": {
      "image/png": {
       "width": 531,
       "height": 855
      }
     },
     "output_type": "display_data"
    }
   ],
   "execution_count": null
  },
  {
   "cell_type": "markdown",
   "source": "Si no vas a trabajar con suplots, podrías omitir el fig, ax = plt.subplots() y trabajar todo directamtente con plt en vez de con ax. Así es como usualmente lo encontrarás. En general, plt funciona muy parecido a ax, solo hay algunos métodos que cambian, por ejemplo, se usa plt.xlabel en lugar de ax.set_xlabel para etiquetar el eje X.\n\nEn los gráficos de barras es común hacer comparaciones entre categorías, por lo que en vez de tener una escala de números, las etiquetas de tus ejes podrían ser strings que probablemente queden sobrepuestas unas sobre otras.\n\nPara solucionar ese problema, se usa:\n\nplt.xticks(rotation=90) → podrás seleccionar las etiquetas de tus ejes y rotarlas 90 grados.\n\nPor otro lado, si no te gustan los estilos por defecto de matplotlib, es posible usar plantillas prediseñadas con plt.style.use('ggplot'). Tienes que declararlo antes de crear tus figuras y se aplicará a todas. Si quieres luego regresar a los estilos por defecto, podrás pasar 'default' como argumento.",
   "metadata": {
    "cell_id": "aa8ddcc4-565f-4593-a17c-3ab5424b5e50",
    "tags": [],
    "deepnote_cell_height": 310,
    "deepnote_cell_type": "markdown"
   }
  },
  {
   "cell_type": "code",
   "source": "plt.style.use('ggplot')\nfig, ax = plt.subplots(3, 1, sharey=True, figsize=[6, 10])\n\nax[0].plot('year', 'goals', data = messi_goals,marker='o', color='b', linestyle='--', label='Total goals')\nax[0].plot('year', 'npg', data = messi_goals, marker='.',color='b', linestyle='dotted', label='Non penalty goals')\nax[1].plot('year', 'goals', data = ronaldo_goals, marker='s', color='r', linestyle='--', label='Total goals')\nax[1].plot('year', 'npg', data = ronaldo_goals, marker='.',color='r', linestyle='dotted', label='Non penalty goals')\nax[2].plot('year', 'goals', data = cavani_goals, marker='D', color='m', linestyle='--', label='Total goals')\nax[2].plot('year', 'npg', data = cavani_goals, marker='.', color='m', linestyle='dotted', label='Non penalty goals')\n\nax[2].set_xlabel('Years')\nax[0].set_ylabel('Lionel Messi')\nax[1].set_ylabel('Cristiano Ronaldo')\nax[2].set_ylabel('Edinson Cavani')\nax[0].set_title('Goals and non penalty goals')\nax[0].legend()\nax[1].legend()\nax[2].legend()\nplt.show()",
   "metadata": {
    "cell_id": "e4615622-b834-44ef-b636-f51f80e4411a",
    "tags": [],
    "deepnote_cell_height": 1032,
    "deepnote_to_be_reexecuted": false,
    "source_hash": "6e4c749f",
    "execution_start": 1645198172464,
    "execution_millis": 708,
    "deepnote_output_heights": [
     611
    ],
    "deepnote_cell_type": "code"
   },
   "outputs": [
    {
     "data": {
      "text/plain": "<Figure size 600x1000 with 3 Axes>",
      "image/png": "[encoded data removed]"
     },
     "metadata": {
      "image/png": {
       "width": 535,
       "height": 860
      }
     },
     "output_type": "display_data"
    }
   ],
   "execution_count": null
  },
  {
   "cell_type": "code",
   "source": "plt.style.use('Solarize_Light2')\nfig, ax = plt.subplots(3, 1, sharey=True, figsize=[6, 10])\n\nax[0].plot('year', 'goals', data = messi_goals,marker='o', color='b', linestyle='--', label='Total goals')\nax[0].plot('year', 'npg', data = messi_goals, marker='.',color='b', linestyle='dotted', label='Non penalty goals')\nax[1].plot('year', 'goals', data = ronaldo_goals, marker='s', color='r', linestyle='--', label='Total goals')\nax[1].plot('year', 'npg', data = ronaldo_goals, marker='.',color='r', linestyle='dotted', label='Non penalty goals')\nax[2].plot('year', 'goals', data = cavani_goals, marker='D', color='m', linestyle='--', label='Total goals')\nax[2].plot('year', 'npg', data = cavani_goals, marker='.', color='m', linestyle='dotted', label='Non penalty goals')\n\nax[2].set_xlabel('Years')\nax[0].set_ylabel('Lionel Messi')\nax[1].set_ylabel('Cristiano Ronaldo')\nax[2].set_ylabel('Edinson Cavani')\nax[0].set_title('Goals and non penalty goals')\nax[0].legend()\nax[1].legend()\nax[2].legend()\nplt.show()",
   "metadata": {
    "cell_id": "28fffa47-a61c-46b6-a475-22383eed2171",
    "tags": [],
    "deepnote_cell_height": 1032,
    "deepnote_to_be_reexecuted": false,
    "source_hash": "f7dda2a8",
    "execution_start": 1645198414944,
    "execution_millis": 1040,
    "deepnote_output_heights": [
     611
    ],
    "deepnote_cell_type": "code"
   },
   "outputs": [
    {
     "data": {
      "text/plain": "<Figure size 600x1000 with 3 Axes>",
      "image/png": "[encoded data removed]"
     },
     "metadata": {
      "image/png": {
       "width": 535,
       "height": 861
      }
     },
     "output_type": "display_data"
    }
   ],
   "execution_count": null
  },
  {
   "cell_type": "markdown",
   "source": "Descubramos los 10 equipos con más tarjetas rojas acumuladas:",
   "metadata": {
    "cell_id": "d46c716c-ead0-4322-9254-ed0047f40884",
    "tags": [],
    "deepnote_cell_height": 52.390625,
    "deepnote_cell_type": "markdown"
   }
  },
  {
   "cell_type": "code",
   "source": "df.sample(5)",
   "metadata": {
    "cell_id": "f3001f54-32a8-4dbb-a94e-5ab9776825b4",
    "tags": [],
    "deepnote_cell_height": 358.796875,
    "deepnote_to_be_reexecuted": false,
    "source_hash": "f6110b39",
    "execution_start": 1645198520672,
    "execution_millis": 18,
    "deepnote_cell_type": "code"
   },
   "outputs": [
    {
     "output_type": "execute_result",
     "execution_count": 17,
     "data": {
      "application/vnd.deepnote.dataframe.v3+json": {
       "column_count": 19,
       "row_count": 5,
       "columns": [
        {
         "name": "player_id",
         "dtype": "int64",
         "stats": {
          "unique_count": 5,
          "nan_count": 0,
          "min": "775",
          "max": "6420",
          "histogram": [
           {
            "bin_start": 775,
            "bin_end": 1339.5,
            "count": 1
           },
           {
            "bin_start": 1339.5,
            "bin_end": 1904,
            "count": 0
           },
           {
            "bin_start": 1904,
            "bin_end": 2468.5,
            "count": 1
           },
           {
            "bin_start": 2468.5,
            "bin_end": 3033,
            "count": 0
           },
           {
            "bin_start": 3033,
            "bin_end": 3597.5,
            "count": 0
           },
           {
            "bin_start": 3597.5,
            "bin_end": 4162,
            "count": 1
           },
           {
            "bin_start": 4162,
            "bin_end": 4726.5,
            "count": 0
           },
           {
            "bin_start": 4726.5,
            "bin_end": 5291,
            "count": 0
           },
           {
            "bin_start": 5291,
            "bin_end": 5855.5,
            "count": 1
           },
           {
            "bin_start": 5855.5,
            "bin_end": 6420,
            "count": 1
           }
          ]
         }
        },
        {
         "name": "player_name",
         "dtype": "object",
         "stats": {
          "unique_count": 5,
          "nan_count": 0,
          "categories": [
           {
            "name": "Sehrou Guirassy",
            "count": 1
           },
           {
            "name": "Romain Faivre",
            "count": 1
           },
           {
            "name": "3 others",
            "count": 3
           }
          ]
         }
        },
        {
         "name": "games",
         "dtype": "int64",
         "stats": {
          "unique_count": 5,
          "nan_count": 0,
          "min": "1",
          "max": "38",
          "histogram": [
           {
            "bin_start": 1,
            "bin_end": 4.7,
            "count": 1
           },
           {
            "bin_start": 4.7,
            "bin_end": 8.4,
            "count": 0
           },
           {
            "bin_start": 8.4,
            "bin_end": 12.100000000000001,
            "count": 0
           },
           {
            "bin_start": 12.100000000000001,
            "bin_end": 15.8,
            "count": 1
           },
           {
            "bin_start": 15.8,
            "bin_end": 19.5,
            "count": 0
           },
           {
            "bin_start": 19.5,
            "bin_end": 23.200000000000003,
            "count": 1
           },
           {
            "bin_start": 23.200000000000003,
            "bin_end": 26.900000000000002,
            "count": 0
           },
           {
            "bin_start": 26.900000000000002,
            "bin_end": 30.6,
            "count": 1
           },
           {
            "bin_start": 30.6,
            "bin_end": 34.300000000000004,
            "count": 0
           },
           {
            "bin_start": 34.300000000000004,
            "bin_end": 38,
            "count": 1
           }
          ]
         }
        },
        {
         "name": "time",
         "dtype": "int64",
         "stats": {
          "unique_count": 5,
          "nan_count": 0,
          "min": "90",
          "max": "3030",
          "histogram": [
           {
            "bin_start": 90,
            "bin_end": 384,
            "count": 1
           },
           {
            "bin_start": 384,
            "bin_end": 678,
            "count": 0
           },
           {
            "bin_start": 678,
            "bin_end": 972,
            "count": 0
           },
           {
            "bin_start": 972,
            "bin_end": 1266,
            "count": 1
           },
           {
            "bin_start": 1266,
            "bin_end": 1560,
            "count": 0
           },
           {
            "bin_start": 1560,
            "bin_end": 1854,
            "count": 0
           },
           {
            "bin_start": 1854,
            "bin_end": 2148,
            "count": 2
           },
           {
            "bin_start": 2148,
            "bin_end": 2442,
            "count": 0
           },
           {
            "bin_start": 2442,
            "bin_end": 2736,
            "count": 0
           },
           {
            "bin_start": 2736,
            "bin_end": 3030,
            "count": 1
           }
          ]
         }
        },
        {
         "name": "goals",
         "dtype": "int64",
         "stats": {
          "unique_count": 4,
          "nan_count": 0,
          "min": "0",
          "max": "6",
          "histogram": [
           {
            "bin_start": 0,
            "bin_end": 0.6,
            "count": 1
           },
           {
            "bin_start": 0.6,
            "bin_end": 1.2,
            "count": 1
           },
           {
            "bin_start": 1.2,
            "bin_end": 1.7999999999999998,
            "count": 0
           },
           {
            "bin_start": 1.7999999999999998,
            "bin_end": 2.4,
            "count": 0
           },
           {
            "bin_start": 2.4,
            "bin_end": 3,
            "count": 0
           },
           {
            "bin_start": 3,
            "bin_end": 3.5999999999999996,
            "count": 2
           },
           {
            "bin_start": 3.5999999999999996,
            "bin_end": 4.2,
            "count": 0
           },
           {
            "bin_start": 4.2,
            "bin_end": 4.8,
            "count": 0
           },
           {
            "bin_start": 4.8,
            "bin_end": 5.3999999999999995,
            "count": 0
           },
           {
            "bin_start": 5.3999999999999995,
            "bin_end": 6,
            "count": 1
           }
          ]
         }
        },
        {
         "name": "xG",
         "dtype": "float64",
         "stats": {
          "unique_count": 5,
          "nan_count": 0,
          "min": "0.143272131681442",
          "max": "4.87875708099455",
          "histogram": [
           {
            "bin_start": 0.143272131681442,
            "bin_end": 0.6168206266127528,
            "count": 1
           },
           {
            "bin_start": 0.6168206266127528,
            "bin_end": 1.0903691215440636,
            "count": 1
           },
           {
            "bin_start": 1.0903691215440636,
            "bin_end": 1.5639176164753745,
            "count": 0
           },
           {
            "bin_start": 1.5639176164753745,
            "bin_end": 2.037466111406685,
            "count": 0
           },
           {
            "bin_start": 2.037466111406685,
            "bin_end": 2.5110146063379957,
            "count": 1
           },
           {
            "bin_start": 2.5110146063379957,
            "bin_end": 2.984563101269307,
            "count": 0
           },
           {
            "bin_start": 2.984563101269307,
            "bin_end": 3.4581115962006175,
            "count": 0
           },
           {
            "bin_start": 3.4581115962006175,
            "bin_end": 3.931660091131928,
            "count": 0
           },
           {
            "bin_start": 3.931660091131928,
            "bin_end": 4.40520858606324,
            "count": 0
           },
           {
            "bin_start": 4.40520858606324,
            "bin_end": 4.87875708099455,
            "count": 2
           }
          ]
         }
        },
        {
         "name": "assists",
         "dtype": "int64",
         "stats": {
          "unique_count": 3,
          "nan_count": 0,
          "min": "0",
          "max": "4",
          "histogram": [
           {
            "bin_start": 0,
            "bin_end": 0.4,
            "count": 2
           },
           {
            "bin_start": 0.4,
            "bin_end": 0.8,
            "count": 0
           },
           {
            "bin_start": 0.8,
            "bin_end": 1.2000000000000002,
            "count": 2
           },
           {
            "bin_start": 1.2000000000000002,
            "bin_end": 1.6,
            "count": 0
           },
           {
            "bin_start": 1.6,
            "bin_end": 2,
            "count": 0
           },
           {
            "bin_start": 2,
            "bin_end": 2.4000000000000004,
            "count": 0
           },
           {
            "bin_start": 2.4000000000000004,
            "bin_end": 2.8000000000000003,
            "count": 0
           },
           {
            "bin_start": 2.8000000000000003,
            "bin_end": 3.2,
            "count": 0
           },
           {
            "bin_start": 3.2,
            "bin_end": 3.6,
            "count": 0
           },
           {
            "bin_start": 3.6,
            "bin_end": 4,
            "count": 1
           }
          ]
         }
        },
        {
         "name": "xA",
         "dtype": "float64",
         "stats": {
          "unique_count": 5,
          "nan_count": 0,
          "min": "0.0237204059958458",
          "max": "3.69990228675306",
          "histogram": [
           {
            "bin_start": 0.0237204059958458,
            "bin_end": 0.39133859407156724,
            "count": 1
           },
           {
            "bin_start": 0.39133859407156724,
            "bin_end": 0.7589567821472887,
            "count": 0
           },
           {
            "bin_start": 0.7589567821472887,
            "bin_end": 1.1265749702230101,
            "count": 0
           },
           {
            "bin_start": 1.1265749702230101,
            "bin_end": 1.4941931582987316,
            "count": 1
           },
           {
            "bin_start": 1.4941931582987316,
            "bin_end": 1.861811346374453,
            "count": 1
           },
           {
            "bin_start": 1.861811346374453,
            "bin_end": 2.2294295344501744,
            "count": 0
           },
           {
            "bin_start": 2.2294295344501744,
            "bin_end": 2.597047722525896,
            "count": 0
           },
           {
            "bin_start": 2.597047722525896,
            "bin_end": 2.9646659106016173,
            "count": 1
           },
           {
            "bin_start": 2.9646659106016173,
            "bin_end": 3.3322840986773388,
            "count": 0
           },
           {
            "bin_start": 3.3322840986773388,
            "bin_end": 3.69990228675306,
            "count": 1
           }
          ]
         }
        },
        {
         "name": "shots",
         "dtype": "int64",
         "stats": {
          "unique_count": 5,
          "nan_count": 0,
          "min": "2",
          "max": "63",
          "histogram": [
           {
            "bin_start": 2,
            "bin_end": 8.1,
            "count": 1
           },
           {
            "bin_start": 8.1,
            "bin_end": 14.2,
            "count": 1
           },
           {
            "bin_start": 14.2,
            "bin_end": 20.299999999999997,
            "count": 0
           },
           {
            "bin_start": 20.299999999999997,
            "bin_end": 26.4,
            "count": 0
           },
           {
            "bin_start": 26.4,
            "bin_end": 32.5,
            "count": 2
           },
           {
            "bin_start": 32.5,
            "bin_end": 38.599999999999994,
            "count": 0
           },
           {
            "bin_start": 38.599999999999994,
            "bin_end": 44.699999999999996,
            "count": 0
           },
           {
            "bin_start": 44.699999999999996,
            "bin_end": 50.8,
            "count": 0
           },
           {
            "bin_start": 50.8,
            "bin_end": 56.9,
            "count": 0
           },
           {
            "bin_start": 56.9,
            "bin_end": 63,
            "count": 1
           }
          ]
         }
        },
        {
         "name": "key_passes",
         "dtype": "int64",
         "stats": {
          "unique_count": 5,
          "nan_count": 0,
          "min": "1",
          "max": "61",
          "histogram": [
           {
            "bin_start": 1,
            "bin_end": 7,
            "count": 1
           },
           {
            "bin_start": 7,
            "bin_end": 13,
            "count": 1
           },
           {
            "bin_start": 13,
            "bin_end": 19,
            "count": 1
           },
           {
            "bin_start": 19,
            "bin_end": 25,
            "count": 1
           },
           {
            "bin_start": 25,
            "bin_end": 31,
            "count": 0
           },
           {
            "bin_start": 31,
            "bin_end": 37,
            "count": 0
           },
           {
            "bin_start": 37,
            "bin_end": 43,
            "count": 0
           },
           {
            "bin_start": 43,
            "bin_end": 49,
            "count": 0
           },
           {
            "bin_start": 49,
            "bin_end": 55,
            "count": 0
           },
           {
            "bin_start": 55,
            "bin_end": 61,
            "count": 1
           }
          ]
         }
        },
        {
         "name": "yellow_cards",
         "dtype": "int64",
         "stats": {
          "unique_count": 4,
          "nan_count": 0,
          "min": "0",
          "max": "8",
          "histogram": [
           {
            "bin_start": 0,
            "bin_end": 0.8,
            "count": 1
           },
           {
            "bin_start": 0.8,
            "bin_end": 1.6,
            "count": 2
           },
           {
            "bin_start": 1.6,
            "bin_end": 2.4000000000000004,
            "count": 0
           },
           {
            "bin_start": 2.4000000000000004,
            "bin_end": 3.2,
            "count": 0
           },
           {
            "bin_start": 3.2,
            "bin_end": 4,
            "count": 0
           },
           {
            "bin_start": 4,
            "bin_end": 4.800000000000001,
            "count": 0
           },
           {
            "bin_start": 4.800000000000001,
            "bin_end": 5.6000000000000005,
            "count": 1
           },
           {
            "bin_start": 5.6000000000000005,
            "bin_end": 6.4,
            "count": 0
           },
           {
            "bin_start": 6.4,
            "bin_end": 7.2,
            "count": 0
           },
           {
            "bin_start": 7.2,
            "bin_end": 8,
            "count": 1
           }
          ]
         }
        },
        {
         "name": "red_cards",
         "dtype": "int64",
         "stats": {
          "unique_count": 2,
          "nan_count": 0,
          "min": "0",
          "max": "1",
          "histogram": [
           {
            "bin_start": 0,
            "bin_end": 0.1,
            "count": 4
           },
           {
            "bin_start": 0.1,
            "bin_end": 0.2,
            "count": 0
           },
           {
            "bin_start": 0.2,
            "bin_end": 0.30000000000000004,
            "count": 0
           },
           {
            "bin_start": 0.30000000000000004,
            "bin_end": 0.4,
            "count": 0
           },
           {
            "bin_start": 0.4,
            "bin_end": 0.5,
            "count": 0
           },
           {
            "bin_start": 0.5,
            "bin_end": 0.6000000000000001,
            "count": 0
           },
           {
            "bin_start": 0.6000000000000001,
            "bin_end": 0.7000000000000001,
            "count": 0
           },
           {
            "bin_start": 0.7000000000000001,
            "bin_end": 0.8,
            "count": 0
           },
           {
            "bin_start": 0.8,
            "bin_end": 0.9,
            "count": 0
           },
           {
            "bin_start": 0.9,
            "bin_end": 1,
            "count": 1
           }
          ]
         }
        },
        {
         "name": "position",
         "dtype": "object",
         "stats": {
          "unique_count": 5,
          "nan_count": 0,
          "categories": [
           {
            "name": "F",
            "count": 1
           },
           {
            "name": "M",
            "count": 1
           },
           {
            "name": "3 others",
            "count": 3
           }
          ]
         }
        },
        {
         "name": "team_name",
         "dtype": "object",
         "stats": {
          "unique_count": 5,
          "nan_count": 0,
          "categories": [
           {
            "name": "Amiens",
            "count": 1
           },
           {
            "name": "Monaco",
            "count": 1
           },
           {
            "name": "3 others",
            "count": 3
           }
          ]
         }
        },
        {
         "name": "npg",
         "dtype": "int64",
         "stats": {
          "unique_count": 4,
          "nan_count": 0,
          "min": "0",
          "max": "6",
          "histogram": [
           {
            "bin_start": 0,
            "bin_end": 0.6,
            "count": 1
           },
           {
            "bin_start": 0.6,
            "bin_end": 1.2,
            "count": 1
           },
           {
            "bin_start": 1.2,
            "bin_end": 1.7999999999999998,
            "count": 0
           },
           {
            "bin_start": 1.7999999999999998,
            "bin_end": 2.4,
            "count": 0
           },
           {
            "bin_start": 2.4,
            "bin_end": 3,
            "count": 0
           },
           {
            "bin_start": 3,
            "bin_end": 3.5999999999999996,
            "count": 2
           },
           {
            "bin_start": 3.5999999999999996,
            "bin_end": 4.2,
            "count": 0
           },
           {
            "bin_start": 4.2,
            "bin_end": 4.8,
            "count": 0
           },
           {
            "bin_start": 4.8,
            "bin_end": 5.3999999999999995,
            "count": 0
           },
           {
            "bin_start": 5.3999999999999995,
            "bin_end": 6,
            "count": 1
           }
          ]
         }
        },
        {
         "name": "npxG",
         "dtype": "float64",
         "stats": {
          "unique_count": 5,
          "nan_count": 0,
          "min": "0.143272131681442",
          "max": "4.87875708099455",
          "histogram": [
           {
            "bin_start": 0.143272131681442,
            "bin_end": 0.6168206266127528,
            "count": 1
           },
           {
            "bin_start": 0.6168206266127528,
            "bin_end": 1.0903691215440636,
            "count": 1
           },
           {
            "bin_start": 1.0903691215440636,
            "bin_end": 1.5639176164753745,
            "count": 0
           },
           {
            "bin_start": 1.5639176164753745,
            "bin_end": 2.037466111406685,
            "count": 0
           },
           {
            "bin_start": 2.037466111406685,
            "bin_end": 2.5110146063379957,
            "count": 1
           },
           {
            "bin_start": 2.5110146063379957,
            "bin_end": 2.984563101269307,
            "count": 0
           },
           {
            "bin_start": 2.984563101269307,
            "bin_end": 3.4581115962006175,
            "count": 0
           },
           {
            "bin_start": 3.4581115962006175,
            "bin_end": 3.931660091131928,
            "count": 0
           },
           {
            "bin_start": 3.931660091131928,
            "bin_end": 4.40520858606324,
            "count": 0
           },
           {
            "bin_start": 4.40520858606324,
            "bin_end": 4.87875708099455,
            "count": 2
           }
          ]
         }
        },
        {
         "name": "xGChain",
         "dtype": "float64",
         "stats": {
          "unique_count": 5,
          "nan_count": 0,
          "min": "0.166992530226707",
          "max": "12.0463332887739",
          "histogram": [
           {
            "bin_start": 0.166992530226707,
            "bin_end": 1.3549266060814262,
            "count": 1
           },
           {
            "bin_start": 1.3549266060814262,
            "bin_end": 2.5428606819361455,
            "count": 0
           },
           {
            "bin_start": 2.5428606819361455,
            "bin_end": 3.7307947577908647,
            "count": 0
           },
           {
            "bin_start": 3.7307947577908647,
            "bin_end": 4.918728833645583,
            "count": 0
           },
           {
            "bin_start": 4.918728833645583,
            "bin_end": 6.106662909500303,
            "count": 2
           },
           {
            "bin_start": 6.106662909500303,
            "bin_end": 7.294596985355022,
            "count": 0
           },
           {
            "bin_start": 7.294596985355022,
            "bin_end": 8.482531061209741,
            "count": 0
           },
           {
            "bin_start": 8.482531061209741,
            "bin_end": 9.670465137064461,
            "count": 0
           },
           {
            "bin_start": 9.670465137064461,
            "bin_end": 10.858399212919181,
            "count": 0
           },
           {
            "bin_start": 10.858399212919181,
            "bin_end": 12.0463332887739,
            "count": 2
           }
          ]
         }
        },
        {
         "name": "xGBuildup",
         "dtype": "float64",
         "stats": {
          "unique_count": 5,
          "nan_count": 0,
          "min": "0.0237204059958458",
          "max": "11.9339800532907",
          "histogram": [
           {
            "bin_start": 0.0237204059958458,
            "bin_end": 1.2147463707253312,
            "count": 2
           },
           {
            "bin_start": 1.2147463707253312,
            "bin_end": 2.4057723354548166,
            "count": 0
           },
           {
            "bin_start": 2.4057723354548166,
            "bin_end": 3.596798300184302,
            "count": 1
           },
           {
            "bin_start": 3.596798300184302,
            "bin_end": 4.787824264913787,
            "count": 0
           },
           {
            "bin_start": 4.787824264913787,
            "bin_end": 5.978850229643273,
            "count": 1
           },
           {
            "bin_start": 5.978850229643273,
            "bin_end": 7.169876194372758,
            "count": 0
           },
           {
            "bin_start": 7.169876194372758,
            "bin_end": 8.360902159102244,
            "count": 0
           },
           {
            "bin_start": 8.360902159102244,
            "bin_end": 9.551928123831729,
            "count": 0
           },
           {
            "bin_start": 9.551928123831729,
            "bin_end": 10.742954088561214,
            "count": 0
           },
           {
            "bin_start": 10.742954088561214,
            "bin_end": 11.9339800532907,
            "count": 1
           }
          ]
         }
        },
        {
         "name": "year",
         "dtype": "int64",
         "stats": {
          "unique_count": 3,
          "nan_count": 0,
          "min": "2015",
          "max": "2019",
          "histogram": [
           {
            "bin_start": 2015,
            "bin_end": 2015.4,
            "count": 1
           },
           {
            "bin_start": 2015.4,
            "bin_end": 2015.8,
            "count": 0
           },
           {
            "bin_start": 2015.8,
            "bin_end": 2016.2,
            "count": 0
           },
           {
            "bin_start": 2016.2,
            "bin_end": 2016.6,
            "count": 0
           },
           {
            "bin_start": 2016.6,
            "bin_end": 2017,
            "count": 0
           },
           {
            "bin_start": 2017,
            "bin_end": 2017.4,
            "count": 0
           },
           {
            "bin_start": 2017.4,
            "bin_end": 2017.8,
            "count": 0
           },
           {
            "bin_start": 2017.8,
            "bin_end": 2018.2,
            "count": 3
           },
           {
            "bin_start": 2018.2,
            "bin_end": 2018.6,
            "count": 0
           },
           {
            "bin_start": 2018.6,
            "bin_end": 2019,
            "count": 1
           }
          ]
         }
        },
        {
         "name": "_deepnote_index_column",
         "dtype": "int64"
        }
       ],
       "rows": [
        {
         "player_id": 3738,
         "player_name": "Sehrou Guirassy",
         "games": 13,
         "time": 1117,
         "goals": 3,
         "xG": 4.61303350329399,
         "assists": 1,
         "xA": 1.56560592725873,
         "shots": 27,
         "key_passes": 13,
         "yellow_cards": 0,
         "red_cards": 1,
         "position": "F",
         "team_name": "Amiens",
         "npg": 3,
         "npxG": 4.61303350329399,
         "xGChain": 5.08758960757405,
         "xGBuildup": 1.06823368091136,
         "year": 2018,
         "_deepnote_index_column": 7200
        },
        {
         "player_id": 6420,
         "player_name": "Romain Faivre",
         "games": 1,
         "time": 90,
         "goals": 0,
         "xG": 0.143272131681442,
         "assists": 0,
         "xA": 0.0237204059958458,
         "shots": 2,
         "key_passes": 1,
         "yellow_cards": 1,
         "red_cards": 0,
         "position": "M",
         "team_name": "Monaco",
         "npg": 0,
         "npxG": 0.143272131681442,
         "xGChain": 0.166992530226707,
         "xGBuildup": 0.0237204059958458,
         "year": 2018,
         "_deepnote_index_column": 7020
        },
        {
         "player_id": 5360,
         "player_name": "Weston McKennie",
         "games": 28,
         "time": 2075,
         "goals": 3,
         "xG": 2.40192805789411,
         "assists": 0,
         "xA": 2.87482959218323,
         "shots": 32,
         "key_passes": 19,
         "yellow_cards": 8,
         "red_cards": 0,
         "position": "D M S",
         "team_name": "Schalke 04",
         "npg": 3,
         "npxG": 2.40192805789411,
         "xGChain": 5.27104442194104,
         "xGBuildup": 2.90650871023536,
         "year": 2019,
         "_deepnote_index_column": 4769
        },
        {
         "player_id": 775,
         "player_name": "Andros Townsend",
         "games": 38,
         "time": 3030,
         "goals": 6,
         "xG": 4.87875708099455,
         "assists": 4,
         "xA": 3.69990228675306,
         "shots": 63,
         "key_passes": 61,
         "yellow_cards": 1,
         "red_cards": 0,
         "position": "F M S",
         "team_name": "Crystal Palace",
         "npg": 6,
         "npxG": 4.87875708099455,
         "xGChain": 11.9443218801171,
         "xGBuildup": 4.85038775391877,
         "year": 2018,
         "_deepnote_index_column": 5198
        },
        {
         "player_id": 2258,
         "player_name": "Pepe",
         "games": 21,
         "time": 1887,
         "goals": 1,
         "xG": 0.935387372970581,
         "assists": 1,
         "xA": 1.32720072567463,
         "shots": 12,
         "key_passes": 7,
         "yellow_cards": 5,
         "red_cards": 0,
         "position": "D",
         "team_name": "Real Madrid",
         "npg": 1,
         "npxG": 0.935387372970581,
         "xGChain": 12.0463332887739,
         "xGBuildup": 11.9339800532907,
         "year": 2015,
         "_deepnote_index_column": 14098
        }
       ]
      },
      "text/plain": "       player_id      player_name  games  time  goals        xG  assists  \\\n7200        3738  Sehrou Guirassy     13  1117      3  4.613034        1   \n7020        6420    Romain Faivre      1    90      0  0.143272        0   \n4769        5360  Weston McKennie     28  2075      3  2.401928        0   \n5198         775  Andros Townsend     38  3030      6  4.878757        4   \n14098       2258             Pepe     21  1887      1  0.935387        1   \n\n             xA  shots  key_passes  yellow_cards  red_cards position  \\\n7200   1.565606     27          13             0          1        F   \n7020   0.023720      2           1             1          0        M   \n4769   2.874830     32          19             8          0    D M S   \n5198   3.699902     63          61             1          0    F M S   \n14098  1.327201     12           7             5          0        D   \n\n            team_name  npg      npxG    xGChain  xGBuildup  year  \n7200           Amiens    3  4.613034   5.087590   1.068234  2018  \n7020           Monaco    0  0.143272   0.166993   0.023720  2018  \n4769       Schalke 04    3  2.401928   5.271044   2.906509  2019  \n5198   Crystal Palace    6  4.878757  11.944322   4.850388  2018  \n14098     Real Madrid    1  0.935387  12.046333  11.933980  2015  ",
      "text/html": "<div>\n<style scoped>\n    .dataframe tbody tr th:only-of-type {\n        vertical-align: middle;\n    }\n\n    .dataframe tbody tr th {\n        vertical-align: top;\n    }\n\n    .dataframe thead th {\n        text-align: right;\n    }\n</style>\n<table border=\"1\" class=\"dataframe\">\n  <thead>\n    <tr style=\"text-align: right;\">\n      <th></th>\n      <th>player_id</th>\n      <th>player_name</th>\n      <th>games</th>\n      <th>time</th>\n      <th>goals</th>\n      <th>xG</th>\n      <th>assists</th>\n      <th>xA</th>\n      <th>shots</th>\n      <th>key_passes</th>\n      <th>yellow_cards</th>\n      <th>red_cards</th>\n      <th>position</th>\n      <th>team_name</th>\n      <th>npg</th>\n      <th>npxG</th>\n      <th>xGChain</th>\n      <th>xGBuildup</th>\n      <th>year</th>\n    </tr>\n  </thead>\n  <tbody>\n    <tr>\n      <th>7200</th>\n      <td>3738</td>\n      <td>Sehrou Guirassy</td>\n      <td>13</td>\n      <td>1117</td>\n      <td>3</td>\n      <td>4.613034</td>\n      <td>1</td>\n      <td>1.565606</td>\n      <td>27</td>\n      <td>13</td>\n      <td>0</td>\n      <td>1</td>\n      <td>F</td>\n      <td>Amiens</td>\n      <td>3</td>\n      <td>4.613034</td>\n      <td>5.087590</td>\n      <td>1.068234</td>\n      <td>2018</td>\n    </tr>\n    <tr>\n      <th>7020</th>\n      <td>6420</td>\n      <td>Romain Faivre</td>\n      <td>1</td>\n      <td>90</td>\n      <td>0</td>\n      <td>0.143272</td>\n      <td>0</td>\n      <td>0.023720</td>\n      <td>2</td>\n      <td>1</td>\n      <td>1</td>\n      <td>0</td>\n      <td>M</td>\n      <td>Monaco</td>\n      <td>0</td>\n      <td>0.143272</td>\n      <td>0.166993</td>\n      <td>0.023720</td>\n      <td>2018</td>\n    </tr>\n    <tr>\n      <th>4769</th>\n      <td>5360</td>\n      <td>Weston McKennie</td>\n      <td>28</td>\n      <td>2075</td>\n      <td>3</td>\n      <td>2.401928</td>\n      <td>0</td>\n      <td>2.874830</td>\n      <td>32</td>\n      <td>19</td>\n      <td>8</td>\n      <td>0</td>\n      <td>D M S</td>\n      <td>Schalke 04</td>\n      <td>3</td>\n      <td>2.401928</td>\n      <td>5.271044</td>\n      <td>2.906509</td>\n      <td>2019</td>\n    </tr>\n    <tr>\n      <th>5198</th>\n      <td>775</td>\n      <td>Andros Townsend</td>\n      <td>38</td>\n      <td>3030</td>\n      <td>6</td>\n      <td>4.878757</td>\n      <td>4</td>\n      <td>3.699902</td>\n      <td>63</td>\n      <td>61</td>\n      <td>1</td>\n      <td>0</td>\n      <td>F M S</td>\n      <td>Crystal Palace</td>\n      <td>6</td>\n      <td>4.878757</td>\n      <td>11.944322</td>\n      <td>4.850388</td>\n      <td>2018</td>\n    </tr>\n    <tr>\n      <th>14098</th>\n      <td>2258</td>\n      <td>Pepe</td>\n      <td>21</td>\n      <td>1887</td>\n      <td>1</td>\n      <td>0.935387</td>\n      <td>1</td>\n      <td>1.327201</td>\n      <td>12</td>\n      <td>7</td>\n      <td>5</td>\n      <td>0</td>\n      <td>D</td>\n      <td>Real Madrid</td>\n      <td>1</td>\n      <td>0.935387</td>\n      <td>12.046333</td>\n      <td>11.933980</td>\n      <td>2015</td>\n    </tr>\n  </tbody>\n</table>\n</div>"
     },
     "metadata": {}
    }
   ],
   "execution_count": null
  },
  {
   "cell_type": "code",
   "source": "top_red_cards = df.groupby(['team_name']).agg({'red_cards' : 'sum'})\ntop_red_cards = top_red_cards.sort_values('red_cards' , ascending=False).head(10)\ntop_red_cards.plot(color=\"r\")\nplt.xticks(rotation=90)",
   "metadata": {
    "cell_id": "6b08efc1-b109-4724-be6f-41d2b0ed8bfd",
    "tags": [],
    "deepnote_cell_height": 833.578125,
    "deepnote_to_be_reexecuted": false,
    "source_hash": "104d723c",
    "execution_start": 1645199468408,
    "execution_millis": 456,
    "deepnote_output_heights": [
     155.59375,
     496
    ],
    "deepnote_cell_type": "code"
   },
   "outputs": [
    {
     "output_type": "execute_result",
     "execution_count": 43,
     "data": {
      "text/plain": "(array([-2.,  0.,  2.,  4.,  6.,  8., 10.]),\n [Text(-2.0, 0, 'Celta Vigo'),\n  Text(0.0, 0, 'AC Milan'),\n  Text(2.0, 0, 'Valencia'),\n  Text(4.0, 0, 'Lazio'),\n  Text(6.0, 0, 'Sassuolo'),\n  Text(8.0, 0, 'Celta Vigo'),\n  Text(10.0, 0, '')])"
     },
     "metadata": {}
    },
    {
     "data": {
      "text/plain": "<Figure size 640x480 with 1 Axes>",
      "image/png": "[encoded data removed]"
     },
     "metadata": {
      "image/png": {
       "width": 543,
       "height": 494
      }
     },
     "output_type": "display_data"
    }
   ],
   "execution_count": null
  },
  {
   "cell_type": "code",
   "source": "# Gráfico de barras horizontales\nplt.style.use('ggplot')\nplt.barh(y= top_red_cards.index, width= top_red_cards['red_cards'],  )\nplt.xticks(rotation=90)\nplt.title('Tarjetas rojas acumuladas')\nplt.ylabel('Red cards')\nplt.show()",
   "metadata": {
    "cell_id": "540eda6d-9fe1-46c9-a93b-a4c4224a0008",
    "tags": [],
    "deepnote_cell_height": 647,
    "deepnote_to_be_reexecuted": false,
    "source_hash": "475ef7cf",
    "execution_start": 1645199754810,
    "execution_millis": 269,
    "deepnote_output_heights": [
     442,
     420
    ],
    "deepnote_cell_type": "code"
   },
   "outputs": [
    {
     "data": {
      "text/plain": "<Figure size 640x480 with 1 Axes>",
      "image/png": "[encoded data removed]"
     },
     "metadata": {
      "image/png": {
       "width": 620,
       "height": 440
      }
     },
     "output_type": "display_data"
    }
   ],
   "execution_count": null
  },
  {
   "cell_type": "code",
   "source": "# Gráfico de barras verticales\nplt.style.use('ggplot')\nplt.bar(x= top_red_cards.index, height= top_red_cards['red_cards'],  )\nplt.xticks(rotation=90)\nplt.title('Tarjetas rojas acumuladas')\nplt.ylabel('Red cards')\nplt.show()",
   "metadata": {
    "cell_id": "890eefc8-8d40-4d06-83d4-02541f11a680",
    "tags": [],
    "deepnote_cell_height": 700,
    "deepnote_to_be_reexecuted": false,
    "source_hash": "ebd70bce",
    "execution_start": 1645199757275,
    "execution_millis": 333,
    "deepnote_output_heights": [
     495
    ],
    "deepnote_cell_type": "code"
   },
   "outputs": [
    {
     "data": {
      "text/plain": "<Figure size 640x480 with 1 Axes>",
      "image/png": "[encoded data removed]"
     },
     "metadata": {
      "image/png": {
       "width": 566,
       "height": 493
      }
     },
     "output_type": "display_data"
    }
   ],
   "execution_count": null
  },
  {
   "cell_type": "markdown",
   "source": "También es posible crear un gráfico de barras apilado para añadir más información. Lo único que tienes que hacer es volver a llamar al método .bar() con tu nueva variable y añadirle el parámetro bottom=previous_data. Y si quieres añadir más información aún, tendrás que sumar toda la información previa: botom = previous_data_1 + previous_data_2.\n\nPor último, también puedes pasar label y color como argumentos de bar para etiquetar qué representa cada color. ",
   "metadata": {
    "cell_id": "acf2ce07-d742-44b6-ab78-93910b22b53f",
    "tags": [],
    "deepnote_cell_height": 133.59375,
    "deepnote_cell_type": "markdown"
   }
  },
  {
   "cell_type": "code",
   "source": "# Filter\ndf['goals_assists'] = df.goals + df.assists\ntop_players = df.groupby(['player_name']).agg({'goals' : 'sum', 'assists' : 'sum', 'goals_assists' : 'sum'})\ntop_players = top_players.sort_values('goals_assists', ascending=False).head(10)\ntop_players\n\n# Plot\nplt.bar(top_players.index, top_players['goals'], label='Goals')\nplt.bar(top_players.index, top_players['assists'], label='Assists', bottom = top_players['goals'])\nplt.xticks(rotation=90)\nplt.title('Goles y asistencias de los top players')\nplt.ylabel('Goals and assists')\nplt.legend()\nplt.show()",
   "metadata": {
    "cell_id": "6e658651-69c9-452f-be1d-c7a16b6342d1",
    "tags": [],
    "deepnote_cell_height": 942,
    "deepnote_to_be_reexecuted": false,
    "source_hash": "88bbced2",
    "execution_start": 1645200707692,
    "execution_millis": 700,
    "deepnote_output_heights": [
     611
    ],
    "deepnote_cell_type": "code"
   },
   "outputs": [
    {
     "data": {
      "text/plain": "<Figure size 640x480 with 1 Axes>",
      "image/png": "[encoded data removed]"
     },
     "metadata": {
      "image/png": {
       "width": 575,
       "height": 620
      }
     },
     "output_type": "display_data"
    }
   ],
   "execution_count": null
  },
  {
   "cell_type": "markdown",
   "source": "Histogramas\n\nLos histogramas representan la cantidad de ocurrencias de los valores en una columna, son muy utilizados en el análisis unidimensional para tener la distribución completa de valores de una variable. En el eje X se encuentra el rango de valores de la columna seleccionada y en el eje Y la cantidad de veces que se repite en la columna el mismo valor. Por ello la función solo requiere un argumento.\n\nPara graficar un histograma se usa plt.hist(X) y como argumento se pasa la columna que quieras analizar. Además, puedes personalizar el gráfico con otros argumentos:\n\nbins=n → dice cuántas barras serán mostradas en el histograma. Por defecto vienen 10.\n\nA este argumento también le puedes pasar una lista para establecer un límite en el rango de las X en las que quieras que se muestren.\n\nSi quieres colocar 2 histogramas que se podrían sobreponer entre sí, se puede usar el argumento alpha que si le pasas un valor entre 0 y 1 cambia la transparencia del color.\n\nTambién puedes usar el argumento histtype='step' que hace que cambie la forma que se representa el histograma, por ejemplo líneas en vez de rectángulos sólidos. Aquí te dejo la documentación para ver qué otros tipos de histtype existen y también otros argumentos de hist.\n\nPor último, si usas density=True, el gráfico se trasformará a porcentajes para que el área total sumada de los rectángulos sea de 1 (100%). Te recomiendo recordar este argumento porque podría ser muy útil más adelante para entender el peso de los valores más que su cantidad en sí misma.\n\nHora de ver un ejemplo. Estos son los goles totales de los equipos en 2018, analiza la distribución.",
   "metadata": {
    "cell_id": "36fc6ece-01ae-4212-970c-1c51943f4d46",
    "tags": [],
    "deepnote_cell_height": 500.390625,
    "deepnote_cell_type": "markdown"
   }
  },
  {
   "cell_type": "code",
   "source": "# Goles totales por equipo en 2018\ndf_2018 = df.query('year == 2018')\nteam_goals_2018 = df_2018.groupby('team_name')['goals'].sum()\n\n# Plot\nplt.figure(figsize=[7, 6]) # 7 in de ancho y 6 in de alto\nplt.hist(team_goals_2018, bins=25)\nplt.title('Goles totales por equipo en 2018')\nplt.xlabel('Cantidad de goles')\nplt.ylabel('Número de equipos con X cantidad de goles')\nplt.show()",
   "metadata": {
    "cell_id": "c0b39bf2-fdc4-4b79-ac9b-9a022f42a233",
    "tags": [],
    "deepnote_cell_height": 831,
    "deepnote_to_be_reexecuted": false,
    "source_hash": "bde052b5",
    "execution_start": 1645201104720,
    "execution_millis": 393,
    "deepnote_output_heights": [
     554
    ],
    "deepnote_cell_type": "code"
   },
   "outputs": [
    {
     "data": {
      "text/plain": "<Figure size 700x600 with 1 Axes>",
      "image/png": "[encoded data removed]"
     },
     "metadata": {
      "image/png": {
       "width": 613,
       "height": 552
      }
     },
     "output_type": "display_data"
    }
   ],
   "execution_count": null
  },
  {
   "cell_type": "code",
   "source": "# Goles totales por equipo en 2018\ndf_2018 = df[df['year'] == 2018]\nteam_goals_2018 = df_2018.groupby(['team_name']).agg({'goals' : 'sum'})\nteam_assist_2018 = df_2018.groupby(['team_name']).agg({'assists' : 'sum'})\n\n# Plot\nplt.figure(figsize=[7, 6]) # 7 in de ancho y 6 in de alto\nplt.hist( x = team_goals_2018['goals'], bins=5, histtype='bar', alpha = 0.7)\nplt.hist( x = team_assist_2018['assists'], bins=5, histtype='bar', alpha = 0.4)\nplt.title('Goles totales por equipo en 2018')\nplt.xlabel('Cantidad de goles')\nplt.ylabel('Número de equipos con X cantidad de goles')\nplt.show()",
   "metadata": {
    "cell_id": "572d5d3a-a19d-4352-8261-c2043725bb1d",
    "tags": [],
    "deepnote_cell_height": 867,
    "deepnote_to_be_reexecuted": false,
    "source_hash": "8c844840",
    "execution_start": 1645202594286,
    "execution_millis": 419,
    "deepnote_output_heights": [
     554,
     507
    ],
    "deepnote_cell_type": "code"
   },
   "outputs": [
    {
     "data": {
      "text/plain": "<Figure size 700x600 with 1 Axes>",
      "image/png": "[encoded data removed]"
     },
     "metadata": {
      "image/png": {
       "width": 613,
       "height": 552
      }
     },
     "output_type": "display_data"
    }
   ],
   "execution_count": null
  },
  {
   "cell_type": "markdown",
   "source": "Gráficos de dispersión o scatter plots\n\nLos scatter plots es el último tipo de gráfico que veremos. Estos son muy útiles para analizar 2 variables y descubrir si tienen o no una correlación. Aquí se grafica cada registro de los datos como un punto, el cual es determinado por el valor de las variables X y Y escogidas.\n\nSe lo plotea con plt.scatter(x, y). Se le puede colocar varios argumentos que ya vimos para los gráficos anteriores, pero adicionalmente, hay un par muy útiles para pasar una tercera variable, por ejemplo, de tiempo. Con c=col podrás colorear cada punto con un degradado. Y con s=col podrás darles distintos tamaños a los puntos. Si quieres ver otros argumentos de este tipo de gráfico, acá te dejo la documentación oficial.\n\nVamos a ver un ejemplo de un scatter plot que correlacione disparos al arco y goles hechos (cada punto es un jugador). Además, con c=df_2018.games vamos a ver con un degradado de colores la cantidad de partidos jugados (con los estilos que estamos usando, los colores más claros significan un mayor número de partidos).",
   "metadata": {
    "cell_id": "8aa38e22-1df9-4453-b198-29076902df7f",
    "tags": [],
    "deepnote_cell_height": 296,
    "deepnote_cell_type": "markdown"
   }
  },
  {
   "cell_type": "code",
   "source": "plt.scatter(df_2018.shots, df_2018.goals, c=df_2018.games )\nplt.title('Disparos vs. goles')\nplt.xlabel('Disparos')\nplt.ylabel('Goles')\nplt.legend()\nplt.show()",
   "metadata": {
    "cell_id": "c95a3901-1a1a-4461-b8e8-ab7d4ab22705",
    "tags": [],
    "deepnote_cell_height": 699.796875,
    "deepnote_to_be_reexecuted": false,
    "source_hash": "f6e9bf6c",
    "execution_start": 1645203427740,
    "execution_millis": 837,
    "deepnote_output_heights": [
     462,
     462
    ],
    "deepnote_cell_type": "code"
   },
   "outputs": [
    {
     "name": "stderr",
     "text": "No artists with labels found to put in legend.  Note that artists whose label start with an underscore are ignored when legend() is called with no argument.\n",
     "output_type": "stream"
    },
    {
     "data": {
      "text/plain": "<Figure size 640x480 with 1 Axes>",
      "image/png": "[encoded data removed]"
     },
     "metadata": {
      "image/png": {
       "width": 566,
       "height": 460
      }
     },
     "output_type": "display_data"
    }
   ],
   "execution_count": null
  },
  {
   "cell_type": "markdown",
   "source": "Compartir visualizaciones de Matplotlib\n\nHace un rato estuvimos trabajando mucho con el objeto Axes, pero a Figure no le prestamos mucha atención. 🤔 Bien, ¡este es el momento de hacerlo!\n\nUtiliza fig.savefig('path/name.png') para guardar la imagen en el lugar que elijas, no olvides poner la extensión. PNG tiene menos compresión, pero tiene transparencia. También puedes guardar en otros formatos como JPG. Otra opción es guardarla como SVG y luego podrás editarla. 😉\n\nTambién puedes usar el argumento quality con valores entre 1 y 100 para bajar la calidad y peso de tus imágenes en caso de necesitarlo.\n\ndpi=300 esto hará que tu figura se vea en mejor calidad, pero también será más pesada.\nPor último, es posible cambiar el tamaño de la figura con fig.set_size_inches([width, height]).",
   "metadata": {
    "cell_id": "cef9cb6c-f293-4893-9a12-d333ffec5fd9",
    "tags": [],
    "deepnote_cell_height": 287.59375,
    "deepnote_cell_type": "markdown"
   }
  },
  {
   "cell_type": "code",
   "source": "# Código para guardar una figura de 9 × 7 pulgadas\nfig.set_size_inches([9, 7])\nfig.savefig('figure_5_3.p\nfig",
   "metadata": {
    "cell_id": "2a9a1b71-8ee0-40da-b659-54748e2f9ac4",
    "tags": [],
    "deepnote_cell_height": 762,
    "deepnote_to_be_reexecuted": false,
    "source_hash": "906059bd",
    "execution_start": 1645203933261,
    "execution_millis": 881,
    "deepnote_output_heights": [
     611
    ],
    "deepnote_cell_type": "code"
   },
   "outputs": [
    {
     "output_type": "execute_result",
     "execution_count": 87,
     "data": {
      "text/plain": "<Figure size 1000x700 with 3 Axes>",
      "image/png": "[encoded data removed]"
     },
     "metadata": {
      "image/png": {
       "width": 845,
       "height": 630
      }
     }
    }
   ],
   "execution_count": null
  },
  {
   "cell_type": "markdown",
   "source": "<a style='text-decoration:none;line-height:16px;display:flex;color:#5B5B62;padding:10px;justify-content:end;' href='https://deepnote.com?utm_source=created-in-deepnote-cell&projectId=c77d4a12-dba5-4d4a-988a-9a5d203bebf9' target=\"_blank\">\n<img alt='Created in deepnote.com' style='display:inline;max-height:16px;margin:0px;margin-right:7.5px;' src='data:image/svg+xml;base64,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' > </img>\nCreated in <span style='font-weight:600;margin-left:4px;'>Deepnote</span></a>",
   "metadata": {
    "tags": [],
    "created_in_deepnote_cell": true,
    "deepnote_cell_type": "markdown"
   }
  }
 ],
 "nbformat": 4,
 "nbformat_minor": 2,
 "metadata": {
  "orig_nbformat": 2,
  "deepnote": {
   "is_reactive": false
  },
  "deepnote_notebook_id": "8be0037d-a5fc-4b60-8ed9-180827fd33cf",
  "deepnote_execution_queue": []
 }
}