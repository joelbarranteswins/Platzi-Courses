{
 "cells": [
  {
   "cell_type": "code",
   "metadata": {
    "tags": [],
    "cell_id": "7e93fd26-b7cb-4a34-945e-2ef28e098600",
    "deepnote_to_be_reexecuted": false,
    "source_hash": "96bd7da4",
    "execution_start": 1645059923417,
    "execution_millis": 6,
    "deepnote_cell_type": "code"
   },
   "source": "#Importing libraries\nimport pandas as pd\nimport numpy as np\nimport seaborn as sn",
   "execution_count": null,
   "outputs": []
  },
  {
   "cell_type": "code",
   "metadata": {
    "cell_id": "dc124f36-27fe-4d1b-a89b-516ddc083f3f",
    "tags": [],
    "deepnote_to_be_reexecuted": false,
    "source_hash": "b135e135",
    "execution_start": 1645060028101,
    "execution_millis": 11,
    "deepnote_cell_type": "code"
   },
   "source": "#Reading dataset\ndata = pd.read_csv('largest_us_retailers_9b00dc73-a938-46cd-af17-fcb2bd67301f.csv')",
   "execution_count": null,
   "outputs": []
  },
  {
   "cell_type": "code",
   "metadata": {
    "cell_id": "374c42cd-d3c6-49ec-9d80-f573508e0716",
    "tags": [],
    "deepnote_to_be_reexecuted": false,
    "source_hash": "9a10eb86",
    "execution_start": 1645060060121,
    "execution_millis": 92,
    "deepnote_output_heights": [
     607
    ],
    "deepnote_cell_type": "code"
   },
   "source": "data.tail()",
   "execution_count": null,
   "outputs": [
    {
     "output_type": "execute_result",
     "execution_count": 10,
     "data": {
      "application/vnd.deepnote.dataframe.v3+json": {
       "column_count": 6,
       "row_count": 5,
       "columns": [
        {
         "name": "Company",
         "dtype": "object",
         "stats": {
          "unique_count": 5,
          "nan_count": 0,
          "categories": [
           {
            "name": "Dollar Tree",
            "count": 1
           },
           {
            "name": "HEB",
            "count": 1
           },
           {
            "name": "3 others",
            "count": 3
           }
          ]
         }
        },
        {
         "name": "Sales",
         "dtype": "int64",
         "stats": {
          "unique_count": 5,
          "nan_count": 0,
          "min": "16592",
          "max": "21464",
          "histogram": [
           {
            "bin_start": 16592,
            "bin_end": 17079.2,
            "count": 1
           },
           {
            "bin_start": 17079.2,
            "bin_end": 17566.4,
            "count": 0
           },
           {
            "bin_start": 17566.4,
            "bin_end": 18053.6,
            "count": 0
           },
           {
            "bin_start": 18053.6,
            "bin_end": 18540.8,
            "count": 1
           },
           {
            "bin_start": 18540.8,
            "bin_end": 19028,
            "count": 0
           },
           {
            "bin_start": 19028,
            "bin_end": 19515.2,
            "count": 1
           },
           {
            "bin_start": 19515.2,
            "bin_end": 20002.4,
            "count": 0
           },
           {
            "bin_start": 20002.4,
            "bin_end": 20489.6,
            "count": 0
           },
           {
            "bin_start": 20489.6,
            "bin_end": 20976.8,
            "count": 0
           },
           {
            "bin_start": 20976.8,
            "bin_end": 21464,
            "count": 2
           }
          ]
         }
        },
        {
         "name": "Stores",
         "dtype": "float64",
         "stats": {
          "unique_count": 5,
          "nan_count": 0,
          "min": "231.0",
          "max": "14250.0",
          "histogram": [
           {
            "bin_start": 231,
            "bin_end": 1632.9,
            "count": 4
           },
           {
            "bin_start": 1632.9,
            "bin_end": 3034.8,
            "count": 0
           },
           {
            "bin_start": 3034.8,
            "bin_end": 4436.700000000001,
            "count": 0
           },
           {
            "bin_start": 4436.700000000001,
            "bin_end": 5838.6,
            "count": 0
           },
           {
            "bin_start": 5838.6,
            "bin_end": 7240.5,
            "count": 0
           },
           {
            "bin_start": 7240.5,
            "bin_end": 8642.400000000001,
            "count": 0
           },
           {
            "bin_start": 8642.400000000001,
            "bin_end": 10044.300000000001,
            "count": 0
           },
           {
            "bin_start": 10044.300000000001,
            "bin_end": 11446.2,
            "count": 0
           },
           {
            "bin_start": 11446.2,
            "bin_end": 12848.1,
            "count": 0
           },
           {
            "bin_start": 12848.1,
            "bin_end": 14250,
            "count": 1
           }
          ]
         }
        },
        {
         "name": "Sales/Avg. Store",
         "dtype": "float64",
         "stats": {
          "unique_count": 5,
          "nan_count": 0,
          "min": "1.56391854",
          "max": "74.73873874",
          "histogram": [
           {
            "bin_start": 1.56391854,
            "bin_end": 8.88140056,
            "count": 1
           },
           {
            "bin_start": 8.88140056,
            "bin_end": 16.19888258,
            "count": 1
           },
           {
            "bin_start": 16.19888258,
            "bin_end": 23.5163646,
            "count": 1
           },
           {
            "bin_start": 23.5163646,
            "bin_end": 30.83384662,
            "count": 0
           },
           {
            "bin_start": 30.83384662,
            "bin_end": 38.15132864,
            "count": 0
           },
           {
            "bin_start": 38.15132864,
            "bin_end": 45.46881066,
            "count": 0
           },
           {
            "bin_start": 45.46881066,
            "bin_end": 52.78629268,
            "count": 0
           },
           {
            "bin_start": 52.78629268,
            "bin_end": 60.1037747,
            "count": 0
           },
           {
            "bin_start": 60.1037747,
            "bin_end": 67.42125672,
            "count": 1
           },
           {
            "bin_start": 67.42125672,
            "bin_end": 74.73873874,
            "count": 1
           }
          ]
         }
        },
        {
         "name": "Store Count Growth",
         "dtype": "float64",
         "stats": {
          "unique_count": 5,
          "nan_count": 0,
          "min": "-0.05951506245",
          "max": "0.08450704225",
          "histogram": [
           {
            "bin_start": -0.05951506245,
            "bin_end": -0.04511285198000001,
            "count": 1
           },
           {
            "bin_start": -0.04511285198000001,
            "bin_end": -0.030710641510000004,
            "count": 0
           },
           {
            "bin_start": -0.030710641510000004,
            "bin_end": -0.01630843104,
            "count": 0
           },
           {
            "bin_start": -0.01630843104,
            "bin_end": -0.0019062205700000057,
            "count": 0
           },
           {
            "bin_start": -0.0019062205700000057,
            "bin_end": 0.01249598989999999,
            "count": 1
           },
           {
            "bin_start": 0.01249598989999999,
            "bin_end": 0.02689820037,
            "count": 1
           },
           {
            "bin_start": 0.02689820037,
            "bin_end": 0.041300410839999996,
            "count": 0
           },
           {
            "bin_start": 0.041300410839999996,
            "bin_end": 0.05570262130999999,
            "count": 0
           },
           {
            "bin_start": 0.05570262130999999,
            "bin_end": 0.07010483178,
            "count": 0
           },
           {
            "bin_start": 0.07010483178,
            "bin_end": 0.08450704225,
            "count": 2
           }
          ]
         }
        },
        {
         "name": "Category",
         "dtype": "object",
         "stats": {
          "unique_count": 4,
          "nan_count": 0,
          "categories": [
           {
            "name": "Grocery",
            "count": 2
           },
           {
            "name": "Dollar Stores",
            "count": 1
           },
           {
            "name": "2 others",
            "count": 2
           }
          ]
         }
        },
        {
         "name": "_deepnote_index_column",
         "dtype": "int64"
        }
       ],
       "rows": [
        {
         "Company": "Dollar Tree",
         "Sales": 21464,
         "Stores": 14250,
         "Sales/Avg. Store": 1.56391854,
         "Store Count Growth": 0.07962724449,
         "Category": "Dollar Stores",
         "_deepnote_index_column": 20
        },
        {
         "Company": "HEB",
         "Sales": 21384,
         "Stores": 323,
         "Sales/Avg. Store": 66.825,
         "Store Count Growth": 0.01892744479,
         "Category": "Grocery",
         "_deepnote_index_column": 21
        },
        {
         "Company": "Kohl's",
         "Sales": 19060,
         "Stores": 1169,
         "Sales/Avg. Store": 16.35349635,
         "Store Count Growth": 0.006024096386,
         "Category": "Department Stores",
         "_deepnote_index_column": 22
        },
        {
         "Company": "Delhaize",
         "Sales": 18201,
         "Stores": 1280,
         "Sales/Avg. Store": 13.78341537,
         "Store Count Growth": -0.05951506245,
         "Category": "Grocery",
         "_deepnote_index_column": 23
        },
        {
         "Company": "Meijer",
         "Sales": 16592,
         "Stores": 231,
         "Sales/Avg. Store": 74.73873874,
         "Store Count Growth": 0.08450704225,
         "Category": "Supercenters",
         "_deepnote_index_column": 24
        }
       ]
      },
      "text/plain": "        Company  Sales   Stores  Sales/Avg. Store  Store Count Growth  \\\n20  Dollar Tree  21464  14250.0          1.563919            0.079627   \n21          HEB  21384    323.0         66.825000            0.018927   \n22       Kohl's  19060   1169.0         16.353496            0.006024   \n23     Delhaize  18201   1280.0         13.783415           -0.059515   \n24       Meijer  16592    231.0         74.738739            0.084507   \n\n             Category  \n20      Dollar Stores  \n21            Grocery  \n22  Department Stores  \n23            Grocery  \n24       Supercenters  ",
      "text/html": "<div>\n<style scoped>\n    .dataframe tbody tr th:only-of-type {\n        vertical-align: middle;\n    }\n\n    .dataframe tbody tr th {\n        vertical-align: top;\n    }\n\n    .dataframe thead th {\n        text-align: right;\n    }\n</style>\n<table border=\"1\" class=\"dataframe\">\n  <thead>\n    <tr style=\"text-align: right;\">\n      <th></th>\n      <th>Company</th>\n      <th>Sales</th>\n      <th>Stores</th>\n      <th>Sales/Avg. Store</th>\n      <th>Store Count Growth</th>\n      <th>Category</th>\n    </tr>\n  </thead>\n  <tbody>\n    <tr>\n      <th>20</th>\n      <td>Dollar Tree</td>\n      <td>21464</td>\n      <td>14250.0</td>\n      <td>1.563919</td>\n      <td>0.079627</td>\n      <td>Dollar Stores</td>\n    </tr>\n    <tr>\n      <th>21</th>\n      <td>HEB</td>\n      <td>21384</td>\n      <td>323.0</td>\n      <td>66.825000</td>\n      <td>0.018927</td>\n      <td>Grocery</td>\n    </tr>\n    <tr>\n      <th>22</th>\n      <td>Kohl's</td>\n      <td>19060</td>\n      <td>1169.0</td>\n      <td>16.353496</td>\n      <td>0.006024</td>\n      <td>Department Stores</td>\n    </tr>\n    <tr>\n      <th>23</th>\n      <td>Delhaize</td>\n      <td>18201</td>\n      <td>1280.0</td>\n      <td>13.783415</td>\n      <td>-0.059515</td>\n      <td>Grocery</td>\n    </tr>\n    <tr>\n      <th>24</th>\n      <td>Meijer</td>\n      <td>16592</td>\n      <td>231.0</td>\n      <td>74.738739</td>\n      <td>0.084507</td>\n      <td>Supercenters</td>\n    </tr>\n  </tbody>\n</table>\n</div>"
     },
     "metadata": {}
    }
   ]
  },
  {
   "cell_type": "code",
   "metadata": {
    "cell_id": "9ffba362-dbb1-4106-a71e-77427a8bb82c",
    "tags": [],
    "deepnote_cell_type": "code"
   },
   "source": "",
   "execution_count": null,
   "outputs": []
  },
  {
   "cell_type": "markdown",
   "source": "<a style='text-decoration:none;line-height:16px;display:flex;color:#5B5B62;padding:10px;justify-content:end;' href='https://deepnote.com?utm_source=created-in-deepnote-cell&projectId=5dc74111-d178-4c52-8441-627cfa0f2abf' target=\"_blank\">\n<img alt='Created in deepnote.com' style='display:inline;max-height:16px;margin:0px;margin-right:7.5px;' src='data:image/svg+xml;base64,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' > </img>\nCreated in <span style='font-weight:600;margin-left:4px;'>Deepnote</span></a>",
   "metadata": {
    "tags": [],
    "created_in_deepnote_cell": true,
    "deepnote_cell_type": "markdown"
   }
  }
 ],
 "nbformat": 4,
 "nbformat_minor": 2,
 "metadata": {
  "orig_nbformat": 2,
  "deepnote": {
   "is_reactive": false
  },
  "deepnote_notebook_id": "3dd0e445-b26d-4bad-a07e-bf2f57476e83",
  "deepnote_execution_queue": []
 }
}