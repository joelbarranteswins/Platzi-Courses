{
 "cells": [
  {
   "cell_type": "markdown",
   "metadata": {
    "cell_id": "1df879a0-53cd-4031-a50b-2c2fe17304a4",
    "deepnote_cell_height": 186,
    "deepnote_cell_type": "text-cell-h1",
    "is_collapsed": false,
    "tags": []
   },
   "source": [
    "# Análisis de los 25 retailers más grandes de Estados Unidos"
   ]
  },
  {
   "cell_type": "code",
   "execution_count": null,
   "metadata": {
    "cell_id": "3347a937-91c3-4305-b06c-213bb2f3bcaf",
    "deepnote_cell_height": 135,
    "deepnote_cell_type": "code",
    "deepnote_to_be_reexecuted": false,
    "execution_millis": 3819,
    "execution_start": 1645499291017,
    "source_hash": "2248421b",
    "tags": []
   },
   "outputs": [],
   "source": [
    "import pandas as pd\n",
    "import seaborn as sns\n",
    "import numpy as np\n",
    "import matplotlib.pyplot as plt"
   ]
  },
  {
   "cell_type": "code",
   "execution_count": null,
   "metadata": {
    "cell_id": "081fdaf2-888a-4a54-9495-467464cfc400",
    "deepnote_cell_height": 376.65625,
    "deepnote_cell_type": "code",
    "deepnote_to_be_reexecuted": false,
    "execution_millis": 116,
    "execution_start": 1645499294870,
    "source_hash": "894c2f80",
    "tags": []
   },
   "outputs": [
    {
     "data": {
      "application/vnd.deepnote.dataframe.v3+json": {
       "column_count": 6,
       "columns": [
        {
         "dtype": "object",
         "name": "Company",
         "stats": {
          "categories": [
           {
            "count": 1,
            "name": "Walmart US"
           },
           {
            "count": 1,
            "name": "Kroger"
           },
           {
            "count": 3,
            "name": "3 others"
           }
          ],
          "nan_count": 0,
          "unique_count": 5
         }
        },
        {
         "dtype": "int64",
         "name": "Sales",
         "stats": {
          "histogram": [
           {
            "bin_end": 136843.5,
            "bin_start": 78924,
            "count": 4
           },
           {
            "bin_end": 194763,
            "bin_start": 136843.5,
            "count": 0
           },
           {
            "bin_end": 252682.5,
            "bin_start": 194763,
            "count": 0
           },
           {
            "bin_end": 310602,
            "bin_start": 252682.5,
            "count": 0
           },
           {
            "bin_end": 368521.5,
            "bin_start": 310602,
            "count": 0
           },
           {
            "bin_end": 426441,
            "bin_start": 368521.5,
            "count": 0
           },
           {
            "bin_end": 484360.5,
            "bin_start": 426441,
            "count": 0
           },
           {
            "bin_end": 542280,
            "bin_start": 484360.5,
            "count": 0
           },
           {
            "bin_end": 600199.5,
            "bin_start": 542280,
            "count": 0
           },
           {
            "bin_end": 658119,
            "bin_start": 600199.5,
            "count": 1
           }
          ],
          "max": "658119",
          "min": "78924",
          "nan_count": 0,
          "unique_count": 5
         }
        },
        {
         "dtype": "float64",
         "name": "Stores",
         "stats": {
          "histogram": [
           {
            "bin_end": 1245.7,
            "bin_start": 495,
            "count": 1
           },
           {
            "bin_end": 1996.4,
            "bin_start": 1245.7,
            "count": 1
           },
           {
            "bin_end": 2747.1000000000004,
            "bin_start": 1996.4,
            "count": 0
           },
           {
            "bin_end": 3497.8,
            "bin_start": 2747.1000000000004,
            "count": 0
           },
           {
            "bin_end": 4248.5,
            "bin_start": 3497.8,
            "count": 1
           },
           {
            "bin_end": 4999.200000000001,
            "bin_start": 4248.5,
            "count": 1
           },
           {
            "bin_end": 5749.900000000001,
            "bin_start": 4999.200000000001,
            "count": 0
           },
           {
            "bin_end": 6500.6,
            "bin_start": 5749.900000000001,
            "count": 0
           },
           {
            "bin_end": 7251.3,
            "bin_start": 6500.6,
            "count": 0
           },
           {
            "bin_end": 8002,
            "bin_start": 7251.3,
            "count": 1
           }
          ],
          "max": "8002.0",
          "min": "495.0",
          "nan_count": 0,
          "unique_count": 5
         }
        },
        {
         "dtype": "float64",
         "name": "Sales/Avg. Store",
         "stats": {
          "histogram": [
           {
            "bin_end": 27.609396087999997,
            "bin_start": 9.81092672,
            "count": 1
           },
           {
            "bin_end": 45.407865455999996,
            "bin_start": 27.609396087999997,
            "count": 2
           },
           {
            "bin_end": 63.206334823999995,
            "bin_start": 45.407865455999996,
            "count": 0
           },
           {
            "bin_end": 81.004804192,
            "bin_start": 63.206334823999995,
            "count": 1
           },
           {
            "bin_end": 98.80327356,
            "bin_start": 81.004804192,
            "count": 0
           },
           {
            "bin_end": 116.601742928,
            "bin_start": 98.80327356,
            "count": 0
           },
           {
            "bin_end": 134.400212296,
            "bin_start": 116.601742928,
            "count": 0
           },
           {
            "bin_end": 152.198681664,
            "bin_start": 134.400212296,
            "count": 0
           },
           {
            "bin_end": 169.99715103199998,
            "bin_start": 152.198681664,
            "count": 0
           },
           {
            "bin_end": 187.7956204,
            "bin_start": 169.99715103199998,
            "count": 1
           }
          ],
          "max": "187.7956204",
          "min": "9.81092672",
          "nan_count": 0,
          "unique_count": 5
         }
        },
        {
         "dtype": "float64",
         "name": "Store Count Growth",
         "stats": {
          "histogram": [
           {
            "bin_end": -0.0027785920789999983,
            "bin_start": -0.01051069618,
            "count": 1
           },
           {
            "bin_end": 0.004953512022000003,
            "bin_start": -0.0027785920789999983,
            "count": 1
           },
           {
            "bin_end": 0.012685616123000005,
            "bin_start": 0.004953512022000003,
            "count": 0
           },
           {
            "bin_end": 0.020417720224000006,
            "bin_start": 0.012685616123000005,
            "count": 1
           },
           {
            "bin_end": 0.028149824325000003,
            "bin_start": 0.020417720224000006,
            "count": 0
           },
           {
            "bin_end": 0.03588192842600001,
            "bin_start": 0.028149824325000003,
            "count": 0
           },
           {
            "bin_end": 0.043614032527,
            "bin_start": 0.03588192842600001,
            "count": 0
           },
           {
            "bin_end": 0.05134613662800001,
            "bin_start": 0.043614032527,
            "count": 0
           },
           {
            "bin_end": 0.059078240729,
            "bin_start": 0.05134613662800001,
            "count": 1
           },
           {
            "bin_end": 0.06681034483,
            "bin_start": 0.059078240729,
            "count": 1
           }
          ],
          "max": "0.06681034483",
          "min": "-0.01051069618",
          "nan_count": 0,
          "unique_count": 5
         }
        },
        {
         "dtype": "object",
         "name": "Category",
         "stats": {
          "categories": [
           {
            "count": 1,
            "name": "Supercenters"
           },
           {
            "count": 1,
            "name": "Grocery"
           },
           {
            "count": 3,
            "name": "3 others"
           }
          ],
          "nan_count": 0,
          "unique_count": 5
         }
        },
        {
         "dtype": "int64",
         "name": "_deepnote_index_column"
        }
       ],
       "row_count": 5,
       "rows": [
        {
         "Category": "Supercenters",
         "Company": "Walmart US",
         "Sales": 658119,
         "Sales/Avg. Store": 65.64972497,
         "Store Count Growth": 0.01284322409,
         "Stores": 4574,
         "_deepnote_index_column": 0
        },
        {
         "Category": "Grocery",
         "Company": "Kroger",
         "Sales": 115037,
         "Sales/Avg. Store": 30.03184963,
         "Store Count Growth": 0.05388739946,
         "Stores": 3931,
         "_deepnote_index_column": 1
        },
        {
         "Category": "Warehouse Club",
         "Company": "Costco",
         "Sales": 90048,
         "Sales/Avg. Store": 187.7956204,
         "Store Count Growth": 0.06681034483,
         "Stores": 495,
         "_deepnote_index_column": 2
        },
        {
         "Category": "Home Improvement",
         "Company": "Home Depot",
         "Sales": 83976,
         "Sales/Avg. Store": 42.73587786,
         "Store Count Growth": 0,
         "Stores": 1965,
         "_deepnote_index_column": 3
        },
        {
         "Category": "Drug Stores",
         "Company": "Walgreen Boots",
         "Sales": 78924,
         "Sales/Avg. Store": 9.81092672,
         "Store Count Growth": -0.01051069618,
         "Stores": 8002,
         "_deepnote_index_column": 4
        }
       ]
      },
      "text/html": [
       "<div>\n",
       "<style scoped>\n",
       "    .dataframe tbody tr th:only-of-type {\n",
       "        vertical-align: middle;\n",
       "    }\n",
       "\n",
       "    .dataframe tbody tr th {\n",
       "        vertical-align: top;\n",
       "    }\n",
       "\n",
       "    .dataframe thead th {\n",
       "        text-align: right;\n",
       "    }\n",
       "</style>\n",
       "<table border=\"1\" class=\"dataframe\">\n",
       "  <thead>\n",
       "    <tr style=\"text-align: right;\">\n",
       "      <th></th>\n",
       "      <th>Company</th>\n",
       "      <th>Sales</th>\n",
       "      <th>Stores</th>\n",
       "      <th>Sales/Avg. Store</th>\n",
       "      <th>Store Count Growth</th>\n",
       "      <th>Category</th>\n",
       "    </tr>\n",
       "  </thead>\n",
       "  <tbody>\n",
       "    <tr>\n",
       "      <th>0</th>\n",
       "      <td>Walmart US</td>\n",
       "      <td>658119</td>\n",
       "      <td>4574.0</td>\n",
       "      <td>65.649725</td>\n",
       "      <td>0.012843</td>\n",
       "      <td>Supercenters</td>\n",
       "    </tr>\n",
       "    <tr>\n",
       "      <th>1</th>\n",
       "      <td>Kroger</td>\n",
       "      <td>115037</td>\n",
       "      <td>3931.0</td>\n",
       "      <td>30.031850</td>\n",
       "      <td>0.053887</td>\n",
       "      <td>Grocery</td>\n",
       "    </tr>\n",
       "    <tr>\n",
       "      <th>2</th>\n",
       "      <td>Costco</td>\n",
       "      <td>90048</td>\n",
       "      <td>495.0</td>\n",
       "      <td>187.795620</td>\n",
       "      <td>0.066810</td>\n",
       "      <td>Warehouse Club</td>\n",
       "    </tr>\n",
       "    <tr>\n",
       "      <th>3</th>\n",
       "      <td>Home Depot</td>\n",
       "      <td>83976</td>\n",
       "      <td>1965.0</td>\n",
       "      <td>42.735878</td>\n",
       "      <td>0.000000</td>\n",
       "      <td>Home Improvement</td>\n",
       "    </tr>\n",
       "    <tr>\n",
       "      <th>4</th>\n",
       "      <td>Walgreen Boots</td>\n",
       "      <td>78924</td>\n",
       "      <td>8002.0</td>\n",
       "      <td>9.810927</td>\n",
       "      <td>-0.010511</td>\n",
       "      <td>Drug Stores</td>\n",
       "    </tr>\n",
       "  </tbody>\n",
       "</table>\n",
       "</div>"
      ],
      "text/plain": [
       "          Company   Sales  Stores  Sales/Avg. Store  Store Count Growth  \\\n",
       "0      Walmart US  658119  4574.0         65.649725            0.012843   \n",
       "1          Kroger  115037  3931.0         30.031850            0.053887   \n",
       "2          Costco   90048   495.0        187.795620            0.066810   \n",
       "3      Home Depot   83976  1965.0         42.735878            0.000000   \n",
       "4  Walgreen Boots   78924  8002.0          9.810927           -0.010511   \n",
       "\n",
       "           Category  \n",
       "0      Supercenters  \n",
       "1           Grocery  \n",
       "2    Warehouse Club  \n",
       "3  Home Improvement  \n",
       "4       Drug Stores  "
      ]
     },
     "execution_count": 2,
     "metadata": {},
     "output_type": "execute_result"
    }
   ],
   "source": [
    "df = pd.read_csv('/work/retailers.csv')\n",
    "df.head()"
   ]
  },
  {
   "cell_type": "markdown",
   "metadata": {
    "cell_id": "cc141631-e246-41c7-a56b-ad74255d674f",
    "deepnote_cell_height": 70,
    "deepnote_cell_type": "text-cell-h2",
    "is_collapsed": false,
    "tags": []
   },
   "source": [
    "## I. Preguntas del negocio"
   ]
  },
  {
   "cell_type": "markdown",
   "metadata": {
    "cell_id": "b919b92e-0df3-4f54-b093-c1db040bc4aa",
    "deepnote_cell_height": 94,
    "deepnote_cell_type": "markdown",
    "tags": []
   },
   "source": [
    "### 1. ¿Cuál es el promedio de ventas sin contar a la compañía dominante?"
   ]
  },
  {
   "cell_type": "code",
   "execution_count": null,
   "metadata": {
    "cell_id": "d0684d2b-d018-42ad-9b48-b545aae09eec",
    "deepnote_cell_height": 165.859375,
    "deepnote_cell_type": "code",
    "deepnote_output_heights": [
     155.578125
    ],
    "deepnote_to_be_reexecuted": false,
    "execution_millis": 1132,
    "execution_start": 1645499295000,
    "source_hash": "ddbd865b",
    "tags": []
   },
   "outputs": [
    {
     "name": "stdout",
     "output_type": "stream",
     "text": [
      "El promedio de las ventas de las compañias sin contar a la dominante (Walmart), fue de:  47907.2  millones de dolares\n"
     ]
    },
    {
     "data": {
      "image/png": "[encoded data removed]",
      "text/plain": [
       "<Figure size 432x288 with 1 Axes>"
      ]
     },
     "metadata": {
      "image/png": {
       "height": 343,
       "width": 407
      },
      "needs_background": "light"
     },
     "output_type": "display_data"
    }
   ],
   "source": [
    "#Ordenamos la lista de mayor a menor\n",
    "df_sorted=df.sort_values('Sales',ascending=False)\n",
    "#Partimos la lista eliminando el mayor vendedor\n",
    "x_1 = df_sorted['Sales'][1:24].mean()\n",
    "x_1r = x_1.round(1)\n",
    "print('El promedio de las ventas de las compañias sin contar a la dominante (Walmart), fue de: ', x_1r,' millones de dolares')\n",
    "x = df_sorted['Company'][1:24]\n",
    "y = df_sorted['Sales'][1:24]\n",
    "plt.bar(x,y)\n",
    "plt.grid() \n",
    "plt.axhline(x_1, color =\"r\", linestyle = '--', linewidth = 2)\n",
    "plt.xlabel('Company')\n",
    "plt.ylabel('Sales')\n",
    "plt.xticks(rotation='vertical') #Método que se usa para rotar el texto de los puntos en X para que no se amontonen.\n",
    "plt.show()\n"
   ]
  },
  {
   "cell_type": "markdown",
   "metadata": {
    "cell_id": "1814847a-365e-4bae-9fb9-6bed9b874b37",
    "deepnote_cell_height": 94,
    "deepnote_cell_type": "markdown",
    "tags": []
   },
   "source": [
    "### 2. ¿Cuánto dinero en ventas generó la mayoría de las compañías?"
   ]
  },
  {
   "cell_type": "code",
   "execution_count": null,
   "metadata": {
    "cell_id": "b599a334-30d0-4cea-b814-d17c5be53c8f",
    "deepnote_cell_height": 1211.046875,
    "deepnote_cell_type": "code",
    "deepnote_output_heights": [
     97.984375,
     342,
     21.1875,
     409
    ],
    "deepnote_to_be_reexecuted": false,
    "execution_millis": 1128,
    "execution_start": 1645499296164,
    "source_hash": "def27f2a",
    "tags": []
   },
   "outputs": [
    {
     "name": "stdout",
     "output_type": "stream",
     "text": [
      "La mayoria de las compañías generó en promedio  71063.0  millones de dolares en ventas\n",
      "La mayoria de las compañías generó  34980.0  millones de dolares en ventas\n",
      "La mayoria de las compañías sin la dominante generó en promedio 47907.0  millones de dolares en ventas\n",
      "La mayoria de las compañías sin la dominante generó  34980.0  millones de dolares en ventas\n"
     ]
    },
    {
     "data": {
      "image/png": "[encoded data removed]",
      "text/plain": [
       "<Figure size 432x288 with 1 Axes>"
      ]
     },
     "metadata": {
      "image/png": {
       "height": 340,
       "width": 407
      },
      "needs_background": "light"
     },
     "output_type": "display_data"
    }
   ],
   "source": [
    "#Promedio y mediana de las ventas\n",
    "median = df['Sales'].median().round(0)\n",
    "mean = df['Sales'].mean().round(0)\n",
    "#Promedio de ventas sin la dominante\n",
    "mean_1 = df_sorted['Sales'][1:24].mean().round(0)\n",
    "median_1 = df_sorted['Sales'][1:24].median().round(0)\n",
    "print('La mayoria de las compañías generó en promedio ',mean,' millones de dolares en ventas')\n",
    "print('La mayoria de las compañías generó ',median,' millones de dolares en ventas')\n",
    "print('La mayoria de las compañías sin la dominante generó en promedio',mean_1,' millones de dolares en ventas')\n",
    "print('La mayoria de las compañías sin la dominante generó ',median_1,' millones de dolares en ventas')\n",
    "x = df['Company']\n",
    "y = df['Sales']\n",
    "plt.bar(x,y)\n",
    "plt.grid()\n",
    "plt.axhline(mean_1, color =\"r\", linestyle = '--', linewidth = 2)\n",
    "plt.xlabel('Company')\n",
    "plt.ylabel('Sales')\n",
    "plt.xticks(rotation='vertical') #Método que se usa para rotar el texto de los puntos en X para que no se amontonen.\n",
    "plt.show()\n"
   ]
  },
  {
   "cell_type": "markdown",
   "metadata": {
    "cell_id": "69fba592-257e-44cd-872f-6c35c33b998a",
    "deepnote_cell_type": "text-cell-p",
    "is_collapsed": false,
    "tags": []
   },
   "source": [
    "Trabajar con el promedio falsearía la información pues tiene en cuenta las ventas de Walmart que son muy superiores, por eso se trabaja con la media o en su defecto el promedio eliminando la dominante."
   ]
  },
  {
   "cell_type": "markdown",
   "metadata": {
    "cell_id": "cccf428b-6409-43c6-be96-3ac6424638ee",
    "deepnote_cell_type": "text-cell-p",
    "is_collapsed": false,
    "tags": []
   },
   "source": [
    "La mayoría de las compañías sin la dominante generó  34980.0  millones de dólares en ventas."
   ]
  },
  {
   "cell_type": "markdown",
   "metadata": {
    "cell_id": "608299be-6b35-4e55-aa60-16321b43bf19",
    "deepnote_cell_type": "text-cell-p",
    "is_collapsed": false,
    "tags": []
   },
   "source": [
    "La mayoría de las compañías sin la dominante generó en promedio 47907.0  millones de dólares en ventas"
   ]
  },
  {
   "cell_type": "markdown",
   "metadata": {
    "cell_id": "9801295a-a27d-48af-ae87-c653cabd8f67",
    "deepnote_cell_height": 94,
    "deepnote_cell_type": "markdown",
    "tags": []
   },
   "source": [
    "### 3. ¿Cuántas tiendas tiene la mayoría de las compañías?"
   ]
  },
  {
   "cell_type": "code",
   "execution_count": null,
   "metadata": {
    "cell_id": "cfcc2261-f6a1-44d8-b8fa-184eec2a77ff",
    "deepnote_cell_height": 147.859375,
    "deepnote_cell_type": "code",
    "deepnote_to_be_reexecuted": false,
    "execution_millis": 854,
    "execution_start": 1645499297305,
    "source_hash": "40df8f8a",
    "tags": []
   },
   "outputs": [
    {
     "name": "stdout",
     "output_type": "stream",
     "text": [
      "La mayoria de las compañías tiene  1828.0  tiendas\n"
     ]
    },
    {
     "data": {
      "image/png": "[encoded data removed]",
      "text/plain": [
       "<Figure size 432x288 with 1 Axes>"
      ]
     },
     "metadata": {
      "image/png": {
       "height": 340,
       "width": 401
      },
      "needs_background": "light"
     },
     "output_type": "display_data"
    }
   ],
   "source": [
    "median = df['Stores'].median().round(0)\n",
    "mean = df['Stores'].mean().round(0)\n",
    "#print(mean)\n",
    "print('La mayoria de las compañías tiene ',median,' tiendas')\n",
    "company_sorted =df.sort_values('Stores',ascending=False)\n",
    "x = df['Company']\n",
    "y = df['Stores']\n",
    "plt.bar(x,y)\n",
    "plt.grid()\n",
    "plt.axhline(median, color =\"r\", linestyle = '--', linewidth = 2)\n",
    "plt.xlabel('Company')\n",
    "plt.ylabel('Stores')\n",
    "plt.xticks(rotation='vertical') #Método que se usa para rotar el texto de los puntos en X para que no se amontonen.\n",
    "plt.show()"
   ]
  },
  {
   "cell_type": "markdown",
   "metadata": {
    "cell_id": "c9b5de28-cd12-4088-9bc0-93df660401f3",
    "deepnote_cell_height": 158,
    "deepnote_cell_type": "markdown",
    "tags": []
   },
   "source": [
    "### 4. ¿La cantidad de tiendas está relacionada con la cantidad de ventas? Es decir, ¿si una empresa tiene más tiendas tendrá más dinero de ventas?"
   ]
  },
  {
   "cell_type": "code",
   "execution_count": null,
   "metadata": {
    "cell_id": "72dda234-6fca-477e-a088-99682e9766a2",
    "deepnote_cell_height": 1002.1875,
    "deepnote_cell_type": "code",
    "deepnote_output_heights": [
     264,
     21.1875,
     414
    ],
    "deepnote_to_be_reexecuted": false,
    "execution_millis": 2101,
    "execution_start": 1645499298183,
    "source_hash": "bcf4db75",
    "tags": []
   },
   "outputs": [
    {
     "data": {
      "image/png": "[encoded data removed]",
      "text/plain": [
       "<Figure size 432x288 with 1 Axes>"
      ]
     },
     "metadata": {
      "image/png": {
       "height": 262,
       "width": 407
      },
      "needs_background": "light"
     },
     "output_type": "display_data"
    },
    {
     "data": {
      "text/plain": [
       "Text(0, 0.5, 'Sales')"
      ]
     },
     "execution_count": 6,
     "metadata": {},
     "output_type": "execute_result"
    },
    {
     "data": {
      "image/png": "[encoded data removed]",
      "text/plain": [
       "<Figure size 432x288 with 1 Axes>"
      ]
     },
     "metadata": {
      "image/png": {
       "height": 412,
       "width": 407
      },
      "needs_background": "light"
     },
     "output_type": "display_data"
    }
   ],
   "source": [
    "x = df['Stores']\n",
    "y = df['Sales']\n",
    "plt.scatter(x, y)\n",
    "plt.xlabel('Stores')\n",
    "plt.ylabel('Sales')\n",
    "plt.show()\n",
    "\n",
    "sns.scatterplot(data=df,x='Stores',y='Sales',hue='Company')\n",
    "plt.xlabel('Stores')\n",
    "plt.ylabel('Sales')"
   ]
  },
  {
   "cell_type": "markdown",
   "metadata": {
    "cell_id": "b77b9f9a-a03a-413e-aa05-c6ca9615583b",
    "deepnote_cell_type": "text-cell-p",
    "is_collapsed": false,
    "tags": []
   },
   "source": [
    "Contar con una gran cantidad de tiendas no tiene una relación directa o proporcional con las ventas, se observa que la mayoría de compañías tienen un tope de 100.000 millones en ventas con una cantidad entre 0 y 2000 tienda, hay algunas compañías que cuentan con una cantidad mayor a 2000 tiendas sin tener una cantidad mayor de ventas a la competencia. Por otra parte la compañía que mas ventas presenta (Walmart) esta lejos en numero de tiendas que las compañías con mas tiendas. "
   ]
  },
  {
   "cell_type": "markdown",
   "metadata": {
    "cell_id": "b0663094-b81e-4f75-a493-dda61a1528ef",
    "deepnote_cell_type": "text-cell-p",
    "is_collapsed": false,
    "tags": []
   },
   "source": [
    "Por ende se concluye que tener una gran cantidad de tiendas no necesariamente tendrá grandes ventas."
   ]
  },
  {
   "cell_type": "markdown",
   "metadata": {
    "cell_id": "d296130b-b739-4424-8c5d-8dc8b6fc8ee5",
    "deepnote_cell_height": 94,
    "deepnote_cell_type": "markdown",
    "tags": []
   },
   "source": [
    "### 5. ¿Cuál es el rango que existe entre las ventas?"
   ]
  },
  {
   "cell_type": "code",
   "execution_count": null,
   "metadata": {
    "cell_id": "277da6f7-0300-4156-91e5-9765eb1f3752",
    "deepnote_cell_height": 81,
    "deepnote_cell_type": "code",
    "deepnote_to_be_reexecuted": false,
    "execution_millis": 5053079,
    "execution_start": 1645499300289,
    "source_hash": "e4765479",
    "tags": []
   },
   "outputs": [
    {
     "name": "stdout",
     "output_type": "stream",
     "text": [
      "El rango entre las ventas es:  641527  millones de dolares\n"
     ]
    }
   ],
   "source": [
    "df_ventas=df['Sales']\n",
    "max_ventas = df_ventas.max()\n",
    "min_ventas = df_ventas.min()\n",
    "rango = max_ventas-min_ventas\n",
    "print('El rango entre las ventas es: ', rango, ' millones de dolares')"
   ]
  },
  {
   "cell_type": "markdown",
   "metadata": {
    "cell_id": "6c36ddc3-51ef-4017-a6f9-06cbb8b970e4",
    "deepnote_cell_height": 158,
    "deepnote_cell_type": "markdown",
    "tags": []
   },
   "source": [
    "### 6. ¿Cuáles son las 5 empresas que más tiendas físicas tienen? ¿Cuáles de ellas están dentro de las 5 empresas que más ventas tuvieron?"
   ]
  },
  {
   "cell_type": "code",
   "execution_count": null,
   "metadata": {
    "cell_id": "1295319d-09d0-42f0-9de0-ff0e689f400f",
    "deepnote_cell_height": 81,
    "deepnote_cell_type": "code",
    "deepnote_to_be_reexecuted": false,
    "execution_millis": 326,
    "execution_start": 1645499300355,
    "source_hash": "a0d7d904",
    "tags": []
   },
   "outputs": [
    {
     "data": {
      "image/png": "[encoded data removed]",
      "text/plain": [
       "<Figure size 432x288 with 1 Axes>"
      ]
     },
     "metadata": {
      "image/png": {
       "height": 331,
       "width": 401
      },
      "needs_background": "light"
     },
     "output_type": "display_data"
    }
   ],
   "source": [
    "df_tiendas=df.sort_values('Stores',ascending=False)[0:5]\n",
    "df_tiendas\n",
    "x = df_tiendas['Company']\n",
    "y = df_tiendas['Stores']\n",
    "plt.bar(x,y)\n",
    "plt.xlabel('Company')\n",
    "plt.ylabel('Stores')\n",
    "plt.xticks(rotation='vertical') #Método que se usa para rotar el texto de los puntos en X para que no se amontonen.\n",
    "plt.show()"
   ]
  },
  {
   "cell_type": "code",
   "execution_count": null,
   "metadata": {
    "cell_id": "735d2e31-afd2-4f32-a85e-3f976e9b6cf8",
    "deepnote_cell_type": "code",
    "deepnote_to_be_reexecuted": false,
    "execution_millis": 331,
    "execution_start": 1645499300689,
    "source_hash": "42f83671",
    "tags": []
   },
   "outputs": [
    {
     "data": {
      "image/png": "[encoded data removed]",
      "text/plain": [
       "<Figure size 432x288 with 1 Axes>"
      ]
     },
     "metadata": {
      "image/png": {
       "height": 331,
       "width": 407
      },
      "needs_background": "light"
     },
     "output_type": "display_data"
    }
   ],
   "source": [
    "df_ventas=df.sort_values('Sales',ascending=False)[0:5]\n",
    "x = df_ventas['Company']\n",
    "y = df_ventas['Sales']\n",
    "plt.bar(x,y)\n",
    "plt.xlabel('Company')\n",
    "plt.ylabel('Sales')\n",
    "plt.xticks(rotation='vertical') #Método que se usa para rotar el texto de los puntos en X para que no se amontonen.\n",
    "plt.show()\n"
   ]
  },
  {
   "cell_type": "code",
   "execution_count": null,
   "metadata": {
    "cell_id": "376e3b52-cda2-491e-86d0-4dac39847445",
    "deepnote_cell_type": "code",
    "deepnote_to_be_reexecuted": false,
    "execution_millis": 367,
    "execution_start": 1645499301099,
    "source_hash": "ae64a58b",
    "tags": []
   },
   "outputs": [
    {
     "data": {
      "image/png": "[encoded data removed]",
      "text/plain": [
       "<Figure size 432x288 with 1 Axes>"
      ]
     },
     "metadata": {
      "image/png": {
       "height": 331,
       "width": 407
      },
      "needs_background": "light"
     },
     "output_type": "display_data"
    }
   ],
   "source": [
    "comun = pd.merge(left=df_tiendas, right=df_ventas)\n",
    "comun\n",
    "x = comun['Company']\n",
    "y = comun['Sales']\n",
    "plt.bar(x,y)\n",
    "plt.xlabel('Company')\n",
    "plt.ylabel('Sales')\n",
    "plt.xticks(rotation='vertical') #Método que se usa para rotar el texto de los puntos en X para que no se amontonen.\n",
    "plt.show()"
   ]
  },
  {
   "cell_type": "markdown",
   "metadata": {
    "cell_id": "d69e7c08-8e5b-48b3-9feb-87e2f5e4a70f",
    "deepnote_cell_type": "text-cell-p",
    "is_collapsed": false,
    "tags": []
   },
   "source": [
    "De las compañías que mas tiendas tienen, solo 2 son las que mas venden, las cuales son Walmart y Walgreen Boots, donde Walgreen Boots tiene mas tiendas que Walmart pero sus ventas son menores. Se confirma que tener muchas tiendas no necesariamente desencadena en grandes ventas"
   ]
  },
  {
   "cell_type": "markdown",
   "metadata": {
    "cell_id": "7d1d5db9-ad1d-4081-968b-bea1357e236a",
    "deepnote_cell_height": 70,
    "deepnote_cell_type": "markdown",
    "tags": []
   },
   "source": [
    "## II. Preguntas opcionales"
   ]
  },
  {
   "cell_type": "markdown",
   "metadata": {
    "cell_id": "27e5ddcb-8674-4809-844e-8c3442430be1",
    "deepnote_cell_height": 94,
    "deepnote_cell_type": "markdown",
    "tags": []
   },
   "source": [
    "### 7. ¿Qué categoría de compañía generó más ventas?"
   ]
  },
  {
   "cell_type": "code",
   "execution_count": null,
   "metadata": {
    "cell_id": "fcc0ff72-f954-4023-b187-f43c7ecc77ce",
    "deepnote_cell_height": 81,
    "deepnote_cell_type": "code",
    "deepnote_to_be_reexecuted": false,
    "execution_millis": 1478,
    "execution_start": 1645499301476,
    "source_hash": "aec013e8",
    "tags": []
   },
   "outputs": [
    {
     "data": {
      "text/plain": [
       "<function matplotlib.pyplot.show(close=None, block=None)>"
      ]
     },
     "execution_count": 11,
     "metadata": {},
     "output_type": "execute_result"
    },
    {
     "data": {
      "image/png": "[encoded data removed]",
      "text/plain": [
       "<Figure size 432x288 with 1 Axes>"
      ]
     },
     "metadata": {
      "image/png": {
       "height": 357,
       "width": 407
      },
      "needs_background": "light"
     },
     "output_type": "display_data"
    }
   ],
   "source": [
    "sns.barplot(x='Category', y='Sales',data=df_sorted)\n",
    "plt.xticks(rotation='vertical')\n",
    "plt.show"
   ]
  },
  {
   "cell_type": "markdown",
   "metadata": {
    "cell_id": "45c64dd5-b277-4792-885a-961f08cce49d",
    "deepnote_cell_type": "text-cell-p",
    "is_collapsed": false,
    "tags": []
   },
   "source": [
    "La categoría que mas ventas genera son los supercenters, lo cual es esperado teniendo en cuenta la cantidad de ventas tan grande que presenta Walmart, por otra parte en segundo lugar encontramos los warehouse club. Si se pensara en abrir un negocio tal vez se pueda ver tentado por un supercenter teniendo en cuenta sus ventas, sin embargo al analizar que su gran líder y competidor es Walmart, tal vez sea mas conveniente una tienda Warehouse que tiene ventas importantes en el sector sin necesidad de competir con un gigante que domina el mercado."
   ]
  },
  {
   "cell_type": "markdown",
   "metadata": {
    "cell_id": "33668883-9f01-485c-bdf9-822cd13ad952",
    "deepnote_cell_height": 126,
    "deepnote_cell_type": "markdown",
    "tags": []
   },
   "source": [
    "### 8. ¿Cuál es la compañía que en relación con su cantidad de tiendas físicas genera más ventas?"
   ]
  },
  {
   "cell_type": "code",
   "execution_count": null,
   "metadata": {
    "cell_id": "903008ff-c22d-431e-8130-a954a94b16e8",
    "deepnote_cell_height": 81,
    "deepnote_cell_type": "code",
    "deepnote_table_loading": false,
    "deepnote_table_state": {
     "filters": [],
     "pageIndex": 0,
     "pageSize": 10,
     "sortBy": []
    },
    "deepnote_to_be_reexecuted": false,
    "execution_millis": 1279,
    "execution_start": 1645499302963,
    "source_hash": "1707e5c9",
    "tags": []
   },
   "outputs": [
    {
     "data": {
      "text/plain": [
       "<function matplotlib.pyplot.show(close=None, block=None)>"
      ]
     },
     "execution_count": 12,
     "metadata": {},
     "output_type": "execute_result"
    },
    {
     "data": {
      "image/png": "[encoded data removed]",
      "text/plain": [
       "<Figure size 432x288 with 1 Axes>"
      ]
     },
     "metadata": {
      "image/png": {
       "height": 340,
       "width": 389
      },
      "needs_background": "light"
     },
     "output_type": "display_data"
    }
   ],
   "source": [
    "#Creamos nueva columna en el data frame\n",
    "#Llenamos la columna con el nuevo dato, en este caso ventas por tienda\n",
    "df['Ventas/Tienda'] = df['Sales'] / df['Stores']\n",
    "df_v_x_t = df.sort_values('Ventas/Tienda',ascending=False)\n",
    "df_v_x_t\n",
    "sns.barplot(x='Company', y='Ventas/Tienda',data=df_v_x_t)\n",
    "plt.xticks(rotation='vertical')\n",
    "plt.show"
   ]
  },
  {
   "cell_type": "markdown",
   "metadata": {
    "cell_id": "6af0a57c-6897-450b-9996-f07d402b8953",
    "deepnote_cell_type": "text-cell-p",
    "is_collapsed": false,
    "tags": []
   },
   "source": [
    "Se observa que la compañía que mas ventas genera por tienda es Costco, incluso por encima de Walmart, esto quiere decir que sus tiendas generan más valor en ventas. Además, se muestra el orden de las compañías sus ventas en función de cantidad de tiendas. "
   ]
  },
  {
   "cell_type": "markdown",
   "metadata": {
    "cell_id": "e9a00ffe-de8a-41f0-98e7-67b905d0d14f",
    "deepnote_cell_height": 158,
    "deepnote_cell_type": "markdown",
    "tags": []
   },
   "source": [
    "### 9. ¿Cuáles compañías venden de forma exclusivamente online? ¿Sus ventas destacan sobre las que también tienen tiendas físicas?"
   ]
  },
  {
   "cell_type": "code",
   "execution_count": null,
   "metadata": {
    "cell_id": "cb6d5d30-783d-44af-9c84-f31689cb3487",
    "deepnote_cell_height": 81,
    "deepnote_cell_type": "code",
    "deepnote_to_be_reexecuted": false,
    "execution_millis": 6,
    "execution_start": 1645499304311,
    "source_hash": "f860be1",
    "tags": []
   },
   "outputs": [
    {
     "name": "stdout",
     "output_type": "stream",
     "text": [
      "El total en ventas totalmente online es:  109351  Millones de dolares\n"
     ]
    }
   ],
   "source": [
    "Online = df[df.isnull().any(True)]\n",
    "Online\n",
    "tot_v = Online['Sales'].sum()\n",
    "print('El total en ventas totalmente online es: ', tot_v,' Millones de dolares')"
   ]
  },
  {
   "cell_type": "code",
   "execution_count": null,
   "metadata": {
    "cell_id": "7362485e-016d-4902-b62e-e8aff9280682",
    "deepnote_cell_type": "code",
    "deepnote_to_be_reexecuted": false,
    "execution_millis": 765,
    "execution_start": 1645499304313,
    "source_hash": "389defa9",
    "tags": []
   },
   "outputs": [
    {
     "data": {
      "text/plain": [
       "<function matplotlib.pyplot.show(close=None, block=None)>"
      ]
     },
     "execution_count": 14,
     "metadata": {},
     "output_type": "execute_result"
    },
    {
     "data": {
      "image/png": "[encoded data removed]",
      "text/plain": [
       "<Figure size 432x288 with 1 Axes>"
      ]
     },
     "metadata": {
      "image/png": {
       "height": 248,
       "width": 387
      },
      "needs_background": "light"
     },
     "output_type": "display_data"
    }
   ],
   "source": [
    "plt.bar(Online.Company,Online.Sales)\n",
    "plt.show"
   ]
  },
  {
   "cell_type": "code",
   "execution_count": null,
   "metadata": {
    "cell_id": "fcc24d83-1157-490d-8da9-f61753805d8f",
    "deepnote_cell_type": "code",
    "deepnote_table_loading": false,
    "deepnote_table_state": {
     "filters": [],
     "pageIndex": 0,
     "pageSize": 10,
     "sortBy": []
    },
    "deepnote_to_be_reexecuted": false,
    "execution_millis": 422,
    "execution_start": 1645499304682,
    "source_hash": "64815d9f",
    "tags": []
   },
   "outputs": [
    {
     "data": {
      "application/vnd.deepnote.dataframe.v3+json": {
       "column_count": 7,
       "columns": [
        {
         "dtype": "object",
         "name": "Company",
         "stats": {
          "categories": [
           {
            "count": 1,
            "name": "Walmart US"
           },
           {
            "count": 1,
            "name": "Kroger"
           },
           {
            "count": 21,
            "name": "21 others"
           }
          ],
          "nan_count": 0,
          "unique_count": 23
         }
        },
        {
         "dtype": "int64",
         "name": "Sales",
         "stats": {
          "histogram": [
           {
            "bin_end": 80744.7,
            "bin_start": 16592,
            "count": 19
           },
           {
            "bin_end": 144897.4,
            "bin_start": 80744.7,
            "count": 3
           },
           {
            "bin_end": 209050.09999999998,
            "bin_start": 144897.4,
            "count": 0
           },
           {
            "bin_end": 273202.8,
            "bin_start": 209050.09999999998,
            "count": 0
           },
           {
            "bin_end": 337355.5,
            "bin_start": 273202.8,
            "count": 0
           },
           {
            "bin_end": 401508.19999999995,
            "bin_start": 337355.5,
            "count": 0
           },
           {
            "bin_end": 465660.89999999997,
            "bin_start": 401508.19999999995,
            "count": 0
           },
           {
            "bin_end": 529813.6,
            "bin_start": 465660.89999999997,
            "count": 0
           },
           {
            "bin_end": 593966.2999999999,
            "bin_start": 529813.6,
            "count": 0
           },
           {
            "bin_end": 658119,
            "bin_start": 593966.2999999999,
            "count": 1
           }
          ],
          "max": "658119",
          "min": "16592",
          "nan_count": 0,
          "unique_count": 23
         }
        },
        {
         "dtype": "float64",
         "name": "Stores",
         "stats": {
          "histogram": [
           {
            "bin_end": 1632.9,
            "bin_start": 231,
            "count": 10
           },
           {
            "bin_end": 3034.8,
            "bin_start": 1632.9,
            "count": 6
           },
           {
            "bin_end": 4436.700000000001,
            "bin_start": 3034.8,
            "count": 1
           },
           {
            "bin_end": 5838.6,
            "bin_start": 4436.700000000001,
            "count": 2
           },
           {
            "bin_end": 7240.5,
            "bin_start": 5838.6,
            "count": 0
           },
           {
            "bin_end": 8642.400000000001,
            "bin_start": 7240.5,
            "count": 1
           },
           {
            "bin_end": 10044.300000000001,
            "bin_start": 8642.400000000001,
            "count": 1
           },
           {
            "bin_end": 11446.2,
            "bin_start": 10044.300000000001,
            "count": 0
           },
           {
            "bin_end": 12848.1,
            "bin_start": 11446.2,
            "count": 0
           },
           {
            "bin_end": 14250,
            "bin_start": 12848.1,
            "count": 2
           }
          ],
          "max": "14250.0",
          "min": "231.0",
          "nan_count": 0,
          "unique_count": 23
         }
        },
        {
         "dtype": "float64",
         "name": "Sales/Avg. Store",
         "stats": {
          "histogram": [
           {
            "bin_end": 20.187088726,
            "bin_start": 1.56391854,
            "count": 9
           },
           {
            "bin_end": 38.810258912,
            "bin_start": 20.187088726,
            "count": 7
           },
           {
            "bin_end": 57.433429098000005,
            "bin_start": 38.810258912,
            "count": 2
           },
           {
            "bin_end": 76.056599284,
            "bin_start": 57.433429098000005,
            "count": 3
           },
           {
            "bin_end": 94.67976947,
            "bin_start": 76.056599284,
            "count": 1
           },
           {
            "bin_end": 113.302939656,
            "bin_start": 94.67976947,
            "count": 0
           },
           {
            "bin_end": 131.926109842,
            "bin_start": 113.302939656,
            "count": 0
           },
           {
            "bin_end": 150.549280028,
            "bin_start": 131.926109842,
            "count": 0
           },
           {
            "bin_end": 169.172450214,
            "bin_start": 150.549280028,
            "count": 0
           },
           {
            "bin_end": 187.7956204,
            "bin_start": 169.172450214,
            "count": 1
           }
          ],
          "max": "187.7956204",
          "min": "1.56391854",
          "nan_count": 0,
          "unique_count": 23
         }
        },
        {
         "dtype": "float64",
         "name": "Store Count Growth",
         "stats": {
          "histogram": [
           {
            "bin_end": -0.027997337395000002,
            "bin_start": -0.05951506245,
            "count": 3
           },
           {
            "bin_end": 0.003520387659999999,
            "bin_start": -0.027997337395000002,
            "count": 4
           },
           {
            "bin_end": 0.035038112715,
            "bin_start": 0.003520387659999999,
            "count": 6
           },
           {
            "bin_end": 0.06655583777,
            "bin_start": 0.035038112715,
            "count": 2
           },
           {
            "bin_end": 0.098073562825,
            "bin_start": 0.06655583777,
            "count": 5
           },
           {
            "bin_end": 0.12959128788000002,
            "bin_start": 0.098073562825,
            "count": 1
           },
           {
            "bin_end": 0.16110901293500002,
            "bin_start": 0.12959128788000002,
            "count": 1
           },
           {
            "bin_end": 0.19262673799000002,
            "bin_start": 0.16110901293500002,
            "count": 0
           },
           {
            "bin_end": 0.22414446304500002,
            "bin_start": 0.19262673799000002,
            "count": 0
           },
           {
            "bin_end": 0.2556621881,
            "bin_start": 0.22414446304500002,
            "count": 1
           }
          ],
          "max": "0.2556621881",
          "min": "-0.05951506245",
          "nan_count": 0,
          "unique_count": 23
         }
        },
        {
         "dtype": "object",
         "name": "Category",
         "stats": {
          "categories": [
           {
            "count": 7,
            "name": "Grocery"
           },
           {
            "count": 3,
            "name": "Supercenters"
           },
           {
            "count": 13,
            "name": "8 others"
           }
          ],
          "nan_count": 0,
          "unique_count": 10
         }
        },
        {
         "dtype": "float64",
         "name": "Ventas/Tienda",
         "stats": {
          "histogram": [
           {
            "bin_end": 19.547136204146728,
            "bin_start": 1.5062456140350877,
            "count": 9
           },
           {
            "bin_end": 37.58802679425837,
            "bin_start": 19.547136204146728,
            "count": 7
           },
           {
            "bin_end": 55.628917384370006,
            "bin_start": 37.58802679425837,
            "count": 2
           },
           {
            "bin_end": 73.66980797448166,
            "bin_start": 55.628917384370006,
            "count": 2
           },
           {
            "bin_end": 91.7106985645933,
            "bin_start": 73.66980797448166,
            "count": 1
           },
           {
            "bin_end": 109.75158915470493,
            "bin_start": 91.7106985645933,
            "count": 0
           },
           {
            "bin_end": 127.79247974481657,
            "bin_start": 109.75158915470493,
            "count": 0
           },
           {
            "bin_end": 145.83337033492822,
            "bin_start": 127.79247974481657,
            "count": 1
           },
           {
            "bin_end": 163.87426092503986,
            "bin_start": 145.83337033492822,
            "count": 0
           },
           {
            "bin_end": 181.9151515151515,
            "bin_start": 163.87426092503986,
            "count": 1
           }
          ],
          "max": "181.9151515151515",
          "min": "1.5062456140350877",
          "nan_count": 0,
          "unique_count": 23
         }
        },
        {
         "dtype": "int64",
         "name": "_deepnote_index_column"
        }
       ],
       "row_count": 23,
       "rows": [
        {
         "Category": "Supercenters",
         "Company": "Walmart US",
         "Sales": 658119,
         "Sales/Avg. Store": 65.64972497,
         "Store Count Growth": 0.01284322409,
         "Stores": 4574,
         "Ventas/Tienda": 143.88259728902491,
         "_deepnote_index_column": 0
        },
        {
         "Category": "Grocery",
         "Company": "Kroger",
         "Sales": 115037,
         "Sales/Avg. Store": 30.03184963,
         "Store Count Growth": 0.05388739946,
         "Stores": 3931,
         "Ventas/Tienda": 29.26405494785042,
         "_deepnote_index_column": 1
        },
        {
         "Category": "Warehouse Club",
         "Company": "Costco",
         "Sales": 90048,
         "Sales/Avg. Store": 187.7956204,
         "Store Count Growth": 0.06681034483,
         "Stores": 495,
         "Ventas/Tienda": 181.9151515151515,
         "_deepnote_index_column": 2
        },
        {
         "Category": "Home Improvement",
         "Company": "Home Depot",
         "Sales": 83976,
         "Sales/Avg. Store": 42.73587786,
         "Store Count Growth": 0,
         "Stores": 1965,
         "Ventas/Tienda": 42.73587786259542,
         "_deepnote_index_column": 3
        },
        {
         "Category": "Drug Stores",
         "Company": "Walgreen Boots",
         "Sales": 78924,
         "Sales/Avg. Store": 9.81092672,
         "Store Count Growth": -0.01051069618,
         "Stores": 8002,
         "Ventas/Tienda": 9.86303424143964,
         "_deepnote_index_column": 4
        },
        {
         "Category": "Drug Stores",
         "Company": "CVS incl. Target",
         "Sales": 77792,
         "Sales/Avg. Store": 8.825958702,
         "Store Count Growth": 0.2556621881,
         "Stores": 9813,
         "Ventas/Tienda": 7.927443187608275,
         "_deepnote_index_column": 5
        },
        {
         "Category": "Supercenters",
         "Company": "Target",
         "Sales": 71208,
         "Sales/Avg. Store": 39.98203257,
         "Store Count Growth": -0.01005586592,
         "Stores": 1772,
         "Ventas/Tienda": 40.18510158013544,
         "_deepnote_index_column": 7
        },
        {
         "Category": "Home Improvement",
         "Company": "Lowe's",
         "Sales": 60311,
         "Sales/Avg. Store": 33.31179232,
         "Store Count Growth": 0.01952035694,
         "Stores": 1828,
         "Ventas/Tienda": 32.99288840262582,
         "_deepnote_index_column": 8
        },
        {
         "Category": "Grocery",
         "Company": "Albertsons",
         "Sales": 56829,
         "Sales/Avg. Store": 23.87773109,
         "Store Count Growth": -0.04437140509,
         "Stores": 2326,
         "Ventas/Tienda": 24.43207222699914,
         "_deepnote_index_column": 9
        },
        {
         "Category": "Warehouse Clubs",
         "Company": "Sam's Club",
         "Sales": 56828,
         "Sales/Avg. Store": 87.29339478,
         "Store Count Growth": 0.01236476043,
         "Stores": 655,
         "Ventas/Tienda": 86.76030534351145,
         "_deepnote_index_column": 10
        }
       ]
      },
      "text/html": [
       "<div>\n",
       "<style scoped>\n",
       "    .dataframe tbody tr th:only-of-type {\n",
       "        vertical-align: middle;\n",
       "    }\n",
       "\n",
       "    .dataframe tbody tr th {\n",
       "        vertical-align: top;\n",
       "    }\n",
       "\n",
       "    .dataframe thead th {\n",
       "        text-align: right;\n",
       "    }\n",
       "</style>\n",
       "<table border=\"1\" class=\"dataframe\">\n",
       "  <thead>\n",
       "    <tr style=\"text-align: right;\">\n",
       "      <th></th>\n",
       "      <th>Company</th>\n",
       "      <th>Sales</th>\n",
       "      <th>Stores</th>\n",
       "      <th>Sales/Avg. Store</th>\n",
       "      <th>Store Count Growth</th>\n",
       "      <th>Category</th>\n",
       "      <th>Ventas/Tienda</th>\n",
       "    </tr>\n",
       "  </thead>\n",
       "  <tbody>\n",
       "    <tr>\n",
       "      <th>0</th>\n",
       "      <td>Walmart US</td>\n",
       "      <td>658119</td>\n",
       "      <td>4574.0</td>\n",
       "      <td>65.649725</td>\n",
       "      <td>0.012843</td>\n",
       "      <td>Supercenters</td>\n",
       "      <td>143.882597</td>\n",
       "    </tr>\n",
       "    <tr>\n",
       "      <th>1</th>\n",
       "      <td>Kroger</td>\n",
       "      <td>115037</td>\n",
       "      <td>3931.0</td>\n",
       "      <td>30.031850</td>\n",
       "      <td>0.053887</td>\n",
       "      <td>Grocery</td>\n",
       "      <td>29.264055</td>\n",
       "    </tr>\n",
       "    <tr>\n",
       "      <th>2</th>\n",
       "      <td>Costco</td>\n",
       "      <td>90048</td>\n",
       "      <td>495.0</td>\n",
       "      <td>187.795620</td>\n",
       "      <td>0.066810</td>\n",
       "      <td>Warehouse Club</td>\n",
       "      <td>181.915152</td>\n",
       "    </tr>\n",
       "    <tr>\n",
       "      <th>3</th>\n",
       "      <td>Home Depot</td>\n",
       "      <td>83976</td>\n",
       "      <td>1965.0</td>\n",
       "      <td>42.735878</td>\n",
       "      <td>0.000000</td>\n",
       "      <td>Home Improvement</td>\n",
       "      <td>42.735878</td>\n",
       "    </tr>\n",
       "    <tr>\n",
       "      <th>4</th>\n",
       "      <td>Walgreen Boots</td>\n",
       "      <td>78924</td>\n",
       "      <td>8002.0</td>\n",
       "      <td>9.810927</td>\n",
       "      <td>-0.010511</td>\n",
       "      <td>Drug Stores</td>\n",
       "      <td>9.863034</td>\n",
       "    </tr>\n",
       "    <tr>\n",
       "      <th>5</th>\n",
       "      <td>CVS incl. Target</td>\n",
       "      <td>77792</td>\n",
       "      <td>9813.0</td>\n",
       "      <td>8.825959</td>\n",
       "      <td>0.255662</td>\n",
       "      <td>Drug Stores</td>\n",
       "      <td>7.927443</td>\n",
       "    </tr>\n",
       "    <tr>\n",
       "      <th>7</th>\n",
       "      <td>Target</td>\n",
       "      <td>71208</td>\n",
       "      <td>1772.0</td>\n",
       "      <td>39.982033</td>\n",
       "      <td>-0.010056</td>\n",
       "      <td>Supercenters</td>\n",
       "      <td>40.185102</td>\n",
       "    </tr>\n",
       "    <tr>\n",
       "      <th>8</th>\n",
       "      <td>Lowe's</td>\n",
       "      <td>60311</td>\n",
       "      <td>1828.0</td>\n",
       "      <td>33.311792</td>\n",
       "      <td>0.019520</td>\n",
       "      <td>Home Improvement</td>\n",
       "      <td>32.992888</td>\n",
       "    </tr>\n",
       "    <tr>\n",
       "      <th>9</th>\n",
       "      <td>Albertsons</td>\n",
       "      <td>56829</td>\n",
       "      <td>2326.0</td>\n",
       "      <td>23.877731</td>\n",
       "      <td>-0.044371</td>\n",
       "      <td>Grocery</td>\n",
       "      <td>24.432072</td>\n",
       "    </tr>\n",
       "    <tr>\n",
       "      <th>10</th>\n",
       "      <td>Sam's Club</td>\n",
       "      <td>56828</td>\n",
       "      <td>655.0</td>\n",
       "      <td>87.293395</td>\n",
       "      <td>0.012365</td>\n",
       "      <td>Warehouse Clubs</td>\n",
       "      <td>86.760305</td>\n",
       "    </tr>\n",
       "    <tr>\n",
       "      <th>12</th>\n",
       "      <td>Best Buy</td>\n",
       "      <td>34980</td>\n",
       "      <td>1389.0</td>\n",
       "      <td>24.685956</td>\n",
       "      <td>-0.038754</td>\n",
       "      <td>Electronics</td>\n",
       "      <td>25.183585</td>\n",
       "    </tr>\n",
       "    <tr>\n",
       "      <th>13</th>\n",
       "      <td>Publix</td>\n",
       "      <td>34408</td>\n",
       "      <td>1351.0</td>\n",
       "      <td>25.997733</td>\n",
       "      <td>0.042438</td>\n",
       "      <td>Grocery</td>\n",
       "      <td>25.468542</td>\n",
       "    </tr>\n",
       "    <tr>\n",
       "      <th>14</th>\n",
       "      <td>Rite Aid</td>\n",
       "      <td>27486</td>\n",
       "      <td>4553.0</td>\n",
       "      <td>6.025649</td>\n",
       "      <td>-0.003720</td>\n",
       "      <td>Drug Stores</td>\n",
       "      <td>6.036899</td>\n",
       "    </tr>\n",
       "    <tr>\n",
       "      <th>15</th>\n",
       "      <td>Ahold</td>\n",
       "      <td>26903</td>\n",
       "      <td>794.0</td>\n",
       "      <td>34.446863</td>\n",
       "      <td>0.033854</td>\n",
       "      <td>Grocery</td>\n",
       "      <td>33.882872</td>\n",
       "    </tr>\n",
       "    <tr>\n",
       "      <th>16</th>\n",
       "      <td>Macy's</td>\n",
       "      <td>26028</td>\n",
       "      <td>889.0</td>\n",
       "      <td>30.442105</td>\n",
       "      <td>0.082826</td>\n",
       "      <td>Department Stores</td>\n",
       "      <td>29.277840</td>\n",
       "    </tr>\n",
       "    <tr>\n",
       "      <th>17</th>\n",
       "      <td>TJX</td>\n",
       "      <td>25012</td>\n",
       "      <td>2770.0</td>\n",
       "      <td>9.369545</td>\n",
       "      <td>0.078241</td>\n",
       "      <td>Apparel</td>\n",
       "      <td>9.029603</td>\n",
       "    </tr>\n",
       "    <tr>\n",
       "      <th>18</th>\n",
       "      <td>Aldi</td>\n",
       "      <td>24402</td>\n",
       "      <td>2021.0</td>\n",
       "      <td>12.715998</td>\n",
       "      <td>0.112273</td>\n",
       "      <td>Grocery</td>\n",
       "      <td>12.074221</td>\n",
       "    </tr>\n",
       "    <tr>\n",
       "      <th>19</th>\n",
       "      <td>Dollar General</td>\n",
       "      <td>22234</td>\n",
       "      <td>13350.0</td>\n",
       "      <td>1.768885</td>\n",
       "      <td>0.132412</td>\n",
       "      <td>Dollar Stores</td>\n",
       "      <td>1.665468</td>\n",
       "    </tr>\n",
       "    <tr>\n",
       "      <th>20</th>\n",
       "      <td>Dollar Tree</td>\n",
       "      <td>21464</td>\n",
       "      <td>14250.0</td>\n",
       "      <td>1.563919</td>\n",
       "      <td>0.079627</td>\n",
       "      <td>Dollar Stores</td>\n",
       "      <td>1.506246</td>\n",
       "    </tr>\n",
       "    <tr>\n",
       "      <th>21</th>\n",
       "      <td>HEB</td>\n",
       "      <td>21384</td>\n",
       "      <td>323.0</td>\n",
       "      <td>66.825000</td>\n",
       "      <td>0.018927</td>\n",
       "      <td>Grocery</td>\n",
       "      <td>66.204334</td>\n",
       "    </tr>\n",
       "    <tr>\n",
       "      <th>22</th>\n",
       "      <td>Kohl's</td>\n",
       "      <td>19060</td>\n",
       "      <td>1169.0</td>\n",
       "      <td>16.353496</td>\n",
       "      <td>0.006024</td>\n",
       "      <td>Department Stores</td>\n",
       "      <td>16.304534</td>\n",
       "    </tr>\n",
       "    <tr>\n",
       "      <th>23</th>\n",
       "      <td>Delhaize</td>\n",
       "      <td>18201</td>\n",
       "      <td>1280.0</td>\n",
       "      <td>13.783415</td>\n",
       "      <td>-0.059515</td>\n",
       "      <td>Grocery</td>\n",
       "      <td>14.219531</td>\n",
       "    </tr>\n",
       "    <tr>\n",
       "      <th>24</th>\n",
       "      <td>Meijer</td>\n",
       "      <td>16592</td>\n",
       "      <td>231.0</td>\n",
       "      <td>74.738739</td>\n",
       "      <td>0.084507</td>\n",
       "      <td>Supercenters</td>\n",
       "      <td>71.826840</td>\n",
       "    </tr>\n",
       "  </tbody>\n",
       "</table>\n",
       "</div>"
      ],
      "text/plain": [
       "             Company   Sales   Stores  Sales/Avg. Store  Store Count Growth  \\\n",
       "0         Walmart US  658119   4574.0         65.649725            0.012843   \n",
       "1             Kroger  115037   3931.0         30.031850            0.053887   \n",
       "2             Costco   90048    495.0        187.795620            0.066810   \n",
       "3         Home Depot   83976   1965.0         42.735878            0.000000   \n",
       "4     Walgreen Boots   78924   8002.0          9.810927           -0.010511   \n",
       "5   CVS incl. Target   77792   9813.0          8.825959            0.255662   \n",
       "7             Target   71208   1772.0         39.982033           -0.010056   \n",
       "8             Lowe's   60311   1828.0         33.311792            0.019520   \n",
       "9         Albertsons   56829   2326.0         23.877731           -0.044371   \n",
       "10        Sam's Club   56828    655.0         87.293395            0.012365   \n",
       "12          Best Buy   34980   1389.0         24.685956           -0.038754   \n",
       "13            Publix   34408   1351.0         25.997733            0.042438   \n",
       "14          Rite Aid   27486   4553.0          6.025649           -0.003720   \n",
       "15             Ahold   26903    794.0         34.446863            0.033854   \n",
       "16            Macy's   26028    889.0         30.442105            0.082826   \n",
       "17               TJX   25012   2770.0          9.369545            0.078241   \n",
       "18              Aldi   24402   2021.0         12.715998            0.112273   \n",
       "19    Dollar General   22234  13350.0          1.768885            0.132412   \n",
       "20       Dollar Tree   21464  14250.0          1.563919            0.079627   \n",
       "21               HEB   21384    323.0         66.825000            0.018927   \n",
       "22            Kohl's   19060   1169.0         16.353496            0.006024   \n",
       "23          Delhaize   18201   1280.0         13.783415           -0.059515   \n",
       "24            Meijer   16592    231.0         74.738739            0.084507   \n",
       "\n",
       "             Category  Ventas/Tienda  \n",
       "0        Supercenters     143.882597  \n",
       "1             Grocery      29.264055  \n",
       "2      Warehouse Club     181.915152  \n",
       "3    Home Improvement      42.735878  \n",
       "4         Drug Stores       9.863034  \n",
       "5         Drug Stores       7.927443  \n",
       "7        Supercenters      40.185102  \n",
       "8    Home Improvement      32.992888  \n",
       "9             Grocery      24.432072  \n",
       "10    Warehouse Clubs      86.760305  \n",
       "12        Electronics      25.183585  \n",
       "13            Grocery      25.468542  \n",
       "14        Drug Stores       6.036899  \n",
       "15            Grocery      33.882872  \n",
       "16  Department Stores      29.277840  \n",
       "17            Apparel       9.029603  \n",
       "18            Grocery      12.074221  \n",
       "19      Dollar Stores       1.665468  \n",
       "20      Dollar Stores       1.506246  \n",
       "21            Grocery      66.204334  \n",
       "22  Department Stores      16.304534  \n",
       "23            Grocery      14.219531  \n",
       "24       Supercenters      71.826840  "
      ]
     },
     "execution_count": 15,
     "metadata": {},
     "output_type": "execute_result"
    }
   ],
   "source": [
    "#Deja los datos no nulos, los otros los elimina\n",
    "tiendas_fisicas = df.dropna()\n",
    "tiendas_fisicas"
   ]
  },
  {
   "cell_type": "code",
   "execution_count": null,
   "metadata": {
    "cell_id": "b4375934-ac19-4c4c-9fee-97f7eba9984f",
    "deepnote_cell_type": "code",
    "deepnote_to_be_reexecuted": false,
    "execution_millis": 1134,
    "execution_start": 1645499304833,
    "source_hash": "a4c0552d",
    "tags": []
   },
   "outputs": [
    {
     "data": {
      "image/png": "[encoded data removed]",
      "text/plain": [
       "<Figure size 432x288 with 1 Axes>"
      ]
     },
     "metadata": {
      "image/png": {
       "height": 326,
       "width": 393
      },
      "needs_background": "light"
     },
     "output_type": "display_data"
    }
   ],
   "source": [
    "fig, ax = plt.subplots()\n",
    "ax.bar(tiendas_fisicas.Company,tiendas_fisicas.Sales)\n",
    "ax.bar(Online.Company,Online.Sales)\n",
    "plt.axhline(x_1, color =\"r\", linestyle = '--', linewidth = 2)\n",
    "plt.xticks(rotation=90)\n",
    "plt.show()"
   ]
  },
  {
   "cell_type": "markdown",
   "metadata": {
    "cell_id": "fe8c4ec1-2c0b-4414-ad18-747d4f4ddc8f",
    "deepnote_cell_type": "text-cell-p",
    "is_collapsed": false,
    "tags": []
   },
   "source": [
    "Se observa que las ventas de las compañías online están en un rango aceptable, al comparar con la media de ventas de compañías con tienda física, por ejemplo Amazon netamente online y sus ventas están por encima del promedio de compañías, por otra parte Apple vende un poco menos del promedio de ventas de las otras compañías, sin embargo esta  bastante cerca de ese punto medio."
   ]
  },
  {
   "cell_type": "markdown",
   "metadata": {
    "cell_id": "58c80612-3fb2-4c71-9aab-813b121430a0",
    "deepnote_cell_height": 70,
    "deepnote_cell_type": "markdown",
    "tags": []
   },
   "source": [
    "## III. Tus propias preguntas"
   ]
  },
  {
   "cell_type": "markdown",
   "metadata": {
    "cell_id": "fa60966b-7d95-43f0-9a1e-201f1373f1be",
    "deepnote_cell_height": 62,
    "deepnote_cell_type": "markdown",
    "tags": []
   },
   "source": [
    "### 10. Ventas vs la tasa de crecimiento de tiendas?"
   ]
  },
  {
   "cell_type": "code",
   "execution_count": null,
   "metadata": {
    "cell_id": "52ea290f-004f-4aaa-8e1a-0d0908996b0a",
    "deepnote_cell_height": 81,
    "deepnote_cell_type": "code",
    "deepnote_to_be_reexecuted": false,
    "execution_millis": 114,
    "execution_start": 1645499305975,
    "source_hash": "d6fb36f7",
    "tags": []
   },
   "outputs": [
    {
     "data": {
      "application/vnd.deepnote.dataframe.v3+json": {
       "column_count": 7,
       "columns": [
        {
         "dtype": "object",
         "name": "Company",
         "stats": {
          "categories": [
           {
            "count": 1,
            "name": "CVS incl. Target"
           },
           {
            "count": 1,
            "name": "Dollar General"
           },
           {
            "count": 8,
            "name": "8 others"
           }
          ],
          "nan_count": 0,
          "unique_count": 10
         }
        },
        {
         "dtype": "int64",
         "name": "Sales",
         "stats": {
          "histogram": [
           {
            "bin_end": 26436.5,
            "bin_start": 16592,
            "count": 6
           },
           {
            "bin_end": 36281,
            "bin_start": 26436.5,
            "count": 1
           },
           {
            "bin_end": 46125.5,
            "bin_start": 36281,
            "count": 0
           },
           {
            "bin_end": 55970,
            "bin_start": 46125.5,
            "count": 0
           },
           {
            "bin_end": 65814.5,
            "bin_start": 55970,
            "count": 0
           },
           {
            "bin_end": 75659,
            "bin_start": 65814.5,
            "count": 0
           },
           {
            "bin_end": 85503.5,
            "bin_start": 75659,
            "count": 1
           },
           {
            "bin_end": 95348,
            "bin_start": 85503.5,
            "count": 1
           },
           {
            "bin_end": 105192.5,
            "bin_start": 95348,
            "count": 0
           },
           {
            "bin_end": 115037,
            "bin_start": 105192.5,
            "count": 1
           }
          ],
          "max": "115037",
          "min": "16592",
          "nan_count": 0,
          "unique_count": 10
         }
        },
        {
         "dtype": "float64",
         "name": "Stores",
         "stats": {
          "histogram": [
           {
            "bin_end": 1632.9,
            "bin_start": 231,
            "count": 4
           },
           {
            "bin_end": 3034.8,
            "bin_start": 1632.9,
            "count": 2
           },
           {
            "bin_end": 4436.700000000001,
            "bin_start": 3034.8,
            "count": 1
           },
           {
            "bin_end": 5838.6,
            "bin_start": 4436.700000000001,
            "count": 0
           },
           {
            "bin_end": 7240.5,
            "bin_start": 5838.6,
            "count": 0
           },
           {
            "bin_end": 8642.400000000001,
            "bin_start": 7240.5,
            "count": 0
           },
           {
            "bin_end": 10044.300000000001,
            "bin_start": 8642.400000000001,
            "count": 1
           },
           {
            "bin_end": 11446.2,
            "bin_start": 10044.300000000001,
            "count": 0
           },
           {
            "bin_end": 12848.1,
            "bin_start": 11446.2,
            "count": 0
           },
           {
            "bin_end": 14250,
            "bin_start": 12848.1,
            "count": 2
           }
          ],
          "max": "14250.0",
          "min": "231.0",
          "nan_count": 0,
          "unique_count": 10
         }
        },
        {
         "dtype": "float64",
         "name": "Sales/Avg. Store",
         "stats": {
          "histogram": [
           {
            "bin_end": 20.187088726,
            "bin_start": 1.56391854,
            "count": 5
           },
           {
            "bin_end": 38.810258912,
            "bin_start": 20.187088726,
            "count": 3
           },
           {
            "bin_end": 57.433429098000005,
            "bin_start": 38.810258912,
            "count": 0
           },
           {
            "bin_end": 76.056599284,
            "bin_start": 57.433429098000005,
            "count": 1
           },
           {
            "bin_end": 94.67976947,
            "bin_start": 76.056599284,
            "count": 0
           },
           {
            "bin_end": 113.302939656,
            "bin_start": 94.67976947,
            "count": 0
           },
           {
            "bin_end": 131.926109842,
            "bin_start": 113.302939656,
            "count": 0
           },
           {
            "bin_end": 150.549280028,
            "bin_start": 131.926109842,
            "count": 0
           },
           {
            "bin_end": 169.172450214,
            "bin_start": 150.549280028,
            "count": 0
           },
           {
            "bin_end": 187.7956204,
            "bin_start": 169.172450214,
            "count": 1
           }
          ],
          "max": "187.7956204",
          "min": "1.56391854",
          "nan_count": 0,
          "unique_count": 10
         }
        },
        {
         "dtype": "float64",
         "name": "Store Count Growth",
         "stats": {
          "histogram": [
           {
            "bin_end": 0.06376066325,
            "bin_start": 0.0424382716,
            "count": 2
           },
           {
            "bin_end": 0.08508305490000001,
            "bin_start": 0.06376066325,
            "count": 5
           },
           {
            "bin_end": 0.10640544655,
            "bin_start": 0.08508305490000001,
            "count": 0
           },
           {
            "bin_end": 0.1277278382,
            "bin_start": 0.10640544655,
            "count": 1
           },
           {
            "bin_end": 0.14905022985,
            "bin_start": 0.1277278382,
            "count": 1
           },
           {
            "bin_end": 0.17037262150000002,
            "bin_start": 0.14905022985,
            "count": 0
           },
           {
            "bin_end": 0.19169501315,
            "bin_start": 0.17037262150000002,
            "count": 0
           },
           {
            "bin_end": 0.2130174048,
            "bin_start": 0.19169501315,
            "count": 0
           },
           {
            "bin_end": 0.23433979645,
            "bin_start": 0.2130174048,
            "count": 0
           },
           {
            "bin_end": 0.2556621881,
            "bin_start": 0.23433979645,
            "count": 1
           }
          ],
          "max": "0.2556621881",
          "min": "0.0424382716",
          "nan_count": 0,
          "unique_count": 10
         }
        },
        {
         "dtype": "object",
         "name": "Category",
         "stats": {
          "categories": [
           {
            "count": 3,
            "name": "Grocery"
           },
           {
            "count": 2,
            "name": "Dollar Stores"
           },
           {
            "count": 5,
            "name": "5 others"
           }
          ],
          "nan_count": 0,
          "unique_count": 7
         }
        },
        {
         "dtype": "float64",
         "name": "Ventas/Tienda",
         "stats": {
          "histogram": [
           {
            "bin_end": 19.547136204146728,
            "bin_start": 1.5062456140350877,
            "count": 5
           },
           {
            "bin_end": 37.58802679425837,
            "bin_start": 19.547136204146728,
            "count": 3
           },
           {
            "bin_end": 55.628917384370006,
            "bin_start": 37.58802679425837,
            "count": 0
           },
           {
            "bin_end": 73.66980797448166,
            "bin_start": 55.628917384370006,
            "count": 1
           },
           {
            "bin_end": 91.7106985645933,
            "bin_start": 73.66980797448166,
            "count": 0
           },
           {
            "bin_end": 109.75158915470493,
            "bin_start": 91.7106985645933,
            "count": 0
           },
           {
            "bin_end": 127.79247974481657,
            "bin_start": 109.75158915470493,
            "count": 0
           },
           {
            "bin_end": 145.83337033492822,
            "bin_start": 127.79247974481657,
            "count": 0
           },
           {
            "bin_end": 163.87426092503986,
            "bin_start": 145.83337033492822,
            "count": 0
           },
           {
            "bin_end": 181.9151515151515,
            "bin_start": 163.87426092503986,
            "count": 1
           }
          ],
          "max": "181.9151515151515",
          "min": "1.5062456140350877",
          "nan_count": 0,
          "unique_count": 10
         }
        },
        {
         "dtype": "int64",
         "name": "_deepnote_index_column"
        }
       ],
       "row_count": 10,
       "rows": [
        {
         "Category": "Drug Stores",
         "Company": "CVS incl. Target",
         "Sales": 77792,
         "Sales/Avg. Store": 8.825958702,
         "Store Count Growth": 0.2556621881,
         "Stores": 9813,
         "Ventas/Tienda": 7.927443187608275,
         "_deepnote_index_column": 5
        },
        {
         "Category": "Dollar Stores",
         "Company": "Dollar General",
         "Sales": 22234,
         "Sales/Avg. Store": 1.768884999,
         "Store Count Growth": 0.1324115701,
         "Stores": 13350,
         "Ventas/Tienda": 1.6654681647940075,
         "_deepnote_index_column": 19
        },
        {
         "Category": "Grocery",
         "Company": "Aldi",
         "Sales": 24402,
         "Sales/Avg. Store": 12.71599792,
         "Store Count Growth": 0.1122729774,
         "Stores": 2021,
         "Ventas/Tienda": 12.074220682830282,
         "_deepnote_index_column": 18
        },
        {
         "Category": "Supercenters",
         "Company": "Meijer",
         "Sales": 16592,
         "Sales/Avg. Store": 74.73873874,
         "Store Count Growth": 0.08450704225,
         "Stores": 231,
         "Ventas/Tienda": 71.82683982683983,
         "_deepnote_index_column": 24
        },
        {
         "Category": "Department Stores",
         "Company": "Macy's",
         "Sales": 26028,
         "Sales/Avg. Store": 30.44210526,
         "Store Count Growth": 0.08282582217,
         "Stores": 889,
         "Ventas/Tienda": 29.277840269966255,
         "_deepnote_index_column": 16
        },
        {
         "Category": "Dollar Stores",
         "Company": "Dollar Tree",
         "Sales": 21464,
         "Sales/Avg. Store": 1.56391854,
         "Store Count Growth": 0.07962724449,
         "Stores": 14250,
         "Ventas/Tienda": 1.5062456140350877,
         "_deepnote_index_column": 20
        },
        {
         "Category": "Apparel",
         "Company": "TJX",
         "Sales": 25012,
         "Sales/Avg. Store": 9.369544859,
         "Store Count Growth": 0.07824056053,
         "Stores": 2770,
         "Ventas/Tienda": 9.029602888086643,
         "_deepnote_index_column": 17
        },
        {
         "Category": "Warehouse Club",
         "Company": "Costco",
         "Sales": 90048,
         "Sales/Avg. Store": 187.7956204,
         "Store Count Growth": 0.06681034483,
         "Stores": 495,
         "Ventas/Tienda": 181.9151515151515,
         "_deepnote_index_column": 2
        },
        {
         "Category": "Grocery",
         "Company": "Kroger",
         "Sales": 115037,
         "Sales/Avg. Store": 30.03184963,
         "Store Count Growth": 0.05388739946,
         "Stores": 3931,
         "Ventas/Tienda": 29.26405494785042,
         "_deepnote_index_column": 1
        },
        {
         "Category": "Grocery",
         "Company": "Publix",
         "Sales": 34408,
         "Sales/Avg. Store": 25.99773328,
         "Store Count Growth": 0.0424382716,
         "Stores": 1351,
         "Ventas/Tienda": 25.468541820873426,
         "_deepnote_index_column": 13
        }
       ]
      },
      "text/html": [
       "<div>\n",
       "<style scoped>\n",
       "    .dataframe tbody tr th:only-of-type {\n",
       "        vertical-align: middle;\n",
       "    }\n",
       "\n",
       "    .dataframe tbody tr th {\n",
       "        vertical-align: top;\n",
       "    }\n",
       "\n",
       "    .dataframe thead th {\n",
       "        text-align: right;\n",
       "    }\n",
       "</style>\n",
       "<table border=\"1\" class=\"dataframe\">\n",
       "  <thead>\n",
       "    <tr style=\"text-align: right;\">\n",
       "      <th></th>\n",
       "      <th>Company</th>\n",
       "      <th>Sales</th>\n",
       "      <th>Stores</th>\n",
       "      <th>Sales/Avg. Store</th>\n",
       "      <th>Store Count Growth</th>\n",
       "      <th>Category</th>\n",
       "      <th>Ventas/Tienda</th>\n",
       "    </tr>\n",
       "  </thead>\n",
       "  <tbody>\n",
       "    <tr>\n",
       "      <th>5</th>\n",
       "      <td>CVS incl. Target</td>\n",
       "      <td>77792</td>\n",
       "      <td>9813.0</td>\n",
       "      <td>8.825959</td>\n",
       "      <td>0.255662</td>\n",
       "      <td>Drug Stores</td>\n",
       "      <td>7.927443</td>\n",
       "    </tr>\n",
       "    <tr>\n",
       "      <th>19</th>\n",
       "      <td>Dollar General</td>\n",
       "      <td>22234</td>\n",
       "      <td>13350.0</td>\n",
       "      <td>1.768885</td>\n",
       "      <td>0.132412</td>\n",
       "      <td>Dollar Stores</td>\n",
       "      <td>1.665468</td>\n",
       "    </tr>\n",
       "    <tr>\n",
       "      <th>18</th>\n",
       "      <td>Aldi</td>\n",
       "      <td>24402</td>\n",
       "      <td>2021.0</td>\n",
       "      <td>12.715998</td>\n",
       "      <td>0.112273</td>\n",
       "      <td>Grocery</td>\n",
       "      <td>12.074221</td>\n",
       "    </tr>\n",
       "    <tr>\n",
       "      <th>24</th>\n",
       "      <td>Meijer</td>\n",
       "      <td>16592</td>\n",
       "      <td>231.0</td>\n",
       "      <td>74.738739</td>\n",
       "      <td>0.084507</td>\n",
       "      <td>Supercenters</td>\n",
       "      <td>71.826840</td>\n",
       "    </tr>\n",
       "    <tr>\n",
       "      <th>16</th>\n",
       "      <td>Macy's</td>\n",
       "      <td>26028</td>\n",
       "      <td>889.0</td>\n",
       "      <td>30.442105</td>\n",
       "      <td>0.082826</td>\n",
       "      <td>Department Stores</td>\n",
       "      <td>29.277840</td>\n",
       "    </tr>\n",
       "    <tr>\n",
       "      <th>20</th>\n",
       "      <td>Dollar Tree</td>\n",
       "      <td>21464</td>\n",
       "      <td>14250.0</td>\n",
       "      <td>1.563919</td>\n",
       "      <td>0.079627</td>\n",
       "      <td>Dollar Stores</td>\n",
       "      <td>1.506246</td>\n",
       "    </tr>\n",
       "    <tr>\n",
       "      <th>17</th>\n",
       "      <td>TJX</td>\n",
       "      <td>25012</td>\n",
       "      <td>2770.0</td>\n",
       "      <td>9.369545</td>\n",
       "      <td>0.078241</td>\n",
       "      <td>Apparel</td>\n",
       "      <td>9.029603</td>\n",
       "    </tr>\n",
       "    <tr>\n",
       "      <th>2</th>\n",
       "      <td>Costco</td>\n",
       "      <td>90048</td>\n",
       "      <td>495.0</td>\n",
       "      <td>187.795620</td>\n",
       "      <td>0.066810</td>\n",
       "      <td>Warehouse Club</td>\n",
       "      <td>181.915152</td>\n",
       "    </tr>\n",
       "    <tr>\n",
       "      <th>1</th>\n",
       "      <td>Kroger</td>\n",
       "      <td>115037</td>\n",
       "      <td>3931.0</td>\n",
       "      <td>30.031850</td>\n",
       "      <td>0.053887</td>\n",
       "      <td>Grocery</td>\n",
       "      <td>29.264055</td>\n",
       "    </tr>\n",
       "    <tr>\n",
       "      <th>13</th>\n",
       "      <td>Publix</td>\n",
       "      <td>34408</td>\n",
       "      <td>1351.0</td>\n",
       "      <td>25.997733</td>\n",
       "      <td>0.042438</td>\n",
       "      <td>Grocery</td>\n",
       "      <td>25.468542</td>\n",
       "    </tr>\n",
       "  </tbody>\n",
       "</table>\n",
       "</div>"
      ],
      "text/plain": [
       "             Company   Sales   Stores  Sales/Avg. Store  Store Count Growth  \\\n",
       "5   CVS incl. Target   77792   9813.0          8.825959            0.255662   \n",
       "19    Dollar General   22234  13350.0          1.768885            0.132412   \n",
       "18              Aldi   24402   2021.0         12.715998            0.112273   \n",
       "24            Meijer   16592    231.0         74.738739            0.084507   \n",
       "16            Macy's   26028    889.0         30.442105            0.082826   \n",
       "20       Dollar Tree   21464  14250.0          1.563919            0.079627   \n",
       "17               TJX   25012   2770.0          9.369545            0.078241   \n",
       "2             Costco   90048    495.0        187.795620            0.066810   \n",
       "1             Kroger  115037   3931.0         30.031850            0.053887   \n",
       "13            Publix   34408   1351.0         25.997733            0.042438   \n",
       "\n",
       "             Category  Ventas/Tienda  \n",
       "5         Drug Stores       7.927443  \n",
       "19      Dollar Stores       1.665468  \n",
       "18            Grocery      12.074221  \n",
       "24       Supercenters      71.826840  \n",
       "16  Department Stores      29.277840  \n",
       "20      Dollar Stores       1.506246  \n",
       "17            Apparel       9.029603  \n",
       "2      Warehouse Club     181.915152  \n",
       "1             Grocery      29.264055  \n",
       "13            Grocery      25.468542  "
      ]
     },
     "execution_count": 17,
     "metadata": {},
     "output_type": "execute_result"
    }
   ],
   "source": [
    "df_crec = df.sort_values('Store Count Growth',ascending=False)[0:10]\n",
    "df_crec"
   ]
  },
  {
   "cell_type": "code",
   "execution_count": null,
   "metadata": {
    "cell_id": "3ed012c1-fd0b-445e-b9c5-abe0b934ef54",
    "deepnote_cell_type": "code",
    "deepnote_to_be_reexecuted": false,
    "execution_millis": 1331,
    "execution_start": 1645499306100,
    "source_hash": "5c673f99",
    "tags": []
   },
   "outputs": [
    {
     "data": {
      "text/plain": [
       "<function matplotlib.pyplot.show(close=None, block=None)>"
      ]
     },
     "execution_count": 18,
     "metadata": {},
     "output_type": "execute_result"
    },
    {
     "data": {
      "image/png": "[encoded data removed]",
      "text/plain": [
       "<Figure size 432x288 with 1 Axes>"
      ]
     },
     "metadata": {
      "image/png": {
       "height": 262,
       "width": 407
      },
      "needs_background": "light"
     },
     "output_type": "display_data"
    }
   ],
   "source": [
    "sns.scatterplot(data=df_crec,x='Store Count Growth',y='Sales',hue='Company')\n",
    "plt.xlabel('Store Count Growth')\n",
    "plt.ylabel('Sales')\n",
    "plt.show"
   ]
  },
  {
   "cell_type": "markdown",
   "metadata": {
    "cell_id": "ba700f5c-4668-427b-aefe-c3a20aec8bbf",
    "deepnote_cell_type": "text-cell-p",
    "is_collapsed": false,
    "tags": []
   },
   "source": [
    "Se observa que la tasa de crecimiento en tiendas no tiene una relación directa con las ventas por compañía, puesto que algunas compañías como CVS incl. Target tiene la tasa de crecimiento más alta y sus ventas son altas pero no son las mayores, al comparar con Kroger que tiene una tasa de crecimiento bajo pero grandes ventas. Pero por ejemplo, Dollar general, Aldi, Meijer, que están en los primeros puestos con tasas altas de crecimiento en tiendas, esto no se refleja en sus ventas, por lo tanto nuevamente se confirma que abrir muchas tiendas no necesariamente quiere decir que se tendrán muchas ventas"
   ]
  },
  {
   "cell_type": "markdown",
   "metadata": {
    "cell_id": "83e0e566-969d-4872-b32d-915ac945a370",
    "deepnote_cell_height": 62,
    "deepnote_cell_type": "markdown",
    "tags": []
   },
   "source": [
    "### 11. Tasa de crecimiento de tiendas en orden"
   ]
  },
  {
   "cell_type": "code",
   "execution_count": null,
   "metadata": {
    "cell_id": "04a6786e-fd39-4b41-b85c-0ecae003e4db",
    "deepnote_cell_height": 81,
    "deepnote_cell_type": "code",
    "deepnote_to_be_reexecuted": false,
    "execution_millis": 98,
    "execution_start": 1645499307527,
    "source_hash": "f9cb8df",
    "tags": []
   },
   "outputs": [
    {
     "data": {
      "application/vnd.deepnote.dataframe.v3+json": {
       "column_count": 7,
       "columns": [
        {
         "dtype": "object",
         "name": "Company",
         "stats": {
          "categories": [
           {
            "count": 1,
            "name": "CVS incl. Target"
           },
           {
            "count": 1,
            "name": "Dollar General"
           },
           {
            "count": 23,
            "name": "23 others"
           }
          ],
          "nan_count": 0,
          "unique_count": 25
         }
        },
        {
         "dtype": "int64",
         "name": "Sales",
         "stats": {
          "histogram": [
           {
            "bin_end": 80744.7,
            "bin_start": 16592,
            "count": 21
           },
           {
            "bin_end": 144897.4,
            "bin_start": 80744.7,
            "count": 3
           },
           {
            "bin_end": 209050.09999999998,
            "bin_start": 144897.4,
            "count": 0
           },
           {
            "bin_end": 273202.8,
            "bin_start": 209050.09999999998,
            "count": 0
           },
           {
            "bin_end": 337355.5,
            "bin_start": 273202.8,
            "count": 0
           },
           {
            "bin_end": 401508.19999999995,
            "bin_start": 337355.5,
            "count": 0
           },
           {
            "bin_end": 465660.89999999997,
            "bin_start": 401508.19999999995,
            "count": 0
           },
           {
            "bin_end": 529813.6,
            "bin_start": 465660.89999999997,
            "count": 0
           },
           {
            "bin_end": 593966.2999999999,
            "bin_start": 529813.6,
            "count": 0
           },
           {
            "bin_end": 658119,
            "bin_start": 593966.2999999999,
            "count": 1
           }
          ],
          "max": "658119",
          "min": "16592",
          "nan_count": 0,
          "unique_count": 25
         }
        },
        {
         "dtype": "float64",
         "name": "Stores",
         "stats": {
          "histogram": [
           {
            "bin_end": 1632.9,
            "bin_start": 231,
            "count": 10
           },
           {
            "bin_end": 3034.8,
            "bin_start": 1632.9,
            "count": 6
           },
           {
            "bin_end": 4436.700000000001,
            "bin_start": 3034.8,
            "count": 1
           },
           {
            "bin_end": 5838.6,
            "bin_start": 4436.700000000001,
            "count": 2
           },
           {
            "bin_end": 7240.5,
            "bin_start": 5838.6,
            "count": 0
           },
           {
            "bin_end": 8642.400000000001,
            "bin_start": 7240.5,
            "count": 1
           },
           {
            "bin_end": 10044.300000000001,
            "bin_start": 8642.400000000001,
            "count": 1
           },
           {
            "bin_end": 11446.2,
            "bin_start": 10044.300000000001,
            "count": 0
           },
           {
            "bin_end": 12848.1,
            "bin_start": 11446.2,
            "count": 0
           },
           {
            "bin_end": 14250,
            "bin_start": 12848.1,
            "count": 2
           }
          ],
          "max": "14250.0",
          "min": "231.0",
          "nan_count": 2,
          "unique_count": 23
         }
        },
        {
         "dtype": "float64",
         "name": "Sales/Avg. Store",
         "stats": {
          "histogram": [
           {
            "bin_end": 20.187088726,
            "bin_start": 1.56391854,
            "count": 9
           },
           {
            "bin_end": 38.810258912,
            "bin_start": 20.187088726,
            "count": 7
           },
           {
            "bin_end": 57.433429098000005,
            "bin_start": 38.810258912,
            "count": 2
           },
           {
            "bin_end": 76.056599284,
            "bin_start": 57.433429098000005,
            "count": 3
           },
           {
            "bin_end": 94.67976947,
            "bin_start": 76.056599284,
            "count": 1
           },
           {
            "bin_end": 113.302939656,
            "bin_start": 94.67976947,
            "count": 0
           },
           {
            "bin_end": 131.926109842,
            "bin_start": 113.302939656,
            "count": 0
           },
           {
            "bin_end": 150.549280028,
            "bin_start": 131.926109842,
            "count": 0
           },
           {
            "bin_end": 169.172450214,
            "bin_start": 150.549280028,
            "count": 0
           },
           {
            "bin_end": 187.7956204,
            "bin_start": 169.172450214,
            "count": 1
           }
          ],
          "max": "187.7956204",
          "min": "1.56391854",
          "nan_count": 2,
          "unique_count": 23
         }
        },
        {
         "dtype": "float64",
         "name": "Store Count Growth",
         "stats": {
          "histogram": [
           {
            "bin_end": -0.027997337395000002,
            "bin_start": -0.05951506245,
            "count": 3
           },
           {
            "bin_end": 0.003520387659999999,
            "bin_start": -0.027997337395000002,
            "count": 4
           },
           {
            "bin_end": 0.035038112715,
            "bin_start": 0.003520387659999999,
            "count": 6
           },
           {
            "bin_end": 0.06655583777,
            "bin_start": 0.035038112715,
            "count": 2
           },
           {
            "bin_end": 0.098073562825,
            "bin_start": 0.06655583777,
            "count": 5
           },
           {
            "bin_end": 0.12959128788000002,
            "bin_start": 0.098073562825,
            "count": 1
           },
           {
            "bin_end": 0.16110901293500002,
            "bin_start": 0.12959128788000002,
            "count": 1
           },
           {
            "bin_end": 0.19262673799000002,
            "bin_start": 0.16110901293500002,
            "count": 0
           },
           {
            "bin_end": 0.22414446304500002,
            "bin_start": 0.19262673799000002,
            "count": 0
           },
           {
            "bin_end": 0.2556621881,
            "bin_start": 0.22414446304500002,
            "count": 1
           }
          ],
          "max": "0.2556621881",
          "min": "-0.05951506245",
          "nan_count": 2,
          "unique_count": 23
         }
        },
        {
         "dtype": "object",
         "name": "Category",
         "stats": {
          "categories": [
           {
            "count": 7,
            "name": "Grocery"
           },
           {
            "count": 17,
            "name": "10 others"
           },
           {
            "count": 1,
            "name": "Missing"
           }
          ],
          "nan_count": 1,
          "unique_count": 11
         }
        },
        {
         "dtype": "float64",
         "name": "Ventas/Tienda",
         "stats": {
          "histogram": [
           {
            "bin_end": 19.547136204146728,
            "bin_start": 1.5062456140350877,
            "count": 9
           },
           {
            "bin_end": 37.58802679425837,
            "bin_start": 19.547136204146728,
            "count": 7
           },
           {
            "bin_end": 55.628917384370006,
            "bin_start": 37.58802679425837,
            "count": 2
           },
           {
            "bin_end": 73.66980797448166,
            "bin_start": 55.628917384370006,
            "count": 2
           },
           {
            "bin_end": 91.7106985645933,
            "bin_start": 73.66980797448166,
            "count": 1
           },
           {
            "bin_end": 109.75158915470493,
            "bin_start": 91.7106985645933,
            "count": 0
           },
           {
            "bin_end": 127.79247974481657,
            "bin_start": 109.75158915470493,
            "count": 0
           },
           {
            "bin_end": 145.83337033492822,
            "bin_start": 127.79247974481657,
            "count": 1
           },
           {
            "bin_end": 163.87426092503986,
            "bin_start": 145.83337033492822,
            "count": 0
           },
           {
            "bin_end": 181.9151515151515,
            "bin_start": 163.87426092503986,
            "count": 1
           }
          ],
          "max": "181.9151515151515",
          "min": "1.5062456140350877",
          "nan_count": 2,
          "unique_count": 23
         }
        },
        {
         "dtype": "int64",
         "name": "_deepnote_index_column"
        }
       ],
       "row_count": 25,
       "rows": [
        {
         "Category": "Drug Stores",
         "Company": "CVS incl. Target",
         "Sales": 77792,
         "Sales/Avg. Store": 8.825958702,
         "Store Count Growth": 0.2556621881,
         "Stores": 9813,
         "Ventas/Tienda": 7.927443187608275,
         "_deepnote_index_column": 5
        },
        {
         "Category": "Dollar Stores",
         "Company": "Dollar General",
         "Sales": 22234,
         "Sales/Avg. Store": 1.768884999,
         "Store Count Growth": 0.1324115701,
         "Stores": 13350,
         "Ventas/Tienda": 1.6654681647940075,
         "_deepnote_index_column": 19
        },
        {
         "Category": "Grocery",
         "Company": "Aldi",
         "Sales": 24402,
         "Sales/Avg. Store": 12.71599792,
         "Store Count Growth": 0.1122729774,
         "Stores": 2021,
         "Ventas/Tienda": 12.074220682830282,
         "_deepnote_index_column": 18
        },
        {
         "Category": "Supercenters",
         "Company": "Meijer",
         "Sales": 16592,
         "Sales/Avg. Store": 74.73873874,
         "Store Count Growth": 0.08450704225,
         "Stores": 231,
         "Ventas/Tienda": 71.82683982683983,
         "_deepnote_index_column": 24
        },
        {
         "Category": "Department Stores",
         "Company": "Macy's",
         "Sales": 26028,
         "Sales/Avg. Store": 30.44210526,
         "Store Count Growth": 0.08282582217,
         "Stores": 889,
         "Ventas/Tienda": 29.277840269966255,
         "_deepnote_index_column": 16
        },
        {
         "Category": "Dollar Stores",
         "Company": "Dollar Tree",
         "Sales": 21464,
         "Sales/Avg. Store": 1.56391854,
         "Store Count Growth": 0.07962724449,
         "Stores": 14250,
         "Ventas/Tienda": 1.5062456140350877,
         "_deepnote_index_column": 20
        },
        {
         "Category": "Apparel",
         "Company": "TJX",
         "Sales": 25012,
         "Sales/Avg. Store": 9.369544859,
         "Store Count Growth": 0.07824056053,
         "Stores": 2770,
         "Ventas/Tienda": 9.029602888086643,
         "_deepnote_index_column": 17
        },
        {
         "Category": "Warehouse Club",
         "Company": "Costco",
         "Sales": 90048,
         "Sales/Avg. Store": 187.7956204,
         "Store Count Growth": 0.06681034483,
         "Stores": 495,
         "Ventas/Tienda": 181.9151515151515,
         "_deepnote_index_column": 2
        },
        {
         "Category": "Grocery",
         "Company": "Kroger",
         "Sales": 115037,
         "Sales/Avg. Store": 30.03184963,
         "Store Count Growth": 0.05388739946,
         "Stores": 3931,
         "Ventas/Tienda": 29.26405494785042,
         "_deepnote_index_column": 1
        },
        {
         "Category": "Grocery",
         "Company": "Publix",
         "Sales": 34408,
         "Sales/Avg. Store": 25.99773328,
         "Store Count Growth": 0.0424382716,
         "Stores": 1351,
         "Ventas/Tienda": 25.468541820873426,
         "_deepnote_index_column": 13
        }
       ]
      },
      "text/html": [
       "<div>\n",
       "<style scoped>\n",
       "    .dataframe tbody tr th:only-of-type {\n",
       "        vertical-align: middle;\n",
       "    }\n",
       "\n",
       "    .dataframe tbody tr th {\n",
       "        vertical-align: top;\n",
       "    }\n",
       "\n",
       "    .dataframe thead th {\n",
       "        text-align: right;\n",
       "    }\n",
       "</style>\n",
       "<table border=\"1\" class=\"dataframe\">\n",
       "  <thead>\n",
       "    <tr style=\"text-align: right;\">\n",
       "      <th></th>\n",
       "      <th>Company</th>\n",
       "      <th>Sales</th>\n",
       "      <th>Stores</th>\n",
       "      <th>Sales/Avg. Store</th>\n",
       "      <th>Store Count Growth</th>\n",
       "      <th>Category</th>\n",
       "      <th>Ventas/Tienda</th>\n",
       "    </tr>\n",
       "  </thead>\n",
       "  <tbody>\n",
       "    <tr>\n",
       "      <th>5</th>\n",
       "      <td>CVS incl. Target</td>\n",
       "      <td>77792</td>\n",
       "      <td>9813.0</td>\n",
       "      <td>8.825959</td>\n",
       "      <td>0.255662</td>\n",
       "      <td>Drug Stores</td>\n",
       "      <td>7.927443</td>\n",
       "    </tr>\n",
       "    <tr>\n",
       "      <th>19</th>\n",
       "      <td>Dollar General</td>\n",
       "      <td>22234</td>\n",
       "      <td>13350.0</td>\n",
       "      <td>1.768885</td>\n",
       "      <td>0.132412</td>\n",
       "      <td>Dollar Stores</td>\n",
       "      <td>1.665468</td>\n",
       "    </tr>\n",
       "    <tr>\n",
       "      <th>18</th>\n",
       "      <td>Aldi</td>\n",
       "      <td>24402</td>\n",
       "      <td>2021.0</td>\n",
       "      <td>12.715998</td>\n",
       "      <td>0.112273</td>\n",
       "      <td>Grocery</td>\n",
       "      <td>12.074221</td>\n",
       "    </tr>\n",
       "    <tr>\n",
       "      <th>24</th>\n",
       "      <td>Meijer</td>\n",
       "      <td>16592</td>\n",
       "      <td>231.0</td>\n",
       "      <td>74.738739</td>\n",
       "      <td>0.084507</td>\n",
       "      <td>Supercenters</td>\n",
       "      <td>71.826840</td>\n",
       "    </tr>\n",
       "    <tr>\n",
       "      <th>16</th>\n",
       "      <td>Macy's</td>\n",
       "      <td>26028</td>\n",
       "      <td>889.0</td>\n",
       "      <td>30.442105</td>\n",
       "      <td>0.082826</td>\n",
       "      <td>Department Stores</td>\n",
       "      <td>29.277840</td>\n",
       "    </tr>\n",
       "    <tr>\n",
       "      <th>20</th>\n",
       "      <td>Dollar Tree</td>\n",
       "      <td>21464</td>\n",
       "      <td>14250.0</td>\n",
       "      <td>1.563919</td>\n",
       "      <td>0.079627</td>\n",
       "      <td>Dollar Stores</td>\n",
       "      <td>1.506246</td>\n",
       "    </tr>\n",
       "    <tr>\n",
       "      <th>17</th>\n",
       "      <td>TJX</td>\n",
       "      <td>25012</td>\n",
       "      <td>2770.0</td>\n",
       "      <td>9.369545</td>\n",
       "      <td>0.078241</td>\n",
       "      <td>Apparel</td>\n",
       "      <td>9.029603</td>\n",
       "    </tr>\n",
       "    <tr>\n",
       "      <th>2</th>\n",
       "      <td>Costco</td>\n",
       "      <td>90048</td>\n",
       "      <td>495.0</td>\n",
       "      <td>187.795620</td>\n",
       "      <td>0.066810</td>\n",
       "      <td>Warehouse Club</td>\n",
       "      <td>181.915152</td>\n",
       "    </tr>\n",
       "    <tr>\n",
       "      <th>1</th>\n",
       "      <td>Kroger</td>\n",
       "      <td>115037</td>\n",
       "      <td>3931.0</td>\n",
       "      <td>30.031850</td>\n",
       "      <td>0.053887</td>\n",
       "      <td>Grocery</td>\n",
       "      <td>29.264055</td>\n",
       "    </tr>\n",
       "    <tr>\n",
       "      <th>13</th>\n",
       "      <td>Publix</td>\n",
       "      <td>34408</td>\n",
       "      <td>1351.0</td>\n",
       "      <td>25.997733</td>\n",
       "      <td>0.042438</td>\n",
       "      <td>Grocery</td>\n",
       "      <td>25.468542</td>\n",
       "    </tr>\n",
       "    <tr>\n",
       "      <th>15</th>\n",
       "      <td>Ahold</td>\n",
       "      <td>26903</td>\n",
       "      <td>794.0</td>\n",
       "      <td>34.446863</td>\n",
       "      <td>0.033854</td>\n",
       "      <td>Grocery</td>\n",
       "      <td>33.882872</td>\n",
       "    </tr>\n",
       "    <tr>\n",
       "      <th>8</th>\n",
       "      <td>Lowe's</td>\n",
       "      <td>60311</td>\n",
       "      <td>1828.0</td>\n",
       "      <td>33.311792</td>\n",
       "      <td>0.019520</td>\n",
       "      <td>Home Improvement</td>\n",
       "      <td>32.992888</td>\n",
       "    </tr>\n",
       "    <tr>\n",
       "      <th>21</th>\n",
       "      <td>HEB</td>\n",
       "      <td>21384</td>\n",
       "      <td>323.0</td>\n",
       "      <td>66.825000</td>\n",
       "      <td>0.018927</td>\n",
       "      <td>Grocery</td>\n",
       "      <td>66.204334</td>\n",
       "    </tr>\n",
       "    <tr>\n",
       "      <th>0</th>\n",
       "      <td>Walmart US</td>\n",
       "      <td>658119</td>\n",
       "      <td>4574.0</td>\n",
       "      <td>65.649725</td>\n",
       "      <td>0.012843</td>\n",
       "      <td>Supercenters</td>\n",
       "      <td>143.882597</td>\n",
       "    </tr>\n",
       "    <tr>\n",
       "      <th>10</th>\n",
       "      <td>Sam's Club</td>\n",
       "      <td>56828</td>\n",
       "      <td>655.0</td>\n",
       "      <td>87.293395</td>\n",
       "      <td>0.012365</td>\n",
       "      <td>Warehouse Clubs</td>\n",
       "      <td>86.760305</td>\n",
       "    </tr>\n",
       "    <tr>\n",
       "      <th>22</th>\n",
       "      <td>Kohl's</td>\n",
       "      <td>19060</td>\n",
       "      <td>1169.0</td>\n",
       "      <td>16.353496</td>\n",
       "      <td>0.006024</td>\n",
       "      <td>Department Stores</td>\n",
       "      <td>16.304534</td>\n",
       "    </tr>\n",
       "    <tr>\n",
       "      <th>3</th>\n",
       "      <td>Home Depot</td>\n",
       "      <td>83976</td>\n",
       "      <td>1965.0</td>\n",
       "      <td>42.735878</td>\n",
       "      <td>0.000000</td>\n",
       "      <td>Home Improvement</td>\n",
       "      <td>42.735878</td>\n",
       "    </tr>\n",
       "    <tr>\n",
       "      <th>14</th>\n",
       "      <td>Rite Aid</td>\n",
       "      <td>27486</td>\n",
       "      <td>4553.0</td>\n",
       "      <td>6.025649</td>\n",
       "      <td>-0.003720</td>\n",
       "      <td>Drug Stores</td>\n",
       "      <td>6.036899</td>\n",
       "    </tr>\n",
       "    <tr>\n",
       "      <th>7</th>\n",
       "      <td>Target</td>\n",
       "      <td>71208</td>\n",
       "      <td>1772.0</td>\n",
       "      <td>39.982033</td>\n",
       "      <td>-0.010056</td>\n",
       "      <td>Supercenters</td>\n",
       "      <td>40.185102</td>\n",
       "    </tr>\n",
       "    <tr>\n",
       "      <th>4</th>\n",
       "      <td>Walgreen Boots</td>\n",
       "      <td>78924</td>\n",
       "      <td>8002.0</td>\n",
       "      <td>9.810927</td>\n",
       "      <td>-0.010511</td>\n",
       "      <td>Drug Stores</td>\n",
       "      <td>9.863034</td>\n",
       "    </tr>\n",
       "    <tr>\n",
       "      <th>12</th>\n",
       "      <td>Best Buy</td>\n",
       "      <td>34980</td>\n",
       "      <td>1389.0</td>\n",
       "      <td>24.685956</td>\n",
       "      <td>-0.038754</td>\n",
       "      <td>Electronics</td>\n",
       "      <td>25.183585</td>\n",
       "    </tr>\n",
       "    <tr>\n",
       "      <th>9</th>\n",
       "      <td>Albertsons</td>\n",
       "      <td>56829</td>\n",
       "      <td>2326.0</td>\n",
       "      <td>23.877731</td>\n",
       "      <td>-0.044371</td>\n",
       "      <td>Grocery</td>\n",
       "      <td>24.432072</td>\n",
       "    </tr>\n",
       "    <tr>\n",
       "      <th>23</th>\n",
       "      <td>Delhaize</td>\n",
       "      <td>18201</td>\n",
       "      <td>1280.0</td>\n",
       "      <td>13.783415</td>\n",
       "      <td>-0.059515</td>\n",
       "      <td>Grocery</td>\n",
       "      <td>14.219531</td>\n",
       "    </tr>\n",
       "    <tr>\n",
       "      <th>6</th>\n",
       "      <td>Amazon</td>\n",
       "      <td>71687</td>\n",
       "      <td>NaN</td>\n",
       "      <td>NaN</td>\n",
       "      <td>NaN</td>\n",
       "      <td>Electronic/Mail Order</td>\n",
       "      <td>NaN</td>\n",
       "    </tr>\n",
       "    <tr>\n",
       "      <th>11</th>\n",
       "      <td>Apple incl. Online</td>\n",
       "      <td>37664</td>\n",
       "      <td>NaN</td>\n",
       "      <td>NaN</td>\n",
       "      <td>NaN</td>\n",
       "      <td>NaN</td>\n",
       "      <td>NaN</td>\n",
       "    </tr>\n",
       "  </tbody>\n",
       "</table>\n",
       "</div>"
      ],
      "text/plain": [
       "               Company   Sales   Stores  Sales/Avg. Store  Store Count Growth  \\\n",
       "5     CVS incl. Target   77792   9813.0          8.825959            0.255662   \n",
       "19      Dollar General   22234  13350.0          1.768885            0.132412   \n",
       "18                Aldi   24402   2021.0         12.715998            0.112273   \n",
       "24              Meijer   16592    231.0         74.738739            0.084507   \n",
       "16              Macy's   26028    889.0         30.442105            0.082826   \n",
       "20         Dollar Tree   21464  14250.0          1.563919            0.079627   \n",
       "17                 TJX   25012   2770.0          9.369545            0.078241   \n",
       "2               Costco   90048    495.0        187.795620            0.066810   \n",
       "1               Kroger  115037   3931.0         30.031850            0.053887   \n",
       "13              Publix   34408   1351.0         25.997733            0.042438   \n",
       "15               Ahold   26903    794.0         34.446863            0.033854   \n",
       "8               Lowe's   60311   1828.0         33.311792            0.019520   \n",
       "21                 HEB   21384    323.0         66.825000            0.018927   \n",
       "0           Walmart US  658119   4574.0         65.649725            0.012843   \n",
       "10          Sam's Club   56828    655.0         87.293395            0.012365   \n",
       "22              Kohl's   19060   1169.0         16.353496            0.006024   \n",
       "3           Home Depot   83976   1965.0         42.735878            0.000000   \n",
       "14            Rite Aid   27486   4553.0          6.025649           -0.003720   \n",
       "7               Target   71208   1772.0         39.982033           -0.010056   \n",
       "4       Walgreen Boots   78924   8002.0          9.810927           -0.010511   \n",
       "12            Best Buy   34980   1389.0         24.685956           -0.038754   \n",
       "9           Albertsons   56829   2326.0         23.877731           -0.044371   \n",
       "23            Delhaize   18201   1280.0         13.783415           -0.059515   \n",
       "6               Amazon   71687      NaN               NaN                 NaN   \n",
       "11  Apple incl. Online   37664      NaN               NaN                 NaN   \n",
       "\n",
       "                 Category  Ventas/Tienda  \n",
       "5             Drug Stores       7.927443  \n",
       "19          Dollar Stores       1.665468  \n",
       "18                Grocery      12.074221  \n",
       "24           Supercenters      71.826840  \n",
       "16      Department Stores      29.277840  \n",
       "20          Dollar Stores       1.506246  \n",
       "17                Apparel       9.029603  \n",
       "2          Warehouse Club     181.915152  \n",
       "1                 Grocery      29.264055  \n",
       "13                Grocery      25.468542  \n",
       "15                Grocery      33.882872  \n",
       "8        Home Improvement      32.992888  \n",
       "21                Grocery      66.204334  \n",
       "0            Supercenters     143.882597  \n",
       "10        Warehouse Clubs      86.760305  \n",
       "22      Department Stores      16.304534  \n",
       "3        Home Improvement      42.735878  \n",
       "14            Drug Stores       6.036899  \n",
       "7            Supercenters      40.185102  \n",
       "4             Drug Stores       9.863034  \n",
       "12            Electronics      25.183585  \n",
       "9                 Grocery      24.432072  \n",
       "23                Grocery      14.219531  \n",
       "6   Electronic/Mail Order            NaN  \n",
       "11                    NaN            NaN  "
      ]
     },
     "execution_count": 19,
     "metadata": {},
     "output_type": "execute_result"
    }
   ],
   "source": [
    "df_crec1 = df.sort_values('Store Count Growth',ascending=False)\n",
    "df_crec1"
   ]
  },
  {
   "cell_type": "code",
   "execution_count": null,
   "metadata": {
    "cell_id": "cf46a3aa-ae64-47be-bddb-b9011f4a0796",
    "deepnote_cell_type": "code",
    "deepnote_to_be_reexecuted": false,
    "execution_millis": 685,
    "execution_start": 1645499307731,
    "source_hash": "7689fcdb",
    "tags": []
   },
   "outputs": [
    {
     "data": {
      "text/plain": [
       "<function matplotlib.pyplot.show(close=None, block=None)>"
      ]
     },
     "execution_count": 20,
     "metadata": {},
     "output_type": "execute_result"
    },
    {
     "data": {
      "image/png": "[encoded data removed]",
      "text/plain": [
       "<Figure size 432x288 with 1 Axes>"
      ]
     },
     "metadata": {
      "image/png": {
       "height": 317,
       "width": 386
      },
      "needs_background": "light"
     },
     "output_type": "display_data"
    }
   ],
   "source": [
    "plt.bar(df_crec1['Company'],df_crec1['Store Count Growth'])\n",
    "plt.xticks(rotation=90)\n",
    "plt.show"
   ]
  },
  {
   "cell_type": "markdown",
   "metadata": {
    "cell_id": "fd1611c7-6cb4-449c-8178-d993f6a4b5bb",
    "deepnote_cell_type": "text-cell-p",
    "is_collapsed": false,
    "tags": []
   },
   "source": [
    "Se observa cuales son las compañías que mas están abriendo tiendas, y también se puede ver cuales están cerrando (las que tienen una tasa negativa). De ahí podríamos inferir cuales a futuro pueden tener más puntos y esperan crecer sus ventas."
   ]
  },
  {
   "cell_type": "markdown",
   "metadata": {
    "cell_id": "d5a17c31-5e8f-4d67-9679-c5705053de69",
    "deepnote_cell_height": 62,
    "deepnote_cell_type": "markdown",
    "tags": []
   },
   "source": [
    "### 12. Top 5 de las tiendas que más venden en promedio por tienda fisica"
   ]
  },
  {
   "cell_type": "code",
   "execution_count": null,
   "metadata": {
    "cell_id": "b168ad4f-adf7-4f82-9126-461a1fc64b84",
    "deepnote_cell_height": 81,
    "deepnote_cell_type": "code",
    "deepnote_table_loading": false,
    "deepnote_table_state": {
     "filters": [],
     "pageIndex": 0,
     "pageSize": 10,
     "sortBy": []
    },
    "deepnote_to_be_reexecuted": false,
    "execution_millis": 113,
    "execution_start": 1645499308421,
    "source_hash": "d3f66696",
    "tags": []
   },
   "outputs": [
    {
     "data": {
      "application/vnd.deepnote.dataframe.v3+json": {
       "column_count": 7,
       "columns": [
        {
         "dtype": "object",
         "name": "Company",
         "stats": {
          "categories": [
           {
            "count": 1,
            "name": "Costco"
           },
           {
            "count": 1,
            "name": "Sam's Club"
           },
           {
            "count": 3,
            "name": "3 others"
           }
          ],
          "nan_count": 0,
          "unique_count": 5
         }
        },
        {
         "dtype": "int64",
         "name": "Sales",
         "stats": {
          "histogram": [
           {
            "bin_end": 80744.7,
            "bin_start": 16592,
            "count": 3
           },
           {
            "bin_end": 144897.4,
            "bin_start": 80744.7,
            "count": 1
           },
           {
            "bin_end": 209050.09999999998,
            "bin_start": 144897.4,
            "count": 0
           },
           {
            "bin_end": 273202.8,
            "bin_start": 209050.09999999998,
            "count": 0
           },
           {
            "bin_end": 337355.5,
            "bin_start": 273202.8,
            "count": 0
           },
           {
            "bin_end": 401508.19999999995,
            "bin_start": 337355.5,
            "count": 0
           },
           {
            "bin_end": 465660.89999999997,
            "bin_start": 401508.19999999995,
            "count": 0
           },
           {
            "bin_end": 529813.6,
            "bin_start": 465660.89999999997,
            "count": 0
           },
           {
            "bin_end": 593966.2999999999,
            "bin_start": 529813.6,
            "count": 0
           },
           {
            "bin_end": 658119,
            "bin_start": 593966.2999999999,
            "count": 1
           }
          ],
          "max": "658119",
          "min": "16592",
          "nan_count": 0,
          "unique_count": 5
         }
        },
        {
         "dtype": "float64",
         "name": "Stores",
         "stats": {
          "histogram": [
           {
            "bin_end": 665.3,
            "bin_start": 231,
            "count": 4
           },
           {
            "bin_end": 1099.6,
            "bin_start": 665.3,
            "count": 0
           },
           {
            "bin_end": 1533.9,
            "bin_start": 1099.6,
            "count": 0
           },
           {
            "bin_end": 1968.2,
            "bin_start": 1533.9,
            "count": 0
           },
           {
            "bin_end": 2402.5,
            "bin_start": 1968.2,
            "count": 0
           },
           {
            "bin_end": 2836.8,
            "bin_start": 2402.5,
            "count": 0
           },
           {
            "bin_end": 3271.1,
            "bin_start": 2836.8,
            "count": 0
           },
           {
            "bin_end": 3705.4,
            "bin_start": 3271.1,
            "count": 0
           },
           {
            "bin_end": 4139.700000000001,
            "bin_start": 3705.4,
            "count": 0
           },
           {
            "bin_end": 4574,
            "bin_start": 4139.700000000001,
            "count": 1
           }
          ],
          "max": "4574.0",
          "min": "231.0",
          "nan_count": 0,
          "unique_count": 5
         }
        },
        {
         "dtype": "float64",
         "name": "Sales/Avg. Store",
         "stats": {
          "histogram": [
           {
            "bin_end": 77.864314513,
            "bin_start": 65.64972497,
            "count": 3
           },
           {
            "bin_end": 90.078904056,
            "bin_start": 77.864314513,
            "count": 1
           },
           {
            "bin_end": 102.29349359899999,
            "bin_start": 90.078904056,
            "count": 0
           },
           {
            "bin_end": 114.50808314199999,
            "bin_start": 102.29349359899999,
            "count": 0
           },
           {
            "bin_end": 126.72267268499999,
            "bin_start": 114.50808314199999,
            "count": 0
           },
           {
            "bin_end": 138.93726222799998,
            "bin_start": 126.72267268499999,
            "count": 0
           },
           {
            "bin_end": 151.151851771,
            "bin_start": 138.93726222799998,
            "count": 0
           },
           {
            "bin_end": 163.36644131399999,
            "bin_start": 151.151851771,
            "count": 0
           },
           {
            "bin_end": 175.58103085699997,
            "bin_start": 163.36644131399999,
            "count": 0
           },
           {
            "bin_end": 187.7956204,
            "bin_start": 175.58103085699997,
            "count": 1
           }
          ],
          "max": "187.7956204",
          "min": "65.64972497",
          "nan_count": 0,
          "unique_count": 5
         }
        },
        {
         "dtype": "float64",
         "name": "Store Count Growth",
         "stats": {
          "histogram": [
           {
            "bin_end": 0.019578988611999998,
            "bin_start": 0.01236476043,
            "count": 3
           },
           {
            "bin_end": 0.026793216794,
            "bin_start": 0.019578988611999998,
            "count": 0
           },
           {
            "bin_end": 0.034007444976,
            "bin_start": 0.026793216794,
            "count": 0
           },
           {
            "bin_end": 0.041221673158,
            "bin_start": 0.034007444976,
            "count": 0
           },
           {
            "bin_end": 0.048435901340000004,
            "bin_start": 0.041221673158,
            "count": 0
           },
           {
            "bin_end": 0.05565012952199999,
            "bin_start": 0.048435901340000004,
            "count": 0
           },
           {
            "bin_end": 0.06286435770399999,
            "bin_start": 0.05565012952199999,
            "count": 0
           },
           {
            "bin_end": 0.070078585886,
            "bin_start": 0.06286435770399999,
            "count": 1
           },
           {
            "bin_end": 0.077292814068,
            "bin_start": 0.070078585886,
            "count": 0
           },
           {
            "bin_end": 0.08450704225,
            "bin_start": 0.077292814068,
            "count": 1
           }
          ],
          "max": "0.08450704225",
          "min": "0.01236476043",
          "nan_count": 0,
          "unique_count": 5
         }
        },
        {
         "dtype": "object",
         "name": "Category",
         "stats": {
          "categories": [
           {
            "count": 2,
            "name": "Supercenters"
           },
           {
            "count": 1,
            "name": "Warehouse Club"
           },
           {
            "count": 2,
            "name": "2 others"
           }
          ],
          "nan_count": 0,
          "unique_count": 4
         }
        },
        {
         "dtype": "float64",
         "name": "Ventas/Tienda",
         "stats": {
          "histogram": [
           {
            "bin_end": 77.77541608030772,
            "bin_start": 66.20433436532508,
            "count": 2
           },
           {
            "bin_end": 89.34649779529036,
            "bin_start": 77.77541608030772,
            "count": 1
           },
           {
            "bin_end": 100.91757951027301,
            "bin_start": 89.34649779529036,
            "count": 0
           },
           {
            "bin_end": 112.48866122525565,
            "bin_start": 100.91757951027301,
            "count": 0
           },
           {
            "bin_end": 124.0597429402383,
            "bin_start": 112.48866122525565,
            "count": 0
           },
           {
            "bin_end": 135.63082465522095,
            "bin_start": 124.0597429402383,
            "count": 0
           },
           {
            "bin_end": 147.20190637020357,
            "bin_start": 135.63082465522095,
            "count": 1
           },
           {
            "bin_end": 158.77298808518623,
            "bin_start": 147.20190637020357,
            "count": 0
           },
           {
            "bin_end": 170.34406980016888,
            "bin_start": 158.77298808518623,
            "count": 0
           },
           {
            "bin_end": 181.9151515151515,
            "bin_start": 170.34406980016888,
            "count": 1
           }
          ],
          "max": "181.9151515151515",
          "min": "66.20433436532508",
          "nan_count": 0,
          "unique_count": 5
         }
        },
        {
         "dtype": "int64",
         "name": "_deepnote_index_column"
        }
       ],
       "row_count": 5,
       "rows": [
        {
         "Category": "Warehouse Club",
         "Company": "Costco",
         "Sales": 90048,
         "Sales/Avg. Store": 187.7956204,
         "Store Count Growth": 0.06681034483,
         "Stores": 495,
         "Ventas/Tienda": 181.9151515151515,
         "_deepnote_index_column": 2
        },
        {
         "Category": "Warehouse Clubs",
         "Company": "Sam's Club",
         "Sales": 56828,
         "Sales/Avg. Store": 87.29339478,
         "Store Count Growth": 0.01236476043,
         "Stores": 655,
         "Ventas/Tienda": 86.76030534351145,
         "_deepnote_index_column": 10
        },
        {
         "Category": "Supercenters",
         "Company": "Meijer",
         "Sales": 16592,
         "Sales/Avg. Store": 74.73873874,
         "Store Count Growth": 0.08450704225,
         "Stores": 231,
         "Ventas/Tienda": 71.82683982683983,
         "_deepnote_index_column": 24
        },
        {
         "Category": "Grocery",
         "Company": "HEB",
         "Sales": 21384,
         "Sales/Avg. Store": 66.825,
         "Store Count Growth": 0.01892744479,
         "Stores": 323,
         "Ventas/Tienda": 66.20433436532508,
         "_deepnote_index_column": 21
        },
        {
         "Category": "Supercenters",
         "Company": "Walmart US",
         "Sales": 658119,
         "Sales/Avg. Store": 65.64972497,
         "Store Count Growth": 0.01284322409,
         "Stores": 4574,
         "Ventas/Tienda": 143.88259728902491,
         "_deepnote_index_column": 0
        }
       ]
      },
      "text/html": [
       "<div>\n",
       "<style scoped>\n",
       "    .dataframe tbody tr th:only-of-type {\n",
       "        vertical-align: middle;\n",
       "    }\n",
       "\n",
       "    .dataframe tbody tr th {\n",
       "        vertical-align: top;\n",
       "    }\n",
       "\n",
       "    .dataframe thead th {\n",
       "        text-align: right;\n",
       "    }\n",
       "</style>\n",
       "<table border=\"1\" class=\"dataframe\">\n",
       "  <thead>\n",
       "    <tr style=\"text-align: right;\">\n",
       "      <th></th>\n",
       "      <th>Company</th>\n",
       "      <th>Sales</th>\n",
       "      <th>Stores</th>\n",
       "      <th>Sales/Avg. Store</th>\n",
       "      <th>Store Count Growth</th>\n",
       "      <th>Category</th>\n",
       "      <th>Ventas/Tienda</th>\n",
       "    </tr>\n",
       "  </thead>\n",
       "  <tbody>\n",
       "    <tr>\n",
       "      <th>2</th>\n",
       "      <td>Costco</td>\n",
       "      <td>90048</td>\n",
       "      <td>495.0</td>\n",
       "      <td>187.795620</td>\n",
       "      <td>0.066810</td>\n",
       "      <td>Warehouse Club</td>\n",
       "      <td>181.915152</td>\n",
       "    </tr>\n",
       "    <tr>\n",
       "      <th>10</th>\n",
       "      <td>Sam's Club</td>\n",
       "      <td>56828</td>\n",
       "      <td>655.0</td>\n",
       "      <td>87.293395</td>\n",
       "      <td>0.012365</td>\n",
       "      <td>Warehouse Clubs</td>\n",
       "      <td>86.760305</td>\n",
       "    </tr>\n",
       "    <tr>\n",
       "      <th>24</th>\n",
       "      <td>Meijer</td>\n",
       "      <td>16592</td>\n",
       "      <td>231.0</td>\n",
       "      <td>74.738739</td>\n",
       "      <td>0.084507</td>\n",
       "      <td>Supercenters</td>\n",
       "      <td>71.826840</td>\n",
       "    </tr>\n",
       "    <tr>\n",
       "      <th>21</th>\n",
       "      <td>HEB</td>\n",
       "      <td>21384</td>\n",
       "      <td>323.0</td>\n",
       "      <td>66.825000</td>\n",
       "      <td>0.018927</td>\n",
       "      <td>Grocery</td>\n",
       "      <td>66.204334</td>\n",
       "    </tr>\n",
       "    <tr>\n",
       "      <th>0</th>\n",
       "      <td>Walmart US</td>\n",
       "      <td>658119</td>\n",
       "      <td>4574.0</td>\n",
       "      <td>65.649725</td>\n",
       "      <td>0.012843</td>\n",
       "      <td>Supercenters</td>\n",
       "      <td>143.882597</td>\n",
       "    </tr>\n",
       "  </tbody>\n",
       "</table>\n",
       "</div>"
      ],
      "text/plain": [
       "       Company   Sales  Stores  Sales/Avg. Store  Store Count Growth  \\\n",
       "2       Costco   90048   495.0        187.795620            0.066810   \n",
       "10  Sam's Club   56828   655.0         87.293395            0.012365   \n",
       "24      Meijer   16592   231.0         74.738739            0.084507   \n",
       "21         HEB   21384   323.0         66.825000            0.018927   \n",
       "0   Walmart US  658119  4574.0         65.649725            0.012843   \n",
       "\n",
       "           Category  Ventas/Tienda  \n",
       "2    Warehouse Club     181.915152  \n",
       "10  Warehouse Clubs      86.760305  \n",
       "24     Supercenters      71.826840  \n",
       "21          Grocery      66.204334  \n",
       "0      Supercenters     143.882597  "
      ]
     },
     "execution_count": 21,
     "metadata": {},
     "output_type": "execute_result"
    }
   ],
   "source": [
    "df_crec2 = df.sort_values('Sales/Avg. Store',ascending=False)[0:5]\n",
    "df_crec2"
   ]
  },
  {
   "cell_type": "code",
   "execution_count": null,
   "metadata": {
    "cell_id": "e2b6a564-17ef-4412-8b67-b72d34c9f43d",
    "deepnote_cell_type": "code",
    "deepnote_to_be_reexecuted": false,
    "execution_millis": 309,
    "execution_start": 1645499308568,
    "source_hash": "575c73f0",
    "tags": []
   },
   "outputs": [
    {
     "data": {
      "text/plain": [
       "<function matplotlib.pyplot.show(close=None, block=None)>"
      ]
     },
     "execution_count": 22,
     "metadata": {},
     "output_type": "execute_result"
    },
    {
     "data": {
      "image/png": "[encoded data removed]",
      "text/plain": [
       "<Figure size 432x288 with 1 Axes>"
      ]
     },
     "metadata": {
      "image/png": {
       "height": 248,
       "width": 375
      },
      "needs_background": "light"
     },
     "output_type": "display_data"
    }
   ],
   "source": [
    "plt.bar(df_crec2['Company'],df_crec2['Sales/Avg. Store'])\n",
    "plt.show"
   ]
  },
  {
   "cell_type": "markdown",
   "metadata": {
    "cell_id": "280b3e99-44b4-42df-a774-10c1ee2048a0",
    "deepnote_cell_type": "text-cell-p",
    "is_collapsed": false,
    "tags": []
   },
   "source": [
    "Se observa que Costco, es la tienda que en promedio más vende por tienda física, seguida por Sams´s, Meijer, Heb, y Walmart. Se podría entender como una tienda más eficiente al tener en cuenta que sus tiendas son las que más venden en promedio y coincide con lo encontrado anteriormente."
   ]
  }
 ],
 "metadata": {
  "deepnote": {
   "is_reactive": false
  },
  "deepnote_execution_queue": [],
  "deepnote_notebook_id": "85b76ea9-ace4-4c85-8b21-59120be91703",
  "language_info": {
   "name": "python"
  },
  "orig_nbformat": 2
 },
 "nbformat": 4,
 "nbformat_minor": 2
}
